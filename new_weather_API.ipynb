{
 "cells": [
  {
   "cell_type": "code",
   "execution_count": 1,
   "metadata": {
    "vscode": {
     "languageId": "r"
    }
   },
   "outputs": [
    {
     "name": "stderr",
     "output_type": "stream",
     "text": [
      "── \u001b[1mAttaching packages\u001b[22m ─────────────────────────────────────── tidyverse 1.3.2 ──\n",
      "\u001b[32m✔\u001b[39m \u001b[34mggplot2\u001b[39m 3.3.6     \u001b[32m✔\u001b[39m \u001b[34mpurrr  \u001b[39m 0.3.4\n",
      "\u001b[32m✔\u001b[39m \u001b[34mtibble \u001b[39m 3.1.8     \u001b[32m✔\u001b[39m \u001b[34mdplyr  \u001b[39m 1.0.9\n",
      "\u001b[32m✔\u001b[39m \u001b[34mtidyr  \u001b[39m 1.2.0     \u001b[32m✔\u001b[39m \u001b[34mstringr\u001b[39m 1.4.1\n",
      "\u001b[32m✔\u001b[39m \u001b[34mreadr  \u001b[39m 2.1.2     \u001b[32m✔\u001b[39m \u001b[34mforcats\u001b[39m 0.5.1\n",
      "── \u001b[1mConflicts\u001b[22m ────────────────────────────────────────── tidyverse_conflicts() ──\n",
      "\u001b[31m✖\u001b[39m \u001b[34mdplyr\u001b[39m::\u001b[32mfilter()\u001b[39m         masks \u001b[34mstats\u001b[39m::filter()\n",
      "\u001b[31m✖\u001b[39m \u001b[34mreadr\u001b[39m::\u001b[32mguess_encoding()\u001b[39m masks \u001b[34mrvest\u001b[39m::guess_encoding()\n",
      "\u001b[31m✖\u001b[39m \u001b[34mdplyr\u001b[39m::\u001b[32mlag()\u001b[39m            masks \u001b[34mstats\u001b[39m::lag()\n",
      "\n",
      "Attaching package: ‘magrittr’\n",
      "\n",
      "\n",
      "The following object is masked from ‘package:purrr’:\n",
      "\n",
      "    set_names\n",
      "\n",
      "\n",
      "The following object is masked from ‘package:tidyr’:\n",
      "\n",
      "    extract\n",
      "\n",
      "\n"
     ]
    }
   ],
   "source": [
    "# install.packages(\"rvest\")\n",
    "# remotes::install_github(\"dmi3kno/polite\")(\"politer\")\n",
    "# install.packages(\"xml2\")\n",
    "library(rvest) # rvest makes scraping easier\n",
    "library(polite) # polite is the \"polite\" version of rvest\n",
    "library(xml2) # makes it easier to work with HTML and XML from R\n",
    "\n",
    "\n",
    "library(tidyverse)\n",
    "library(magrittr)\n",
    "library(purrr) \n",
    "library(glue) \n",
    "library(stringr) "
   ]
  },
  {
   "cell_type": "markdown",
   "metadata": {},
   "source": [
    "## Use API"
   ]
  },
  {
   "cell_type": "markdown",
   "metadata": {},
   "source": [
    "To get the weather history data we use api from this website https://www.visualcrossing.com/ . The api from that website allow us to get various kind of information about the weather in specific city and in certain range of time. However in our case we only interested about weather history from a week ago to the current date."
   ]
  },
  {
   "cell_type": "code",
   "execution_count": 2,
   "metadata": {
    "vscode": {
     "languageId": "r"
    }
   },
   "outputs": [
    {
     "name": "stderr",
     "output_type": "stream",
     "text": [
      "\n",
      "Attaching package: ‘jsonlite’\n",
      "\n",
      "\n",
      "The following object is masked from ‘package:purrr’:\n",
      "\n",
      "    flatten\n",
      "\n",
      "\n"
     ]
    }
   ],
   "source": [
    "#first we load the httr library so that we can fetch the response from an api\n",
    "library(httr)\n",
    "library(jsonlite)"
   ]
  },
  {
   "cell_type": "code",
   "execution_count": 3,
   "metadata": {
    "vscode": {
     "languageId": "r"
    }
   },
   "outputs": [
    {
     "data": {
      "text/html": [
       "<table class=\"dataframe\">\n",
       "<caption>A tibble: 7 × 6</caption>\n",
       "<thead>\n",
       "\t<tr><th scope=col>Date</th><th scope=col>Temperature</th><th scope=col>WindSpeed</th><th scope=col>Humidity</th><th scope=col>Conditions</th><th scope=col>Location</th></tr>\n",
       "\t<tr><th scope=col>&lt;chr&gt;</th><th scope=col>&lt;dbl&gt;</th><th scope=col>&lt;dbl&gt;</th><th scope=col>&lt;dbl&gt;</th><th scope=col>&lt;chr&gt;</th><th scope=col>&lt;chr&gt;</th></tr>\n",
       "</thead>\n",
       "<tbody>\n",
       "\t<tr><td>2022-10-20</td><td>11.8</td><td>38.0</td><td>61.4</td><td>Clear                 </td><td>Christchurch</td></tr>\n",
       "\t<tr><td>2022-10-21</td><td> 9.6</td><td>38.4</td><td>56.7</td><td>Rain, Partially cloudy</td><td>Christchurch</td></tr>\n",
       "\t<tr><td>2022-10-22</td><td> 7.4</td><td>22.3</td><td>73.7</td><td>Clear                 </td><td>Christchurch</td></tr>\n",
       "\t<tr><td>2022-10-23</td><td>15.7</td><td>29.5</td><td>61.9</td><td>Clear                 </td><td>Christchurch</td></tr>\n",
       "\t<tr><td>2022-10-24</td><td>12.0</td><td>51.8</td><td>62.9</td><td>Rain, Partially cloudy</td><td>Christchurch</td></tr>\n",
       "\t<tr><td>2022-10-25</td><td> 8.5</td><td>29.5</td><td>75.3</td><td>Rain, Partially cloudy</td><td>Christchurch</td></tr>\n",
       "\t<tr><td>2022-10-26</td><td>11.6</td><td>15.5</td><td>77.7</td><td>Partially cloudy      </td><td>Christchurch</td></tr>\n",
       "</tbody>\n",
       "</table>\n"
      ],
      "text/latex": [
       "A tibble: 7 × 6\n",
       "\\begin{tabular}{llllll}\n",
       " Date & Temperature & WindSpeed & Humidity & Conditions & Location\\\\\n",
       " <chr> & <dbl> & <dbl> & <dbl> & <chr> & <chr>\\\\\n",
       "\\hline\n",
       "\t 2022-10-20 & 11.8 & 38.0 & 61.4 & Clear                  & Christchurch\\\\\n",
       "\t 2022-10-21 &  9.6 & 38.4 & 56.7 & Rain, Partially cloudy & Christchurch\\\\\n",
       "\t 2022-10-22 &  7.4 & 22.3 & 73.7 & Clear                  & Christchurch\\\\\n",
       "\t 2022-10-23 & 15.7 & 29.5 & 61.9 & Clear                  & Christchurch\\\\\n",
       "\t 2022-10-24 & 12.0 & 51.8 & 62.9 & Rain, Partially cloudy & Christchurch\\\\\n",
       "\t 2022-10-25 &  8.5 & 29.5 & 75.3 & Rain, Partially cloudy & Christchurch\\\\\n",
       "\t 2022-10-26 & 11.6 & 15.5 & 77.7 & Partially cloudy       & Christchurch\\\\\n",
       "\\end{tabular}\n"
      ],
      "text/markdown": [
       "\n",
       "A tibble: 7 × 6\n",
       "\n",
       "| Date &lt;chr&gt; | Temperature &lt;dbl&gt; | WindSpeed &lt;dbl&gt; | Humidity &lt;dbl&gt; | Conditions &lt;chr&gt; | Location &lt;chr&gt; |\n",
       "|---|---|---|---|---|---|\n",
       "| 2022-10-20 | 11.8 | 38.0 | 61.4 | Clear                  | Christchurch |\n",
       "| 2022-10-21 |  9.6 | 38.4 | 56.7 | Rain, Partially cloudy | Christchurch |\n",
       "| 2022-10-22 |  7.4 | 22.3 | 73.7 | Clear                  | Christchurch |\n",
       "| 2022-10-23 | 15.7 | 29.5 | 61.9 | Clear                  | Christchurch |\n",
       "| 2022-10-24 | 12.0 | 51.8 | 62.9 | Rain, Partially cloudy | Christchurch |\n",
       "| 2022-10-25 |  8.5 | 29.5 | 75.3 | Rain, Partially cloudy | Christchurch |\n",
       "| 2022-10-26 | 11.6 | 15.5 | 77.7 | Partially cloudy       | Christchurch |\n",
       "\n"
      ],
      "text/plain": [
       "  Date       Temperature WindSpeed Humidity Conditions             Location    \n",
       "1 2022-10-20 11.8        38.0      61.4     Clear                  Christchurch\n",
       "2 2022-10-21  9.6        38.4      56.7     Rain, Partially cloudy Christchurch\n",
       "3 2022-10-22  7.4        22.3      73.7     Clear                  Christchurch\n",
       "4 2022-10-23 15.7        29.5      61.9     Clear                  Christchurch\n",
       "5 2022-10-24 12.0        51.8      62.9     Rain, Partially cloudy Christchurch\n",
       "6 2022-10-25  8.5        29.5      75.3     Rain, Partially cloudy Christchurch\n",
       "7 2022-10-26 11.6        15.5      77.7     Partially cloudy       Christchurch"
      ]
     },
     "metadata": {},
     "output_type": "display_data"
    },
    {
     "data": {
      "text/plain": [
       "NULL"
      ]
     },
     "metadata": {},
     "output_type": "display_data"
    },
    {
     "data": {
      "text/html": [
       "<table class=\"dataframe\">\n",
       "<caption>A tibble: 7 × 6</caption>\n",
       "<thead>\n",
       "\t<tr><th scope=col>Date</th><th scope=col>Temperature</th><th scope=col>WindSpeed</th><th scope=col>Humidity</th><th scope=col>Conditions</th><th scope=col>Location</th></tr>\n",
       "\t<tr><th scope=col>&lt;chr&gt;</th><th scope=col>&lt;dbl&gt;</th><th scope=col>&lt;dbl&gt;</th><th scope=col>&lt;dbl&gt;</th><th scope=col>&lt;chr&gt;</th><th scope=col>&lt;chr&gt;</th></tr>\n",
       "</thead>\n",
       "<tbody>\n",
       "\t<tr><td>2022-10-20</td><td>15.1</td><td>35.9</td><td>69.7</td><td>Partially cloudy      </td><td>Auckland</td></tr>\n",
       "\t<tr><td>2022-10-21</td><td>15.3</td><td>40.0</td><td>74.2</td><td>Rain, Partially cloudy</td><td>Auckland</td></tr>\n",
       "\t<tr><td>2022-10-22</td><td>14.5</td><td>15.9</td><td>70.2</td><td>Rain, Partially cloudy</td><td>Auckland</td></tr>\n",
       "\t<tr><td>2022-10-23</td><td>14.3</td><td>25.9</td><td>76.7</td><td>Clear                 </td><td>Auckland</td></tr>\n",
       "\t<tr><td>2022-10-24</td><td>15.5</td><td>33.5</td><td>81.4</td><td>Partially cloudy      </td><td>Auckland</td></tr>\n",
       "\t<tr><td>2022-10-25</td><td>15.9</td><td>27.7</td><td>75.3</td><td>Rain, Partially cloudy</td><td>Auckland</td></tr>\n",
       "\t<tr><td>2022-10-26</td><td>15.4</td><td>20.5</td><td>76.5</td><td>Rain, Partially cloudy</td><td>Auckland</td></tr>\n",
       "</tbody>\n",
       "</table>\n"
      ],
      "text/latex": [
       "A tibble: 7 × 6\n",
       "\\begin{tabular}{llllll}\n",
       " Date & Temperature & WindSpeed & Humidity & Conditions & Location\\\\\n",
       " <chr> & <dbl> & <dbl> & <dbl> & <chr> & <chr>\\\\\n",
       "\\hline\n",
       "\t 2022-10-20 & 15.1 & 35.9 & 69.7 & Partially cloudy       & Auckland\\\\\n",
       "\t 2022-10-21 & 15.3 & 40.0 & 74.2 & Rain, Partially cloudy & Auckland\\\\\n",
       "\t 2022-10-22 & 14.5 & 15.9 & 70.2 & Rain, Partially cloudy & Auckland\\\\\n",
       "\t 2022-10-23 & 14.3 & 25.9 & 76.7 & Clear                  & Auckland\\\\\n",
       "\t 2022-10-24 & 15.5 & 33.5 & 81.4 & Partially cloudy       & Auckland\\\\\n",
       "\t 2022-10-25 & 15.9 & 27.7 & 75.3 & Rain, Partially cloudy & Auckland\\\\\n",
       "\t 2022-10-26 & 15.4 & 20.5 & 76.5 & Rain, Partially cloudy & Auckland\\\\\n",
       "\\end{tabular}\n"
      ],
      "text/markdown": [
       "\n",
       "A tibble: 7 × 6\n",
       "\n",
       "| Date &lt;chr&gt; | Temperature &lt;dbl&gt; | WindSpeed &lt;dbl&gt; | Humidity &lt;dbl&gt; | Conditions &lt;chr&gt; | Location &lt;chr&gt; |\n",
       "|---|---|---|---|---|---|\n",
       "| 2022-10-20 | 15.1 | 35.9 | 69.7 | Partially cloudy       | Auckland |\n",
       "| 2022-10-21 | 15.3 | 40.0 | 74.2 | Rain, Partially cloudy | Auckland |\n",
       "| 2022-10-22 | 14.5 | 15.9 | 70.2 | Rain, Partially cloudy | Auckland |\n",
       "| 2022-10-23 | 14.3 | 25.9 | 76.7 | Clear                  | Auckland |\n",
       "| 2022-10-24 | 15.5 | 33.5 | 81.4 | Partially cloudy       | Auckland |\n",
       "| 2022-10-25 | 15.9 | 27.7 | 75.3 | Rain, Partially cloudy | Auckland |\n",
       "| 2022-10-26 | 15.4 | 20.5 | 76.5 | Rain, Partially cloudy | Auckland |\n",
       "\n"
      ],
      "text/plain": [
       "  Date       Temperature WindSpeed Humidity Conditions             Location\n",
       "1 2022-10-20 15.1        35.9      69.7     Partially cloudy       Auckland\n",
       "2 2022-10-21 15.3        40.0      74.2     Rain, Partially cloudy Auckland\n",
       "3 2022-10-22 14.5        15.9      70.2     Rain, Partially cloudy Auckland\n",
       "4 2022-10-23 14.3        25.9      76.7     Clear                  Auckland\n",
       "5 2022-10-24 15.5        33.5      81.4     Partially cloudy       Auckland\n",
       "6 2022-10-25 15.9        27.7      75.3     Rain, Partially cloudy Auckland\n",
       "7 2022-10-26 15.4        20.5      76.5     Rain, Partially cloudy Auckland"
      ]
     },
     "metadata": {},
     "output_type": "display_data"
    },
    {
     "data": {
      "text/plain": [
       "NULL"
      ]
     },
     "metadata": {},
     "output_type": "display_data"
    },
    {
     "data": {
      "text/html": [
       "<table class=\"dataframe\">\n",
       "<caption>A tibble: 7 × 6</caption>\n",
       "<thead>\n",
       "\t<tr><th scope=col>Date</th><th scope=col>Temperature</th><th scope=col>WindSpeed</th><th scope=col>Humidity</th><th scope=col>Conditions</th><th scope=col>Location</th></tr>\n",
       "\t<tr><th scope=col>&lt;chr&gt;</th><th scope=col>&lt;dbl&gt;</th><th scope=col>&lt;dbl&gt;</th><th scope=col>&lt;dbl&gt;</th><th scope=col>&lt;chr&gt;</th><th scope=col>&lt;chr&gt;</th></tr>\n",
       "</thead>\n",
       "<tbody>\n",
       "\t<tr><td>2022-10-20</td><td>14.1</td><td>37.6</td><td>65.8</td><td>Clear                 </td><td>Wellington</td></tr>\n",
       "\t<tr><td>2022-10-21</td><td>11.3</td><td>45.1</td><td>62.5</td><td>Rain, Partially cloudy</td><td>Wellington</td></tr>\n",
       "\t<tr><td>2022-10-22</td><td>10.6</td><td>21.8</td><td>64.5</td><td>Clear                 </td><td>Wellington</td></tr>\n",
       "\t<tr><td>2022-10-23</td><td>13.5</td><td>44.6</td><td>74.6</td><td>Partially cloudy      </td><td>Wellington</td></tr>\n",
       "\t<tr><td>2022-10-24</td><td>15.5</td><td>46.4</td><td>66.5</td><td>Rain, Partially cloudy</td><td>Wellington</td></tr>\n",
       "\t<tr><td>2022-10-25</td><td>11.0</td><td>37.1</td><td>65.0</td><td>Rain, Partially cloudy</td><td>Wellington</td></tr>\n",
       "\t<tr><td>2022-10-26</td><td>12.3</td><td>42.5</td><td>77.1</td><td>Partially cloudy      </td><td>Wellington</td></tr>\n",
       "</tbody>\n",
       "</table>\n"
      ],
      "text/latex": [
       "A tibble: 7 × 6\n",
       "\\begin{tabular}{llllll}\n",
       " Date & Temperature & WindSpeed & Humidity & Conditions & Location\\\\\n",
       " <chr> & <dbl> & <dbl> & <dbl> & <chr> & <chr>\\\\\n",
       "\\hline\n",
       "\t 2022-10-20 & 14.1 & 37.6 & 65.8 & Clear                  & Wellington\\\\\n",
       "\t 2022-10-21 & 11.3 & 45.1 & 62.5 & Rain, Partially cloudy & Wellington\\\\\n",
       "\t 2022-10-22 & 10.6 & 21.8 & 64.5 & Clear                  & Wellington\\\\\n",
       "\t 2022-10-23 & 13.5 & 44.6 & 74.6 & Partially cloudy       & Wellington\\\\\n",
       "\t 2022-10-24 & 15.5 & 46.4 & 66.5 & Rain, Partially cloudy & Wellington\\\\\n",
       "\t 2022-10-25 & 11.0 & 37.1 & 65.0 & Rain, Partially cloudy & Wellington\\\\\n",
       "\t 2022-10-26 & 12.3 & 42.5 & 77.1 & Partially cloudy       & Wellington\\\\\n",
       "\\end{tabular}\n"
      ],
      "text/markdown": [
       "\n",
       "A tibble: 7 × 6\n",
       "\n",
       "| Date &lt;chr&gt; | Temperature &lt;dbl&gt; | WindSpeed &lt;dbl&gt; | Humidity &lt;dbl&gt; | Conditions &lt;chr&gt; | Location &lt;chr&gt; |\n",
       "|---|---|---|---|---|---|\n",
       "| 2022-10-20 | 14.1 | 37.6 | 65.8 | Clear                  | Wellington |\n",
       "| 2022-10-21 | 11.3 | 45.1 | 62.5 | Rain, Partially cloudy | Wellington |\n",
       "| 2022-10-22 | 10.6 | 21.8 | 64.5 | Clear                  | Wellington |\n",
       "| 2022-10-23 | 13.5 | 44.6 | 74.6 | Partially cloudy       | Wellington |\n",
       "| 2022-10-24 | 15.5 | 46.4 | 66.5 | Rain, Partially cloudy | Wellington |\n",
       "| 2022-10-25 | 11.0 | 37.1 | 65.0 | Rain, Partially cloudy | Wellington |\n",
       "| 2022-10-26 | 12.3 | 42.5 | 77.1 | Partially cloudy       | Wellington |\n",
       "\n"
      ],
      "text/plain": [
       "  Date       Temperature WindSpeed Humidity Conditions             Location  \n",
       "1 2022-10-20 14.1        37.6      65.8     Clear                  Wellington\n",
       "2 2022-10-21 11.3        45.1      62.5     Rain, Partially cloudy Wellington\n",
       "3 2022-10-22 10.6        21.8      64.5     Clear                  Wellington\n",
       "4 2022-10-23 13.5        44.6      74.6     Partially cloudy       Wellington\n",
       "5 2022-10-24 15.5        46.4      66.5     Rain, Partially cloudy Wellington\n",
       "6 2022-10-25 11.0        37.1      65.0     Rain, Partially cloudy Wellington\n",
       "7 2022-10-26 12.3        42.5      77.1     Partially cloudy       Wellington"
      ]
     },
     "metadata": {},
     "output_type": "display_data"
    },
    {
     "data": {
      "text/plain": [
       "NULL"
      ]
     },
     "metadata": {},
     "output_type": "display_data"
    }
   ],
   "source": [
    "# this is helper function to get the actually desired data inside the list\n",
    "# this function takes 2 parameter, the first one is the data which is a list of all the information about the weather for each day, the second parameter is the index which is a string of the data we want to get\n",
    "get_information_list <- function(data, index) {\n",
    "    empty <- vector(mode = \"list\", length = 0) # first we prepare an empty list which will be appended with the information we want to get\n",
    "    for(i in seq_along(data)){ # next we loop through every item inside the data given\n",
    "        empty <- append(empty, data[i][[1]][[index]]) # then we append the data to the list we prepared before\n",
    "    }\n",
    "    return(empty)\n",
    "}\n",
    "\n",
    "#this is the function to get the weather history from a week ago until the current date\n",
    "#this function will return a tibble which contains the information about the weather from 7 days ago to the current date. The information includes the date, temperature, windspeed, humidity, and conditions\n",
    "#this function takes 2 parameters, first one is the city which is a string that indicates the city we want get the weather data from, next is the apiKey which is a string of the API access token from the website mentioned above\n",
    "get_weather_data <- function(city, apiKey){\n",
    "\n",
    "    currentDate <- Sys.Date() # in this code we try to\n",
    "    \n",
    "    lastWeek <- as.Date(currentDate) - 6 # then we also get the date from a week ago\n",
    "    \n",
    "    location <- c(city, city, city, city, city, city, city)\n",
    "\n",
    "    response_raw <- GET(glue(\"https://weather.visualcrossing.com/VisualCrossingWebServices/rest/services/timeline/{city}/{lastWeek}/{currentDate}?unitGroup=metric&key={apiKey}&contentType=json\")) # the we use the api to get the weather data by specifying the city and dates\n",
    "    response <- content(response_raw) # here I get the body content of the response\n",
    "\n",
    "    #then in the code below, we create new tibble/data frame and use the get_information_list() function we defined above to get the data for each column\n",
    "    result_weather_data <- tibble(Location = location,\n",
    "                                    Date = get_information_list(response[[\"days\"]], \"datetime\"),\n",
    "                                    Temperature = get_information_list(response[[\"days\"]], \"temp\"),\n",
    "                                    WindSpeed = get_information_list(response[[\"days\"]], \"windspeed\"),\n",
    "                                    Humidity = get_information_list(response[[\"days\"]], \"humidity\"),\n",
    "                                    Conditions = get_information_list(response[[\"days\"]], \"conditions\"),\n",
    "                                    )\n",
    "\n",
    "    #here we make sure each colum has correct data types\n",
    "    result_weather_data <- result_weather_data %>% mutate(across(Date, as.Date)) %>%\n",
    "                                                    mutate(across(Temperature, as.double)) %>%\n",
    "                                                    mutate(across(WindSpeed, as.double)) %>%\n",
    "                                                    mutate(across(Humidity, as.double)) %>%\n",
    "                                                    mutate(across(Conditions, as.character)) %>% \n",
    "                                                    mutate(across(Location, str_to_title))\n",
    "    return(result_weather_data)\n",
    "}\n",
    "\n",
    "  get_weather_data_safe <- purrr::possibly(.f = get_weather_data, # so here we want to make sure that the the function is showing error message if any error happens\n",
    "                                   otherwise = \"Something went wrong: possibly maximum number of request has been reached\")\n",
    "\n",
    "chch_data<-get_weather_data_safe(\"christchurch\",\"GMTLW3T9CX22FK8GH662Q9GPZ\")\n",
    "chch_data\n",
    "                                                           \n",
    "chch_data %<>% write.csv(\"new_weather_chch_data.csv\")\n",
    "chch_data\n",
    "                                                           \n",
    "akl_data<-get_weather_data_safe(\"auckland\",\"GMTLW3T9CX22FK8GH662Q9GPZ\")\n",
    "akl_data\n",
    "\n",
    "akl_data %<>% write.csv(\"new_weather_akl_data.csv\")\n",
    "akl_data\n",
    "                                                          \n",
    "welly_data<-get_weather_data_safe(\"wellington\",\"GMTLW3T9CX22FK8GH662Q9GPZ\")\n",
    "welly_data\n",
    "                                                           \n",
    "welly_data %<>% write.csv(\"new_weather_welly_data.csv\")\n",
    "welly_data"
   ]
  },
  {
   "cell_type": "code",
   "execution_count": null,
   "metadata": {
    "vscode": {
     "languageId": "r"
    }
   },
   "outputs": [],
   "source": []
  }
 ],
 "metadata": {
  "kernelspec": {
   "display_name": "R",
   "language": "R",
   "name": "ir"
  },
  "language_info": {
   "codemirror_mode": "r",
   "file_extension": ".r",
   "mimetype": "text/x-r-source",
   "name": "R",
   "pygments_lexer": "r",
   "version": "4.2.1"
  },
  "orig_nbformat": 4,
  "vscode": {
   "interpreter": {
    "hash": "916dbcbb3f70747c44a77c7bcd40155683ae19c65e1c03b4aa3499c5328201f1"
   }
  }
 },
 "nbformat": 4,
 "nbformat_minor": 2
}
