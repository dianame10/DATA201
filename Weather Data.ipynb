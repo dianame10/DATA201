{
 "cells": [
  {
   "cell_type": "code",
   "execution_count": 36,
   "id": "e8471d38-70b8-4ce3-8fd2-63cb7a1dd927",
   "metadata": {
    "vscode": {
     "languageId": "r"
    }
   },
   "outputs": [],
   "source": [
    "library(tidyverse)"
   ]
  },
  {
   "cell_type": "code",
   "execution_count": 37,
   "id": "ae559c3a-7cd4-4a9b-83f4-44025b830ef2",
   "metadata": {
    "vscode": {
     "languageId": "r"
    }
   },
   "outputs": [],
   "source": [
    "# install.packages(\"magrittr\")\n",
    "# install.packages(\"purrr\")\n",
    "# install.packages(\"glue\")\n",
    "# install.packages(\"stringr\")\n",
    "library(magrittr) # better handling of pipes\n",
    "library(purrr) # to work with lists and map functions\n",
    "library(glue) # to paste strings\n",
    "library(stringr) # to hand strings\n",
    "library(dplyr)"
   ]
  },
  {
   "cell_type": "code",
   "execution_count": 38,
   "id": "ab8bb184-0b9c-45ba-ad81-0a04e652d04d",
   "metadata": {
    "vscode": {
     "languageId": "r"
    }
   },
   "outputs": [],
   "source": [
    "# install.packages(\"rvest\")\n",
    "# remotes::install_github(\"dmi3kno/polite\")(\"politer\")\n",
    "# install.packages(\"xml2\")\n",
    "library(rvest) # rvest makes scraping easier\n",
    "library(polite) # polite is the \"polite\" version of rvest\n",
    "library(xml2) # makes it easier to work with HTML and XML from R\n",
    "library(lubridate)\n",
    "library(writexl)"
   ]
  },
  {
   "cell_type": "code",
   "execution_count": 39,
   "id": "4a8800d3-a5cd-4f19-aeff-1c83c182ab90",
   "metadata": {
    "vscode": {
     "languageId": "r"
    }
   },
   "outputs": [
    {
     "data": {
      "text/plain": [
       "{html_document}\n",
       "<html>\n",
       "[1] <head>\\n<meta http-equiv=\"Content-Type\" content=\"text/html; charset=UTF-8 ...\n",
       "[2] <body>\\n<div id=\"__next\">\\n<div class=\"jsx-3479055027 browser\"><div class ..."
      ]
     },
     "metadata": {},
     "output_type": "display_data"
    }
   ],
   "source": [
    "#getting the website to scrape\n",
    "auckland_url <- \"https://www.weatherwatch.co.nz/forecasts/Auckland\" \n",
    "wellington_url <- \"https://www.weatherwatch.co.nz/forecasts/Wellington\"\n",
    "christchurch_url <- \"https://www.weatherwatch.co.nz/forecasts/christchurch\"\n",
    "auckland_html <- read_html(auckland_url)\n",
    "wellington_html <- read_html(wellington_url)\n",
    "christchurch_html <- read_html(christchurch_url)\n",
    "auckland_html"
   ]
  },
  {
   "cell_type": "code",
   "execution_count": 40,
   "id": "0262082d-b06e-4cd9-8bf9-54e173615e13",
   "metadata": {
    "vscode": {
     "languageId": "r"
    }
   },
   "outputs": [
    {
     "data": {
      "text/html": [
       "'list'"
      ],
      "text/latex": [
       "'list'"
      ],
      "text/markdown": [
       "'list'"
      ],
      "text/plain": [
       "[1] \"list\""
      ]
     },
     "metadata": {},
     "output_type": "display_data"
    },
    {
     "name": "stdout",
     "output_type": "stream",
     "text": [
      "List of 2\n",
      " $ node:<externalptr> \n",
      " $ doc :<externalptr> \n",
      " - attr(*, \"class\")= chr [1:2] \"xml_document\" \"xml_node\"\n"
     ]
    }
   ],
   "source": [
    "auckland_html %>% typeof()\n",
    "auckland_html %>% glimpse()"
   ]
  },
  {
   "cell_type": "code",
   "execution_count": 41,
   "id": "b9c8fdf4-b2c8-437f-84c6-ef749c09bc18",
   "metadata": {
    "scrolled": false,
    "vscode": {
     "languageId": "r"
    }
   },
   "outputs": [
    {
     "data": {
      "text/html": [
       "<style>\n",
       ".list-inline {list-style: none; margin:0; padding: 0}\n",
       ".list-inline>li {display: inline-block}\n",
       ".list-inline>li:not(:last-child)::after {content: \"\\00b7\"; padding: 0 .5ex}\n",
       "</style>\n",
       "<ol class=list-inline><li>'Wed 19 Oct'</li><li>'Thu 20 Oct'</li><li>'Fri 21 Oct'</li><li>'Sat 22 Oct'</li><li>'Sun 23 Oct'</li><li>'Mon 24 Oct'</li><li>'Tue 25 Oct'</li><li>'Wed 26 Oct'</li><li>'Thu 27 Oct'</li></ol>\n"
      ],
      "text/latex": [
       "\\begin{enumerate*}\n",
       "\\item 'Wed 19 Oct'\n",
       "\\item 'Thu 20 Oct'\n",
       "\\item 'Fri 21 Oct'\n",
       "\\item 'Sat 22 Oct'\n",
       "\\item 'Sun 23 Oct'\n",
       "\\item 'Mon 24 Oct'\n",
       "\\item 'Tue 25 Oct'\n",
       "\\item 'Wed 26 Oct'\n",
       "\\item 'Thu 27 Oct'\n",
       "\\end{enumerate*}\n"
      ],
      "text/markdown": [
       "1. 'Wed 19 Oct'\n",
       "2. 'Thu 20 Oct'\n",
       "3. 'Fri 21 Oct'\n",
       "4. 'Sat 22 Oct'\n",
       "5. 'Sun 23 Oct'\n",
       "6. 'Mon 24 Oct'\n",
       "7. 'Tue 25 Oct'\n",
       "8. 'Wed 26 Oct'\n",
       "9. 'Thu 27 Oct'\n",
       "\n",
       "\n"
      ],
      "text/plain": [
       "[1] \"Wed 19 Oct\" \"Thu 20 Oct\" \"Fri 21 Oct\" \"Sat 22 Oct\" \"Sun 23 Oct\"\n",
       "[6] \"Mon 24 Oct\" \"Tue 25 Oct\" \"Wed 26 Oct\" \"Thu 27 Oct\""
      ]
     },
     "metadata": {},
     "output_type": "display_data"
    }
   ],
   "source": [
    "#scraping the dates\n",
    "dates <- auckland_html %>% html_nodes(\".date\") %>% html_text()\n",
    "index <- 1:18\n",
    "date <- dates[index%%2==0]\n",
    "date"
   ]
  },
  {
   "cell_type": "code",
   "execution_count": 42,
   "id": "e555a248",
   "metadata": {
    "scrolled": false,
    "vscode": {
     "languageId": "r"
    }
   },
   "outputs": [
    {
     "data": {
      "text/html": [
       "<style>\n",
       ".list-inline {list-style: none; margin:0; padding: 0}\n",
       ".list-inline>li {display: inline-block}\n",
       ".list-inline>li:not(:last-child)::after {content: \"\\00b7\"; padding: 0 .5ex}\n",
       "</style>\n",
       "<ol class=list-inline><li>'19 Oct'</li><li>'20 Oct'</li><li>'21 Oct'</li><li>'22 Oct'</li><li>'23 Oct'</li><li>'24 Oct'</li><li>'25 Oct'</li><li>'26 Oct'</li><li>'27 Oct'</li></ol>\n"
      ],
      "text/latex": [
       "\\begin{enumerate*}\n",
       "\\item '19 Oct'\n",
       "\\item '20 Oct'\n",
       "\\item '21 Oct'\n",
       "\\item '22 Oct'\n",
       "\\item '23 Oct'\n",
       "\\item '24 Oct'\n",
       "\\item '25 Oct'\n",
       "\\item '26 Oct'\n",
       "\\item '27 Oct'\n",
       "\\end{enumerate*}\n"
      ],
      "text/markdown": [
       "1. '19 Oct'\n",
       "2. '20 Oct'\n",
       "3. '21 Oct'\n",
       "4. '22 Oct'\n",
       "5. '23 Oct'\n",
       "6. '24 Oct'\n",
       "7. '25 Oct'\n",
       "8. '26 Oct'\n",
       "9. '27 Oct'\n",
       "\n",
       "\n"
      ],
      "text/plain": [
       "[1] \"19 Oct\" \"20 Oct\" \"21 Oct\" \"22 Oct\" \"23 Oct\" \"24 Oct\" \"25 Oct\" \"26 Oct\"\n",
       "[9] \"27 Oct\""
      ]
     },
     "metadata": {},
     "output_type": "display_data"
    }
   ],
   "source": [
    "#split the day of the week from the date\n",
    "date_no <- substr(date, nchar(date) - 5, nchar(date))\n",
    "date_no"
   ]
  },
  {
   "cell_type": "code",
   "execution_count": 43,
   "id": "b8ffeea5",
   "metadata": {
    "vscode": {
     "languageId": "r"
    }
   },
   "outputs": [
    {
     "data": {
      "text/html": [
       "<style>\n",
       ".list-inline {list-style: none; margin:0; padding: 0}\n",
       ".list-inline>li {display: inline-block}\n",
       ".list-inline>li:not(:last-child)::after {content: \"\\00b7\"; padding: 0 .5ex}\n",
       "</style>\n",
       "<ol class=list-inline><li>'Wed'</li><li>'Thu'</li><li>'Fri'</li><li>'Sat'</li><li>'Sun'</li><li>'Mon'</li><li>'Tue'</li><li>'Wed'</li><li>'Thu'</li></ol>\n"
      ],
      "text/latex": [
       "\\begin{enumerate*}\n",
       "\\item 'Wed'\n",
       "\\item 'Thu'\n",
       "\\item 'Fri'\n",
       "\\item 'Sat'\n",
       "\\item 'Sun'\n",
       "\\item 'Mon'\n",
       "\\item 'Tue'\n",
       "\\item 'Wed'\n",
       "\\item 'Thu'\n",
       "\\end{enumerate*}\n"
      ],
      "text/markdown": [
       "1. 'Wed'\n",
       "2. 'Thu'\n",
       "3. 'Fri'\n",
       "4. 'Sat'\n",
       "5. 'Sun'\n",
       "6. 'Mon'\n",
       "7. 'Tue'\n",
       "8. 'Wed'\n",
       "9. 'Thu'\n",
       "\n",
       "\n"
      ],
      "text/plain": [
       "[1] \"Wed\" \"Thu\" \"Fri\" \"Sat\" \"Sun\" \"Mon\" \"Tue\" \"Wed\" \"Thu\""
      ]
     },
     "metadata": {},
     "output_type": "display_data"
    }
   ],
   "source": [
    "#assigned the day of the week to a variable to use for the table\n",
    "day <-substr(date, 1,3)\n",
    "day"
   ]
  },
  {
   "cell_type": "code",
   "execution_count": 44,
   "id": "686fc8d2",
   "metadata": {
    "scrolled": true,
    "vscode": {
     "languageId": "r"
    }
   },
   "outputs": [
    {
     "data": {
      "text/html": [
       "<style>\n",
       ".list-inline {list-style: none; margin:0; padding: 0}\n",
       ".list-inline>li {display: inline-block}\n",
       ".list-inline>li:not(:last-child)::after {content: \"\\00b7\"; padding: 0 .5ex}\n",
       "</style>\n",
       "<ol class=list-inline><li>'19'</li><li>'20'</li><li>'21'</li><li>'22'</li><li>'23'</li><li>'24'</li><li>'25'</li><li>'26'</li><li>'27'</li></ol>\n"
      ],
      "text/latex": [
       "\\begin{enumerate*}\n",
       "\\item '19'\n",
       "\\item '20'\n",
       "\\item '21'\n",
       "\\item '22'\n",
       "\\item '23'\n",
       "\\item '24'\n",
       "\\item '25'\n",
       "\\item '26'\n",
       "\\item '27'\n",
       "\\end{enumerate*}\n"
      ],
      "text/markdown": [
       "1. '19'\n",
       "2. '20'\n",
       "3. '21'\n",
       "4. '22'\n",
       "5. '23'\n",
       "6. '24'\n",
       "7. '25'\n",
       "8. '26'\n",
       "9. '27'\n",
       "\n",
       "\n"
      ],
      "text/plain": [
       "[1] \"19\" \"20\" \"21\" \"22\" \"23\" \"24\" \"25\" \"26\" \"27\""
      ]
     },
     "metadata": {},
     "output_type": "display_data"
    }
   ],
   "source": [
    "#splitting to get the date number from the date\n",
    "date_day_no <- substr(date_no, 1,2)\n",
    "date_day_no"
   ]
  },
  {
   "cell_type": "code",
   "execution_count": 45,
   "id": "8634d3c3",
   "metadata": {
    "scrolled": false,
    "vscode": {
     "languageId": "r"
    }
   },
   "outputs": [
    {
     "data": {
      "text/html": [
       "<style>\n",
       ".list-inline {list-style: none; margin:0; padding: 0}\n",
       ".list-inline>li {display: inline-block}\n",
       ".list-inline>li:not(:last-child)::after {content: \"\\00b7\"; padding: 0 .5ex}\n",
       "</style>\n",
       "<ol class=list-inline><li>'Oct'</li><li>'Oct'</li><li>'Oct'</li><li>'Oct'</li><li>'Oct'</li><li>'Oct'</li><li>'Oct'</li><li>'Oct'</li><li>'Oct'</li></ol>\n"
      ],
      "text/latex": [
       "\\begin{enumerate*}\n",
       "\\item 'Oct'\n",
       "\\item 'Oct'\n",
       "\\item 'Oct'\n",
       "\\item 'Oct'\n",
       "\\item 'Oct'\n",
       "\\item 'Oct'\n",
       "\\item 'Oct'\n",
       "\\item 'Oct'\n",
       "\\item 'Oct'\n",
       "\\end{enumerate*}\n"
      ],
      "text/markdown": [
       "1. 'Oct'\n",
       "2. 'Oct'\n",
       "3. 'Oct'\n",
       "4. 'Oct'\n",
       "5. 'Oct'\n",
       "6. 'Oct'\n",
       "7. 'Oct'\n",
       "8. 'Oct'\n",
       "9. 'Oct'\n",
       "\n",
       "\n"
      ],
      "text/plain": [
       "[1] \"Oct\" \"Oct\" \"Oct\" \"Oct\" \"Oct\" \"Oct\" \"Oct\" \"Oct\" \"Oct\""
      ]
     },
     "metadata": {},
     "output_type": "display_data"
    }
   ],
   "source": [
    "#splitting to get the month from the date\n",
    "date_month_no <-substr(date_no, 4,6)\n",
    "date_month_no"
   ]
  },
  {
   "cell_type": "code",
   "execution_count": 46,
   "id": "aa0ae7a1",
   "metadata": {
    "vscode": {
     "languageId": "r"
    }
   },
   "outputs": [
    {
     "data": {
      "text/html": [
       "<style>\n",
       ".list-inline {list-style: none; margin:0; padding: 0}\n",
       ".list-inline>li {display: inline-block}\n",
       ".list-inline>li:not(:last-child)::after {content: \"\\00b7\"; padding: 0 .5ex}\n",
       "</style>\n",
       "<ol class=list-inline><li>10</li><li>10</li><li>10</li><li>10</li><li>10</li><li>10</li><li>10</li><li>10</li><li>10</li></ol>\n"
      ],
      "text/latex": [
       "\\begin{enumerate*}\n",
       "\\item 10\n",
       "\\item 10\n",
       "\\item 10\n",
       "\\item 10\n",
       "\\item 10\n",
       "\\item 10\n",
       "\\item 10\n",
       "\\item 10\n",
       "\\item 10\n",
       "\\end{enumerate*}\n"
      ],
      "text/markdown": [
       "1. 10\n",
       "2. 10\n",
       "3. 10\n",
       "4. 10\n",
       "5. 10\n",
       "6. 10\n",
       "7. 10\n",
       "8. 10\n",
       "9. 10\n",
       "\n",
       "\n"
      ],
      "text/plain": [
       "[1] 10 10 10 10 10 10 10 10 10"
      ]
     },
     "metadata": {},
     "output_type": "display_data"
    }
   ],
   "source": [
    "#converting month to month number\n",
    "date_month_no2<-match(date_month_no,month.abb)\n",
    "date_month_no2"
   ]
  },
  {
   "cell_type": "code",
   "execution_count": 47,
   "id": "e19e9ed8",
   "metadata": {
    "scrolled": true,
    "vscode": {
     "languageId": "r"
    }
   },
   "outputs": [
    {
     "data": {
      "text/html": [
       "<style>\n",
       ".list-inline {list-style: none; margin:0; padding: 0}\n",
       ".list-inline>li {display: inline-block}\n",
       ".list-inline>li:not(:last-child)::after {content: \"\\00b7\"; padding: 0 .5ex}\n",
       "</style>\n",
       "<ol class=list-inline><li>'2022-10-19'</li><li>'2022-10-20'</li><li>'2022-10-21'</li><li>'2022-10-22'</li><li>'2022-10-23'</li><li>'2022-10-24'</li><li>'2022-10-25'</li><li>'2022-10-26'</li><li>'2022-10-27'</li></ol>\n"
      ],
      "text/latex": [
       "\\begin{enumerate*}\n",
       "\\item '2022-10-19'\n",
       "\\item '2022-10-20'\n",
       "\\item '2022-10-21'\n",
       "\\item '2022-10-22'\n",
       "\\item '2022-10-23'\n",
       "\\item '2022-10-24'\n",
       "\\item '2022-10-25'\n",
       "\\item '2022-10-26'\n",
       "\\item '2022-10-27'\n",
       "\\end{enumerate*}\n"
      ],
      "text/markdown": [
       "1. '2022-10-19'\n",
       "2. '2022-10-20'\n",
       "3. '2022-10-21'\n",
       "4. '2022-10-22'\n",
       "5. '2022-10-23'\n",
       "6. '2022-10-24'\n",
       "7. '2022-10-25'\n",
       "8. '2022-10-26'\n",
       "9. '2022-10-27'\n",
       "\n",
       "\n"
      ],
      "text/plain": [
       "2022-10-19\n",
       "2022-10-20\n",
       "2022-10-21\n",
       "2022-10-22\n",
       "2022-10-23\n",
       "2022-10-24\n",
       "2022-10-25\n",
       "2022-10-26\n",
       "2022-10-27"
      ]
     },
     "metadata": {},
     "output_type": "display_data"
    },
    {
     "data": {
      "text/html": [
       "'character'"
      ],
      "text/latex": [
       "'character'"
      ],
      "text/markdown": [
       "'character'"
      ],
      "text/plain": [
       "[1] \"character\""
      ]
     },
     "metadata": {},
     "output_type": "display_data"
    }
   ],
   "source": [
    "#combine year, month and date\n",
    "datey <- glue(\"2022-{date_month_no2}-{date_day_no}\")\n",
    "datey\n",
    "typeof(datey)"
   ]
  },
  {
   "cell_type": "code",
   "execution_count": 48,
   "id": "224dcfe8",
   "metadata": {
    "vscode": {
     "languageId": "r"
    }
   },
   "outputs": [
    {
     "data": {
      "text/html": [
       "<style>\n",
       ".list-inline {list-style: none; margin:0; padding: 0}\n",
       ".list-inline>li {display: inline-block}\n",
       ".list-inline>li:not(:last-child)::after {content: \"\\00b7\"; padding: 0 .5ex}\n",
       "</style>\n",
       "<ol class=list-inline><li><time datetime=\"2022-10-19\">2022-10-19</time></li><li><time datetime=\"2022-10-20\">2022-10-20</time></li><li><time datetime=\"2022-10-21\">2022-10-21</time></li><li><time datetime=\"2022-10-22\">2022-10-22</time></li><li><time datetime=\"2022-10-23\">2022-10-23</time></li><li><time datetime=\"2022-10-24\">2022-10-24</time></li><li><time datetime=\"2022-10-25\">2022-10-25</time></li><li><time datetime=\"2022-10-26\">2022-10-26</time></li><li><time datetime=\"2022-10-27\">2022-10-27</time></li></ol>\n"
      ],
      "text/latex": [
       "\\begin{enumerate*}\n",
       "\\item 2022-10-19\n",
       "\\item 2022-10-20\n",
       "\\item 2022-10-21\n",
       "\\item 2022-10-22\n",
       "\\item 2022-10-23\n",
       "\\item 2022-10-24\n",
       "\\item 2022-10-25\n",
       "\\item 2022-10-26\n",
       "\\item 2022-10-27\n",
       "\\end{enumerate*}\n"
      ],
      "text/markdown": [
       "1. 2022-10-19\n",
       "2. 2022-10-20\n",
       "3. 2022-10-21\n",
       "4. 2022-10-22\n",
       "5. 2022-10-23\n",
       "6. 2022-10-24\n",
       "7. 2022-10-25\n",
       "8. 2022-10-26\n",
       "9. 2022-10-27\n",
       "\n",
       "\n"
      ],
      "text/plain": [
       "[1] \"2022-10-19\" \"2022-10-20\" \"2022-10-21\" \"2022-10-22\" \"2022-10-23\"\n",
       "[6] \"2022-10-24\" \"2022-10-25\" \"2022-10-26\" \"2022-10-27\""
      ]
     },
     "metadata": {},
     "output_type": "display_data"
    },
    {
     "data": {
      "text/html": [
       "'double'"
      ],
      "text/latex": [
       "'double'"
      ],
      "text/markdown": [
       "'double'"
      ],
      "text/plain": [
       "[1] \"double\""
      ]
     },
     "metadata": {},
     "output_type": "display_data"
    }
   ],
   "source": [
    "#convert to date data type\n",
    "datey2 <- as.Date(datey)\n",
    "datey2\n",
    "typeof(datey2)"
   ]
  },
  {
   "cell_type": "code",
   "execution_count": 49,
   "id": "2a1ed3c9-25db-430b-ab8b-ed3005a21ded",
   "metadata": {
    "vscode": {
     "languageId": "r"
    }
   },
   "outputs": [
    {
     "data": {
      "text/html": [
       "<style>\n",
       ".list-inline {list-style: none; margin:0; padding: 0}\n",
       ".list-inline>li {display: inline-block}\n",
       ".list-inline>li:not(:last-child)::after {content: \"\\00b7\"; padding: 0 .5ex}\n",
       "</style>\n",
       "<ol class=list-inline><li>'17°Day'</li><li>'18°Day'</li><li>'17°Day'</li><li>'19°Day'</li><li>'19°Day'</li><li>'19°Day'</li><li>'19°Day'</li><li>'19°Day'</li><li>'20°Day'</li></ol>\n"
      ],
      "text/latex": [
       "\\begin{enumerate*}\n",
       "\\item '17°Day'\n",
       "\\item '18°Day'\n",
       "\\item '17°Day'\n",
       "\\item '19°Day'\n",
       "\\item '19°Day'\n",
       "\\item '19°Day'\n",
       "\\item '19°Day'\n",
       "\\item '19°Day'\n",
       "\\item '20°Day'\n",
       "\\end{enumerate*}\n"
      ],
      "text/markdown": [
       "1. '17°Day'\n",
       "2. '18°Day'\n",
       "3. '17°Day'\n",
       "4. '19°Day'\n",
       "5. '19°Day'\n",
       "6. '19°Day'\n",
       "7. '19°Day'\n",
       "8. '19°Day'\n",
       "9. '20°Day'\n",
       "\n",
       "\n"
      ],
      "text/plain": [
       "[1] \"17°Day\" \"18°Day\" \"17°Day\" \"19°Day\" \"19°Day\" \"19°Day\" \"19°Day\" \"19°Day\"\n",
       "[9] \"20°Day\""
      ]
     },
     "metadata": {},
     "output_type": "display_data"
    },
    {
     "data": {
      "text/html": [
       "<style>\n",
       ".list-inline {list-style: none; margin:0; padding: 0}\n",
       ".list-inline>li {display: inline-block}\n",
       ".list-inline>li:not(:last-child)::after {content: \"\\00b7\"; padding: 0 .5ex}\n",
       "</style>\n",
       "<ol class=list-inline><li>17</li><li>18</li><li>17</li><li>19</li><li>19</li><li>19</li><li>19</li><li>19</li><li>20</li></ol>\n"
      ],
      "text/latex": [
       "\\begin{enumerate*}\n",
       "\\item 17\n",
       "\\item 18\n",
       "\\item 17\n",
       "\\item 19\n",
       "\\item 19\n",
       "\\item 19\n",
       "\\item 19\n",
       "\\item 19\n",
       "\\item 20\n",
       "\\end{enumerate*}\n"
      ],
      "text/markdown": [
       "1. 17\n",
       "2. 18\n",
       "3. 17\n",
       "4. 19\n",
       "5. 19\n",
       "6. 19\n",
       "7. 19\n",
       "8. 19\n",
       "9. 20\n",
       "\n",
       "\n"
      ],
      "text/plain": [
       "[1] 17 18 17 19 19 19 19 19 20"
      ]
     },
     "metadata": {},
     "output_type": "display_data"
    }
   ],
   "source": [
    "#scraped the day temperature and then splitting to get the number only\n",
    "auckland_day <- auckland_html %>% html_nodes(\".high\") %>% html_text()\n",
    "auckland_day\n",
    "first <-auckland_day\n",
    "length <-nchar(first)\n",
    "auckland_day <- first  %>%  substr(length-5, length-4)\n",
    "auckland_day <- as.integer(auckland_day)\n",
    "auckland_day"
   ]
  },
  {
   "cell_type": "code",
   "execution_count": 50,
   "id": "d5c09b70-3b85-4908-93ef-7019a4dc87ad",
   "metadata": {
    "vscode": {
     "languageId": "r"
    }
   },
   "outputs": [
    {
     "data": {
      "text/html": [
       "<style>\n",
       ".list-inline {list-style: none; margin:0; padding: 0}\n",
       ".list-inline>li {display: inline-block}\n",
       ".list-inline>li:not(:last-child)::after {content: \"\\00b7\"; padding: 0 .5ex}\n",
       "</style>\n",
       "<ol class=list-inline><li>'16°Day'</li><li>'11°Day'</li><li>'14°Day'</li><li>'16°Day'</li><li>'16°Day'</li><li>'15°Day'</li><li>'15°Day'</li><li>'15°Day'</li><li>'15°Day'</li></ol>\n"
      ],
      "text/latex": [
       "\\begin{enumerate*}\n",
       "\\item '16°Day'\n",
       "\\item '11°Day'\n",
       "\\item '14°Day'\n",
       "\\item '16°Day'\n",
       "\\item '16°Day'\n",
       "\\item '15°Day'\n",
       "\\item '15°Day'\n",
       "\\item '15°Day'\n",
       "\\item '15°Day'\n",
       "\\end{enumerate*}\n"
      ],
      "text/markdown": [
       "1. '16°Day'\n",
       "2. '11°Day'\n",
       "3. '14°Day'\n",
       "4. '16°Day'\n",
       "5. '16°Day'\n",
       "6. '15°Day'\n",
       "7. '15°Day'\n",
       "8. '15°Day'\n",
       "9. '15°Day'\n",
       "\n",
       "\n"
      ],
      "text/plain": [
       "[1] \"16°Day\" \"11°Day\" \"14°Day\" \"16°Day\" \"16°Day\" \"15°Day\" \"15°Day\" \"15°Day\"\n",
       "[9] \"15°Day\""
      ]
     },
     "metadata": {},
     "output_type": "display_data"
    },
    {
     "data": {
      "text/html": [
       "<style>\n",
       ".list-inline {list-style: none; margin:0; padding: 0}\n",
       ".list-inline>li {display: inline-block}\n",
       ".list-inline>li:not(:last-child)::after {content: \"\\00b7\"; padding: 0 .5ex}\n",
       "</style>\n",
       "<ol class=list-inline><li>16</li><li>11</li><li>14</li><li>16</li><li>16</li><li>15</li><li>15</li><li>15</li><li>15</li></ol>\n"
      ],
      "text/latex": [
       "\\begin{enumerate*}\n",
       "\\item 16\n",
       "\\item 11\n",
       "\\item 14\n",
       "\\item 16\n",
       "\\item 16\n",
       "\\item 15\n",
       "\\item 15\n",
       "\\item 15\n",
       "\\item 15\n",
       "\\end{enumerate*}\n"
      ],
      "text/markdown": [
       "1. 16\n",
       "2. 11\n",
       "3. 14\n",
       "4. 16\n",
       "5. 16\n",
       "6. 15\n",
       "7. 15\n",
       "8. 15\n",
       "9. 15\n",
       "\n",
       "\n"
      ],
      "text/plain": [
       "[1] 16 11 14 16 16 15 15 15 15"
      ]
     },
     "metadata": {},
     "output_type": "display_data"
    }
   ],
   "source": [
    "#scraped the day temperature and then splitting to get the number only\n",
    "wellington_day <- wellington_html %>% html_nodes(\".high\") %>% html_text()\n",
    "wellington_day\n",
    "first <- wellington_day\n",
    "length <-nchar(first)\n",
    "wellington_day <- first  %>%  substr(length-5, length-4)\n",
    "wellington_day <- as.integer(wellington_day)\n",
    "wellington_day"
   ]
  },
  {
   "cell_type": "code",
   "execution_count": 51,
   "id": "645c2cd9-8d22-4be6-8702-552594445aba",
   "metadata": {
    "vscode": {
     "languageId": "r"
    }
   },
   "outputs": [
    {
     "data": {
      "text/html": [
       "<style>\n",
       ".list-inline {list-style: none; margin:0; padding: 0}\n",
       ".list-inline>li {display: inline-block}\n",
       ".list-inline>li:not(:last-child)::after {content: \"\\00b7\"; padding: 0 .5ex}\n",
       "</style>\n",
       "<ol class=list-inline><li>'16°Day'</li><li>'11°Day'</li><li>'14°Day'</li><li>'21°Day'</li><li>'17°Day'</li><li>'15°Day'</li><li>'17°Day'</li><li>'16°Day'</li><li>'18°Day'</li></ol>\n"
      ],
      "text/latex": [
       "\\begin{enumerate*}\n",
       "\\item '16°Day'\n",
       "\\item '11°Day'\n",
       "\\item '14°Day'\n",
       "\\item '21°Day'\n",
       "\\item '17°Day'\n",
       "\\item '15°Day'\n",
       "\\item '17°Day'\n",
       "\\item '16°Day'\n",
       "\\item '18°Day'\n",
       "\\end{enumerate*}\n"
      ],
      "text/markdown": [
       "1. '16°Day'\n",
       "2. '11°Day'\n",
       "3. '14°Day'\n",
       "4. '21°Day'\n",
       "5. '17°Day'\n",
       "6. '15°Day'\n",
       "7. '17°Day'\n",
       "8. '16°Day'\n",
       "9. '18°Day'\n",
       "\n",
       "\n"
      ],
      "text/plain": [
       "[1] \"16°Day\" \"11°Day\" \"14°Day\" \"21°Day\" \"17°Day\" \"15°Day\" \"17°Day\" \"16°Day\"\n",
       "[9] \"18°Day\""
      ]
     },
     "metadata": {},
     "output_type": "display_data"
    },
    {
     "data": {
      "text/html": [
       "<style>\n",
       ".list-inline {list-style: none; margin:0; padding: 0}\n",
       ".list-inline>li {display: inline-block}\n",
       ".list-inline>li:not(:last-child)::after {content: \"\\00b7\"; padding: 0 .5ex}\n",
       "</style>\n",
       "<ol class=list-inline><li>16</li><li>11</li><li>14</li><li>21</li><li>17</li><li>15</li><li>17</li><li>16</li><li>18</li></ol>\n"
      ],
      "text/latex": [
       "\\begin{enumerate*}\n",
       "\\item 16\n",
       "\\item 11\n",
       "\\item 14\n",
       "\\item 21\n",
       "\\item 17\n",
       "\\item 15\n",
       "\\item 17\n",
       "\\item 16\n",
       "\\item 18\n",
       "\\end{enumerate*}\n"
      ],
      "text/markdown": [
       "1. 16\n",
       "2. 11\n",
       "3. 14\n",
       "4. 21\n",
       "5. 17\n",
       "6. 15\n",
       "7. 17\n",
       "8. 16\n",
       "9. 18\n",
       "\n",
       "\n"
      ],
      "text/plain": [
       "[1] 16 11 14 21 17 15 17 16 18"
      ]
     },
     "metadata": {},
     "output_type": "display_data"
    }
   ],
   "source": [
    "#scraped the day temperature and then splitting to get the number only\n",
    "christchurch_day <- christchurch_html %>% html_nodes(\".high\") %>% html_text()\n",
    "christchurch_day\n",
    "first <-christchurch_day\n",
    "length <-nchar(first)\n",
    "christchurch_day <- first  %>%  substr(length-5, length-4)\n",
    "christchurch_day <- as.integer(christchurch_day)\n",
    "christchurch_day"
   ]
  },
  {
   "cell_type": "code",
   "execution_count": 52,
   "id": "a4cbd1e8-7333-4ebf-bdc4-28f45ba66253",
   "metadata": {
    "vscode": {
     "languageId": "r"
    }
   },
   "outputs": [
    {
     "data": {
      "text/html": [
       "<style>\n",
       ".list-inline {list-style: none; margin:0; padding: 0}\n",
       ".list-inline>li {display: inline-block}\n",
       ".list-inline>li:not(:last-child)::after {content: \"\\00b7\"; padding: 0 .5ex}\n",
       "</style>\n",
       "<ol class=list-inline><li>'12°Night'</li><li>'10°Night'</li><li>'10°Night'</li><li>'12°Night'</li><li>'13°Night'</li><li>'13°Night'</li><li>'13°Night'</li><li>'14°Night'</li><li>'14°Night'</li></ol>\n"
      ],
      "text/latex": [
       "\\begin{enumerate*}\n",
       "\\item '12°Night'\n",
       "\\item '10°Night'\n",
       "\\item '10°Night'\n",
       "\\item '12°Night'\n",
       "\\item '13°Night'\n",
       "\\item '13°Night'\n",
       "\\item '13°Night'\n",
       "\\item '14°Night'\n",
       "\\item '14°Night'\n",
       "\\end{enumerate*}\n"
      ],
      "text/markdown": [
       "1. '12°Night'\n",
       "2. '10°Night'\n",
       "3. '10°Night'\n",
       "4. '12°Night'\n",
       "5. '13°Night'\n",
       "6. '13°Night'\n",
       "7. '13°Night'\n",
       "8. '14°Night'\n",
       "9. '14°Night'\n",
       "\n",
       "\n"
      ],
      "text/plain": [
       "[1] \"12°Night\" \"10°Night\" \"10°Night\" \"12°Night\" \"13°Night\" \"13°Night\" \"13°Night\"\n",
       "[8] \"14°Night\" \"14°Night\""
      ]
     },
     "metadata": {},
     "output_type": "display_data"
    },
    {
     "data": {
      "text/html": [
       "<style>\n",
       ".list-inline {list-style: none; margin:0; padding: 0}\n",
       ".list-inline>li {display: inline-block}\n",
       ".list-inline>li:not(:last-child)::after {content: \"\\00b7\"; padding: 0 .5ex}\n",
       "</style>\n",
       "<ol class=list-inline><li>12</li><li>10</li><li>10</li><li>12</li><li>13</li><li>13</li><li>13</li><li>14</li><li>14</li></ol>\n"
      ],
      "text/latex": [
       "\\begin{enumerate*}\n",
       "\\item 12\n",
       "\\item 10\n",
       "\\item 10\n",
       "\\item 12\n",
       "\\item 13\n",
       "\\item 13\n",
       "\\item 13\n",
       "\\item 14\n",
       "\\item 14\n",
       "\\end{enumerate*}\n"
      ],
      "text/markdown": [
       "1. 12\n",
       "2. 10\n",
       "3. 10\n",
       "4. 12\n",
       "5. 13\n",
       "6. 13\n",
       "7. 13\n",
       "8. 14\n",
       "9. 14\n",
       "\n",
       "\n"
      ],
      "text/plain": [
       "[1] 12 10 10 12 13 13 13 14 14"
      ]
     },
     "metadata": {},
     "output_type": "display_data"
    }
   ],
   "source": [
    "#scraped the night temperature and then splitting to get the number only\n",
    "auckland_night <- auckland_html %>% html_nodes(\".low\") %>% html_text()\n",
    "auckland_night\n",
    "first <-auckland_night\n",
    "length <-nchar(first)\n",
    "auckland_night <- first  %>%  substr(length-7, length-6)\n",
    "auckland_night <- as.integer(auckland_night)\n",
    "auckland_night"
   ]
  },
  {
   "cell_type": "code",
   "execution_count": 53,
   "id": "e6674cd7-4030-41a7-964f-8402a957ca95",
   "metadata": {
    "vscode": {
     "languageId": "r"
    }
   },
   "outputs": [
    {
     "data": {
      "text/html": [
       "<style>\n",
       ".list-inline {list-style: none; margin:0; padding: 0}\n",
       ".list-inline>li {display: inline-block}\n",
       ".list-inline>li:not(:last-child)::after {content: \"\\00b7\"; padding: 0 .5ex}\n",
       "</style>\n",
       "<ol class=list-inline><li>'7°Night'</li><li>'4°Night'</li><li>'6°Night'</li><li>'9°Night'</li><li>'9°Night'</li><li>'8°Night'</li><li>'9°Night'</li><li>'10°Night'</li><li>'10°Night'</li></ol>\n"
      ],
      "text/latex": [
       "\\begin{enumerate*}\n",
       "\\item '7°Night'\n",
       "\\item '4°Night'\n",
       "\\item '6°Night'\n",
       "\\item '9°Night'\n",
       "\\item '9°Night'\n",
       "\\item '8°Night'\n",
       "\\item '9°Night'\n",
       "\\item '10°Night'\n",
       "\\item '10°Night'\n",
       "\\end{enumerate*}\n"
      ],
      "text/markdown": [
       "1. '7°Night'\n",
       "2. '4°Night'\n",
       "3. '6°Night'\n",
       "4. '9°Night'\n",
       "5. '9°Night'\n",
       "6. '8°Night'\n",
       "7. '9°Night'\n",
       "8. '10°Night'\n",
       "9. '10°Night'\n",
       "\n",
       "\n"
      ],
      "text/plain": [
       "[1] \"7°Night\"  \"4°Night\"  \"6°Night\"  \"9°Night\"  \"9°Night\"  \"8°Night\"  \"9°Night\" \n",
       "[8] \"10°Night\" \"10°Night\""
      ]
     },
     "metadata": {},
     "output_type": "display_data"
    },
    {
     "data": {
      "text/html": [
       "<style>\n",
       ".list-inline {list-style: none; margin:0; padding: 0}\n",
       ".list-inline>li {display: inline-block}\n",
       ".list-inline>li:not(:last-child)::after {content: \"\\00b7\"; padding: 0 .5ex}\n",
       "</style>\n",
       "<ol class=list-inline><li>7</li><li>4</li><li>6</li><li>9</li><li>9</li><li>8</li><li>9</li><li>10</li><li>10</li></ol>\n"
      ],
      "text/latex": [
       "\\begin{enumerate*}\n",
       "\\item 7\n",
       "\\item 4\n",
       "\\item 6\n",
       "\\item 9\n",
       "\\item 9\n",
       "\\item 8\n",
       "\\item 9\n",
       "\\item 10\n",
       "\\item 10\n",
       "\\end{enumerate*}\n"
      ],
      "text/markdown": [
       "1. 7\n",
       "2. 4\n",
       "3. 6\n",
       "4. 9\n",
       "5. 9\n",
       "6. 8\n",
       "7. 9\n",
       "8. 10\n",
       "9. 10\n",
       "\n",
       "\n"
      ],
      "text/plain": [
       "[1]  7  4  6  9  9  8  9 10 10"
      ]
     },
     "metadata": {},
     "output_type": "display_data"
    }
   ],
   "source": [
    "#scraped the night temperature and then splitting to get the number only\n",
    "christchurch_night <- christchurch_html %>% html_nodes(\".low\") %>% html_text()\n",
    "christchurch_night\n",
    "first <-christchurch_night\n",
    "length <-nchar(first)\n",
    "christchurch_night <- first  %>%  substr(length-7, length-6)\n",
    "christchurch_night <- as.integer(christchurch_night)\n",
    "christchurch_night"
   ]
  },
  {
   "cell_type": "code",
   "execution_count": 54,
   "id": "7deb635b-f498-416f-853b-71cf7558809d",
   "metadata": {
    "scrolled": false,
    "vscode": {
     "languageId": "r"
    }
   },
   "outputs": [
    {
     "data": {
      "text/html": [
       "<style>\n",
       ".list-inline {list-style: none; margin:0; padding: 0}\n",
       ".list-inline>li {display: inline-block}\n",
       ".list-inline>li:not(:last-child)::after {content: \"\\00b7\"; padding: 0 .5ex}\n",
       "</style>\n",
       "<ol class=list-inline><li>'9°Night'</li><li>'8°Night'</li><li>'9°Night'</li><li>'12°Night'</li><li>'11°Night'</li><li>'11°Night'</li><li>'10°Night'</li><li>'12°Night'</li><li>'11°Night'</li></ol>\n"
      ],
      "text/latex": [
       "\\begin{enumerate*}\n",
       "\\item '9°Night'\n",
       "\\item '8°Night'\n",
       "\\item '9°Night'\n",
       "\\item '12°Night'\n",
       "\\item '11°Night'\n",
       "\\item '11°Night'\n",
       "\\item '10°Night'\n",
       "\\item '12°Night'\n",
       "\\item '11°Night'\n",
       "\\end{enumerate*}\n"
      ],
      "text/markdown": [
       "1. '9°Night'\n",
       "2. '8°Night'\n",
       "3. '9°Night'\n",
       "4. '12°Night'\n",
       "5. '11°Night'\n",
       "6. '11°Night'\n",
       "7. '10°Night'\n",
       "8. '12°Night'\n",
       "9. '11°Night'\n",
       "\n",
       "\n"
      ],
      "text/plain": [
       "[1] \"9°Night\"  \"8°Night\"  \"9°Night\"  \"12°Night\" \"11°Night\" \"11°Night\" \"10°Night\"\n",
       "[8] \"12°Night\" \"11°Night\""
      ]
     },
     "metadata": {},
     "output_type": "display_data"
    },
    {
     "data": {
      "text/html": [
       "<style>\n",
       ".list-inline {list-style: none; margin:0; padding: 0}\n",
       ".list-inline>li {display: inline-block}\n",
       ".list-inline>li:not(:last-child)::after {content: \"\\00b7\"; padding: 0 .5ex}\n",
       "</style>\n",
       "<ol class=list-inline><li>9</li><li>8</li><li>9</li><li>12</li><li>11</li><li>11</li><li>10</li><li>12</li><li>11</li></ol>\n"
      ],
      "text/latex": [
       "\\begin{enumerate*}\n",
       "\\item 9\n",
       "\\item 8\n",
       "\\item 9\n",
       "\\item 12\n",
       "\\item 11\n",
       "\\item 11\n",
       "\\item 10\n",
       "\\item 12\n",
       "\\item 11\n",
       "\\end{enumerate*}\n"
      ],
      "text/markdown": [
       "1. 9\n",
       "2. 8\n",
       "3. 9\n",
       "4. 12\n",
       "5. 11\n",
       "6. 11\n",
       "7. 10\n",
       "8. 12\n",
       "9. 11\n",
       "\n",
       "\n"
      ],
      "text/plain": [
       "[1]  9  8  9 12 11 11 10 12 11"
      ]
     },
     "metadata": {},
     "output_type": "display_data"
    }
   ],
   "source": [
    "#scraped the night temperature and then splitting to get the number only\n",
    "wellington_night <- wellington_html %>% html_nodes(\".low\") %>% html_text()\n",
    "wellington_night\n",
    "first <-wellington_night\n",
    "length <-nchar(first)\n",
    "wellington_night <- first  %>%  substr(length-7, length-6)\n",
    "wellington_night <- as.integer(wellington_night)\n",
    "wellington_night"
   ]
  },
  {
   "cell_type": "code",
   "execution_count": 55,
   "id": "756e0f6b",
   "metadata": {
    "scrolled": false,
    "vscode": {
     "languageId": "r"
    }
   },
   "outputs": [
    {
     "data": {
      "text/html": [
       "<style>\n",
       ".list-inline {list-style: none; margin:0; padding: 0}\n",
       ".list-inline>li {display: inline-block}\n",
       ".list-inline>li:not(:last-child)::after {content: \"\\00b7\"; padding: 0 .5ex}\n",
       "</style>\n",
       "<ol class=list-inline><li>'Showers. Breezy to brisk West to Sou\\'West winds.'</li><li>'Showers. Fairly breezy South to Sou\\'West winds.'</li><li>'Mainly sunny. Breezy Easterly winds.'</li><li>'Mostly sunny. Fairly breezy Sou\\'West winds.'</li><li>'Partly cloudy. Fairly breezy Sou\\'West winds.'</li><li>'Partly cloudy. Fairly breezy Sou\\'West winds.'</li><li>'Morning showers. Breezy West to Sou\\'West winds.'</li><li>'Mostly cloudy. Fairly breezy North to Nor\\'West winds.'</li><li>'Light rain. Breezy Northerly winds.'</li></ol>\n"
      ],
      "text/latex": [
       "\\begin{enumerate*}\n",
       "\\item 'Showers. Breezy to brisk West to Sou\\textbackslash{}'West winds.'\n",
       "\\item 'Showers. Fairly breezy South to Sou\\textbackslash{}'West winds.'\n",
       "\\item 'Mainly sunny. Breezy Easterly winds.'\n",
       "\\item 'Mostly sunny. Fairly breezy Sou\\textbackslash{}'West winds.'\n",
       "\\item 'Partly cloudy. Fairly breezy Sou\\textbackslash{}'West winds.'\n",
       "\\item 'Partly cloudy. Fairly breezy Sou\\textbackslash{}'West winds.'\n",
       "\\item 'Morning showers. Breezy West to Sou\\textbackslash{}'West winds.'\n",
       "\\item 'Mostly cloudy. Fairly breezy North to Nor\\textbackslash{}'West winds.'\n",
       "\\item 'Light rain. Breezy Northerly winds.'\n",
       "\\end{enumerate*}\n"
      ],
      "text/markdown": [
       "1. 'Showers. Breezy to brisk West to Sou\\'West winds.'\n",
       "2. 'Showers. Fairly breezy South to Sou\\'West winds.'\n",
       "3. 'Mainly sunny. Breezy Easterly winds.'\n",
       "4. 'Mostly sunny. Fairly breezy Sou\\'West winds.'\n",
       "5. 'Partly cloudy. Fairly breezy Sou\\'West winds.'\n",
       "6. 'Partly cloudy. Fairly breezy Sou\\'West winds.'\n",
       "7. 'Morning showers. Breezy West to Sou\\'West winds.'\n",
       "8. 'Mostly cloudy. Fairly breezy North to Nor\\'West winds.'\n",
       "9. 'Light rain. Breezy Northerly winds.'\n",
       "\n",
       "\n"
      ],
      "text/plain": [
       "[1] \"Showers. Breezy to brisk West to Sou'West winds.\"     \n",
       "[2] \"Showers. Fairly breezy South to Sou'West winds.\"      \n",
       "[3] \"Mainly sunny. Breezy Easterly winds.\"                 \n",
       "[4] \"Mostly sunny. Fairly breezy Sou'West winds.\"          \n",
       "[5] \"Partly cloudy. Fairly breezy Sou'West winds.\"         \n",
       "[6] \"Partly cloudy. Fairly breezy Sou'West winds.\"         \n",
       "[7] \"Morning showers. Breezy West to Sou'West winds.\"      \n",
       "[8] \"Mostly cloudy. Fairly breezy North to Nor'West winds.\"\n",
       "[9] \"Light rain. Breezy Northerly winds.\"                  "
      ]
     },
     "metadata": {},
     "output_type": "display_data"
    }
   ],
   "source": [
    "#scraped the weather patterns\n",
    "weathers <- auckland_html %>% html_nodes(\".larger\") %>% html_text()\n",
    "index <- 1:18\n",
    "auckland_weather <- weathers[index%%2==0]\n",
    "auckland_weather"
   ]
  },
  {
   "cell_type": "code",
   "execution_count": 56,
   "id": "68fc0b2b",
   "metadata": {
    "scrolled": false,
    "vscode": {
     "languageId": "r"
    }
   },
   "outputs": [
    {
     "data": {
      "text/html": [
       "<ol>\n",
       "\t<li><style>\n",
       ".list-inline {list-style: none; margin:0; padding: 0}\n",
       ".list-inline>li {display: inline-block}\n",
       ".list-inline>li:not(:last-child)::after {content: \"\\00b7\"; padding: 0 .5ex}\n",
       "</style>\n",
       "<ol class=list-inline><li>'Showers'</li><li>' Breezy to brisk West to Sou\\'West winds'</li></ol>\n",
       "</li>\n",
       "\t<li><style>\n",
       ".list-inline {list-style: none; margin:0; padding: 0}\n",
       ".list-inline>li {display: inline-block}\n",
       ".list-inline>li:not(:last-child)::after {content: \"\\00b7\"; padding: 0 .5ex}\n",
       "</style>\n",
       "<ol class=list-inline><li>'Showers'</li><li>' Fairly breezy South to Sou\\'West winds'</li></ol>\n",
       "</li>\n",
       "\t<li><style>\n",
       ".list-inline {list-style: none; margin:0; padding: 0}\n",
       ".list-inline>li {display: inline-block}\n",
       ".list-inline>li:not(:last-child)::after {content: \"\\00b7\"; padding: 0 .5ex}\n",
       "</style>\n",
       "<ol class=list-inline><li>'Mainly sunny'</li><li>' Breezy Easterly winds'</li></ol>\n",
       "</li>\n",
       "\t<li><style>\n",
       ".list-inline {list-style: none; margin:0; padding: 0}\n",
       ".list-inline>li {display: inline-block}\n",
       ".list-inline>li:not(:last-child)::after {content: \"\\00b7\"; padding: 0 .5ex}\n",
       "</style>\n",
       "<ol class=list-inline><li>'Mostly sunny'</li><li>' Fairly breezy Sou\\'West winds'</li></ol>\n",
       "</li>\n",
       "\t<li><style>\n",
       ".list-inline {list-style: none; margin:0; padding: 0}\n",
       ".list-inline>li {display: inline-block}\n",
       ".list-inline>li:not(:last-child)::after {content: \"\\00b7\"; padding: 0 .5ex}\n",
       "</style>\n",
       "<ol class=list-inline><li>'Partly cloudy'</li><li>' Fairly breezy Sou\\'West winds'</li></ol>\n",
       "</li>\n",
       "\t<li><style>\n",
       ".list-inline {list-style: none; margin:0; padding: 0}\n",
       ".list-inline>li {display: inline-block}\n",
       ".list-inline>li:not(:last-child)::after {content: \"\\00b7\"; padding: 0 .5ex}\n",
       "</style>\n",
       "<ol class=list-inline><li>'Partly cloudy'</li><li>' Fairly breezy Sou\\'West winds'</li></ol>\n",
       "</li>\n",
       "\t<li><style>\n",
       ".list-inline {list-style: none; margin:0; padding: 0}\n",
       ".list-inline>li {display: inline-block}\n",
       ".list-inline>li:not(:last-child)::after {content: \"\\00b7\"; padding: 0 .5ex}\n",
       "</style>\n",
       "<ol class=list-inline><li>'Morning showers'</li><li>' Breezy West to Sou\\'West winds'</li></ol>\n",
       "</li>\n",
       "\t<li><style>\n",
       ".list-inline {list-style: none; margin:0; padding: 0}\n",
       ".list-inline>li {display: inline-block}\n",
       ".list-inline>li:not(:last-child)::after {content: \"\\00b7\"; padding: 0 .5ex}\n",
       "</style>\n",
       "<ol class=list-inline><li>'Mostly cloudy'</li><li>' Fairly breezy North to Nor\\'West winds'</li></ol>\n",
       "</li>\n",
       "\t<li><style>\n",
       ".list-inline {list-style: none; margin:0; padding: 0}\n",
       ".list-inline>li {display: inline-block}\n",
       ".list-inline>li:not(:last-child)::after {content: \"\\00b7\"; padding: 0 .5ex}\n",
       "</style>\n",
       "<ol class=list-inline><li>'Light rain'</li><li>' Breezy Northerly winds'</li></ol>\n",
       "</li>\n",
       "</ol>\n"
      ],
      "text/latex": [
       "\\begin{enumerate}\n",
       "\\item \\begin{enumerate*}\n",
       "\\item 'Showers'\n",
       "\\item ' Breezy to brisk West to Sou\\textbackslash{}'West winds'\n",
       "\\end{enumerate*}\n",
       "\n",
       "\\item \\begin{enumerate*}\n",
       "\\item 'Showers'\n",
       "\\item ' Fairly breezy South to Sou\\textbackslash{}'West winds'\n",
       "\\end{enumerate*}\n",
       "\n",
       "\\item \\begin{enumerate*}\n",
       "\\item 'Mainly sunny'\n",
       "\\item ' Breezy Easterly winds'\n",
       "\\end{enumerate*}\n",
       "\n",
       "\\item \\begin{enumerate*}\n",
       "\\item 'Mostly sunny'\n",
       "\\item ' Fairly breezy Sou\\textbackslash{}'West winds'\n",
       "\\end{enumerate*}\n",
       "\n",
       "\\item \\begin{enumerate*}\n",
       "\\item 'Partly cloudy'\n",
       "\\item ' Fairly breezy Sou\\textbackslash{}'West winds'\n",
       "\\end{enumerate*}\n",
       "\n",
       "\\item \\begin{enumerate*}\n",
       "\\item 'Partly cloudy'\n",
       "\\item ' Fairly breezy Sou\\textbackslash{}'West winds'\n",
       "\\end{enumerate*}\n",
       "\n",
       "\\item \\begin{enumerate*}\n",
       "\\item 'Morning showers'\n",
       "\\item ' Breezy West to Sou\\textbackslash{}'West winds'\n",
       "\\end{enumerate*}\n",
       "\n",
       "\\item \\begin{enumerate*}\n",
       "\\item 'Mostly cloudy'\n",
       "\\item ' Fairly breezy North to Nor\\textbackslash{}'West winds'\n",
       "\\end{enumerate*}\n",
       "\n",
       "\\item \\begin{enumerate*}\n",
       "\\item 'Light rain'\n",
       "\\item ' Breezy Northerly winds'\n",
       "\\end{enumerate*}\n",
       "\n",
       "\\end{enumerate}\n"
      ],
      "text/markdown": [
       "1. 1. 'Showers'\n",
       "2. ' Breezy to brisk West to Sou\\'West winds'\n",
       "\n",
       "\n",
       "\n",
       "2. 1. 'Showers'\n",
       "2. ' Fairly breezy South to Sou\\'West winds'\n",
       "\n",
       "\n",
       "\n",
       "3. 1. 'Mainly sunny'\n",
       "2. ' Breezy Easterly winds'\n",
       "\n",
       "\n",
       "\n",
       "4. 1. 'Mostly sunny'\n",
       "2. ' Fairly breezy Sou\\'West winds'\n",
       "\n",
       "\n",
       "\n",
       "5. 1. 'Partly cloudy'\n",
       "2. ' Fairly breezy Sou\\'West winds'\n",
       "\n",
       "\n",
       "\n",
       "6. 1. 'Partly cloudy'\n",
       "2. ' Fairly breezy Sou\\'West winds'\n",
       "\n",
       "\n",
       "\n",
       "7. 1. 'Morning showers'\n",
       "2. ' Breezy West to Sou\\'West winds'\n",
       "\n",
       "\n",
       "\n",
       "8. 1. 'Mostly cloudy'\n",
       "2. ' Fairly breezy North to Nor\\'West winds'\n",
       "\n",
       "\n",
       "\n",
       "9. 1. 'Light rain'\n",
       "2. ' Breezy Northerly winds'\n",
       "\n",
       "\n",
       "\n",
       "\n",
       "\n"
      ],
      "text/plain": [
       "[[1]]\n",
       "[1] \"Showers\"                                \n",
       "[2] \" Breezy to brisk West to Sou'West winds\"\n",
       "\n",
       "[[2]]\n",
       "[1] \"Showers\"                               \n",
       "[2] \" Fairly breezy South to Sou'West winds\"\n",
       "\n",
       "[[3]]\n",
       "[1] \"Mainly sunny\"           \" Breezy Easterly winds\"\n",
       "\n",
       "[[4]]\n",
       "[1] \"Mostly sunny\"                  \" Fairly breezy Sou'West winds\"\n",
       "\n",
       "[[5]]\n",
       "[1] \"Partly cloudy\"                 \" Fairly breezy Sou'West winds\"\n",
       "\n",
       "[[6]]\n",
       "[1] \"Partly cloudy\"                 \" Fairly breezy Sou'West winds\"\n",
       "\n",
       "[[7]]\n",
       "[1] \"Morning showers\"                \" Breezy West to Sou'West winds\"\n",
       "\n",
       "[[8]]\n",
       "[1] \"Mostly cloudy\"                         \n",
       "[2] \" Fairly breezy North to Nor'West winds\"\n",
       "\n",
       "[[9]]\n",
       "[1] \"Light rain\"              \" Breezy Northerly winds\"\n"
      ]
     },
     "metadata": {},
     "output_type": "display_data"
    },
    {
     "data": {
      "text/html": [
       "<style>\n",
       ".list-inline {list-style: none; margin:0; padding: 0}\n",
       ".list-inline>li {display: inline-block}\n",
       ".list-inline>li:not(:last-child)::after {content: \"\\00b7\"; padding: 0 .5ex}\n",
       "</style>\n",
       "<ol class=list-inline><li>'Showers'</li><li>'Showers'</li><li>'Mainly sunny'</li><li>'Mostly sunny'</li><li>'Partly cloudy'</li><li>'Partly cloudy'</li><li>'Morning showers'</li><li>'Mostly cloudy'</li><li>'Light rain'</li></ol>\n"
      ],
      "text/latex": [
       "\\begin{enumerate*}\n",
       "\\item 'Showers'\n",
       "\\item 'Showers'\n",
       "\\item 'Mainly sunny'\n",
       "\\item 'Mostly sunny'\n",
       "\\item 'Partly cloudy'\n",
       "\\item 'Partly cloudy'\n",
       "\\item 'Morning showers'\n",
       "\\item 'Mostly cloudy'\n",
       "\\item 'Light rain'\n",
       "\\end{enumerate*}\n"
      ],
      "text/markdown": [
       "1. 'Showers'\n",
       "2. 'Showers'\n",
       "3. 'Mainly sunny'\n",
       "4. 'Mostly sunny'\n",
       "5. 'Partly cloudy'\n",
       "6. 'Partly cloudy'\n",
       "7. 'Morning showers'\n",
       "8. 'Mostly cloudy'\n",
       "9. 'Light rain'\n",
       "\n",
       "\n"
      ],
      "text/plain": [
       "[1] \"Showers\"         \"Showers\"         \"Mainly sunny\"    \"Mostly sunny\"   \n",
       "[5] \"Partly cloudy\"   \"Partly cloudy\"   \"Morning showers\" \"Mostly cloudy\"  \n",
       "[9] \"Light rain\"     "
      ]
     },
     "metadata": {},
     "output_type": "display_data"
    },
    {
     "data": {
      "text/html": [
       "<style>\n",
       ".list-inline {list-style: none; margin:0; padding: 0}\n",
       ".list-inline>li {display: inline-block}\n",
       ".list-inline>li:not(:last-child)::after {content: \"\\00b7\"; padding: 0 .5ex}\n",
       "</style>\n",
       "<ol class=list-inline><li>' Breezy to brisk West to Sou\\'West winds'</li><li>' Fairly breezy South to Sou\\'West winds'</li><li>' Breezy Easterly winds'</li><li>' Fairly breezy Sou\\'West winds'</li><li>' Fairly breezy Sou\\'West winds'</li><li>' Fairly breezy Sou\\'West winds'</li><li>' Breezy West to Sou\\'West winds'</li><li>' Fairly breezy North to Nor\\'West winds'</li><li>' Breezy Northerly winds'</li></ol>\n"
      ],
      "text/latex": [
       "\\begin{enumerate*}\n",
       "\\item ' Breezy to brisk West to Sou\\textbackslash{}'West winds'\n",
       "\\item ' Fairly breezy South to Sou\\textbackslash{}'West winds'\n",
       "\\item ' Breezy Easterly winds'\n",
       "\\item ' Fairly breezy Sou\\textbackslash{}'West winds'\n",
       "\\item ' Fairly breezy Sou\\textbackslash{}'West winds'\n",
       "\\item ' Fairly breezy Sou\\textbackslash{}'West winds'\n",
       "\\item ' Breezy West to Sou\\textbackslash{}'West winds'\n",
       "\\item ' Fairly breezy North to Nor\\textbackslash{}'West winds'\n",
       "\\item ' Breezy Northerly winds'\n",
       "\\end{enumerate*}\n"
      ],
      "text/markdown": [
       "1. ' Breezy to brisk West to Sou\\'West winds'\n",
       "2. ' Fairly breezy South to Sou\\'West winds'\n",
       "3. ' Breezy Easterly winds'\n",
       "4. ' Fairly breezy Sou\\'West winds'\n",
       "5. ' Fairly breezy Sou\\'West winds'\n",
       "6. ' Fairly breezy Sou\\'West winds'\n",
       "7. ' Breezy West to Sou\\'West winds'\n",
       "8. ' Fairly breezy North to Nor\\'West winds'\n",
       "9. ' Breezy Northerly winds'\n",
       "\n",
       "\n"
      ],
      "text/plain": [
       "[1] \" Breezy to brisk West to Sou'West winds\"\n",
       "[2] \" Fairly breezy South to Sou'West winds\" \n",
       "[3] \" Breezy Easterly winds\"                 \n",
       "[4] \" Fairly breezy Sou'West winds\"          \n",
       "[5] \" Fairly breezy Sou'West winds\"          \n",
       "[6] \" Fairly breezy Sou'West winds\"          \n",
       "[7] \" Breezy West to Sou'West winds\"         \n",
       "[8] \" Fairly breezy North to Nor'West winds\" \n",
       "[9] \" Breezy Northerly winds\"                "
      ]
     },
     "metadata": {},
     "output_type": "display_data"
    }
   ],
   "source": [
    "#split weather pattern and wind pattern and assign to variables\n",
    "akl_split_weather<-strsplit(auckland_weather,\"[.]\")\n",
    "akl_split_weather\n",
    "\n",
    "akl_weather_pattern <- as.character(lapply(akl_split_weather, `[[`, 1))\n",
    "akl_weather_pattern\n",
    "\n",
    "akl_wind_pattern <- as.character(lapply(akl_split_weather, `[[`, -1))  \n",
    "akl_wind_pattern"
   ]
  },
  {
   "cell_type": "code",
   "execution_count": 57,
   "id": "f105f8c9-e7e5-4f02-8f05-df56a9e11d2c",
   "metadata": {
    "vscode": {
     "languageId": "r"
    }
   },
   "outputs": [
    {
     "data": {
      "text/html": [
       "<style>\n",
       ".list-inline {list-style: none; margin:0; padding: 0}\n",
       ".list-inline>li {display: inline-block}\n",
       ".list-inline>li:not(:last-child)::after {content: \"\\00b7\"; padding: 0 .5ex}\n",
       "</style>\n",
       "<ol class=list-inline><li>'Mostly sunny. Breezy to brisk North to Nor\\'West winds.'</li><li>'Windy and partly cloudy. Strong and blustery Southerly winds.'</li><li>'Partly cloudy. Breezy Sou\\'East winds.'</li><li>'Generally clear and windy. Brisk Northerly winds.'</li><li>'Partly cloudy. Fairly breezy Northerly winds.'</li><li>'Partly cloudy. Fairly breezy Nor\\'East winds.'</li><li>'Windy and partly cloudy. Breezy to brisk Northerly winds.'</li><li>'Partly cloudy. Breezy to brisk Northerly winds.'</li><li>'Showers. Breezy to brisk North to Nor\\'West winds.'</li></ol>\n"
      ],
      "text/latex": [
       "\\begin{enumerate*}\n",
       "\\item 'Mostly sunny. Breezy to brisk North to Nor\\textbackslash{}'West winds.'\n",
       "\\item 'Windy and partly cloudy. Strong and blustery Southerly winds.'\n",
       "\\item 'Partly cloudy. Breezy Sou\\textbackslash{}'East winds.'\n",
       "\\item 'Generally clear and windy. Brisk Northerly winds.'\n",
       "\\item 'Partly cloudy. Fairly breezy Northerly winds.'\n",
       "\\item 'Partly cloudy. Fairly breezy Nor\\textbackslash{}'East winds.'\n",
       "\\item 'Windy and partly cloudy. Breezy to brisk Northerly winds.'\n",
       "\\item 'Partly cloudy. Breezy to brisk Northerly winds.'\n",
       "\\item 'Showers. Breezy to brisk North to Nor\\textbackslash{}'West winds.'\n",
       "\\end{enumerate*}\n"
      ],
      "text/markdown": [
       "1. 'Mostly sunny. Breezy to brisk North to Nor\\'West winds.'\n",
       "2. 'Windy and partly cloudy. Strong and blustery Southerly winds.'\n",
       "3. 'Partly cloudy. Breezy Sou\\'East winds.'\n",
       "4. 'Generally clear and windy. Brisk Northerly winds.'\n",
       "5. 'Partly cloudy. Fairly breezy Northerly winds.'\n",
       "6. 'Partly cloudy. Fairly breezy Nor\\'East winds.'\n",
       "7. 'Windy and partly cloudy. Breezy to brisk Northerly winds.'\n",
       "8. 'Partly cloudy. Breezy to brisk Northerly winds.'\n",
       "9. 'Showers. Breezy to brisk North to Nor\\'West winds.'\n",
       "\n",
       "\n"
      ],
      "text/plain": [
       "[1] \"Mostly sunny. Breezy to brisk North to Nor'West winds.\"       \n",
       "[2] \"Windy and partly cloudy. Strong and blustery Southerly winds.\"\n",
       "[3] \"Partly cloudy. Breezy Sou'East winds.\"                        \n",
       "[4] \"Generally clear and windy. Brisk Northerly winds.\"            \n",
       "[5] \"Partly cloudy. Fairly breezy Northerly winds.\"                \n",
       "[6] \"Partly cloudy. Fairly breezy Nor'East winds.\"                 \n",
       "[7] \"Windy and partly cloudy. Breezy to brisk Northerly winds.\"    \n",
       "[8] \"Partly cloudy. Breezy to brisk Northerly winds.\"              \n",
       "[9] \"Showers. Breezy to brisk North to Nor'West winds.\"            "
      ]
     },
     "metadata": {},
     "output_type": "display_data"
    },
    {
     "data": {
      "text/html": [
       "<ol>\n",
       "\t<li><style>\n",
       ".list-inline {list-style: none; margin:0; padding: 0}\n",
       ".list-inline>li {display: inline-block}\n",
       ".list-inline>li:not(:last-child)::after {content: \"\\00b7\"; padding: 0 .5ex}\n",
       "</style>\n",
       "<ol class=list-inline><li>'Mostly sunny'</li><li>' Breezy to brisk North to Nor\\'West winds'</li></ol>\n",
       "</li>\n",
       "\t<li><style>\n",
       ".list-inline {list-style: none; margin:0; padding: 0}\n",
       ".list-inline>li {display: inline-block}\n",
       ".list-inline>li:not(:last-child)::after {content: \"\\00b7\"; padding: 0 .5ex}\n",
       "</style>\n",
       "<ol class=list-inline><li>'Windy and partly cloudy'</li><li>' Strong and blustery Southerly winds'</li></ol>\n",
       "</li>\n",
       "\t<li><style>\n",
       ".list-inline {list-style: none; margin:0; padding: 0}\n",
       ".list-inline>li {display: inline-block}\n",
       ".list-inline>li:not(:last-child)::after {content: \"\\00b7\"; padding: 0 .5ex}\n",
       "</style>\n",
       "<ol class=list-inline><li>'Partly cloudy'</li><li>' Breezy Sou\\'East winds'</li></ol>\n",
       "</li>\n",
       "\t<li><style>\n",
       ".list-inline {list-style: none; margin:0; padding: 0}\n",
       ".list-inline>li {display: inline-block}\n",
       ".list-inline>li:not(:last-child)::after {content: \"\\00b7\"; padding: 0 .5ex}\n",
       "</style>\n",
       "<ol class=list-inline><li>'Generally clear and windy'</li><li>' Brisk Northerly winds'</li></ol>\n",
       "</li>\n",
       "\t<li><style>\n",
       ".list-inline {list-style: none; margin:0; padding: 0}\n",
       ".list-inline>li {display: inline-block}\n",
       ".list-inline>li:not(:last-child)::after {content: \"\\00b7\"; padding: 0 .5ex}\n",
       "</style>\n",
       "<ol class=list-inline><li>'Partly cloudy'</li><li>' Fairly breezy Northerly winds'</li></ol>\n",
       "</li>\n",
       "\t<li><style>\n",
       ".list-inline {list-style: none; margin:0; padding: 0}\n",
       ".list-inline>li {display: inline-block}\n",
       ".list-inline>li:not(:last-child)::after {content: \"\\00b7\"; padding: 0 .5ex}\n",
       "</style>\n",
       "<ol class=list-inline><li>'Partly cloudy'</li><li>' Fairly breezy Nor\\'East winds'</li></ol>\n",
       "</li>\n",
       "\t<li><style>\n",
       ".list-inline {list-style: none; margin:0; padding: 0}\n",
       ".list-inline>li {display: inline-block}\n",
       ".list-inline>li:not(:last-child)::after {content: \"\\00b7\"; padding: 0 .5ex}\n",
       "</style>\n",
       "<ol class=list-inline><li>'Windy and partly cloudy'</li><li>' Breezy to brisk Northerly winds'</li></ol>\n",
       "</li>\n",
       "\t<li><style>\n",
       ".list-inline {list-style: none; margin:0; padding: 0}\n",
       ".list-inline>li {display: inline-block}\n",
       ".list-inline>li:not(:last-child)::after {content: \"\\00b7\"; padding: 0 .5ex}\n",
       "</style>\n",
       "<ol class=list-inline><li>'Partly cloudy'</li><li>' Breezy to brisk Northerly winds'</li></ol>\n",
       "</li>\n",
       "\t<li><style>\n",
       ".list-inline {list-style: none; margin:0; padding: 0}\n",
       ".list-inline>li {display: inline-block}\n",
       ".list-inline>li:not(:last-child)::after {content: \"\\00b7\"; padding: 0 .5ex}\n",
       "</style>\n",
       "<ol class=list-inline><li>'Showers'</li><li>' Breezy to brisk North to Nor\\'West winds'</li></ol>\n",
       "</li>\n",
       "</ol>\n"
      ],
      "text/latex": [
       "\\begin{enumerate}\n",
       "\\item \\begin{enumerate*}\n",
       "\\item 'Mostly sunny'\n",
       "\\item ' Breezy to brisk North to Nor\\textbackslash{}'West winds'\n",
       "\\end{enumerate*}\n",
       "\n",
       "\\item \\begin{enumerate*}\n",
       "\\item 'Windy and partly cloudy'\n",
       "\\item ' Strong and blustery Southerly winds'\n",
       "\\end{enumerate*}\n",
       "\n",
       "\\item \\begin{enumerate*}\n",
       "\\item 'Partly cloudy'\n",
       "\\item ' Breezy Sou\\textbackslash{}'East winds'\n",
       "\\end{enumerate*}\n",
       "\n",
       "\\item \\begin{enumerate*}\n",
       "\\item 'Generally clear and windy'\n",
       "\\item ' Brisk Northerly winds'\n",
       "\\end{enumerate*}\n",
       "\n",
       "\\item \\begin{enumerate*}\n",
       "\\item 'Partly cloudy'\n",
       "\\item ' Fairly breezy Northerly winds'\n",
       "\\end{enumerate*}\n",
       "\n",
       "\\item \\begin{enumerate*}\n",
       "\\item 'Partly cloudy'\n",
       "\\item ' Fairly breezy Nor\\textbackslash{}'East winds'\n",
       "\\end{enumerate*}\n",
       "\n",
       "\\item \\begin{enumerate*}\n",
       "\\item 'Windy and partly cloudy'\n",
       "\\item ' Breezy to brisk Northerly winds'\n",
       "\\end{enumerate*}\n",
       "\n",
       "\\item \\begin{enumerate*}\n",
       "\\item 'Partly cloudy'\n",
       "\\item ' Breezy to brisk Northerly winds'\n",
       "\\end{enumerate*}\n",
       "\n",
       "\\item \\begin{enumerate*}\n",
       "\\item 'Showers'\n",
       "\\item ' Breezy to brisk North to Nor\\textbackslash{}'West winds'\n",
       "\\end{enumerate*}\n",
       "\n",
       "\\end{enumerate}\n"
      ],
      "text/markdown": [
       "1. 1. 'Mostly sunny'\n",
       "2. ' Breezy to brisk North to Nor\\'West winds'\n",
       "\n",
       "\n",
       "\n",
       "2. 1. 'Windy and partly cloudy'\n",
       "2. ' Strong and blustery Southerly winds'\n",
       "\n",
       "\n",
       "\n",
       "3. 1. 'Partly cloudy'\n",
       "2. ' Breezy Sou\\'East winds'\n",
       "\n",
       "\n",
       "\n",
       "4. 1. 'Generally clear and windy'\n",
       "2. ' Brisk Northerly winds'\n",
       "\n",
       "\n",
       "\n",
       "5. 1. 'Partly cloudy'\n",
       "2. ' Fairly breezy Northerly winds'\n",
       "\n",
       "\n",
       "\n",
       "6. 1. 'Partly cloudy'\n",
       "2. ' Fairly breezy Nor\\'East winds'\n",
       "\n",
       "\n",
       "\n",
       "7. 1. 'Windy and partly cloudy'\n",
       "2. ' Breezy to brisk Northerly winds'\n",
       "\n",
       "\n",
       "\n",
       "8. 1. 'Partly cloudy'\n",
       "2. ' Breezy to brisk Northerly winds'\n",
       "\n",
       "\n",
       "\n",
       "9. 1. 'Showers'\n",
       "2. ' Breezy to brisk North to Nor\\'West winds'\n",
       "\n",
       "\n",
       "\n",
       "\n",
       "\n"
      ],
      "text/plain": [
       "[[1]]\n",
       "[1] \"Mostly sunny\"                            \n",
       "[2] \" Breezy to brisk North to Nor'West winds\"\n",
       "\n",
       "[[2]]\n",
       "[1] \"Windy and partly cloudy\"             \n",
       "[2] \" Strong and blustery Southerly winds\"\n",
       "\n",
       "[[3]]\n",
       "[1] \"Partly cloudy\"          \" Breezy Sou'East winds\"\n",
       "\n",
       "[[4]]\n",
       "[1] \"Generally clear and windy\" \" Brisk Northerly winds\"   \n",
       "\n",
       "[[5]]\n",
       "[1] \"Partly cloudy\"                  \" Fairly breezy Northerly winds\"\n",
       "\n",
       "[[6]]\n",
       "[1] \"Partly cloudy\"                 \" Fairly breezy Nor'East winds\"\n",
       "\n",
       "[[7]]\n",
       "[1] \"Windy and partly cloudy\"          \" Breezy to brisk Northerly winds\"\n",
       "\n",
       "[[8]]\n",
       "[1] \"Partly cloudy\"                    \" Breezy to brisk Northerly winds\"\n",
       "\n",
       "[[9]]\n",
       "[1] \"Showers\"                                 \n",
       "[2] \" Breezy to brisk North to Nor'West winds\"\n"
      ]
     },
     "metadata": {},
     "output_type": "display_data"
    },
    {
     "data": {
      "text/html": [
       "<style>\n",
       ".list-inline {list-style: none; margin:0; padding: 0}\n",
       ".list-inline>li {display: inline-block}\n",
       ".list-inline>li:not(:last-child)::after {content: \"\\00b7\"; padding: 0 .5ex}\n",
       "</style>\n",
       "<ol class=list-inline><li>'Showers'</li><li>'Showers'</li><li>'Mainly sunny'</li><li>'Mostly sunny'</li><li>'Partly cloudy'</li><li>'Partly cloudy'</li><li>'Morning showers'</li><li>'Mostly cloudy'</li><li>'Light rain'</li></ol>\n"
      ],
      "text/latex": [
       "\\begin{enumerate*}\n",
       "\\item 'Showers'\n",
       "\\item 'Showers'\n",
       "\\item 'Mainly sunny'\n",
       "\\item 'Mostly sunny'\n",
       "\\item 'Partly cloudy'\n",
       "\\item 'Partly cloudy'\n",
       "\\item 'Morning showers'\n",
       "\\item 'Mostly cloudy'\n",
       "\\item 'Light rain'\n",
       "\\end{enumerate*}\n"
      ],
      "text/markdown": [
       "1. 'Showers'\n",
       "2. 'Showers'\n",
       "3. 'Mainly sunny'\n",
       "4. 'Mostly sunny'\n",
       "5. 'Partly cloudy'\n",
       "6. 'Partly cloudy'\n",
       "7. 'Morning showers'\n",
       "8. 'Mostly cloudy'\n",
       "9. 'Light rain'\n",
       "\n",
       "\n"
      ],
      "text/plain": [
       "[1] \"Showers\"         \"Showers\"         \"Mainly sunny\"    \"Mostly sunny\"   \n",
       "[5] \"Partly cloudy\"   \"Partly cloudy\"   \"Morning showers\" \"Mostly cloudy\"  \n",
       "[9] \"Light rain\"     "
      ]
     },
     "metadata": {},
     "output_type": "display_data"
    },
    {
     "data": {
      "text/html": [
       "<style>\n",
       ".list-inline {list-style: none; margin:0; padding: 0}\n",
       ".list-inline>li {display: inline-block}\n",
       ".list-inline>li:not(:last-child)::after {content: \"\\00b7\"; padding: 0 .5ex}\n",
       "</style>\n",
       "<ol class=list-inline><li>' Breezy to brisk North to Nor\\'West winds'</li><li>' Strong and blustery Southerly winds'</li><li>' Breezy Sou\\'East winds'</li><li>' Brisk Northerly winds'</li><li>' Fairly breezy Northerly winds'</li><li>' Fairly breezy Nor\\'East winds'</li><li>' Breezy to brisk Northerly winds'</li><li>' Breezy to brisk Northerly winds'</li><li>' Breezy to brisk North to Nor\\'West winds'</li></ol>\n"
      ],
      "text/latex": [
       "\\begin{enumerate*}\n",
       "\\item ' Breezy to brisk North to Nor\\textbackslash{}'West winds'\n",
       "\\item ' Strong and blustery Southerly winds'\n",
       "\\item ' Breezy Sou\\textbackslash{}'East winds'\n",
       "\\item ' Brisk Northerly winds'\n",
       "\\item ' Fairly breezy Northerly winds'\n",
       "\\item ' Fairly breezy Nor\\textbackslash{}'East winds'\n",
       "\\item ' Breezy to brisk Northerly winds'\n",
       "\\item ' Breezy to brisk Northerly winds'\n",
       "\\item ' Breezy to brisk North to Nor\\textbackslash{}'West winds'\n",
       "\\end{enumerate*}\n"
      ],
      "text/markdown": [
       "1. ' Breezy to brisk North to Nor\\'West winds'\n",
       "2. ' Strong and blustery Southerly winds'\n",
       "3. ' Breezy Sou\\'East winds'\n",
       "4. ' Brisk Northerly winds'\n",
       "5. ' Fairly breezy Northerly winds'\n",
       "6. ' Fairly breezy Nor\\'East winds'\n",
       "7. ' Breezy to brisk Northerly winds'\n",
       "8. ' Breezy to brisk Northerly winds'\n",
       "9. ' Breezy to brisk North to Nor\\'West winds'\n",
       "\n",
       "\n"
      ],
      "text/plain": [
       "[1] \" Breezy to brisk North to Nor'West winds\"\n",
       "[2] \" Strong and blustery Southerly winds\"    \n",
       "[3] \" Breezy Sou'East winds\"                  \n",
       "[4] \" Brisk Northerly winds\"                  \n",
       "[5] \" Fairly breezy Northerly winds\"          \n",
       "[6] \" Fairly breezy Nor'East winds\"           \n",
       "[7] \" Breezy to brisk Northerly winds\"        \n",
       "[8] \" Breezy to brisk Northerly winds\"        \n",
       "[9] \" Breezy to brisk North to Nor'West winds\""
      ]
     },
     "metadata": {},
     "output_type": "display_data"
    }
   ],
   "source": [
    "#scraped the weather patterns and split weather pattern and wind pattern and assign to variables\n",
    "weathers <- wellington_html %>% html_nodes(\".larger\") %>% html_text()\n",
    "index <- 1:18\n",
    "wellington_weather <- weathers[index%%2==0]\n",
    "wellington_weather\n",
    "\n",
    "welly_split_weather<-strsplit(wellington_weather,\"[.]\")\n",
    "welly_split_weather\n",
    "\n",
    "welly_weather_pattern <- as.character(lapply(welly_split_weather, `[[`, 1))\n",
    "akl_weather_pattern\n",
    "\n",
    "welly_wind_pattern <- as.character(lapply(welly_split_weather, `[[`, -1))  \n",
    "welly_wind_pattern"
   ]
  },
  {
   "cell_type": "code",
   "execution_count": 58,
   "id": "f80a7a33-822c-4d04-a180-7d7462df70b1",
   "metadata": {
    "vscode": {
     "languageId": "r"
    }
   },
   "outputs": [
    {
     "data": {
      "text/html": [
       "<style>\n",
       ".list-inline {list-style: none; margin:0; padding: 0}\n",
       ".list-inline>li {display: inline-block}\n",
       ".list-inline>li:not(:last-child)::after {content: \"\\00b7\"; padding: 0 .5ex}\n",
       "</style>\n",
       "<ol class=list-inline><li>'Mostly sunny. Breezy North to Nor\\'East winds.'</li><li>'Partly cloudy. Breezy to brisk South to Sou\\'West winds.'</li><li>'Mainly sunny. Breezy Nor\\'East winds.'</li><li>'Mostly sunny. Light Northerly winds.'</li><li>'Mostly cloudy. Light Southerly winds.'</li><li>'Morning showers. Breezy Easterly winds.'</li><li>'Morning clouds followed by afternoon sun. Breezy Easterly winds.'</li><li>'Partly cloudy. Breezy Nor\\'East winds.'</li><li>'Afternoon showers. Breezy North to Nor\\'East winds.'</li></ol>\n"
      ],
      "text/latex": [
       "\\begin{enumerate*}\n",
       "\\item 'Mostly sunny. Breezy North to Nor\\textbackslash{}'East winds.'\n",
       "\\item 'Partly cloudy. Breezy to brisk South to Sou\\textbackslash{}'West winds.'\n",
       "\\item 'Mainly sunny. Breezy Nor\\textbackslash{}'East winds.'\n",
       "\\item 'Mostly sunny. Light Northerly winds.'\n",
       "\\item 'Mostly cloudy. Light Southerly winds.'\n",
       "\\item 'Morning showers. Breezy Easterly winds.'\n",
       "\\item 'Morning clouds followed by afternoon sun. Breezy Easterly winds.'\n",
       "\\item 'Partly cloudy. Breezy Nor\\textbackslash{}'East winds.'\n",
       "\\item 'Afternoon showers. Breezy North to Nor\\textbackslash{}'East winds.'\n",
       "\\end{enumerate*}\n"
      ],
      "text/markdown": [
       "1. 'Mostly sunny. Breezy North to Nor\\'East winds.'\n",
       "2. 'Partly cloudy. Breezy to brisk South to Sou\\'West winds.'\n",
       "3. 'Mainly sunny. Breezy Nor\\'East winds.'\n",
       "4. 'Mostly sunny. Light Northerly winds.'\n",
       "5. 'Mostly cloudy. Light Southerly winds.'\n",
       "6. 'Morning showers. Breezy Easterly winds.'\n",
       "7. 'Morning clouds followed by afternoon sun. Breezy Easterly winds.'\n",
       "8. 'Partly cloudy. Breezy Nor\\'East winds.'\n",
       "9. 'Afternoon showers. Breezy North to Nor\\'East winds.'\n",
       "\n",
       "\n"
      ],
      "text/plain": [
       "[1] \"Mostly sunny. Breezy North to Nor'East winds.\"                   \n",
       "[2] \"Partly cloudy. Breezy to brisk South to Sou'West winds.\"         \n",
       "[3] \"Mainly sunny. Breezy Nor'East winds.\"                            \n",
       "[4] \"Mostly sunny. Light Northerly winds.\"                            \n",
       "[5] \"Mostly cloudy. Light Southerly winds.\"                           \n",
       "[6] \"Morning showers. Breezy Easterly winds.\"                         \n",
       "[7] \"Morning clouds followed by afternoon sun. Breezy Easterly winds.\"\n",
       "[8] \"Partly cloudy. Breezy Nor'East winds.\"                           \n",
       "[9] \"Afternoon showers. Breezy North to Nor'East winds.\"              "
      ]
     },
     "metadata": {},
     "output_type": "display_data"
    },
    {
     "data": {
      "text/html": [
       "<ol>\n",
       "\t<li><style>\n",
       ".list-inline {list-style: none; margin:0; padding: 0}\n",
       ".list-inline>li {display: inline-block}\n",
       ".list-inline>li:not(:last-child)::after {content: \"\\00b7\"; padding: 0 .5ex}\n",
       "</style>\n",
       "<ol class=list-inline><li>'Mostly sunny'</li><li>' Breezy North to Nor\\'East winds'</li></ol>\n",
       "</li>\n",
       "\t<li><style>\n",
       ".list-inline {list-style: none; margin:0; padding: 0}\n",
       ".list-inline>li {display: inline-block}\n",
       ".list-inline>li:not(:last-child)::after {content: \"\\00b7\"; padding: 0 .5ex}\n",
       "</style>\n",
       "<ol class=list-inline><li>'Partly cloudy'</li><li>' Breezy to brisk South to Sou\\'West winds'</li></ol>\n",
       "</li>\n",
       "\t<li><style>\n",
       ".list-inline {list-style: none; margin:0; padding: 0}\n",
       ".list-inline>li {display: inline-block}\n",
       ".list-inline>li:not(:last-child)::after {content: \"\\00b7\"; padding: 0 .5ex}\n",
       "</style>\n",
       "<ol class=list-inline><li>'Mainly sunny'</li><li>' Breezy Nor\\'East winds'</li></ol>\n",
       "</li>\n",
       "\t<li><style>\n",
       ".list-inline {list-style: none; margin:0; padding: 0}\n",
       ".list-inline>li {display: inline-block}\n",
       ".list-inline>li:not(:last-child)::after {content: \"\\00b7\"; padding: 0 .5ex}\n",
       "</style>\n",
       "<ol class=list-inline><li>'Mostly sunny'</li><li>' Light Northerly winds'</li></ol>\n",
       "</li>\n",
       "\t<li><style>\n",
       ".list-inline {list-style: none; margin:0; padding: 0}\n",
       ".list-inline>li {display: inline-block}\n",
       ".list-inline>li:not(:last-child)::after {content: \"\\00b7\"; padding: 0 .5ex}\n",
       "</style>\n",
       "<ol class=list-inline><li>'Mostly cloudy'</li><li>' Light Southerly winds'</li></ol>\n",
       "</li>\n",
       "\t<li><style>\n",
       ".list-inline {list-style: none; margin:0; padding: 0}\n",
       ".list-inline>li {display: inline-block}\n",
       ".list-inline>li:not(:last-child)::after {content: \"\\00b7\"; padding: 0 .5ex}\n",
       "</style>\n",
       "<ol class=list-inline><li>'Morning showers'</li><li>' Breezy Easterly winds'</li></ol>\n",
       "</li>\n",
       "\t<li><style>\n",
       ".list-inline {list-style: none; margin:0; padding: 0}\n",
       ".list-inline>li {display: inline-block}\n",
       ".list-inline>li:not(:last-child)::after {content: \"\\00b7\"; padding: 0 .5ex}\n",
       "</style>\n",
       "<ol class=list-inline><li>'Morning clouds followed by afternoon sun'</li><li>' Breezy Easterly winds'</li></ol>\n",
       "</li>\n",
       "\t<li><style>\n",
       ".list-inline {list-style: none; margin:0; padding: 0}\n",
       ".list-inline>li {display: inline-block}\n",
       ".list-inline>li:not(:last-child)::after {content: \"\\00b7\"; padding: 0 .5ex}\n",
       "</style>\n",
       "<ol class=list-inline><li>'Partly cloudy'</li><li>' Breezy Nor\\'East winds'</li></ol>\n",
       "</li>\n",
       "\t<li><style>\n",
       ".list-inline {list-style: none; margin:0; padding: 0}\n",
       ".list-inline>li {display: inline-block}\n",
       ".list-inline>li:not(:last-child)::after {content: \"\\00b7\"; padding: 0 .5ex}\n",
       "</style>\n",
       "<ol class=list-inline><li>'Afternoon showers'</li><li>' Breezy North to Nor\\'East winds'</li></ol>\n",
       "</li>\n",
       "</ol>\n"
      ],
      "text/latex": [
       "\\begin{enumerate}\n",
       "\\item \\begin{enumerate*}\n",
       "\\item 'Mostly sunny'\n",
       "\\item ' Breezy North to Nor\\textbackslash{}'East winds'\n",
       "\\end{enumerate*}\n",
       "\n",
       "\\item \\begin{enumerate*}\n",
       "\\item 'Partly cloudy'\n",
       "\\item ' Breezy to brisk South to Sou\\textbackslash{}'West winds'\n",
       "\\end{enumerate*}\n",
       "\n",
       "\\item \\begin{enumerate*}\n",
       "\\item 'Mainly sunny'\n",
       "\\item ' Breezy Nor\\textbackslash{}'East winds'\n",
       "\\end{enumerate*}\n",
       "\n",
       "\\item \\begin{enumerate*}\n",
       "\\item 'Mostly sunny'\n",
       "\\item ' Light Northerly winds'\n",
       "\\end{enumerate*}\n",
       "\n",
       "\\item \\begin{enumerate*}\n",
       "\\item 'Mostly cloudy'\n",
       "\\item ' Light Southerly winds'\n",
       "\\end{enumerate*}\n",
       "\n",
       "\\item \\begin{enumerate*}\n",
       "\\item 'Morning showers'\n",
       "\\item ' Breezy Easterly winds'\n",
       "\\end{enumerate*}\n",
       "\n",
       "\\item \\begin{enumerate*}\n",
       "\\item 'Morning clouds followed by afternoon sun'\n",
       "\\item ' Breezy Easterly winds'\n",
       "\\end{enumerate*}\n",
       "\n",
       "\\item \\begin{enumerate*}\n",
       "\\item 'Partly cloudy'\n",
       "\\item ' Breezy Nor\\textbackslash{}'East winds'\n",
       "\\end{enumerate*}\n",
       "\n",
       "\\item \\begin{enumerate*}\n",
       "\\item 'Afternoon showers'\n",
       "\\item ' Breezy North to Nor\\textbackslash{}'East winds'\n",
       "\\end{enumerate*}\n",
       "\n",
       "\\end{enumerate}\n"
      ],
      "text/markdown": [
       "1. 1. 'Mostly sunny'\n",
       "2. ' Breezy North to Nor\\'East winds'\n",
       "\n",
       "\n",
       "\n",
       "2. 1. 'Partly cloudy'\n",
       "2. ' Breezy to brisk South to Sou\\'West winds'\n",
       "\n",
       "\n",
       "\n",
       "3. 1. 'Mainly sunny'\n",
       "2. ' Breezy Nor\\'East winds'\n",
       "\n",
       "\n",
       "\n",
       "4. 1. 'Mostly sunny'\n",
       "2. ' Light Northerly winds'\n",
       "\n",
       "\n",
       "\n",
       "5. 1. 'Mostly cloudy'\n",
       "2. ' Light Southerly winds'\n",
       "\n",
       "\n",
       "\n",
       "6. 1. 'Morning showers'\n",
       "2. ' Breezy Easterly winds'\n",
       "\n",
       "\n",
       "\n",
       "7. 1. 'Morning clouds followed by afternoon sun'\n",
       "2. ' Breezy Easterly winds'\n",
       "\n",
       "\n",
       "\n",
       "8. 1. 'Partly cloudy'\n",
       "2. ' Breezy Nor\\'East winds'\n",
       "\n",
       "\n",
       "\n",
       "9. 1. 'Afternoon showers'\n",
       "2. ' Breezy North to Nor\\'East winds'\n",
       "\n",
       "\n",
       "\n",
       "\n",
       "\n"
      ],
      "text/plain": [
       "[[1]]\n",
       "[1] \"Mostly sunny\"                    \" Breezy North to Nor'East winds\"\n",
       "\n",
       "[[2]]\n",
       "[1] \"Partly cloudy\"                           \n",
       "[2] \" Breezy to brisk South to Sou'West winds\"\n",
       "\n",
       "[[3]]\n",
       "[1] \"Mainly sunny\"           \" Breezy Nor'East winds\"\n",
       "\n",
       "[[4]]\n",
       "[1] \"Mostly sunny\"           \" Light Northerly winds\"\n",
       "\n",
       "[[5]]\n",
       "[1] \"Mostly cloudy\"          \" Light Southerly winds\"\n",
       "\n",
       "[[6]]\n",
       "[1] \"Morning showers\"        \" Breezy Easterly winds\"\n",
       "\n",
       "[[7]]\n",
       "[1] \"Morning clouds followed by afternoon sun\"\n",
       "[2] \" Breezy Easterly winds\"                  \n",
       "\n",
       "[[8]]\n",
       "[1] \"Partly cloudy\"          \" Breezy Nor'East winds\"\n",
       "\n",
       "[[9]]\n",
       "[1] \"Afternoon showers\"               \" Breezy North to Nor'East winds\"\n"
      ]
     },
     "metadata": {},
     "output_type": "display_data"
    },
    {
     "data": {
      "text/html": [
       "<style>\n",
       ".list-inline {list-style: none; margin:0; padding: 0}\n",
       ".list-inline>li {display: inline-block}\n",
       ".list-inline>li:not(:last-child)::after {content: \"\\00b7\"; padding: 0 .5ex}\n",
       "</style>\n",
       "<ol class=list-inline><li>'Showers'</li><li>'Showers'</li><li>'Mainly sunny'</li><li>'Mostly sunny'</li><li>'Partly cloudy'</li><li>'Partly cloudy'</li><li>'Morning showers'</li><li>'Mostly cloudy'</li><li>'Light rain'</li></ol>\n"
      ],
      "text/latex": [
       "\\begin{enumerate*}\n",
       "\\item 'Showers'\n",
       "\\item 'Showers'\n",
       "\\item 'Mainly sunny'\n",
       "\\item 'Mostly sunny'\n",
       "\\item 'Partly cloudy'\n",
       "\\item 'Partly cloudy'\n",
       "\\item 'Morning showers'\n",
       "\\item 'Mostly cloudy'\n",
       "\\item 'Light rain'\n",
       "\\end{enumerate*}\n"
      ],
      "text/markdown": [
       "1. 'Showers'\n",
       "2. 'Showers'\n",
       "3. 'Mainly sunny'\n",
       "4. 'Mostly sunny'\n",
       "5. 'Partly cloudy'\n",
       "6. 'Partly cloudy'\n",
       "7. 'Morning showers'\n",
       "8. 'Mostly cloudy'\n",
       "9. 'Light rain'\n",
       "\n",
       "\n"
      ],
      "text/plain": [
       "[1] \"Showers\"         \"Showers\"         \"Mainly sunny\"    \"Mostly sunny\"   \n",
       "[5] \"Partly cloudy\"   \"Partly cloudy\"   \"Morning showers\" \"Mostly cloudy\"  \n",
       "[9] \"Light rain\"     "
      ]
     },
     "metadata": {},
     "output_type": "display_data"
    },
    {
     "data": {
      "text/html": [
       "<style>\n",
       ".list-inline {list-style: none; margin:0; padding: 0}\n",
       ".list-inline>li {display: inline-block}\n",
       ".list-inline>li:not(:last-child)::after {content: \"\\00b7\"; padding: 0 .5ex}\n",
       "</style>\n",
       "<ol class=list-inline><li>' Breezy North to Nor\\'East winds'</li><li>' Breezy to brisk South to Sou\\'West winds'</li><li>' Breezy Nor\\'East winds'</li><li>' Light Northerly winds'</li><li>' Light Southerly winds'</li><li>' Breezy Easterly winds'</li><li>' Breezy Easterly winds'</li><li>' Breezy Nor\\'East winds'</li><li>' Breezy North to Nor\\'East winds'</li></ol>\n"
      ],
      "text/latex": [
       "\\begin{enumerate*}\n",
       "\\item ' Breezy North to Nor\\textbackslash{}'East winds'\n",
       "\\item ' Breezy to brisk South to Sou\\textbackslash{}'West winds'\n",
       "\\item ' Breezy Nor\\textbackslash{}'East winds'\n",
       "\\item ' Light Northerly winds'\n",
       "\\item ' Light Southerly winds'\n",
       "\\item ' Breezy Easterly winds'\n",
       "\\item ' Breezy Easterly winds'\n",
       "\\item ' Breezy Nor\\textbackslash{}'East winds'\n",
       "\\item ' Breezy North to Nor\\textbackslash{}'East winds'\n",
       "\\end{enumerate*}\n"
      ],
      "text/markdown": [
       "1. ' Breezy North to Nor\\'East winds'\n",
       "2. ' Breezy to brisk South to Sou\\'West winds'\n",
       "3. ' Breezy Nor\\'East winds'\n",
       "4. ' Light Northerly winds'\n",
       "5. ' Light Southerly winds'\n",
       "6. ' Breezy Easterly winds'\n",
       "7. ' Breezy Easterly winds'\n",
       "8. ' Breezy Nor\\'East winds'\n",
       "9. ' Breezy North to Nor\\'East winds'\n",
       "\n",
       "\n"
      ],
      "text/plain": [
       "[1] \" Breezy North to Nor'East winds\"         \n",
       "[2] \" Breezy to brisk South to Sou'West winds\"\n",
       "[3] \" Breezy Nor'East winds\"                  \n",
       "[4] \" Light Northerly winds\"                  \n",
       "[5] \" Light Southerly winds\"                  \n",
       "[6] \" Breezy Easterly winds\"                  \n",
       "[7] \" Breezy Easterly winds\"                  \n",
       "[8] \" Breezy Nor'East winds\"                  \n",
       "[9] \" Breezy North to Nor'East winds\"         "
      ]
     },
     "metadata": {},
     "output_type": "display_data"
    }
   ],
   "source": [
    "#scraped the weather patterns and split weather pattern and wind pattern and assign to variables\n",
    "weathers <- christchurch_html %>% html_nodes(\".larger\") %>% html_text()\n",
    "index <- 1:18\n",
    "christchurch_weather <- weathers[index%%2==0]\n",
    "christchurch_weather\n",
    "\n",
    "chch_split_weather<-strsplit(christchurch_weather,\"[.]\")\n",
    "chch_split_weather\n",
    "\n",
    "chch_weather_pattern <- as.character(lapply(chch_split_weather, `[[`, 1))\n",
    "akl_weather_pattern\n",
    "\n",
    "chch_wind_pattern <- as.character(lapply(chch_split_weather, `[[`, -1))  \n",
    "chch_wind_pattern"
   ]
  },
  {
   "cell_type": "code",
   "execution_count": 59,
   "id": "cf464b5e-4263-42d7-9595-fad32174ea3d",
   "metadata": {
    "vscode": {
     "languageId": "r"
    }
   },
   "outputs": [
    {
     "data": {
      "text/html": [
       "<style>\n",
       ".list-inline {list-style: none; margin:0; padding: 0}\n",
       ".list-inline>li {display: inline-block}\n",
       ".list-inline>li:not(:last-child)::after {content: \"\\00b7\"; padding: 0 .5ex}\n",
       "</style>\n",
       "<ol class=list-inline><li>'31km/h'</li><li>'23km/h'</li><li>'14km/h'</li><li>'21km/h'</li><li>'26km/h'</li><li>'22km/h'</li><li>'19km/h'</li><li>'20km/h'</li><li>'19km/h'</li></ol>\n"
      ],
      "text/latex": [
       "\\begin{enumerate*}\n",
       "\\item '31km/h'\n",
       "\\item '23km/h'\n",
       "\\item '14km/h'\n",
       "\\item '21km/h'\n",
       "\\item '26km/h'\n",
       "\\item '22km/h'\n",
       "\\item '19km/h'\n",
       "\\item '20km/h'\n",
       "\\item '19km/h'\n",
       "\\end{enumerate*}\n"
      ],
      "text/markdown": [
       "1. '31km/h'\n",
       "2. '23km/h'\n",
       "3. '14km/h'\n",
       "4. '21km/h'\n",
       "5. '26km/h'\n",
       "6. '22km/h'\n",
       "7. '19km/h'\n",
       "8. '20km/h'\n",
       "9. '19km/h'\n",
       "\n",
       "\n"
      ],
      "text/plain": [
       "[1] \"31km/h\" \"23km/h\" \"14km/h\" \"21km/h\" \"26km/h\" \"22km/h\" \"19km/h\" \"20km/h\"\n",
       "[9] \"19km/h\""
      ]
     },
     "metadata": {},
     "output_type": "display_data"
    },
    {
     "data": {
      "text/html": [
       "<style>\n",
       ".list-inline {list-style: none; margin:0; padding: 0}\n",
       ".list-inline>li {display: inline-block}\n",
       ".list-inline>li:not(:last-child)::after {content: \"\\00b7\"; padding: 0 .5ex}\n",
       "</style>\n",
       "<ol class=list-inline><li>31</li><li>23</li><li>14</li><li>21</li><li>26</li><li>22</li><li>19</li><li>20</li><li>19</li></ol>\n"
      ],
      "text/latex": [
       "\\begin{enumerate*}\n",
       "\\item 31\n",
       "\\item 23\n",
       "\\item 14\n",
       "\\item 21\n",
       "\\item 26\n",
       "\\item 22\n",
       "\\item 19\n",
       "\\item 20\n",
       "\\item 19\n",
       "\\end{enumerate*}\n"
      ],
      "text/markdown": [
       "1. 31\n",
       "2. 23\n",
       "3. 14\n",
       "4. 21\n",
       "5. 26\n",
       "6. 22\n",
       "7. 19\n",
       "8. 20\n",
       "9. 19\n",
       "\n",
       "\n"
      ],
      "text/plain": [
       "[1] 31 23 14 21 26 22 19 20 19"
      ]
     },
     "metadata": {},
     "output_type": "display_data"
    }
   ],
   "source": [
    "#scraped the wind and split to get only the number\n",
    "auckland_wind <- auckland_html %>% html_nodes(\".wind .small\") %>% html_text()\n",
    "auckland_wind\n",
    "\n",
    "first <-auckland_wind\n",
    "length <-nchar(first)\n",
    "auckland_wind <- first  %>%  substr(length-5, length-4)\n",
    "auckland_wind <- as.integer(auckland_wind)\n",
    "auckland_wind"
   ]
  },
  {
   "cell_type": "code",
   "execution_count": 60,
   "id": "70d8c1f2-005f-45e1-9a97-07199f498522",
   "metadata": {
    "vscode": {
     "languageId": "r"
    }
   },
   "outputs": [
    {
     "data": {
      "text/html": [
       "<style>\n",
       ".list-inline {list-style: none; margin:0; padding: 0}\n",
       ".list-inline>li {display: inline-block}\n",
       ".list-inline>li:not(:last-child)::after {content: \"\\00b7\"; padding: 0 .5ex}\n",
       "</style>\n",
       "<ol class=list-inline><li>'17km/h'</li><li>'30km/h'</li><li>'18km/h'</li><li>'13km/h'</li><li>'13km/h'</li><li>'14km/h'</li><li>'14km/h'</li><li>'14km/h'</li><li>'14km/h'</li></ol>\n"
      ],
      "text/latex": [
       "\\begin{enumerate*}\n",
       "\\item '17km/h'\n",
       "\\item '30km/h'\n",
       "\\item '18km/h'\n",
       "\\item '13km/h'\n",
       "\\item '13km/h'\n",
       "\\item '14km/h'\n",
       "\\item '14km/h'\n",
       "\\item '14km/h'\n",
       "\\item '14km/h'\n",
       "\\end{enumerate*}\n"
      ],
      "text/markdown": [
       "1. '17km/h'\n",
       "2. '30km/h'\n",
       "3. '18km/h'\n",
       "4. '13km/h'\n",
       "5. '13km/h'\n",
       "6. '14km/h'\n",
       "7. '14km/h'\n",
       "8. '14km/h'\n",
       "9. '14km/h'\n",
       "\n",
       "\n"
      ],
      "text/plain": [
       "[1] \"17km/h\" \"30km/h\" \"18km/h\" \"13km/h\" \"13km/h\" \"14km/h\" \"14km/h\" \"14km/h\"\n",
       "[9] \"14km/h\""
      ]
     },
     "metadata": {},
     "output_type": "display_data"
    },
    {
     "data": {
      "text/html": [
       "<style>\n",
       ".list-inline {list-style: none; margin:0; padding: 0}\n",
       ".list-inline>li {display: inline-block}\n",
       ".list-inline>li:not(:last-child)::after {content: \"\\00b7\"; padding: 0 .5ex}\n",
       "</style>\n",
       "<ol class=list-inline><li>17</li><li>30</li><li>18</li><li>13</li><li>13</li><li>14</li><li>14</li><li>14</li><li>14</li></ol>\n"
      ],
      "text/latex": [
       "\\begin{enumerate*}\n",
       "\\item 17\n",
       "\\item 30\n",
       "\\item 18\n",
       "\\item 13\n",
       "\\item 13\n",
       "\\item 14\n",
       "\\item 14\n",
       "\\item 14\n",
       "\\item 14\n",
       "\\end{enumerate*}\n"
      ],
      "text/markdown": [
       "1. 17\n",
       "2. 30\n",
       "3. 18\n",
       "4. 13\n",
       "5. 13\n",
       "6. 14\n",
       "7. 14\n",
       "8. 14\n",
       "9. 14\n",
       "\n",
       "\n"
      ],
      "text/plain": [
       "[1] 17 30 18 13 13 14 14 14 14"
      ]
     },
     "metadata": {},
     "output_type": "display_data"
    }
   ],
   "source": [
    "#scraped the wind and split to get only the number\n",
    "christchurch_wind <- christchurch_html %>% html_nodes(\".wind .small\") %>% html_text()\n",
    "christchurch_wind\n",
    "\n",
    "first <- christchurch_wind\n",
    "length <-nchar(first)\n",
    "christchurch_wind <- first  %>%  substr(length-5, length-4)\n",
    "christchurch_wind <- as.integer(christchurch_wind)\n",
    "christchurch_wind"
   ]
  },
  {
   "cell_type": "code",
   "execution_count": 61,
   "id": "d6de8ef5-f7fc-47d5-9579-3d166fd275c1",
   "metadata": {
    "vscode": {
     "languageId": "r"
    }
   },
   "outputs": [
    {
     "data": {
      "text/html": [
       "<style>\n",
       ".list-inline {list-style: none; margin:0; padding: 0}\n",
       ".list-inline>li {display: inline-block}\n",
       ".list-inline>li:not(:last-child)::after {content: \"\\00b7\"; padding: 0 .5ex}\n",
       "</style>\n",
       "<ol class=list-inline><li>'32km/h'</li><li>'46km/h'</li><li>'18km/h'</li><li>'42km/h'</li><li>'25km/h'</li><li>'23km/h'</li><li>'32km/h'</li><li>'32km/h'</li><li>'32km/h'</li></ol>\n"
      ],
      "text/latex": [
       "\\begin{enumerate*}\n",
       "\\item '32km/h'\n",
       "\\item '46km/h'\n",
       "\\item '18km/h'\n",
       "\\item '42km/h'\n",
       "\\item '25km/h'\n",
       "\\item '23km/h'\n",
       "\\item '32km/h'\n",
       "\\item '32km/h'\n",
       "\\item '32km/h'\n",
       "\\end{enumerate*}\n"
      ],
      "text/markdown": [
       "1. '32km/h'\n",
       "2. '46km/h'\n",
       "3. '18km/h'\n",
       "4. '42km/h'\n",
       "5. '25km/h'\n",
       "6. '23km/h'\n",
       "7. '32km/h'\n",
       "8. '32km/h'\n",
       "9. '32km/h'\n",
       "\n",
       "\n"
      ],
      "text/plain": [
       "[1] \"32km/h\" \"46km/h\" \"18km/h\" \"42km/h\" \"25km/h\" \"23km/h\" \"32km/h\" \"32km/h\"\n",
       "[9] \"32km/h\""
      ]
     },
     "metadata": {},
     "output_type": "display_data"
    },
    {
     "data": {
      "text/html": [
       "<style>\n",
       ".list-inline {list-style: none; margin:0; padding: 0}\n",
       ".list-inline>li {display: inline-block}\n",
       ".list-inline>li:not(:last-child)::after {content: \"\\00b7\"; padding: 0 .5ex}\n",
       "</style>\n",
       "<ol class=list-inline><li>32</li><li>46</li><li>18</li><li>42</li><li>25</li><li>23</li><li>32</li><li>32</li><li>32</li></ol>\n"
      ],
      "text/latex": [
       "\\begin{enumerate*}\n",
       "\\item 32\n",
       "\\item 46\n",
       "\\item 18\n",
       "\\item 42\n",
       "\\item 25\n",
       "\\item 23\n",
       "\\item 32\n",
       "\\item 32\n",
       "\\item 32\n",
       "\\end{enumerate*}\n"
      ],
      "text/markdown": [
       "1. 32\n",
       "2. 46\n",
       "3. 18\n",
       "4. 42\n",
       "5. 25\n",
       "6. 23\n",
       "7. 32\n",
       "8. 32\n",
       "9. 32\n",
       "\n",
       "\n"
      ],
      "text/plain": [
       "[1] 32 46 18 42 25 23 32 32 32"
      ]
     },
     "metadata": {},
     "output_type": "display_data"
    }
   ],
   "source": [
    "#scraped the wind and split to get only the number\n",
    "wellington_wind <- wellington_html %>% html_nodes(\".wind .small\") %>% html_text()\n",
    "wellington_wind\n",
    "\n",
    "first <- wellington_wind\n",
    "length <-nchar(first)\n",
    "wellington_wind <- first  %>%  substr(length-5, length-4)\n",
    "wellington_wind <- as.integer(wellington_wind)\n",
    "wellington_wind"
   ]
  },
  {
   "cell_type": "code",
   "execution_count": 62,
   "id": "2d7fc95b-5130-4678-8377-4185a1242b7f",
   "metadata": {
    "vscode": {
     "languageId": "r"
    }
   },
   "outputs": [
    {
     "data": {
      "text/html": [
       "'Weather Forecast for Auckland'"
      ],
      "text/latex": [
       "'Weather Forecast for Auckland'"
      ],
      "text/markdown": [
       "'Weather Forecast for Auckland'"
      ],
      "text/plain": [
       "[1] \"Weather Forecast for Auckland\""
      ]
     },
     "metadata": {},
     "output_type": "display_data"
    },
    {
     "data": {
      "text/html": [
       "'Auckland'"
      ],
      "text/latex": [
       "'Auckland'"
      ],
      "text/markdown": [
       "'Auckland'"
      ],
      "text/plain": [
       "[1] \"Auckland\""
      ]
     },
     "metadata": {},
     "output_type": "display_data"
    }
   ],
   "source": [
    "#scraped the location and split to get only the location; removing \"Weather Forecast for\"\n",
    "auckland_location <- auckland_html %>% html_nodes(\"h2\") %>% html_text()\n",
    "auckland_location\n",
    "\n",
    "auckland_location <- strsplit(auckland_location, split=\" \")\n",
    "auckland_location <- auckland_location[[1]][4]\n",
    "auckland_location"
   ]
  },
  {
   "cell_type": "code",
   "execution_count": 63,
   "id": "a77f28a1-5eda-456c-915b-7daebaa94e4a",
   "metadata": {
    "vscode": {
     "languageId": "r"
    }
   },
   "outputs": [
    {
     "data": {
      "text/html": [
       "'Weather Forecast for Wellington'"
      ],
      "text/latex": [
       "'Weather Forecast for Wellington'"
      ],
      "text/markdown": [
       "'Weather Forecast for Wellington'"
      ],
      "text/plain": [
       "[1] \"Weather Forecast for Wellington\""
      ]
     },
     "metadata": {},
     "output_type": "display_data"
    },
    {
     "data": {
      "text/html": [
       "'Wellington'"
      ],
      "text/latex": [
       "'Wellington'"
      ],
      "text/markdown": [
       "'Wellington'"
      ],
      "text/plain": [
       "[1] \"Wellington\""
      ]
     },
     "metadata": {},
     "output_type": "display_data"
    }
   ],
   "source": [
    "#scraped the location and split to get only the location; removing \"Weather Forecast for\"\n",
    "wellington_location <- wellington_html %>% html_nodes(\"h2\") %>% html_text()\n",
    "wellington_location\n",
    "\n",
    "wellington_location <- strsplit(wellington_location, split=\" \")\n",
    "wellington_location <- wellington_location[[1]][4]\n",
    "wellington_location"
   ]
  },
  {
   "cell_type": "code",
   "execution_count": 64,
   "id": "c3158aec-d887-4fdd-a07e-8bb8fb400904",
   "metadata": {
    "vscode": {
     "languageId": "r"
    }
   },
   "outputs": [
    {
     "data": {
      "text/html": [
       "'Weather Forecast for Christchurch'"
      ],
      "text/latex": [
       "'Weather Forecast for Christchurch'"
      ],
      "text/markdown": [
       "'Weather Forecast for Christchurch'"
      ],
      "text/plain": [
       "[1] \"Weather Forecast for Christchurch\""
      ]
     },
     "metadata": {},
     "output_type": "display_data"
    },
    {
     "data": {
      "text/html": [
       "'Christchurch'"
      ],
      "text/latex": [
       "'Christchurch'"
      ],
      "text/markdown": [
       "'Christchurch'"
      ],
      "text/plain": [
       "[1] \"Christchurch\""
      ]
     },
     "metadata": {},
     "output_type": "display_data"
    }
   ],
   "source": [
    "#scraped the location and split to get only the location; removing \"Weather Forecast for\"\n",
    "christchurch_location <- christchurch_html %>% html_nodes(\"h2\") %>% html_text()\n",
    "christchurch_location\n",
    "\n",
    "christchurch_location <- strsplit(christchurch_location, split=\" \")\n",
    "christchurch_location <- christchurch_location[[1]][4]\n",
    "christchurch_location"
   ]
  },
  {
   "cell_type": "code",
   "execution_count": 65,
   "id": "4e5713ac-644b-4842-958f-1103403f2c06",
   "metadata": {
    "vscode": {
     "languageId": "r"
    }
   },
   "outputs": [
    {
     "data": {
      "text/html": [
       "<table class=\"dataframe\">\n",
       "<caption>A tibble: 9 × 8</caption>\n",
       "<thead>\n",
       "\t<tr><th scope=col>Location</th><th scope=col>Day</th><th scope=col>Date</th><th scope=col>Weather_Pattern</th><th scope=col>Wind_Pattern</th><th scope=col>Night_Temp</th><th scope=col>Day_Temperature</th><th scope=col>Wind</th></tr>\n",
       "\t<tr><th scope=col>&lt;chr&gt;</th><th scope=col>&lt;chr&gt;</th><th scope=col>&lt;date&gt;</th><th scope=col>&lt;chr&gt;</th><th scope=col>&lt;chr&gt;</th><th scope=col>&lt;int&gt;</th><th scope=col>&lt;int&gt;</th><th scope=col>&lt;int&gt;</th></tr>\n",
       "</thead>\n",
       "<tbody>\n",
       "\t<tr><td>Auckland</td><td>Wed</td><td>2022-10-19</td><td>Showers        </td><td> Breezy to brisk West to Sou'West winds</td><td>12</td><td>17</td><td>31</td></tr>\n",
       "\t<tr><td>Auckland</td><td>Thu</td><td>2022-10-20</td><td>Showers        </td><td> Fairly breezy South to Sou'West winds </td><td>10</td><td>18</td><td>23</td></tr>\n",
       "\t<tr><td>Auckland</td><td>Fri</td><td>2022-10-21</td><td>Mainly sunny   </td><td> Breezy Easterly winds                 </td><td>10</td><td>17</td><td>14</td></tr>\n",
       "\t<tr><td>Auckland</td><td>Sat</td><td>2022-10-22</td><td>Mostly sunny   </td><td> Fairly breezy Sou'West winds          </td><td>12</td><td>19</td><td>21</td></tr>\n",
       "\t<tr><td>Auckland</td><td>Sun</td><td>2022-10-23</td><td>Partly cloudy  </td><td> Fairly breezy Sou'West winds          </td><td>13</td><td>19</td><td>26</td></tr>\n",
       "\t<tr><td>Auckland</td><td>Mon</td><td>2022-10-24</td><td>Partly cloudy  </td><td> Fairly breezy Sou'West winds          </td><td>13</td><td>19</td><td>22</td></tr>\n",
       "\t<tr><td>Auckland</td><td>Tue</td><td>2022-10-25</td><td>Morning showers</td><td> Breezy West to Sou'West winds         </td><td>13</td><td>19</td><td>19</td></tr>\n",
       "\t<tr><td>Auckland</td><td>Wed</td><td>2022-10-26</td><td>Mostly cloudy  </td><td> Fairly breezy North to Nor'West winds </td><td>14</td><td>19</td><td>20</td></tr>\n",
       "\t<tr><td>Auckland</td><td>Thu</td><td>2022-10-27</td><td>Light rain     </td><td> Breezy Northerly winds                </td><td>14</td><td>20</td><td>19</td></tr>\n",
       "</tbody>\n",
       "</table>\n"
      ],
      "text/latex": [
       "A tibble: 9 × 8\n",
       "\\begin{tabular}{llllllll}\n",
       " Location & Day & Date & Weather\\_Pattern & Wind\\_Pattern & Night\\_Temp & Day\\_Temperature & Wind\\\\\n",
       " <chr> & <chr> & <date> & <chr> & <chr> & <int> & <int> & <int>\\\\\n",
       "\\hline\n",
       "\t Auckland & Wed & 2022-10-19 & Showers         &  Breezy to brisk West to Sou'West winds & 12 & 17 & 31\\\\\n",
       "\t Auckland & Thu & 2022-10-20 & Showers         &  Fairly breezy South to Sou'West winds  & 10 & 18 & 23\\\\\n",
       "\t Auckland & Fri & 2022-10-21 & Mainly sunny    &  Breezy Easterly winds                  & 10 & 17 & 14\\\\\n",
       "\t Auckland & Sat & 2022-10-22 & Mostly sunny    &  Fairly breezy Sou'West winds           & 12 & 19 & 21\\\\\n",
       "\t Auckland & Sun & 2022-10-23 & Partly cloudy   &  Fairly breezy Sou'West winds           & 13 & 19 & 26\\\\\n",
       "\t Auckland & Mon & 2022-10-24 & Partly cloudy   &  Fairly breezy Sou'West winds           & 13 & 19 & 22\\\\\n",
       "\t Auckland & Tue & 2022-10-25 & Morning showers &  Breezy West to Sou'West winds          & 13 & 19 & 19\\\\\n",
       "\t Auckland & Wed & 2022-10-26 & Mostly cloudy   &  Fairly breezy North to Nor'West winds  & 14 & 19 & 20\\\\\n",
       "\t Auckland & Thu & 2022-10-27 & Light rain      &  Breezy Northerly winds                 & 14 & 20 & 19\\\\\n",
       "\\end{tabular}\n"
      ],
      "text/markdown": [
       "\n",
       "A tibble: 9 × 8\n",
       "\n",
       "| Location &lt;chr&gt; | Day &lt;chr&gt; | Date &lt;date&gt; | Weather_Pattern &lt;chr&gt; | Wind_Pattern &lt;chr&gt; | Night_Temp &lt;int&gt; | Day_Temperature &lt;int&gt; | Wind &lt;int&gt; |\n",
       "|---|---|---|---|---|---|---|---|\n",
       "| Auckland | Wed | 2022-10-19 | Showers         |  Breezy to brisk West to Sou'West winds | 12 | 17 | 31 |\n",
       "| Auckland | Thu | 2022-10-20 | Showers         |  Fairly breezy South to Sou'West winds  | 10 | 18 | 23 |\n",
       "| Auckland | Fri | 2022-10-21 | Mainly sunny    |  Breezy Easterly winds                  | 10 | 17 | 14 |\n",
       "| Auckland | Sat | 2022-10-22 | Mostly sunny    |  Fairly breezy Sou'West winds           | 12 | 19 | 21 |\n",
       "| Auckland | Sun | 2022-10-23 | Partly cloudy   |  Fairly breezy Sou'West winds           | 13 | 19 | 26 |\n",
       "| Auckland | Mon | 2022-10-24 | Partly cloudy   |  Fairly breezy Sou'West winds           | 13 | 19 | 22 |\n",
       "| Auckland | Tue | 2022-10-25 | Morning showers |  Breezy West to Sou'West winds          | 13 | 19 | 19 |\n",
       "| Auckland | Wed | 2022-10-26 | Mostly cloudy   |  Fairly breezy North to Nor'West winds  | 14 | 19 | 20 |\n",
       "| Auckland | Thu | 2022-10-27 | Light rain      |  Breezy Northerly winds                 | 14 | 20 | 19 |\n",
       "\n"
      ],
      "text/plain": [
       "  Location Day Date       Weather_Pattern\n",
       "1 Auckland Wed 2022-10-19 Showers        \n",
       "2 Auckland Thu 2022-10-20 Showers        \n",
       "3 Auckland Fri 2022-10-21 Mainly sunny   \n",
       "4 Auckland Sat 2022-10-22 Mostly sunny   \n",
       "5 Auckland Sun 2022-10-23 Partly cloudy  \n",
       "6 Auckland Mon 2022-10-24 Partly cloudy  \n",
       "7 Auckland Tue 2022-10-25 Morning showers\n",
       "8 Auckland Wed 2022-10-26 Mostly cloudy  \n",
       "9 Auckland Thu 2022-10-27 Light rain     \n",
       "  Wind_Pattern                            Night_Temp Day_Temperature Wind\n",
       "1  Breezy to brisk West to Sou'West winds 12         17              31  \n",
       "2  Fairly breezy South to Sou'West winds  10         18              23  \n",
       "3  Breezy Easterly winds                  10         17              14  \n",
       "4  Fairly breezy Sou'West winds           12         19              21  \n",
       "5  Fairly breezy Sou'West winds           13         19              26  \n",
       "6  Fairly breezy Sou'West winds           13         19              22  \n",
       "7  Breezy West to Sou'West winds          13         19              19  \n",
       "8  Fairly breezy North to Nor'West winds  14         19              20  \n",
       "9  Breezy Northerly winds                 14         20              19  "
      ]
     },
     "metadata": {},
     "output_type": "display_data"
    }
   ],
   "source": [
    "#put all the data wrangled and clened into a table\n",
    "auckland_df <- tibble(Location=auckland_location, Day=day,Date=datey2, Weather_Pattern = akl_weather_pattern,Wind_Pattern=akl_wind_pattern, Night_Temp=auckland_night, Day_Temperature=auckland_day, Wind=auckland_wind)\n",
    "auckland_df"
   ]
  },
  {
   "cell_type": "code",
   "execution_count": 66,
   "id": "89e318aa-8875-49ab-b0c3-4110aa1c49d9",
   "metadata": {
    "vscode": {
     "languageId": "r"
    }
   },
   "outputs": [
    {
     "data": {
      "text/html": [
       "<table class=\"dataframe\">\n",
       "<caption>A tibble: 9 × 8</caption>\n",
       "<thead>\n",
       "\t<tr><th scope=col>Location</th><th scope=col>Day</th><th scope=col>Date</th><th scope=col>Weather_Pattern</th><th scope=col>Wind_Pattern</th><th scope=col>Night_Temp</th><th scope=col>Day_Temp</th><th scope=col>Wind</th></tr>\n",
       "\t<tr><th scope=col>&lt;chr&gt;</th><th scope=col>&lt;chr&gt;</th><th scope=col>&lt;date&gt;</th><th scope=col>&lt;chr&gt;</th><th scope=col>&lt;chr&gt;</th><th scope=col>&lt;int&gt;</th><th scope=col>&lt;int&gt;</th><th scope=col>&lt;int&gt;</th></tr>\n",
       "</thead>\n",
       "<tbody>\n",
       "\t<tr><td>Wellington</td><td>Wed</td><td>2022-10-19</td><td>Mostly sunny             </td><td> Breezy to brisk North to Nor'West winds</td><td> 9</td><td>16</td><td>32</td></tr>\n",
       "\t<tr><td>Wellington</td><td>Thu</td><td>2022-10-20</td><td>Windy and partly cloudy  </td><td> Strong and blustery Southerly winds    </td><td> 8</td><td>11</td><td>46</td></tr>\n",
       "\t<tr><td>Wellington</td><td>Fri</td><td>2022-10-21</td><td>Partly cloudy            </td><td> Breezy Sou'East winds                  </td><td> 9</td><td>14</td><td>18</td></tr>\n",
       "\t<tr><td>Wellington</td><td>Sat</td><td>2022-10-22</td><td>Generally clear and windy</td><td> Brisk Northerly winds                  </td><td>12</td><td>16</td><td>42</td></tr>\n",
       "\t<tr><td>Wellington</td><td>Sun</td><td>2022-10-23</td><td>Partly cloudy            </td><td> Fairly breezy Northerly winds          </td><td>11</td><td>16</td><td>25</td></tr>\n",
       "\t<tr><td>Wellington</td><td>Mon</td><td>2022-10-24</td><td>Partly cloudy            </td><td> Fairly breezy Nor'East winds           </td><td>11</td><td>15</td><td>23</td></tr>\n",
       "\t<tr><td>Wellington</td><td>Tue</td><td>2022-10-25</td><td>Windy and partly cloudy  </td><td> Breezy to brisk Northerly winds        </td><td>10</td><td>15</td><td>32</td></tr>\n",
       "\t<tr><td>Wellington</td><td>Wed</td><td>2022-10-26</td><td>Partly cloudy            </td><td> Breezy to brisk Northerly winds        </td><td>12</td><td>15</td><td>32</td></tr>\n",
       "\t<tr><td>Wellington</td><td>Thu</td><td>2022-10-27</td><td>Showers                  </td><td> Breezy to brisk North to Nor'West winds</td><td>11</td><td>15</td><td>32</td></tr>\n",
       "</tbody>\n",
       "</table>\n"
      ],
      "text/latex": [
       "A tibble: 9 × 8\n",
       "\\begin{tabular}{llllllll}\n",
       " Location & Day & Date & Weather\\_Pattern & Wind\\_Pattern & Night\\_Temp & Day\\_Temp & Wind\\\\\n",
       " <chr> & <chr> & <date> & <chr> & <chr> & <int> & <int> & <int>\\\\\n",
       "\\hline\n",
       "\t Wellington & Wed & 2022-10-19 & Mostly sunny              &  Breezy to brisk North to Nor'West winds &  9 & 16 & 32\\\\\n",
       "\t Wellington & Thu & 2022-10-20 & Windy and partly cloudy   &  Strong and blustery Southerly winds     &  8 & 11 & 46\\\\\n",
       "\t Wellington & Fri & 2022-10-21 & Partly cloudy             &  Breezy Sou'East winds                   &  9 & 14 & 18\\\\\n",
       "\t Wellington & Sat & 2022-10-22 & Generally clear and windy &  Brisk Northerly winds                   & 12 & 16 & 42\\\\\n",
       "\t Wellington & Sun & 2022-10-23 & Partly cloudy             &  Fairly breezy Northerly winds           & 11 & 16 & 25\\\\\n",
       "\t Wellington & Mon & 2022-10-24 & Partly cloudy             &  Fairly breezy Nor'East winds            & 11 & 15 & 23\\\\\n",
       "\t Wellington & Tue & 2022-10-25 & Windy and partly cloudy   &  Breezy to brisk Northerly winds         & 10 & 15 & 32\\\\\n",
       "\t Wellington & Wed & 2022-10-26 & Partly cloudy             &  Breezy to brisk Northerly winds         & 12 & 15 & 32\\\\\n",
       "\t Wellington & Thu & 2022-10-27 & Showers                   &  Breezy to brisk North to Nor'West winds & 11 & 15 & 32\\\\\n",
       "\\end{tabular}\n"
      ],
      "text/markdown": [
       "\n",
       "A tibble: 9 × 8\n",
       "\n",
       "| Location &lt;chr&gt; | Day &lt;chr&gt; | Date &lt;date&gt; | Weather_Pattern &lt;chr&gt; | Wind_Pattern &lt;chr&gt; | Night_Temp &lt;int&gt; | Day_Temp &lt;int&gt; | Wind &lt;int&gt; |\n",
       "|---|---|---|---|---|---|---|---|\n",
       "| Wellington | Wed | 2022-10-19 | Mostly sunny              |  Breezy to brisk North to Nor'West winds |  9 | 16 | 32 |\n",
       "| Wellington | Thu | 2022-10-20 | Windy and partly cloudy   |  Strong and blustery Southerly winds     |  8 | 11 | 46 |\n",
       "| Wellington | Fri | 2022-10-21 | Partly cloudy             |  Breezy Sou'East winds                   |  9 | 14 | 18 |\n",
       "| Wellington | Sat | 2022-10-22 | Generally clear and windy |  Brisk Northerly winds                   | 12 | 16 | 42 |\n",
       "| Wellington | Sun | 2022-10-23 | Partly cloudy             |  Fairly breezy Northerly winds           | 11 | 16 | 25 |\n",
       "| Wellington | Mon | 2022-10-24 | Partly cloudy             |  Fairly breezy Nor'East winds            | 11 | 15 | 23 |\n",
       "| Wellington | Tue | 2022-10-25 | Windy and partly cloudy   |  Breezy to brisk Northerly winds         | 10 | 15 | 32 |\n",
       "| Wellington | Wed | 2022-10-26 | Partly cloudy             |  Breezy to brisk Northerly winds         | 12 | 15 | 32 |\n",
       "| Wellington | Thu | 2022-10-27 | Showers                   |  Breezy to brisk North to Nor'West winds | 11 | 15 | 32 |\n",
       "\n"
      ],
      "text/plain": [
       "  Location   Day Date       Weather_Pattern          \n",
       "1 Wellington Wed 2022-10-19 Mostly sunny             \n",
       "2 Wellington Thu 2022-10-20 Windy and partly cloudy  \n",
       "3 Wellington Fri 2022-10-21 Partly cloudy            \n",
       "4 Wellington Sat 2022-10-22 Generally clear and windy\n",
       "5 Wellington Sun 2022-10-23 Partly cloudy            \n",
       "6 Wellington Mon 2022-10-24 Partly cloudy            \n",
       "7 Wellington Tue 2022-10-25 Windy and partly cloudy  \n",
       "8 Wellington Wed 2022-10-26 Partly cloudy            \n",
       "9 Wellington Thu 2022-10-27 Showers                  \n",
       "  Wind_Pattern                             Night_Temp Day_Temp Wind\n",
       "1  Breezy to brisk North to Nor'West winds  9         16       32  \n",
       "2  Strong and blustery Southerly winds      8         11       46  \n",
       "3  Breezy Sou'East winds                    9         14       18  \n",
       "4  Brisk Northerly winds                   12         16       42  \n",
       "5  Fairly breezy Northerly winds           11         16       25  \n",
       "6  Fairly breezy Nor'East winds            11         15       23  \n",
       "7  Breezy to brisk Northerly winds         10         15       32  \n",
       "8  Breezy to brisk Northerly winds         12         15       32  \n",
       "9  Breezy to brisk North to Nor'West winds 11         15       32  "
      ]
     },
     "metadata": {},
     "output_type": "display_data"
    }
   ],
   "source": [
    "#put all the data wrangled and clened into a table\n",
    "wellington_df <- tibble(Location=wellington_location, Day=day,Date=datey2, Weather_Pattern = welly_weather_pattern, Wind_Pattern=welly_wind_pattern, Night_Temp=wellington_night, Day_Temp=wellington_day, Wind=wellington_wind)\n",
    "wellington_df"
   ]
  },
  {
   "cell_type": "code",
   "execution_count": 67,
   "id": "e027ae5f-f524-48bb-ad41-3308bbc3ac66",
   "metadata": {
    "vscode": {
     "languageId": "r"
    }
   },
   "outputs": [
    {
     "data": {
      "text/html": [
       "<table class=\"dataframe\">\n",
       "<caption>A tibble: 9 × 8</caption>\n",
       "<thead>\n",
       "\t<tr><th scope=col>Location</th><th scope=col>Day</th><th scope=col>Date</th><th scope=col>Weather_Pattern</th><th scope=col>Wind_Pattern</th><th scope=col>Night_Temp</th><th scope=col>Day_Temp</th><th scope=col>Wind</th></tr>\n",
       "\t<tr><th scope=col>&lt;chr&gt;</th><th scope=col>&lt;chr&gt;</th><th scope=col>&lt;date&gt;</th><th scope=col>&lt;chr&gt;</th><th scope=col>&lt;chr&gt;</th><th scope=col>&lt;int&gt;</th><th scope=col>&lt;int&gt;</th><th scope=col>&lt;int&gt;</th></tr>\n",
       "</thead>\n",
       "<tbody>\n",
       "\t<tr><td>Christchurch</td><td>Wed</td><td>2022-10-19</td><td>Mostly sunny                            </td><td> Breezy North to Nor'East winds         </td><td> 7</td><td>16</td><td>17</td></tr>\n",
       "\t<tr><td>Christchurch</td><td>Thu</td><td>2022-10-20</td><td>Partly cloudy                           </td><td> Breezy to brisk South to Sou'West winds</td><td> 4</td><td>11</td><td>30</td></tr>\n",
       "\t<tr><td>Christchurch</td><td>Fri</td><td>2022-10-21</td><td>Mainly sunny                            </td><td> Breezy Nor'East winds                  </td><td> 6</td><td>14</td><td>18</td></tr>\n",
       "\t<tr><td>Christchurch</td><td>Sat</td><td>2022-10-22</td><td>Mostly sunny                            </td><td> Light Northerly winds                  </td><td> 9</td><td>21</td><td>13</td></tr>\n",
       "\t<tr><td>Christchurch</td><td>Sun</td><td>2022-10-23</td><td>Mostly cloudy                           </td><td> Light Southerly winds                  </td><td> 9</td><td>17</td><td>13</td></tr>\n",
       "\t<tr><td>Christchurch</td><td>Mon</td><td>2022-10-24</td><td>Morning showers                         </td><td> Breezy Easterly winds                  </td><td> 8</td><td>15</td><td>14</td></tr>\n",
       "\t<tr><td>Christchurch</td><td>Tue</td><td>2022-10-25</td><td>Morning clouds followed by afternoon sun</td><td> Breezy Easterly winds                  </td><td> 9</td><td>17</td><td>14</td></tr>\n",
       "\t<tr><td>Christchurch</td><td>Wed</td><td>2022-10-26</td><td>Partly cloudy                           </td><td> Breezy Nor'East winds                  </td><td>10</td><td>16</td><td>14</td></tr>\n",
       "\t<tr><td>Christchurch</td><td>Thu</td><td>2022-10-27</td><td>Afternoon showers                       </td><td> Breezy North to Nor'East winds         </td><td>10</td><td>18</td><td>14</td></tr>\n",
       "</tbody>\n",
       "</table>\n"
      ],
      "text/latex": [
       "A tibble: 9 × 8\n",
       "\\begin{tabular}{llllllll}\n",
       " Location & Day & Date & Weather\\_Pattern & Wind\\_Pattern & Night\\_Temp & Day\\_Temp & Wind\\\\\n",
       " <chr> & <chr> & <date> & <chr> & <chr> & <int> & <int> & <int>\\\\\n",
       "\\hline\n",
       "\t Christchurch & Wed & 2022-10-19 & Mostly sunny                             &  Breezy North to Nor'East winds          &  7 & 16 & 17\\\\\n",
       "\t Christchurch & Thu & 2022-10-20 & Partly cloudy                            &  Breezy to brisk South to Sou'West winds &  4 & 11 & 30\\\\\n",
       "\t Christchurch & Fri & 2022-10-21 & Mainly sunny                             &  Breezy Nor'East winds                   &  6 & 14 & 18\\\\\n",
       "\t Christchurch & Sat & 2022-10-22 & Mostly sunny                             &  Light Northerly winds                   &  9 & 21 & 13\\\\\n",
       "\t Christchurch & Sun & 2022-10-23 & Mostly cloudy                            &  Light Southerly winds                   &  9 & 17 & 13\\\\\n",
       "\t Christchurch & Mon & 2022-10-24 & Morning showers                          &  Breezy Easterly winds                   &  8 & 15 & 14\\\\\n",
       "\t Christchurch & Tue & 2022-10-25 & Morning clouds followed by afternoon sun &  Breezy Easterly winds                   &  9 & 17 & 14\\\\\n",
       "\t Christchurch & Wed & 2022-10-26 & Partly cloudy                            &  Breezy Nor'East winds                   & 10 & 16 & 14\\\\\n",
       "\t Christchurch & Thu & 2022-10-27 & Afternoon showers                        &  Breezy North to Nor'East winds          & 10 & 18 & 14\\\\\n",
       "\\end{tabular}\n"
      ],
      "text/markdown": [
       "\n",
       "A tibble: 9 × 8\n",
       "\n",
       "| Location &lt;chr&gt; | Day &lt;chr&gt; | Date &lt;date&gt; | Weather_Pattern &lt;chr&gt; | Wind_Pattern &lt;chr&gt; | Night_Temp &lt;int&gt; | Day_Temp &lt;int&gt; | Wind &lt;int&gt; |\n",
       "|---|---|---|---|---|---|---|---|\n",
       "| Christchurch | Wed | 2022-10-19 | Mostly sunny                             |  Breezy North to Nor'East winds          |  7 | 16 | 17 |\n",
       "| Christchurch | Thu | 2022-10-20 | Partly cloudy                            |  Breezy to brisk South to Sou'West winds |  4 | 11 | 30 |\n",
       "| Christchurch | Fri | 2022-10-21 | Mainly sunny                             |  Breezy Nor'East winds                   |  6 | 14 | 18 |\n",
       "| Christchurch | Sat | 2022-10-22 | Mostly sunny                             |  Light Northerly winds                   |  9 | 21 | 13 |\n",
       "| Christchurch | Sun | 2022-10-23 | Mostly cloudy                            |  Light Southerly winds                   |  9 | 17 | 13 |\n",
       "| Christchurch | Mon | 2022-10-24 | Morning showers                          |  Breezy Easterly winds                   |  8 | 15 | 14 |\n",
       "| Christchurch | Tue | 2022-10-25 | Morning clouds followed by afternoon sun |  Breezy Easterly winds                   |  9 | 17 | 14 |\n",
       "| Christchurch | Wed | 2022-10-26 | Partly cloudy                            |  Breezy Nor'East winds                   | 10 | 16 | 14 |\n",
       "| Christchurch | Thu | 2022-10-27 | Afternoon showers                        |  Breezy North to Nor'East winds          | 10 | 18 | 14 |\n",
       "\n"
      ],
      "text/plain": [
       "  Location     Day Date       Weather_Pattern                         \n",
       "1 Christchurch Wed 2022-10-19 Mostly sunny                            \n",
       "2 Christchurch Thu 2022-10-20 Partly cloudy                           \n",
       "3 Christchurch Fri 2022-10-21 Mainly sunny                            \n",
       "4 Christchurch Sat 2022-10-22 Mostly sunny                            \n",
       "5 Christchurch Sun 2022-10-23 Mostly cloudy                           \n",
       "6 Christchurch Mon 2022-10-24 Morning showers                         \n",
       "7 Christchurch Tue 2022-10-25 Morning clouds followed by afternoon sun\n",
       "8 Christchurch Wed 2022-10-26 Partly cloudy                           \n",
       "9 Christchurch Thu 2022-10-27 Afternoon showers                       \n",
       "  Wind_Pattern                             Night_Temp Day_Temp Wind\n",
       "1  Breezy North to Nor'East winds           7         16       17  \n",
       "2  Breezy to brisk South to Sou'West winds  4         11       30  \n",
       "3  Breezy Nor'East winds                    6         14       18  \n",
       "4  Light Northerly winds                    9         21       13  \n",
       "5  Light Southerly winds                    9         17       13  \n",
       "6  Breezy Easterly winds                    8         15       14  \n",
       "7  Breezy Easterly winds                    9         17       14  \n",
       "8  Breezy Nor'East winds                   10         16       14  \n",
       "9  Breezy North to Nor'East winds          10         18       14  "
      ]
     },
     "metadata": {},
     "output_type": "display_data"
    }
   ],
   "source": [
    "#put all the data wrangled and clened into a table\n",
    "christchurch_df <- tibble(Location=christchurch_location, Day = day, Date=datey2, Weather_Pattern = chch_weather_pattern, Wind_Pattern=chch_wind_pattern, Night_Temp=christchurch_night, Day_Temp=christchurch_day, Wind=christchurch_wind)\n",
    "christchurch_df"
   ]
  },
  {
   "cell_type": "code",
   "execution_count": 68,
   "id": "84408df9",
   "metadata": {
    "vscode": {
     "languageId": "r"
    }
   },
   "outputs": [],
   "source": [
    "#Saving table as a csv\n",
    "auckland_df %>% \n",
    "write_csv(\"auckland_df.csv\")"
   ]
  },
  {
   "cell_type": "code",
   "execution_count": 69,
   "id": "e0e28752",
   "metadata": {
    "vscode": {
     "languageId": "r"
    }
   },
   "outputs": [],
   "source": [
    "#Saving table as a csv\n",
    "wellington_df %>% \n",
    "write_csv(\"wellington_df.csv\")"
   ]
  },
  {
   "cell_type": "code",
   "execution_count": 70,
   "id": "7583d24e",
   "metadata": {
    "vscode": {
     "languageId": "r"
    }
   },
   "outputs": [],
   "source": [
    "#Saving table as a csv\n",
    "christchurch_df %>% \n",
    "write_csv(\"christchurch_df.csv\")"
   ]
  },
  {
   "cell_type": "code",
   "execution_count": null,
   "id": "22a028e3",
   "metadata": {
    "vscode": {
     "languageId": "r"
    }
   },
   "outputs": [],
   "source": []
  }
 ],
 "metadata": {
  "kernelspec": {
   "display_name": "R",
   "language": "R",
   "name": "ir"
  },
  "language_info": {
   "codemirror_mode": "r",
   "file_extension": ".r",
   "mimetype": "text/x-r-source",
   "name": "R",
   "pygments_lexer": "r",
   "version": "4.2.1"
  }
 },
 "nbformat": 4,
 "nbformat_minor": 5
}
