{
 "cells": [
  {
   "cell_type": "code",
   "execution_count": 673,
   "id": "e8471d38-70b8-4ce3-8fd2-63cb7a1dd927",
   "metadata": {},
   "outputs": [],
   "source": [
    "library(tidyverse)"
   ]
  },
  {
   "cell_type": "code",
   "execution_count": 674,
   "id": "ae559c3a-7cd4-4a9b-83f4-44025b830ef2",
   "metadata": {},
   "outputs": [],
   "source": [
    "# install.packages(\"magrittr\")\n",
    "# install.packages(\"purrr\")\n",
    "# install.packages(\"glue\")\n",
    "# install.packages(\"stringr\")\n",
    "library(magrittr) # better handling of pipes\n",
    "library(purrr) # to work with lists and map functions\n",
    "library(glue) # to paste strings\n",
    "library(stringr) # to hand strings\n",
    "library(dplyr)"
   ]
  },
  {
   "cell_type": "code",
   "execution_count": 675,
   "id": "ab8bb184-0b9c-45ba-ad81-0a04e652d04d",
   "metadata": {},
   "outputs": [],
   "source": [
    "# install.packages(\"rvest\")\n",
    "# remotes::install_github(\"dmi3kno/polite\")(\"politer\")\n",
    "# install.packages(\"xml2\")\n",
    "library(rvest) # rvest makes scraping easier\n",
    "library(polite) # polite is the \"polite\" version of rvest\n",
    "library(xml2) # makes it easier to work with HTML and XML from R\n",
    "library(lubridate)\n",
    "library(writexl)"
   ]
  },
  {
   "cell_type": "code",
   "execution_count": 676,
   "id": "4a8800d3-a5cd-4f19-aeff-1c83c182ab90",
   "metadata": {},
   "outputs": [
    {
     "data": {
      "text/plain": [
       "{html_document}\n",
       "<html>\n",
       "[1] <head>\\n<meta http-equiv=\"Content-Type\" content=\"text/html; charset=UTF-8 ...\n",
       "[2] <body>\\n<div id=\"__next\">\\n<div class=\"jsx-3479055027 browser\"><div class ..."
      ]
     },
     "metadata": {},
     "output_type": "display_data"
    }
   ],
   "source": [
    "auckland_url <- \"https://www.weatherwatch.co.nz/forecasts/Auckland\" \n",
    "wellington_url <- \"https://www.weatherwatch.co.nz/forecasts/Wellington\"\n",
    "christchurch_url <- \"https://www.weatherwatch.co.nz/forecasts/christchurch\"\n",
    "auckland_html <- read_html(auckland_url)\n",
    "wellington_html <- read_html(wellington_url)\n",
    "christchurch_html <- read_html(christchurch_url)\n",
    "auckland_html"
   ]
  },
  {
   "cell_type": "code",
   "execution_count": 677,
   "id": "0262082d-b06e-4cd9-8bf9-54e173615e13",
   "metadata": {},
   "outputs": [
    {
     "data": {
      "text/html": [
       "'list'"
      ],
      "text/latex": [
       "'list'"
      ],
      "text/markdown": [
       "'list'"
      ],
      "text/plain": [
       "[1] \"list\""
      ]
     },
     "metadata": {},
     "output_type": "display_data"
    },
    {
     "name": "stdout",
     "output_type": "stream",
     "text": [
      "List of 2\n",
      " $ node:<externalptr> \n",
      " $ doc :<externalptr> \n",
      " - attr(*, \"class\")= chr [1:2] \"xml_document\" \"xml_node\"\n"
     ]
    }
   ],
   "source": [
    "auckland_html %>% typeof()\n",
    "auckland_html %>% glimpse()"
   ]
  },
  {
   "cell_type": "code",
   "execution_count": 678,
   "id": "b9c8fdf4-b2c8-437f-84c6-ef749c09bc18",
   "metadata": {
    "scrolled": false
   },
   "outputs": [
    {
     "data": {
      "text/html": [
       "<style>\n",
       ".list-inline {list-style: none; margin:0; padding: 0}\n",
       ".list-inline>li {display: inline-block}\n",
       ".list-inline>li:not(:last-child)::after {content: \"\\00b7\"; padding: 0 .5ex}\n",
       "</style>\n",
       "<ol class=list-inline><li>'Fri 14 Oct'</li><li>'Sat 15 Oct'</li><li>'Sun 16 Oct'</li><li>'Mon 17 Oct'</li><li>'Tue 18 Oct'</li><li>'Wed 19 Oct'</li><li>'Thu 20 Oct'</li><li>'Fri 21 Oct'</li><li>'Sat 22 Oct'</li></ol>\n"
      ],
      "text/latex": [
       "\\begin{enumerate*}\n",
       "\\item 'Fri 14 Oct'\n",
       "\\item 'Sat 15 Oct'\n",
       "\\item 'Sun 16 Oct'\n",
       "\\item 'Mon 17 Oct'\n",
       "\\item 'Tue 18 Oct'\n",
       "\\item 'Wed 19 Oct'\n",
       "\\item 'Thu 20 Oct'\n",
       "\\item 'Fri 21 Oct'\n",
       "\\item 'Sat 22 Oct'\n",
       "\\end{enumerate*}\n"
      ],
      "text/markdown": [
       "1. 'Fri 14 Oct'\n",
       "2. 'Sat 15 Oct'\n",
       "3. 'Sun 16 Oct'\n",
       "4. 'Mon 17 Oct'\n",
       "5. 'Tue 18 Oct'\n",
       "6. 'Wed 19 Oct'\n",
       "7. 'Thu 20 Oct'\n",
       "8. 'Fri 21 Oct'\n",
       "9. 'Sat 22 Oct'\n",
       "\n",
       "\n"
      ],
      "text/plain": [
       "[1] \"Fri 14 Oct\" \"Sat 15 Oct\" \"Sun 16 Oct\" \"Mon 17 Oct\" \"Tue 18 Oct\"\n",
       "[6] \"Wed 19 Oct\" \"Thu 20 Oct\" \"Fri 21 Oct\" \"Sat 22 Oct\""
      ]
     },
     "metadata": {},
     "output_type": "display_data"
    }
   ],
   "source": [
    "dates <- auckland_html %>% html_nodes(\".date\") %>% html_text()\n",
    "index <- 1:18\n",
    "date <- dates[index%%2==0]\n",
    "date"
   ]
  },
  {
   "cell_type": "code",
   "execution_count": 679,
   "id": "e555a248",
   "metadata": {
    "scrolled": false
   },
   "outputs": [
    {
     "data": {
      "text/html": [
       "<style>\n",
       ".list-inline {list-style: none; margin:0; padding: 0}\n",
       ".list-inline>li {display: inline-block}\n",
       ".list-inline>li:not(:last-child)::after {content: \"\\00b7\"; padding: 0 .5ex}\n",
       "</style>\n",
       "<ol class=list-inline><li>'14 Oct'</li><li>'15 Oct'</li><li>'16 Oct'</li><li>'17 Oct'</li><li>'18 Oct'</li><li>'19 Oct'</li><li>'20 Oct'</li><li>'21 Oct'</li><li>'22 Oct'</li></ol>\n"
      ],
      "text/latex": [
       "\\begin{enumerate*}\n",
       "\\item '14 Oct'\n",
       "\\item '15 Oct'\n",
       "\\item '16 Oct'\n",
       "\\item '17 Oct'\n",
       "\\item '18 Oct'\n",
       "\\item '19 Oct'\n",
       "\\item '20 Oct'\n",
       "\\item '21 Oct'\n",
       "\\item '22 Oct'\n",
       "\\end{enumerate*}\n"
      ],
      "text/markdown": [
       "1. '14 Oct'\n",
       "2. '15 Oct'\n",
       "3. '16 Oct'\n",
       "4. '17 Oct'\n",
       "5. '18 Oct'\n",
       "6. '19 Oct'\n",
       "7. '20 Oct'\n",
       "8. '21 Oct'\n",
       "9. '22 Oct'\n",
       "\n",
       "\n"
      ],
      "text/plain": [
       "[1] \"14 Oct\" \"15 Oct\" \"16 Oct\" \"17 Oct\" \"18 Oct\" \"19 Oct\" \"20 Oct\" \"21 Oct\"\n",
       "[9] \"22 Oct\""
      ]
     },
     "metadata": {},
     "output_type": "display_data"
    }
   ],
   "source": [
    "date_no <- substr(date, nchar(date) - 5, nchar(date))\n",
    "date_no"
   ]
  },
  {
   "cell_type": "code",
   "execution_count": 680,
   "id": "b8ffeea5",
   "metadata": {},
   "outputs": [
    {
     "data": {
      "text/html": [
       "<style>\n",
       ".list-inline {list-style: none; margin:0; padding: 0}\n",
       ".list-inline>li {display: inline-block}\n",
       ".list-inline>li:not(:last-child)::after {content: \"\\00b7\"; padding: 0 .5ex}\n",
       "</style>\n",
       "<ol class=list-inline><li>'Fri'</li><li>'Sat'</li><li>'Sun'</li><li>'Mon'</li><li>'Tue'</li><li>'Wed'</li><li>'Thu'</li><li>'Fri'</li><li>'Sat'</li></ol>\n"
      ],
      "text/latex": [
       "\\begin{enumerate*}\n",
       "\\item 'Fri'\n",
       "\\item 'Sat'\n",
       "\\item 'Sun'\n",
       "\\item 'Mon'\n",
       "\\item 'Tue'\n",
       "\\item 'Wed'\n",
       "\\item 'Thu'\n",
       "\\item 'Fri'\n",
       "\\item 'Sat'\n",
       "\\end{enumerate*}\n"
      ],
      "text/markdown": [
       "1. 'Fri'\n",
       "2. 'Sat'\n",
       "3. 'Sun'\n",
       "4. 'Mon'\n",
       "5. 'Tue'\n",
       "6. 'Wed'\n",
       "7. 'Thu'\n",
       "8. 'Fri'\n",
       "9. 'Sat'\n",
       "\n",
       "\n"
      ],
      "text/plain": [
       "[1] \"Fri\" \"Sat\" \"Sun\" \"Mon\" \"Tue\" \"Wed\" \"Thu\" \"Fri\" \"Sat\""
      ]
     },
     "metadata": {},
     "output_type": "display_data"
    }
   ],
   "source": [
    "day <-substr(date, 1,3)\n",
    "day"
   ]
  },
  {
   "cell_type": "code",
   "execution_count": 681,
   "id": "686fc8d2",
   "metadata": {
    "scrolled": true
   },
   "outputs": [
    {
     "data": {
      "text/html": [
       "<style>\n",
       ".list-inline {list-style: none; margin:0; padding: 0}\n",
       ".list-inline>li {display: inline-block}\n",
       ".list-inline>li:not(:last-child)::after {content: \"\\00b7\"; padding: 0 .5ex}\n",
       "</style>\n",
       "<ol class=list-inline><li>'14'</li><li>'15'</li><li>'16'</li><li>'17'</li><li>'18'</li><li>'19'</li><li>'20'</li><li>'21'</li><li>'22'</li></ol>\n"
      ],
      "text/latex": [
       "\\begin{enumerate*}\n",
       "\\item '14'\n",
       "\\item '15'\n",
       "\\item '16'\n",
       "\\item '17'\n",
       "\\item '18'\n",
       "\\item '19'\n",
       "\\item '20'\n",
       "\\item '21'\n",
       "\\item '22'\n",
       "\\end{enumerate*}\n"
      ],
      "text/markdown": [
       "1. '14'\n",
       "2. '15'\n",
       "3. '16'\n",
       "4. '17'\n",
       "5. '18'\n",
       "6. '19'\n",
       "7. '20'\n",
       "8. '21'\n",
       "9. '22'\n",
       "\n",
       "\n"
      ],
      "text/plain": [
       "[1] \"14\" \"15\" \"16\" \"17\" \"18\" \"19\" \"20\" \"21\" \"22\""
      ]
     },
     "metadata": {},
     "output_type": "display_data"
    }
   ],
   "source": [
    "date_day_no <- substr(date_no, 1,2)\n",
    "date_day_no"
   ]
  },
  {
   "cell_type": "code",
   "execution_count": 682,
   "id": "8634d3c3",
   "metadata": {
    "scrolled": false
   },
   "outputs": [
    {
     "data": {
      "text/html": [
       "<style>\n",
       ".list-inline {list-style: none; margin:0; padding: 0}\n",
       ".list-inline>li {display: inline-block}\n",
       ".list-inline>li:not(:last-child)::after {content: \"\\00b7\"; padding: 0 .5ex}\n",
       "</style>\n",
       "<ol class=list-inline><li>'Oct'</li><li>'Oct'</li><li>'Oct'</li><li>'Oct'</li><li>'Oct'</li><li>'Oct'</li><li>'Oct'</li><li>'Oct'</li><li>'Oct'</li></ol>\n"
      ],
      "text/latex": [
       "\\begin{enumerate*}\n",
       "\\item 'Oct'\n",
       "\\item 'Oct'\n",
       "\\item 'Oct'\n",
       "\\item 'Oct'\n",
       "\\item 'Oct'\n",
       "\\item 'Oct'\n",
       "\\item 'Oct'\n",
       "\\item 'Oct'\n",
       "\\item 'Oct'\n",
       "\\end{enumerate*}\n"
      ],
      "text/markdown": [
       "1. 'Oct'\n",
       "2. 'Oct'\n",
       "3. 'Oct'\n",
       "4. 'Oct'\n",
       "5. 'Oct'\n",
       "6. 'Oct'\n",
       "7. 'Oct'\n",
       "8. 'Oct'\n",
       "9. 'Oct'\n",
       "\n",
       "\n"
      ],
      "text/plain": [
       "[1] \"Oct\" \"Oct\" \"Oct\" \"Oct\" \"Oct\" \"Oct\" \"Oct\" \"Oct\" \"Oct\""
      ]
     },
     "metadata": {},
     "output_type": "display_data"
    }
   ],
   "source": [
    "date_month_no <-substr(date_no, 4,6)\n",
    "date_month_no"
   ]
  },
  {
   "cell_type": "code",
   "execution_count": 683,
   "id": "aa0ae7a1",
   "metadata": {},
   "outputs": [
    {
     "data": {
      "text/html": [
       "10"
      ],
      "text/latex": [
       "10"
      ],
      "text/markdown": [
       "10"
      ],
      "text/plain": [
       "[1] 10"
      ]
     },
     "metadata": {},
     "output_type": "display_data"
    }
   ],
   "source": [
    "date_month_no2<-match(split_date[[1]][3],month.abb)\n",
    "date_month_no2"
   ]
  },
  {
   "cell_type": "code",
   "execution_count": 684,
   "id": "e19e9ed8",
   "metadata": {
    "scrolled": true
   },
   "outputs": [
    {
     "data": {
      "text/html": [
       "<style>\n",
       ".list-inline {list-style: none; margin:0; padding: 0}\n",
       ".list-inline>li {display: inline-block}\n",
       ".list-inline>li:not(:last-child)::after {content: \"\\00b7\"; padding: 0 .5ex}\n",
       "</style>\n",
       "<ol class=list-inline><li>'2022-10-14'</li><li>'2022-10-15'</li><li>'2022-10-16'</li><li>'2022-10-17'</li><li>'2022-10-18'</li><li>'2022-10-19'</li><li>'2022-10-20'</li><li>'2022-10-21'</li><li>'2022-10-22'</li></ol>\n"
      ],
      "text/latex": [
       "\\begin{enumerate*}\n",
       "\\item '2022-10-14'\n",
       "\\item '2022-10-15'\n",
       "\\item '2022-10-16'\n",
       "\\item '2022-10-17'\n",
       "\\item '2022-10-18'\n",
       "\\item '2022-10-19'\n",
       "\\item '2022-10-20'\n",
       "\\item '2022-10-21'\n",
       "\\item '2022-10-22'\n",
       "\\end{enumerate*}\n"
      ],
      "text/markdown": [
       "1. '2022-10-14'\n",
       "2. '2022-10-15'\n",
       "3. '2022-10-16'\n",
       "4. '2022-10-17'\n",
       "5. '2022-10-18'\n",
       "6. '2022-10-19'\n",
       "7. '2022-10-20'\n",
       "8. '2022-10-21'\n",
       "9. '2022-10-22'\n",
       "\n",
       "\n"
      ],
      "text/plain": [
       "2022-10-14\n",
       "2022-10-15\n",
       "2022-10-16\n",
       "2022-10-17\n",
       "2022-10-18\n",
       "2022-10-19\n",
       "2022-10-20\n",
       "2022-10-21\n",
       "2022-10-22"
      ]
     },
     "metadata": {},
     "output_type": "display_data"
    },
    {
     "data": {
      "text/html": [
       "'character'"
      ],
      "text/latex": [
       "'character'"
      ],
      "text/markdown": [
       "'character'"
      ],
      "text/plain": [
       "[1] \"character\""
      ]
     },
     "metadata": {},
     "output_type": "display_data"
    }
   ],
   "source": [
    "datey <- glue(\"2022-{date_month_no2}-{date_day_no}\")\n",
    "datey\n",
    "typeof(datey)"
   ]
  },
  {
   "cell_type": "code",
   "execution_count": 685,
   "id": "224dcfe8",
   "metadata": {},
   "outputs": [
    {
     "data": {
      "text/html": [
       "<style>\n",
       ".list-inline {list-style: none; margin:0; padding: 0}\n",
       ".list-inline>li {display: inline-block}\n",
       ".list-inline>li:not(:last-child)::after {content: \"\\00b7\"; padding: 0 .5ex}\n",
       "</style>\n",
       "<ol class=list-inline><li><time datetime=\"2022-10-14\">2022-10-14</time></li><li><time datetime=\"2022-10-15\">2022-10-15</time></li><li><time datetime=\"2022-10-16\">2022-10-16</time></li><li><time datetime=\"2022-10-17\">2022-10-17</time></li><li><time datetime=\"2022-10-18\">2022-10-18</time></li><li><time datetime=\"2022-10-19\">2022-10-19</time></li><li><time datetime=\"2022-10-20\">2022-10-20</time></li><li><time datetime=\"2022-10-21\">2022-10-21</time></li><li><time datetime=\"2022-10-22\">2022-10-22</time></li></ol>\n"
      ],
      "text/latex": [
       "\\begin{enumerate*}\n",
       "\\item 2022-10-14\n",
       "\\item 2022-10-15\n",
       "\\item 2022-10-16\n",
       "\\item 2022-10-17\n",
       "\\item 2022-10-18\n",
       "\\item 2022-10-19\n",
       "\\item 2022-10-20\n",
       "\\item 2022-10-21\n",
       "\\item 2022-10-22\n",
       "\\end{enumerate*}\n"
      ],
      "text/markdown": [
       "1. 2022-10-14\n",
       "2. 2022-10-15\n",
       "3. 2022-10-16\n",
       "4. 2022-10-17\n",
       "5. 2022-10-18\n",
       "6. 2022-10-19\n",
       "7. 2022-10-20\n",
       "8. 2022-10-21\n",
       "9. 2022-10-22\n",
       "\n",
       "\n"
      ],
      "text/plain": [
       "[1] \"2022-10-14\" \"2022-10-15\" \"2022-10-16\" \"2022-10-17\" \"2022-10-18\"\n",
       "[6] \"2022-10-19\" \"2022-10-20\" \"2022-10-21\" \"2022-10-22\""
      ]
     },
     "metadata": {},
     "output_type": "display_data"
    },
    {
     "data": {
      "text/html": [
       "'double'"
      ],
      "text/latex": [
       "'double'"
      ],
      "text/markdown": [
       "'double'"
      ],
      "text/plain": [
       "[1] \"double\""
      ]
     },
     "metadata": {},
     "output_type": "display_data"
    }
   ],
   "source": [
    "datey2 <- as.Date(datey)\n",
    "datey2\n",
    "typeof(datey2)"
   ]
  },
  {
   "cell_type": "code",
   "execution_count": 686,
   "id": "2a1ed3c9-25db-430b-ab8b-ed3005a21ded",
   "metadata": {},
   "outputs": [
    {
     "data": {
      "text/html": [
       "<style>\n",
       ".list-inline {list-style: none; margin:0; padding: 0}\n",
       ".list-inline>li {display: inline-block}\n",
       ".list-inline>li:not(:last-child)::after {content: \"\\00b7\"; padding: 0 .5ex}\n",
       "</style>\n",
       "<ol class=list-inline><li>'17°Day'</li><li>'17°Day'</li><li>'19°Day'</li><li>'19°Day'</li><li>'17°Day'</li><li>'17°Day'</li><li>'18°Day'</li><li>'18°Day'</li><li>'19°Day'</li></ol>\n"
      ],
      "text/latex": [
       "\\begin{enumerate*}\n",
       "\\item '17°Day'\n",
       "\\item '17°Day'\n",
       "\\item '19°Day'\n",
       "\\item '19°Day'\n",
       "\\item '17°Day'\n",
       "\\item '17°Day'\n",
       "\\item '18°Day'\n",
       "\\item '18°Day'\n",
       "\\item '19°Day'\n",
       "\\end{enumerate*}\n"
      ],
      "text/markdown": [
       "1. '17°Day'\n",
       "2. '17°Day'\n",
       "3. '19°Day'\n",
       "4. '19°Day'\n",
       "5. '17°Day'\n",
       "6. '17°Day'\n",
       "7. '18°Day'\n",
       "8. '18°Day'\n",
       "9. '19°Day'\n",
       "\n",
       "\n"
      ],
      "text/plain": [
       "[1] \"17°Day\" \"17°Day\" \"19°Day\" \"19°Day\" \"17°Day\" \"17°Day\" \"18°Day\" \"18°Day\"\n",
       "[9] \"19°Day\""
      ]
     },
     "metadata": {},
     "output_type": "display_data"
    },
    {
     "data": {
      "text/html": [
       "<style>\n",
       ".list-inline {list-style: none; margin:0; padding: 0}\n",
       ".list-inline>li {display: inline-block}\n",
       ".list-inline>li:not(:last-child)::after {content: \"\\00b7\"; padding: 0 .5ex}\n",
       "</style>\n",
       "<ol class=list-inline><li>17</li><li>17</li><li>19</li><li>19</li><li>17</li><li>17</li><li>18</li><li>18</li><li>19</li></ol>\n"
      ],
      "text/latex": [
       "\\begin{enumerate*}\n",
       "\\item 17\n",
       "\\item 17\n",
       "\\item 19\n",
       "\\item 19\n",
       "\\item 17\n",
       "\\item 17\n",
       "\\item 18\n",
       "\\item 18\n",
       "\\item 19\n",
       "\\end{enumerate*}\n"
      ],
      "text/markdown": [
       "1. 17\n",
       "2. 17\n",
       "3. 19\n",
       "4. 19\n",
       "5. 17\n",
       "6. 17\n",
       "7. 18\n",
       "8. 18\n",
       "9. 19\n",
       "\n",
       "\n"
      ],
      "text/plain": [
       "[1] 17 17 19 19 17 17 18 18 19"
      ]
     },
     "metadata": {},
     "output_type": "display_data"
    }
   ],
   "source": [
    "auckland_day <- auckland_html %>% html_nodes(\".high\") %>% html_text()\n",
    "auckland_day\n",
    "first <-auckland_day\n",
    "length <-nchar(first)\n",
    "auckland_day <- first  %>%  substr(length-5, length-4)\n",
    "auckland_day <- as.integer(auckland_day)\n",
    "auckland_day"
   ]
  },
  {
   "cell_type": "code",
   "execution_count": 687,
   "id": "d5c09b70-3b85-4908-93ef-7019a4dc87ad",
   "metadata": {},
   "outputs": [
    {
     "data": {
      "text/html": [
       "<style>\n",
       ".list-inline {list-style: none; margin:0; padding: 0}\n",
       ".list-inline>li {display: inline-block}\n",
       ".list-inline>li:not(:last-child)::after {content: \"\\00b7\"; padding: 0 .5ex}\n",
       "</style>\n",
       "<ol class=list-inline><li>'14°Day'</li><li>'15°Day'</li><li>'16°Day'</li><li>'15°Day'</li><li>'14°Day'</li><li>'14°Day'</li><li>'12°Day'</li><li>'14°Day'</li><li>'15°Day'</li></ol>\n"
      ],
      "text/latex": [
       "\\begin{enumerate*}\n",
       "\\item '14°Day'\n",
       "\\item '15°Day'\n",
       "\\item '16°Day'\n",
       "\\item '15°Day'\n",
       "\\item '14°Day'\n",
       "\\item '14°Day'\n",
       "\\item '12°Day'\n",
       "\\item '14°Day'\n",
       "\\item '15°Day'\n",
       "\\end{enumerate*}\n"
      ],
      "text/markdown": [
       "1. '14°Day'\n",
       "2. '15°Day'\n",
       "3. '16°Day'\n",
       "4. '15°Day'\n",
       "5. '14°Day'\n",
       "6. '14°Day'\n",
       "7. '12°Day'\n",
       "8. '14°Day'\n",
       "9. '15°Day'\n",
       "\n",
       "\n"
      ],
      "text/plain": [
       "[1] \"14°Day\" \"15°Day\" \"16°Day\" \"15°Day\" \"14°Day\" \"14°Day\" \"12°Day\" \"14°Day\"\n",
       "[9] \"15°Day\""
      ]
     },
     "metadata": {},
     "output_type": "display_data"
    },
    {
     "data": {
      "text/html": [
       "<style>\n",
       ".list-inline {list-style: none; margin:0; padding: 0}\n",
       ".list-inline>li {display: inline-block}\n",
       ".list-inline>li:not(:last-child)::after {content: \"\\00b7\"; padding: 0 .5ex}\n",
       "</style>\n",
       "<ol class=list-inline><li>14</li><li>15</li><li>16</li><li>15</li><li>14</li><li>14</li><li>12</li><li>14</li><li>15</li></ol>\n"
      ],
      "text/latex": [
       "\\begin{enumerate*}\n",
       "\\item 14\n",
       "\\item 15\n",
       "\\item 16\n",
       "\\item 15\n",
       "\\item 14\n",
       "\\item 14\n",
       "\\item 12\n",
       "\\item 14\n",
       "\\item 15\n",
       "\\end{enumerate*}\n"
      ],
      "text/markdown": [
       "1. 14\n",
       "2. 15\n",
       "3. 16\n",
       "4. 15\n",
       "5. 14\n",
       "6. 14\n",
       "7. 12\n",
       "8. 14\n",
       "9. 15\n",
       "\n",
       "\n"
      ],
      "text/plain": [
       "[1] 14 15 16 15 14 14 12 14 15"
      ]
     },
     "metadata": {},
     "output_type": "display_data"
    }
   ],
   "source": [
    "wellington_day <- wellington_html %>% html_nodes(\".high\") %>% html_text()\n",
    "wellington_day\n",
    "first <- wellington_day\n",
    "length <-nchar(first)\n",
    "wellington_day <- first  %>%  substr(length-5, length-4)\n",
    "wellington_day <- as.integer(wellington_day)\n",
    "wellington_day"
   ]
  },
  {
   "cell_type": "code",
   "execution_count": 688,
   "id": "645c2cd9-8d22-4be6-8702-552594445aba",
   "metadata": {},
   "outputs": [
    {
     "data": {
      "text/html": [
       "<style>\n",
       ".list-inline {list-style: none; margin:0; padding: 0}\n",
       ".list-inline>li {display: inline-block}\n",
       ".list-inline>li:not(:last-child)::after {content: \"\\00b7\"; padding: 0 .5ex}\n",
       "</style>\n",
       "<ol class=list-inline><li>'13°Day'</li><li>'16°Day'</li><li>'17°Day'</li><li>'15°Day'</li><li>'14°Day'</li><li>'16°Day'</li><li>'13°Day'</li><li>'15°Day'</li><li>'18°Day'</li></ol>\n"
      ],
      "text/latex": [
       "\\begin{enumerate*}\n",
       "\\item '13°Day'\n",
       "\\item '16°Day'\n",
       "\\item '17°Day'\n",
       "\\item '15°Day'\n",
       "\\item '14°Day'\n",
       "\\item '16°Day'\n",
       "\\item '13°Day'\n",
       "\\item '15°Day'\n",
       "\\item '18°Day'\n",
       "\\end{enumerate*}\n"
      ],
      "text/markdown": [
       "1. '13°Day'\n",
       "2. '16°Day'\n",
       "3. '17°Day'\n",
       "4. '15°Day'\n",
       "5. '14°Day'\n",
       "6. '16°Day'\n",
       "7. '13°Day'\n",
       "8. '15°Day'\n",
       "9. '18°Day'\n",
       "\n",
       "\n"
      ],
      "text/plain": [
       "[1] \"13°Day\" \"16°Day\" \"17°Day\" \"15°Day\" \"14°Day\" \"16°Day\" \"13°Day\" \"15°Day\"\n",
       "[9] \"18°Day\""
      ]
     },
     "metadata": {},
     "output_type": "display_data"
    },
    {
     "data": {
      "text/html": [
       "<style>\n",
       ".list-inline {list-style: none; margin:0; padding: 0}\n",
       ".list-inline>li {display: inline-block}\n",
       ".list-inline>li:not(:last-child)::after {content: \"\\00b7\"; padding: 0 .5ex}\n",
       "</style>\n",
       "<ol class=list-inline><li>13</li><li>16</li><li>17</li><li>15</li><li>14</li><li>16</li><li>13</li><li>15</li><li>18</li></ol>\n"
      ],
      "text/latex": [
       "\\begin{enumerate*}\n",
       "\\item 13\n",
       "\\item 16\n",
       "\\item 17\n",
       "\\item 15\n",
       "\\item 14\n",
       "\\item 16\n",
       "\\item 13\n",
       "\\item 15\n",
       "\\item 18\n",
       "\\end{enumerate*}\n"
      ],
      "text/markdown": [
       "1. 13\n",
       "2. 16\n",
       "3. 17\n",
       "4. 15\n",
       "5. 14\n",
       "6. 16\n",
       "7. 13\n",
       "8. 15\n",
       "9. 18\n",
       "\n",
       "\n"
      ],
      "text/plain": [
       "[1] 13 16 17 15 14 16 13 15 18"
      ]
     },
     "metadata": {},
     "output_type": "display_data"
    }
   ],
   "source": [
    "christchurch_day <- christchurch_html %>% html_nodes(\".high\") %>% html_text()\n",
    "christchurch_day\n",
    "first <-christchurch_day\n",
    "length <-nchar(first)\n",
    "christchurch_day <- first  %>%  substr(length-5, length-4)\n",
    "christchurch_day <- as.integer(christchurch_day)\n",
    "christchurch_day"
   ]
  },
  {
   "cell_type": "code",
   "execution_count": 689,
   "id": "a4cbd1e8-7333-4ebf-bdc4-28f45ba66253",
   "metadata": {},
   "outputs": [
    {
     "data": {
      "text/html": [
       "<style>\n",
       ".list-inline {list-style: none; margin:0; padding: 0}\n",
       ".list-inline>li {display: inline-block}\n",
       ".list-inline>li:not(:last-child)::after {content: \"\\00b7\"; padding: 0 .5ex}\n",
       "</style>\n",
       "<ol class=list-inline><li>'11°Night'</li><li>'13°Night'</li><li>'13°Night'</li><li>'12°Night'</li><li>'12°Night'</li><li>'12°Night'</li><li>'11°Night'</li><li>'11°Night'</li><li>'12°Night'</li></ol>\n"
      ],
      "text/latex": [
       "\\begin{enumerate*}\n",
       "\\item '11°Night'\n",
       "\\item '13°Night'\n",
       "\\item '13°Night'\n",
       "\\item '12°Night'\n",
       "\\item '12°Night'\n",
       "\\item '12°Night'\n",
       "\\item '11°Night'\n",
       "\\item '11°Night'\n",
       "\\item '12°Night'\n",
       "\\end{enumerate*}\n"
      ],
      "text/markdown": [
       "1. '11°Night'\n",
       "2. '13°Night'\n",
       "3. '13°Night'\n",
       "4. '12°Night'\n",
       "5. '12°Night'\n",
       "6. '12°Night'\n",
       "7. '11°Night'\n",
       "8. '11°Night'\n",
       "9. '12°Night'\n",
       "\n",
       "\n"
      ],
      "text/plain": [
       "[1] \"11°Night\" \"13°Night\" \"13°Night\" \"12°Night\" \"12°Night\" \"12°Night\" \"11°Night\"\n",
       "[8] \"11°Night\" \"12°Night\""
      ]
     },
     "metadata": {},
     "output_type": "display_data"
    },
    {
     "data": {
      "text/html": [
       "<style>\n",
       ".list-inline {list-style: none; margin:0; padding: 0}\n",
       ".list-inline>li {display: inline-block}\n",
       ".list-inline>li:not(:last-child)::after {content: \"\\00b7\"; padding: 0 .5ex}\n",
       "</style>\n",
       "<ol class=list-inline><li>11</li><li>13</li><li>13</li><li>12</li><li>12</li><li>12</li><li>11</li><li>11</li><li>12</li></ol>\n"
      ],
      "text/latex": [
       "\\begin{enumerate*}\n",
       "\\item 11\n",
       "\\item 13\n",
       "\\item 13\n",
       "\\item 12\n",
       "\\item 12\n",
       "\\item 12\n",
       "\\item 11\n",
       "\\item 11\n",
       "\\item 12\n",
       "\\end{enumerate*}\n"
      ],
      "text/markdown": [
       "1. 11\n",
       "2. 13\n",
       "3. 13\n",
       "4. 12\n",
       "5. 12\n",
       "6. 12\n",
       "7. 11\n",
       "8. 11\n",
       "9. 12\n",
       "\n",
       "\n"
      ],
      "text/plain": [
       "[1] 11 13 13 12 12 12 11 11 12"
      ]
     },
     "metadata": {},
     "output_type": "display_data"
    }
   ],
   "source": [
    "auckland_night <- auckland_html %>% html_nodes(\".low\") %>% html_text()\n",
    "auckland_night\n",
    "first <-auckland_night\n",
    "length <-nchar(first)\n",
    "auckland_night <- first  %>%  substr(length-7, length-6)\n",
    "auckland_night <- as.integer(auckland_night)\n",
    "auckland_night"
   ]
  },
  {
   "cell_type": "code",
   "execution_count": 690,
   "id": "e6674cd7-4030-41a7-964f-8402a957ca95",
   "metadata": {},
   "outputs": [
    {
     "data": {
      "text/html": [
       "<style>\n",
       ".list-inline {list-style: none; margin:0; padding: 0}\n",
       ".list-inline>li {display: inline-block}\n",
       ".list-inline>li:not(:last-child)::after {content: \"\\00b7\"; padding: 0 .5ex}\n",
       "</style>\n",
       "<ol class=list-inline><li>'7°Night'</li><li>'8°Night'</li><li>'7°Night'</li><li>'6°Night'</li><li>'6°Night'</li><li>'7°Night'</li><li>'6°Night'</li><li>'7°Night'</li><li>'9°Night'</li></ol>\n"
      ],
      "text/latex": [
       "\\begin{enumerate*}\n",
       "\\item '7°Night'\n",
       "\\item '8°Night'\n",
       "\\item '7°Night'\n",
       "\\item '6°Night'\n",
       "\\item '6°Night'\n",
       "\\item '7°Night'\n",
       "\\item '6°Night'\n",
       "\\item '7°Night'\n",
       "\\item '9°Night'\n",
       "\\end{enumerate*}\n"
      ],
      "text/markdown": [
       "1. '7°Night'\n",
       "2. '8°Night'\n",
       "3. '7°Night'\n",
       "4. '6°Night'\n",
       "5. '6°Night'\n",
       "6. '7°Night'\n",
       "7. '6°Night'\n",
       "8. '7°Night'\n",
       "9. '9°Night'\n",
       "\n",
       "\n"
      ],
      "text/plain": [
       "[1] \"7°Night\" \"8°Night\" \"7°Night\" \"6°Night\" \"6°Night\" \"7°Night\" \"6°Night\"\n",
       "[8] \"7°Night\" \"9°Night\""
      ]
     },
     "metadata": {},
     "output_type": "display_data"
    },
    {
     "data": {
      "text/html": [
       "<style>\n",
       ".list-inline {list-style: none; margin:0; padding: 0}\n",
       ".list-inline>li {display: inline-block}\n",
       ".list-inline>li:not(:last-child)::after {content: \"\\00b7\"; padding: 0 .5ex}\n",
       "</style>\n",
       "<ol class=list-inline><li>7</li><li>8</li><li>7</li><li>6</li><li>6</li><li>7</li><li>6</li><li>7</li><li>9</li></ol>\n"
      ],
      "text/latex": [
       "\\begin{enumerate*}\n",
       "\\item 7\n",
       "\\item 8\n",
       "\\item 7\n",
       "\\item 6\n",
       "\\item 6\n",
       "\\item 7\n",
       "\\item 6\n",
       "\\item 7\n",
       "\\item 9\n",
       "\\end{enumerate*}\n"
      ],
      "text/markdown": [
       "1. 7\n",
       "2. 8\n",
       "3. 7\n",
       "4. 6\n",
       "5. 6\n",
       "6. 7\n",
       "7. 6\n",
       "8. 7\n",
       "9. 9\n",
       "\n",
       "\n"
      ],
      "text/plain": [
       "[1] 7 8 7 6 6 7 6 7 9"
      ]
     },
     "metadata": {},
     "output_type": "display_data"
    }
   ],
   "source": [
    "christchurch_night <- christchurch_html %>% html_nodes(\".low\") %>% html_text()\n",
    "christchurch_night\n",
    "first <-christchurch_night\n",
    "length <-nchar(first)\n",
    "christchurch_night <- first  %>%  substr(length-7, length-6)\n",
    "christchurch_night <- as.integer(christchurch_night)\n",
    "christchurch_night"
   ]
  },
  {
   "cell_type": "code",
   "execution_count": 691,
   "id": "7deb635b-f498-416f-853b-71cf7558809d",
   "metadata": {
    "scrolled": false
   },
   "outputs": [
    {
     "data": {
      "text/html": [
       "<style>\n",
       ".list-inline {list-style: none; margin:0; padding: 0}\n",
       ".list-inline>li {display: inline-block}\n",
       ".list-inline>li:not(:last-child)::after {content: \"\\00b7\"; padding: 0 .5ex}\n",
       "</style>\n",
       "<ol class=list-inline><li>'8°Night'</li><li>'11°Night'</li><li>'11°Night'</li><li>'10°Night'</li><li>'9°Night'</li><li>'9°Night'</li><li>'8°Night'</li><li>'9°Night'</li><li>'11°Night'</li></ol>\n"
      ],
      "text/latex": [
       "\\begin{enumerate*}\n",
       "\\item '8°Night'\n",
       "\\item '11°Night'\n",
       "\\item '11°Night'\n",
       "\\item '10°Night'\n",
       "\\item '9°Night'\n",
       "\\item '9°Night'\n",
       "\\item '8°Night'\n",
       "\\item '9°Night'\n",
       "\\item '11°Night'\n",
       "\\end{enumerate*}\n"
      ],
      "text/markdown": [
       "1. '8°Night'\n",
       "2. '11°Night'\n",
       "3. '11°Night'\n",
       "4. '10°Night'\n",
       "5. '9°Night'\n",
       "6. '9°Night'\n",
       "7. '8°Night'\n",
       "8. '9°Night'\n",
       "9. '11°Night'\n",
       "\n",
       "\n"
      ],
      "text/plain": [
       "[1] \"8°Night\"  \"11°Night\" \"11°Night\" \"10°Night\" \"9°Night\"  \"9°Night\"  \"8°Night\" \n",
       "[8] \"9°Night\"  \"11°Night\""
      ]
     },
     "metadata": {},
     "output_type": "display_data"
    },
    {
     "data": {
      "text/html": [
       "<style>\n",
       ".list-inline {list-style: none; margin:0; padding: 0}\n",
       ".list-inline>li {display: inline-block}\n",
       ".list-inline>li:not(:last-child)::after {content: \"\\00b7\"; padding: 0 .5ex}\n",
       "</style>\n",
       "<ol class=list-inline><li>8</li><li>11</li><li>11</li><li>10</li><li>9</li><li>9</li><li>8</li><li>9</li><li>11</li></ol>\n"
      ],
      "text/latex": [
       "\\begin{enumerate*}\n",
       "\\item 8\n",
       "\\item 11\n",
       "\\item 11\n",
       "\\item 10\n",
       "\\item 9\n",
       "\\item 9\n",
       "\\item 8\n",
       "\\item 9\n",
       "\\item 11\n",
       "\\end{enumerate*}\n"
      ],
      "text/markdown": [
       "1. 8\n",
       "2. 11\n",
       "3. 11\n",
       "4. 10\n",
       "5. 9\n",
       "6. 9\n",
       "7. 8\n",
       "8. 9\n",
       "9. 11\n",
       "\n",
       "\n"
      ],
      "text/plain": [
       "[1]  8 11 11 10  9  9  8  9 11"
      ]
     },
     "metadata": {},
     "output_type": "display_data"
    }
   ],
   "source": [
    "wellington_night <- wellington_html %>% html_nodes(\".low\") %>% html_text()\n",
    "wellington_night\n",
    "first <-wellington_night\n",
    "length <-nchar(first)\n",
    "wellington_night <- first  %>%  substr(length-7, length-6)\n",
    "wellington_night <- as.integer(wellington_night)\n",
    "wellington_night"
   ]
  },
  {
   "cell_type": "code",
   "execution_count": 692,
   "id": "756e0f6b",
   "metadata": {
    "scrolled": false
   },
   "outputs": [
    {
     "data": {
      "text/html": [
       "<style>\n",
       ".list-inline {list-style: none; margin:0; padding: 0}\n",
       ".list-inline>li {display: inline-block}\n",
       ".list-inline>li:not(:last-child)::after {content: \"\\00b7\"; padding: 0 .5ex}\n",
       "</style>\n",
       "<ol class=list-inline><li>'Mostly cloudy. Breezy Sou\\'East winds.'</li><li>'Mainly sunny. Breezy to brisk Sou\\'West winds.'</li><li>'Showers. Fairly breezy Westerly winds.'</li><li>'Showers. Fairly breezy Westerly winds.'</li><li>'Morning showers. Fairly breezy West to Sou\\'West winds.'</li><li>'Light morning rain. Breezy to brisk Sou\\'West winds.'</li><li>'Morning showers. Fairly breezy South to Sou\\'West winds.'</li><li>'Mainly sunny. Breezy Easterly winds.'</li><li>'Mainly sunny. Fairly breezy South to Sou\\'West winds.'</li></ol>\n"
      ],
      "text/latex": [
       "\\begin{enumerate*}\n",
       "\\item 'Mostly cloudy. Breezy Sou\\textbackslash{}'East winds.'\n",
       "\\item 'Mainly sunny. Breezy to brisk Sou\\textbackslash{}'West winds.'\n",
       "\\item 'Showers. Fairly breezy Westerly winds.'\n",
       "\\item 'Showers. Fairly breezy Westerly winds.'\n",
       "\\item 'Morning showers. Fairly breezy West to Sou\\textbackslash{}'West winds.'\n",
       "\\item 'Light morning rain. Breezy to brisk Sou\\textbackslash{}'West winds.'\n",
       "\\item 'Morning showers. Fairly breezy South to Sou\\textbackslash{}'West winds.'\n",
       "\\item 'Mainly sunny. Breezy Easterly winds.'\n",
       "\\item 'Mainly sunny. Fairly breezy South to Sou\\textbackslash{}'West winds.'\n",
       "\\end{enumerate*}\n"
      ],
      "text/markdown": [
       "1. 'Mostly cloudy. Breezy Sou\\'East winds.'\n",
       "2. 'Mainly sunny. Breezy to brisk Sou\\'West winds.'\n",
       "3. 'Showers. Fairly breezy Westerly winds.'\n",
       "4. 'Showers. Fairly breezy Westerly winds.'\n",
       "5. 'Morning showers. Fairly breezy West to Sou\\'West winds.'\n",
       "6. 'Light morning rain. Breezy to brisk Sou\\'West winds.'\n",
       "7. 'Morning showers. Fairly breezy South to Sou\\'West winds.'\n",
       "8. 'Mainly sunny. Breezy Easterly winds.'\n",
       "9. 'Mainly sunny. Fairly breezy South to Sou\\'West winds.'\n",
       "\n",
       "\n"
      ],
      "text/plain": [
       "[1] \"Mostly cloudy. Breezy Sou'East winds.\"                  \n",
       "[2] \"Mainly sunny. Breezy to brisk Sou'West winds.\"          \n",
       "[3] \"Showers. Fairly breezy Westerly winds.\"                 \n",
       "[4] \"Showers. Fairly breezy Westerly winds.\"                 \n",
       "[5] \"Morning showers. Fairly breezy West to Sou'West winds.\" \n",
       "[6] \"Light morning rain. Breezy to brisk Sou'West winds.\"    \n",
       "[7] \"Morning showers. Fairly breezy South to Sou'West winds.\"\n",
       "[8] \"Mainly sunny. Breezy Easterly winds.\"                   \n",
       "[9] \"Mainly sunny. Fairly breezy South to Sou'West winds.\"   "
      ]
     },
     "metadata": {},
     "output_type": "display_data"
    }
   ],
   "source": [
    "weathers <- auckland_html %>% html_nodes(\".larger\") %>% html_text()\n",
    "index <- 1:18\n",
    "auckland_weather <- weathers[index%%2==0]\n",
    "auckland_weather"
   ]
  },
  {
   "cell_type": "code",
   "execution_count": 698,
   "id": "68fc0b2b",
   "metadata": {
    "scrolled": false
   },
   "outputs": [
    {
     "data": {
      "text/html": [
       "<ol>\n",
       "\t<li><style>\n",
       ".list-inline {list-style: none; margin:0; padding: 0}\n",
       ".list-inline>li {display: inline-block}\n",
       ".list-inline>li:not(:last-child)::after {content: \"\\00b7\"; padding: 0 .5ex}\n",
       "</style>\n",
       "<ol class=list-inline><li>'Mostly cloudy'</li><li>' Breezy Sou\\'East winds'</li></ol>\n",
       "</li>\n",
       "\t<li><style>\n",
       ".list-inline {list-style: none; margin:0; padding: 0}\n",
       ".list-inline>li {display: inline-block}\n",
       ".list-inline>li:not(:last-child)::after {content: \"\\00b7\"; padding: 0 .5ex}\n",
       "</style>\n",
       "<ol class=list-inline><li>'Mainly sunny'</li><li>' Breezy to brisk Sou\\'West winds'</li></ol>\n",
       "</li>\n",
       "\t<li><style>\n",
       ".list-inline {list-style: none; margin:0; padding: 0}\n",
       ".list-inline>li {display: inline-block}\n",
       ".list-inline>li:not(:last-child)::after {content: \"\\00b7\"; padding: 0 .5ex}\n",
       "</style>\n",
       "<ol class=list-inline><li>'Showers'</li><li>' Fairly breezy Westerly winds'</li></ol>\n",
       "</li>\n",
       "\t<li><style>\n",
       ".list-inline {list-style: none; margin:0; padding: 0}\n",
       ".list-inline>li {display: inline-block}\n",
       ".list-inline>li:not(:last-child)::after {content: \"\\00b7\"; padding: 0 .5ex}\n",
       "</style>\n",
       "<ol class=list-inline><li>'Showers'</li><li>' Fairly breezy Westerly winds'</li></ol>\n",
       "</li>\n",
       "\t<li><style>\n",
       ".list-inline {list-style: none; margin:0; padding: 0}\n",
       ".list-inline>li {display: inline-block}\n",
       ".list-inline>li:not(:last-child)::after {content: \"\\00b7\"; padding: 0 .5ex}\n",
       "</style>\n",
       "<ol class=list-inline><li>'Morning showers'</li><li>' Fairly breezy West to Sou\\'West winds'</li></ol>\n",
       "</li>\n",
       "\t<li><style>\n",
       ".list-inline {list-style: none; margin:0; padding: 0}\n",
       ".list-inline>li {display: inline-block}\n",
       ".list-inline>li:not(:last-child)::after {content: \"\\00b7\"; padding: 0 .5ex}\n",
       "</style>\n",
       "<ol class=list-inline><li>'Light morning rain'</li><li>' Breezy to brisk Sou\\'West winds'</li></ol>\n",
       "</li>\n",
       "\t<li><style>\n",
       ".list-inline {list-style: none; margin:0; padding: 0}\n",
       ".list-inline>li {display: inline-block}\n",
       ".list-inline>li:not(:last-child)::after {content: \"\\00b7\"; padding: 0 .5ex}\n",
       "</style>\n",
       "<ol class=list-inline><li>'Morning showers'</li><li>' Fairly breezy South to Sou\\'West winds'</li></ol>\n",
       "</li>\n",
       "\t<li><style>\n",
       ".list-inline {list-style: none; margin:0; padding: 0}\n",
       ".list-inline>li {display: inline-block}\n",
       ".list-inline>li:not(:last-child)::after {content: \"\\00b7\"; padding: 0 .5ex}\n",
       "</style>\n",
       "<ol class=list-inline><li>'Mainly sunny'</li><li>' Breezy Easterly winds'</li></ol>\n",
       "</li>\n",
       "\t<li><style>\n",
       ".list-inline {list-style: none; margin:0; padding: 0}\n",
       ".list-inline>li {display: inline-block}\n",
       ".list-inline>li:not(:last-child)::after {content: \"\\00b7\"; padding: 0 .5ex}\n",
       "</style>\n",
       "<ol class=list-inline><li>'Mainly sunny'</li><li>' Fairly breezy South to Sou\\'West winds'</li></ol>\n",
       "</li>\n",
       "</ol>\n"
      ],
      "text/latex": [
       "\\begin{enumerate}\n",
       "\\item \\begin{enumerate*}\n",
       "\\item 'Mostly cloudy'\n",
       "\\item ' Breezy Sou\\textbackslash{}'East winds'\n",
       "\\end{enumerate*}\n",
       "\n",
       "\\item \\begin{enumerate*}\n",
       "\\item 'Mainly sunny'\n",
       "\\item ' Breezy to brisk Sou\\textbackslash{}'West winds'\n",
       "\\end{enumerate*}\n",
       "\n",
       "\\item \\begin{enumerate*}\n",
       "\\item 'Showers'\n",
       "\\item ' Fairly breezy Westerly winds'\n",
       "\\end{enumerate*}\n",
       "\n",
       "\\item \\begin{enumerate*}\n",
       "\\item 'Showers'\n",
       "\\item ' Fairly breezy Westerly winds'\n",
       "\\end{enumerate*}\n",
       "\n",
       "\\item \\begin{enumerate*}\n",
       "\\item 'Morning showers'\n",
       "\\item ' Fairly breezy West to Sou\\textbackslash{}'West winds'\n",
       "\\end{enumerate*}\n",
       "\n",
       "\\item \\begin{enumerate*}\n",
       "\\item 'Light morning rain'\n",
       "\\item ' Breezy to brisk Sou\\textbackslash{}'West winds'\n",
       "\\end{enumerate*}\n",
       "\n",
       "\\item \\begin{enumerate*}\n",
       "\\item 'Morning showers'\n",
       "\\item ' Fairly breezy South to Sou\\textbackslash{}'West winds'\n",
       "\\end{enumerate*}\n",
       "\n",
       "\\item \\begin{enumerate*}\n",
       "\\item 'Mainly sunny'\n",
       "\\item ' Breezy Easterly winds'\n",
       "\\end{enumerate*}\n",
       "\n",
       "\\item \\begin{enumerate*}\n",
       "\\item 'Mainly sunny'\n",
       "\\item ' Fairly breezy South to Sou\\textbackslash{}'West winds'\n",
       "\\end{enumerate*}\n",
       "\n",
       "\\end{enumerate}\n"
      ],
      "text/markdown": [
       "1. 1. 'Mostly cloudy'\n",
       "2. ' Breezy Sou\\'East winds'\n",
       "\n",
       "\n",
       "\n",
       "2. 1. 'Mainly sunny'\n",
       "2. ' Breezy to brisk Sou\\'West winds'\n",
       "\n",
       "\n",
       "\n",
       "3. 1. 'Showers'\n",
       "2. ' Fairly breezy Westerly winds'\n",
       "\n",
       "\n",
       "\n",
       "4. 1. 'Showers'\n",
       "2. ' Fairly breezy Westerly winds'\n",
       "\n",
       "\n",
       "\n",
       "5. 1. 'Morning showers'\n",
       "2. ' Fairly breezy West to Sou\\'West winds'\n",
       "\n",
       "\n",
       "\n",
       "6. 1. 'Light morning rain'\n",
       "2. ' Breezy to brisk Sou\\'West winds'\n",
       "\n",
       "\n",
       "\n",
       "7. 1. 'Morning showers'\n",
       "2. ' Fairly breezy South to Sou\\'West winds'\n",
       "\n",
       "\n",
       "\n",
       "8. 1. 'Mainly sunny'\n",
       "2. ' Breezy Easterly winds'\n",
       "\n",
       "\n",
       "\n",
       "9. 1. 'Mainly sunny'\n",
       "2. ' Fairly breezy South to Sou\\'West winds'\n",
       "\n",
       "\n",
       "\n",
       "\n",
       "\n"
      ],
      "text/plain": [
       "[[1]]\n",
       "[1] \"Mostly cloudy\"          \" Breezy Sou'East winds\"\n",
       "\n",
       "[[2]]\n",
       "[1] \"Mainly sunny\"                    \" Breezy to brisk Sou'West winds\"\n",
       "\n",
       "[[3]]\n",
       "[1] \"Showers\"                       \" Fairly breezy Westerly winds\"\n",
       "\n",
       "[[4]]\n",
       "[1] \"Showers\"                       \" Fairly breezy Westerly winds\"\n",
       "\n",
       "[[5]]\n",
       "[1] \"Morning showers\"                      \n",
       "[2] \" Fairly breezy West to Sou'West winds\"\n",
       "\n",
       "[[6]]\n",
       "[1] \"Light morning rain\"              \" Breezy to brisk Sou'West winds\"\n",
       "\n",
       "[[7]]\n",
       "[1] \"Morning showers\"                       \n",
       "[2] \" Fairly breezy South to Sou'West winds\"\n",
       "\n",
       "[[8]]\n",
       "[1] \"Mainly sunny\"           \" Breezy Easterly winds\"\n",
       "\n",
       "[[9]]\n",
       "[1] \"Mainly sunny\"                          \n",
       "[2] \" Fairly breezy South to Sou'West winds\"\n"
      ]
     },
     "metadata": {},
     "output_type": "display_data"
    },
    {
     "data": {
      "text/html": [
       "<style>\n",
       ".list-inline {list-style: none; margin:0; padding: 0}\n",
       ".list-inline>li {display: inline-block}\n",
       ".list-inline>li:not(:last-child)::after {content: \"\\00b7\"; padding: 0 .5ex}\n",
       "</style>\n",
       "<ol class=list-inline><li>'Mostly cloudy'</li><li>'Mainly sunny'</li><li>'Showers'</li><li>'Showers'</li><li>'Morning showers'</li><li>'Light morning rain'</li><li>'Morning showers'</li><li>'Mainly sunny'</li><li>'Mainly sunny'</li></ol>\n"
      ],
      "text/latex": [
       "\\begin{enumerate*}\n",
       "\\item 'Mostly cloudy'\n",
       "\\item 'Mainly sunny'\n",
       "\\item 'Showers'\n",
       "\\item 'Showers'\n",
       "\\item 'Morning showers'\n",
       "\\item 'Light morning rain'\n",
       "\\item 'Morning showers'\n",
       "\\item 'Mainly sunny'\n",
       "\\item 'Mainly sunny'\n",
       "\\end{enumerate*}\n"
      ],
      "text/markdown": [
       "1. 'Mostly cloudy'\n",
       "2. 'Mainly sunny'\n",
       "3. 'Showers'\n",
       "4. 'Showers'\n",
       "5. 'Morning showers'\n",
       "6. 'Light morning rain'\n",
       "7. 'Morning showers'\n",
       "8. 'Mainly sunny'\n",
       "9. 'Mainly sunny'\n",
       "\n",
       "\n"
      ],
      "text/plain": [
       "[1] \"Mostly cloudy\"      \"Mainly sunny\"       \"Showers\"           \n",
       "[4] \"Showers\"            \"Morning showers\"    \"Light morning rain\"\n",
       "[7] \"Morning showers\"    \"Mainly sunny\"       \"Mainly sunny\"      "
      ]
     },
     "metadata": {},
     "output_type": "display_data"
    },
    {
     "data": {
      "text/html": [
       "<style>\n",
       ".list-inline {list-style: none; margin:0; padding: 0}\n",
       ".list-inline>li {display: inline-block}\n",
       ".list-inline>li:not(:last-child)::after {content: \"\\00b7\"; padding: 0 .5ex}\n",
       "</style>\n",
       "<ol class=list-inline><li>' Breezy Sou\\'East winds'</li><li>' Breezy to brisk Sou\\'West winds'</li><li>' Fairly breezy Westerly winds'</li><li>' Fairly breezy Westerly winds'</li><li>' Fairly breezy West to Sou\\'West winds'</li><li>' Breezy to brisk Sou\\'West winds'</li><li>' Fairly breezy South to Sou\\'West winds'</li><li>' Breezy Easterly winds'</li><li>' Fairly breezy South to Sou\\'West winds'</li></ol>\n"
      ],
      "text/latex": [
       "\\begin{enumerate*}\n",
       "\\item ' Breezy Sou\\textbackslash{}'East winds'\n",
       "\\item ' Breezy to brisk Sou\\textbackslash{}'West winds'\n",
       "\\item ' Fairly breezy Westerly winds'\n",
       "\\item ' Fairly breezy Westerly winds'\n",
       "\\item ' Fairly breezy West to Sou\\textbackslash{}'West winds'\n",
       "\\item ' Breezy to brisk Sou\\textbackslash{}'West winds'\n",
       "\\item ' Fairly breezy South to Sou\\textbackslash{}'West winds'\n",
       "\\item ' Breezy Easterly winds'\n",
       "\\item ' Fairly breezy South to Sou\\textbackslash{}'West winds'\n",
       "\\end{enumerate*}\n"
      ],
      "text/markdown": [
       "1. ' Breezy Sou\\'East winds'\n",
       "2. ' Breezy to brisk Sou\\'West winds'\n",
       "3. ' Fairly breezy Westerly winds'\n",
       "4. ' Fairly breezy Westerly winds'\n",
       "5. ' Fairly breezy West to Sou\\'West winds'\n",
       "6. ' Breezy to brisk Sou\\'West winds'\n",
       "7. ' Fairly breezy South to Sou\\'West winds'\n",
       "8. ' Breezy Easterly winds'\n",
       "9. ' Fairly breezy South to Sou\\'West winds'\n",
       "\n",
       "\n"
      ],
      "text/plain": [
       "[1] \" Breezy Sou'East winds\"                \n",
       "[2] \" Breezy to brisk Sou'West winds\"       \n",
       "[3] \" Fairly breezy Westerly winds\"         \n",
       "[4] \" Fairly breezy Westerly winds\"         \n",
       "[5] \" Fairly breezy West to Sou'West winds\" \n",
       "[6] \" Breezy to brisk Sou'West winds\"       \n",
       "[7] \" Fairly breezy South to Sou'West winds\"\n",
       "[8] \" Breezy Easterly winds\"                \n",
       "[9] \" Fairly breezy South to Sou'West winds\""
      ]
     },
     "metadata": {},
     "output_type": "display_data"
    }
   ],
   "source": [
    "akl_split_weather<-strsplit(auckland_weather,\"[.]\")\n",
    "akl_split_weather\n",
    "\n",
    "akl_weather_pattern <- as.character(lapply(akl_split_weather, `[[`, 1))\n",
    "akl_weather_pattern\n",
    "\n",
    "akl_wind_pattern <- as.character(lapply(akl_split_weather, `[[`, -1))  \n",
    "akl_wind_pattern"
   ]
  },
  {
   "cell_type": "code",
   "execution_count": 699,
   "id": "f105f8c9-e7e5-4f02-8f05-df56a9e11d2c",
   "metadata": {},
   "outputs": [
    {
     "data": {
      "text/html": [
       "<style>\n",
       ".list-inline {list-style: none; margin:0; padding: 0}\n",
       ".list-inline>li {display: inline-block}\n",
       ".list-inline>li:not(:last-child)::after {content: \"\\00b7\"; padding: 0 .5ex}\n",
       "</style>\n",
       "<ol class=list-inline><li>'Cloudy. Breezy East to Sou\\'East winds.'</li><li>'Partly cloudy. Fairly breezy Northerly winds.'</li><li>'Generally clear and windy. Breezy to brisk North to Nor\\'West winds.'</li><li>'Windy and partly cloudy. Breezy to brisk Nor\\'West winds.'</li><li>'Morning showers. Fairly breezy Nor\\'West winds.'</li><li>'Morning showers. Fairly breezy South to Sou\\'West winds.'</li><li>'Windy and partly cloudy. Breezy to brisk South to Sou\\'East winds.'</li><li>'Partly cloudy. Fairly breezy Sou\\'East winds.'</li><li>'Generally clear and windy. Breezy to brisk Northerly winds.'</li></ol>\n"
      ],
      "text/latex": [
       "\\begin{enumerate*}\n",
       "\\item 'Cloudy. Breezy East to Sou\\textbackslash{}'East winds.'\n",
       "\\item 'Partly cloudy. Fairly breezy Northerly winds.'\n",
       "\\item 'Generally clear and windy. Breezy to brisk North to Nor\\textbackslash{}'West winds.'\n",
       "\\item 'Windy and partly cloudy. Breezy to brisk Nor\\textbackslash{}'West winds.'\n",
       "\\item 'Morning showers. Fairly breezy Nor\\textbackslash{}'West winds.'\n",
       "\\item 'Morning showers. Fairly breezy South to Sou\\textbackslash{}'West winds.'\n",
       "\\item 'Windy and partly cloudy. Breezy to brisk South to Sou\\textbackslash{}'East winds.'\n",
       "\\item 'Partly cloudy. Fairly breezy Sou\\textbackslash{}'East winds.'\n",
       "\\item 'Generally clear and windy. Breezy to brisk Northerly winds.'\n",
       "\\end{enumerate*}\n"
      ],
      "text/markdown": [
       "1. 'Cloudy. Breezy East to Sou\\'East winds.'\n",
       "2. 'Partly cloudy. Fairly breezy Northerly winds.'\n",
       "3. 'Generally clear and windy. Breezy to brisk North to Nor\\'West winds.'\n",
       "4. 'Windy and partly cloudy. Breezy to brisk Nor\\'West winds.'\n",
       "5. 'Morning showers. Fairly breezy Nor\\'West winds.'\n",
       "6. 'Morning showers. Fairly breezy South to Sou\\'West winds.'\n",
       "7. 'Windy and partly cloudy. Breezy to brisk South to Sou\\'East winds.'\n",
       "8. 'Partly cloudy. Fairly breezy Sou\\'East winds.'\n",
       "9. 'Generally clear and windy. Breezy to brisk Northerly winds.'\n",
       "\n",
       "\n"
      ],
      "text/plain": [
       "[1] \"Cloudy. Breezy East to Sou'East winds.\"                             \n",
       "[2] \"Partly cloudy. Fairly breezy Northerly winds.\"                      \n",
       "[3] \"Generally clear and windy. Breezy to brisk North to Nor'West winds.\"\n",
       "[4] \"Windy and partly cloudy. Breezy to brisk Nor'West winds.\"           \n",
       "[5] \"Morning showers. Fairly breezy Nor'West winds.\"                     \n",
       "[6] \"Morning showers. Fairly breezy South to Sou'West winds.\"            \n",
       "[7] \"Windy and partly cloudy. Breezy to brisk South to Sou'East winds.\"  \n",
       "[8] \"Partly cloudy. Fairly breezy Sou'East winds.\"                       \n",
       "[9] \"Generally clear and windy. Breezy to brisk Northerly winds.\"        "
      ]
     },
     "metadata": {},
     "output_type": "display_data"
    },
    {
     "data": {
      "text/html": [
       "<ol>\n",
       "\t<li><style>\n",
       ".list-inline {list-style: none; margin:0; padding: 0}\n",
       ".list-inline>li {display: inline-block}\n",
       ".list-inline>li:not(:last-child)::after {content: \"\\00b7\"; padding: 0 .5ex}\n",
       "</style>\n",
       "<ol class=list-inline><li>'Cloudy'</li><li>' Breezy East to Sou\\'East winds'</li></ol>\n",
       "</li>\n",
       "\t<li><style>\n",
       ".list-inline {list-style: none; margin:0; padding: 0}\n",
       ".list-inline>li {display: inline-block}\n",
       ".list-inline>li:not(:last-child)::after {content: \"\\00b7\"; padding: 0 .5ex}\n",
       "</style>\n",
       "<ol class=list-inline><li>'Partly cloudy'</li><li>' Fairly breezy Northerly winds'</li></ol>\n",
       "</li>\n",
       "\t<li><style>\n",
       ".list-inline {list-style: none; margin:0; padding: 0}\n",
       ".list-inline>li {display: inline-block}\n",
       ".list-inline>li:not(:last-child)::after {content: \"\\00b7\"; padding: 0 .5ex}\n",
       "</style>\n",
       "<ol class=list-inline><li>'Generally clear and windy'</li><li>' Breezy to brisk North to Nor\\'West winds'</li></ol>\n",
       "</li>\n",
       "\t<li><style>\n",
       ".list-inline {list-style: none; margin:0; padding: 0}\n",
       ".list-inline>li {display: inline-block}\n",
       ".list-inline>li:not(:last-child)::after {content: \"\\00b7\"; padding: 0 .5ex}\n",
       "</style>\n",
       "<ol class=list-inline><li>'Windy and partly cloudy'</li><li>' Breezy to brisk Nor\\'West winds'</li></ol>\n",
       "</li>\n",
       "\t<li><style>\n",
       ".list-inline {list-style: none; margin:0; padding: 0}\n",
       ".list-inline>li {display: inline-block}\n",
       ".list-inline>li:not(:last-child)::after {content: \"\\00b7\"; padding: 0 .5ex}\n",
       "</style>\n",
       "<ol class=list-inline><li>'Morning showers'</li><li>' Fairly breezy Nor\\'West winds'</li></ol>\n",
       "</li>\n",
       "\t<li><style>\n",
       ".list-inline {list-style: none; margin:0; padding: 0}\n",
       ".list-inline>li {display: inline-block}\n",
       ".list-inline>li:not(:last-child)::after {content: \"\\00b7\"; padding: 0 .5ex}\n",
       "</style>\n",
       "<ol class=list-inline><li>'Morning showers'</li><li>' Fairly breezy South to Sou\\'West winds'</li></ol>\n",
       "</li>\n",
       "\t<li><style>\n",
       ".list-inline {list-style: none; margin:0; padding: 0}\n",
       ".list-inline>li {display: inline-block}\n",
       ".list-inline>li:not(:last-child)::after {content: \"\\00b7\"; padding: 0 .5ex}\n",
       "</style>\n",
       "<ol class=list-inline><li>'Windy and partly cloudy'</li><li>' Breezy to brisk South to Sou\\'East winds'</li></ol>\n",
       "</li>\n",
       "\t<li><style>\n",
       ".list-inline {list-style: none; margin:0; padding: 0}\n",
       ".list-inline>li {display: inline-block}\n",
       ".list-inline>li:not(:last-child)::after {content: \"\\00b7\"; padding: 0 .5ex}\n",
       "</style>\n",
       "<ol class=list-inline><li>'Partly cloudy'</li><li>' Fairly breezy Sou\\'East winds'</li></ol>\n",
       "</li>\n",
       "\t<li><style>\n",
       ".list-inline {list-style: none; margin:0; padding: 0}\n",
       ".list-inline>li {display: inline-block}\n",
       ".list-inline>li:not(:last-child)::after {content: \"\\00b7\"; padding: 0 .5ex}\n",
       "</style>\n",
       "<ol class=list-inline><li>'Generally clear and windy'</li><li>' Breezy to brisk Northerly winds'</li></ol>\n",
       "</li>\n",
       "</ol>\n"
      ],
      "text/latex": [
       "\\begin{enumerate}\n",
       "\\item \\begin{enumerate*}\n",
       "\\item 'Cloudy'\n",
       "\\item ' Breezy East to Sou\\textbackslash{}'East winds'\n",
       "\\end{enumerate*}\n",
       "\n",
       "\\item \\begin{enumerate*}\n",
       "\\item 'Partly cloudy'\n",
       "\\item ' Fairly breezy Northerly winds'\n",
       "\\end{enumerate*}\n",
       "\n",
       "\\item \\begin{enumerate*}\n",
       "\\item 'Generally clear and windy'\n",
       "\\item ' Breezy to brisk North to Nor\\textbackslash{}'West winds'\n",
       "\\end{enumerate*}\n",
       "\n",
       "\\item \\begin{enumerate*}\n",
       "\\item 'Windy and partly cloudy'\n",
       "\\item ' Breezy to brisk Nor\\textbackslash{}'West winds'\n",
       "\\end{enumerate*}\n",
       "\n",
       "\\item \\begin{enumerate*}\n",
       "\\item 'Morning showers'\n",
       "\\item ' Fairly breezy Nor\\textbackslash{}'West winds'\n",
       "\\end{enumerate*}\n",
       "\n",
       "\\item \\begin{enumerate*}\n",
       "\\item 'Morning showers'\n",
       "\\item ' Fairly breezy South to Sou\\textbackslash{}'West winds'\n",
       "\\end{enumerate*}\n",
       "\n",
       "\\item \\begin{enumerate*}\n",
       "\\item 'Windy and partly cloudy'\n",
       "\\item ' Breezy to brisk South to Sou\\textbackslash{}'East winds'\n",
       "\\end{enumerate*}\n",
       "\n",
       "\\item \\begin{enumerate*}\n",
       "\\item 'Partly cloudy'\n",
       "\\item ' Fairly breezy Sou\\textbackslash{}'East winds'\n",
       "\\end{enumerate*}\n",
       "\n",
       "\\item \\begin{enumerate*}\n",
       "\\item 'Generally clear and windy'\n",
       "\\item ' Breezy to brisk Northerly winds'\n",
       "\\end{enumerate*}\n",
       "\n",
       "\\end{enumerate}\n"
      ],
      "text/markdown": [
       "1. 1. 'Cloudy'\n",
       "2. ' Breezy East to Sou\\'East winds'\n",
       "\n",
       "\n",
       "\n",
       "2. 1. 'Partly cloudy'\n",
       "2. ' Fairly breezy Northerly winds'\n",
       "\n",
       "\n",
       "\n",
       "3. 1. 'Generally clear and windy'\n",
       "2. ' Breezy to brisk North to Nor\\'West winds'\n",
       "\n",
       "\n",
       "\n",
       "4. 1. 'Windy and partly cloudy'\n",
       "2. ' Breezy to brisk Nor\\'West winds'\n",
       "\n",
       "\n",
       "\n",
       "5. 1. 'Morning showers'\n",
       "2. ' Fairly breezy Nor\\'West winds'\n",
       "\n",
       "\n",
       "\n",
       "6. 1. 'Morning showers'\n",
       "2. ' Fairly breezy South to Sou\\'West winds'\n",
       "\n",
       "\n",
       "\n",
       "7. 1. 'Windy and partly cloudy'\n",
       "2. ' Breezy to brisk South to Sou\\'East winds'\n",
       "\n",
       "\n",
       "\n",
       "8. 1. 'Partly cloudy'\n",
       "2. ' Fairly breezy Sou\\'East winds'\n",
       "\n",
       "\n",
       "\n",
       "9. 1. 'Generally clear and windy'\n",
       "2. ' Breezy to brisk Northerly winds'\n",
       "\n",
       "\n",
       "\n",
       "\n",
       "\n"
      ],
      "text/plain": [
       "[[1]]\n",
       "[1] \"Cloudy\"                         \" Breezy East to Sou'East winds\"\n",
       "\n",
       "[[2]]\n",
       "[1] \"Partly cloudy\"                  \" Fairly breezy Northerly winds\"\n",
       "\n",
       "[[3]]\n",
       "[1] \"Generally clear and windy\"               \n",
       "[2] \" Breezy to brisk North to Nor'West winds\"\n",
       "\n",
       "[[4]]\n",
       "[1] \"Windy and partly cloudy\"         \" Breezy to brisk Nor'West winds\"\n",
       "\n",
       "[[5]]\n",
       "[1] \"Morning showers\"               \" Fairly breezy Nor'West winds\"\n",
       "\n",
       "[[6]]\n",
       "[1] \"Morning showers\"                       \n",
       "[2] \" Fairly breezy South to Sou'West winds\"\n",
       "\n",
       "[[7]]\n",
       "[1] \"Windy and partly cloudy\"                 \n",
       "[2] \" Breezy to brisk South to Sou'East winds\"\n",
       "\n",
       "[[8]]\n",
       "[1] \"Partly cloudy\"                 \" Fairly breezy Sou'East winds\"\n",
       "\n",
       "[[9]]\n",
       "[1] \"Generally clear and windy\"        \" Breezy to brisk Northerly winds\"\n"
      ]
     },
     "metadata": {},
     "output_type": "display_data"
    },
    {
     "data": {
      "text/html": [
       "<style>\n",
       ".list-inline {list-style: none; margin:0; padding: 0}\n",
       ".list-inline>li {display: inline-block}\n",
       ".list-inline>li:not(:last-child)::after {content: \"\\00b7\"; padding: 0 .5ex}\n",
       "</style>\n",
       "<ol class=list-inline><li>'Mostly cloudy'</li><li>'Mainly sunny'</li><li>'Showers'</li><li>'Showers'</li><li>'Morning showers'</li><li>'Light morning rain'</li><li>'Morning showers'</li><li>'Mainly sunny'</li><li>'Mainly sunny'</li></ol>\n"
      ],
      "text/latex": [
       "\\begin{enumerate*}\n",
       "\\item 'Mostly cloudy'\n",
       "\\item 'Mainly sunny'\n",
       "\\item 'Showers'\n",
       "\\item 'Showers'\n",
       "\\item 'Morning showers'\n",
       "\\item 'Light morning rain'\n",
       "\\item 'Morning showers'\n",
       "\\item 'Mainly sunny'\n",
       "\\item 'Mainly sunny'\n",
       "\\end{enumerate*}\n"
      ],
      "text/markdown": [
       "1. 'Mostly cloudy'\n",
       "2. 'Mainly sunny'\n",
       "3. 'Showers'\n",
       "4. 'Showers'\n",
       "5. 'Morning showers'\n",
       "6. 'Light morning rain'\n",
       "7. 'Morning showers'\n",
       "8. 'Mainly sunny'\n",
       "9. 'Mainly sunny'\n",
       "\n",
       "\n"
      ],
      "text/plain": [
       "[1] \"Mostly cloudy\"      \"Mainly sunny\"       \"Showers\"           \n",
       "[4] \"Showers\"            \"Morning showers\"    \"Light morning rain\"\n",
       "[7] \"Morning showers\"    \"Mainly sunny\"       \"Mainly sunny\"      "
      ]
     },
     "metadata": {},
     "output_type": "display_data"
    },
    {
     "data": {
      "text/html": [
       "<style>\n",
       ".list-inline {list-style: none; margin:0; padding: 0}\n",
       ".list-inline>li {display: inline-block}\n",
       ".list-inline>li:not(:last-child)::after {content: \"\\00b7\"; padding: 0 .5ex}\n",
       "</style>\n",
       "<ol class=list-inline><li>' Breezy East to Sou\\'East winds'</li><li>' Fairly breezy Northerly winds'</li><li>' Breezy to brisk North to Nor\\'West winds'</li><li>' Breezy to brisk Nor\\'West winds'</li><li>' Fairly breezy Nor\\'West winds'</li><li>' Fairly breezy South to Sou\\'West winds'</li><li>' Breezy to brisk South to Sou\\'East winds'</li><li>' Fairly breezy Sou\\'East winds'</li><li>' Breezy to brisk Northerly winds'</li></ol>\n"
      ],
      "text/latex": [
       "\\begin{enumerate*}\n",
       "\\item ' Breezy East to Sou\\textbackslash{}'East winds'\n",
       "\\item ' Fairly breezy Northerly winds'\n",
       "\\item ' Breezy to brisk North to Nor\\textbackslash{}'West winds'\n",
       "\\item ' Breezy to brisk Nor\\textbackslash{}'West winds'\n",
       "\\item ' Fairly breezy Nor\\textbackslash{}'West winds'\n",
       "\\item ' Fairly breezy South to Sou\\textbackslash{}'West winds'\n",
       "\\item ' Breezy to brisk South to Sou\\textbackslash{}'East winds'\n",
       "\\item ' Fairly breezy Sou\\textbackslash{}'East winds'\n",
       "\\item ' Breezy to brisk Northerly winds'\n",
       "\\end{enumerate*}\n"
      ],
      "text/markdown": [
       "1. ' Breezy East to Sou\\'East winds'\n",
       "2. ' Fairly breezy Northerly winds'\n",
       "3. ' Breezy to brisk North to Nor\\'West winds'\n",
       "4. ' Breezy to brisk Nor\\'West winds'\n",
       "5. ' Fairly breezy Nor\\'West winds'\n",
       "6. ' Fairly breezy South to Sou\\'West winds'\n",
       "7. ' Breezy to brisk South to Sou\\'East winds'\n",
       "8. ' Fairly breezy Sou\\'East winds'\n",
       "9. ' Breezy to brisk Northerly winds'\n",
       "\n",
       "\n"
      ],
      "text/plain": [
       "[1] \" Breezy East to Sou'East winds\"          \n",
       "[2] \" Fairly breezy Northerly winds\"          \n",
       "[3] \" Breezy to brisk North to Nor'West winds\"\n",
       "[4] \" Breezy to brisk Nor'West winds\"         \n",
       "[5] \" Fairly breezy Nor'West winds\"           \n",
       "[6] \" Fairly breezy South to Sou'West winds\"  \n",
       "[7] \" Breezy to brisk South to Sou'East winds\"\n",
       "[8] \" Fairly breezy Sou'East winds\"           \n",
       "[9] \" Breezy to brisk Northerly winds\"        "
      ]
     },
     "metadata": {},
     "output_type": "display_data"
    }
   ],
   "source": [
    "weathers <- wellington_html %>% html_nodes(\".larger\") %>% html_text()\n",
    "index <- 1:18\n",
    "wellington_weather <- weathers[index%%2==0]\n",
    "wellington_weather\n",
    "\n",
    "welly_split_weather<-strsplit(wellington_weather,\"[.]\")\n",
    "welly_split_weather\n",
    "\n",
    "welly_weather_pattern <- as.character(lapply(welly_split_weather, `[[`, 1))\n",
    "akl_weather_pattern\n",
    "\n",
    "welly_wind_pattern <- as.character(lapply(welly_split_weather, `[[`, -1))  \n",
    "welly_wind_pattern"
   ]
  },
  {
   "cell_type": "code",
   "execution_count": 700,
   "id": "f80a7a33-822c-4d04-a180-7d7462df70b1",
   "metadata": {},
   "outputs": [
    {
     "data": {
      "text/html": [
       "<style>\n",
       ".list-inline {list-style: none; margin:0; padding: 0}\n",
       ".list-inline>li {display: inline-block}\n",
       ".list-inline>li:not(:last-child)::after {content: \"\\00b7\"; padding: 0 .5ex}\n",
       "</style>\n",
       "<ol class=list-inline><li>'Mostly cloudy. Breezy to brisk Nor\\'East winds.'</li><li>'Partly cloudy. Light East to Nor\\'East winds.'</li><li>'Partly cloudy. Breezy East to Nor\\'East winds.'</li><li>'Afternoon thundershowers. Light South to Sou\\'East winds.'</li><li>'Partly cloudy. Fairly breezy Nor\\'East winds.'</li><li>'Partly cloudy. Breezy Southerly winds.'</li><li>'Partly cloudy. Breezy South to Sou\\'West winds.'</li><li>'Partly cloudy. Breezy Nor\\'East winds.'</li><li>'Mainly sunny. Breezy Nor\\'East winds.'</li></ol>\n"
      ],
      "text/latex": [
       "\\begin{enumerate*}\n",
       "\\item 'Mostly cloudy. Breezy to brisk Nor\\textbackslash{}'East winds.'\n",
       "\\item 'Partly cloudy. Light East to Nor\\textbackslash{}'East winds.'\n",
       "\\item 'Partly cloudy. Breezy East to Nor\\textbackslash{}'East winds.'\n",
       "\\item 'Afternoon thundershowers. Light South to Sou\\textbackslash{}'East winds.'\n",
       "\\item 'Partly cloudy. Fairly breezy Nor\\textbackslash{}'East winds.'\n",
       "\\item 'Partly cloudy. Breezy Southerly winds.'\n",
       "\\item 'Partly cloudy. Breezy South to Sou\\textbackslash{}'West winds.'\n",
       "\\item 'Partly cloudy. Breezy Nor\\textbackslash{}'East winds.'\n",
       "\\item 'Mainly sunny. Breezy Nor\\textbackslash{}'East winds.'\n",
       "\\end{enumerate*}\n"
      ],
      "text/markdown": [
       "1. 'Mostly cloudy. Breezy to brisk Nor\\'East winds.'\n",
       "2. 'Partly cloudy. Light East to Nor\\'East winds.'\n",
       "3. 'Partly cloudy. Breezy East to Nor\\'East winds.'\n",
       "4. 'Afternoon thundershowers. Light South to Sou\\'East winds.'\n",
       "5. 'Partly cloudy. Fairly breezy Nor\\'East winds.'\n",
       "6. 'Partly cloudy. Breezy Southerly winds.'\n",
       "7. 'Partly cloudy. Breezy South to Sou\\'West winds.'\n",
       "8. 'Partly cloudy. Breezy Nor\\'East winds.'\n",
       "9. 'Mainly sunny. Breezy Nor\\'East winds.'\n",
       "\n",
       "\n"
      ],
      "text/plain": [
       "[1] \"Mostly cloudy. Breezy to brisk Nor'East winds.\"          \n",
       "[2] \"Partly cloudy. Light East to Nor'East winds.\"            \n",
       "[3] \"Partly cloudy. Breezy East to Nor'East winds.\"           \n",
       "[4] \"Afternoon thundershowers. Light South to Sou'East winds.\"\n",
       "[5] \"Partly cloudy. Fairly breezy Nor'East winds.\"            \n",
       "[6] \"Partly cloudy. Breezy Southerly winds.\"                  \n",
       "[7] \"Partly cloudy. Breezy South to Sou'West winds.\"          \n",
       "[8] \"Partly cloudy. Breezy Nor'East winds.\"                   \n",
       "[9] \"Mainly sunny. Breezy Nor'East winds.\"                    "
      ]
     },
     "metadata": {},
     "output_type": "display_data"
    },
    {
     "data": {
      "text/html": [
       "<ol>\n",
       "\t<li><style>\n",
       ".list-inline {list-style: none; margin:0; padding: 0}\n",
       ".list-inline>li {display: inline-block}\n",
       ".list-inline>li:not(:last-child)::after {content: \"\\00b7\"; padding: 0 .5ex}\n",
       "</style>\n",
       "<ol class=list-inline><li>'Mostly cloudy'</li><li>' Breezy to brisk Nor\\'East winds'</li></ol>\n",
       "</li>\n",
       "\t<li><style>\n",
       ".list-inline {list-style: none; margin:0; padding: 0}\n",
       ".list-inline>li {display: inline-block}\n",
       ".list-inline>li:not(:last-child)::after {content: \"\\00b7\"; padding: 0 .5ex}\n",
       "</style>\n",
       "<ol class=list-inline><li>'Partly cloudy'</li><li>' Light East to Nor\\'East winds'</li></ol>\n",
       "</li>\n",
       "\t<li><style>\n",
       ".list-inline {list-style: none; margin:0; padding: 0}\n",
       ".list-inline>li {display: inline-block}\n",
       ".list-inline>li:not(:last-child)::after {content: \"\\00b7\"; padding: 0 .5ex}\n",
       "</style>\n",
       "<ol class=list-inline><li>'Partly cloudy'</li><li>' Breezy East to Nor\\'East winds'</li></ol>\n",
       "</li>\n",
       "\t<li><style>\n",
       ".list-inline {list-style: none; margin:0; padding: 0}\n",
       ".list-inline>li {display: inline-block}\n",
       ".list-inline>li:not(:last-child)::after {content: \"\\00b7\"; padding: 0 .5ex}\n",
       "</style>\n",
       "<ol class=list-inline><li>'Afternoon thundershowers'</li><li>' Light South to Sou\\'East winds'</li></ol>\n",
       "</li>\n",
       "\t<li><style>\n",
       ".list-inline {list-style: none; margin:0; padding: 0}\n",
       ".list-inline>li {display: inline-block}\n",
       ".list-inline>li:not(:last-child)::after {content: \"\\00b7\"; padding: 0 .5ex}\n",
       "</style>\n",
       "<ol class=list-inline><li>'Partly cloudy'</li><li>' Fairly breezy Nor\\'East winds'</li></ol>\n",
       "</li>\n",
       "\t<li><style>\n",
       ".list-inline {list-style: none; margin:0; padding: 0}\n",
       ".list-inline>li {display: inline-block}\n",
       ".list-inline>li:not(:last-child)::after {content: \"\\00b7\"; padding: 0 .5ex}\n",
       "</style>\n",
       "<ol class=list-inline><li>'Partly cloudy'</li><li>' Breezy Southerly winds'</li></ol>\n",
       "</li>\n",
       "\t<li><style>\n",
       ".list-inline {list-style: none; margin:0; padding: 0}\n",
       ".list-inline>li {display: inline-block}\n",
       ".list-inline>li:not(:last-child)::after {content: \"\\00b7\"; padding: 0 .5ex}\n",
       "</style>\n",
       "<ol class=list-inline><li>'Partly cloudy'</li><li>' Breezy South to Sou\\'West winds'</li></ol>\n",
       "</li>\n",
       "\t<li><style>\n",
       ".list-inline {list-style: none; margin:0; padding: 0}\n",
       ".list-inline>li {display: inline-block}\n",
       ".list-inline>li:not(:last-child)::after {content: \"\\00b7\"; padding: 0 .5ex}\n",
       "</style>\n",
       "<ol class=list-inline><li>'Partly cloudy'</li><li>' Breezy Nor\\'East winds'</li></ol>\n",
       "</li>\n",
       "\t<li><style>\n",
       ".list-inline {list-style: none; margin:0; padding: 0}\n",
       ".list-inline>li {display: inline-block}\n",
       ".list-inline>li:not(:last-child)::after {content: \"\\00b7\"; padding: 0 .5ex}\n",
       "</style>\n",
       "<ol class=list-inline><li>'Mainly sunny'</li><li>' Breezy Nor\\'East winds'</li></ol>\n",
       "</li>\n",
       "</ol>\n"
      ],
      "text/latex": [
       "\\begin{enumerate}\n",
       "\\item \\begin{enumerate*}\n",
       "\\item 'Mostly cloudy'\n",
       "\\item ' Breezy to brisk Nor\\textbackslash{}'East winds'\n",
       "\\end{enumerate*}\n",
       "\n",
       "\\item \\begin{enumerate*}\n",
       "\\item 'Partly cloudy'\n",
       "\\item ' Light East to Nor\\textbackslash{}'East winds'\n",
       "\\end{enumerate*}\n",
       "\n",
       "\\item \\begin{enumerate*}\n",
       "\\item 'Partly cloudy'\n",
       "\\item ' Breezy East to Nor\\textbackslash{}'East winds'\n",
       "\\end{enumerate*}\n",
       "\n",
       "\\item \\begin{enumerate*}\n",
       "\\item 'Afternoon thundershowers'\n",
       "\\item ' Light South to Sou\\textbackslash{}'East winds'\n",
       "\\end{enumerate*}\n",
       "\n",
       "\\item \\begin{enumerate*}\n",
       "\\item 'Partly cloudy'\n",
       "\\item ' Fairly breezy Nor\\textbackslash{}'East winds'\n",
       "\\end{enumerate*}\n",
       "\n",
       "\\item \\begin{enumerate*}\n",
       "\\item 'Partly cloudy'\n",
       "\\item ' Breezy Southerly winds'\n",
       "\\end{enumerate*}\n",
       "\n",
       "\\item \\begin{enumerate*}\n",
       "\\item 'Partly cloudy'\n",
       "\\item ' Breezy South to Sou\\textbackslash{}'West winds'\n",
       "\\end{enumerate*}\n",
       "\n",
       "\\item \\begin{enumerate*}\n",
       "\\item 'Partly cloudy'\n",
       "\\item ' Breezy Nor\\textbackslash{}'East winds'\n",
       "\\end{enumerate*}\n",
       "\n",
       "\\item \\begin{enumerate*}\n",
       "\\item 'Mainly sunny'\n",
       "\\item ' Breezy Nor\\textbackslash{}'East winds'\n",
       "\\end{enumerate*}\n",
       "\n",
       "\\end{enumerate}\n"
      ],
      "text/markdown": [
       "1. 1. 'Mostly cloudy'\n",
       "2. ' Breezy to brisk Nor\\'East winds'\n",
       "\n",
       "\n",
       "\n",
       "2. 1. 'Partly cloudy'\n",
       "2. ' Light East to Nor\\'East winds'\n",
       "\n",
       "\n",
       "\n",
       "3. 1. 'Partly cloudy'\n",
       "2. ' Breezy East to Nor\\'East winds'\n",
       "\n",
       "\n",
       "\n",
       "4. 1. 'Afternoon thundershowers'\n",
       "2. ' Light South to Sou\\'East winds'\n",
       "\n",
       "\n",
       "\n",
       "5. 1. 'Partly cloudy'\n",
       "2. ' Fairly breezy Nor\\'East winds'\n",
       "\n",
       "\n",
       "\n",
       "6. 1. 'Partly cloudy'\n",
       "2. ' Breezy Southerly winds'\n",
       "\n",
       "\n",
       "\n",
       "7. 1. 'Partly cloudy'\n",
       "2. ' Breezy South to Sou\\'West winds'\n",
       "\n",
       "\n",
       "\n",
       "8. 1. 'Partly cloudy'\n",
       "2. ' Breezy Nor\\'East winds'\n",
       "\n",
       "\n",
       "\n",
       "9. 1. 'Mainly sunny'\n",
       "2. ' Breezy Nor\\'East winds'\n",
       "\n",
       "\n",
       "\n",
       "\n",
       "\n"
      ],
      "text/plain": [
       "[[1]]\n",
       "[1] \"Mostly cloudy\"                   \" Breezy to brisk Nor'East winds\"\n",
       "\n",
       "[[2]]\n",
       "[1] \"Partly cloudy\"                 \" Light East to Nor'East winds\"\n",
       "\n",
       "[[3]]\n",
       "[1] \"Partly cloudy\"                  \" Breezy East to Nor'East winds\"\n",
       "\n",
       "[[4]]\n",
       "[1] \"Afternoon thundershowers\"       \" Light South to Sou'East winds\"\n",
       "\n",
       "[[5]]\n",
       "[1] \"Partly cloudy\"                 \" Fairly breezy Nor'East winds\"\n",
       "\n",
       "[[6]]\n",
       "[1] \"Partly cloudy\"           \" Breezy Southerly winds\"\n",
       "\n",
       "[[7]]\n",
       "[1] \"Partly cloudy\"                   \" Breezy South to Sou'West winds\"\n",
       "\n",
       "[[8]]\n",
       "[1] \"Partly cloudy\"          \" Breezy Nor'East winds\"\n",
       "\n",
       "[[9]]\n",
       "[1] \"Mainly sunny\"           \" Breezy Nor'East winds\"\n"
      ]
     },
     "metadata": {},
     "output_type": "display_data"
    },
    {
     "data": {
      "text/html": [
       "<style>\n",
       ".list-inline {list-style: none; margin:0; padding: 0}\n",
       ".list-inline>li {display: inline-block}\n",
       ".list-inline>li:not(:last-child)::after {content: \"\\00b7\"; padding: 0 .5ex}\n",
       "</style>\n",
       "<ol class=list-inline><li>'Mostly cloudy'</li><li>'Mainly sunny'</li><li>'Showers'</li><li>'Showers'</li><li>'Morning showers'</li><li>'Light morning rain'</li><li>'Morning showers'</li><li>'Mainly sunny'</li><li>'Mainly sunny'</li></ol>\n"
      ],
      "text/latex": [
       "\\begin{enumerate*}\n",
       "\\item 'Mostly cloudy'\n",
       "\\item 'Mainly sunny'\n",
       "\\item 'Showers'\n",
       "\\item 'Showers'\n",
       "\\item 'Morning showers'\n",
       "\\item 'Light morning rain'\n",
       "\\item 'Morning showers'\n",
       "\\item 'Mainly sunny'\n",
       "\\item 'Mainly sunny'\n",
       "\\end{enumerate*}\n"
      ],
      "text/markdown": [
       "1. 'Mostly cloudy'\n",
       "2. 'Mainly sunny'\n",
       "3. 'Showers'\n",
       "4. 'Showers'\n",
       "5. 'Morning showers'\n",
       "6. 'Light morning rain'\n",
       "7. 'Morning showers'\n",
       "8. 'Mainly sunny'\n",
       "9. 'Mainly sunny'\n",
       "\n",
       "\n"
      ],
      "text/plain": [
       "[1] \"Mostly cloudy\"      \"Mainly sunny\"       \"Showers\"           \n",
       "[4] \"Showers\"            \"Morning showers\"    \"Light morning rain\"\n",
       "[7] \"Morning showers\"    \"Mainly sunny\"       \"Mainly sunny\"      "
      ]
     },
     "metadata": {},
     "output_type": "display_data"
    },
    {
     "data": {
      "text/html": [
       "<style>\n",
       ".list-inline {list-style: none; margin:0; padding: 0}\n",
       ".list-inline>li {display: inline-block}\n",
       ".list-inline>li:not(:last-child)::after {content: \"\\00b7\"; padding: 0 .5ex}\n",
       "</style>\n",
       "<ol class=list-inline><li>' Breezy to brisk Nor\\'East winds'</li><li>' Light East to Nor\\'East winds'</li><li>' Breezy East to Nor\\'East winds'</li><li>' Light South to Sou\\'East winds'</li><li>' Fairly breezy Nor\\'East winds'</li><li>' Breezy Southerly winds'</li><li>' Breezy South to Sou\\'West winds'</li><li>' Breezy Nor\\'East winds'</li><li>' Breezy Nor\\'East winds'</li></ol>\n"
      ],
      "text/latex": [
       "\\begin{enumerate*}\n",
       "\\item ' Breezy to brisk Nor\\textbackslash{}'East winds'\n",
       "\\item ' Light East to Nor\\textbackslash{}'East winds'\n",
       "\\item ' Breezy East to Nor\\textbackslash{}'East winds'\n",
       "\\item ' Light South to Sou\\textbackslash{}'East winds'\n",
       "\\item ' Fairly breezy Nor\\textbackslash{}'East winds'\n",
       "\\item ' Breezy Southerly winds'\n",
       "\\item ' Breezy South to Sou\\textbackslash{}'West winds'\n",
       "\\item ' Breezy Nor\\textbackslash{}'East winds'\n",
       "\\item ' Breezy Nor\\textbackslash{}'East winds'\n",
       "\\end{enumerate*}\n"
      ],
      "text/markdown": [
       "1. ' Breezy to brisk Nor\\'East winds'\n",
       "2. ' Light East to Nor\\'East winds'\n",
       "3. ' Breezy East to Nor\\'East winds'\n",
       "4. ' Light South to Sou\\'East winds'\n",
       "5. ' Fairly breezy Nor\\'East winds'\n",
       "6. ' Breezy Southerly winds'\n",
       "7. ' Breezy South to Sou\\'West winds'\n",
       "8. ' Breezy Nor\\'East winds'\n",
       "9. ' Breezy Nor\\'East winds'\n",
       "\n",
       "\n"
      ],
      "text/plain": [
       "[1] \" Breezy to brisk Nor'East winds\" \" Light East to Nor'East winds\"  \n",
       "[3] \" Breezy East to Nor'East winds\"  \" Light South to Sou'East winds\" \n",
       "[5] \" Fairly breezy Nor'East winds\"   \" Breezy Southerly winds\"        \n",
       "[7] \" Breezy South to Sou'West winds\" \" Breezy Nor'East winds\"         \n",
       "[9] \" Breezy Nor'East winds\"         "
      ]
     },
     "metadata": {},
     "output_type": "display_data"
    }
   ],
   "source": [
    "weathers <- christchurch_html %>% html_nodes(\".larger\") %>% html_text()\n",
    "index <- 1:18\n",
    "christchurch_weather <- weathers[index%%2==0]\n",
    "christchurch_weather\n",
    "\n",
    "chch_split_weather<-strsplit(christchurch_weather,\"[.]\")\n",
    "chch_split_weather\n",
    "\n",
    "chch_weather_pattern <- as.character(lapply(chch_split_weather, `[[`, 1))\n",
    "akl_weather_pattern\n",
    "\n",
    "chch_wind_pattern <- as.character(lapply(chch_split_weather, `[[`, -1))  \n",
    "chch_wind_pattern"
   ]
  },
  {
   "cell_type": "code",
   "execution_count": 701,
   "id": "cf464b5e-4263-42d7-9595-fad32174ea3d",
   "metadata": {},
   "outputs": [
    {
     "data": {
      "text/html": [
       "<style>\n",
       ".list-inline {list-style: none; margin:0; padding: 0}\n",
       ".list-inline>li {display: inline-block}\n",
       ".list-inline>li:not(:last-child)::after {content: \"\\00b7\"; padding: 0 .5ex}\n",
       "</style>\n",
       "<ol class=list-inline><li>'17km/h'</li><li>'29km/h'</li><li>'23km/h'</li><li>'20km/h'</li><li>'25km/h'</li><li>'28km/h'</li><li>'22km/h'</li><li>'18km/h'</li><li>'20km/h'</li></ol>\n"
      ],
      "text/latex": [
       "\\begin{enumerate*}\n",
       "\\item '17km/h'\n",
       "\\item '29km/h'\n",
       "\\item '23km/h'\n",
       "\\item '20km/h'\n",
       "\\item '25km/h'\n",
       "\\item '28km/h'\n",
       "\\item '22km/h'\n",
       "\\item '18km/h'\n",
       "\\item '20km/h'\n",
       "\\end{enumerate*}\n"
      ],
      "text/markdown": [
       "1. '17km/h'\n",
       "2. '29km/h'\n",
       "3. '23km/h'\n",
       "4. '20km/h'\n",
       "5. '25km/h'\n",
       "6. '28km/h'\n",
       "7. '22km/h'\n",
       "8. '18km/h'\n",
       "9. '20km/h'\n",
       "\n",
       "\n"
      ],
      "text/plain": [
       "[1] \"17km/h\" \"29km/h\" \"23km/h\" \"20km/h\" \"25km/h\" \"28km/h\" \"22km/h\" \"18km/h\"\n",
       "[9] \"20km/h\""
      ]
     },
     "metadata": {},
     "output_type": "display_data"
    },
    {
     "data": {
      "text/html": [
       "<style>\n",
       ".list-inline {list-style: none; margin:0; padding: 0}\n",
       ".list-inline>li {display: inline-block}\n",
       ".list-inline>li:not(:last-child)::after {content: \"\\00b7\"; padding: 0 .5ex}\n",
       "</style>\n",
       "<ol class=list-inline><li>17</li><li>29</li><li>23</li><li>20</li><li>25</li><li>28</li><li>22</li><li>18</li><li>20</li></ol>\n"
      ],
      "text/latex": [
       "\\begin{enumerate*}\n",
       "\\item 17\n",
       "\\item 29\n",
       "\\item 23\n",
       "\\item 20\n",
       "\\item 25\n",
       "\\item 28\n",
       "\\item 22\n",
       "\\item 18\n",
       "\\item 20\n",
       "\\end{enumerate*}\n"
      ],
      "text/markdown": [
       "1. 17\n",
       "2. 29\n",
       "3. 23\n",
       "4. 20\n",
       "5. 25\n",
       "6. 28\n",
       "7. 22\n",
       "8. 18\n",
       "9. 20\n",
       "\n",
       "\n"
      ],
      "text/plain": [
       "[1] 17 29 23 20 25 28 22 18 20"
      ]
     },
     "metadata": {},
     "output_type": "display_data"
    }
   ],
   "source": [
    "auckland_wind <- auckland_html %>% html_nodes(\".wind .small\") %>% html_text()\n",
    "auckland_wind\n",
    "\n",
    "first <-auckland_wind\n",
    "length <-nchar(first)\n",
    "auckland_wind <- first  %>%  substr(length-5, length-4)\n",
    "auckland_wind <- as.integer(auckland_wind)\n",
    "auckland_wind"
   ]
  },
  {
   "cell_type": "code",
   "execution_count": 702,
   "id": "70d8c1f2-005f-45e1-9a97-07199f498522",
   "metadata": {},
   "outputs": [
    {
     "data": {
      "text/html": [
       "<style>\n",
       ".list-inline {list-style: none; margin:0; padding: 0}\n",
       ".list-inline>li {display: inline-block}\n",
       ".list-inline>li:not(:last-child)::after {content: \"\\00b7\"; padding: 0 .5ex}\n",
       "</style>\n",
       "<ol class=list-inline><li>'31km/h'</li><li>'12km/h'</li><li>'15km/h'</li><li>'13km/h'</li><li>'20km/h'</li><li>'16km/h'</li><li>'19km/h'</li><li>'19km/h'</li><li>'14km/h'</li></ol>\n"
      ],
      "text/latex": [
       "\\begin{enumerate*}\n",
       "\\item '31km/h'\n",
       "\\item '12km/h'\n",
       "\\item '15km/h'\n",
       "\\item '13km/h'\n",
       "\\item '20km/h'\n",
       "\\item '16km/h'\n",
       "\\item '19km/h'\n",
       "\\item '19km/h'\n",
       "\\item '14km/h'\n",
       "\\end{enumerate*}\n"
      ],
      "text/markdown": [
       "1. '31km/h'\n",
       "2. '12km/h'\n",
       "3. '15km/h'\n",
       "4. '13km/h'\n",
       "5. '20km/h'\n",
       "6. '16km/h'\n",
       "7. '19km/h'\n",
       "8. '19km/h'\n",
       "9. '14km/h'\n",
       "\n",
       "\n"
      ],
      "text/plain": [
       "[1] \"31km/h\" \"12km/h\" \"15km/h\" \"13km/h\" \"20km/h\" \"16km/h\" \"19km/h\" \"19km/h\"\n",
       "[9] \"14km/h\""
      ]
     },
     "metadata": {},
     "output_type": "display_data"
    },
    {
     "data": {
      "text/html": [
       "<style>\n",
       ".list-inline {list-style: none; margin:0; padding: 0}\n",
       ".list-inline>li {display: inline-block}\n",
       ".list-inline>li:not(:last-child)::after {content: \"\\00b7\"; padding: 0 .5ex}\n",
       "</style>\n",
       "<ol class=list-inline><li>31</li><li>12</li><li>15</li><li>13</li><li>20</li><li>16</li><li>19</li><li>19</li><li>14</li></ol>\n"
      ],
      "text/latex": [
       "\\begin{enumerate*}\n",
       "\\item 31\n",
       "\\item 12\n",
       "\\item 15\n",
       "\\item 13\n",
       "\\item 20\n",
       "\\item 16\n",
       "\\item 19\n",
       "\\item 19\n",
       "\\item 14\n",
       "\\end{enumerate*}\n"
      ],
      "text/markdown": [
       "1. 31\n",
       "2. 12\n",
       "3. 15\n",
       "4. 13\n",
       "5. 20\n",
       "6. 16\n",
       "7. 19\n",
       "8. 19\n",
       "9. 14\n",
       "\n",
       "\n"
      ],
      "text/plain": [
       "[1] 31 12 15 13 20 16 19 19 14"
      ]
     },
     "metadata": {},
     "output_type": "display_data"
    }
   ],
   "source": [
    "christchurch_wind <- christchurch_html %>% html_nodes(\".wind .small\") %>% html_text()\n",
    "christchurch_wind\n",
    "\n",
    "first <- christchurch_wind\n",
    "length <-nchar(first)\n",
    "christchurch_wind <- first  %>%  substr(length-5, length-4)\n",
    "christchurch_wind <- as.integer(christchurch_wind)\n",
    "christchurch_wind"
   ]
  },
  {
   "cell_type": "code",
   "execution_count": 703,
   "id": "d6de8ef5-f7fc-47d5-9579-3d166fd275c1",
   "metadata": {},
   "outputs": [
    {
     "data": {
      "text/html": [
       "<style>\n",
       ".list-inline {list-style: none; margin:0; padding: 0}\n",
       ".list-inline>li {display: inline-block}\n",
       ".list-inline>li:not(:last-child)::after {content: \"\\00b7\"; padding: 0 .5ex}\n",
       "</style>\n",
       "<ol class=list-inline><li>'17km/h'</li><li>'20km/h'</li><li>'33km/h'</li><li>'34km/h'</li><li>'23km/h'</li><li>'25km/h'</li><li>'34km/h'</li><li>'23km/h'</li><li>'34km/h'</li></ol>\n"
      ],
      "text/latex": [
       "\\begin{enumerate*}\n",
       "\\item '17km/h'\n",
       "\\item '20km/h'\n",
       "\\item '33km/h'\n",
       "\\item '34km/h'\n",
       "\\item '23km/h'\n",
       "\\item '25km/h'\n",
       "\\item '34km/h'\n",
       "\\item '23km/h'\n",
       "\\item '34km/h'\n",
       "\\end{enumerate*}\n"
      ],
      "text/markdown": [
       "1. '17km/h'\n",
       "2. '20km/h'\n",
       "3. '33km/h'\n",
       "4. '34km/h'\n",
       "5. '23km/h'\n",
       "6. '25km/h'\n",
       "7. '34km/h'\n",
       "8. '23km/h'\n",
       "9. '34km/h'\n",
       "\n",
       "\n"
      ],
      "text/plain": [
       "[1] \"17km/h\" \"20km/h\" \"33km/h\" \"34km/h\" \"23km/h\" \"25km/h\" \"34km/h\" \"23km/h\"\n",
       "[9] \"34km/h\""
      ]
     },
     "metadata": {},
     "output_type": "display_data"
    },
    {
     "data": {
      "text/html": [
       "<style>\n",
       ".list-inline {list-style: none; margin:0; padding: 0}\n",
       ".list-inline>li {display: inline-block}\n",
       ".list-inline>li:not(:last-child)::after {content: \"\\00b7\"; padding: 0 .5ex}\n",
       "</style>\n",
       "<ol class=list-inline><li>17</li><li>20</li><li>33</li><li>34</li><li>23</li><li>25</li><li>34</li><li>23</li><li>34</li></ol>\n"
      ],
      "text/latex": [
       "\\begin{enumerate*}\n",
       "\\item 17\n",
       "\\item 20\n",
       "\\item 33\n",
       "\\item 34\n",
       "\\item 23\n",
       "\\item 25\n",
       "\\item 34\n",
       "\\item 23\n",
       "\\item 34\n",
       "\\end{enumerate*}\n"
      ],
      "text/markdown": [
       "1. 17\n",
       "2. 20\n",
       "3. 33\n",
       "4. 34\n",
       "5. 23\n",
       "6. 25\n",
       "7. 34\n",
       "8. 23\n",
       "9. 34\n",
       "\n",
       "\n"
      ],
      "text/plain": [
       "[1] 17 20 33 34 23 25 34 23 34"
      ]
     },
     "metadata": {},
     "output_type": "display_data"
    }
   ],
   "source": [
    "wellington_wind <- wellington_html %>% html_nodes(\".wind .small\") %>% html_text()\n",
    "wellington_wind\n",
    "\n",
    "first <- wellington_wind\n",
    "length <-nchar(first)\n",
    "wellington_wind <- first  %>%  substr(length-5, length-4)\n",
    "wellington_wind <- as.integer(wellington_wind)\n",
    "wellington_wind"
   ]
  },
  {
   "cell_type": "code",
   "execution_count": 704,
   "id": "2d7fc95b-5130-4678-8377-4185a1242b7f",
   "metadata": {},
   "outputs": [
    {
     "data": {
      "text/html": [
       "'Weather Forecast for Auckland'"
      ],
      "text/latex": [
       "'Weather Forecast for Auckland'"
      ],
      "text/markdown": [
       "'Weather Forecast for Auckland'"
      ],
      "text/plain": [
       "[1] \"Weather Forecast for Auckland\""
      ]
     },
     "metadata": {},
     "output_type": "display_data"
    },
    {
     "data": {
      "text/html": [
       "'Auckland'"
      ],
      "text/latex": [
       "'Auckland'"
      ],
      "text/markdown": [
       "'Auckland'"
      ],
      "text/plain": [
       "[1] \"Auckland\""
      ]
     },
     "metadata": {},
     "output_type": "display_data"
    }
   ],
   "source": [
    "auckland_location <- auckland_html %>% html_nodes(\"h2\") %>% html_text()\n",
    "auckland_location\n",
    "\n",
    "auckland_location <- strsplit(auckland_location, split=\" \")\n",
    "auckland_location <- auckland_location[[1]][4]\n",
    "auckland_location"
   ]
  },
  {
   "cell_type": "code",
   "execution_count": 705,
   "id": "a77f28a1-5eda-456c-915b-7daebaa94e4a",
   "metadata": {},
   "outputs": [
    {
     "data": {
      "text/html": [
       "'Weather Forecast for Wellington'"
      ],
      "text/latex": [
       "'Weather Forecast for Wellington'"
      ],
      "text/markdown": [
       "'Weather Forecast for Wellington'"
      ],
      "text/plain": [
       "[1] \"Weather Forecast for Wellington\""
      ]
     },
     "metadata": {},
     "output_type": "display_data"
    },
    {
     "data": {
      "text/html": [
       "'Wellington'"
      ],
      "text/latex": [
       "'Wellington'"
      ],
      "text/markdown": [
       "'Wellington'"
      ],
      "text/plain": [
       "[1] \"Wellington\""
      ]
     },
     "metadata": {},
     "output_type": "display_data"
    }
   ],
   "source": [
    "wellington_location <- wellington_html %>% html_nodes(\"h2\") %>% html_text()\n",
    "wellington_location\n",
    "\n",
    "wellington_location <- strsplit(wellington_location, split=\" \")\n",
    "wellington_location <- wellington_location[[1]][4]\n",
    "wellington_location"
   ]
  },
  {
   "cell_type": "code",
   "execution_count": 706,
   "id": "c3158aec-d887-4fdd-a07e-8bb8fb400904",
   "metadata": {},
   "outputs": [
    {
     "data": {
      "text/html": [
       "'Weather Forecast for Christchurch'"
      ],
      "text/latex": [
       "'Weather Forecast for Christchurch'"
      ],
      "text/markdown": [
       "'Weather Forecast for Christchurch'"
      ],
      "text/plain": [
       "[1] \"Weather Forecast for Christchurch\""
      ]
     },
     "metadata": {},
     "output_type": "display_data"
    },
    {
     "data": {
      "text/html": [
       "'Christchurch'"
      ],
      "text/latex": [
       "'Christchurch'"
      ],
      "text/markdown": [
       "'Christchurch'"
      ],
      "text/plain": [
       "[1] \"Christchurch\""
      ]
     },
     "metadata": {},
     "output_type": "display_data"
    }
   ],
   "source": [
    "christchurch_location <- christchurch_html %>% html_nodes(\"h2\") %>% html_text()\n",
    "christchurch_location\n",
    "\n",
    "christchurch_location <- strsplit(christchurch_location, split=\" \")\n",
    "christchurch_location <- christchurch_location[[1]][4]\n",
    "christchurch_location"
   ]
  },
  {
   "cell_type": "code",
   "execution_count": 707,
   "id": "4e5713ac-644b-4842-958f-1103403f2c06",
   "metadata": {},
   "outputs": [
    {
     "data": {
      "text/html": [
       "<table class=\"dataframe\">\n",
       "<caption>A tibble: 9 × 8</caption>\n",
       "<thead>\n",
       "\t<tr><th scope=col>Location</th><th scope=col>Day</th><th scope=col>Date</th><th scope=col>Weather_Pattern</th><th scope=col>Wind_Pattern</th><th scope=col>Night_Temp</th><th scope=col>Day_Temperature</th><th scope=col>Wind</th></tr>\n",
       "\t<tr><th scope=col>&lt;chr&gt;</th><th scope=col>&lt;chr&gt;</th><th scope=col>&lt;date&gt;</th><th scope=col>&lt;chr&gt;</th><th scope=col>&lt;chr&gt;</th><th scope=col>&lt;int&gt;</th><th scope=col>&lt;int&gt;</th><th scope=col>&lt;int&gt;</th></tr>\n",
       "</thead>\n",
       "<tbody>\n",
       "\t<tr><td>Auckland</td><td>Fri</td><td>2022-10-14</td><td>Mostly cloudy     </td><td> Breezy Sou'East winds                </td><td>11</td><td>17</td><td>17</td></tr>\n",
       "\t<tr><td>Auckland</td><td>Sat</td><td>2022-10-15</td><td>Mainly sunny      </td><td> Breezy to brisk Sou'West winds       </td><td>13</td><td>17</td><td>29</td></tr>\n",
       "\t<tr><td>Auckland</td><td>Sun</td><td>2022-10-16</td><td>Showers           </td><td> Fairly breezy Westerly winds         </td><td>13</td><td>19</td><td>23</td></tr>\n",
       "\t<tr><td>Auckland</td><td>Mon</td><td>2022-10-17</td><td>Showers           </td><td> Fairly breezy Westerly winds         </td><td>12</td><td>19</td><td>20</td></tr>\n",
       "\t<tr><td>Auckland</td><td>Tue</td><td>2022-10-18</td><td>Morning showers   </td><td> Fairly breezy West to Sou'West winds </td><td>12</td><td>17</td><td>25</td></tr>\n",
       "\t<tr><td>Auckland</td><td>Wed</td><td>2022-10-19</td><td>Light morning rain</td><td> Breezy to brisk Sou'West winds       </td><td>12</td><td>17</td><td>28</td></tr>\n",
       "\t<tr><td>Auckland</td><td>Thu</td><td>2022-10-20</td><td>Morning showers   </td><td> Fairly breezy South to Sou'West winds</td><td>11</td><td>18</td><td>22</td></tr>\n",
       "\t<tr><td>Auckland</td><td>Fri</td><td>2022-10-21</td><td>Mainly sunny      </td><td> Breezy Easterly winds                </td><td>11</td><td>18</td><td>18</td></tr>\n",
       "\t<tr><td>Auckland</td><td>Sat</td><td>2022-10-22</td><td>Mainly sunny      </td><td> Fairly breezy South to Sou'West winds</td><td>12</td><td>19</td><td>20</td></tr>\n",
       "</tbody>\n",
       "</table>\n"
      ],
      "text/latex": [
       "A tibble: 9 × 8\n",
       "\\begin{tabular}{llllllll}\n",
       " Location & Day & Date & Weather\\_Pattern & Wind\\_Pattern & Night\\_Temp & Day\\_Temperature & Wind\\\\\n",
       " <chr> & <chr> & <date> & <chr> & <chr> & <int> & <int> & <int>\\\\\n",
       "\\hline\n",
       "\t Auckland & Fri & 2022-10-14 & Mostly cloudy      &  Breezy Sou'East winds                 & 11 & 17 & 17\\\\\n",
       "\t Auckland & Sat & 2022-10-15 & Mainly sunny       &  Breezy to brisk Sou'West winds        & 13 & 17 & 29\\\\\n",
       "\t Auckland & Sun & 2022-10-16 & Showers            &  Fairly breezy Westerly winds          & 13 & 19 & 23\\\\\n",
       "\t Auckland & Mon & 2022-10-17 & Showers            &  Fairly breezy Westerly winds          & 12 & 19 & 20\\\\\n",
       "\t Auckland & Tue & 2022-10-18 & Morning showers    &  Fairly breezy West to Sou'West winds  & 12 & 17 & 25\\\\\n",
       "\t Auckland & Wed & 2022-10-19 & Light morning rain &  Breezy to brisk Sou'West winds        & 12 & 17 & 28\\\\\n",
       "\t Auckland & Thu & 2022-10-20 & Morning showers    &  Fairly breezy South to Sou'West winds & 11 & 18 & 22\\\\\n",
       "\t Auckland & Fri & 2022-10-21 & Mainly sunny       &  Breezy Easterly winds                 & 11 & 18 & 18\\\\\n",
       "\t Auckland & Sat & 2022-10-22 & Mainly sunny       &  Fairly breezy South to Sou'West winds & 12 & 19 & 20\\\\\n",
       "\\end{tabular}\n"
      ],
      "text/markdown": [
       "\n",
       "A tibble: 9 × 8\n",
       "\n",
       "| Location &lt;chr&gt; | Day &lt;chr&gt; | Date &lt;date&gt; | Weather_Pattern &lt;chr&gt; | Wind_Pattern &lt;chr&gt; | Night_Temp &lt;int&gt; | Day_Temperature &lt;int&gt; | Wind &lt;int&gt; |\n",
       "|---|---|---|---|---|---|---|---|\n",
       "| Auckland | Fri | 2022-10-14 | Mostly cloudy      |  Breezy Sou'East winds                 | 11 | 17 | 17 |\n",
       "| Auckland | Sat | 2022-10-15 | Mainly sunny       |  Breezy to brisk Sou'West winds        | 13 | 17 | 29 |\n",
       "| Auckland | Sun | 2022-10-16 | Showers            |  Fairly breezy Westerly winds          | 13 | 19 | 23 |\n",
       "| Auckland | Mon | 2022-10-17 | Showers            |  Fairly breezy Westerly winds          | 12 | 19 | 20 |\n",
       "| Auckland | Tue | 2022-10-18 | Morning showers    |  Fairly breezy West to Sou'West winds  | 12 | 17 | 25 |\n",
       "| Auckland | Wed | 2022-10-19 | Light morning rain |  Breezy to brisk Sou'West winds        | 12 | 17 | 28 |\n",
       "| Auckland | Thu | 2022-10-20 | Morning showers    |  Fairly breezy South to Sou'West winds | 11 | 18 | 22 |\n",
       "| Auckland | Fri | 2022-10-21 | Mainly sunny       |  Breezy Easterly winds                 | 11 | 18 | 18 |\n",
       "| Auckland | Sat | 2022-10-22 | Mainly sunny       |  Fairly breezy South to Sou'West winds | 12 | 19 | 20 |\n",
       "\n"
      ],
      "text/plain": [
       "  Location Day Date       Weather_Pattern   \n",
       "1 Auckland Fri 2022-10-14 Mostly cloudy     \n",
       "2 Auckland Sat 2022-10-15 Mainly sunny      \n",
       "3 Auckland Sun 2022-10-16 Showers           \n",
       "4 Auckland Mon 2022-10-17 Showers           \n",
       "5 Auckland Tue 2022-10-18 Morning showers   \n",
       "6 Auckland Wed 2022-10-19 Light morning rain\n",
       "7 Auckland Thu 2022-10-20 Morning showers   \n",
       "8 Auckland Fri 2022-10-21 Mainly sunny      \n",
       "9 Auckland Sat 2022-10-22 Mainly sunny      \n",
       "  Wind_Pattern                           Night_Temp Day_Temperature Wind\n",
       "1  Breezy Sou'East winds                 11         17              17  \n",
       "2  Breezy to brisk Sou'West winds        13         17              29  \n",
       "3  Fairly breezy Westerly winds          13         19              23  \n",
       "4  Fairly breezy Westerly winds          12         19              20  \n",
       "5  Fairly breezy West to Sou'West winds  12         17              25  \n",
       "6  Breezy to brisk Sou'West winds        12         17              28  \n",
       "7  Fairly breezy South to Sou'West winds 11         18              22  \n",
       "8  Breezy Easterly winds                 11         18              18  \n",
       "9  Fairly breezy South to Sou'West winds 12         19              20  "
      ]
     },
     "metadata": {},
     "output_type": "display_data"
    }
   ],
   "source": [
    "auckland_df <- tibble(Location=auckland_location, Day=day,Date=datey2, Weather_Pattern = akl_weather_pattern,Wind_Pattern=akl_wind_pattern, Night_Temp=auckland_night, Day_Temperature=auckland_day, Wind=auckland_wind)\n",
    "auckland_df"
   ]
  },
  {
   "cell_type": "code",
   "execution_count": 708,
   "id": "89e318aa-8875-49ab-b0c3-4110aa1c49d9",
   "metadata": {},
   "outputs": [
    {
     "data": {
      "text/html": [
       "<table class=\"dataframe\">\n",
       "<caption>A tibble: 9 × 8</caption>\n",
       "<thead>\n",
       "\t<tr><th scope=col>Location</th><th scope=col>Day</th><th scope=col>Date</th><th scope=col>Weather_Pattern</th><th scope=col>Wind_Pattern</th><th scope=col>Night_Temp</th><th scope=col>Day_Temp</th><th scope=col>Wind</th></tr>\n",
       "\t<tr><th scope=col>&lt;chr&gt;</th><th scope=col>&lt;chr&gt;</th><th scope=col>&lt;date&gt;</th><th scope=col>&lt;chr&gt;</th><th scope=col>&lt;chr&gt;</th><th scope=col>&lt;int&gt;</th><th scope=col>&lt;int&gt;</th><th scope=col>&lt;int&gt;</th></tr>\n",
       "</thead>\n",
       "<tbody>\n",
       "\t<tr><td>Wellington</td><td>Fri</td><td>2022-10-14</td><td>Cloudy                   </td><td> Breezy East to Sou'East winds          </td><td> 8</td><td>14</td><td>17</td></tr>\n",
       "\t<tr><td>Wellington</td><td>Sat</td><td>2022-10-15</td><td>Partly cloudy            </td><td> Fairly breezy Northerly winds          </td><td>11</td><td>15</td><td>20</td></tr>\n",
       "\t<tr><td>Wellington</td><td>Sun</td><td>2022-10-16</td><td>Generally clear and windy</td><td> Breezy to brisk North to Nor'West winds</td><td>11</td><td>16</td><td>33</td></tr>\n",
       "\t<tr><td>Wellington</td><td>Mon</td><td>2022-10-17</td><td>Windy and partly cloudy  </td><td> Breezy to brisk Nor'West winds         </td><td>10</td><td>15</td><td>34</td></tr>\n",
       "\t<tr><td>Wellington</td><td>Tue</td><td>2022-10-18</td><td>Morning showers          </td><td> Fairly breezy Nor'West winds           </td><td> 9</td><td>14</td><td>23</td></tr>\n",
       "\t<tr><td>Wellington</td><td>Wed</td><td>2022-10-19</td><td>Morning showers          </td><td> Fairly breezy South to Sou'West winds  </td><td> 9</td><td>14</td><td>25</td></tr>\n",
       "\t<tr><td>Wellington</td><td>Thu</td><td>2022-10-20</td><td>Windy and partly cloudy  </td><td> Breezy to brisk South to Sou'East winds</td><td> 8</td><td>12</td><td>34</td></tr>\n",
       "\t<tr><td>Wellington</td><td>Fri</td><td>2022-10-21</td><td>Partly cloudy            </td><td> Fairly breezy Sou'East winds           </td><td> 9</td><td>14</td><td>23</td></tr>\n",
       "\t<tr><td>Wellington</td><td>Sat</td><td>2022-10-22</td><td>Generally clear and windy</td><td> Breezy to brisk Northerly winds        </td><td>11</td><td>15</td><td>34</td></tr>\n",
       "</tbody>\n",
       "</table>\n"
      ],
      "text/latex": [
       "A tibble: 9 × 8\n",
       "\\begin{tabular}{llllllll}\n",
       " Location & Day & Date & Weather\\_Pattern & Wind\\_Pattern & Night\\_Temp & Day\\_Temp & Wind\\\\\n",
       " <chr> & <chr> & <date> & <chr> & <chr> & <int> & <int> & <int>\\\\\n",
       "\\hline\n",
       "\t Wellington & Fri & 2022-10-14 & Cloudy                    &  Breezy East to Sou'East winds           &  8 & 14 & 17\\\\\n",
       "\t Wellington & Sat & 2022-10-15 & Partly cloudy             &  Fairly breezy Northerly winds           & 11 & 15 & 20\\\\\n",
       "\t Wellington & Sun & 2022-10-16 & Generally clear and windy &  Breezy to brisk North to Nor'West winds & 11 & 16 & 33\\\\\n",
       "\t Wellington & Mon & 2022-10-17 & Windy and partly cloudy   &  Breezy to brisk Nor'West winds          & 10 & 15 & 34\\\\\n",
       "\t Wellington & Tue & 2022-10-18 & Morning showers           &  Fairly breezy Nor'West winds            &  9 & 14 & 23\\\\\n",
       "\t Wellington & Wed & 2022-10-19 & Morning showers           &  Fairly breezy South to Sou'West winds   &  9 & 14 & 25\\\\\n",
       "\t Wellington & Thu & 2022-10-20 & Windy and partly cloudy   &  Breezy to brisk South to Sou'East winds &  8 & 12 & 34\\\\\n",
       "\t Wellington & Fri & 2022-10-21 & Partly cloudy             &  Fairly breezy Sou'East winds            &  9 & 14 & 23\\\\\n",
       "\t Wellington & Sat & 2022-10-22 & Generally clear and windy &  Breezy to brisk Northerly winds         & 11 & 15 & 34\\\\\n",
       "\\end{tabular}\n"
      ],
      "text/markdown": [
       "\n",
       "A tibble: 9 × 8\n",
       "\n",
       "| Location &lt;chr&gt; | Day &lt;chr&gt; | Date &lt;date&gt; | Weather_Pattern &lt;chr&gt; | Wind_Pattern &lt;chr&gt; | Night_Temp &lt;int&gt; | Day_Temp &lt;int&gt; | Wind &lt;int&gt; |\n",
       "|---|---|---|---|---|---|---|---|\n",
       "| Wellington | Fri | 2022-10-14 | Cloudy                    |  Breezy East to Sou'East winds           |  8 | 14 | 17 |\n",
       "| Wellington | Sat | 2022-10-15 | Partly cloudy             |  Fairly breezy Northerly winds           | 11 | 15 | 20 |\n",
       "| Wellington | Sun | 2022-10-16 | Generally clear and windy |  Breezy to brisk North to Nor'West winds | 11 | 16 | 33 |\n",
       "| Wellington | Mon | 2022-10-17 | Windy and partly cloudy   |  Breezy to brisk Nor'West winds          | 10 | 15 | 34 |\n",
       "| Wellington | Tue | 2022-10-18 | Morning showers           |  Fairly breezy Nor'West winds            |  9 | 14 | 23 |\n",
       "| Wellington | Wed | 2022-10-19 | Morning showers           |  Fairly breezy South to Sou'West winds   |  9 | 14 | 25 |\n",
       "| Wellington | Thu | 2022-10-20 | Windy and partly cloudy   |  Breezy to brisk South to Sou'East winds |  8 | 12 | 34 |\n",
       "| Wellington | Fri | 2022-10-21 | Partly cloudy             |  Fairly breezy Sou'East winds            |  9 | 14 | 23 |\n",
       "| Wellington | Sat | 2022-10-22 | Generally clear and windy |  Breezy to brisk Northerly winds         | 11 | 15 | 34 |\n",
       "\n"
      ],
      "text/plain": [
       "  Location   Day Date       Weather_Pattern          \n",
       "1 Wellington Fri 2022-10-14 Cloudy                   \n",
       "2 Wellington Sat 2022-10-15 Partly cloudy            \n",
       "3 Wellington Sun 2022-10-16 Generally clear and windy\n",
       "4 Wellington Mon 2022-10-17 Windy and partly cloudy  \n",
       "5 Wellington Tue 2022-10-18 Morning showers          \n",
       "6 Wellington Wed 2022-10-19 Morning showers          \n",
       "7 Wellington Thu 2022-10-20 Windy and partly cloudy  \n",
       "8 Wellington Fri 2022-10-21 Partly cloudy            \n",
       "9 Wellington Sat 2022-10-22 Generally clear and windy\n",
       "  Wind_Pattern                             Night_Temp Day_Temp Wind\n",
       "1  Breezy East to Sou'East winds            8         14       17  \n",
       "2  Fairly breezy Northerly winds           11         15       20  \n",
       "3  Breezy to brisk North to Nor'West winds 11         16       33  \n",
       "4  Breezy to brisk Nor'West winds          10         15       34  \n",
       "5  Fairly breezy Nor'West winds             9         14       23  \n",
       "6  Fairly breezy South to Sou'West winds    9         14       25  \n",
       "7  Breezy to brisk South to Sou'East winds  8         12       34  \n",
       "8  Fairly breezy Sou'East winds             9         14       23  \n",
       "9  Breezy to brisk Northerly winds         11         15       34  "
      ]
     },
     "metadata": {},
     "output_type": "display_data"
    }
   ],
   "source": [
    "wellington_df <- tibble(Location=wellington_location, Day=day,Date=datey2, Weather_Pattern = welly_weather_pattern, Wind_Pattern=welly_wind_pattern, Night_Temp=wellington_night, Day_Temp=wellington_day, Wind=wellington_wind)\n",
    "wellington_df"
   ]
  },
  {
   "cell_type": "code",
   "execution_count": 709,
   "id": "e027ae5f-f524-48bb-ad41-3308bbc3ac66",
   "metadata": {},
   "outputs": [
    {
     "data": {
      "text/html": [
       "<table class=\"dataframe\">\n",
       "<caption>A tibble: 9 × 8</caption>\n",
       "<thead>\n",
       "\t<tr><th scope=col>Location</th><th scope=col>Day</th><th scope=col>Date</th><th scope=col>Weather_Pattern</th><th scope=col>Wind_Pattern</th><th scope=col>Night_Temp</th><th scope=col>Day_Temp</th><th scope=col>Wind</th></tr>\n",
       "\t<tr><th scope=col>&lt;chr&gt;</th><th scope=col>&lt;chr&gt;</th><th scope=col>&lt;date&gt;</th><th scope=col>&lt;chr&gt;</th><th scope=col>&lt;chr&gt;</th><th scope=col>&lt;int&gt;</th><th scope=col>&lt;int&gt;</th><th scope=col>&lt;int&gt;</th></tr>\n",
       "</thead>\n",
       "<tbody>\n",
       "\t<tr><td>Christchurch</td><td>Fri</td><td>2022-10-14</td><td>Mostly cloudy           </td><td> Breezy to brisk Nor'East winds</td><td>7</td><td>13</td><td>31</td></tr>\n",
       "\t<tr><td>Christchurch</td><td>Sat</td><td>2022-10-15</td><td>Partly cloudy           </td><td> Light East to Nor'East winds  </td><td>8</td><td>16</td><td>12</td></tr>\n",
       "\t<tr><td>Christchurch</td><td>Sun</td><td>2022-10-16</td><td>Partly cloudy           </td><td> Breezy East to Nor'East winds </td><td>7</td><td>17</td><td>15</td></tr>\n",
       "\t<tr><td>Christchurch</td><td>Mon</td><td>2022-10-17</td><td>Afternoon thundershowers</td><td> Light South to Sou'East winds </td><td>6</td><td>15</td><td>13</td></tr>\n",
       "\t<tr><td>Christchurch</td><td>Tue</td><td>2022-10-18</td><td>Partly cloudy           </td><td> Fairly breezy Nor'East winds  </td><td>6</td><td>14</td><td>20</td></tr>\n",
       "\t<tr><td>Christchurch</td><td>Wed</td><td>2022-10-19</td><td>Partly cloudy           </td><td> Breezy Southerly winds        </td><td>7</td><td>16</td><td>16</td></tr>\n",
       "\t<tr><td>Christchurch</td><td>Thu</td><td>2022-10-20</td><td>Partly cloudy           </td><td> Breezy South to Sou'West winds</td><td>6</td><td>13</td><td>19</td></tr>\n",
       "\t<tr><td>Christchurch</td><td>Fri</td><td>2022-10-21</td><td>Partly cloudy           </td><td> Breezy Nor'East winds         </td><td>7</td><td>15</td><td>19</td></tr>\n",
       "\t<tr><td>Christchurch</td><td>Sat</td><td>2022-10-22</td><td>Mainly sunny            </td><td> Breezy Nor'East winds         </td><td>9</td><td>18</td><td>14</td></tr>\n",
       "</tbody>\n",
       "</table>\n"
      ],
      "text/latex": [
       "A tibble: 9 × 8\n",
       "\\begin{tabular}{llllllll}\n",
       " Location & Day & Date & Weather\\_Pattern & Wind\\_Pattern & Night\\_Temp & Day\\_Temp & Wind\\\\\n",
       " <chr> & <chr> & <date> & <chr> & <chr> & <int> & <int> & <int>\\\\\n",
       "\\hline\n",
       "\t Christchurch & Fri & 2022-10-14 & Mostly cloudy            &  Breezy to brisk Nor'East winds & 7 & 13 & 31\\\\\n",
       "\t Christchurch & Sat & 2022-10-15 & Partly cloudy            &  Light East to Nor'East winds   & 8 & 16 & 12\\\\\n",
       "\t Christchurch & Sun & 2022-10-16 & Partly cloudy            &  Breezy East to Nor'East winds  & 7 & 17 & 15\\\\\n",
       "\t Christchurch & Mon & 2022-10-17 & Afternoon thundershowers &  Light South to Sou'East winds  & 6 & 15 & 13\\\\\n",
       "\t Christchurch & Tue & 2022-10-18 & Partly cloudy            &  Fairly breezy Nor'East winds   & 6 & 14 & 20\\\\\n",
       "\t Christchurch & Wed & 2022-10-19 & Partly cloudy            &  Breezy Southerly winds         & 7 & 16 & 16\\\\\n",
       "\t Christchurch & Thu & 2022-10-20 & Partly cloudy            &  Breezy South to Sou'West winds & 6 & 13 & 19\\\\\n",
       "\t Christchurch & Fri & 2022-10-21 & Partly cloudy            &  Breezy Nor'East winds          & 7 & 15 & 19\\\\\n",
       "\t Christchurch & Sat & 2022-10-22 & Mainly sunny             &  Breezy Nor'East winds          & 9 & 18 & 14\\\\\n",
       "\\end{tabular}\n"
      ],
      "text/markdown": [
       "\n",
       "A tibble: 9 × 8\n",
       "\n",
       "| Location &lt;chr&gt; | Day &lt;chr&gt; | Date &lt;date&gt; | Weather_Pattern &lt;chr&gt; | Wind_Pattern &lt;chr&gt; | Night_Temp &lt;int&gt; | Day_Temp &lt;int&gt; | Wind &lt;int&gt; |\n",
       "|---|---|---|---|---|---|---|---|\n",
       "| Christchurch | Fri | 2022-10-14 | Mostly cloudy            |  Breezy to brisk Nor'East winds | 7 | 13 | 31 |\n",
       "| Christchurch | Sat | 2022-10-15 | Partly cloudy            |  Light East to Nor'East winds   | 8 | 16 | 12 |\n",
       "| Christchurch | Sun | 2022-10-16 | Partly cloudy            |  Breezy East to Nor'East winds  | 7 | 17 | 15 |\n",
       "| Christchurch | Mon | 2022-10-17 | Afternoon thundershowers |  Light South to Sou'East winds  | 6 | 15 | 13 |\n",
       "| Christchurch | Tue | 2022-10-18 | Partly cloudy            |  Fairly breezy Nor'East winds   | 6 | 14 | 20 |\n",
       "| Christchurch | Wed | 2022-10-19 | Partly cloudy            |  Breezy Southerly winds         | 7 | 16 | 16 |\n",
       "| Christchurch | Thu | 2022-10-20 | Partly cloudy            |  Breezy South to Sou'West winds | 6 | 13 | 19 |\n",
       "| Christchurch | Fri | 2022-10-21 | Partly cloudy            |  Breezy Nor'East winds          | 7 | 15 | 19 |\n",
       "| Christchurch | Sat | 2022-10-22 | Mainly sunny             |  Breezy Nor'East winds          | 9 | 18 | 14 |\n",
       "\n"
      ],
      "text/plain": [
       "  Location     Day Date       Weather_Pattern         \n",
       "1 Christchurch Fri 2022-10-14 Mostly cloudy           \n",
       "2 Christchurch Sat 2022-10-15 Partly cloudy           \n",
       "3 Christchurch Sun 2022-10-16 Partly cloudy           \n",
       "4 Christchurch Mon 2022-10-17 Afternoon thundershowers\n",
       "5 Christchurch Tue 2022-10-18 Partly cloudy           \n",
       "6 Christchurch Wed 2022-10-19 Partly cloudy           \n",
       "7 Christchurch Thu 2022-10-20 Partly cloudy           \n",
       "8 Christchurch Fri 2022-10-21 Partly cloudy           \n",
       "9 Christchurch Sat 2022-10-22 Mainly sunny            \n",
       "  Wind_Pattern                    Night_Temp Day_Temp Wind\n",
       "1  Breezy to brisk Nor'East winds 7          13       31  \n",
       "2  Light East to Nor'East winds   8          16       12  \n",
       "3  Breezy East to Nor'East winds  7          17       15  \n",
       "4  Light South to Sou'East winds  6          15       13  \n",
       "5  Fairly breezy Nor'East winds   6          14       20  \n",
       "6  Breezy Southerly winds         7          16       16  \n",
       "7  Breezy South to Sou'West winds 6          13       19  \n",
       "8  Breezy Nor'East winds          7          15       19  \n",
       "9  Breezy Nor'East winds          9          18       14  "
      ]
     },
     "metadata": {},
     "output_type": "display_data"
    }
   ],
   "source": [
    "christchurch_df <- tibble(Location=christchurch_location, Day = day, Date=datey2, Weather_Pattern = chch_weather_pattern, Wind_Pattern=chch_wind_pattern, Night_Temp=christchurch_night, Day_Temp=christchurch_day, Wind=christchurch_wind)\n",
    "christchurch_df"
   ]
  },
  {
   "cell_type": "code",
   "execution_count": 711,
   "id": "84408df9",
   "metadata": {},
   "outputs": [],
   "source": [
    "auckland_df %>% \n",
    "write_csv(\"auckland_df.csv\")"
   ]
  },
  {
   "cell_type": "code",
   "execution_count": null,
   "id": "bd1f8eae",
   "metadata": {},
   "outputs": [],
   "source": []
  }
 ],
 "metadata": {
  "kernelspec": {
   "display_name": "R",
   "language": "R",
   "name": "ir"
  },
  "language_info": {
   "codemirror_mode": "r",
   "file_extension": ".r",
   "mimetype": "text/x-r-source",
   "name": "R",
   "pygments_lexer": "r",
   "version": "4.2.1"
  }
 },
 "nbformat": 4,
 "nbformat_minor": 5
}
