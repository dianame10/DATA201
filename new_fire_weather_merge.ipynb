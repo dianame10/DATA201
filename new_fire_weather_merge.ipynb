{
 "cells": [
  {
   "cell_type": "code",
   "execution_count": null,
   "metadata": {
    "vscode": {
     "languageId": "r"
    }
   },
   "outputs": [],
   "source": [
    "read_chch <- read.csv(file = 'new_weather_chch_data.csv')\n",
    "read_chch\n",
    "\n",
    "south_region_data <- read.csv(file = 'christchurch_fire.csv')\n",
    "\n",
    "#I merge the south region data with the csv file using date and day\n",
    "chch_fire <- merge(x=south_region_data,y= read_chch, by= \"Date\")\n",
    "chch_fire %>% write.csv('christchurch_data.csv')\n"
   ]
  },
  {
   "cell_type": "code",
   "execution_count": null,
   "metadata": {
    "vscode": {
     "languageId": "r"
    }
   },
   "outputs": [],
   "source": [
    "read_akl <- read.csv(file = 'new_weather_akl_data.csv')\n",
    "read_akl\n",
    "\n",
    "north_region_data <- read.csv(file = 'auckland_fire.csv')\n",
    "\n",
    "akl_fire <- merge(x=north_region_data,y= read_akl, by= \"Date\")\n",
    "akl_fire"
   ]
  },
  {
   "cell_type": "code",
   "execution_count": null,
   "metadata": {
    "vscode": {
     "languageId": "r"
    }
   },
   "outputs": [],
   "source": [
    "read_welly <- read.csv(file = 'new_weather_welly_data.csv')\n",
    "read_welly\n",
    "\n",
    "central_region_data <- read.csv(file = 'wellington_fire.csv')\n",
    "\n",
    "welly_fire <- merge(x=central_region_data,y= read_welly, by= \"Date\")\n",
    "welly_fire"
   ]
  }
 ],
 "metadata": {
  "kernelspec": {
   "display_name": "R",
   "language": "R",
   "name": "ir"
  },
  "language_info": {
   "name": "R",
   "version": "3.10.6"
  },
  "orig_nbformat": 4,
  "vscode": {
   "interpreter": {
    "hash": "916dbcbb3f70747c44a77c7bcd40155683ae19c65e1c03b4aa3499c5328201f1"
   }
  }
 },
 "nbformat": 4,
 "nbformat_minor": 2
}
