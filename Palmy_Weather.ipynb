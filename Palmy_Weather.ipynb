{
 "cells": [
  {
   "cell_type": "code",
   "execution_count": 1,
   "id": "06317e54-c12b-444e-a7ae-bc37da2ed5f5",
   "metadata": {},
   "outputs": [
    {
     "name": "stderr",
     "output_type": "stream",
     "text": [
      "── \u001b[1mAttaching packages\u001b[22m ─────────────────────────────────────── tidyverse 1.3.2 ──\n",
      "\u001b[32m✔\u001b[39m \u001b[34mggplot2\u001b[39m 3.3.6     \u001b[32m✔\u001b[39m \u001b[34mpurrr  \u001b[39m 0.3.4\n",
      "\u001b[32m✔\u001b[39m \u001b[34mtibble \u001b[39m 3.1.8     \u001b[32m✔\u001b[39m \u001b[34mdplyr  \u001b[39m 1.0.9\n",
      "\u001b[32m✔\u001b[39m \u001b[34mtidyr  \u001b[39m 1.2.0     \u001b[32m✔\u001b[39m \u001b[34mstringr\u001b[39m 1.4.1\n",
      "\u001b[32m✔\u001b[39m \u001b[34mreadr  \u001b[39m 2.1.2     \u001b[32m✔\u001b[39m \u001b[34mforcats\u001b[39m 0.5.1\n",
      "── \u001b[1mConflicts\u001b[22m ────────────────────────────────────────── tidyverse_conflicts() ──\n",
      "\u001b[31m✖\u001b[39m \u001b[34mdplyr\u001b[39m::\u001b[32mfilter()\u001b[39m masks \u001b[34mstats\u001b[39m::filter()\n",
      "\u001b[31m✖\u001b[39m \u001b[34mdplyr\u001b[39m::\u001b[32mlag()\u001b[39m    masks \u001b[34mstats\u001b[39m::lag()\n"
     ]
    }
   ],
   "source": [
    "library(tidyverse)"
   ]
  },
  {
   "cell_type": "code",
   "execution_count": 2,
   "id": "00a994af-6bf6-4a13-be4b-94f270e4e88e",
   "metadata": {},
   "outputs": [
    {
     "name": "stderr",
     "output_type": "stream",
     "text": [
      "\n",
      "Attaching package: ‘magrittr’\n",
      "\n",
      "\n",
      "The following object is masked from ‘package:purrr’:\n",
      "\n",
      "    set_names\n",
      "\n",
      "\n",
      "The following object is masked from ‘package:tidyr’:\n",
      "\n",
      "    extract\n",
      "\n",
      "\n"
     ]
    }
   ],
   "source": [
    "library(magrittr) # better handling of pipes\n",
    "library(purrr) # to work with lists and map functions\n",
    "library(glue) # to paste strings\n",
    "library(stringr) # to hand strings"
   ]
  },
  {
   "cell_type": "code",
   "execution_count": 3,
   "id": "c7b0b879-0783-425d-bfe6-bc62e6ec8153",
   "metadata": {},
   "outputs": [
    {
     "name": "stderr",
     "output_type": "stream",
     "text": [
      "\n",
      "Attaching package: ‘rvest’\n",
      "\n",
      "\n",
      "The following object is masked from ‘package:readr’:\n",
      "\n",
      "    guess_encoding\n",
      "\n",
      "\n"
     ]
    }
   ],
   "source": [
    "# install.packages(\"rvest\")\n",
    "# remotes::install_github(\"dmi3kno/polite\")(\"politer\")\n",
    "# install.packages(\"xml2\")\n",
    "library(rvest) # rvest makes scraping easier\n",
    "library(polite) # polite is the \"polite\" version of rvest\n",
    "library(xml2) # makes it easier to work with HTML and XML from R"
   ]
  },
  {
   "cell_type": "code",
   "execution_count": 20,
   "id": "6101cf6f-4cfa-4c49-bf4e-08229a860815",
   "metadata": {},
   "outputs": [
    {
     "data": {
      "text/plain": [
       "{html_document}\n",
       "<html xmlns=\"http://www.w3.org/1999/xhtml\" xml:lang=\"en\" lang=\"en-US\" xmlns:fb=\"http://ogp.me/ns/fb#\">\n",
       "[1] <head>\\n<meta http-equiv=\"Content-Type\" content=\"text/html; charset=UTF-8 ...\n",
       "[2] <body onload=\"settitle();scroll(0);\">\\n<script type=\"text/javascript\">\\n( ..."
      ]
     },
     "metadata": {},
     "output_type": "display_data"
    }
   ],
   "source": [
    "weather_url <- 'http://palmyweather.co.nz/table.php?fbclid=IwAR2-kew6Og76ovgqZi-5deWwR5nYGCrJx1KfL3MiFSpvLhyLiih-kro0E8k'\n",
    "weather_html <- read_html(weather_url)\n",
    "weather_html"
   ]
  },
  {
   "cell_type": "code",
   "execution_count": 27,
   "id": "fdb4ec6f-74db-483c-beac-d2fa735789f0",
   "metadata": {},
   "outputs": [
    {
     "data": {
      "text/html": [
       "<style>\n",
       ".list-inline {list-style: none; margin:0; padding: 0}\n",
       ".list-inline>li {display: inline-block}\n",
       ".list-inline>li:not(:last-child)::after {content: \"\\00b7\"; padding: 0 .5ex}\n",
       "</style>\n",
       "<ol class=list-inline><li>'20.3'</li><li>'20.2'</li><li>'20.3'</li><li>'20.2'</li><li>'18.7'</li><li>'19.3'</li><li>'17.0'</li></ol>\n"
      ],
      "text/latex": [
       "\\begin{enumerate*}\n",
       "\\item '20.3'\n",
       "\\item '20.2'\n",
       "\\item '20.3'\n",
       "\\item '20.2'\n",
       "\\item '18.7'\n",
       "\\item '19.3'\n",
       "\\item '17.0'\n",
       "\\end{enumerate*}\n"
      ],
      "text/markdown": [
       "1. '20.3'\n",
       "2. '20.2'\n",
       "3. '20.3'\n",
       "4. '20.2'\n",
       "5. '18.7'\n",
       "6. '19.3'\n",
       "7. '17.0'\n",
       "\n",
       "\n"
      ],
      "text/plain": [
       "[1] \"20.3\" \"20.2\" \"20.3\" \"20.2\" \"18.7\" \"19.3\" \"17.0\""
      ]
     },
     "metadata": {},
     "output_type": "display_data"
    }
   ],
   "source": [
    "max_temp <- weather_html %>% html_nodes(\"style+ .rollingaverage tr:nth-child(1) td:nth-child(10) , style+ .rollingaverage tr:nth-child(1) td:nth-child(9) , style+ .rollingaverage tr:nth-child(1) td:nth-child(8) , style+ .rollingaverage tr:nth-child(1) td:nth-child(7) , style+ .rollingaverage tr:nth-child(1) td:nth-child(5) , style+ .rollingaverage tr:nth-child(1) td:nth-child(6) , style+ .rollingaverage tr:nth-child(1) td:nth-child(4)\") %>% html_text() # Using the selector .high to select the temperature\n",
    "max_temp"
   ]
  },
  {
   "cell_type": "code",
   "execution_count": 25,
   "id": "1ecaa20a-75b3-4a5c-a163-d3ba55fb1877",
   "metadata": {},
   "outputs": [
    {
     "data": {
      "text/html": [
       "<style>\n",
       ".list-inline {list-style: none; margin:0; padding: 0}\n",
       ".list-inline>li {display: inline-block}\n",
       ".list-inline>li:not(:last-child)::after {content: \"\\00b7\"; padding: 0 .5ex}\n",
       "</style>\n",
       "<ol class=list-inline><li>'19/10/22'</li><li>'18/10/22'</li><li>'17/10/22'</li><li>'16/10/22'</li><li>'15/10/22'</li><li>'14/10/22'</li><li>'13/10/22'</li></ol>\n"
      ],
      "text/latex": [
       "\\begin{enumerate*}\n",
       "\\item '19/10/22'\n",
       "\\item '18/10/22'\n",
       "\\item '17/10/22'\n",
       "\\item '16/10/22'\n",
       "\\item '15/10/22'\n",
       "\\item '14/10/22'\n",
       "\\item '13/10/22'\n",
       "\\end{enumerate*}\n"
      ],
      "text/markdown": [
       "1. '19/10/22'\n",
       "2. '18/10/22'\n",
       "3. '17/10/22'\n",
       "4. '16/10/22'\n",
       "5. '15/10/22'\n",
       "6. '14/10/22'\n",
       "7. '13/10/22'\n",
       "\n",
       "\n"
      ],
      "text/plain": [
       "[1] \"19/10/22\" \"18/10/22\" \"17/10/22\" \"16/10/22\" \"15/10/22\" \"14/10/22\" \"13/10/22\""
      ]
     },
     "metadata": {},
     "output_type": "display_data"
    }
   ],
   "source": [
    "date <- weather_html %>% html_nodes(\"style+ .rollingaverage span\") %>% html_text()\n",
    "date"
   ]
  },
  {
   "cell_type": "code",
   "execution_count": 26,
   "id": "cbf76f70-84c3-40a4-83a1-5ed0794a6182",
   "metadata": {},
   "outputs": [
    {
     "data": {
      "text/html": [
       "<style>\n",
       ".list-inline {list-style: none; margin:0; padding: 0}\n",
       ".list-inline>li {display: inline-block}\n",
       ".list-inline>li:not(:last-child)::after {content: \"\\00b7\"; padding: 0 .5ex}\n",
       "</style>\n",
       "<ol class=list-inline><li>'10.1'</li><li>'10.5'</li><li>'12.6'</li><li>'6.8'</li><li>'8.7'</li><li>'7.9'</li><li>'9.2'</li></ol>\n"
      ],
      "text/latex": [
       "\\begin{enumerate*}\n",
       "\\item '10.1'\n",
       "\\item '10.5'\n",
       "\\item '12.6'\n",
       "\\item '6.8'\n",
       "\\item '8.7'\n",
       "\\item '7.9'\n",
       "\\item '9.2'\n",
       "\\end{enumerate*}\n"
      ],
      "text/markdown": [
       "1. '10.1'\n",
       "2. '10.5'\n",
       "3. '12.6'\n",
       "4. '6.8'\n",
       "5. '8.7'\n",
       "6. '7.9'\n",
       "7. '9.2'\n",
       "\n",
       "\n"
      ],
      "text/plain": [
       "[1] \"10.1\" \"10.5\" \"12.6\" \"6.8\"  \"8.7\"  \"7.9\"  \"9.2\" "
      ]
     },
     "metadata": {},
     "output_type": "display_data"
    }
   ],
   "source": [
    "min_temp <- weather_html %>% html_nodes(\"style+ .rollingaverage tr:nth-child(2) td:nth-child(10) , style+ .rollingaverage tr:nth-child(2) td:nth-child(9) , style+ .rollingaverage tr:nth-child(2) td:nth-child(8) , style+ .rollingaverage tr:nth-child(2) td:nth-child(7) , style+ .rollingaverage tr:nth-child(2) td:nth-child(6) , style+ .rollingaverage tr:nth-child(2) td:nth-child(5) , style+ .rollingaverage tr:nth-child(2) td:nth-child(4)\") %>% html_text() # Using the selector .high to select the temperature\n",
    "min_temp"
   ]
  },
  {
   "cell_type": "code",
   "execution_count": 34,
   "id": "ee11af20-9349-4527-8606-1cb97c48320f",
   "metadata": {},
   "outputs": [
    {
     "data": {
      "text/html": [
       "<style>\n",
       ".list-inline {list-style: none; margin:0; padding: 0}\n",
       ".list-inline>li {display: inline-block}\n",
       ".list-inline>li:not(:last-child)::after {content: \"\\00b7\"; padding: 0 .5ex}\n",
       "</style>\n",
       "<ol class=list-inline><li>'15.0'</li><li>'14.0'</li><li>'16.0'</li><li>'12.0'</li><li>'13.0'</li><li>'14.0'</li><li>'16.0'</li></ol>\n"
      ],
      "text/latex": [
       "\\begin{enumerate*}\n",
       "\\item '15.0'\n",
       "\\item '14.0'\n",
       "\\item '16.0'\n",
       "\\item '12.0'\n",
       "\\item '13.0'\n",
       "\\item '14.0'\n",
       "\\item '16.0'\n",
       "\\end{enumerate*}\n"
      ],
      "text/markdown": [
       "1. '15.0'\n",
       "2. '14.0'\n",
       "3. '16.0'\n",
       "4. '12.0'\n",
       "5. '13.0'\n",
       "6. '14.0'\n",
       "7. '16.0'\n",
       "\n",
       "\n"
      ],
      "text/plain": [
       "[1] \"15.0\" \"14.0\" \"16.0\" \"12.0\" \"13.0\" \"14.0\" \"16.0\""
      ]
     },
     "metadata": {},
     "output_type": "display_data"
    }
   ],
   "source": [
    "wind_speed <- weather_html %>% html_nodes(\"style+ .rollingaverage tr:nth-child(13) td:nth-child(10) , style+ .rollingaverage tr:nth-child(13) td:nth-child(9) , style+ .rollingaverage tr:nth-child(13) td:nth-child(8) , style+ .rollingaverage tr:nth-child(13) td:nth-child(7) , style+ .rollingaverage tr:nth-child(13) td:nth-child(6) , style+ .rollingaverage tr:nth-child(13) td:nth-child(5) , style+ .rollingaverage tr:nth-child(13) td:nth-child(4)\") %>% html_text()\n",
    "wind_speed"
   ]
  },
  {
   "cell_type": "code",
   "execution_count": 35,
   "id": "9c9bb631-cd0a-42d6-90e1-48a311a65783",
   "metadata": {},
   "outputs": [
    {
     "data": {
      "text/html": [
       "<style>\n",
       ".list-inline {list-style: none; margin:0; padding: 0}\n",
       ".list-inline>li {display: inline-block}\n",
       ".list-inline>li:not(:last-child)::after {content: \"\\00b7\"; padding: 0 .5ex}\n",
       "</style>\n",
       "<ol class=list-inline><li>'W'</li><li>'W'</li><li>'WSW'</li><li>'W'</li><li>'N'</li><li>'ENE'</li><li>'NE'</li></ol>\n"
      ],
      "text/latex": [
       "\\begin{enumerate*}\n",
       "\\item 'W'\n",
       "\\item 'W'\n",
       "\\item 'WSW'\n",
       "\\item 'W'\n",
       "\\item 'N'\n",
       "\\item 'ENE'\n",
       "\\item 'NE'\n",
       "\\end{enumerate*}\n"
      ],
      "text/markdown": [
       "1. 'W'\n",
       "2. 'W'\n",
       "3. 'WSW'\n",
       "4. 'W'\n",
       "5. 'N'\n",
       "6. 'ENE'\n",
       "7. 'NE'\n",
       "\n",
       "\n"
      ],
      "text/plain": [
       "[1] \"W\"   \"W\"   \"WSW\" \"W\"   \"N\"   \"ENE\" \"NE\" "
      ]
     },
     "metadata": {},
     "output_type": "display_data"
    }
   ],
   "source": [
    "wind_direction <- weather_html %>% html_nodes(\"style+ .rollingaverage tr:nth-child(16) td:nth-child(5) , style+ .rollingaverage tr:nth-child(16) td:nth-child(10) , style+ .rollingaverage tr:nth-child(16) td:nth-child(9) , style+ .rollingaverage tr:nth-child(16) td:nth-child(8) , style+ .rollingaverage tr:nth-child(16) td:nth-child(7) , style+ .rollingaverage tr:nth-child(16) td:nth-child(6) , style+ .rollingaverage tr:nth-child(16) td:nth-child(4)\") %>% html_text()\n",
    "wind_direction"
   ]
  },
  {
   "cell_type": "code",
   "execution_count": 31,
   "id": "8b236a20-3222-4de0-b31c-2888980b3cb6",
   "metadata": {},
   "outputs": [
    {
     "data": {
      "text/html": [
       "<style>\n",
       ".list-inline {list-style: none; margin:0; padding: 0}\n",
       ".list-inline>li {display: inline-block}\n",
       ".list-inline>li:not(:last-child)::after {content: \"\\00b7\"; padding: 0 .5ex}\n",
       "</style>\n",
       "<ol class=list-inline><li>'95'</li><li>'90'</li><li>'95'</li><li>'91'</li><li>'82'</li><li>'83'</li><li>'92'</li></ol>\n"
      ],
      "text/latex": [
       "\\begin{enumerate*}\n",
       "\\item '95'\n",
       "\\item '90'\n",
       "\\item '95'\n",
       "\\item '91'\n",
       "\\item '82'\n",
       "\\item '83'\n",
       "\\item '92'\n",
       "\\end{enumerate*}\n"
      ],
      "text/markdown": [
       "1. '95'\n",
       "2. '90'\n",
       "3. '95'\n",
       "4. '91'\n",
       "5. '82'\n",
       "6. '83'\n",
       "7. '92'\n",
       "\n",
       "\n"
      ],
      "text/plain": [
       "[1] \"95\" \"90\" \"95\" \"91\" \"82\" \"83\" \"92\""
      ]
     },
     "metadata": {},
     "output_type": "display_data"
    }
   ],
   "source": [
    "high_humidity <- weather_html %>% html_nodes(\"style+ .rollingaverage tr:nth-child(9) td:nth-child(10) , style+ .rollingaverage tr:nth-child(9) td:nth-child(9) , style+ .rollingaverage tr:nth-child(9) td:nth-child(8) , style+ .rollingaverage tr:nth-child(9) td:nth-child(7) , style+ .rollingaverage tr:nth-child(9) td:nth-child(6) , style+ .rollingaverage tr:nth-child(9) td:nth-child(5) , style+ .rollingaverage tr:nth-child(9) td:nth-child(4)\") %>% html_text()\n",
    "high_humidity"
   ]
  },
  {
   "cell_type": "code",
   "execution_count": 32,
   "id": "36d4ac00-9b51-4b84-b2ec-4da6b529e912",
   "metadata": {},
   "outputs": [
    {
     "data": {
      "text/html": [
       "<style>\n",
       ".list-inline {list-style: none; margin:0; padding: 0}\n",
       ".list-inline>li {display: inline-block}\n",
       ".list-inline>li:not(:last-child)::after {content: \"\\00b7\"; padding: 0 .5ex}\n",
       "</style>\n",
       "<ol class=list-inline><li>'37'</li><li>'55'</li><li>'57'</li><li>'48'</li><li>'53'</li><li>'41'</li><li>'62'</li></ol>\n"
      ],
      "text/latex": [
       "\\begin{enumerate*}\n",
       "\\item '37'\n",
       "\\item '55'\n",
       "\\item '57'\n",
       "\\item '48'\n",
       "\\item '53'\n",
       "\\item '41'\n",
       "\\item '62'\n",
       "\\end{enumerate*}\n"
      ],
      "text/markdown": [
       "1. '37'\n",
       "2. '55'\n",
       "3. '57'\n",
       "4. '48'\n",
       "5. '53'\n",
       "6. '41'\n",
       "7. '62'\n",
       "\n",
       "\n"
      ],
      "text/plain": [
       "[1] \"37\" \"55\" \"57\" \"48\" \"53\" \"41\" \"62\""
      ]
     },
     "metadata": {},
     "output_type": "display_data"
    }
   ],
   "source": [
    "low_humidity <- weather_html %>% html_nodes(\"style+ .rollingaverage tr:nth-child(10) td:nth-child(5) , style+ .rollingaverage tr:nth-child(10) td:nth-child(10) , style+ .rollingaverage tr:nth-child(10) td:nth-child(9) , style+ .rollingaverage tr:nth-child(10) td:nth-child(8) , style+ .rollingaverage tr:nth-child(10) td:nth-child(7) , style+ .rollingaverage tr:nth-child(10) td:nth-child(6) , style+ .rollingaverage tr:nth-child(10) td:nth-child(4)\") %>% html_text()\n",
    "low_humidity"
   ]
  },
  {
   "cell_type": "code",
   "execution_count": 36,
   "id": "a0302ccb-e451-45cb-bdfa-ea625fe03180",
   "metadata": {},
   "outputs": [
    {
     "data": {
      "text/html": [
       "<table class=\"dataframe\">\n",
       "<caption>A tibble: 7 × 7</caption>\n",
       "<thead>\n",
       "\t<tr><th scope=col>Date</th><th scope=col>Minimum_temp</th><th scope=col>Maximum_temp</th><th scope=col>Wind_speed</th><th scope=col>Wind_direction</th><th scope=col>High_humidity</th><th scope=col>Low_humidity</th></tr>\n",
       "\t<tr><th scope=col>&lt;chr&gt;</th><th scope=col>&lt;chr&gt;</th><th scope=col>&lt;chr&gt;</th><th scope=col>&lt;chr&gt;</th><th scope=col>&lt;chr&gt;</th><th scope=col>&lt;chr&gt;</th><th scope=col>&lt;chr&gt;</th></tr>\n",
       "</thead>\n",
       "<tbody>\n",
       "\t<tr><td>19/10/22</td><td>10.1</td><td>20.3</td><td>15.0</td><td>W  </td><td>95</td><td>37</td></tr>\n",
       "\t<tr><td>18/10/22</td><td>10.5</td><td>20.2</td><td>14.0</td><td>W  </td><td>90</td><td>55</td></tr>\n",
       "\t<tr><td>17/10/22</td><td>12.6</td><td>20.3</td><td>16.0</td><td>WSW</td><td>95</td><td>57</td></tr>\n",
       "\t<tr><td>16/10/22</td><td>6.8 </td><td>20.2</td><td>12.0</td><td>W  </td><td>91</td><td>48</td></tr>\n",
       "\t<tr><td>15/10/22</td><td>8.7 </td><td>18.7</td><td>13.0</td><td>N  </td><td>82</td><td>53</td></tr>\n",
       "\t<tr><td>14/10/22</td><td>7.9 </td><td>19.3</td><td>14.0</td><td>ENE</td><td>83</td><td>41</td></tr>\n",
       "\t<tr><td>13/10/22</td><td>9.2 </td><td>17.0</td><td>16.0</td><td>NE </td><td>92</td><td>62</td></tr>\n",
       "</tbody>\n",
       "</table>\n"
      ],
      "text/latex": [
       "A tibble: 7 × 7\n",
       "\\begin{tabular}{lllllll}\n",
       " Date & Minimum\\_temp & Maximum\\_temp & Wind\\_speed & Wind\\_direction & High\\_humidity & Low\\_humidity\\\\\n",
       " <chr> & <chr> & <chr> & <chr> & <chr> & <chr> & <chr>\\\\\n",
       "\\hline\n",
       "\t 19/10/22 & 10.1 & 20.3 & 15.0 & W   & 95 & 37\\\\\n",
       "\t 18/10/22 & 10.5 & 20.2 & 14.0 & W   & 90 & 55\\\\\n",
       "\t 17/10/22 & 12.6 & 20.3 & 16.0 & WSW & 95 & 57\\\\\n",
       "\t 16/10/22 & 6.8  & 20.2 & 12.0 & W   & 91 & 48\\\\\n",
       "\t 15/10/22 & 8.7  & 18.7 & 13.0 & N   & 82 & 53\\\\\n",
       "\t 14/10/22 & 7.9  & 19.3 & 14.0 & ENE & 83 & 41\\\\\n",
       "\t 13/10/22 & 9.2  & 17.0 & 16.0 & NE  & 92 & 62\\\\\n",
       "\\end{tabular}\n"
      ],
      "text/markdown": [
       "\n",
       "A tibble: 7 × 7\n",
       "\n",
       "| Date &lt;chr&gt; | Minimum_temp &lt;chr&gt; | Maximum_temp &lt;chr&gt; | Wind_speed &lt;chr&gt; | Wind_direction &lt;chr&gt; | High_humidity &lt;chr&gt; | Low_humidity &lt;chr&gt; |\n",
       "|---|---|---|---|---|---|---|\n",
       "| 19/10/22 | 10.1 | 20.3 | 15.0 | W   | 95 | 37 |\n",
       "| 18/10/22 | 10.5 | 20.2 | 14.0 | W   | 90 | 55 |\n",
       "| 17/10/22 | 12.6 | 20.3 | 16.0 | WSW | 95 | 57 |\n",
       "| 16/10/22 | 6.8  | 20.2 | 12.0 | W   | 91 | 48 |\n",
       "| 15/10/22 | 8.7  | 18.7 | 13.0 | N   | 82 | 53 |\n",
       "| 14/10/22 | 7.9  | 19.3 | 14.0 | ENE | 83 | 41 |\n",
       "| 13/10/22 | 9.2  | 17.0 | 16.0 | NE  | 92 | 62 |\n",
       "\n"
      ],
      "text/plain": [
       "  Date     Minimum_temp Maximum_temp Wind_speed Wind_direction High_humidity\n",
       "1 19/10/22 10.1         20.3         15.0       W              95           \n",
       "2 18/10/22 10.5         20.2         14.0       W              90           \n",
       "3 17/10/22 12.6         20.3         16.0       WSW            95           \n",
       "4 16/10/22 6.8          20.2         12.0       W              91           \n",
       "5 15/10/22 8.7          18.7         13.0       N              82           \n",
       "6 14/10/22 7.9          19.3         14.0       ENE            83           \n",
       "7 13/10/22 9.2          17.0         16.0       NE             92           \n",
       "  Low_humidity\n",
       "1 37          \n",
       "2 55          \n",
       "3 57          \n",
       "4 48          \n",
       "5 53          \n",
       "6 41          \n",
       "7 62          "
      ]
     },
     "metadata": {},
     "output_type": "display_data"
    }
   ],
   "source": [
    "weather_df <- tibble(Date=date, Minimum_temp=min_temp, Maximum_temp=max_temp, Wind_speed=wind_speed, Wind_direction=wind_direction, High_humidity=high_humidity, Low_humidity=low_humidity)\n",
    "weather_df"
   ]
  },
  {
   "cell_type": "code",
   "execution_count": null,
   "id": "068605b8-be0f-4eb1-8851-a3971e6cdeea",
   "metadata": {},
   "outputs": [],
   "source": []
  }
 ],
 "metadata": {
  "kernelspec": {
   "display_name": "R",
   "language": "R",
   "name": "ir"
  },
  "language_info": {
   "codemirror_mode": "r",
   "file_extension": ".r",
   "mimetype": "text/x-r-source",
   "name": "R",
   "pygments_lexer": "r",
   "version": "4.2.1"
  }
 },
 "nbformat": 4,
 "nbformat_minor": 5
}
