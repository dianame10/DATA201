{
 "cells": [
  {
   "cell_type": "code",
   "execution_count": 1,
   "id": "e8471d38-70b8-4ce3-8fd2-63cb7a1dd927",
   "metadata": {
    "vscode": {
     "languageId": "r"
    }
   },
   "outputs": [
    {
     "name": "stderr",
     "output_type": "stream",
     "text": [
      "── \u001b[1mAttaching packages\u001b[22m ─────────────────────────────────────── tidyverse 1.3.2 ──\n",
      "\u001b[32m✔\u001b[39m \u001b[34mggplot2\u001b[39m 3.3.6     \u001b[32m✔\u001b[39m \u001b[34mpurrr  \u001b[39m 0.3.4\n",
      "\u001b[32m✔\u001b[39m \u001b[34mtibble \u001b[39m 3.1.8     \u001b[32m✔\u001b[39m \u001b[34mdplyr  \u001b[39m 1.0.9\n",
      "\u001b[32m✔\u001b[39m \u001b[34mtidyr  \u001b[39m 1.2.0     \u001b[32m✔\u001b[39m \u001b[34mstringr\u001b[39m 1.4.1\n",
      "\u001b[32m✔\u001b[39m \u001b[34mreadr  \u001b[39m 2.1.2     \u001b[32m✔\u001b[39m \u001b[34mforcats\u001b[39m 0.5.1\n",
      "── \u001b[1mConflicts\u001b[22m ────────────────────────────────────────── tidyverse_conflicts() ──\n",
      "\u001b[31m✖\u001b[39m \u001b[34mdplyr\u001b[39m::\u001b[32mfilter()\u001b[39m masks \u001b[34mstats\u001b[39m::filter()\n",
      "\u001b[31m✖\u001b[39m \u001b[34mdplyr\u001b[39m::\u001b[32mlag()\u001b[39m    masks \u001b[34mstats\u001b[39m::lag()\n"
     ]
    }
   ],
   "source": [
    "library(tidyverse)"
   ]
  },
  {
   "cell_type": "code",
   "execution_count": 2,
   "id": "ae559c3a-7cd4-4a9b-83f4-44025b830ef2",
   "metadata": {
    "vscode": {
     "languageId": "r"
    }
   },
   "outputs": [
    {
     "name": "stderr",
     "output_type": "stream",
     "text": [
      "\n",
      "Attaching package: ‘magrittr’\n",
      "\n",
      "\n",
      "The following object is masked from ‘package:purrr’:\n",
      "\n",
      "    set_names\n",
      "\n",
      "\n",
      "The following object is masked from ‘package:tidyr’:\n",
      "\n",
      "    extract\n",
      "\n",
      "\n"
     ]
    }
   ],
   "source": [
    "# install.packages(\"magrittr\")\n",
    "# install.packages(\"purrr\")\n",
    "# install.packages(\"glue\")\n",
    "# install.packages(\"stringr\")\n",
    "library(magrittr) # better handling of pipes\n",
    "library(purrr) # to work with lists and map functions\n",
    "library(glue) # to paste strings\n",
    "library(stringr) # to hand strings\n",
    "library(dplyr)"
   ]
  },
  {
   "cell_type": "code",
   "execution_count": 3,
   "id": "ab8bb184-0b9c-45ba-ad81-0a04e652d04d",
   "metadata": {
    "vscode": {
     "languageId": "r"
    }
   },
   "outputs": [
    {
     "name": "stderr",
     "output_type": "stream",
     "text": [
      "\n",
      "Attaching package: ‘rvest’\n",
      "\n",
      "\n",
      "The following object is masked from ‘package:readr’:\n",
      "\n",
      "    guess_encoding\n",
      "\n",
      "\n",
      "\n",
      "Attaching package: ‘lubridate’\n",
      "\n",
      "\n",
      "The following objects are masked from ‘package:base’:\n",
      "\n",
      "    date, intersect, setdiff, union\n",
      "\n",
      "\n"
     ]
    }
   ],
   "source": [
    "# install.packages(\"rvest\")\n",
    "# remotes::install_github(\"dmi3kno/polite\")(\"politer\")\n",
    "# install.packages(\"xml2\")\n",
    "library(rvest) # rvest makes scraping easier\n",
    "library(polite) # polite is the \"polite\" version of rvest\n",
    "library(xml2) # makes it easier to work with HTML and XML from R\n",
    "library(lubridate)\n",
    "library(writexl)"
   ]
  },
  {
   "cell_type": "code",
   "execution_count": 4,
   "id": "4a8800d3-a5cd-4f19-aeff-1c83c182ab90",
   "metadata": {
    "vscode": {
     "languageId": "r"
    }
   },
   "outputs": [
    {
     "data": {
      "text/plain": [
       "{html_document}\n",
       "<html>\n",
       "[1] <head>\\n<meta http-equiv=\"Content-Type\" content=\"text/html; charset=UTF-8 ...\n",
       "[2] <body>\\n<div id=\"__next\">\\n<div class=\"jsx-3479055027 browser\"><div class ..."
      ]
     },
     "metadata": {},
     "output_type": "display_data"
    }
   ],
   "source": [
    "#getting the website to scrape\n",
    "auckland_url <- \"https://www.weatherwatch.co.nz/forecasts/Auckland\" \n",
    "wellington_url <- \"https://www.weatherwatch.co.nz/forecasts/Wellington\"\n",
    "christchurch_url <- \"https://www.weatherwatch.co.nz/forecasts/christchurch\"\n",
    "auckland_html <- read_html(auckland_url)\n",
    "wellington_html <- read_html(wellington_url)\n",
    "christchurch_html <- read_html(christchurch_url)\n",
    "auckland_html"
   ]
  },
  {
   "cell_type": "code",
   "execution_count": 5,
   "id": "0262082d-b06e-4cd9-8bf9-54e173615e13",
   "metadata": {
    "vscode": {
     "languageId": "r"
    }
   },
   "outputs": [
    {
     "data": {
      "text/html": [
       "'list'"
      ],
      "text/latex": [
       "'list'"
      ],
      "text/markdown": [
       "'list'"
      ],
      "text/plain": [
       "[1] \"list\""
      ]
     },
     "metadata": {},
     "output_type": "display_data"
    },
    {
     "name": "stdout",
     "output_type": "stream",
     "text": [
      "List of 2\n",
      " $ node:<externalptr> \n",
      " $ doc :<externalptr> \n",
      " - attr(*, \"class\")= chr [1:2] \"xml_document\" \"xml_node\"\n"
     ]
    }
   ],
   "source": [
    "auckland_html %>% typeof()\n",
    "auckland_html %>% glimpse()"
   ]
  },
  {
   "cell_type": "code",
   "execution_count": 6,
   "id": "b9c8fdf4-b2c8-437f-84c6-ef749c09bc18",
   "metadata": {
    "scrolled": false,
    "vscode": {
     "languageId": "r"
    }
   },
   "outputs": [
    {
     "data": {
      "text/html": [
       "<style>\n",
       ".list-inline {list-style: none; margin:0; padding: 0}\n",
       ".list-inline>li {display: inline-block}\n",
       ".list-inline>li:not(:last-child)::after {content: \"\\00b7\"; padding: 0 .5ex}\n",
       "</style>\n",
       "<ol class=list-inline><li>'Thu 27 Oct'</li><li>'Fri 28 Oct'</li><li>'Sat 29 Oct'</li><li>'Sun 30 Oct'</li><li>'Mon 31 Oct'</li><li>'Tue 1 Nov'</li><li>'Wed 2 Nov'</li><li>'Thu 3 Nov'</li><li>'Fri 4 Nov'</li></ol>\n"
      ],
      "text/latex": [
       "\\begin{enumerate*}\n",
       "\\item 'Thu 27 Oct'\n",
       "\\item 'Fri 28 Oct'\n",
       "\\item 'Sat 29 Oct'\n",
       "\\item 'Sun 30 Oct'\n",
       "\\item 'Mon 31 Oct'\n",
       "\\item 'Tue 1 Nov'\n",
       "\\item 'Wed 2 Nov'\n",
       "\\item 'Thu 3 Nov'\n",
       "\\item 'Fri 4 Nov'\n",
       "\\end{enumerate*}\n"
      ],
      "text/markdown": [
       "1. 'Thu 27 Oct'\n",
       "2. 'Fri 28 Oct'\n",
       "3. 'Sat 29 Oct'\n",
       "4. 'Sun 30 Oct'\n",
       "5. 'Mon 31 Oct'\n",
       "6. 'Tue 1 Nov'\n",
       "7. 'Wed 2 Nov'\n",
       "8. 'Thu 3 Nov'\n",
       "9. 'Fri 4 Nov'\n",
       "\n",
       "\n"
      ],
      "text/plain": [
       "[1] \"Thu 27 Oct\" \"Fri 28 Oct\" \"Sat 29 Oct\" \"Sun 30 Oct\" \"Mon 31 Oct\"\n",
       "[6] \"Tue 1 Nov\"  \"Wed 2 Nov\"  \"Thu 3 Nov\"  \"Fri 4 Nov\" "
      ]
     },
     "metadata": {},
     "output_type": "display_data"
    }
   ],
   "source": [
    "#scraping the dates\n",
    "dates <- auckland_html %>% html_nodes(\".date\") %>% html_text()\n",
    "index <- 1:18\n",
    "date <- dates[index%%2==0]\n",
    "date"
   ]
  },
  {
   "cell_type": "code",
   "execution_count": 7,
   "id": "e555a248",
   "metadata": {
    "scrolled": false,
    "vscode": {
     "languageId": "r"
    }
   },
   "outputs": [
    {
     "data": {
      "text/html": [
       "<style>\n",
       ".list-inline {list-style: none; margin:0; padding: 0}\n",
       ".list-inline>li {display: inline-block}\n",
       ".list-inline>li:not(:last-child)::after {content: \"\\00b7\"; padding: 0 .5ex}\n",
       "</style>\n",
       "<ol class=list-inline><li>'27 Oct'</li><li>'28 Oct'</li><li>'29 Oct'</li><li>'30 Oct'</li><li>'31 Oct'</li><li>' 1 Nov'</li><li>' 2 Nov'</li><li>' 3 Nov'</li><li>' 4 Nov'</li></ol>\n"
      ],
      "text/latex": [
       "\\begin{enumerate*}\n",
       "\\item '27 Oct'\n",
       "\\item '28 Oct'\n",
       "\\item '29 Oct'\n",
       "\\item '30 Oct'\n",
       "\\item '31 Oct'\n",
       "\\item ' 1 Nov'\n",
       "\\item ' 2 Nov'\n",
       "\\item ' 3 Nov'\n",
       "\\item ' 4 Nov'\n",
       "\\end{enumerate*}\n"
      ],
      "text/markdown": [
       "1. '27 Oct'\n",
       "2. '28 Oct'\n",
       "3. '29 Oct'\n",
       "4. '30 Oct'\n",
       "5. '31 Oct'\n",
       "6. ' 1 Nov'\n",
       "7. ' 2 Nov'\n",
       "8. ' 3 Nov'\n",
       "9. ' 4 Nov'\n",
       "\n",
       "\n"
      ],
      "text/plain": [
       "[1] \"27 Oct\" \"28 Oct\" \"29 Oct\" \"30 Oct\" \"31 Oct\" \" 1 Nov\" \" 2 Nov\" \" 3 Nov\"\n",
       "[9] \" 4 Nov\""
      ]
     },
     "metadata": {},
     "output_type": "display_data"
    }
   ],
   "source": [
    "#split the day of the week from the date\n",
    "date_no <- substr(date, nchar(date) - 5, nchar(date))\n",
    "date_no"
   ]
  },
  {
   "cell_type": "code",
   "execution_count": 8,
   "id": "b8ffeea5",
   "metadata": {
    "vscode": {
     "languageId": "r"
    }
   },
   "outputs": [
    {
     "data": {
      "text/html": [
       "<style>\n",
       ".list-inline {list-style: none; margin:0; padding: 0}\n",
       ".list-inline>li {display: inline-block}\n",
       ".list-inline>li:not(:last-child)::after {content: \"\\00b7\"; padding: 0 .5ex}\n",
       "</style>\n",
       "<ol class=list-inline><li>'Thu'</li><li>'Fri'</li><li>'Sat'</li><li>'Sun'</li><li>'Mon'</li><li>'Tue'</li><li>'Wed'</li><li>'Thu'</li><li>'Fri'</li></ol>\n"
      ],
      "text/latex": [
       "\\begin{enumerate*}\n",
       "\\item 'Thu'\n",
       "\\item 'Fri'\n",
       "\\item 'Sat'\n",
       "\\item 'Sun'\n",
       "\\item 'Mon'\n",
       "\\item 'Tue'\n",
       "\\item 'Wed'\n",
       "\\item 'Thu'\n",
       "\\item 'Fri'\n",
       "\\end{enumerate*}\n"
      ],
      "text/markdown": [
       "1. 'Thu'\n",
       "2. 'Fri'\n",
       "3. 'Sat'\n",
       "4. 'Sun'\n",
       "5. 'Mon'\n",
       "6. 'Tue'\n",
       "7. 'Wed'\n",
       "8. 'Thu'\n",
       "9. 'Fri'\n",
       "\n",
       "\n"
      ],
      "text/plain": [
       "[1] \"Thu\" \"Fri\" \"Sat\" \"Sun\" \"Mon\" \"Tue\" \"Wed\" \"Thu\" \"Fri\""
      ]
     },
     "metadata": {},
     "output_type": "display_data"
    }
   ],
   "source": [
    "#assigned the day of the week to a variable to use for the table\n",
    "day <-substr(date, 1,3)\n",
    "day"
   ]
  },
  {
   "cell_type": "code",
   "execution_count": 9,
   "id": "686fc8d2",
   "metadata": {
    "scrolled": true,
    "vscode": {
     "languageId": "r"
    }
   },
   "outputs": [
    {
     "data": {
      "text/html": [
       "<style>\n",
       ".list-inline {list-style: none; margin:0; padding: 0}\n",
       ".list-inline>li {display: inline-block}\n",
       ".list-inline>li:not(:last-child)::after {content: \"\\00b7\"; padding: 0 .5ex}\n",
       "</style>\n",
       "<ol class=list-inline><li>'27'</li><li>'28'</li><li>'29'</li><li>'30'</li><li>'31'</li><li>' 1'</li><li>' 2'</li><li>' 3'</li><li>' 4'</li></ol>\n"
      ],
      "text/latex": [
       "\\begin{enumerate*}\n",
       "\\item '27'\n",
       "\\item '28'\n",
       "\\item '29'\n",
       "\\item '30'\n",
       "\\item '31'\n",
       "\\item ' 1'\n",
       "\\item ' 2'\n",
       "\\item ' 3'\n",
       "\\item ' 4'\n",
       "\\end{enumerate*}\n"
      ],
      "text/markdown": [
       "1. '27'\n",
       "2. '28'\n",
       "3. '29'\n",
       "4. '30'\n",
       "5. '31'\n",
       "6. ' 1'\n",
       "7. ' 2'\n",
       "8. ' 3'\n",
       "9. ' 4'\n",
       "\n",
       "\n"
      ],
      "text/plain": [
       "[1] \"27\" \"28\" \"29\" \"30\" \"31\" \" 1\" \" 2\" \" 3\" \" 4\""
      ]
     },
     "metadata": {},
     "output_type": "display_data"
    }
   ],
   "source": [
    "#splitting to get the date number from the date\n",
    "date_day_no <- substr(date_no, 1,2)\n",
    "date_day_no"
   ]
  },
  {
   "cell_type": "code",
   "execution_count": 10,
   "id": "8634d3c3",
   "metadata": {
    "scrolled": false,
    "vscode": {
     "languageId": "r"
    }
   },
   "outputs": [
    {
     "data": {
      "text/html": [
       "<style>\n",
       ".list-inline {list-style: none; margin:0; padding: 0}\n",
       ".list-inline>li {display: inline-block}\n",
       ".list-inline>li:not(:last-child)::after {content: \"\\00b7\"; padding: 0 .5ex}\n",
       "</style>\n",
       "<ol class=list-inline><li>'Oct'</li><li>'Oct'</li><li>'Oct'</li><li>'Oct'</li><li>'Oct'</li><li>'Nov'</li><li>'Nov'</li><li>'Nov'</li><li>'Nov'</li></ol>\n"
      ],
      "text/latex": [
       "\\begin{enumerate*}\n",
       "\\item 'Oct'\n",
       "\\item 'Oct'\n",
       "\\item 'Oct'\n",
       "\\item 'Oct'\n",
       "\\item 'Oct'\n",
       "\\item 'Nov'\n",
       "\\item 'Nov'\n",
       "\\item 'Nov'\n",
       "\\item 'Nov'\n",
       "\\end{enumerate*}\n"
      ],
      "text/markdown": [
       "1. 'Oct'\n",
       "2. 'Oct'\n",
       "3. 'Oct'\n",
       "4. 'Oct'\n",
       "5. 'Oct'\n",
       "6. 'Nov'\n",
       "7. 'Nov'\n",
       "8. 'Nov'\n",
       "9. 'Nov'\n",
       "\n",
       "\n"
      ],
      "text/plain": [
       "[1] \"Oct\" \"Oct\" \"Oct\" \"Oct\" \"Oct\" \"Nov\" \"Nov\" \"Nov\" \"Nov\""
      ]
     },
     "metadata": {},
     "output_type": "display_data"
    }
   ],
   "source": [
    "#splitting to get the month from the date\n",
    "date_month_no <-substr(date_no, 4,6)\n",
    "date_month_no"
   ]
  },
  {
   "cell_type": "code",
   "execution_count": 11,
   "id": "aa0ae7a1",
   "metadata": {
    "vscode": {
     "languageId": "r"
    }
   },
   "outputs": [
    {
     "data": {
      "text/html": [
       "<style>\n",
       ".list-inline {list-style: none; margin:0; padding: 0}\n",
       ".list-inline>li {display: inline-block}\n",
       ".list-inline>li:not(:last-child)::after {content: \"\\00b7\"; padding: 0 .5ex}\n",
       "</style>\n",
       "<ol class=list-inline><li>10</li><li>10</li><li>10</li><li>10</li><li>10</li><li>11</li><li>11</li><li>11</li><li>11</li></ol>\n"
      ],
      "text/latex": [
       "\\begin{enumerate*}\n",
       "\\item 10\n",
       "\\item 10\n",
       "\\item 10\n",
       "\\item 10\n",
       "\\item 10\n",
       "\\item 11\n",
       "\\item 11\n",
       "\\item 11\n",
       "\\item 11\n",
       "\\end{enumerate*}\n"
      ],
      "text/markdown": [
       "1. 10\n",
       "2. 10\n",
       "3. 10\n",
       "4. 10\n",
       "5. 10\n",
       "6. 11\n",
       "7. 11\n",
       "8. 11\n",
       "9. 11\n",
       "\n",
       "\n"
      ],
      "text/plain": [
       "[1] 10 10 10 10 10 11 11 11 11"
      ]
     },
     "metadata": {},
     "output_type": "display_data"
    }
   ],
   "source": [
    "#converting month to month number\n",
    "date_month_no2<-match(date_month_no,month.abb)\n",
    "date_month_no2"
   ]
  },
  {
   "cell_type": "code",
   "execution_count": 12,
   "id": "e19e9ed8",
   "metadata": {
    "scrolled": true,
    "vscode": {
     "languageId": "r"
    }
   },
   "outputs": [
    {
     "data": {
      "text/html": [
       "<style>\n",
       ".list-inline {list-style: none; margin:0; padding: 0}\n",
       ".list-inline>li {display: inline-block}\n",
       ".list-inline>li:not(:last-child)::after {content: \"\\00b7\"; padding: 0 .5ex}\n",
       "</style>\n",
       "<ol class=list-inline><li>'2022-10-27'</li><li>'2022-10-28'</li><li>'2022-10-29'</li><li>'2022-10-30'</li><li>'2022-10-31'</li><li>'2022-11- 1'</li><li>'2022-11- 2'</li><li>'2022-11- 3'</li><li>'2022-11- 4'</li></ol>\n"
      ],
      "text/latex": [
       "\\begin{enumerate*}\n",
       "\\item '2022-10-27'\n",
       "\\item '2022-10-28'\n",
       "\\item '2022-10-29'\n",
       "\\item '2022-10-30'\n",
       "\\item '2022-10-31'\n",
       "\\item '2022-11- 1'\n",
       "\\item '2022-11- 2'\n",
       "\\item '2022-11- 3'\n",
       "\\item '2022-11- 4'\n",
       "\\end{enumerate*}\n"
      ],
      "text/markdown": [
       "1. '2022-10-27'\n",
       "2. '2022-10-28'\n",
       "3. '2022-10-29'\n",
       "4. '2022-10-30'\n",
       "5. '2022-10-31'\n",
       "6. '2022-11- 1'\n",
       "7. '2022-11- 2'\n",
       "8. '2022-11- 3'\n",
       "9. '2022-11- 4'\n",
       "\n",
       "\n"
      ],
      "text/plain": [
       "2022-10-27\n",
       "2022-10-28\n",
       "2022-10-29\n",
       "2022-10-30\n",
       "2022-10-31\n",
       "2022-11- 1\n",
       "2022-11- 2\n",
       "2022-11- 3\n",
       "2022-11- 4"
      ]
     },
     "metadata": {},
     "output_type": "display_data"
    },
    {
     "data": {
      "text/html": [
       "'character'"
      ],
      "text/latex": [
       "'character'"
      ],
      "text/markdown": [
       "'character'"
      ],
      "text/plain": [
       "[1] \"character\""
      ]
     },
     "metadata": {},
     "output_type": "display_data"
    }
   ],
   "source": [
    "#combine year, month and date\n",
    "datey <- glue(\"2022-{date_month_no2}-{date_day_no}\")\n",
    "datey\n",
    "typeof(datey)"
   ]
  },
  {
   "cell_type": "code",
   "execution_count": 13,
   "id": "224dcfe8",
   "metadata": {
    "vscode": {
     "languageId": "r"
    }
   },
   "outputs": [
    {
     "data": {
      "text/html": [
       "<style>\n",
       ".list-inline {list-style: none; margin:0; padding: 0}\n",
       ".list-inline>li {display: inline-block}\n",
       ".list-inline>li:not(:last-child)::after {content: \"\\00b7\"; padding: 0 .5ex}\n",
       "</style>\n",
       "<ol class=list-inline><li><time datetime=\"2022-10-27\">2022-10-27</time></li><li><time datetime=\"2022-10-28\">2022-10-28</time></li><li><time datetime=\"2022-10-29\">2022-10-29</time></li><li><time datetime=\"2022-10-30\">2022-10-30</time></li><li><time datetime=\"2022-10-31\">2022-10-31</time></li><li><time datetime=\"2022-11-01\">2022-11-01</time></li><li><time datetime=\"2022-11-02\">2022-11-02</time></li><li><time datetime=\"2022-11-03\">2022-11-03</time></li><li><time datetime=\"2022-11-04\">2022-11-04</time></li></ol>\n"
      ],
      "text/latex": [
       "\\begin{enumerate*}\n",
       "\\item 2022-10-27\n",
       "\\item 2022-10-28\n",
       "\\item 2022-10-29\n",
       "\\item 2022-10-30\n",
       "\\item 2022-10-31\n",
       "\\item 2022-11-01\n",
       "\\item 2022-11-02\n",
       "\\item 2022-11-03\n",
       "\\item 2022-11-04\n",
       "\\end{enumerate*}\n"
      ],
      "text/markdown": [
       "1. 2022-10-27\n",
       "2. 2022-10-28\n",
       "3. 2022-10-29\n",
       "4. 2022-10-30\n",
       "5. 2022-10-31\n",
       "6. 2022-11-01\n",
       "7. 2022-11-02\n",
       "8. 2022-11-03\n",
       "9. 2022-11-04\n",
       "\n",
       "\n"
      ],
      "text/plain": [
       "[1] \"2022-10-27\" \"2022-10-28\" \"2022-10-29\" \"2022-10-30\" \"2022-10-31\"\n",
       "[6] \"2022-11-01\" \"2022-11-02\" \"2022-11-03\" \"2022-11-04\""
      ]
     },
     "metadata": {},
     "output_type": "display_data"
    },
    {
     "data": {
      "text/html": [
       "'double'"
      ],
      "text/latex": [
       "'double'"
      ],
      "text/markdown": [
       "'double'"
      ],
      "text/plain": [
       "[1] \"double\""
      ]
     },
     "metadata": {},
     "output_type": "display_data"
    }
   ],
   "source": [
    "#convert to date data type\n",
    "datey2 <- as.Date(datey)\n",
    "datey2\n",
    "typeof(datey2)"
   ]
  },
  {
   "cell_type": "code",
   "execution_count": 14,
   "id": "2a1ed3c9-25db-430b-ab8b-ed3005a21ded",
   "metadata": {
    "vscode": {
     "languageId": "r"
    }
   },
   "outputs": [
    {
     "data": {
      "text/html": [
       "<style>\n",
       ".list-inline {list-style: none; margin:0; padding: 0}\n",
       ".list-inline>li {display: inline-block}\n",
       ".list-inline>li:not(:last-child)::after {content: \"\\00b7\"; padding: 0 .5ex}\n",
       "</style>\n",
       "<ol class=list-inline><li>'20°Day'</li><li>'20°Day'</li><li>'19°Day'</li><li>'21°Day'</li><li>'21°Day'</li><li>'21°Day'</li><li>'19°Day'</li><li>'19°Day'</li><li>'19°Day'</li></ol>\n"
      ],
      "text/latex": [
       "\\begin{enumerate*}\n",
       "\\item '20°Day'\n",
       "\\item '20°Day'\n",
       "\\item '19°Day'\n",
       "\\item '21°Day'\n",
       "\\item '21°Day'\n",
       "\\item '21°Day'\n",
       "\\item '19°Day'\n",
       "\\item '19°Day'\n",
       "\\item '19°Day'\n",
       "\\end{enumerate*}\n"
      ],
      "text/markdown": [
       "1. '20°Day'\n",
       "2. '20°Day'\n",
       "3. '19°Day'\n",
       "4. '21°Day'\n",
       "5. '21°Day'\n",
       "6. '21°Day'\n",
       "7. '19°Day'\n",
       "8. '19°Day'\n",
       "9. '19°Day'\n",
       "\n",
       "\n"
      ],
      "text/plain": [
       "[1] \"20°Day\" \"20°Day\" \"19°Day\" \"21°Day\" \"21°Day\" \"21°Day\" \"19°Day\" \"19°Day\"\n",
       "[9] \"19°Day\""
      ]
     },
     "metadata": {},
     "output_type": "display_data"
    },
    {
     "data": {
      "text/html": [
       "<style>\n",
       ".list-inline {list-style: none; margin:0; padding: 0}\n",
       ".list-inline>li {display: inline-block}\n",
       ".list-inline>li:not(:last-child)::after {content: \"\\00b7\"; padding: 0 .5ex}\n",
       "</style>\n",
       "<ol class=list-inline><li>20</li><li>20</li><li>19</li><li>21</li><li>21</li><li>21</li><li>19</li><li>19</li><li>19</li></ol>\n"
      ],
      "text/latex": [
       "\\begin{enumerate*}\n",
       "\\item 20\n",
       "\\item 20\n",
       "\\item 19\n",
       "\\item 21\n",
       "\\item 21\n",
       "\\item 21\n",
       "\\item 19\n",
       "\\item 19\n",
       "\\item 19\n",
       "\\end{enumerate*}\n"
      ],
      "text/markdown": [
       "1. 20\n",
       "2. 20\n",
       "3. 19\n",
       "4. 21\n",
       "5. 21\n",
       "6. 21\n",
       "7. 19\n",
       "8. 19\n",
       "9. 19\n",
       "\n",
       "\n"
      ],
      "text/plain": [
       "[1] 20 20 19 21 21 21 19 19 19"
      ]
     },
     "metadata": {},
     "output_type": "display_data"
    }
   ],
   "source": [
    "#scraped the day temperature and then splitting to get the number only\n",
    "auckland_day <- auckland_html %>% html_nodes(\".high\") %>% html_text()\n",
    "auckland_day\n",
    "first <-auckland_day\n",
    "length <-nchar(first)\n",
    "auckland_day <- first  %>%  substr(length-5, length-4)\n",
    "auckland_day <- as.integer(auckland_day)\n",
    "auckland_day"
   ]
  },
  {
   "cell_type": "code",
   "execution_count": 15,
   "id": "d5c09b70-3b85-4908-93ef-7019a4dc87ad",
   "metadata": {
    "vscode": {
     "languageId": "r"
    }
   },
   "outputs": [
    {
     "data": {
      "text/html": [
       "<style>\n",
       ".list-inline {list-style: none; margin:0; padding: 0}\n",
       ".list-inline>li {display: inline-block}\n",
       ".list-inline>li:not(:last-child)::after {content: \"\\00b7\"; padding: 0 .5ex}\n",
       "</style>\n",
       "<ol class=list-inline><li>'16°Day'</li><li>'17°Day'</li><li>'16°Day'</li><li>'17°Day'</li><li>'16°Day'</li><li>'17°Day'</li><li>'15°Day'</li><li>'15°Day'</li><li>'15°Day'</li></ol>\n"
      ],
      "text/latex": [
       "\\begin{enumerate*}\n",
       "\\item '16°Day'\n",
       "\\item '17°Day'\n",
       "\\item '16°Day'\n",
       "\\item '17°Day'\n",
       "\\item '16°Day'\n",
       "\\item '17°Day'\n",
       "\\item '15°Day'\n",
       "\\item '15°Day'\n",
       "\\item '15°Day'\n",
       "\\end{enumerate*}\n"
      ],
      "text/markdown": [
       "1. '16°Day'\n",
       "2. '17°Day'\n",
       "3. '16°Day'\n",
       "4. '17°Day'\n",
       "5. '16°Day'\n",
       "6. '17°Day'\n",
       "7. '15°Day'\n",
       "8. '15°Day'\n",
       "9. '15°Day'\n",
       "\n",
       "\n"
      ],
      "text/plain": [
       "[1] \"16°Day\" \"17°Day\" \"16°Day\" \"17°Day\" \"16°Day\" \"17°Day\" \"15°Day\" \"15°Day\"\n",
       "[9] \"15°Day\""
      ]
     },
     "metadata": {},
     "output_type": "display_data"
    },
    {
     "data": {
      "text/html": [
       "<style>\n",
       ".list-inline {list-style: none; margin:0; padding: 0}\n",
       ".list-inline>li {display: inline-block}\n",
       ".list-inline>li:not(:last-child)::after {content: \"\\00b7\"; padding: 0 .5ex}\n",
       "</style>\n",
       "<ol class=list-inline><li>16</li><li>17</li><li>16</li><li>17</li><li>16</li><li>17</li><li>15</li><li>15</li><li>15</li></ol>\n"
      ],
      "text/latex": [
       "\\begin{enumerate*}\n",
       "\\item 16\n",
       "\\item 17\n",
       "\\item 16\n",
       "\\item 17\n",
       "\\item 16\n",
       "\\item 17\n",
       "\\item 15\n",
       "\\item 15\n",
       "\\item 15\n",
       "\\end{enumerate*}\n"
      ],
      "text/markdown": [
       "1. 16\n",
       "2. 17\n",
       "3. 16\n",
       "4. 17\n",
       "5. 16\n",
       "6. 17\n",
       "7. 15\n",
       "8. 15\n",
       "9. 15\n",
       "\n",
       "\n"
      ],
      "text/plain": [
       "[1] 16 17 16 17 16 17 15 15 15"
      ]
     },
     "metadata": {},
     "output_type": "display_data"
    }
   ],
   "source": [
    "#scraped the day temperature and then splitting to get the number only\n",
    "wellington_day <- wellington_html %>% html_nodes(\".high\") %>% html_text()\n",
    "wellington_day\n",
    "first <- wellington_day\n",
    "length <-nchar(first)\n",
    "wellington_day <- first  %>%  substr(length-5, length-4)\n",
    "wellington_day <- as.integer(wellington_day)\n",
    "wellington_day"
   ]
  },
  {
   "cell_type": "code",
   "execution_count": 16,
   "id": "645c2cd9-8d22-4be6-8702-552594445aba",
   "metadata": {
    "vscode": {
     "languageId": "r"
    }
   },
   "outputs": [
    {
     "data": {
      "text/html": [
       "<style>\n",
       ".list-inline {list-style: none; margin:0; padding: 0}\n",
       ".list-inline>li {display: inline-block}\n",
       ".list-inline>li:not(:last-child)::after {content: \"\\00b7\"; padding: 0 .5ex}\n",
       "</style>\n",
       "<ol class=list-inline><li>'19°Day'</li><li>'23°Day'</li><li>'22°Day'</li><li>'19°Day'</li><li>'21°Day'</li><li>'21°Day'</li><li>'18°Day'</li><li>'19°Day'</li><li>'19°Day'</li></ol>\n"
      ],
      "text/latex": [
       "\\begin{enumerate*}\n",
       "\\item '19°Day'\n",
       "\\item '23°Day'\n",
       "\\item '22°Day'\n",
       "\\item '19°Day'\n",
       "\\item '21°Day'\n",
       "\\item '21°Day'\n",
       "\\item '18°Day'\n",
       "\\item '19°Day'\n",
       "\\item '19°Day'\n",
       "\\end{enumerate*}\n"
      ],
      "text/markdown": [
       "1. '19°Day'\n",
       "2. '23°Day'\n",
       "3. '22°Day'\n",
       "4. '19°Day'\n",
       "5. '21°Day'\n",
       "6. '21°Day'\n",
       "7. '18°Day'\n",
       "8. '19°Day'\n",
       "9. '19°Day'\n",
       "\n",
       "\n"
      ],
      "text/plain": [
       "[1] \"19°Day\" \"23°Day\" \"22°Day\" \"19°Day\" \"21°Day\" \"21°Day\" \"18°Day\" \"19°Day\"\n",
       "[9] \"19°Day\""
      ]
     },
     "metadata": {},
     "output_type": "display_data"
    },
    {
     "data": {
      "text/html": [
       "<style>\n",
       ".list-inline {list-style: none; margin:0; padding: 0}\n",
       ".list-inline>li {display: inline-block}\n",
       ".list-inline>li:not(:last-child)::after {content: \"\\00b7\"; padding: 0 .5ex}\n",
       "</style>\n",
       "<ol class=list-inline><li>19</li><li>23</li><li>22</li><li>19</li><li>21</li><li>21</li><li>18</li><li>19</li><li>19</li></ol>\n"
      ],
      "text/latex": [
       "\\begin{enumerate*}\n",
       "\\item 19\n",
       "\\item 23\n",
       "\\item 22\n",
       "\\item 19\n",
       "\\item 21\n",
       "\\item 21\n",
       "\\item 18\n",
       "\\item 19\n",
       "\\item 19\n",
       "\\end{enumerate*}\n"
      ],
      "text/markdown": [
       "1. 19\n",
       "2. 23\n",
       "3. 22\n",
       "4. 19\n",
       "5. 21\n",
       "6. 21\n",
       "7. 18\n",
       "8. 19\n",
       "9. 19\n",
       "\n",
       "\n"
      ],
      "text/plain": [
       "[1] 19 23 22 19 21 21 18 19 19"
      ]
     },
     "metadata": {},
     "output_type": "display_data"
    }
   ],
   "source": [
    "#scraped the day temperature and then splitting to get the number only\n",
    "christchurch_day <- christchurch_html %>% html_nodes(\".high\") %>% html_text()\n",
    "christchurch_day\n",
    "first <-christchurch_day\n",
    "length <-nchar(first)\n",
    "christchurch_day <- first  %>%  substr(length-5, length-4)\n",
    "christchurch_day <- as.integer(christchurch_day)\n",
    "christchurch_day"
   ]
  },
  {
   "cell_type": "code",
   "execution_count": 17,
   "id": "a4cbd1e8-7333-4ebf-bdc4-28f45ba66253",
   "metadata": {
    "vscode": {
     "languageId": "r"
    }
   },
   "outputs": [
    {
     "data": {
      "text/html": [
       "<style>\n",
       ".list-inline {list-style: none; margin:0; padding: 0}\n",
       ".list-inline>li {display: inline-block}\n",
       ".list-inline>li:not(:last-child)::after {content: \"\\00b7\"; padding: 0 .5ex}\n",
       "</style>\n",
       "<ol class=list-inline><li>'16°Night'</li><li>'17°Night'</li><li>'15°Night'</li><li>'13°Night'</li><li>'15°Night'</li><li>'16°Night'</li><li>'14°Night'</li><li>'13°Night'</li><li>'13°Night'</li></ol>\n"
      ],
      "text/latex": [
       "\\begin{enumerate*}\n",
       "\\item '16°Night'\n",
       "\\item '17°Night'\n",
       "\\item '15°Night'\n",
       "\\item '13°Night'\n",
       "\\item '15°Night'\n",
       "\\item '16°Night'\n",
       "\\item '14°Night'\n",
       "\\item '13°Night'\n",
       "\\item '13°Night'\n",
       "\\end{enumerate*}\n"
      ],
      "text/markdown": [
       "1. '16°Night'\n",
       "2. '17°Night'\n",
       "3. '15°Night'\n",
       "4. '13°Night'\n",
       "5. '15°Night'\n",
       "6. '16°Night'\n",
       "7. '14°Night'\n",
       "8. '13°Night'\n",
       "9. '13°Night'\n",
       "\n",
       "\n"
      ],
      "text/plain": [
       "[1] \"16°Night\" \"17°Night\" \"15°Night\" \"13°Night\" \"15°Night\" \"16°Night\" \"14°Night\"\n",
       "[8] \"13°Night\" \"13°Night\""
      ]
     },
     "metadata": {},
     "output_type": "display_data"
    },
    {
     "data": {
      "text/html": [
       "<style>\n",
       ".list-inline {list-style: none; margin:0; padding: 0}\n",
       ".list-inline>li {display: inline-block}\n",
       ".list-inline>li:not(:last-child)::after {content: \"\\00b7\"; padding: 0 .5ex}\n",
       "</style>\n",
       "<ol class=list-inline><li>16</li><li>17</li><li>15</li><li>13</li><li>15</li><li>16</li><li>14</li><li>13</li><li>13</li></ol>\n"
      ],
      "text/latex": [
       "\\begin{enumerate*}\n",
       "\\item 16\n",
       "\\item 17\n",
       "\\item 15\n",
       "\\item 13\n",
       "\\item 15\n",
       "\\item 16\n",
       "\\item 14\n",
       "\\item 13\n",
       "\\item 13\n",
       "\\end{enumerate*}\n"
      ],
      "text/markdown": [
       "1. 16\n",
       "2. 17\n",
       "3. 15\n",
       "4. 13\n",
       "5. 15\n",
       "6. 16\n",
       "7. 14\n",
       "8. 13\n",
       "9. 13\n",
       "\n",
       "\n"
      ],
      "text/plain": [
       "[1] 16 17 15 13 15 16 14 13 13"
      ]
     },
     "metadata": {},
     "output_type": "display_data"
    }
   ],
   "source": [
    "#scraped the night temperature and then splitting to get the number only\n",
    "auckland_night <- auckland_html %>% html_nodes(\".low\") %>% html_text()\n",
    "auckland_night\n",
    "first <-auckland_night\n",
    "length <-nchar(first)\n",
    "auckland_night <- first  %>%  substr(length-7, length-6)\n",
    "auckland_night <- as.integer(auckland_night)\n",
    "auckland_night"
   ]
  },
  {
   "cell_type": "code",
   "execution_count": 18,
   "id": "e6674cd7-4030-41a7-964f-8402a957ca95",
   "metadata": {
    "vscode": {
     "languageId": "r"
    }
   },
   "outputs": [
    {
     "data": {
      "text/html": [
       "<style>\n",
       ".list-inline {list-style: none; margin:0; padding: 0}\n",
       ".list-inline>li {display: inline-block}\n",
       ".list-inline>li:not(:last-child)::after {content: \"\\00b7\"; padding: 0 .5ex}\n",
       "</style>\n",
       "<ol class=list-inline><li>'15°Night'</li><li>'14°Night'</li><li>'12°Night'</li><li>'9°Night'</li><li>'15°Night'</li><li>'14°Night'</li><li>'10°Night'</li><li>'10°Night'</li><li>'10°Night'</li></ol>\n"
      ],
      "text/latex": [
       "\\begin{enumerate*}\n",
       "\\item '15°Night'\n",
       "\\item '14°Night'\n",
       "\\item '12°Night'\n",
       "\\item '9°Night'\n",
       "\\item '15°Night'\n",
       "\\item '14°Night'\n",
       "\\item '10°Night'\n",
       "\\item '10°Night'\n",
       "\\item '10°Night'\n",
       "\\end{enumerate*}\n"
      ],
      "text/markdown": [
       "1. '15°Night'\n",
       "2. '14°Night'\n",
       "3. '12°Night'\n",
       "4. '9°Night'\n",
       "5. '15°Night'\n",
       "6. '14°Night'\n",
       "7. '10°Night'\n",
       "8. '10°Night'\n",
       "9. '10°Night'\n",
       "\n",
       "\n"
      ],
      "text/plain": [
       "[1] \"15°Night\" \"14°Night\" \"12°Night\" \"9°Night\"  \"15°Night\" \"14°Night\" \"10°Night\"\n",
       "[8] \"10°Night\" \"10°Night\""
      ]
     },
     "metadata": {},
     "output_type": "display_data"
    },
    {
     "data": {
      "text/html": [
       "<style>\n",
       ".list-inline {list-style: none; margin:0; padding: 0}\n",
       ".list-inline>li {display: inline-block}\n",
       ".list-inline>li:not(:last-child)::after {content: \"\\00b7\"; padding: 0 .5ex}\n",
       "</style>\n",
       "<ol class=list-inline><li>15</li><li>14</li><li>12</li><li>9</li><li>15</li><li>14</li><li>10</li><li>10</li><li>10</li></ol>\n"
      ],
      "text/latex": [
       "\\begin{enumerate*}\n",
       "\\item 15\n",
       "\\item 14\n",
       "\\item 12\n",
       "\\item 9\n",
       "\\item 15\n",
       "\\item 14\n",
       "\\item 10\n",
       "\\item 10\n",
       "\\item 10\n",
       "\\end{enumerate*}\n"
      ],
      "text/markdown": [
       "1. 15\n",
       "2. 14\n",
       "3. 12\n",
       "4. 9\n",
       "5. 15\n",
       "6. 14\n",
       "7. 10\n",
       "8. 10\n",
       "9. 10\n",
       "\n",
       "\n"
      ],
      "text/plain": [
       "[1] 15 14 12  9 15 14 10 10 10"
      ]
     },
     "metadata": {},
     "output_type": "display_data"
    }
   ],
   "source": [
    "#scraped the night temperature and then splitting to get the number only\n",
    "christchurch_night <- christchurch_html %>% html_nodes(\".low\") %>% html_text()\n",
    "christchurch_night\n",
    "first <-christchurch_night\n",
    "length <-nchar(first)\n",
    "christchurch_night <- first  %>%  substr(length-7, length-6)\n",
    "christchurch_night <- as.integer(christchurch_night)\n",
    "christchurch_night"
   ]
  },
  {
   "cell_type": "code",
   "execution_count": 19,
   "id": "7deb635b-f498-416f-853b-71cf7558809d",
   "metadata": {
    "scrolled": false,
    "vscode": {
     "languageId": "r"
    }
   },
   "outputs": [
    {
     "data": {
      "text/html": [
       "<style>\n",
       ".list-inline {list-style: none; margin:0; padding: 0}\n",
       ".list-inline>li {display: inline-block}\n",
       ".list-inline>li:not(:last-child)::after {content: \"\\00b7\"; padding: 0 .5ex}\n",
       "</style>\n",
       "<ol class=list-inline><li>'14°Night'</li><li>'14°Night'</li><li>'13°Night'</li><li>'12°Night'</li><li>'13°Night'</li><li>'13°Night'</li><li>'12°Night'</li><li>'11°Night'</li><li>'11°Night'</li></ol>\n"
      ],
      "text/latex": [
       "\\begin{enumerate*}\n",
       "\\item '14°Night'\n",
       "\\item '14°Night'\n",
       "\\item '13°Night'\n",
       "\\item '12°Night'\n",
       "\\item '13°Night'\n",
       "\\item '13°Night'\n",
       "\\item '12°Night'\n",
       "\\item '11°Night'\n",
       "\\item '11°Night'\n",
       "\\end{enumerate*}\n"
      ],
      "text/markdown": [
       "1. '14°Night'\n",
       "2. '14°Night'\n",
       "3. '13°Night'\n",
       "4. '12°Night'\n",
       "5. '13°Night'\n",
       "6. '13°Night'\n",
       "7. '12°Night'\n",
       "8. '11°Night'\n",
       "9. '11°Night'\n",
       "\n",
       "\n"
      ],
      "text/plain": [
       "[1] \"14°Night\" \"14°Night\" \"13°Night\" \"12°Night\" \"13°Night\" \"13°Night\" \"12°Night\"\n",
       "[8] \"11°Night\" \"11°Night\""
      ]
     },
     "metadata": {},
     "output_type": "display_data"
    },
    {
     "data": {
      "text/html": [
       "<style>\n",
       ".list-inline {list-style: none; margin:0; padding: 0}\n",
       ".list-inline>li {display: inline-block}\n",
       ".list-inline>li:not(:last-child)::after {content: \"\\00b7\"; padding: 0 .5ex}\n",
       "</style>\n",
       "<ol class=list-inline><li>14</li><li>14</li><li>13</li><li>12</li><li>13</li><li>13</li><li>12</li><li>11</li><li>11</li></ol>\n"
      ],
      "text/latex": [
       "\\begin{enumerate*}\n",
       "\\item 14\n",
       "\\item 14\n",
       "\\item 13\n",
       "\\item 12\n",
       "\\item 13\n",
       "\\item 13\n",
       "\\item 12\n",
       "\\item 11\n",
       "\\item 11\n",
       "\\end{enumerate*}\n"
      ],
      "text/markdown": [
       "1. 14\n",
       "2. 14\n",
       "3. 13\n",
       "4. 12\n",
       "5. 13\n",
       "6. 13\n",
       "7. 12\n",
       "8. 11\n",
       "9. 11\n",
       "\n",
       "\n"
      ],
      "text/plain": [
       "[1] 14 14 13 12 13 13 12 11 11"
      ]
     },
     "metadata": {},
     "output_type": "display_data"
    }
   ],
   "source": [
    "#scraped the night temperature and then splitting to get the number only\n",
    "wellington_night <- wellington_html %>% html_nodes(\".low\") %>% html_text()\n",
    "wellington_night\n",
    "first <-wellington_night\n",
    "length <-nchar(first)\n",
    "wellington_night <- first  %>%  substr(length-7, length-6)\n",
    "wellington_night <- as.integer(wellington_night)\n",
    "wellington_night"
   ]
  },
  {
   "cell_type": "code",
   "execution_count": 20,
   "id": "756e0f6b",
   "metadata": {
    "scrolled": false,
    "vscode": {
     "languageId": "r"
    }
   },
   "outputs": [
    {
     "data": {
      "text/html": [
       "<style>\n",
       ".list-inline {list-style: none; margin:0; padding: 0}\n",
       ".list-inline>li {display: inline-block}\n",
       ".list-inline>li:not(:last-child)::after {content: \"\\00b7\"; padding: 0 .5ex}\n",
       "</style>\n",
       "<ol class=list-inline><li>'Afternoon showers. Fairly breezy Northerly winds.'</li><li>'Rain. Breezy to brisk Northerly winds.'</li><li>'Rain and thunder. Fairly breezy North to Nor\\'West winds.'</li><li>'Morning showers. Fairly breezy West to Sou\\'West winds.'</li><li>'Mainly sunny. Breezy Westerly winds.'</li><li>'Showers. Breezy to brisk Northerly winds.'</li><li>'Rain. Breezy to brisk Nor\\'West winds.'</li><li>'Showers. Fairly breezy Westerly winds.'</li><li>'Light morning rain. Fairly breezy West to Sou\\'West winds.'</li></ol>\n"
      ],
      "text/latex": [
       "\\begin{enumerate*}\n",
       "\\item 'Afternoon showers. Fairly breezy Northerly winds.'\n",
       "\\item 'Rain. Breezy to brisk Northerly winds.'\n",
       "\\item 'Rain and thunder. Fairly breezy North to Nor\\textbackslash{}'West winds.'\n",
       "\\item 'Morning showers. Fairly breezy West to Sou\\textbackslash{}'West winds.'\n",
       "\\item 'Mainly sunny. Breezy Westerly winds.'\n",
       "\\item 'Showers. Breezy to brisk Northerly winds.'\n",
       "\\item 'Rain. Breezy to brisk Nor\\textbackslash{}'West winds.'\n",
       "\\item 'Showers. Fairly breezy Westerly winds.'\n",
       "\\item 'Light morning rain. Fairly breezy West to Sou\\textbackslash{}'West winds.'\n",
       "\\end{enumerate*}\n"
      ],
      "text/markdown": [
       "1. 'Afternoon showers. Fairly breezy Northerly winds.'\n",
       "2. 'Rain. Breezy to brisk Northerly winds.'\n",
       "3. 'Rain and thunder. Fairly breezy North to Nor\\'West winds.'\n",
       "4. 'Morning showers. Fairly breezy West to Sou\\'West winds.'\n",
       "5. 'Mainly sunny. Breezy Westerly winds.'\n",
       "6. 'Showers. Breezy to brisk Northerly winds.'\n",
       "7. 'Rain. Breezy to brisk Nor\\'West winds.'\n",
       "8. 'Showers. Fairly breezy Westerly winds.'\n",
       "9. 'Light morning rain. Fairly breezy West to Sou\\'West winds.'\n",
       "\n",
       "\n"
      ],
      "text/plain": [
       "[1] \"Afternoon showers. Fairly breezy Northerly winds.\"        \n",
       "[2] \"Rain. Breezy to brisk Northerly winds.\"                   \n",
       "[3] \"Rain and thunder. Fairly breezy North to Nor'West winds.\" \n",
       "[4] \"Morning showers. Fairly breezy West to Sou'West winds.\"   \n",
       "[5] \"Mainly sunny. Breezy Westerly winds.\"                     \n",
       "[6] \"Showers. Breezy to brisk Northerly winds.\"                \n",
       "[7] \"Rain. Breezy to brisk Nor'West winds.\"                    \n",
       "[8] \"Showers. Fairly breezy Westerly winds.\"                   \n",
       "[9] \"Light morning rain. Fairly breezy West to Sou'West winds.\""
      ]
     },
     "metadata": {},
     "output_type": "display_data"
    }
   ],
   "source": [
    "#scraped the weather patterns\n",
    "weathers <- auckland_html %>% html_nodes(\".larger\") %>% html_text()\n",
    "index <- 1:18\n",
    "auckland_weather <- weathers[index%%2==0]\n",
    "auckland_weather"
   ]
  },
  {
   "cell_type": "code",
   "execution_count": 21,
   "id": "68fc0b2b",
   "metadata": {
    "scrolled": false,
    "vscode": {
     "languageId": "r"
    }
   },
   "outputs": [
    {
     "data": {
      "text/html": [
       "<ol>\n",
       "\t<li><style>\n",
       ".list-inline {list-style: none; margin:0; padding: 0}\n",
       ".list-inline>li {display: inline-block}\n",
       ".list-inline>li:not(:last-child)::after {content: \"\\00b7\"; padding: 0 .5ex}\n",
       "</style>\n",
       "<ol class=list-inline><li>'Afternoon showers'</li><li>' Fairly breezy Northerly winds'</li></ol>\n",
       "</li>\n",
       "\t<li><style>\n",
       ".list-inline {list-style: none; margin:0; padding: 0}\n",
       ".list-inline>li {display: inline-block}\n",
       ".list-inline>li:not(:last-child)::after {content: \"\\00b7\"; padding: 0 .5ex}\n",
       "</style>\n",
       "<ol class=list-inline><li>'Rain'</li><li>' Breezy to brisk Northerly winds'</li></ol>\n",
       "</li>\n",
       "\t<li><style>\n",
       ".list-inline {list-style: none; margin:0; padding: 0}\n",
       ".list-inline>li {display: inline-block}\n",
       ".list-inline>li:not(:last-child)::after {content: \"\\00b7\"; padding: 0 .5ex}\n",
       "</style>\n",
       "<ol class=list-inline><li>'Rain and thunder'</li><li>' Fairly breezy North to Nor\\'West winds'</li></ol>\n",
       "</li>\n",
       "\t<li><style>\n",
       ".list-inline {list-style: none; margin:0; padding: 0}\n",
       ".list-inline>li {display: inline-block}\n",
       ".list-inline>li:not(:last-child)::after {content: \"\\00b7\"; padding: 0 .5ex}\n",
       "</style>\n",
       "<ol class=list-inline><li>'Morning showers'</li><li>' Fairly breezy West to Sou\\'West winds'</li></ol>\n",
       "</li>\n",
       "\t<li><style>\n",
       ".list-inline {list-style: none; margin:0; padding: 0}\n",
       ".list-inline>li {display: inline-block}\n",
       ".list-inline>li:not(:last-child)::after {content: \"\\00b7\"; padding: 0 .5ex}\n",
       "</style>\n",
       "<ol class=list-inline><li>'Mainly sunny'</li><li>' Breezy Westerly winds'</li></ol>\n",
       "</li>\n",
       "\t<li><style>\n",
       ".list-inline {list-style: none; margin:0; padding: 0}\n",
       ".list-inline>li {display: inline-block}\n",
       ".list-inline>li:not(:last-child)::after {content: \"\\00b7\"; padding: 0 .5ex}\n",
       "</style>\n",
       "<ol class=list-inline><li>'Showers'</li><li>' Breezy to brisk Northerly winds'</li></ol>\n",
       "</li>\n",
       "\t<li><style>\n",
       ".list-inline {list-style: none; margin:0; padding: 0}\n",
       ".list-inline>li {display: inline-block}\n",
       ".list-inline>li:not(:last-child)::after {content: \"\\00b7\"; padding: 0 .5ex}\n",
       "</style>\n",
       "<ol class=list-inline><li>'Rain'</li><li>' Breezy to brisk Nor\\'West winds'</li></ol>\n",
       "</li>\n",
       "\t<li><style>\n",
       ".list-inline {list-style: none; margin:0; padding: 0}\n",
       ".list-inline>li {display: inline-block}\n",
       ".list-inline>li:not(:last-child)::after {content: \"\\00b7\"; padding: 0 .5ex}\n",
       "</style>\n",
       "<ol class=list-inline><li>'Showers'</li><li>' Fairly breezy Westerly winds'</li></ol>\n",
       "</li>\n",
       "\t<li><style>\n",
       ".list-inline {list-style: none; margin:0; padding: 0}\n",
       ".list-inline>li {display: inline-block}\n",
       ".list-inline>li:not(:last-child)::after {content: \"\\00b7\"; padding: 0 .5ex}\n",
       "</style>\n",
       "<ol class=list-inline><li>'Light morning rain'</li><li>' Fairly breezy West to Sou\\'West winds'</li></ol>\n",
       "</li>\n",
       "</ol>\n"
      ],
      "text/latex": [
       "\\begin{enumerate}\n",
       "\\item \\begin{enumerate*}\n",
       "\\item 'Afternoon showers'\n",
       "\\item ' Fairly breezy Northerly winds'\n",
       "\\end{enumerate*}\n",
       "\n",
       "\\item \\begin{enumerate*}\n",
       "\\item 'Rain'\n",
       "\\item ' Breezy to brisk Northerly winds'\n",
       "\\end{enumerate*}\n",
       "\n",
       "\\item \\begin{enumerate*}\n",
       "\\item 'Rain and thunder'\n",
       "\\item ' Fairly breezy North to Nor\\textbackslash{}'West winds'\n",
       "\\end{enumerate*}\n",
       "\n",
       "\\item \\begin{enumerate*}\n",
       "\\item 'Morning showers'\n",
       "\\item ' Fairly breezy West to Sou\\textbackslash{}'West winds'\n",
       "\\end{enumerate*}\n",
       "\n",
       "\\item \\begin{enumerate*}\n",
       "\\item 'Mainly sunny'\n",
       "\\item ' Breezy Westerly winds'\n",
       "\\end{enumerate*}\n",
       "\n",
       "\\item \\begin{enumerate*}\n",
       "\\item 'Showers'\n",
       "\\item ' Breezy to brisk Northerly winds'\n",
       "\\end{enumerate*}\n",
       "\n",
       "\\item \\begin{enumerate*}\n",
       "\\item 'Rain'\n",
       "\\item ' Breezy to brisk Nor\\textbackslash{}'West winds'\n",
       "\\end{enumerate*}\n",
       "\n",
       "\\item \\begin{enumerate*}\n",
       "\\item 'Showers'\n",
       "\\item ' Fairly breezy Westerly winds'\n",
       "\\end{enumerate*}\n",
       "\n",
       "\\item \\begin{enumerate*}\n",
       "\\item 'Light morning rain'\n",
       "\\item ' Fairly breezy West to Sou\\textbackslash{}'West winds'\n",
       "\\end{enumerate*}\n",
       "\n",
       "\\end{enumerate}\n"
      ],
      "text/markdown": [
       "1. 1. 'Afternoon showers'\n",
       "2. ' Fairly breezy Northerly winds'\n",
       "\n",
       "\n",
       "\n",
       "2. 1. 'Rain'\n",
       "2. ' Breezy to brisk Northerly winds'\n",
       "\n",
       "\n",
       "\n",
       "3. 1. 'Rain and thunder'\n",
       "2. ' Fairly breezy North to Nor\\'West winds'\n",
       "\n",
       "\n",
       "\n",
       "4. 1. 'Morning showers'\n",
       "2. ' Fairly breezy West to Sou\\'West winds'\n",
       "\n",
       "\n",
       "\n",
       "5. 1. 'Mainly sunny'\n",
       "2. ' Breezy Westerly winds'\n",
       "\n",
       "\n",
       "\n",
       "6. 1. 'Showers'\n",
       "2. ' Breezy to brisk Northerly winds'\n",
       "\n",
       "\n",
       "\n",
       "7. 1. 'Rain'\n",
       "2. ' Breezy to brisk Nor\\'West winds'\n",
       "\n",
       "\n",
       "\n",
       "8. 1. 'Showers'\n",
       "2. ' Fairly breezy Westerly winds'\n",
       "\n",
       "\n",
       "\n",
       "9. 1. 'Light morning rain'\n",
       "2. ' Fairly breezy West to Sou\\'West winds'\n",
       "\n",
       "\n",
       "\n",
       "\n",
       "\n"
      ],
      "text/plain": [
       "[[1]]\n",
       "[1] \"Afternoon showers\"              \" Fairly breezy Northerly winds\"\n",
       "\n",
       "[[2]]\n",
       "[1] \"Rain\"                             \" Breezy to brisk Northerly winds\"\n",
       "\n",
       "[[3]]\n",
       "[1] \"Rain and thunder\"                      \n",
       "[2] \" Fairly breezy North to Nor'West winds\"\n",
       "\n",
       "[[4]]\n",
       "[1] \"Morning showers\"                      \n",
       "[2] \" Fairly breezy West to Sou'West winds\"\n",
       "\n",
       "[[5]]\n",
       "[1] \"Mainly sunny\"           \" Breezy Westerly winds\"\n",
       "\n",
       "[[6]]\n",
       "[1] \"Showers\"                          \" Breezy to brisk Northerly winds\"\n",
       "\n",
       "[[7]]\n",
       "[1] \"Rain\"                            \" Breezy to brisk Nor'West winds\"\n",
       "\n",
       "[[8]]\n",
       "[1] \"Showers\"                       \" Fairly breezy Westerly winds\"\n",
       "\n",
       "[[9]]\n",
       "[1] \"Light morning rain\"                   \n",
       "[2] \" Fairly breezy West to Sou'West winds\"\n"
      ]
     },
     "metadata": {},
     "output_type": "display_data"
    },
    {
     "data": {
      "text/html": [
       "<style>\n",
       ".list-inline {list-style: none; margin:0; padding: 0}\n",
       ".list-inline>li {display: inline-block}\n",
       ".list-inline>li:not(:last-child)::after {content: \"\\00b7\"; padding: 0 .5ex}\n",
       "</style>\n",
       "<ol class=list-inline><li>'Afternoon showers'</li><li>'Rain'</li><li>'Rain and thunder'</li><li>'Morning showers'</li><li>'Mainly sunny'</li><li>'Showers'</li><li>'Rain'</li><li>'Showers'</li><li>'Light morning rain'</li></ol>\n"
      ],
      "text/latex": [
       "\\begin{enumerate*}\n",
       "\\item 'Afternoon showers'\n",
       "\\item 'Rain'\n",
       "\\item 'Rain and thunder'\n",
       "\\item 'Morning showers'\n",
       "\\item 'Mainly sunny'\n",
       "\\item 'Showers'\n",
       "\\item 'Rain'\n",
       "\\item 'Showers'\n",
       "\\item 'Light morning rain'\n",
       "\\end{enumerate*}\n"
      ],
      "text/markdown": [
       "1. 'Afternoon showers'\n",
       "2. 'Rain'\n",
       "3. 'Rain and thunder'\n",
       "4. 'Morning showers'\n",
       "5. 'Mainly sunny'\n",
       "6. 'Showers'\n",
       "7. 'Rain'\n",
       "8. 'Showers'\n",
       "9. 'Light morning rain'\n",
       "\n",
       "\n"
      ],
      "text/plain": [
       "[1] \"Afternoon showers\"  \"Rain\"               \"Rain and thunder\"  \n",
       "[4] \"Morning showers\"    \"Mainly sunny\"       \"Showers\"           \n",
       "[7] \"Rain\"               \"Showers\"            \"Light morning rain\""
      ]
     },
     "metadata": {},
     "output_type": "display_data"
    },
    {
     "data": {
      "text/html": [
       "<style>\n",
       ".list-inline {list-style: none; margin:0; padding: 0}\n",
       ".list-inline>li {display: inline-block}\n",
       ".list-inline>li:not(:last-child)::after {content: \"\\00b7\"; padding: 0 .5ex}\n",
       "</style>\n",
       "<ol class=list-inline><li>' Fairly breezy Northerly winds'</li><li>' Breezy to brisk Northerly winds'</li><li>' Fairly breezy North to Nor\\'West winds'</li><li>' Fairly breezy West to Sou\\'West winds'</li><li>' Breezy Westerly winds'</li><li>' Breezy to brisk Northerly winds'</li><li>' Breezy to brisk Nor\\'West winds'</li><li>' Fairly breezy Westerly winds'</li><li>' Fairly breezy West to Sou\\'West winds'</li></ol>\n"
      ],
      "text/latex": [
       "\\begin{enumerate*}\n",
       "\\item ' Fairly breezy Northerly winds'\n",
       "\\item ' Breezy to brisk Northerly winds'\n",
       "\\item ' Fairly breezy North to Nor\\textbackslash{}'West winds'\n",
       "\\item ' Fairly breezy West to Sou\\textbackslash{}'West winds'\n",
       "\\item ' Breezy Westerly winds'\n",
       "\\item ' Breezy to brisk Northerly winds'\n",
       "\\item ' Breezy to brisk Nor\\textbackslash{}'West winds'\n",
       "\\item ' Fairly breezy Westerly winds'\n",
       "\\item ' Fairly breezy West to Sou\\textbackslash{}'West winds'\n",
       "\\end{enumerate*}\n"
      ],
      "text/markdown": [
       "1. ' Fairly breezy Northerly winds'\n",
       "2. ' Breezy to brisk Northerly winds'\n",
       "3. ' Fairly breezy North to Nor\\'West winds'\n",
       "4. ' Fairly breezy West to Sou\\'West winds'\n",
       "5. ' Breezy Westerly winds'\n",
       "6. ' Breezy to brisk Northerly winds'\n",
       "7. ' Breezy to brisk Nor\\'West winds'\n",
       "8. ' Fairly breezy Westerly winds'\n",
       "9. ' Fairly breezy West to Sou\\'West winds'\n",
       "\n",
       "\n"
      ],
      "text/plain": [
       "[1] \" Fairly breezy Northerly winds\"        \n",
       "[2] \" Breezy to brisk Northerly winds\"      \n",
       "[3] \" Fairly breezy North to Nor'West winds\"\n",
       "[4] \" Fairly breezy West to Sou'West winds\" \n",
       "[5] \" Breezy Westerly winds\"                \n",
       "[6] \" Breezy to brisk Northerly winds\"      \n",
       "[7] \" Breezy to brisk Nor'West winds\"       \n",
       "[8] \" Fairly breezy Westerly winds\"         \n",
       "[9] \" Fairly breezy West to Sou'West winds\" "
      ]
     },
     "metadata": {},
     "output_type": "display_data"
    }
   ],
   "source": [
    "#split weather pattern and wind pattern and assign to variables\n",
    "akl_split_weather<-strsplit(auckland_weather,\"[.]\")\n",
    "akl_split_weather\n",
    "\n",
    "akl_weather_pattern <- as.character(lapply(akl_split_weather, `[[`, 1))\n",
    "akl_weather_pattern\n",
    "\n",
    "akl_wind_pattern <- as.character(lapply(akl_split_weather, `[[`, -1))  \n",
    "akl_wind_pattern"
   ]
  },
  {
   "cell_type": "code",
   "execution_count": 22,
   "id": "f105f8c9-e7e5-4f02-8f05-df56a9e11d2c",
   "metadata": {
    "vscode": {
     "languageId": "r"
    }
   },
   "outputs": [
    {
     "data": {
      "text/html": [
       "<style>\n",
       ".list-inline {list-style: none; margin:0; padding: 0}\n",
       ".list-inline>li {display: inline-block}\n",
       ".list-inline>li:not(:last-child)::after {content: \"\\00b7\"; padding: 0 .5ex}\n",
       "</style>\n",
       "<ol class=list-inline><li>'Windy, with showers. Brisk North to Nor\\'West winds.'</li><li>'Rainy and windy. Strong and blustery Northerly winds.'</li><li>'Windy, with light morning rain. Breezy to brisk North to Nor\\'West winds.'</li><li>'Windy, with morning showers. Breezy to brisk North to Nor\\'West winds.'</li><li>'Windy and partly cloudy. Brisk North to Nor\\'West winds.'</li><li>'Windy, with light rain. Strong and blustery North to Nor\\'West winds.'</li><li>'Rainy and windy. Strong and blustery North to Nor\\'West winds.'</li><li>'Windy, with morning showers. Brisk Nor\\'West winds.'</li><li>'Morning showers. Breezy to brisk North to Nor\\'West winds.'</li></ol>\n"
      ],
      "text/latex": [
       "\\begin{enumerate*}\n",
       "\\item 'Windy, with showers. Brisk North to Nor\\textbackslash{}'West winds.'\n",
       "\\item 'Rainy and windy. Strong and blustery Northerly winds.'\n",
       "\\item 'Windy, with light morning rain. Breezy to brisk North to Nor\\textbackslash{}'West winds.'\n",
       "\\item 'Windy, with morning showers. Breezy to brisk North to Nor\\textbackslash{}'West winds.'\n",
       "\\item 'Windy and partly cloudy. Brisk North to Nor\\textbackslash{}'West winds.'\n",
       "\\item 'Windy, with light rain. Strong and blustery North to Nor\\textbackslash{}'West winds.'\n",
       "\\item 'Rainy and windy. Strong and blustery North to Nor\\textbackslash{}'West winds.'\n",
       "\\item 'Windy, with morning showers. Brisk Nor\\textbackslash{}'West winds.'\n",
       "\\item 'Morning showers. Breezy to brisk North to Nor\\textbackslash{}'West winds.'\n",
       "\\end{enumerate*}\n"
      ],
      "text/markdown": [
       "1. 'Windy, with showers. Brisk North to Nor\\'West winds.'\n",
       "2. 'Rainy and windy. Strong and blustery Northerly winds.'\n",
       "3. 'Windy, with light morning rain. Breezy to brisk North to Nor\\'West winds.'\n",
       "4. 'Windy, with morning showers. Breezy to brisk North to Nor\\'West winds.'\n",
       "5. 'Windy and partly cloudy. Brisk North to Nor\\'West winds.'\n",
       "6. 'Windy, with light rain. Strong and blustery North to Nor\\'West winds.'\n",
       "7. 'Rainy and windy. Strong and blustery North to Nor\\'West winds.'\n",
       "8. 'Windy, with morning showers. Brisk Nor\\'West winds.'\n",
       "9. 'Morning showers. Breezy to brisk North to Nor\\'West winds.'\n",
       "\n",
       "\n"
      ],
      "text/plain": [
       "[1] \"Windy, with showers. Brisk North to Nor'West winds.\"                     \n",
       "[2] \"Rainy and windy. Strong and blustery Northerly winds.\"                   \n",
       "[3] \"Windy, with light morning rain. Breezy to brisk North to Nor'West winds.\"\n",
       "[4] \"Windy, with morning showers. Breezy to brisk North to Nor'West winds.\"   \n",
       "[5] \"Windy and partly cloudy. Brisk North to Nor'West winds.\"                 \n",
       "[6] \"Windy, with light rain. Strong and blustery North to Nor'West winds.\"    \n",
       "[7] \"Rainy and windy. Strong and blustery North to Nor'West winds.\"           \n",
       "[8] \"Windy, with morning showers. Brisk Nor'West winds.\"                      \n",
       "[9] \"Morning showers. Breezy to brisk North to Nor'West winds.\"               "
      ]
     },
     "metadata": {},
     "output_type": "display_data"
    },
    {
     "data": {
      "text/html": [
       "<ol>\n",
       "\t<li><style>\n",
       ".list-inline {list-style: none; margin:0; padding: 0}\n",
       ".list-inline>li {display: inline-block}\n",
       ".list-inline>li:not(:last-child)::after {content: \"\\00b7\"; padding: 0 .5ex}\n",
       "</style>\n",
       "<ol class=list-inline><li>'Windy, with showers'</li><li>' Brisk North to Nor\\'West winds'</li></ol>\n",
       "</li>\n",
       "\t<li><style>\n",
       ".list-inline {list-style: none; margin:0; padding: 0}\n",
       ".list-inline>li {display: inline-block}\n",
       ".list-inline>li:not(:last-child)::after {content: \"\\00b7\"; padding: 0 .5ex}\n",
       "</style>\n",
       "<ol class=list-inline><li>'Rainy and windy'</li><li>' Strong and blustery Northerly winds'</li></ol>\n",
       "</li>\n",
       "\t<li><style>\n",
       ".list-inline {list-style: none; margin:0; padding: 0}\n",
       ".list-inline>li {display: inline-block}\n",
       ".list-inline>li:not(:last-child)::after {content: \"\\00b7\"; padding: 0 .5ex}\n",
       "</style>\n",
       "<ol class=list-inline><li>'Windy, with light morning rain'</li><li>' Breezy to brisk North to Nor\\'West winds'</li></ol>\n",
       "</li>\n",
       "\t<li><style>\n",
       ".list-inline {list-style: none; margin:0; padding: 0}\n",
       ".list-inline>li {display: inline-block}\n",
       ".list-inline>li:not(:last-child)::after {content: \"\\00b7\"; padding: 0 .5ex}\n",
       "</style>\n",
       "<ol class=list-inline><li>'Windy, with morning showers'</li><li>' Breezy to brisk North to Nor\\'West winds'</li></ol>\n",
       "</li>\n",
       "\t<li><style>\n",
       ".list-inline {list-style: none; margin:0; padding: 0}\n",
       ".list-inline>li {display: inline-block}\n",
       ".list-inline>li:not(:last-child)::after {content: \"\\00b7\"; padding: 0 .5ex}\n",
       "</style>\n",
       "<ol class=list-inline><li>'Windy and partly cloudy'</li><li>' Brisk North to Nor\\'West winds'</li></ol>\n",
       "</li>\n",
       "\t<li><style>\n",
       ".list-inline {list-style: none; margin:0; padding: 0}\n",
       ".list-inline>li {display: inline-block}\n",
       ".list-inline>li:not(:last-child)::after {content: \"\\00b7\"; padding: 0 .5ex}\n",
       "</style>\n",
       "<ol class=list-inline><li>'Windy, with light rain'</li><li>' Strong and blustery North to Nor\\'West winds'</li></ol>\n",
       "</li>\n",
       "\t<li><style>\n",
       ".list-inline {list-style: none; margin:0; padding: 0}\n",
       ".list-inline>li {display: inline-block}\n",
       ".list-inline>li:not(:last-child)::after {content: \"\\00b7\"; padding: 0 .5ex}\n",
       "</style>\n",
       "<ol class=list-inline><li>'Rainy and windy'</li><li>' Strong and blustery North to Nor\\'West winds'</li></ol>\n",
       "</li>\n",
       "\t<li><style>\n",
       ".list-inline {list-style: none; margin:0; padding: 0}\n",
       ".list-inline>li {display: inline-block}\n",
       ".list-inline>li:not(:last-child)::after {content: \"\\00b7\"; padding: 0 .5ex}\n",
       "</style>\n",
       "<ol class=list-inline><li>'Windy, with morning showers'</li><li>' Brisk Nor\\'West winds'</li></ol>\n",
       "</li>\n",
       "\t<li><style>\n",
       ".list-inline {list-style: none; margin:0; padding: 0}\n",
       ".list-inline>li {display: inline-block}\n",
       ".list-inline>li:not(:last-child)::after {content: \"\\00b7\"; padding: 0 .5ex}\n",
       "</style>\n",
       "<ol class=list-inline><li>'Morning showers'</li><li>' Breezy to brisk North to Nor\\'West winds'</li></ol>\n",
       "</li>\n",
       "</ol>\n"
      ],
      "text/latex": [
       "\\begin{enumerate}\n",
       "\\item \\begin{enumerate*}\n",
       "\\item 'Windy, with showers'\n",
       "\\item ' Brisk North to Nor\\textbackslash{}'West winds'\n",
       "\\end{enumerate*}\n",
       "\n",
       "\\item \\begin{enumerate*}\n",
       "\\item 'Rainy and windy'\n",
       "\\item ' Strong and blustery Northerly winds'\n",
       "\\end{enumerate*}\n",
       "\n",
       "\\item \\begin{enumerate*}\n",
       "\\item 'Windy, with light morning rain'\n",
       "\\item ' Breezy to brisk North to Nor\\textbackslash{}'West winds'\n",
       "\\end{enumerate*}\n",
       "\n",
       "\\item \\begin{enumerate*}\n",
       "\\item 'Windy, with morning showers'\n",
       "\\item ' Breezy to brisk North to Nor\\textbackslash{}'West winds'\n",
       "\\end{enumerate*}\n",
       "\n",
       "\\item \\begin{enumerate*}\n",
       "\\item 'Windy and partly cloudy'\n",
       "\\item ' Brisk North to Nor\\textbackslash{}'West winds'\n",
       "\\end{enumerate*}\n",
       "\n",
       "\\item \\begin{enumerate*}\n",
       "\\item 'Windy, with light rain'\n",
       "\\item ' Strong and blustery North to Nor\\textbackslash{}'West winds'\n",
       "\\end{enumerate*}\n",
       "\n",
       "\\item \\begin{enumerate*}\n",
       "\\item 'Rainy and windy'\n",
       "\\item ' Strong and blustery North to Nor\\textbackslash{}'West winds'\n",
       "\\end{enumerate*}\n",
       "\n",
       "\\item \\begin{enumerate*}\n",
       "\\item 'Windy, with morning showers'\n",
       "\\item ' Brisk Nor\\textbackslash{}'West winds'\n",
       "\\end{enumerate*}\n",
       "\n",
       "\\item \\begin{enumerate*}\n",
       "\\item 'Morning showers'\n",
       "\\item ' Breezy to brisk North to Nor\\textbackslash{}'West winds'\n",
       "\\end{enumerate*}\n",
       "\n",
       "\\end{enumerate}\n"
      ],
      "text/markdown": [
       "1. 1. 'Windy, with showers'\n",
       "2. ' Brisk North to Nor\\'West winds'\n",
       "\n",
       "\n",
       "\n",
       "2. 1. 'Rainy and windy'\n",
       "2. ' Strong and blustery Northerly winds'\n",
       "\n",
       "\n",
       "\n",
       "3. 1. 'Windy, with light morning rain'\n",
       "2. ' Breezy to brisk North to Nor\\'West winds'\n",
       "\n",
       "\n",
       "\n",
       "4. 1. 'Windy, with morning showers'\n",
       "2. ' Breezy to brisk North to Nor\\'West winds'\n",
       "\n",
       "\n",
       "\n",
       "5. 1. 'Windy and partly cloudy'\n",
       "2. ' Brisk North to Nor\\'West winds'\n",
       "\n",
       "\n",
       "\n",
       "6. 1. 'Windy, with light rain'\n",
       "2. ' Strong and blustery North to Nor\\'West winds'\n",
       "\n",
       "\n",
       "\n",
       "7. 1. 'Rainy and windy'\n",
       "2. ' Strong and blustery North to Nor\\'West winds'\n",
       "\n",
       "\n",
       "\n",
       "8. 1. 'Windy, with morning showers'\n",
       "2. ' Brisk Nor\\'West winds'\n",
       "\n",
       "\n",
       "\n",
       "9. 1. 'Morning showers'\n",
       "2. ' Breezy to brisk North to Nor\\'West winds'\n",
       "\n",
       "\n",
       "\n",
       "\n",
       "\n"
      ],
      "text/plain": [
       "[[1]]\n",
       "[1] \"Windy, with showers\"            \" Brisk North to Nor'West winds\"\n",
       "\n",
       "[[2]]\n",
       "[1] \"Rainy and windy\"                     \n",
       "[2] \" Strong and blustery Northerly winds\"\n",
       "\n",
       "[[3]]\n",
       "[1] \"Windy, with light morning rain\"          \n",
       "[2] \" Breezy to brisk North to Nor'West winds\"\n",
       "\n",
       "[[4]]\n",
       "[1] \"Windy, with morning showers\"             \n",
       "[2] \" Breezy to brisk North to Nor'West winds\"\n",
       "\n",
       "[[5]]\n",
       "[1] \"Windy and partly cloudy\"        \" Brisk North to Nor'West winds\"\n",
       "\n",
       "[[6]]\n",
       "[1] \"Windy, with light rain\"                      \n",
       "[2] \" Strong and blustery North to Nor'West winds\"\n",
       "\n",
       "[[7]]\n",
       "[1] \"Rainy and windy\"                             \n",
       "[2] \" Strong and blustery North to Nor'West winds\"\n",
       "\n",
       "[[8]]\n",
       "[1] \"Windy, with morning showers\" \" Brisk Nor'West winds\"      \n",
       "\n",
       "[[9]]\n",
       "[1] \"Morning showers\"                         \n",
       "[2] \" Breezy to brisk North to Nor'West winds\"\n"
      ]
     },
     "metadata": {},
     "output_type": "display_data"
    },
    {
     "data": {
      "text/html": [
       "<style>\n",
       ".list-inline {list-style: none; margin:0; padding: 0}\n",
       ".list-inline>li {display: inline-block}\n",
       ".list-inline>li:not(:last-child)::after {content: \"\\00b7\"; padding: 0 .5ex}\n",
       "</style>\n",
       "<ol class=list-inline><li>'Afternoon showers'</li><li>'Rain'</li><li>'Rain and thunder'</li><li>'Morning showers'</li><li>'Mainly sunny'</li><li>'Showers'</li><li>'Rain'</li><li>'Showers'</li><li>'Light morning rain'</li></ol>\n"
      ],
      "text/latex": [
       "\\begin{enumerate*}\n",
       "\\item 'Afternoon showers'\n",
       "\\item 'Rain'\n",
       "\\item 'Rain and thunder'\n",
       "\\item 'Morning showers'\n",
       "\\item 'Mainly sunny'\n",
       "\\item 'Showers'\n",
       "\\item 'Rain'\n",
       "\\item 'Showers'\n",
       "\\item 'Light morning rain'\n",
       "\\end{enumerate*}\n"
      ],
      "text/markdown": [
       "1. 'Afternoon showers'\n",
       "2. 'Rain'\n",
       "3. 'Rain and thunder'\n",
       "4. 'Morning showers'\n",
       "5. 'Mainly sunny'\n",
       "6. 'Showers'\n",
       "7. 'Rain'\n",
       "8. 'Showers'\n",
       "9. 'Light morning rain'\n",
       "\n",
       "\n"
      ],
      "text/plain": [
       "[1] \"Afternoon showers\"  \"Rain\"               \"Rain and thunder\"  \n",
       "[4] \"Morning showers\"    \"Mainly sunny\"       \"Showers\"           \n",
       "[7] \"Rain\"               \"Showers\"            \"Light morning rain\""
      ]
     },
     "metadata": {},
     "output_type": "display_data"
    },
    {
     "data": {
      "text/html": [
       "<style>\n",
       ".list-inline {list-style: none; margin:0; padding: 0}\n",
       ".list-inline>li {display: inline-block}\n",
       ".list-inline>li:not(:last-child)::after {content: \"\\00b7\"; padding: 0 .5ex}\n",
       "</style>\n",
       "<ol class=list-inline><li>' Brisk North to Nor\\'West winds'</li><li>' Strong and blustery Northerly winds'</li><li>' Breezy to brisk North to Nor\\'West winds'</li><li>' Breezy to brisk North to Nor\\'West winds'</li><li>' Brisk North to Nor\\'West winds'</li><li>' Strong and blustery North to Nor\\'West winds'</li><li>' Strong and blustery North to Nor\\'West winds'</li><li>' Brisk Nor\\'West winds'</li><li>' Breezy to brisk North to Nor\\'West winds'</li></ol>\n"
      ],
      "text/latex": [
       "\\begin{enumerate*}\n",
       "\\item ' Brisk North to Nor\\textbackslash{}'West winds'\n",
       "\\item ' Strong and blustery Northerly winds'\n",
       "\\item ' Breezy to brisk North to Nor\\textbackslash{}'West winds'\n",
       "\\item ' Breezy to brisk North to Nor\\textbackslash{}'West winds'\n",
       "\\item ' Brisk North to Nor\\textbackslash{}'West winds'\n",
       "\\item ' Strong and blustery North to Nor\\textbackslash{}'West winds'\n",
       "\\item ' Strong and blustery North to Nor\\textbackslash{}'West winds'\n",
       "\\item ' Brisk Nor\\textbackslash{}'West winds'\n",
       "\\item ' Breezy to brisk North to Nor\\textbackslash{}'West winds'\n",
       "\\end{enumerate*}\n"
      ],
      "text/markdown": [
       "1. ' Brisk North to Nor\\'West winds'\n",
       "2. ' Strong and blustery Northerly winds'\n",
       "3. ' Breezy to brisk North to Nor\\'West winds'\n",
       "4. ' Breezy to brisk North to Nor\\'West winds'\n",
       "5. ' Brisk North to Nor\\'West winds'\n",
       "6. ' Strong and blustery North to Nor\\'West winds'\n",
       "7. ' Strong and blustery North to Nor\\'West winds'\n",
       "8. ' Brisk Nor\\'West winds'\n",
       "9. ' Breezy to brisk North to Nor\\'West winds'\n",
       "\n",
       "\n"
      ],
      "text/plain": [
       "[1] \" Brisk North to Nor'West winds\"              \n",
       "[2] \" Strong and blustery Northerly winds\"        \n",
       "[3] \" Breezy to brisk North to Nor'West winds\"    \n",
       "[4] \" Breezy to brisk North to Nor'West winds\"    \n",
       "[5] \" Brisk North to Nor'West winds\"              \n",
       "[6] \" Strong and blustery North to Nor'West winds\"\n",
       "[7] \" Strong and blustery North to Nor'West winds\"\n",
       "[8] \" Brisk Nor'West winds\"                       \n",
       "[9] \" Breezy to brisk North to Nor'West winds\"    "
      ]
     },
     "metadata": {},
     "output_type": "display_data"
    }
   ],
   "source": [
    "#scraped the weather patterns and split weather pattern and wind pattern and assign to variables\n",
    "weathers <- wellington_html %>% html_nodes(\".larger\") %>% html_text()\n",
    "index <- 1:18\n",
    "wellington_weather <- weathers[index%%2==0]\n",
    "wellington_weather\n",
    "\n",
    "welly_split_weather<-strsplit(wellington_weather,\"[.]\")\n",
    "welly_split_weather\n",
    "\n",
    "welly_weather_pattern <- as.character(lapply(welly_split_weather, `[[`, 1))\n",
    "akl_weather_pattern\n",
    "\n",
    "welly_wind_pattern <- as.character(lapply(welly_split_weather, `[[`, -1))  \n",
    "welly_wind_pattern"
   ]
  },
  {
   "cell_type": "code",
   "execution_count": 23,
   "id": "f80a7a33-822c-4d04-a180-7d7462df70b1",
   "metadata": {
    "vscode": {
     "languageId": "r"
    }
   },
   "outputs": [
    {
     "data": {
      "text/html": [
       "<style>\n",
       ".list-inline {list-style: none; margin:0; padding: 0}\n",
       ".list-inline>li {display: inline-block}\n",
       ".list-inline>li:not(:last-child)::after {content: \"\\00b7\"; padding: 0 .5ex}\n",
       "</style>\n",
       "<ol class=list-inline><li>'Showers. Fairly breezy Nor\\'East winds.'</li><li>'Cloudy. Fairly breezy North to Nor\\'East winds.'</li><li>'Partly cloudy. Fairly breezy Northerly winds.'</li><li>'Thunderstorms developing in the afternoon. Light West to Nor\\'West winds.'</li><li>'Partly cloudy. Fairly breezy Northerly winds.'</li><li>'Mostly cloudy. Breezy to brisk Northerly winds.'</li><li>'Showers. Fairly breezy North to Nor\\'West winds.'</li><li>'Partly cloudy. Fairly breezy Nor\\'West winds.'</li><li>'Partly cloudy. Fairly breezy North to Nor\\'West winds.'</li></ol>\n"
      ],
      "text/latex": [
       "\\begin{enumerate*}\n",
       "\\item 'Showers. Fairly breezy Nor\\textbackslash{}'East winds.'\n",
       "\\item 'Cloudy. Fairly breezy North to Nor\\textbackslash{}'East winds.'\n",
       "\\item 'Partly cloudy. Fairly breezy Northerly winds.'\n",
       "\\item 'Thunderstorms developing in the afternoon. Light West to Nor\\textbackslash{}'West winds.'\n",
       "\\item 'Partly cloudy. Fairly breezy Northerly winds.'\n",
       "\\item 'Mostly cloudy. Breezy to brisk Northerly winds.'\n",
       "\\item 'Showers. Fairly breezy North to Nor\\textbackslash{}'West winds.'\n",
       "\\item 'Partly cloudy. Fairly breezy Nor\\textbackslash{}'West winds.'\n",
       "\\item 'Partly cloudy. Fairly breezy North to Nor\\textbackslash{}'West winds.'\n",
       "\\end{enumerate*}\n"
      ],
      "text/markdown": [
       "1. 'Showers. Fairly breezy Nor\\'East winds.'\n",
       "2. 'Cloudy. Fairly breezy North to Nor\\'East winds.'\n",
       "3. 'Partly cloudy. Fairly breezy Northerly winds.'\n",
       "4. 'Thunderstorms developing in the afternoon. Light West to Nor\\'West winds.'\n",
       "5. 'Partly cloudy. Fairly breezy Northerly winds.'\n",
       "6. 'Mostly cloudy. Breezy to brisk Northerly winds.'\n",
       "7. 'Showers. Fairly breezy North to Nor\\'West winds.'\n",
       "8. 'Partly cloudy. Fairly breezy Nor\\'West winds.'\n",
       "9. 'Partly cloudy. Fairly breezy North to Nor\\'West winds.'\n",
       "\n",
       "\n"
      ],
      "text/plain": [
       "[1] \"Showers. Fairly breezy Nor'East winds.\"                                  \n",
       "[2] \"Cloudy. Fairly breezy North to Nor'East winds.\"                          \n",
       "[3] \"Partly cloudy. Fairly breezy Northerly winds.\"                           \n",
       "[4] \"Thunderstorms developing in the afternoon. Light West to Nor'West winds.\"\n",
       "[5] \"Partly cloudy. Fairly breezy Northerly winds.\"                           \n",
       "[6] \"Mostly cloudy. Breezy to brisk Northerly winds.\"                         \n",
       "[7] \"Showers. Fairly breezy North to Nor'West winds.\"                         \n",
       "[8] \"Partly cloudy. Fairly breezy Nor'West winds.\"                            \n",
       "[9] \"Partly cloudy. Fairly breezy North to Nor'West winds.\"                   "
      ]
     },
     "metadata": {},
     "output_type": "display_data"
    },
    {
     "data": {
      "text/html": [
       "<ol>\n",
       "\t<li><style>\n",
       ".list-inline {list-style: none; margin:0; padding: 0}\n",
       ".list-inline>li {display: inline-block}\n",
       ".list-inline>li:not(:last-child)::after {content: \"\\00b7\"; padding: 0 .5ex}\n",
       "</style>\n",
       "<ol class=list-inline><li>'Showers'</li><li>' Fairly breezy Nor\\'East winds'</li></ol>\n",
       "</li>\n",
       "\t<li><style>\n",
       ".list-inline {list-style: none; margin:0; padding: 0}\n",
       ".list-inline>li {display: inline-block}\n",
       ".list-inline>li:not(:last-child)::after {content: \"\\00b7\"; padding: 0 .5ex}\n",
       "</style>\n",
       "<ol class=list-inline><li>'Cloudy'</li><li>' Fairly breezy North to Nor\\'East winds'</li></ol>\n",
       "</li>\n",
       "\t<li><style>\n",
       ".list-inline {list-style: none; margin:0; padding: 0}\n",
       ".list-inline>li {display: inline-block}\n",
       ".list-inline>li:not(:last-child)::after {content: \"\\00b7\"; padding: 0 .5ex}\n",
       "</style>\n",
       "<ol class=list-inline><li>'Partly cloudy'</li><li>' Fairly breezy Northerly winds'</li></ol>\n",
       "</li>\n",
       "\t<li><style>\n",
       ".list-inline {list-style: none; margin:0; padding: 0}\n",
       ".list-inline>li {display: inline-block}\n",
       ".list-inline>li:not(:last-child)::after {content: \"\\00b7\"; padding: 0 .5ex}\n",
       "</style>\n",
       "<ol class=list-inline><li>'Thunderstorms developing in the afternoon'</li><li>' Light West to Nor\\'West winds'</li></ol>\n",
       "</li>\n",
       "\t<li><style>\n",
       ".list-inline {list-style: none; margin:0; padding: 0}\n",
       ".list-inline>li {display: inline-block}\n",
       ".list-inline>li:not(:last-child)::after {content: \"\\00b7\"; padding: 0 .5ex}\n",
       "</style>\n",
       "<ol class=list-inline><li>'Partly cloudy'</li><li>' Fairly breezy Northerly winds'</li></ol>\n",
       "</li>\n",
       "\t<li><style>\n",
       ".list-inline {list-style: none; margin:0; padding: 0}\n",
       ".list-inline>li {display: inline-block}\n",
       ".list-inline>li:not(:last-child)::after {content: \"\\00b7\"; padding: 0 .5ex}\n",
       "</style>\n",
       "<ol class=list-inline><li>'Mostly cloudy'</li><li>' Breezy to brisk Northerly winds'</li></ol>\n",
       "</li>\n",
       "\t<li><style>\n",
       ".list-inline {list-style: none; margin:0; padding: 0}\n",
       ".list-inline>li {display: inline-block}\n",
       ".list-inline>li:not(:last-child)::after {content: \"\\00b7\"; padding: 0 .5ex}\n",
       "</style>\n",
       "<ol class=list-inline><li>'Showers'</li><li>' Fairly breezy North to Nor\\'West winds'</li></ol>\n",
       "</li>\n",
       "\t<li><style>\n",
       ".list-inline {list-style: none; margin:0; padding: 0}\n",
       ".list-inline>li {display: inline-block}\n",
       ".list-inline>li:not(:last-child)::after {content: \"\\00b7\"; padding: 0 .5ex}\n",
       "</style>\n",
       "<ol class=list-inline><li>'Partly cloudy'</li><li>' Fairly breezy Nor\\'West winds'</li></ol>\n",
       "</li>\n",
       "\t<li><style>\n",
       ".list-inline {list-style: none; margin:0; padding: 0}\n",
       ".list-inline>li {display: inline-block}\n",
       ".list-inline>li:not(:last-child)::after {content: \"\\00b7\"; padding: 0 .5ex}\n",
       "</style>\n",
       "<ol class=list-inline><li>'Partly cloudy'</li><li>' Fairly breezy North to Nor\\'West winds'</li></ol>\n",
       "</li>\n",
       "</ol>\n"
      ],
      "text/latex": [
       "\\begin{enumerate}\n",
       "\\item \\begin{enumerate*}\n",
       "\\item 'Showers'\n",
       "\\item ' Fairly breezy Nor\\textbackslash{}'East winds'\n",
       "\\end{enumerate*}\n",
       "\n",
       "\\item \\begin{enumerate*}\n",
       "\\item 'Cloudy'\n",
       "\\item ' Fairly breezy North to Nor\\textbackslash{}'East winds'\n",
       "\\end{enumerate*}\n",
       "\n",
       "\\item \\begin{enumerate*}\n",
       "\\item 'Partly cloudy'\n",
       "\\item ' Fairly breezy Northerly winds'\n",
       "\\end{enumerate*}\n",
       "\n",
       "\\item \\begin{enumerate*}\n",
       "\\item 'Thunderstorms developing in the afternoon'\n",
       "\\item ' Light West to Nor\\textbackslash{}'West winds'\n",
       "\\end{enumerate*}\n",
       "\n",
       "\\item \\begin{enumerate*}\n",
       "\\item 'Partly cloudy'\n",
       "\\item ' Fairly breezy Northerly winds'\n",
       "\\end{enumerate*}\n",
       "\n",
       "\\item \\begin{enumerate*}\n",
       "\\item 'Mostly cloudy'\n",
       "\\item ' Breezy to brisk Northerly winds'\n",
       "\\end{enumerate*}\n",
       "\n",
       "\\item \\begin{enumerate*}\n",
       "\\item 'Showers'\n",
       "\\item ' Fairly breezy North to Nor\\textbackslash{}'West winds'\n",
       "\\end{enumerate*}\n",
       "\n",
       "\\item \\begin{enumerate*}\n",
       "\\item 'Partly cloudy'\n",
       "\\item ' Fairly breezy Nor\\textbackslash{}'West winds'\n",
       "\\end{enumerate*}\n",
       "\n",
       "\\item \\begin{enumerate*}\n",
       "\\item 'Partly cloudy'\n",
       "\\item ' Fairly breezy North to Nor\\textbackslash{}'West winds'\n",
       "\\end{enumerate*}\n",
       "\n",
       "\\end{enumerate}\n"
      ],
      "text/markdown": [
       "1. 1. 'Showers'\n",
       "2. ' Fairly breezy Nor\\'East winds'\n",
       "\n",
       "\n",
       "\n",
       "2. 1. 'Cloudy'\n",
       "2. ' Fairly breezy North to Nor\\'East winds'\n",
       "\n",
       "\n",
       "\n",
       "3. 1. 'Partly cloudy'\n",
       "2. ' Fairly breezy Northerly winds'\n",
       "\n",
       "\n",
       "\n",
       "4. 1. 'Thunderstorms developing in the afternoon'\n",
       "2. ' Light West to Nor\\'West winds'\n",
       "\n",
       "\n",
       "\n",
       "5. 1. 'Partly cloudy'\n",
       "2. ' Fairly breezy Northerly winds'\n",
       "\n",
       "\n",
       "\n",
       "6. 1. 'Mostly cloudy'\n",
       "2. ' Breezy to brisk Northerly winds'\n",
       "\n",
       "\n",
       "\n",
       "7. 1. 'Showers'\n",
       "2. ' Fairly breezy North to Nor\\'West winds'\n",
       "\n",
       "\n",
       "\n",
       "8. 1. 'Partly cloudy'\n",
       "2. ' Fairly breezy Nor\\'West winds'\n",
       "\n",
       "\n",
       "\n",
       "9. 1. 'Partly cloudy'\n",
       "2. ' Fairly breezy North to Nor\\'West winds'\n",
       "\n",
       "\n",
       "\n",
       "\n",
       "\n"
      ],
      "text/plain": [
       "[[1]]\n",
       "[1] \"Showers\"                       \" Fairly breezy Nor'East winds\"\n",
       "\n",
       "[[2]]\n",
       "[1] \"Cloudy\"                                \n",
       "[2] \" Fairly breezy North to Nor'East winds\"\n",
       "\n",
       "[[3]]\n",
       "[1] \"Partly cloudy\"                  \" Fairly breezy Northerly winds\"\n",
       "\n",
       "[[4]]\n",
       "[1] \"Thunderstorms developing in the afternoon\"\n",
       "[2] \" Light West to Nor'West winds\"            \n",
       "\n",
       "[[5]]\n",
       "[1] \"Partly cloudy\"                  \" Fairly breezy Northerly winds\"\n",
       "\n",
       "[[6]]\n",
       "[1] \"Mostly cloudy\"                    \" Breezy to brisk Northerly winds\"\n",
       "\n",
       "[[7]]\n",
       "[1] \"Showers\"                               \n",
       "[2] \" Fairly breezy North to Nor'West winds\"\n",
       "\n",
       "[[8]]\n",
       "[1] \"Partly cloudy\"                 \" Fairly breezy Nor'West winds\"\n",
       "\n",
       "[[9]]\n",
       "[1] \"Partly cloudy\"                         \n",
       "[2] \" Fairly breezy North to Nor'West winds\"\n"
      ]
     },
     "metadata": {},
     "output_type": "display_data"
    },
    {
     "data": {
      "text/html": [
       "<style>\n",
       ".list-inline {list-style: none; margin:0; padding: 0}\n",
       ".list-inline>li {display: inline-block}\n",
       ".list-inline>li:not(:last-child)::after {content: \"\\00b7\"; padding: 0 .5ex}\n",
       "</style>\n",
       "<ol class=list-inline><li>'Afternoon showers'</li><li>'Rain'</li><li>'Rain and thunder'</li><li>'Morning showers'</li><li>'Mainly sunny'</li><li>'Showers'</li><li>'Rain'</li><li>'Showers'</li><li>'Light morning rain'</li></ol>\n"
      ],
      "text/latex": [
       "\\begin{enumerate*}\n",
       "\\item 'Afternoon showers'\n",
       "\\item 'Rain'\n",
       "\\item 'Rain and thunder'\n",
       "\\item 'Morning showers'\n",
       "\\item 'Mainly sunny'\n",
       "\\item 'Showers'\n",
       "\\item 'Rain'\n",
       "\\item 'Showers'\n",
       "\\item 'Light morning rain'\n",
       "\\end{enumerate*}\n"
      ],
      "text/markdown": [
       "1. 'Afternoon showers'\n",
       "2. 'Rain'\n",
       "3. 'Rain and thunder'\n",
       "4. 'Morning showers'\n",
       "5. 'Mainly sunny'\n",
       "6. 'Showers'\n",
       "7. 'Rain'\n",
       "8. 'Showers'\n",
       "9. 'Light morning rain'\n",
       "\n",
       "\n"
      ],
      "text/plain": [
       "[1] \"Afternoon showers\"  \"Rain\"               \"Rain and thunder\"  \n",
       "[4] \"Morning showers\"    \"Mainly sunny\"       \"Showers\"           \n",
       "[7] \"Rain\"               \"Showers\"            \"Light morning rain\""
      ]
     },
     "metadata": {},
     "output_type": "display_data"
    },
    {
     "data": {
      "text/html": [
       "<style>\n",
       ".list-inline {list-style: none; margin:0; padding: 0}\n",
       ".list-inline>li {display: inline-block}\n",
       ".list-inline>li:not(:last-child)::after {content: \"\\00b7\"; padding: 0 .5ex}\n",
       "</style>\n",
       "<ol class=list-inline><li>' Fairly breezy Nor\\'East winds'</li><li>' Fairly breezy North to Nor\\'East winds'</li><li>' Fairly breezy Northerly winds'</li><li>' Light West to Nor\\'West winds'</li><li>' Fairly breezy Northerly winds'</li><li>' Breezy to brisk Northerly winds'</li><li>' Fairly breezy North to Nor\\'West winds'</li><li>' Fairly breezy Nor\\'West winds'</li><li>' Fairly breezy North to Nor\\'West winds'</li></ol>\n"
      ],
      "text/latex": [
       "\\begin{enumerate*}\n",
       "\\item ' Fairly breezy Nor\\textbackslash{}'East winds'\n",
       "\\item ' Fairly breezy North to Nor\\textbackslash{}'East winds'\n",
       "\\item ' Fairly breezy Northerly winds'\n",
       "\\item ' Light West to Nor\\textbackslash{}'West winds'\n",
       "\\item ' Fairly breezy Northerly winds'\n",
       "\\item ' Breezy to brisk Northerly winds'\n",
       "\\item ' Fairly breezy North to Nor\\textbackslash{}'West winds'\n",
       "\\item ' Fairly breezy Nor\\textbackslash{}'West winds'\n",
       "\\item ' Fairly breezy North to Nor\\textbackslash{}'West winds'\n",
       "\\end{enumerate*}\n"
      ],
      "text/markdown": [
       "1. ' Fairly breezy Nor\\'East winds'\n",
       "2. ' Fairly breezy North to Nor\\'East winds'\n",
       "3. ' Fairly breezy Northerly winds'\n",
       "4. ' Light West to Nor\\'West winds'\n",
       "5. ' Fairly breezy Northerly winds'\n",
       "6. ' Breezy to brisk Northerly winds'\n",
       "7. ' Fairly breezy North to Nor\\'West winds'\n",
       "8. ' Fairly breezy Nor\\'West winds'\n",
       "9. ' Fairly breezy North to Nor\\'West winds'\n",
       "\n",
       "\n"
      ],
      "text/plain": [
       "[1] \" Fairly breezy Nor'East winds\"         \n",
       "[2] \" Fairly breezy North to Nor'East winds\"\n",
       "[3] \" Fairly breezy Northerly winds\"        \n",
       "[4] \" Light West to Nor'West winds\"         \n",
       "[5] \" Fairly breezy Northerly winds\"        \n",
       "[6] \" Breezy to brisk Northerly winds\"      \n",
       "[7] \" Fairly breezy North to Nor'West winds\"\n",
       "[8] \" Fairly breezy Nor'West winds\"         \n",
       "[9] \" Fairly breezy North to Nor'West winds\""
      ]
     },
     "metadata": {},
     "output_type": "display_data"
    }
   ],
   "source": [
    "#scraped the weather patterns and split weather pattern and wind pattern and assign to variables\n",
    "weathers <- christchurch_html %>% html_nodes(\".larger\") %>% html_text()\n",
    "index <- 1:18\n",
    "christchurch_weather <- weathers[index%%2==0]\n",
    "christchurch_weather\n",
    "\n",
    "chch_split_weather<-strsplit(christchurch_weather,\"[.]\")\n",
    "chch_split_weather\n",
    "\n",
    "chch_weather_pattern <- as.character(lapply(chch_split_weather, `[[`, 1))\n",
    "akl_weather_pattern\n",
    "\n",
    "chch_wind_pattern <- as.character(lapply(chch_split_weather, `[[`, -1))  \n",
    "chch_wind_pattern"
   ]
  },
  {
   "cell_type": "code",
   "execution_count": 24,
   "id": "cf464b5e-4263-42d7-9595-fad32174ea3d",
   "metadata": {
    "vscode": {
     "languageId": "r"
    }
   },
   "outputs": [
    {
     "data": {
      "text/html": [
       "<style>\n",
       ".list-inline {list-style: none; margin:0; padding: 0}\n",
       ".list-inline>li {display: inline-block}\n",
       ".list-inline>li:not(:last-child)::after {content: \"\\00b7\"; padding: 0 .5ex}\n",
       "</style>\n",
       "<ol class=list-inline><li>'25km/h'</li><li>'32km/h'</li><li>'23km/h'</li><li>'20km/h'</li><li>'17km/h'</li><li>'29km/h'</li><li>'28km/h'</li><li>'20km/h'</li><li>'20km/h'</li></ol>\n"
      ],
      "text/latex": [
       "\\begin{enumerate*}\n",
       "\\item '25km/h'\n",
       "\\item '32km/h'\n",
       "\\item '23km/h'\n",
       "\\item '20km/h'\n",
       "\\item '17km/h'\n",
       "\\item '29km/h'\n",
       "\\item '28km/h'\n",
       "\\item '20km/h'\n",
       "\\item '20km/h'\n",
       "\\end{enumerate*}\n"
      ],
      "text/markdown": [
       "1. '25km/h'\n",
       "2. '32km/h'\n",
       "3. '23km/h'\n",
       "4. '20km/h'\n",
       "5. '17km/h'\n",
       "6. '29km/h'\n",
       "7. '28km/h'\n",
       "8. '20km/h'\n",
       "9. '20km/h'\n",
       "\n",
       "\n"
      ],
      "text/plain": [
       "[1] \"25km/h\" \"32km/h\" \"23km/h\" \"20km/h\" \"17km/h\" \"29km/h\" \"28km/h\" \"20km/h\"\n",
       "[9] \"20km/h\""
      ]
     },
     "metadata": {},
     "output_type": "display_data"
    },
    {
     "data": {
      "text/html": [
       "<style>\n",
       ".list-inline {list-style: none; margin:0; padding: 0}\n",
       ".list-inline>li {display: inline-block}\n",
       ".list-inline>li:not(:last-child)::after {content: \"\\00b7\"; padding: 0 .5ex}\n",
       "</style>\n",
       "<ol class=list-inline><li>25</li><li>32</li><li>23</li><li>20</li><li>17</li><li>29</li><li>28</li><li>20</li><li>20</li></ol>\n"
      ],
      "text/latex": [
       "\\begin{enumerate*}\n",
       "\\item 25\n",
       "\\item 32\n",
       "\\item 23\n",
       "\\item 20\n",
       "\\item 17\n",
       "\\item 29\n",
       "\\item 28\n",
       "\\item 20\n",
       "\\item 20\n",
       "\\end{enumerate*}\n"
      ],
      "text/markdown": [
       "1. 25\n",
       "2. 32\n",
       "3. 23\n",
       "4. 20\n",
       "5. 17\n",
       "6. 29\n",
       "7. 28\n",
       "8. 20\n",
       "9. 20\n",
       "\n",
       "\n"
      ],
      "text/plain": [
       "[1] 25 32 23 20 17 29 28 20 20"
      ]
     },
     "metadata": {},
     "output_type": "display_data"
    }
   ],
   "source": [
    "#scraped the wind and split to get only the number\n",
    "auckland_wind <- auckland_html %>% html_nodes(\".wind .small\") %>% html_text()\n",
    "auckland_wind\n",
    "\n",
    "first <-auckland_wind\n",
    "length <-nchar(first)\n",
    "auckland_wind <- first  %>%  substr(length-5, length-4)\n",
    "auckland_wind <- as.integer(auckland_wind)\n",
    "auckland_wind"
   ]
  },
  {
   "cell_type": "code",
   "execution_count": 25,
   "id": "70d8c1f2-005f-45e1-9a97-07199f498522",
   "metadata": {
    "vscode": {
     "languageId": "r"
    }
   },
   "outputs": [
    {
     "data": {
      "text/html": [
       "<style>\n",
       ".list-inline {list-style: none; margin:0; padding: 0}\n",
       ".list-inline>li {display: inline-block}\n",
       ".list-inline>li:not(:last-child)::after {content: \"\\00b7\"; padding: 0 .5ex}\n",
       "</style>\n",
       "<ol class=list-inline><li>'20km/h'</li><li>'24km/h'</li><li>'22km/h'</li><li>'13km/h'</li><li>'22km/h'</li><li>'31km/h'</li><li>'24km/h'</li><li>'24km/h'</li><li>'21km/h'</li></ol>\n"
      ],
      "text/latex": [
       "\\begin{enumerate*}\n",
       "\\item '20km/h'\n",
       "\\item '24km/h'\n",
       "\\item '22km/h'\n",
       "\\item '13km/h'\n",
       "\\item '22km/h'\n",
       "\\item '31km/h'\n",
       "\\item '24km/h'\n",
       "\\item '24km/h'\n",
       "\\item '21km/h'\n",
       "\\end{enumerate*}\n"
      ],
      "text/markdown": [
       "1. '20km/h'\n",
       "2. '24km/h'\n",
       "3. '22km/h'\n",
       "4. '13km/h'\n",
       "5. '22km/h'\n",
       "6. '31km/h'\n",
       "7. '24km/h'\n",
       "8. '24km/h'\n",
       "9. '21km/h'\n",
       "\n",
       "\n"
      ],
      "text/plain": [
       "[1] \"20km/h\" \"24km/h\" \"22km/h\" \"13km/h\" \"22km/h\" \"31km/h\" \"24km/h\" \"24km/h\"\n",
       "[9] \"21km/h\""
      ]
     },
     "metadata": {},
     "output_type": "display_data"
    },
    {
     "data": {
      "text/html": [
       "<style>\n",
       ".list-inline {list-style: none; margin:0; padding: 0}\n",
       ".list-inline>li {display: inline-block}\n",
       ".list-inline>li:not(:last-child)::after {content: \"\\00b7\"; padding: 0 .5ex}\n",
       "</style>\n",
       "<ol class=list-inline><li>20</li><li>24</li><li>22</li><li>13</li><li>22</li><li>31</li><li>24</li><li>24</li><li>21</li></ol>\n"
      ],
      "text/latex": [
       "\\begin{enumerate*}\n",
       "\\item 20\n",
       "\\item 24\n",
       "\\item 22\n",
       "\\item 13\n",
       "\\item 22\n",
       "\\item 31\n",
       "\\item 24\n",
       "\\item 24\n",
       "\\item 21\n",
       "\\end{enumerate*}\n"
      ],
      "text/markdown": [
       "1. 20\n",
       "2. 24\n",
       "3. 22\n",
       "4. 13\n",
       "5. 22\n",
       "6. 31\n",
       "7. 24\n",
       "8. 24\n",
       "9. 21\n",
       "\n",
       "\n"
      ],
      "text/plain": [
       "[1] 20 24 22 13 22 31 24 24 21"
      ]
     },
     "metadata": {},
     "output_type": "display_data"
    }
   ],
   "source": [
    "#scraped the wind and split to get only the number\n",
    "christchurch_wind <- christchurch_html %>% html_nodes(\".wind .small\") %>% html_text()\n",
    "christchurch_wind\n",
    "\n",
    "first <- christchurch_wind\n",
    "length <-nchar(first)\n",
    "christchurch_wind <- first  %>%  substr(length-5, length-4)\n",
    "christchurch_wind <- as.integer(christchurch_wind)\n",
    "christchurch_wind"
   ]
  },
  {
   "cell_type": "code",
   "execution_count": 26,
   "id": "d6de8ef5-f7fc-47d5-9579-3d166fd275c1",
   "metadata": {
    "vscode": {
     "languageId": "r"
    }
   },
   "outputs": [
    {
     "data": {
      "text/html": [
       "<style>\n",
       ".list-inline {list-style: none; margin:0; padding: 0}\n",
       ".list-inline>li {display: inline-block}\n",
       ".list-inline>li:not(:last-child)::after {content: \"\\00b7\"; padding: 0 .5ex}\n",
       "</style>\n",
       "<ol class=list-inline><li>'39km/h'</li><li>'45km/h'</li><li>'36km/h'</li><li>'35km/h'</li><li>'42km/h'</li><li>'52km/h'</li><li>'45km/h'</li><li>'41km/h'</li><li>'29km/h'</li></ol>\n"
      ],
      "text/latex": [
       "\\begin{enumerate*}\n",
       "\\item '39km/h'\n",
       "\\item '45km/h'\n",
       "\\item '36km/h'\n",
       "\\item '35km/h'\n",
       "\\item '42km/h'\n",
       "\\item '52km/h'\n",
       "\\item '45km/h'\n",
       "\\item '41km/h'\n",
       "\\item '29km/h'\n",
       "\\end{enumerate*}\n"
      ],
      "text/markdown": [
       "1. '39km/h'\n",
       "2. '45km/h'\n",
       "3. '36km/h'\n",
       "4. '35km/h'\n",
       "5. '42km/h'\n",
       "6. '52km/h'\n",
       "7. '45km/h'\n",
       "8. '41km/h'\n",
       "9. '29km/h'\n",
       "\n",
       "\n"
      ],
      "text/plain": [
       "[1] \"39km/h\" \"45km/h\" \"36km/h\" \"35km/h\" \"42km/h\" \"52km/h\" \"45km/h\" \"41km/h\"\n",
       "[9] \"29km/h\""
      ]
     },
     "metadata": {},
     "output_type": "display_data"
    },
    {
     "data": {
      "text/html": [
       "<style>\n",
       ".list-inline {list-style: none; margin:0; padding: 0}\n",
       ".list-inline>li {display: inline-block}\n",
       ".list-inline>li:not(:last-child)::after {content: \"\\00b7\"; padding: 0 .5ex}\n",
       "</style>\n",
       "<ol class=list-inline><li>39</li><li>45</li><li>36</li><li>35</li><li>42</li><li>52</li><li>45</li><li>41</li><li>29</li></ol>\n"
      ],
      "text/latex": [
       "\\begin{enumerate*}\n",
       "\\item 39\n",
       "\\item 45\n",
       "\\item 36\n",
       "\\item 35\n",
       "\\item 42\n",
       "\\item 52\n",
       "\\item 45\n",
       "\\item 41\n",
       "\\item 29\n",
       "\\end{enumerate*}\n"
      ],
      "text/markdown": [
       "1. 39\n",
       "2. 45\n",
       "3. 36\n",
       "4. 35\n",
       "5. 42\n",
       "6. 52\n",
       "7. 45\n",
       "8. 41\n",
       "9. 29\n",
       "\n",
       "\n"
      ],
      "text/plain": [
       "[1] 39 45 36 35 42 52 45 41 29"
      ]
     },
     "metadata": {},
     "output_type": "display_data"
    }
   ],
   "source": [
    "#scraped the wind and split to get only the number\n",
    "wellington_wind <- wellington_html %>% html_nodes(\".wind .small\") %>% html_text()\n",
    "wellington_wind\n",
    "\n",
    "first <- wellington_wind\n",
    "length <-nchar(first)\n",
    "wellington_wind <- first  %>%  substr(length-5, length-4)\n",
    "wellington_wind <- as.integer(wellington_wind)\n",
    "wellington_wind"
   ]
  },
  {
   "cell_type": "code",
   "execution_count": 27,
   "id": "2d7fc95b-5130-4678-8377-4185a1242b7f",
   "metadata": {
    "vscode": {
     "languageId": "r"
    }
   },
   "outputs": [
    {
     "data": {
      "text/html": [
       "'Weather Forecast for Auckland'"
      ],
      "text/latex": [
       "'Weather Forecast for Auckland'"
      ],
      "text/markdown": [
       "'Weather Forecast for Auckland'"
      ],
      "text/plain": [
       "[1] \"Weather Forecast for Auckland\""
      ]
     },
     "metadata": {},
     "output_type": "display_data"
    },
    {
     "data": {
      "text/html": [
       "'Auckland'"
      ],
      "text/latex": [
       "'Auckland'"
      ],
      "text/markdown": [
       "'Auckland'"
      ],
      "text/plain": [
       "[1] \"Auckland\""
      ]
     },
     "metadata": {},
     "output_type": "display_data"
    }
   ],
   "source": [
    "#scraped the location and split to get only the location; removing \"Weather Forecast for\"\n",
    "auckland_location <- auckland_html %>% html_nodes(\"h2\") %>% html_text()\n",
    "auckland_location\n",
    "\n",
    "auckland_location <- strsplit(auckland_location, split=\" \")\n",
    "auckland_location <- auckland_location[[1]][4]\n",
    "auckland_location"
   ]
  },
  {
   "cell_type": "code",
   "execution_count": 28,
   "id": "a77f28a1-5eda-456c-915b-7daebaa94e4a",
   "metadata": {
    "vscode": {
     "languageId": "r"
    }
   },
   "outputs": [
    {
     "data": {
      "text/html": [
       "'Weather Forecast for Wellington'"
      ],
      "text/latex": [
       "'Weather Forecast for Wellington'"
      ],
      "text/markdown": [
       "'Weather Forecast for Wellington'"
      ],
      "text/plain": [
       "[1] \"Weather Forecast for Wellington\""
      ]
     },
     "metadata": {},
     "output_type": "display_data"
    },
    {
     "data": {
      "text/html": [
       "'Wellington'"
      ],
      "text/latex": [
       "'Wellington'"
      ],
      "text/markdown": [
       "'Wellington'"
      ],
      "text/plain": [
       "[1] \"Wellington\""
      ]
     },
     "metadata": {},
     "output_type": "display_data"
    }
   ],
   "source": [
    "#scraped the location and split to get only the location; removing \"Weather Forecast for\"\n",
    "wellington_location <- wellington_html %>% html_nodes(\"h2\") %>% html_text()\n",
    "wellington_location\n",
    "\n",
    "wellington_location <- strsplit(wellington_location, split=\" \")\n",
    "wellington_location <- wellington_location[[1]][4]\n",
    "wellington_location"
   ]
  },
  {
   "cell_type": "code",
   "execution_count": 29,
   "id": "c3158aec-d887-4fdd-a07e-8bb8fb400904",
   "metadata": {
    "vscode": {
     "languageId": "r"
    }
   },
   "outputs": [
    {
     "data": {
      "text/html": [
       "'Weather Forecast for Christchurch'"
      ],
      "text/latex": [
       "'Weather Forecast for Christchurch'"
      ],
      "text/markdown": [
       "'Weather Forecast for Christchurch'"
      ],
      "text/plain": [
       "[1] \"Weather Forecast for Christchurch\""
      ]
     },
     "metadata": {},
     "output_type": "display_data"
    },
    {
     "data": {
      "text/html": [
       "'Christchurch'"
      ],
      "text/latex": [
       "'Christchurch'"
      ],
      "text/markdown": [
       "'Christchurch'"
      ],
      "text/plain": [
       "[1] \"Christchurch\""
      ]
     },
     "metadata": {},
     "output_type": "display_data"
    }
   ],
   "source": [
    "#scraped the location and split to get only the location; removing \"Weather Forecast for\"\n",
    "christchurch_location <- christchurch_html %>% html_nodes(\"h2\") %>% html_text()\n",
    "christchurch_location\n",
    "\n",
    "christchurch_location <- strsplit(christchurch_location, split=\" \")\n",
    "christchurch_location <- christchurch_location[[1]][4]\n",
    "christchurch_location"
   ]
  },
  {
   "cell_type": "code",
   "execution_count": 30,
   "id": "4e5713ac-644b-4842-958f-1103403f2c06",
   "metadata": {
    "vscode": {
     "languageId": "r"
    }
   },
   "outputs": [
    {
     "data": {
      "text/html": [
       "<table class=\"dataframe\">\n",
       "<caption>A tibble: 9 × 8</caption>\n",
       "<thead>\n",
       "\t<tr><th scope=col>Location</th><th scope=col>Day</th><th scope=col>Date</th><th scope=col>Weather_Pattern</th><th scope=col>Wind_Pattern</th><th scope=col>Night_Temp</th><th scope=col>Day_Temperature</th><th scope=col>Wind</th></tr>\n",
       "\t<tr><th scope=col>&lt;chr&gt;</th><th scope=col>&lt;chr&gt;</th><th scope=col>&lt;date&gt;</th><th scope=col>&lt;chr&gt;</th><th scope=col>&lt;chr&gt;</th><th scope=col>&lt;int&gt;</th><th scope=col>&lt;int&gt;</th><th scope=col>&lt;int&gt;</th></tr>\n",
       "</thead>\n",
       "<tbody>\n",
       "\t<tr><td>Auckland</td><td>Thu</td><td>2022-10-27</td><td>Afternoon showers </td><td> Fairly breezy Northerly winds        </td><td>16</td><td>20</td><td>25</td></tr>\n",
       "\t<tr><td>Auckland</td><td>Fri</td><td>2022-10-28</td><td>Rain              </td><td> Breezy to brisk Northerly winds      </td><td>17</td><td>20</td><td>32</td></tr>\n",
       "\t<tr><td>Auckland</td><td>Sat</td><td>2022-10-29</td><td>Rain and thunder  </td><td> Fairly breezy North to Nor'West winds</td><td>15</td><td>19</td><td>23</td></tr>\n",
       "\t<tr><td>Auckland</td><td>Sun</td><td>2022-10-30</td><td>Morning showers   </td><td> Fairly breezy West to Sou'West winds </td><td>13</td><td>21</td><td>20</td></tr>\n",
       "\t<tr><td>Auckland</td><td>Mon</td><td>2022-10-31</td><td>Mainly sunny      </td><td> Breezy Westerly winds                </td><td>15</td><td>21</td><td>17</td></tr>\n",
       "\t<tr><td>Auckland</td><td>Tue</td><td>2022-11-01</td><td>Showers           </td><td> Breezy to brisk Northerly winds      </td><td>16</td><td>21</td><td>29</td></tr>\n",
       "\t<tr><td>Auckland</td><td>Wed</td><td>2022-11-02</td><td>Rain              </td><td> Breezy to brisk Nor'West winds       </td><td>14</td><td>19</td><td>28</td></tr>\n",
       "\t<tr><td>Auckland</td><td>Thu</td><td>2022-11-03</td><td>Showers           </td><td> Fairly breezy Westerly winds         </td><td>13</td><td>19</td><td>20</td></tr>\n",
       "\t<tr><td>Auckland</td><td>Fri</td><td>2022-11-04</td><td>Light morning rain</td><td> Fairly breezy West to Sou'West winds </td><td>13</td><td>19</td><td>20</td></tr>\n",
       "</tbody>\n",
       "</table>\n"
      ],
      "text/latex": [
       "A tibble: 9 × 8\n",
       "\\begin{tabular}{llllllll}\n",
       " Location & Day & Date & Weather\\_Pattern & Wind\\_Pattern & Night\\_Temp & Day\\_Temperature & Wind\\\\\n",
       " <chr> & <chr> & <date> & <chr> & <chr> & <int> & <int> & <int>\\\\\n",
       "\\hline\n",
       "\t Auckland & Thu & 2022-10-27 & Afternoon showers  &  Fairly breezy Northerly winds         & 16 & 20 & 25\\\\\n",
       "\t Auckland & Fri & 2022-10-28 & Rain               &  Breezy to brisk Northerly winds       & 17 & 20 & 32\\\\\n",
       "\t Auckland & Sat & 2022-10-29 & Rain and thunder   &  Fairly breezy North to Nor'West winds & 15 & 19 & 23\\\\\n",
       "\t Auckland & Sun & 2022-10-30 & Morning showers    &  Fairly breezy West to Sou'West winds  & 13 & 21 & 20\\\\\n",
       "\t Auckland & Mon & 2022-10-31 & Mainly sunny       &  Breezy Westerly winds                 & 15 & 21 & 17\\\\\n",
       "\t Auckland & Tue & 2022-11-01 & Showers            &  Breezy to brisk Northerly winds       & 16 & 21 & 29\\\\\n",
       "\t Auckland & Wed & 2022-11-02 & Rain               &  Breezy to brisk Nor'West winds        & 14 & 19 & 28\\\\\n",
       "\t Auckland & Thu & 2022-11-03 & Showers            &  Fairly breezy Westerly winds          & 13 & 19 & 20\\\\\n",
       "\t Auckland & Fri & 2022-11-04 & Light morning rain &  Fairly breezy West to Sou'West winds  & 13 & 19 & 20\\\\\n",
       "\\end{tabular}\n"
      ],
      "text/markdown": [
       "\n",
       "A tibble: 9 × 8\n",
       "\n",
       "| Location &lt;chr&gt; | Day &lt;chr&gt; | Date &lt;date&gt; | Weather_Pattern &lt;chr&gt; | Wind_Pattern &lt;chr&gt; | Night_Temp &lt;int&gt; | Day_Temperature &lt;int&gt; | Wind &lt;int&gt; |\n",
       "|---|---|---|---|---|---|---|---|\n",
       "| Auckland | Thu | 2022-10-27 | Afternoon showers  |  Fairly breezy Northerly winds         | 16 | 20 | 25 |\n",
       "| Auckland | Fri | 2022-10-28 | Rain               |  Breezy to brisk Northerly winds       | 17 | 20 | 32 |\n",
       "| Auckland | Sat | 2022-10-29 | Rain and thunder   |  Fairly breezy North to Nor'West winds | 15 | 19 | 23 |\n",
       "| Auckland | Sun | 2022-10-30 | Morning showers    |  Fairly breezy West to Sou'West winds  | 13 | 21 | 20 |\n",
       "| Auckland | Mon | 2022-10-31 | Mainly sunny       |  Breezy Westerly winds                 | 15 | 21 | 17 |\n",
       "| Auckland | Tue | 2022-11-01 | Showers            |  Breezy to brisk Northerly winds       | 16 | 21 | 29 |\n",
       "| Auckland | Wed | 2022-11-02 | Rain               |  Breezy to brisk Nor'West winds        | 14 | 19 | 28 |\n",
       "| Auckland | Thu | 2022-11-03 | Showers            |  Fairly breezy Westerly winds          | 13 | 19 | 20 |\n",
       "| Auckland | Fri | 2022-11-04 | Light morning rain |  Fairly breezy West to Sou'West winds  | 13 | 19 | 20 |\n",
       "\n"
      ],
      "text/plain": [
       "  Location Day Date       Weather_Pattern   \n",
       "1 Auckland Thu 2022-10-27 Afternoon showers \n",
       "2 Auckland Fri 2022-10-28 Rain              \n",
       "3 Auckland Sat 2022-10-29 Rain and thunder  \n",
       "4 Auckland Sun 2022-10-30 Morning showers   \n",
       "5 Auckland Mon 2022-10-31 Mainly sunny      \n",
       "6 Auckland Tue 2022-11-01 Showers           \n",
       "7 Auckland Wed 2022-11-02 Rain              \n",
       "8 Auckland Thu 2022-11-03 Showers           \n",
       "9 Auckland Fri 2022-11-04 Light morning rain\n",
       "  Wind_Pattern                           Night_Temp Day_Temperature Wind\n",
       "1  Fairly breezy Northerly winds         16         20              25  \n",
       "2  Breezy to brisk Northerly winds       17         20              32  \n",
       "3  Fairly breezy North to Nor'West winds 15         19              23  \n",
       "4  Fairly breezy West to Sou'West winds  13         21              20  \n",
       "5  Breezy Westerly winds                 15         21              17  \n",
       "6  Breezy to brisk Northerly winds       16         21              29  \n",
       "7  Breezy to brisk Nor'West winds        14         19              28  \n",
       "8  Fairly breezy Westerly winds          13         19              20  \n",
       "9  Fairly breezy West to Sou'West winds  13         19              20  "
      ]
     },
     "metadata": {},
     "output_type": "display_data"
    }
   ],
   "source": [
    "#put all the data wrangled and clened into a table\n",
    "auckland_df <- tibble(Location=auckland_location, Day=day,Date=datey2, Weather_Pattern = akl_weather_pattern,Wind_Pattern=akl_wind_pattern, Night_Temp=auckland_night, Day_Temperature=auckland_day, Wind=auckland_wind)\n",
    "auckland_df"
   ]
  },
  {
   "cell_type": "code",
   "execution_count": 31,
   "id": "89e318aa-8875-49ab-b0c3-4110aa1c49d9",
   "metadata": {
    "vscode": {
     "languageId": "r"
    }
   },
   "outputs": [
    {
     "data": {
      "text/html": [
       "<table class=\"dataframe\">\n",
       "<caption>A tibble: 9 × 8</caption>\n",
       "<thead>\n",
       "\t<tr><th scope=col>Location</th><th scope=col>Day</th><th scope=col>Date</th><th scope=col>Weather_Pattern</th><th scope=col>Wind_Pattern</th><th scope=col>Night_Temp</th><th scope=col>Day_Temp</th><th scope=col>Wind</th></tr>\n",
       "\t<tr><th scope=col>&lt;chr&gt;</th><th scope=col>&lt;chr&gt;</th><th scope=col>&lt;date&gt;</th><th scope=col>&lt;chr&gt;</th><th scope=col>&lt;chr&gt;</th><th scope=col>&lt;int&gt;</th><th scope=col>&lt;int&gt;</th><th scope=col>&lt;int&gt;</th></tr>\n",
       "</thead>\n",
       "<tbody>\n",
       "\t<tr><td>Wellington</td><td>Thu</td><td>2022-10-27</td><td>Windy, with showers           </td><td> Brisk North to Nor'West winds              </td><td>14</td><td>16</td><td>39</td></tr>\n",
       "\t<tr><td>Wellington</td><td>Fri</td><td>2022-10-28</td><td>Rainy and windy               </td><td> Strong and blustery Northerly winds        </td><td>14</td><td>17</td><td>45</td></tr>\n",
       "\t<tr><td>Wellington</td><td>Sat</td><td>2022-10-29</td><td>Windy, with light morning rain</td><td> Breezy to brisk North to Nor'West winds    </td><td>13</td><td>16</td><td>36</td></tr>\n",
       "\t<tr><td>Wellington</td><td>Sun</td><td>2022-10-30</td><td>Windy, with morning showers   </td><td> Breezy to brisk North to Nor'West winds    </td><td>12</td><td>17</td><td>35</td></tr>\n",
       "\t<tr><td>Wellington</td><td>Mon</td><td>2022-10-31</td><td>Windy and partly cloudy       </td><td> Brisk North to Nor'West winds              </td><td>13</td><td>16</td><td>42</td></tr>\n",
       "\t<tr><td>Wellington</td><td>Tue</td><td>2022-11-01</td><td>Windy, with light rain        </td><td> Strong and blustery North to Nor'West winds</td><td>13</td><td>17</td><td>52</td></tr>\n",
       "\t<tr><td>Wellington</td><td>Wed</td><td>2022-11-02</td><td>Rainy and windy               </td><td> Strong and blustery North to Nor'West winds</td><td>12</td><td>15</td><td>45</td></tr>\n",
       "\t<tr><td>Wellington</td><td>Thu</td><td>2022-11-03</td><td>Windy, with morning showers   </td><td> Brisk Nor'West winds                       </td><td>11</td><td>15</td><td>41</td></tr>\n",
       "\t<tr><td>Wellington</td><td>Fri</td><td>2022-11-04</td><td>Morning showers               </td><td> Breezy to brisk North to Nor'West winds    </td><td>11</td><td>15</td><td>29</td></tr>\n",
       "</tbody>\n",
       "</table>\n"
      ],
      "text/latex": [
       "A tibble: 9 × 8\n",
       "\\begin{tabular}{llllllll}\n",
       " Location & Day & Date & Weather\\_Pattern & Wind\\_Pattern & Night\\_Temp & Day\\_Temp & Wind\\\\\n",
       " <chr> & <chr> & <date> & <chr> & <chr> & <int> & <int> & <int>\\\\\n",
       "\\hline\n",
       "\t Wellington & Thu & 2022-10-27 & Windy, with showers            &  Brisk North to Nor'West winds               & 14 & 16 & 39\\\\\n",
       "\t Wellington & Fri & 2022-10-28 & Rainy and windy                &  Strong and blustery Northerly winds         & 14 & 17 & 45\\\\\n",
       "\t Wellington & Sat & 2022-10-29 & Windy, with light morning rain &  Breezy to brisk North to Nor'West winds     & 13 & 16 & 36\\\\\n",
       "\t Wellington & Sun & 2022-10-30 & Windy, with morning showers    &  Breezy to brisk North to Nor'West winds     & 12 & 17 & 35\\\\\n",
       "\t Wellington & Mon & 2022-10-31 & Windy and partly cloudy        &  Brisk North to Nor'West winds               & 13 & 16 & 42\\\\\n",
       "\t Wellington & Tue & 2022-11-01 & Windy, with light rain         &  Strong and blustery North to Nor'West winds & 13 & 17 & 52\\\\\n",
       "\t Wellington & Wed & 2022-11-02 & Rainy and windy                &  Strong and blustery North to Nor'West winds & 12 & 15 & 45\\\\\n",
       "\t Wellington & Thu & 2022-11-03 & Windy, with morning showers    &  Brisk Nor'West winds                        & 11 & 15 & 41\\\\\n",
       "\t Wellington & Fri & 2022-11-04 & Morning showers                &  Breezy to brisk North to Nor'West winds     & 11 & 15 & 29\\\\\n",
       "\\end{tabular}\n"
      ],
      "text/markdown": [
       "\n",
       "A tibble: 9 × 8\n",
       "\n",
       "| Location &lt;chr&gt; | Day &lt;chr&gt; | Date &lt;date&gt; | Weather_Pattern &lt;chr&gt; | Wind_Pattern &lt;chr&gt; | Night_Temp &lt;int&gt; | Day_Temp &lt;int&gt; | Wind &lt;int&gt; |\n",
       "|---|---|---|---|---|---|---|---|\n",
       "| Wellington | Thu | 2022-10-27 | Windy, with showers            |  Brisk North to Nor'West winds               | 14 | 16 | 39 |\n",
       "| Wellington | Fri | 2022-10-28 | Rainy and windy                |  Strong and blustery Northerly winds         | 14 | 17 | 45 |\n",
       "| Wellington | Sat | 2022-10-29 | Windy, with light morning rain |  Breezy to brisk North to Nor'West winds     | 13 | 16 | 36 |\n",
       "| Wellington | Sun | 2022-10-30 | Windy, with morning showers    |  Breezy to brisk North to Nor'West winds     | 12 | 17 | 35 |\n",
       "| Wellington | Mon | 2022-10-31 | Windy and partly cloudy        |  Brisk North to Nor'West winds               | 13 | 16 | 42 |\n",
       "| Wellington | Tue | 2022-11-01 | Windy, with light rain         |  Strong and blustery North to Nor'West winds | 13 | 17 | 52 |\n",
       "| Wellington | Wed | 2022-11-02 | Rainy and windy                |  Strong and blustery North to Nor'West winds | 12 | 15 | 45 |\n",
       "| Wellington | Thu | 2022-11-03 | Windy, with morning showers    |  Brisk Nor'West winds                        | 11 | 15 | 41 |\n",
       "| Wellington | Fri | 2022-11-04 | Morning showers                |  Breezy to brisk North to Nor'West winds     | 11 | 15 | 29 |\n",
       "\n"
      ],
      "text/plain": [
       "  Location   Day Date       Weather_Pattern               \n",
       "1 Wellington Thu 2022-10-27 Windy, with showers           \n",
       "2 Wellington Fri 2022-10-28 Rainy and windy               \n",
       "3 Wellington Sat 2022-10-29 Windy, with light morning rain\n",
       "4 Wellington Sun 2022-10-30 Windy, with morning showers   \n",
       "5 Wellington Mon 2022-10-31 Windy and partly cloudy       \n",
       "6 Wellington Tue 2022-11-01 Windy, with light rain        \n",
       "7 Wellington Wed 2022-11-02 Rainy and windy               \n",
       "8 Wellington Thu 2022-11-03 Windy, with morning showers   \n",
       "9 Wellington Fri 2022-11-04 Morning showers               \n",
       "  Wind_Pattern                                 Night_Temp Day_Temp Wind\n",
       "1  Brisk North to Nor'West winds               14         16       39  \n",
       "2  Strong and blustery Northerly winds         14         17       45  \n",
       "3  Breezy to brisk North to Nor'West winds     13         16       36  \n",
       "4  Breezy to brisk North to Nor'West winds     12         17       35  \n",
       "5  Brisk North to Nor'West winds               13         16       42  \n",
       "6  Strong and blustery North to Nor'West winds 13         17       52  \n",
       "7  Strong and blustery North to Nor'West winds 12         15       45  \n",
       "8  Brisk Nor'West winds                        11         15       41  \n",
       "9  Breezy to brisk North to Nor'West winds     11         15       29  "
      ]
     },
     "metadata": {},
     "output_type": "display_data"
    }
   ],
   "source": [
    "#put all the data wrangled and clened into a table\n",
    "wellington_df <- tibble(Location=wellington_location, Day=day,Date=datey2, Weather_Pattern = welly_weather_pattern, Wind_Pattern=welly_wind_pattern, Night_Temp=wellington_night, Day_Temp=wellington_day, Wind=wellington_wind)\n",
    "wellington_df"
   ]
  },
  {
   "cell_type": "code",
   "execution_count": 32,
   "id": "e027ae5f-f524-48bb-ad41-3308bbc3ac66",
   "metadata": {
    "vscode": {
     "languageId": "r"
    }
   },
   "outputs": [
    {
     "data": {
      "text/html": [
       "<table class=\"dataframe\">\n",
       "<caption>A tibble: 9 × 8</caption>\n",
       "<thead>\n",
       "\t<tr><th scope=col>Location</th><th scope=col>Day</th><th scope=col>Date</th><th scope=col>Weather_Pattern</th><th scope=col>Wind_Pattern</th><th scope=col>Night_Temp</th><th scope=col>Day_Temp</th><th scope=col>Wind</th></tr>\n",
       "\t<tr><th scope=col>&lt;chr&gt;</th><th scope=col>&lt;chr&gt;</th><th scope=col>&lt;date&gt;</th><th scope=col>&lt;chr&gt;</th><th scope=col>&lt;chr&gt;</th><th scope=col>&lt;int&gt;</th><th scope=col>&lt;int&gt;</th><th scope=col>&lt;int&gt;</th></tr>\n",
       "</thead>\n",
       "<tbody>\n",
       "\t<tr><td>Christchurch</td><td>Thu</td><td>2022-10-27</td><td>Showers                                  </td><td> Fairly breezy Nor'East winds         </td><td>15</td><td>19</td><td>20</td></tr>\n",
       "\t<tr><td>Christchurch</td><td>Fri</td><td>2022-10-28</td><td>Cloudy                                   </td><td> Fairly breezy North to Nor'East winds</td><td>14</td><td>23</td><td>24</td></tr>\n",
       "\t<tr><td>Christchurch</td><td>Sat</td><td>2022-10-29</td><td>Partly cloudy                            </td><td> Fairly breezy Northerly winds        </td><td>12</td><td>22</td><td>22</td></tr>\n",
       "\t<tr><td>Christchurch</td><td>Sun</td><td>2022-10-30</td><td>Thunderstorms developing in the afternoon</td><td> Light West to Nor'West winds         </td><td> 9</td><td>19</td><td>13</td></tr>\n",
       "\t<tr><td>Christchurch</td><td>Mon</td><td>2022-10-31</td><td>Partly cloudy                            </td><td> Fairly breezy Northerly winds        </td><td>15</td><td>21</td><td>22</td></tr>\n",
       "\t<tr><td>Christchurch</td><td>Tue</td><td>2022-11-01</td><td>Mostly cloudy                            </td><td> Breezy to brisk Northerly winds      </td><td>14</td><td>21</td><td>31</td></tr>\n",
       "\t<tr><td>Christchurch</td><td>Wed</td><td>2022-11-02</td><td>Showers                                  </td><td> Fairly breezy North to Nor'West winds</td><td>10</td><td>18</td><td>24</td></tr>\n",
       "\t<tr><td>Christchurch</td><td>Thu</td><td>2022-11-03</td><td>Partly cloudy                            </td><td> Fairly breezy Nor'West winds         </td><td>10</td><td>19</td><td>24</td></tr>\n",
       "\t<tr><td>Christchurch</td><td>Fri</td><td>2022-11-04</td><td>Partly cloudy                            </td><td> Fairly breezy North to Nor'West winds</td><td>10</td><td>19</td><td>21</td></tr>\n",
       "</tbody>\n",
       "</table>\n"
      ],
      "text/latex": [
       "A tibble: 9 × 8\n",
       "\\begin{tabular}{llllllll}\n",
       " Location & Day & Date & Weather\\_Pattern & Wind\\_Pattern & Night\\_Temp & Day\\_Temp & Wind\\\\\n",
       " <chr> & <chr> & <date> & <chr> & <chr> & <int> & <int> & <int>\\\\\n",
       "\\hline\n",
       "\t Christchurch & Thu & 2022-10-27 & Showers                                   &  Fairly breezy Nor'East winds          & 15 & 19 & 20\\\\\n",
       "\t Christchurch & Fri & 2022-10-28 & Cloudy                                    &  Fairly breezy North to Nor'East winds & 14 & 23 & 24\\\\\n",
       "\t Christchurch & Sat & 2022-10-29 & Partly cloudy                             &  Fairly breezy Northerly winds         & 12 & 22 & 22\\\\\n",
       "\t Christchurch & Sun & 2022-10-30 & Thunderstorms developing in the afternoon &  Light West to Nor'West winds          &  9 & 19 & 13\\\\\n",
       "\t Christchurch & Mon & 2022-10-31 & Partly cloudy                             &  Fairly breezy Northerly winds         & 15 & 21 & 22\\\\\n",
       "\t Christchurch & Tue & 2022-11-01 & Mostly cloudy                             &  Breezy to brisk Northerly winds       & 14 & 21 & 31\\\\\n",
       "\t Christchurch & Wed & 2022-11-02 & Showers                                   &  Fairly breezy North to Nor'West winds & 10 & 18 & 24\\\\\n",
       "\t Christchurch & Thu & 2022-11-03 & Partly cloudy                             &  Fairly breezy Nor'West winds          & 10 & 19 & 24\\\\\n",
       "\t Christchurch & Fri & 2022-11-04 & Partly cloudy                             &  Fairly breezy North to Nor'West winds & 10 & 19 & 21\\\\\n",
       "\\end{tabular}\n"
      ],
      "text/markdown": [
       "\n",
       "A tibble: 9 × 8\n",
       "\n",
       "| Location &lt;chr&gt; | Day &lt;chr&gt; | Date &lt;date&gt; | Weather_Pattern &lt;chr&gt; | Wind_Pattern &lt;chr&gt; | Night_Temp &lt;int&gt; | Day_Temp &lt;int&gt; | Wind &lt;int&gt; |\n",
       "|---|---|---|---|---|---|---|---|\n",
       "| Christchurch | Thu | 2022-10-27 | Showers                                   |  Fairly breezy Nor'East winds          | 15 | 19 | 20 |\n",
       "| Christchurch | Fri | 2022-10-28 | Cloudy                                    |  Fairly breezy North to Nor'East winds | 14 | 23 | 24 |\n",
       "| Christchurch | Sat | 2022-10-29 | Partly cloudy                             |  Fairly breezy Northerly winds         | 12 | 22 | 22 |\n",
       "| Christchurch | Sun | 2022-10-30 | Thunderstorms developing in the afternoon |  Light West to Nor'West winds          |  9 | 19 | 13 |\n",
       "| Christchurch | Mon | 2022-10-31 | Partly cloudy                             |  Fairly breezy Northerly winds         | 15 | 21 | 22 |\n",
       "| Christchurch | Tue | 2022-11-01 | Mostly cloudy                             |  Breezy to brisk Northerly winds       | 14 | 21 | 31 |\n",
       "| Christchurch | Wed | 2022-11-02 | Showers                                   |  Fairly breezy North to Nor'West winds | 10 | 18 | 24 |\n",
       "| Christchurch | Thu | 2022-11-03 | Partly cloudy                             |  Fairly breezy Nor'West winds          | 10 | 19 | 24 |\n",
       "| Christchurch | Fri | 2022-11-04 | Partly cloudy                             |  Fairly breezy North to Nor'West winds | 10 | 19 | 21 |\n",
       "\n"
      ],
      "text/plain": [
       "  Location     Day Date       Weather_Pattern                          \n",
       "1 Christchurch Thu 2022-10-27 Showers                                  \n",
       "2 Christchurch Fri 2022-10-28 Cloudy                                   \n",
       "3 Christchurch Sat 2022-10-29 Partly cloudy                            \n",
       "4 Christchurch Sun 2022-10-30 Thunderstorms developing in the afternoon\n",
       "5 Christchurch Mon 2022-10-31 Partly cloudy                            \n",
       "6 Christchurch Tue 2022-11-01 Mostly cloudy                            \n",
       "7 Christchurch Wed 2022-11-02 Showers                                  \n",
       "8 Christchurch Thu 2022-11-03 Partly cloudy                            \n",
       "9 Christchurch Fri 2022-11-04 Partly cloudy                            \n",
       "  Wind_Pattern                           Night_Temp Day_Temp Wind\n",
       "1  Fairly breezy Nor'East winds          15         19       20  \n",
       "2  Fairly breezy North to Nor'East winds 14         23       24  \n",
       "3  Fairly breezy Northerly winds         12         22       22  \n",
       "4  Light West to Nor'West winds           9         19       13  \n",
       "5  Fairly breezy Northerly winds         15         21       22  \n",
       "6  Breezy to brisk Northerly winds       14         21       31  \n",
       "7  Fairly breezy North to Nor'West winds 10         18       24  \n",
       "8  Fairly breezy Nor'West winds          10         19       24  \n",
       "9  Fairly breezy North to Nor'West winds 10         19       21  "
      ]
     },
     "metadata": {},
     "output_type": "display_data"
    }
   ],
   "source": [
    "#put all the data wrangled and clened into a table\n",
    "christchurch_df <- tibble(Location=christchurch_location, Day = day, Date=datey2, Weather_Pattern = chch_weather_pattern, Wind_Pattern=chch_wind_pattern, Night_Temp=christchurch_night, Day_Temp=christchurch_day, Wind=christchurch_wind)\n",
    "christchurch_df"
   ]
  },
  {
   "cell_type": "code",
   "execution_count": 33,
   "id": "84408df9",
   "metadata": {
    "vscode": {
     "languageId": "r"
    }
   },
   "outputs": [],
   "source": [
    "#Saving table as a csv\n",
    "auckland_df %>% \n",
    "write_csv(\"auckland_df.csv\")"
   ]
  },
  {
   "cell_type": "code",
   "execution_count": 34,
   "id": "e0e28752",
   "metadata": {
    "vscode": {
     "languageId": "r"
    }
   },
   "outputs": [],
   "source": [
    "#Saving table as a csv\n",
    "wellington_df %>% \n",
    "write_csv(\"wellington_df.csv\")"
   ]
  },
  {
   "cell_type": "code",
   "execution_count": 35,
   "id": "7583d24e",
   "metadata": {
    "vscode": {
     "languageId": "r"
    }
   },
   "outputs": [],
   "source": [
    "#Saving table as a csv\n",
    "christchurch_df %>% \n",
    "write_csv(\"christchurch_df.csv\")"
   ]
  },
  {
   "cell_type": "code",
   "execution_count": null,
   "id": "22a028e3",
   "metadata": {
    "vscode": {
     "languageId": "r"
    }
   },
   "outputs": [],
   "source": []
  }
 ],
 "metadata": {
  "kernelspec": {
   "display_name": "R",
   "language": "R",
   "name": "ir"
  },
  "language_info": {
   "codemirror_mode": "r",
   "file_extension": ".r",
   "mimetype": "text/x-r-source",
   "name": "R",
   "pygments_lexer": "r",
   "version": "4.2.1"
  }
 },
 "nbformat": 4,
 "nbformat_minor": 5
}
