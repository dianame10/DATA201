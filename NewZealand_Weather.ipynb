{
 "cells": [
  {
   "cell_type": "code",
   "execution_count": 19,
   "id": "e8471d38-70b8-4ce3-8fd2-63cb7a1dd927",
   "metadata": {
    "vscode": {
     "languageId": "r"
    }
   },
   "outputs": [
    {
     "name": "stderr",
     "output_type": "stream",
     "text": [
      "── \u001b[1mAttaching packages\u001b[22m ─────────────────────────────────────── tidyverse 1.3.2 ──\n",
      "\u001b[32m✔\u001b[39m \u001b[34mggplot2\u001b[39m 3.3.6     \u001b[32m✔\u001b[39m \u001b[34mreadr  \u001b[39m 2.1.2\n",
      "\u001b[32m✔\u001b[39m \u001b[34mtibble \u001b[39m 3.1.8     \u001b[32m✔\u001b[39m \u001b[34mdplyr  \u001b[39m 1.0.9\n",
      "\u001b[32m✔\u001b[39m \u001b[34mtidyr  \u001b[39m 1.2.0     \u001b[32m✔\u001b[39m \u001b[34mforcats\u001b[39m 0.5.1\n",
      "── \u001b[1mConflicts\u001b[22m ────────────────────────────────────────── tidyverse_conflicts() ──\n",
      "\u001b[31m✖\u001b[39m \u001b[34mtidyr\u001b[39m::\u001b[32mextract()\u001b[39m        masks \u001b[34mmagrittr\u001b[39m::extract()\n",
      "\u001b[31m✖\u001b[39m \u001b[34mdplyr\u001b[39m::\u001b[32mfilter()\u001b[39m         masks \u001b[34mstats\u001b[39m::filter()\n",
      "\u001b[31m✖\u001b[39m \u001b[34mreadr\u001b[39m::\u001b[32mguess_encoding()\u001b[39m masks \u001b[34mrvest\u001b[39m::guess_encoding()\n",
      "\u001b[31m✖\u001b[39m \u001b[34mdplyr\u001b[39m::\u001b[32mlag()\u001b[39m            masks \u001b[34mstats\u001b[39m::lag()\n",
      "\u001b[31m✖\u001b[39m \u001b[34mpurrr\u001b[39m::\u001b[32mset_names()\u001b[39m      masks \u001b[34mmagrittr\u001b[39m::set_names()\n"
     ]
    }
   ],
   "source": [
    "library(tidyverse)"
   ]
  },
  {
   "cell_type": "code",
   "execution_count": 20,
   "id": "ae559c3a-7cd4-4a9b-83f4-44025b830ef2",
<<<<<<< HEAD
   "metadata": {
    "vscode": {
     "languageId": "r"
    }
   },
   "outputs": [
    {
     "name": "stderr",
     "output_type": "stream",
     "text": [
      "\n",
      "Attaching package: ‘magrittr’\n",
      "\n",
      "\n",
      "The following object is masked from ‘package:purrr’:\n",
      "\n",
      "    set_names\n",
      "\n",
      "\n",
      "The following object is masked from ‘package:tidyr’:\n",
      "\n",
      "    extract\n",
      "\n",
      "\n"
     ]
    }
   ],
=======
   "metadata": {},
   "outputs": [],
>>>>>>> b12ad5eee52d9d6be1496175ccd2573cade9da19
   "source": [
    "library(magrittr) # better handling of pipes\n",
    "library(purrr) # to work with lists and map functions\n",
    "library(glue) # to paste strings\n",
    "library(stringr) # to hand strings"
   ]
  },
  {
   "cell_type": "code",
   "execution_count": 21,
   "id": "ab8bb184-0b9c-45ba-ad81-0a04e652d04d",
<<<<<<< HEAD
   "metadata": {
    "vscode": {
     "languageId": "r"
    }
   },
   "outputs": [
    {
     "name": "stderr",
     "output_type": "stream",
     "text": [
      "\n",
      "Attaching package: ‘rvest’\n",
      "\n",
      "\n",
      "The following object is masked from ‘package:readr’:\n",
      "\n",
      "    guess_encoding\n",
      "\n",
      "\n"
     ]
    }
   ],
=======
   "metadata": {},
   "outputs": [],
>>>>>>> b12ad5eee52d9d6be1496175ccd2573cade9da19
   "source": [
    "# install.packages(\"rvest\")\n",
    "# remotes::install_github(\"dmi3kno/polite\")(\"politer\")\n",
    "# install.packages(\"xml2\")\n",
    "library(rvest) # rvest makes scraping easier\n",
    "library(polite) # polite is the \"polite\" version of rvest\n",
    "library(xml2) # makes it easier to work with HTML and XML from R"
   ]
  },
  {
   "cell_type": "code",
<<<<<<< HEAD
   "execution_count": 4,
   "id": "4a8800d3-a5cd-4f19-aeff-1c83c182ab90",
   "metadata": {
    "vscode": {
     "languageId": "r"
    }
   },
=======
   "execution_count": 16,
   "id": "4a8800d3-a5cd-4f19-aeff-1c83c182ab90",
   "metadata": {},
   "outputs": [],
   "source": [
    "auckland_url <- \"https://www.weatherwatch.co.nz/forecasts/Auckland\" \n",
    "wellington_url <- \"https://www.weatherwatch.co.nz/forecasts/Wellington\"\n",
    "hamilton_url <- \"https://www.weatherwatch.co.nz/forecasts/Hamilton\"\n",
    "tauranga_url <- \"https://www.weatherwatch.co.nz/forecasts/tauranga\"\n",
    "christchurch_url <- \"https://www.weatherwatch.co.nz/forecasts/christchurch\"\n",
    "dunedin_url <- \"https://www.weatherwatch.co.nz/forecasts/dunedin\""
   ]
  },
  {
   "cell_type": "code",
   "execution_count": 8,
   "id": "7c52a882-b651-4243-ba7a-b8aae2a52dc8",
   "metadata": {},
>>>>>>> b12ad5eee52d9d6be1496175ccd2573cade9da19
   "outputs": [
    {
     "data": {
      "text/plain": [
       "{html_document}\n",
       "<html>\n",
       "[1] <head>\\n<meta http-equiv=\"Content-Type\" content=\"text/html; charset=UTF-8 ...\n",
       "[2] <body>\\n<div id=\"__next\">\\n<div class=\"jsx-3479055027 browser\"><div class ..."
      ]
     },
     "metadata": {},
     "output_type": "display_data"
    }
   ],
   "source": [
    "# Read the HTML page by passing the url \n",
    "get_location_html <- function(location_url) {\n",
    "    location_html <- read_html(location_url) # Use read_html() function to get the HTML using the location url\n",
    "    return(location_html) # Return the result of reading the HTML\n",
    "}\n",
    "# Check the result of reading Auckland html\n",
    "auckland_html <- get_location_html(auckland_url)\n",
    "auckland_html"
   ]
  },
  {
   "cell_type": "code",
<<<<<<< HEAD
   "execution_count": 5,
   "id": "0262082d-b06e-4cd9-8bf9-54e173615e13",
   "metadata": {
    "vscode": {
     "languageId": "r"
    }
   },
   "outputs": [
    {
     "data": {
      "text/html": [
       "'list'"
      ],
      "text/latex": [
       "'list'"
      ],
      "text/markdown": [
       "'list'"
      ],
      "text/plain": [
       "[1] \"list\""
      ]
     },
     "metadata": {},
     "output_type": "display_data"
    },
    {
     "name": "stdout",
     "output_type": "stream",
     "text": [
      "List of 2\n",
      " $ node:<externalptr> \n",
      " $ doc :<externalptr> \n",
      " - attr(*, \"class\")= chr [1:2] \"xml_document\" \"xml_node\"\n"
     ]
    }
   ],
   "source": [
    "auckland_html %>% typeof()\n",
    "auckland_html %>% glimpse()"
   ]
  },
  {
   "cell_type": "code",
   "execution_count": 6,
   "id": "b9c8fdf4-b2c8-437f-84c6-ef749c09bc18",
   "metadata": {
    "vscode": {
     "languageId": "r"
    }
   },
   "outputs": [
    {
     "ename": "ERROR",
     "evalue": "Error in eval(expr, envir, enclos): object 'auckland_dates' not found\n",
     "output_type": "error",
     "traceback": [
      "Error in eval(expr, envir, enclos): object 'auckland_dates' not found\nTraceback:\n"
     ]
=======
   "execution_count": 10,
   "id": "0b3e1355-7f86-4945-a348-a61068979e12",
   "metadata": {},
   "outputs": [
    {
     "data": {
      "text/html": [
       "<style>\n",
       ".list-inline {list-style: none; margin:0; padding: 0}\n",
       ".list-inline>li {display: inline-block}\n",
       ".list-inline>li:not(:last-child)::after {content: \"\\00b7\"; padding: 0 .5ex}\n",
       "</style>\n",
       "<ol class=list-inline><li>'Wed 19 Oct'</li><li>'Thu 20 Oct'</li><li>'Fri 21 Oct'</li><li>'Sat 22 Oct'</li><li>'Sun 23 Oct'</li><li>'Mon 24 Oct'</li><li>'Tue 25 Oct'</li><li>'Wed 26 Oct'</li><li>'Thu 27 Oct'</li></ol>\n"
      ],
      "text/latex": [
       "\\begin{enumerate*}\n",
       "\\item 'Wed 19 Oct'\n",
       "\\item 'Thu 20 Oct'\n",
       "\\item 'Fri 21 Oct'\n",
       "\\item 'Sat 22 Oct'\n",
       "\\item 'Sun 23 Oct'\n",
       "\\item 'Mon 24 Oct'\n",
       "\\item 'Tue 25 Oct'\n",
       "\\item 'Wed 26 Oct'\n",
       "\\item 'Thu 27 Oct'\n",
       "\\end{enumerate*}\n"
      ],
      "text/markdown": [
       "1. 'Wed 19 Oct'\n",
       "2. 'Thu 20 Oct'\n",
       "3. 'Fri 21 Oct'\n",
       "4. 'Sat 22 Oct'\n",
       "5. 'Sun 23 Oct'\n",
       "6. 'Mon 24 Oct'\n",
       "7. 'Tue 25 Oct'\n",
       "8. 'Wed 26 Oct'\n",
       "9. 'Thu 27 Oct'\n",
       "\n",
       "\n"
      ],
      "text/plain": [
       "[1] \"Wed 19 Oct\" \"Thu 20 Oct\" \"Fri 21 Oct\" \"Sat 22 Oct\" \"Sun 23 Oct\"\n",
       "[6] \"Mon 24 Oct\" \"Tue 25 Oct\" \"Wed 26 Oct\" \"Thu 27 Oct\""
      ]
     },
     "metadata": {},
     "output_type": "display_data"
>>>>>>> b12ad5eee52d9d6be1496175ccd2573cade9da19
    }
   ],
   "source": [
    "# Getting the date for the particular location using the selector\n",
    "get_dates <- function(location_html) {\n",
    "    dates <- location_html %>% html_nodes(\".date\") %>% html_text() # Using selector date to get the date\n",
    "    index <- 1:18 # Since the result being passed doubled or duplicate data, we only take one \n",
    "    date <- dates[index%%2==0]\n",
    "    return(date)\n",
    "}\n",
    "# Check if it is returning the right date\n",
    "auckland_date <- get_dates(auckland_html)\n",
    "auckland_date"
   ]
  },
  {
   "cell_type": "code",
<<<<<<< HEAD
   "execution_count": null,
   "id": "2a1ed3c9-25db-430b-ab8b-ed3005a21ded",
   "metadata": {
    "vscode": {
     "languageId": "r"
    }
   },
=======
   "execution_count": 11,
   "id": "a8ef860d-25ab-4d47-8c5a-0e60939325df",
   "metadata": {},
>>>>>>> b12ad5eee52d9d6be1496175ccd2573cade9da19
   "outputs": [
    {
     "data": {
      "text/html": [
       "<style>\n",
       ".list-inline {list-style: none; margin:0; padding: 0}\n",
       ".list-inline>li {display: inline-block}\n",
       ".list-inline>li:not(:last-child)::after {content: \"\\00b7\"; padding: 0 .5ex}\n",
       "</style>\n",
       "<ol class=list-inline><li>'17°Day'</li><li>'17°Day'</li><li>'17°Day'</li><li>'18°Day'</li><li>'19°Day'</li><li>'19°Day'</li><li>'19°Day'</li><li>'19°Day'</li><li>'19°Day'</li></ol>\n"
      ],
      "text/latex": [
       "\\begin{enumerate*}\n",
       "\\item '17°Day'\n",
       "\\item '17°Day'\n",
       "\\item '17°Day'\n",
       "\\item '18°Day'\n",
       "\\item '19°Day'\n",
       "\\item '19°Day'\n",
       "\\item '19°Day'\n",
       "\\item '19°Day'\n",
       "\\item '19°Day'\n",
       "\\end{enumerate*}\n"
      ],
      "text/markdown": [
       "1. '17°Day'\n",
       "2. '17°Day'\n",
       "3. '17°Day'\n",
       "4. '18°Day'\n",
       "5. '19°Day'\n",
       "6. '19°Day'\n",
       "7. '19°Day'\n",
       "8. '19°Day'\n",
       "9. '19°Day'\n",
       "\n",
       "\n"
      ],
      "text/plain": [
       "[1] \"17°Day\" \"17°Day\" \"17°Day\" \"18°Day\" \"19°Day\" \"19°Day\" \"19°Day\" \"19°Day\"\n",
       "[9] \"19°Day\""
      ]
     },
     "metadata": {},
     "output_type": "display_data"
    }
   ],
   "source": [
    "# Getting the maximum temperature for the particular location\n",
    "get_max_temp <- function(location_html) {\n",
    "    max_temp <- location_html %>% html_nodes(\".high\") %>% html_text() # Using the selector .high to select the temperature\n",
    "    return(max_temp)\n",
    "}\n",
    "# Check if it is returning the right temperature\n",
    "auckland_max_temp <- get_max_temp(auckland_html)\n",
    "auckland_max_temp"
   ]
  },
  {
   "cell_type": "code",
<<<<<<< HEAD
   "execution_count": null,
   "id": "d5c09b70-3b85-4908-93ef-7019a4dc87ad",
   "metadata": {
    "vscode": {
     "languageId": "r"
    }
   },
=======
   "execution_count": 12,
   "id": "83baae30-f544-43d1-b091-27affe91a8fc",
   "metadata": {},
>>>>>>> b12ad5eee52d9d6be1496175ccd2573cade9da19
   "outputs": [
    {
     "data": {
      "text/html": [
       "<style>\n",
       ".list-inline {list-style: none; margin:0; padding: 0}\n",
       ".list-inline>li {display: inline-block}\n",
       ".list-inline>li:not(:last-child)::after {content: \"\\00b7\"; padding: 0 .5ex}\n",
       "</style>\n",
<<<<<<< HEAD
       "<ol class=list-inline><li>'14°Day'</li><li>'14°Day'</li><li>'15°Day'</li><li>'15°Day'</li><li>'14°Day'</li><li>'13°Day'</li><li>'13°Day'</li><li>'15°Day'</li><li>'14°Day'</li></ol>\n"
      ],
      "text/latex": [
       "\\begin{enumerate*}\n",
       "\\item '14°Day'\n",
       "\\item '14°Day'\n",
       "\\item '15°Day'\n",
       "\\item '15°Day'\n",
       "\\item '14°Day'\n",
       "\\item '13°Day'\n",
       "\\item '13°Day'\n",
       "\\item '15°Day'\n",
       "\\item '14°Day'\n",
       "\\end{enumerate*}\n"
      ],
      "text/markdown": [
       "1. '14°Day'\n",
       "2. '14°Day'\n",
       "3. '15°Day'\n",
       "4. '15°Day'\n",
       "5. '14°Day'\n",
       "6. '13°Day'\n",
       "7. '13°Day'\n",
       "8. '15°Day'\n",
       "9. '14°Day'\n",
       "\n",
       "\n"
      ],
      "text/plain": [
       "[1] \"14°Day\" \"14°Day\" \"15°Day\" \"15°Day\" \"14°Day\" \"13°Day\" \"13°Day\" \"15°Day\"\n",
       "[9] \"14°Day\""
      ]
     },
     "metadata": {},
     "output_type": "display_data"
    }
   ],
   "source": [
    "wellington_max_temp <- wellington_html %>% html_nodes(\".high\") %>% html_text()\n",
    "wellington_max_temp"
   ]
  },
  {
   "cell_type": "code",
   "execution_count": null,
   "id": "678d75b2-a584-4fd8-befb-57cb12fc37ae",
   "metadata": {
    "vscode": {
     "languageId": "r"
    }
   },
   "outputs": [
    {
     "data": {
      "text/html": [
       "<style>\n",
       ".list-inline {list-style: none; margin:0; padding: 0}\n",
       ".list-inline>li {display: inline-block}\n",
       ".list-inline>li:not(:last-child)::after {content: \"\\00b7\"; padding: 0 .5ex}\n",
       "</style>\n",
       "<ol class=list-inline><li>'18°Day'</li><li>'18°Day'</li><li>'19°Day'</li><li>'19°Day'</li><li>'19°Day'</li><li>'19°Day'</li><li>'19°Day'</li><li>'18°Day'</li><li>'18°Day'</li></ol>\n"
      ],
      "text/latex": [
       "\\begin{enumerate*}\n",
       "\\item '18°Day'\n",
       "\\item '18°Day'\n",
       "\\item '19°Day'\n",
       "\\item '19°Day'\n",
       "\\item '19°Day'\n",
       "\\item '19°Day'\n",
       "\\item '19°Day'\n",
       "\\item '18°Day'\n",
       "\\item '18°Day'\n",
       "\\end{enumerate*}\n"
      ],
      "text/markdown": [
       "1. '18°Day'\n",
       "2. '18°Day'\n",
       "3. '19°Day'\n",
       "4. '19°Day'\n",
       "5. '19°Day'\n",
       "6. '19°Day'\n",
       "7. '19°Day'\n",
       "8. '18°Day'\n",
       "9. '18°Day'\n",
       "\n",
       "\n"
      ],
      "text/plain": [
       "[1] \"18°Day\" \"18°Day\" \"19°Day\" \"19°Day\" \"19°Day\" \"19°Day\" \"19°Day\" \"18°Day\"\n",
       "[9] \"18°Day\""
      ]
     },
     "metadata": {},
     "output_type": "display_data"
    }
   ],
   "source": [
    "hamilton_max_temp <- hamilton_html %>% html_nodes(\".high\") %>% html_text()\n",
    "hamilton_max_temp"
   ]
  },
  {
   "cell_type": "code",
   "execution_count": null,
   "id": "9ba1bb78-8bd3-4394-80eb-abb09ff98069",
   "metadata": {
    "vscode": {
     "languageId": "r"
    }
   },
   "outputs": [
    {
     "data": {
      "text/html": [
       "<style>\n",
       ".list-inline {list-style: none; margin:0; padding: 0}\n",
       ".list-inline>li {display: inline-block}\n",
       ".list-inline>li:not(:last-child)::after {content: \"\\00b7\"; padding: 0 .5ex}\n",
       "</style>\n",
       "<ol class=list-inline><li>'16°Day'</li><li>'15°Day'</li><li>'16°Day'</li><li>'17°Day'</li><li>'17°Day'</li><li>'16°Day'</li><li>'17°Day'</li><li>'16°Day'</li><li>'15°Day'</li></ol>\n"
      ],
      "text/latex": [
       "\\begin{enumerate*}\n",
       "\\item '16°Day'\n",
       "\\item '15°Day'\n",
       "\\item '16°Day'\n",
       "\\item '17°Day'\n",
       "\\item '17°Day'\n",
       "\\item '16°Day'\n",
       "\\item '17°Day'\n",
       "\\item '16°Day'\n",
       "\\item '15°Day'\n",
       "\\end{enumerate*}\n"
      ],
      "text/markdown": [
       "1. '16°Day'\n",
       "2. '15°Day'\n",
       "3. '16°Day'\n",
       "4. '17°Day'\n",
       "5. '17°Day'\n",
       "6. '16°Day'\n",
       "7. '17°Day'\n",
       "8. '16°Day'\n",
       "9. '15°Day'\n",
       "\n",
       "\n"
      ],
      "text/plain": [
       "[1] \"16°Day\" \"15°Day\" \"16°Day\" \"17°Day\" \"17°Day\" \"16°Day\" \"17°Day\" \"16°Day\"\n",
       "[9] \"15°Day\""
      ]
     },
     "metadata": {},
     "output_type": "display_data"
    }
   ],
   "source": [
    "tauranga_max_temp <- tauranga_html %>% html_nodes(\".high\") %>% html_text()\n",
    "tauranga_max_temp"
   ]
  },
  {
   "cell_type": "code",
   "execution_count": null,
   "id": "645c2cd9-8d22-4be6-8702-552594445aba",
   "metadata": {
    "vscode": {
     "languageId": "r"
    }
   },
   "outputs": [
    {
     "data": {
      "text/html": [
       "<style>\n",
       ".list-inline {list-style: none; margin:0; padding: 0}\n",
       ".list-inline>li {display: inline-block}\n",
       ".list-inline>li:not(:last-child)::after {content: \"\\00b7\"; padding: 0 .5ex}\n",
       "</style>\n",
       "<ol class=list-inline><li>'16°Day'</li><li>'19°Day'</li><li>'19°Day'</li><li>'18°Day'</li><li>'12°Day'</li><li>'13°Day'</li><li>'13°Day'</li><li>'15°Day'</li><li>'15°Day'</li></ol>\n"
      ],
      "text/latex": [
       "\\begin{enumerate*}\n",
       "\\item '16°Day'\n",
       "\\item '19°Day'\n",
       "\\item '19°Day'\n",
       "\\item '18°Day'\n",
       "\\item '12°Day'\n",
       "\\item '13°Day'\n",
       "\\item '13°Day'\n",
       "\\item '15°Day'\n",
       "\\item '15°Day'\n",
       "\\end{enumerate*}\n"
      ],
      "text/markdown": [
       "1. '16°Day'\n",
       "2. '19°Day'\n",
       "3. '19°Day'\n",
       "4. '18°Day'\n",
       "5. '12°Day'\n",
       "6. '13°Day'\n",
       "7. '13°Day'\n",
       "8. '15°Day'\n",
       "9. '15°Day'\n",
       "\n",
       "\n"
      ],
      "text/plain": [
       "[1] \"16°Day\" \"19°Day\" \"19°Day\" \"18°Day\" \"12°Day\" \"13°Day\" \"13°Day\" \"15°Day\"\n",
       "[9] \"15°Day\""
      ]
     },
     "metadata": {},
     "output_type": "display_data"
    }
   ],
   "source": [
    "christchurch_max_temp <- christchurch_html %>% html_nodes(\".high\") %>% html_text()\n",
    "christchurch_max_temp"
   ]
  },
  {
   "cell_type": "code",
   "execution_count": null,
   "id": "a17cfaf1-b41d-4874-abad-676cfc00067d",
   "metadata": {
    "vscode": {
     "languageId": "r"
    }
   },
   "outputs": [
    {
     "data": {
      "text/html": [
       "<style>\n",
       ".list-inline {list-style: none; margin:0; padding: 0}\n",
       ".list-inline>li {display: inline-block}\n",
       ".list-inline>li:not(:last-child)::after {content: \"\\00b7\"; padding: 0 .5ex}\n",
       "</style>\n",
       "<ol class=list-inline><li>'14°Day'</li><li>'17°Day'</li><li>'15°Day'</li><li>'13°Day'</li><li>'11°Day'</li><li>'11°Day'</li><li>'12°Day'</li><li>'13°Day'</li><li>'13°Day'</li></ol>\n"
      ],
      "text/latex": [
       "\\begin{enumerate*}\n",
       "\\item '14°Day'\n",
       "\\item '17°Day'\n",
       "\\item '15°Day'\n",
       "\\item '13°Day'\n",
       "\\item '11°Day'\n",
       "\\item '11°Day'\n",
       "\\item '12°Day'\n",
       "\\item '13°Day'\n",
       "\\item '13°Day'\n",
       "\\end{enumerate*}\n"
      ],
      "text/markdown": [
       "1. '14°Day'\n",
       "2. '17°Day'\n",
       "3. '15°Day'\n",
       "4. '13°Day'\n",
       "5. '11°Day'\n",
       "6. '11°Day'\n",
       "7. '12°Day'\n",
       "8. '13°Day'\n",
       "9. '13°Day'\n",
       "\n",
       "\n"
      ],
      "text/plain": [
       "[1] \"14°Day\" \"17°Day\" \"15°Day\" \"13°Day\" \"11°Day\" \"11°Day\" \"12°Day\" \"13°Day\"\n",
       "[9] \"13°Day\""
      ]
     },
     "metadata": {},
     "output_type": "display_data"
    }
   ],
   "source": [
    "dunedin_max_temp <- dunedin_html %>% html_nodes(\".high\") %>% html_text()\n",
    "dunedin_max_temp"
   ]
  },
  {
   "cell_type": "code",
   "execution_count": null,
   "id": "a4cbd1e8-7333-4ebf-bdc4-28f45ba66253",
   "metadata": {
    "vscode": {
     "languageId": "r"
    }
   },
   "outputs": [
    {
     "data": {
      "text/html": [
       "<style>\n",
       ".list-inline {list-style: none; margin:0; padding: 0}\n",
       ".list-inline>li {display: inline-block}\n",
       ".list-inline>li:not(:last-child)::after {content: \"\\00b7\"; padding: 0 .5ex}\n",
       "</style>\n",
       "<ol class=list-inline><li>'12°Night'</li><li>'13°Night'</li><li>'13°Night'</li><li>'13°Night'</li><li>'13°Night'</li><li>'12°Night'</li><li>'13°Night'</li><li>'13°Night'</li><li>'13°Night'</li></ol>\n"
=======
       "<ol class=list-inline><li>'12°Night'</li><li>'10°Night'</li><li>'10°Night'</li><li>'11°Night'</li><li>'13°Night'</li><li>'12°Night'</li><li>'13°Night'</li><li>'13°Night'</li><li>'14°Night'</li></ol>\n"
>>>>>>> b12ad5eee52d9d6be1496175ccd2573cade9da19
      ],
      "text/latex": [
       "\\begin{enumerate*}\n",
       "\\item '12°Night'\n",
       "\\item '10°Night'\n",
       "\\item '10°Night'\n",
       "\\item '11°Night'\n",
       "\\item '13°Night'\n",
       "\\item '12°Night'\n",
       "\\item '13°Night'\n",
       "\\item '13°Night'\n",
       "\\item '14°Night'\n",
       "\\end{enumerate*}\n"
      ],
      "text/markdown": [
       "1. '12°Night'\n",
       "2. '10°Night'\n",
       "3. '10°Night'\n",
       "4. '11°Night'\n",
       "5. '13°Night'\n",
       "6. '12°Night'\n",
       "7. '13°Night'\n",
       "8. '13°Night'\n",
       "9. '14°Night'\n",
       "\n",
       "\n"
      ],
      "text/plain": [
       "[1] \"12°Night\" \"10°Night\" \"10°Night\" \"11°Night\" \"13°Night\" \"12°Night\" \"13°Night\"\n",
       "[8] \"13°Night\" \"14°Night\""
      ]
     },
     "metadata": {},
     "output_type": "display_data"
    }
   ],
   "source": [
    "# Getting the minimum temperature for the particular location\n",
    "get_min_temp <- function(location_html) {\n",
    "    min_temp <- location_html %>% html_nodes(\".low\") %>% html_text() # Using the selector .low to select the temperature\n",
    "    return(min_temp)\n",
    "}\n",
    "# Check if it is returning the right temperature\n",
    "auckland_min_temp <- get_min_temp(auckland_html)\n",
    "auckland_min_temp"
   ]
  },
  {
   "cell_type": "code",
<<<<<<< HEAD
   "execution_count": null,
   "id": "c7cab588-8184-48ad-957b-5e00ddbe0638",
   "metadata": {
    "vscode": {
     "languageId": "r"
    }
   },
=======
   "execution_count": 13,
   "id": "c8b981fb-00a3-41f7-a6bf-d7b3b90212a9",
   "metadata": {},
>>>>>>> b12ad5eee52d9d6be1496175ccd2573cade9da19
   "outputs": [
    {
     "data": {
      "text/html": [
       "<style>\n",
       ".list-inline {list-style: none; margin:0; padding: 0}\n",
       ".list-inline>li {display: inline-block}\n",
       ".list-inline>li:not(:last-child)::after {content: \"\\00b7\"; padding: 0 .5ex}\n",
       "</style>\n",
       "<ol class=list-inline><li>'Showers. Breezy to brisk West to Sou\\'West winds.'</li><li>'Showers. Fairly breezy South to Sou\\'West winds.'</li><li>'Mostly sunny. Breezy East to Nor\\'East winds.'</li><li>'Mainly sunny. Fairly breezy Sou\\'West winds.'</li><li>'Partly cloudy. Fairly breezy Sou\\'West winds.'</li><li>'Partly cloudy. Fairly breezy Sou\\'West winds.'</li><li>'Mostly cloudy. Breezy West to Sou\\'West winds.'</li><li>'Morning showers. Fairly breezy Nor\\'West winds.'</li><li>'Light rain. Breezy Northerly winds.'</li></ol>\n"
      ],
      "text/latex": [
       "\\begin{enumerate*}\n",
       "\\item 'Showers. Breezy to brisk West to Sou\\textbackslash{}'West winds.'\n",
       "\\item 'Showers. Fairly breezy South to Sou\\textbackslash{}'West winds.'\n",
       "\\item 'Mostly sunny. Breezy East to Nor\\textbackslash{}'East winds.'\n",
       "\\item 'Mainly sunny. Fairly breezy Sou\\textbackslash{}'West winds.'\n",
       "\\item 'Partly cloudy. Fairly breezy Sou\\textbackslash{}'West winds.'\n",
       "\\item 'Partly cloudy. Fairly breezy Sou\\textbackslash{}'West winds.'\n",
       "\\item 'Mostly cloudy. Breezy West to Sou\\textbackslash{}'West winds.'\n",
       "\\item 'Morning showers. Fairly breezy Nor\\textbackslash{}'West winds.'\n",
       "\\item 'Light rain. Breezy Northerly winds.'\n",
       "\\end{enumerate*}\n"
      ],
      "text/markdown": [
       "1. 'Showers. Breezy to brisk West to Sou\\'West winds.'\n",
       "2. 'Showers. Fairly breezy South to Sou\\'West winds.'\n",
       "3. 'Mostly sunny. Breezy East to Nor\\'East winds.'\n",
       "4. 'Mainly sunny. Fairly breezy Sou\\'West winds.'\n",
       "5. 'Partly cloudy. Fairly breezy Sou\\'West winds.'\n",
       "6. 'Partly cloudy. Fairly breezy Sou\\'West winds.'\n",
       "7. 'Mostly cloudy. Breezy West to Sou\\'West winds.'\n",
       "8. 'Morning showers. Fairly breezy Nor\\'West winds.'\n",
       "9. 'Light rain. Breezy Northerly winds.'\n",
       "\n",
       "\n"
      ],
      "text/plain": [
       "[1] \"Showers. Breezy to brisk West to Sou'West winds.\"\n",
       "[2] \"Showers. Fairly breezy South to Sou'West winds.\" \n",
       "[3] \"Mostly sunny. Breezy East to Nor'East winds.\"    \n",
       "[4] \"Mainly sunny. Fairly breezy Sou'West winds.\"     \n",
       "[5] \"Partly cloudy. Fairly breezy Sou'West winds.\"    \n",
       "[6] \"Partly cloudy. Fairly breezy Sou'West winds.\"    \n",
       "[7] \"Mostly cloudy. Breezy West to Sou'West winds.\"   \n",
       "[8] \"Morning showers. Fairly breezy Nor'West winds.\"  \n",
       "[9] \"Light rain. Breezy Northerly winds.\"             "
      ]
     },
     "metadata": {},
     "output_type": "display_data"
    }
   ],
   "source": [
<<<<<<< HEAD
    "hamilton_min_temp <- hamilton_html %>% html_nodes(\".low\") %>% html_text()\n",
    "hamilton_min_temp"
   ]
  },
  {
   "cell_type": "code",
   "execution_count": null,
   "id": "0bb8d39e-51f3-4a4e-aecd-a177b5dd0341",
   "metadata": {
    "vscode": {
     "languageId": "r"
    }
   },
   "outputs": [
    {
     "data": {
      "text/html": [
       "<style>\n",
       ".list-inline {list-style: none; margin:0; padding: 0}\n",
       ".list-inline>li {display: inline-block}\n",
       ".list-inline>li:not(:last-child)::after {content: \"\\00b7\"; padding: 0 .5ex}\n",
       "</style>\n",
       "<ol class=list-inline><li>'10°Night'</li><li>'11°Night'</li><li>'12°Night'</li><li>'11°Night'</li><li>'11°Night'</li><li>'10°Night'</li><li>'10°Night'</li><li>'11°Night'</li><li>'12°Night'</li></ol>\n"
      ],
      "text/latex": [
       "\\begin{enumerate*}\n",
       "\\item '10°Night'\n",
       "\\item '11°Night'\n",
       "\\item '12°Night'\n",
       "\\item '11°Night'\n",
       "\\item '11°Night'\n",
       "\\item '10°Night'\n",
       "\\item '10°Night'\n",
       "\\item '11°Night'\n",
       "\\item '12°Night'\n",
       "\\end{enumerate*}\n"
      ],
      "text/markdown": [
       "1. '10°Night'\n",
       "2. '11°Night'\n",
       "3. '12°Night'\n",
       "4. '11°Night'\n",
       "5. '11°Night'\n",
       "6. '10°Night'\n",
       "7. '10°Night'\n",
       "8. '11°Night'\n",
       "9. '12°Night'\n",
       "\n",
       "\n"
      ],
      "text/plain": [
       "[1] \"10°Night\" \"11°Night\" \"12°Night\" \"11°Night\" \"11°Night\" \"10°Night\" \"10°Night\"\n",
       "[8] \"11°Night\" \"12°Night\""
      ]
     },
     "metadata": {},
     "output_type": "display_data"
    }
   ],
   "source": [
    "tauranga_min_temp <- tauranga_html %>% html_nodes(\".low\") %>% html_text()\n",
    "tauranga_min_temp"
   ]
  },
  {
   "cell_type": "code",
   "execution_count": null,
   "id": "e6674cd7-4030-41a7-964f-8402a957ca95",
   "metadata": {
    "vscode": {
     "languageId": "r"
    }
   },
   "outputs": [
    {
     "data": {
      "text/html": [
       "<style>\n",
       ".list-inline {list-style: none; margin:0; padding: 0}\n",
       ".list-inline>li {display: inline-block}\n",
       ".list-inline>li:not(:last-child)::after {content: \"\\00b7\"; padding: 0 .5ex}\n",
       "</style>\n",
       "<ol class=list-inline><li>'5°Night'</li><li>'8°Night'</li><li>'12°Night'</li><li>'8°Night'</li><li>'6°Night'</li><li>'6°Night'</li><li>'7°Night'</li><li>'8°Night'</li><li>'9°Night'</li></ol>\n"
      ],
      "text/latex": [
       "\\begin{enumerate*}\n",
       "\\item '5°Night'\n",
       "\\item '8°Night'\n",
       "\\item '12°Night'\n",
       "\\item '8°Night'\n",
       "\\item '6°Night'\n",
       "\\item '6°Night'\n",
       "\\item '7°Night'\n",
       "\\item '8°Night'\n",
       "\\item '9°Night'\n",
       "\\end{enumerate*}\n"
      ],
      "text/markdown": [
       "1. '5°Night'\n",
       "2. '8°Night'\n",
       "3. '12°Night'\n",
       "4. '8°Night'\n",
       "5. '6°Night'\n",
       "6. '6°Night'\n",
       "7. '7°Night'\n",
       "8. '8°Night'\n",
       "9. '9°Night'\n",
       "\n",
       "\n"
      ],
      "text/plain": [
       "[1] \"5°Night\"  \"8°Night\"  \"12°Night\" \"8°Night\"  \"6°Night\"  \"6°Night\"  \"7°Night\" \n",
       "[8] \"8°Night\"  \"9°Night\" "
      ]
     },
     "metadata": {},
     "output_type": "display_data"
    }
   ],
   "source": [
    "christchurch_min_temp <- christchurch_html %>% html_nodes(\".low\") %>% html_text()\n",
    "christchurch_min_temp"
   ]
  },
  {
   "cell_type": "code",
   "execution_count": null,
   "id": "6e1042bc-8f7d-4fcf-b9e4-c5e6c3d74864",
   "metadata": {
    "vscode": {
     "languageId": "r"
    }
   },
   "outputs": [
    {
     "data": {
      "text/html": [
       "<style>\n",
       ".list-inline {list-style: none; margin:0; padding: 0}\n",
       ".list-inline>li {display: inline-block}\n",
       ".list-inline>li:not(:last-child)::after {content: \"\\00b7\"; padding: 0 .5ex}\n",
       "</style>\n",
       "<ol class=list-inline><li>'6°Night'</li><li>'10°Night'</li><li>'8°Night'</li><li>'5°Night'</li><li>'5°Night'</li><li>'6°Night'</li><li>'6°Night'</li><li>'7°Night'</li><li>'8°Night'</li></ol>\n"
      ],
      "text/latex": [
       "\\begin{enumerate*}\n",
       "\\item '6°Night'\n",
       "\\item '10°Night'\n",
       "\\item '8°Night'\n",
       "\\item '5°Night'\n",
       "\\item '5°Night'\n",
       "\\item '6°Night'\n",
       "\\item '6°Night'\n",
       "\\item '7°Night'\n",
       "\\item '8°Night'\n",
       "\\end{enumerate*}\n"
      ],
      "text/markdown": [
       "1. '6°Night'\n",
       "2. '10°Night'\n",
       "3. '8°Night'\n",
       "4. '5°Night'\n",
       "5. '5°Night'\n",
       "6. '6°Night'\n",
       "7. '6°Night'\n",
       "8. '7°Night'\n",
       "9. '8°Night'\n",
       "\n",
       "\n"
      ],
      "text/plain": [
       "[1] \"6°Night\"  \"10°Night\" \"8°Night\"  \"5°Night\"  \"5°Night\"  \"6°Night\"  \"6°Night\" \n",
       "[8] \"7°Night\"  \"8°Night\" "
      ]
     },
     "metadata": {},
     "output_type": "display_data"
    }
   ],
   "source": [
    "dunedin_min_temp <- dunedin_html %>% html_nodes(\".low\") %>% html_text()\n",
    "dunedin_min_temp"
   ]
  },
  {
   "cell_type": "code",
   "execution_count": null,
   "id": "7deb635b-f498-416f-853b-71cf7558809d",
   "metadata": {
    "vscode": {
     "languageId": "r"
    }
   },
   "outputs": [
    {
     "data": {
      "text/html": [
       "<style>\n",
       ".list-inline {list-style: none; margin:0; padding: 0}\n",
       ".list-inline>li {display: inline-block}\n",
       ".list-inline>li:not(:last-child)::after {content: \"\\00b7\"; padding: 0 .5ex}\n",
       "</style>\n",
       "<ol class=list-inline><li>'11°Night'</li><li>'11°Night'</li><li>'13°Night'</li><li>'10°Night'</li><li>'9°Night'</li><li>'9°Night'</li><li>'9°Night'</li><li>'10°Night'</li><li>'10°Night'</li></ol>\n"
      ],
      "text/latex": [
       "\\begin{enumerate*}\n",
       "\\item '11°Night'\n",
       "\\item '11°Night'\n",
       "\\item '13°Night'\n",
       "\\item '10°Night'\n",
       "\\item '9°Night'\n",
       "\\item '9°Night'\n",
       "\\item '9°Night'\n",
       "\\item '10°Night'\n",
       "\\item '10°Night'\n",
       "\\end{enumerate*}\n"
      ],
      "text/markdown": [
       "1. '11°Night'\n",
       "2. '11°Night'\n",
       "3. '13°Night'\n",
       "4. '10°Night'\n",
       "5. '9°Night'\n",
       "6. '9°Night'\n",
       "7. '9°Night'\n",
       "8. '10°Night'\n",
       "9. '10°Night'\n",
       "\n",
       "\n"
      ],
      "text/plain": [
       "[1] \"11°Night\" \"11°Night\" \"13°Night\" \"10°Night\" \"9°Night\"  \"9°Night\"  \"9°Night\" \n",
       "[8] \"10°Night\" \"10°Night\""
      ]
     },
     "metadata": {},
     "output_type": "display_data"
    }
   ],
   "source": [
    "wellington_min_temp <- wellington_html %>% html_nodes(\".low\") %>% html_text()\n",
    "wellington_min_temp"
   ]
  },
  {
   "cell_type": "code",
   "execution_count": null,
   "id": "a86526e8-ee29-42ab-b859-564142dc7903",
   "metadata": {
    "vscode": {
     "languageId": "r"
    }
   },
   "outputs": [
    {
     "data": {
      "text/html": [
       "<style>\n",
       ".list-inline {list-style: none; margin:0; padding: 0}\n",
       ".list-inline>li {display: inline-block}\n",
       ".list-inline>li:not(:last-child)::after {content: \"\\00b7\"; padding: 0 .5ex}\n",
       "</style>\n",
       "<ol class=list-inline><li>'Partly cloudy. Fairly breezy Nor\\'East winds.'</li><li>'Partly cloudy. Fairly breezy Nor\\'East winds.'</li><li>'Partly cloudy. Fairly breezy North to Nor\\'East winds.'</li><li>'Afternoon showers. Fairly breezy Northerly winds.'</li><li>'Light rain developing in the afternoon. Breezy North to Nor\\'West winds.'</li><li>'Light rain. Breezy Sou\\'East winds.'</li><li>'Showers. Fairly breezy East to Nor\\'East winds.'</li><li>'Showers. Fairly breezy Nor\\'East winds.'</li><li>'Rain. Fairly breezy Northerly winds.'</li></ol>\n"
      ],
      "text/latex": [
       "\\begin{enumerate*}\n",
       "\\item 'Partly cloudy. Fairly breezy Nor\\textbackslash{}'East winds.'\n",
       "\\item 'Partly cloudy. Fairly breezy Nor\\textbackslash{}'East winds.'\n",
       "\\item 'Partly cloudy. Fairly breezy North to Nor\\textbackslash{}'East winds.'\n",
       "\\item 'Afternoon showers. Fairly breezy Northerly winds.'\n",
       "\\item 'Light rain developing in the afternoon. Breezy North to Nor\\textbackslash{}'West winds.'\n",
       "\\item 'Light rain. Breezy Sou\\textbackslash{}'East winds.'\n",
       "\\item 'Showers. Fairly breezy East to Nor\\textbackslash{}'East winds.'\n",
       "\\item 'Showers. Fairly breezy Nor\\textbackslash{}'East winds.'\n",
       "\\item 'Rain. Fairly breezy Northerly winds.'\n",
       "\\end{enumerate*}\n"
      ],
      "text/markdown": [
       "1. 'Partly cloudy. Fairly breezy Nor\\'East winds.'\n",
       "2. 'Partly cloudy. Fairly breezy Nor\\'East winds.'\n",
       "3. 'Partly cloudy. Fairly breezy North to Nor\\'East winds.'\n",
       "4. 'Afternoon showers. Fairly breezy Northerly winds.'\n",
       "5. 'Light rain developing in the afternoon. Breezy North to Nor\\'West winds.'\n",
       "6. 'Light rain. Breezy Sou\\'East winds.'\n",
       "7. 'Showers. Fairly breezy East to Nor\\'East winds.'\n",
       "8. 'Showers. Fairly breezy Nor\\'East winds.'\n",
       "9. 'Rain. Fairly breezy Northerly winds.'\n",
       "\n",
       "\n"
      ],
      "text/plain": [
       "[1] \"Partly cloudy. Fairly breezy Nor'East winds.\"                           \n",
       "[2] \"Partly cloudy. Fairly breezy Nor'East winds.\"                           \n",
       "[3] \"Partly cloudy. Fairly breezy North to Nor'East winds.\"                  \n",
       "[4] \"Afternoon showers. Fairly breezy Northerly winds.\"                      \n",
       "[5] \"Light rain developing in the afternoon. Breezy North to Nor'West winds.\"\n",
       "[6] \"Light rain. Breezy Sou'East winds.\"                                     \n",
       "[7] \"Showers. Fairly breezy East to Nor'East winds.\"                         \n",
       "[8] \"Showers. Fairly breezy Nor'East winds.\"                                 \n",
       "[9] \"Rain. Fairly breezy Northerly winds.\"                                   "
      ]
     },
     "metadata": {},
     "output_type": "display_data"
    }
   ],
   "source": [
    "weathers <- auckland_html %>% html_nodes(\".larger\") %>% html_text()\n",
    "index <- 1:18\n",
    "auckland_weather <- weathers[index%%2==0]\n",
=======
    "# Getting the weather from the particular location\n",
    "get_weathers <- function(location_html) {\n",
    "    weathers <- location_html %>% html_nodes(\".larger\") %>% html_text() # Using the selector called .larger to get the weather condition for the particular location\n",
    "    index <- 1:18\n",
    "    weather <- weathers[index%%2==0]\n",
    "    return(weather)\n",
    "}\n",
    "# Check if it is returning the right data\n",
    "auckland_weather <- get_weathers(auckland_html)\n",
>>>>>>> b12ad5eee52d9d6be1496175ccd2573cade9da19
    "auckland_weather"
   ]
  },
  {
   "cell_type": "code",
<<<<<<< HEAD
   "execution_count": null,
   "id": "f105f8c9-e7e5-4f02-8f05-df56a9e11d2c",
   "metadata": {
    "vscode": {
     "languageId": "r"
    }
   },
=======
   "execution_count": 14,
   "id": "6cb399c0-d581-4fcc-842f-89acea4c4550",
   "metadata": {},
>>>>>>> b12ad5eee52d9d6be1496175ccd2573cade9da19
   "outputs": [
    {
     "data": {
      "text/html": [
       "<style>\n",
       ".list-inline {list-style: none; margin:0; padding: 0}\n",
       ".list-inline>li {display: inline-block}\n",
       ".list-inline>li:not(:last-child)::after {content: \"\\00b7\"; padding: 0 .5ex}\n",
       "</style>\n",
       "<ol class=list-inline><li>'31km/h'</li><li>'23km/h'</li><li>'14km/h'</li><li>'21km/h'</li><li>'26km/h'</li><li>'22km/h'</li><li>'19km/h'</li><li>'20km/h'</li><li>'19km/h'</li></ol>\n"
      ],
      "text/latex": [
       "\\begin{enumerate*}\n",
<<<<<<< HEAD
       "\\item 'Mainly sunny. Fairly breezy Northerly winds.'\n",
       "\\item 'Windy and partly cloudy. Brisk North to Nor\\textbackslash{}'West winds.'\n",
       "\\item 'Windy and partly cloudy. Brisk North to Nor\\textbackslash{}'West winds.'\n",
       "\\item 'Windy, with showers. Brisk North to Nor\\textbackslash{}'West winds.'\n",
       "\\item 'Morning showers. Fairly breezy Sou\\textbackslash{}'East winds.'\n",
       "\\item 'Showers. Breezy to brisk South to Sou\\textbackslash{}'East winds.'\n",
       "\\item 'Morning showers. Breezy to brisk South to Sou\\textbackslash{}'East winds.'\n",
       "\\item 'Morning showers. Breezy to brisk Northerly winds.'\n",
       "\\item 'Windy, with showers. Breezy to brisk Northerly winds.'\n",
       "\\end{enumerate*}\n"
      ],
      "text/markdown": [
       "1. 'Mainly sunny. Fairly breezy Northerly winds.'\n",
       "2. 'Windy and partly cloudy. Brisk North to Nor\\'West winds.'\n",
       "3. 'Windy and partly cloudy. Brisk North to Nor\\'West winds.'\n",
       "4. 'Windy, with showers. Brisk North to Nor\\'West winds.'\n",
       "5. 'Morning showers. Fairly breezy Sou\\'East winds.'\n",
       "6. 'Showers. Breezy to brisk South to Sou\\'East winds.'\n",
       "7. 'Morning showers. Breezy to brisk South to Sou\\'East winds.'\n",
       "8. 'Morning showers. Breezy to brisk Northerly winds.'\n",
       "9. 'Windy, with showers. Breezy to brisk Northerly winds.'\n",
       "\n",
       "\n"
      ],
      "text/plain": [
       "[1] \"Mainly sunny. Fairly breezy Northerly winds.\"             \n",
       "[2] \"Windy and partly cloudy. Brisk North to Nor'West winds.\"  \n",
       "[3] \"Windy and partly cloudy. Brisk North to Nor'West winds.\"  \n",
       "[4] \"Windy, with showers. Brisk North to Nor'West winds.\"      \n",
       "[5] \"Morning showers. Fairly breezy Sou'East winds.\"           \n",
       "[6] \"Showers. Breezy to brisk South to Sou'East winds.\"        \n",
       "[7] \"Morning showers. Breezy to brisk South to Sou'East winds.\"\n",
       "[8] \"Morning showers. Breezy to brisk Northerly winds.\"        \n",
       "[9] \"Windy, with showers. Breezy to brisk Northerly winds.\"    "
      ]
     },
     "metadata": {},
     "output_type": "display_data"
    }
   ],
   "source": [
    "weathers <- wellington_html %>% html_nodes(\".larger\") %>% html_text()\n",
    "index <- 1:18\n",
    "wellington_weather <- weathers[index%%2==0]\n",
    "wellington_weather"
   ]
  },
  {
   "cell_type": "code",
   "execution_count": null,
   "id": "0ab9dcb1-06a6-4ec0-829e-1f82e207b052",
   "metadata": {
    "vscode": {
     "languageId": "r"
    }
   },
   "outputs": [
    {
     "data": {
      "text/html": [
       "<style>\n",
       ".list-inline {list-style: none; margin:0; padding: 0}\n",
       ".list-inline>li {display: inline-block}\n",
       ".list-inline>li:not(:last-child)::after {content: \"\\00b7\"; padding: 0 .5ex}\n",
       "</style>\n",
       "<ol class=list-inline><li>'Partly cloudy. Breezy East to Nor\\'East winds.'</li><li>'Partly cloudy. Fairly breezy East to Nor\\'East winds.'</li><li>'Partly cloudy. Fairly breezy Nor\\'East winds.'</li><li>'Afternoon showers. Breezy North to Nor\\'West winds.'</li><li>'Showers. Light North to Nor\\'West winds.'</li><li>'Light rain. Breezy Sou\\'East winds.'</li><li>'Showers. Fairly breezy East to Sou\\'East winds.'</li><li>'Showers. Fairly breezy East to Nor\\'East winds.'</li><li>'Rain. Fairly breezy North to Nor\\'East winds.'</li></ol>\n"
      ],
      "text/latex": [
       "\\begin{enumerate*}\n",
       "\\item 'Partly cloudy. Breezy East to Nor\\textbackslash{}'East winds.'\n",
       "\\item 'Partly cloudy. Fairly breezy East to Nor\\textbackslash{}'East winds.'\n",
       "\\item 'Partly cloudy. Fairly breezy Nor\\textbackslash{}'East winds.'\n",
       "\\item 'Afternoon showers. Breezy North to Nor\\textbackslash{}'West winds.'\n",
       "\\item 'Showers. Light North to Nor\\textbackslash{}'West winds.'\n",
       "\\item 'Light rain. Breezy Sou\\textbackslash{}'East winds.'\n",
       "\\item 'Showers. Fairly breezy East to Sou\\textbackslash{}'East winds.'\n",
       "\\item 'Showers. Fairly breezy East to Nor\\textbackslash{}'East winds.'\n",
       "\\item 'Rain. Fairly breezy North to Nor\\textbackslash{}'East winds.'\n",
       "\\end{enumerate*}\n"
      ],
      "text/markdown": [
       "1. 'Partly cloudy. Breezy East to Nor\\'East winds.'\n",
       "2. 'Partly cloudy. Fairly breezy East to Nor\\'East winds.'\n",
       "3. 'Partly cloudy. Fairly breezy Nor\\'East winds.'\n",
       "4. 'Afternoon showers. Breezy North to Nor\\'West winds.'\n",
       "5. 'Showers. Light North to Nor\\'West winds.'\n",
       "6. 'Light rain. Breezy Sou\\'East winds.'\n",
       "7. 'Showers. Fairly breezy East to Sou\\'East winds.'\n",
       "8. 'Showers. Fairly breezy East to Nor\\'East winds.'\n",
       "9. 'Rain. Fairly breezy North to Nor\\'East winds.'\n",
       "\n",
       "\n"
      ],
      "text/plain": [
       "[1] \"Partly cloudy. Breezy East to Nor'East winds.\"       \n",
       "[2] \"Partly cloudy. Fairly breezy East to Nor'East winds.\"\n",
       "[3] \"Partly cloudy. Fairly breezy Nor'East winds.\"        \n",
       "[4] \"Afternoon showers. Breezy North to Nor'West winds.\"  \n",
       "[5] \"Showers. Light North to Nor'West winds.\"             \n",
       "[6] \"Light rain. Breezy Sou'East winds.\"                  \n",
       "[7] \"Showers. Fairly breezy East to Sou'East winds.\"      \n",
       "[8] \"Showers. Fairly breezy East to Nor'East winds.\"      \n",
       "[9] \"Rain. Fairly breezy North to Nor'East winds.\"        "
      ]
     },
     "metadata": {},
     "output_type": "display_data"
    }
   ],
   "source": [
    "weathers <- hamilton_html %>% html_nodes(\".larger\") %>% html_text()\n",
    "index <- 1:18\n",
    "hamilton_weather <- weathers[index%%2==0]\n",
    "hamilton_weather"
   ]
  },
  {
   "cell_type": "code",
   "execution_count": null,
   "id": "af98f55a-c9dc-427a-8680-5f0f6caca13e",
   "metadata": {
    "vscode": {
     "languageId": "r"
    }
   },
   "outputs": [
    {
     "data": {
      "text/html": [
       "<style>\n",
       ".list-inline {list-style: none; margin:0; padding: 0}\n",
       ".list-inline>li {display: inline-block}\n",
       ".list-inline>li:not(:last-child)::after {content: \"\\00b7\"; padding: 0 .5ex}\n",
       "</style>\n",
       "<ol class=list-inline><li>'Mostly sunny. Light East to Nor\\'East winds.'</li><li>'Mostly cloudy. Breezy East to Nor\\'East winds.'</li><li>'Showers. Breezy North to Nor\\'East winds.'</li><li>'Afternoon showers. Breezy North to Nor\\'West winds.'</li><li>'Showers. Light Northerly winds.'</li><li>'Rain. Light East to Sou\\'East winds.'</li><li>'Partly cloudy. Breezy East to Sou\\'East winds.'</li><li>'Showers. Breezy East to Nor\\'East winds.'</li><li>'Light rain. Breezy Nor\\'East winds.'</li></ol>\n"
      ],
      "text/latex": [
       "\\begin{enumerate*}\n",
       "\\item 'Mostly sunny. Light East to Nor\\textbackslash{}'East winds.'\n",
       "\\item 'Mostly cloudy. Breezy East to Nor\\textbackslash{}'East winds.'\n",
       "\\item 'Showers. Breezy North to Nor\\textbackslash{}'East winds.'\n",
       "\\item 'Afternoon showers. Breezy North to Nor\\textbackslash{}'West winds.'\n",
       "\\item 'Showers. Light Northerly winds.'\n",
       "\\item 'Rain. Light East to Sou\\textbackslash{}'East winds.'\n",
       "\\item 'Partly cloudy. Breezy East to Sou\\textbackslash{}'East winds.'\n",
       "\\item 'Showers. Breezy East to Nor\\textbackslash{}'East winds.'\n",
       "\\item 'Light rain. Breezy Nor\\textbackslash{}'East winds.'\n",
       "\\end{enumerate*}\n"
      ],
      "text/markdown": [
       "1. 'Mostly sunny. Light East to Nor\\'East winds.'\n",
       "2. 'Mostly cloudy. Breezy East to Nor\\'East winds.'\n",
       "3. 'Showers. Breezy North to Nor\\'East winds.'\n",
       "4. 'Afternoon showers. Breezy North to Nor\\'West winds.'\n",
       "5. 'Showers. Light Northerly winds.'\n",
       "6. 'Rain. Light East to Sou\\'East winds.'\n",
       "7. 'Partly cloudy. Breezy East to Sou\\'East winds.'\n",
       "8. 'Showers. Breezy East to Nor\\'East winds.'\n",
       "9. 'Light rain. Breezy Nor\\'East winds.'\n",
       "\n",
       "\n"
      ],
      "text/plain": [
       "[1] \"Mostly sunny. Light East to Nor'East winds.\"       \n",
       "[2] \"Mostly cloudy. Breezy East to Nor'East winds.\"     \n",
       "[3] \"Showers. Breezy North to Nor'East winds.\"          \n",
       "[4] \"Afternoon showers. Breezy North to Nor'West winds.\"\n",
       "[5] \"Showers. Light Northerly winds.\"                   \n",
       "[6] \"Rain. Light East to Sou'East winds.\"               \n",
       "[7] \"Partly cloudy. Breezy East to Sou'East winds.\"     \n",
       "[8] \"Showers. Breezy East to Nor'East winds.\"           \n",
       "[9] \"Light rain. Breezy Nor'East winds.\"                "
      ]
     },
     "metadata": {},
     "output_type": "display_data"
    }
   ],
   "source": [
    "weathers <- tauranga_html %>% html_nodes(\".larger\") %>% html_text()\n",
    "index <- 1:18\n",
    "tauranga_weather <- weathers[index%%2==0]\n",
    "tauranga_weather"
   ]
  },
  {
   "cell_type": "code",
   "execution_count": null,
   "id": "f80a7a33-822c-4d04-a180-7d7462df70b1",
   "metadata": {
    "vscode": {
     "languageId": "r"
    }
   },
   "outputs": [
    {
     "data": {
      "text/html": [
       "<style>\n",
       ".list-inline {list-style: none; margin:0; padding: 0}\n",
       ".list-inline>li {display: inline-block}\n",
       ".list-inline>li:not(:last-child)::after {content: \"\\00b7\"; padding: 0 .5ex}\n",
       "</style>\n",
       "<ol class=list-inline><li>'Mainly sunny. Breezy Nor\\'East winds.'</li><li>'A mix of sun and cloud. Breezy Northerly winds.'</li><li>'Mostly cloudy. Fairly breezy Northerly winds.'</li><li>'Partly cloudy. Breezy Nor\\'West winds.'</li><li>'Mostly cloudy. Light Easterly winds.'</li><li>'Morning showers. Light South to Sou\\'East winds.'</li><li>'Partly cloudy. Fairly breezy Nor\\'East winds.'</li><li>'Partly cloudy. Fairly breezy Nor\\'East winds.'</li><li>'Partly cloudy. Fairly breezy Nor\\'East winds.'</li></ol>\n"
      ],
      "text/latex": [
       "\\begin{enumerate*}\n",
       "\\item 'Mainly sunny. Breezy Nor\\textbackslash{}'East winds.'\n",
       "\\item 'A mix of sun and cloud. Breezy Northerly winds.'\n",
       "\\item 'Mostly cloudy. Fairly breezy Northerly winds.'\n",
       "\\item 'Partly cloudy. Breezy Nor\\textbackslash{}'West winds.'\n",
       "\\item 'Mostly cloudy. Light Easterly winds.'\n",
       "\\item 'Morning showers. Light South to Sou\\textbackslash{}'East winds.'\n",
       "\\item 'Partly cloudy. Fairly breezy Nor\\textbackslash{}'East winds.'\n",
       "\\item 'Partly cloudy. Fairly breezy Nor\\textbackslash{}'East winds.'\n",
       "\\item 'Partly cloudy. Fairly breezy Nor\\textbackslash{}'East winds.'\n",
       "\\end{enumerate*}\n"
      ],
      "text/markdown": [
       "1. 'Mainly sunny. Breezy Nor\\'East winds.'\n",
       "2. 'A mix of sun and cloud. Breezy Northerly winds.'\n",
       "3. 'Mostly cloudy. Fairly breezy Northerly winds.'\n",
       "4. 'Partly cloudy. Breezy Nor\\'West winds.'\n",
       "5. 'Mostly cloudy. Light Easterly winds.'\n",
       "6. 'Morning showers. Light South to Sou\\'East winds.'\n",
       "7. 'Partly cloudy. Fairly breezy Nor\\'East winds.'\n",
       "8. 'Partly cloudy. Fairly breezy Nor\\'East winds.'\n",
       "9. 'Partly cloudy. Fairly breezy Nor\\'East winds.'\n",
       "\n",
       "\n"
      ],
      "text/plain": [
       "[1] \"Mainly sunny. Breezy Nor'East winds.\"           \n",
       "[2] \"A mix of sun and cloud. Breezy Northerly winds.\"\n",
       "[3] \"Mostly cloudy. Fairly breezy Northerly winds.\"  \n",
       "[4] \"Partly cloudy. Breezy Nor'West winds.\"          \n",
       "[5] \"Mostly cloudy. Light Easterly winds.\"           \n",
       "[6] \"Morning showers. Light South to Sou'East winds.\"\n",
       "[7] \"Partly cloudy. Fairly breezy Nor'East winds.\"   \n",
       "[8] \"Partly cloudy. Fairly breezy Nor'East winds.\"   \n",
       "[9] \"Partly cloudy. Fairly breezy Nor'East winds.\"   "
      ]
     },
     "metadata": {},
     "output_type": "display_data"
    }
   ],
   "source": [
    "weathers <- christchurch_html %>% html_nodes(\".larger\") %>% html_text()\n",
    "index <- 1:18\n",
    "christchurch_weather <- weathers[index%%2==0]\n",
    "christchurch_weather"
   ]
  },
  {
   "cell_type": "code",
   "execution_count": null,
   "id": "5f3b3504-2503-47ef-9c4e-37f6797b6a13",
   "metadata": {
    "vscode": {
     "languageId": "r"
    }
   },
   "outputs": [
    {
     "data": {
      "text/html": [
       "<style>\n",
       ".list-inline {list-style: none; margin:0; padding: 0}\n",
       ".list-inline>li {display: inline-block}\n",
       ".list-inline>li:not(:last-child)::after {content: \"\\00b7\"; padding: 0 .5ex}\n",
       "</style>\n",
       "<ol class=list-inline><li>'Mainly sunny. Breezy North to Nor\\'East winds.'</li><li>'Partly cloudy. Breezy Northerly winds.'</li><li>'Cloudy. Fairly breezy North to Nor\\'East winds.'</li><li>'Light rain developing in the afternoon. Fairly breezy West to Sou\\'West winds.'</li><li>'Partly cloudy. Breezy Sou\\'West winds.'</li><li>'Morning showers. Breezy South to Sou\\'West winds.'</li><li>'Partly cloudy. Fairly breezy Nor\\'East winds.'</li><li>'Afternoon showers. Fairly breezy Nor\\'East winds.'</li><li>'Showers. Fairly breezy North to Nor\\'East winds.'</li></ol>\n"
      ],
      "text/latex": [
       "\\begin{enumerate*}\n",
       "\\item 'Mainly sunny. Breezy North to Nor\\textbackslash{}'East winds.'\n",
       "\\item 'Partly cloudy. Breezy Northerly winds.'\n",
       "\\item 'Cloudy. Fairly breezy North to Nor\\textbackslash{}'East winds.'\n",
       "\\item 'Light rain developing in the afternoon. Fairly breezy West to Sou\\textbackslash{}'West winds.'\n",
       "\\item 'Partly cloudy. Breezy Sou\\textbackslash{}'West winds.'\n",
       "\\item 'Morning showers. Breezy South to Sou\\textbackslash{}'West winds.'\n",
       "\\item 'Partly cloudy. Fairly breezy Nor\\textbackslash{}'East winds.'\n",
       "\\item 'Afternoon showers. Fairly breezy Nor\\textbackslash{}'East winds.'\n",
       "\\item 'Showers. Fairly breezy North to Nor\\textbackslash{}'East winds.'\n",
       "\\end{enumerate*}\n"
      ],
      "text/markdown": [
       "1. 'Mainly sunny. Breezy North to Nor\\'East winds.'\n",
       "2. 'Partly cloudy. Breezy Northerly winds.'\n",
       "3. 'Cloudy. Fairly breezy North to Nor\\'East winds.'\n",
       "4. 'Light rain developing in the afternoon. Fairly breezy West to Sou\\'West winds.'\n",
       "5. 'Partly cloudy. Breezy Sou\\'West winds.'\n",
       "6. 'Morning showers. Breezy South to Sou\\'West winds.'\n",
       "7. 'Partly cloudy. Fairly breezy Nor\\'East winds.'\n",
       "8. 'Afternoon showers. Fairly breezy Nor\\'East winds.'\n",
       "9. 'Showers. Fairly breezy North to Nor\\'East winds.'\n",
       "\n",
       "\n"
      ],
      "text/plain": [
       "[1] \"Mainly sunny. Breezy North to Nor'East winds.\"                                \n",
       "[2] \"Partly cloudy. Breezy Northerly winds.\"                                       \n",
       "[3] \"Cloudy. Fairly breezy North to Nor'East winds.\"                               \n",
       "[4] \"Light rain developing in the afternoon. Fairly breezy West to Sou'West winds.\"\n",
       "[5] \"Partly cloudy. Breezy Sou'West winds.\"                                        \n",
       "[6] \"Morning showers. Breezy South to Sou'West winds.\"                             \n",
       "[7] \"Partly cloudy. Fairly breezy Nor'East winds.\"                                 \n",
       "[8] \"Afternoon showers. Fairly breezy Nor'East winds.\"                             \n",
       "[9] \"Showers. Fairly breezy North to Nor'East winds.\"                              "
      ]
     },
     "metadata": {},
     "output_type": "display_data"
    }
   ],
   "source": [
    "weathers <- dunedin_html %>% html_nodes(\".larger\") %>% html_text()\n",
    "index <- 1:18\n",
    "dunedin_weather <- weathers[index%%2==0]\n",
    "dunedin_weather"
   ]
  },
  {
   "cell_type": "code",
   "execution_count": null,
   "id": "cf464b5e-4263-42d7-9595-fad32174ea3d",
   "metadata": {
    "vscode": {
     "languageId": "r"
    }
   },
   "outputs": [
    {
     "data": {
      "text/html": [
       "<style>\n",
       ".list-inline {list-style: none; margin:0; padding: 0}\n",
       ".list-inline>li {display: inline-block}\n",
       ".list-inline>li:not(:last-child)::after {content: \"\\00b7\"; padding: 0 .5ex}\n",
       "</style>\n",
       "<ol class=list-inline><li>'21km/h'</li><li>'27km/h'</li><li>'27km/h'</li><li>'20km/h'</li><li>'14km/h'</li><li>'17km/h'</li><li>'22km/h'</li><li>'26km/h'</li><li>'27km/h'</li></ol>\n"
      ],
      "text/latex": [
       "\\begin{enumerate*}\n",
       "\\item '21km/h'\n",
       "\\item '27km/h'\n",
       "\\item '27km/h'\n",
       "\\item '20km/h'\n",
=======
       "\\item '31km/h'\n",
       "\\item '23km/h'\n",
>>>>>>> b12ad5eee52d9d6be1496175ccd2573cade9da19
       "\\item '14km/h'\n",
       "\\item '21km/h'\n",
       "\\item '26km/h'\n",
       "\\item '22km/h'\n",
       "\\item '19km/h'\n",
       "\\item '20km/h'\n",
       "\\item '19km/h'\n",
       "\\end{enumerate*}\n"
      ],
      "text/markdown": [
       "1. '31km/h'\n",
       "2. '23km/h'\n",
       "3. '14km/h'\n",
       "4. '21km/h'\n",
       "5. '26km/h'\n",
       "6. '22km/h'\n",
       "7. '19km/h'\n",
       "8. '20km/h'\n",
       "9. '19km/h'\n",
       "\n",
       "\n"
      ],
      "text/plain": [
       "[1] \"31km/h\" \"23km/h\" \"14km/h\" \"21km/h\" \"26km/h\" \"22km/h\" \"19km/h\" \"20km/h\"\n",
       "[9] \"19km/h\""
      ]
     },
     "metadata": {},
     "output_type": "display_data"
    }
   ],
   "source": [
    "# Getting the wind condition from the particular location\n",
    "get_wind <- function(location_html) {\n",
    "    wind <- location_html %>% html_nodes(\".wind .small\") %>% html_text() # Using the selector called .wind and .small to get the wind condition for the particular location\n",
    "    return(wind)\n",
    "}\n",
    "# Check if it is returning the right data\n",
    "auckland_wind <- get_wind(auckland_html)\n",
    "auckland_wind"
   ]
  },
  {
   "cell_type": "code",
<<<<<<< HEAD
   "execution_count": null,
   "id": "386c45d1-cd2d-4d6b-b2fa-2303d329d67b",
   "metadata": {
    "vscode": {
     "languageId": "r"
    }
   },
   "outputs": [
    {
     "data": {
      "text/html": [
       "<style>\n",
       ".list-inline {list-style: none; margin:0; padding: 0}\n",
       ".list-inline>li {display: inline-block}\n",
       ".list-inline>li:not(:last-child)::after {content: \"\\00b7\"; padding: 0 .5ex}\n",
       "</style>\n",
       "<ol class=list-inline><li>'14km/h'</li><li>'20km/h'</li><li>'21km/h'</li><li>'18km/h'</li><li>'12km/h'</li><li>'16km/h'</li><li>'20km/h'</li><li>'24km/h'</li><li>'23km/h'</li></ol>\n"
      ],
      "text/latex": [
       "\\begin{enumerate*}\n",
       "\\item '14km/h'\n",
       "\\item '20km/h'\n",
       "\\item '21km/h'\n",
       "\\item '18km/h'\n",
       "\\item '12km/h'\n",
       "\\item '16km/h'\n",
       "\\item '20km/h'\n",
       "\\item '24km/h'\n",
       "\\item '23km/h'\n",
       "\\end{enumerate*}\n"
      ],
      "text/markdown": [
       "1. '14km/h'\n",
       "2. '20km/h'\n",
       "3. '21km/h'\n",
       "4. '18km/h'\n",
       "5. '12km/h'\n",
       "6. '16km/h'\n",
       "7. '20km/h'\n",
       "8. '24km/h'\n",
       "9. '23km/h'\n",
       "\n",
       "\n"
      ],
      "text/plain": [
       "[1] \"14km/h\" \"20km/h\" \"21km/h\" \"18km/h\" \"12km/h\" \"16km/h\" \"20km/h\" \"24km/h\"\n",
       "[9] \"23km/h\""
      ]
     },
     "metadata": {},
     "output_type": "display_data"
    }
   ],
   "source": [
    "hamilton_wind <- hamilton_html %>% html_nodes(\".wind .small\") %>% html_text()\n",
    "hamilton_wind"
   ]
  },
  {
   "cell_type": "code",
   "execution_count": null,
   "id": "5edb3198-1ad6-4abf-995b-8dc579bac068",
   "metadata": {
    "vscode": {
     "languageId": "r"
    }
   },
   "outputs": [
    {
     "data": {
      "text/html": [
       "<style>\n",
       ".list-inline {list-style: none; margin:0; padding: 0}\n",
       ".list-inline>li {display: inline-block}\n",
       ".list-inline>li:not(:last-child)::after {content: \"\\00b7\"; padding: 0 .5ex}\n",
       "</style>\n",
       "<ol class=list-inline><li>'12km/h'</li><li>'16km/h'</li><li>'16km/h'</li><li>'15km/h'</li><li>'9km/h'</li><li>'13km/h'</li><li>'15km/h'</li><li>'16km/h'</li><li>'17km/h'</li></ol>\n"
      ],
      "text/latex": [
       "\\begin{enumerate*}\n",
       "\\item '12km/h'\n",
       "\\item '16km/h'\n",
       "\\item '16km/h'\n",
       "\\item '15km/h'\n",
       "\\item '9km/h'\n",
       "\\item '13km/h'\n",
       "\\item '15km/h'\n",
       "\\item '16km/h'\n",
       "\\item '17km/h'\n",
       "\\end{enumerate*}\n"
      ],
      "text/markdown": [
       "1. '12km/h'\n",
       "2. '16km/h'\n",
       "3. '16km/h'\n",
       "4. '15km/h'\n",
       "5. '9km/h'\n",
       "6. '13km/h'\n",
       "7. '15km/h'\n",
       "8. '16km/h'\n",
       "9. '17km/h'\n",
       "\n",
       "\n"
      ],
      "text/plain": [
       "[1] \"12km/h\" \"16km/h\" \"16km/h\" \"15km/h\" \"9km/h\"  \"13km/h\" \"15km/h\" \"16km/h\"\n",
       "[9] \"17km/h\""
      ]
     },
     "metadata": {},
     "output_type": "display_data"
    }
   ],
   "source": [
    "tauranga_wind <- tauranga_html %>% html_nodes(\".wind .small\") %>% html_text()\n",
    "tauranga_wind"
   ]
  },
  {
   "cell_type": "code",
   "execution_count": null,
   "id": "70d8c1f2-005f-45e1-9a97-07199f498522",
   "metadata": {
    "vscode": {
     "languageId": "r"
    }
   },
   "outputs": [
    {
     "data": {
      "text/html": [
       "<style>\n",
       ".list-inline {list-style: none; margin:0; padding: 0}\n",
       ".list-inline>li {display: inline-block}\n",
       ".list-inline>li:not(:last-child)::after {content: \"\\00b7\"; padding: 0 .5ex}\n",
       "</style>\n",
       "<ol class=list-inline><li>'16km/h'</li><li>'17km/h'</li><li>'21km/h'</li><li>'19km/h'</li><li>'13km/h'</li><li>'13km/h'</li><li>'21km/h'</li><li>'25km/h'</li><li>'23km/h'</li></ol>\n"
      ],
      "text/latex": [
       "\\begin{enumerate*}\n",
       "\\item '16km/h'\n",
       "\\item '17km/h'\n",
       "\\item '21km/h'\n",
       "\\item '19km/h'\n",
       "\\item '13km/h'\n",
       "\\item '13km/h'\n",
       "\\item '21km/h'\n",
       "\\item '25km/h'\n",
       "\\item '23km/h'\n",
       "\\end{enumerate*}\n"
      ],
      "text/markdown": [
       "1. '16km/h'\n",
       "2. '17km/h'\n",
       "3. '21km/h'\n",
       "4. '19km/h'\n",
       "5. '13km/h'\n",
       "6. '13km/h'\n",
       "7. '21km/h'\n",
       "8. '25km/h'\n",
       "9. '23km/h'\n",
       "\n",
       "\n"
      ],
      "text/plain": [
       "[1] \"16km/h\" \"17km/h\" \"21km/h\" \"19km/h\" \"13km/h\" \"13km/h\" \"21km/h\" \"25km/h\"\n",
       "[9] \"23km/h\""
      ]
     },
     "metadata": {},
     "output_type": "display_data"
    }
   ],
   "source": [
    "christchurch_wind <- christchurch_html %>% html_nodes(\".wind .small\") %>% html_text()\n",
    "christchurch_wind"
   ]
  },
  {
   "cell_type": "code",
   "execution_count": null,
   "id": "d6de8ef5-f7fc-47d5-9579-3d166fd275c1",
   "metadata": {
    "vscode": {
     "languageId": "r"
    }
   },
   "outputs": [
    {
     "data": {
      "text/html": [
       "<style>\n",
       ".list-inline {list-style: none; margin:0; padding: 0}\n",
       ".list-inline>li {display: inline-block}\n",
       ".list-inline>li:not(:last-child)::after {content: \"\\00b7\"; padding: 0 .5ex}\n",
       "</style>\n",
       "<ol class=list-inline><li>'27km/h'</li><li>'41km/h'</li><li>'42km/h'</li><li>'44km/h'</li><li>'20km/h'</li><li>'29km/h'</li><li>'29km/h'</li><li>'32km/h'</li><li>'34km/h'</li></ol>\n"
      ],
      "text/latex": [
       "\\begin{enumerate*}\n",
       "\\item '27km/h'\n",
       "\\item '41km/h'\n",
       "\\item '42km/h'\n",
       "\\item '44km/h'\n",
       "\\item '20km/h'\n",
       "\\item '29km/h'\n",
       "\\item '29km/h'\n",
       "\\item '32km/h'\n",
       "\\item '34km/h'\n",
       "\\end{enumerate*}\n"
      ],
      "text/markdown": [
       "1. '27km/h'\n",
       "2. '41km/h'\n",
       "3. '42km/h'\n",
       "4. '44km/h'\n",
       "5. '20km/h'\n",
       "6. '29km/h'\n",
       "7. '29km/h'\n",
       "8. '32km/h'\n",
       "9. '34km/h'\n",
       "\n",
       "\n"
      ],
      "text/plain": [
       "[1] \"27km/h\" \"41km/h\" \"42km/h\" \"44km/h\" \"20km/h\" \"29km/h\" \"29km/h\" \"32km/h\"\n",
       "[9] \"34km/h\""
      ]
     },
     "metadata": {},
     "output_type": "display_data"
    }
   ],
   "source": [
    "wellington_wind <- wellington_html %>% html_nodes(\".wind .small\") %>% html_text()\n",
    "wellington_wind"
   ]
  },
  {
   "cell_type": "code",
   "execution_count": null,
   "id": "c722ae91-d228-47d4-8f16-d97f1162abc2",
   "metadata": {
    "vscode": {
     "languageId": "r"
    }
   },
   "outputs": [
    {
     "data": {
      "text/html": [
       "<style>\n",
       ".list-inline {list-style: none; margin:0; padding: 0}\n",
       ".list-inline>li {display: inline-block}\n",
       ".list-inline>li:not(:last-child)::after {content: \"\\00b7\"; padding: 0 .5ex}\n",
       "</style>\n",
       "<ol class=list-inline><li>'16km/h'</li><li>'14km/h'</li><li>'22km/h'</li><li>'24km/h'</li><li>'14km/h'</li><li>'18km/h'</li><li>'25km/h'</li><li>'24km/h'</li><li>'20km/h'</li></ol>\n"
      ],
      "text/latex": [
       "\\begin{enumerate*}\n",
       "\\item '16km/h'\n",
       "\\item '14km/h'\n",
       "\\item '22km/h'\n",
       "\\item '24km/h'\n",
       "\\item '14km/h'\n",
       "\\item '18km/h'\n",
       "\\item '25km/h'\n",
       "\\item '24km/h'\n",
       "\\item '20km/h'\n",
       "\\end{enumerate*}\n"
      ],
      "text/markdown": [
       "1. '16km/h'\n",
       "2. '14km/h'\n",
       "3. '22km/h'\n",
       "4. '24km/h'\n",
       "5. '14km/h'\n",
       "6. '18km/h'\n",
       "7. '25km/h'\n",
       "8. '24km/h'\n",
       "9. '20km/h'\n",
       "\n",
       "\n"
      ],
      "text/plain": [
       "[1] \"16km/h\" \"14km/h\" \"22km/h\" \"24km/h\" \"14km/h\" \"18km/h\" \"25km/h\" \"24km/h\"\n",
       "[9] \"20km/h\""
      ]
     },
     "metadata": {},
     "output_type": "display_data"
    }
   ],
   "source": [
    "dunedin_wind <- dunedin_html %>% html_nodes(\".wind .small\") %>% html_text()\n",
    "dunedin_wind"
   ]
  },
  {
   "cell_type": "code",
   "execution_count": null,
   "id": "2d7fc95b-5130-4678-8377-4185a1242b7f",
   "metadata": {
    "vscode": {
     "languageId": "r"
    }
   },
=======
   "execution_count": 15,
   "id": "eae4807f-2fdc-4211-a6f2-713ab3b4fd6e",
   "metadata": {},
>>>>>>> b12ad5eee52d9d6be1496175ccd2573cade9da19
   "outputs": [
    {
     "data": {
      "text/html": [
       "'Weather Forecast for Auckland'"
      ],
      "text/latex": [
       "'Weather Forecast for Auckland'"
      ],
      "text/markdown": [
       "'Weather Forecast for Auckland'"
      ],
      "text/plain": [
       "[1] \"Weather Forecast for Auckland\""
      ]
     },
     "metadata": {},
     "output_type": "display_data"
    }
   ],
   "source": [
    "# Getting the location data for the data frame using the html \n",
    "get_location <- function(location_html) {\n",
    "    location <- location_html %>% html_nodes(\"h2\") %>% html_text() # Using the selector called h2 to get the location of the city\n",
    "    return(location)\n",
    "}\n",
    "# Check if it is returning the right data\n",
    "auckland_location <- get_location(auckland_html)\n",
    "auckland_location"
   ]
  },
  {
<<<<<<< HEAD
   "cell_type": "code",
   "execution_count": null,
   "id": "a77f28a1-5eda-456c-915b-7daebaa94e4a",
   "metadata": {
    "vscode": {
     "languageId": "r"
    }
   },
   "outputs": [
    {
     "data": {
      "text/html": [
       "'Weather Forecast for Wellington'"
      ],
      "text/latex": [
       "'Weather Forecast for Wellington'"
      ],
      "text/markdown": [
       "'Weather Forecast for Wellington'"
      ],
      "text/plain": [
       "[1] \"Weather Forecast for Wellington\""
      ]
     },
     "metadata": {},
     "output_type": "display_data"
    }
   ],
=======
   "cell_type": "markdown",
   "id": "0a2d24a1-65af-469d-8f65-5100ee227ef6",
   "metadata": {},
>>>>>>> b12ad5eee52d9d6be1496175ccd2573cade9da19
   "source": [
    "##### Now we have all the individual process to getting the data, we want to combined everything so we only need to call one function to get the data frame. This function will make us getting the data frame faster and more efficient for each location"
   ]
  },
  {
   "cell_type": "code",
   "execution_count": null,
<<<<<<< HEAD
   "id": "90b37075-751a-4989-a446-cfb9be67e707",
   "metadata": {
    "vscode": {
     "languageId": "r"
    }
   },
   "outputs": [
    {
     "data": {
      "text/html": [
       "'Weather Forecast for Hamilton'"
      ],
      "text/latex": [
       "'Weather Forecast for Hamilton'"
      ],
      "text/markdown": [
       "'Weather Forecast for Hamilton'"
      ],
      "text/plain": [
       "[1] \"Weather Forecast for Hamilton\""
      ]
     },
     "metadata": {},
     "output_type": "display_data"
    }
   ],
   "source": [
    "hamilton_location <- hamilton_html %>% html_nodes(\"h2\") %>% html_text()\n",
    "hamilton_location"
   ]
  },
  {
   "cell_type": "code",
   "execution_count": null,
   "id": "ea5b106b-c1e2-4a22-9ed4-abc569943514",
   "metadata": {
    "vscode": {
     "languageId": "r"
    }
   },
   "outputs": [
    {
     "data": {
      "text/html": [
       "'Weather Forecast for Tauranga'"
      ],
      "text/latex": [
       "'Weather Forecast for Tauranga'"
      ],
      "text/markdown": [
       "'Weather Forecast for Tauranga'"
      ],
      "text/plain": [
       "[1] \"Weather Forecast for Tauranga\""
      ]
     },
     "metadata": {},
     "output_type": "display_data"
    }
   ],
   "source": [
    "tauranga_location <- tauranga_html %>% html_nodes(\"h2\") %>% html_text()\n",
    "tauranga_location"
   ]
  },
  {
   "cell_type": "code",
   "execution_count": null,
   "id": "c3158aec-d887-4fdd-a07e-8bb8fb400904",
   "metadata": {
    "vscode": {
     "languageId": "r"
    }
   },
   "outputs": [
    {
     "data": {
      "text/html": [
       "'Weather Forecast for Christchurch'"
      ],
      "text/latex": [
       "'Weather Forecast for Christchurch'"
      ],
      "text/markdown": [
       "'Weather Forecast for Christchurch'"
      ],
      "text/plain": [
       "[1] \"Weather Forecast for Christchurch\""
      ]
     },
     "metadata": {},
     "output_type": "display_data"
    }
   ],
   "source": [
    "christchurch_location <- christchurch_html %>% html_nodes(\"h2\") %>% html_text()\n",
    "christchurch_location"
   ]
  },
  {
   "cell_type": "code",
   "execution_count": null,
   "id": "3d60dd92-c5ca-44f7-9021-0d510e892f84",
   "metadata": {
    "vscode": {
     "languageId": "r"
    }
   },
   "outputs": [
    {
     "data": {
      "text/html": [
       "'Weather Forecast for Dunedin'"
      ],
      "text/latex": [
       "'Weather Forecast for Dunedin'"
      ],
      "text/markdown": [
       "'Weather Forecast for Dunedin'"
      ],
      "text/plain": [
       "[1] \"Weather Forecast for Dunedin\""
      ]
     },
     "metadata": {},
     "output_type": "display_data"
    }
   ],
   "source": [
    "dunedin_location <- dunedin_html %>% html_nodes(\"h2\") %>% html_text()\n",
    "dunedin_location"
   ]
  },
  {
   "cell_type": "code",
   "execution_count": null,
   "id": "4e5713ac-644b-4842-958f-1103403f2c06",
   "metadata": {
    "vscode": {
     "languageId": "r"
    }
   },
=======
   "id": "5c91d567-6eff-4982-8619-b6c4383660b5",
   "metadata": {},
>>>>>>> b12ad5eee52d9d6be1496175ccd2573cade9da19
   "outputs": [
    {
     "data": {
      "text/html": [
       "<table class=\"dataframe\">\n",
       "<caption>A tibble: 9 × 6</caption>\n",
       "<thead>\n",
       "\t<tr><th scope=col>Location</th><th scope=col>Date</th><th scope=col>Weather</th><th scope=col>Min_temp</th><th scope=col>Max_temp</th><th scope=col>Wind_Speed</th></tr>\n",
       "\t<tr><th scope=col>&lt;chr&gt;</th><th scope=col>&lt;chr&gt;</th><th scope=col>&lt;chr&gt;</th><th scope=col>&lt;chr&gt;</th><th scope=col>&lt;chr&gt;</th><th scope=col>&lt;chr&gt;</th></tr>\n",
       "</thead>\n",
       "<tbody>\n",
       "\t<tr><td>Weather Forecast for Auckland</td><td>Wed 19 Oct</td><td>Showers. Breezy to brisk West to Sou'West winds.     </td><td>12°Night</td><td>17°Day</td><td>31km/h</td></tr>\n",
       "\t<tr><td>Weather Forecast for Auckland</td><td>Thu 20 Oct</td><td>Showers. Fairly breezy South to Sou'West winds.      </td><td>10°Night</td><td>18°Day</td><td>23km/h</td></tr>\n",
       "\t<tr><td>Weather Forecast for Auckland</td><td>Fri 21 Oct</td><td>Mainly sunny. Breezy Easterly winds.                 </td><td>10°Night</td><td>17°Day</td><td>14km/h</td></tr>\n",
       "\t<tr><td>Weather Forecast for Auckland</td><td>Sat 22 Oct</td><td>Mostly sunny. Fairly breezy Sou'West winds.          </td><td>12°Night</td><td>19°Day</td><td>21km/h</td></tr>\n",
       "\t<tr><td>Weather Forecast for Auckland</td><td>Sun 23 Oct</td><td>Partly cloudy. Fairly breezy Sou'West winds.         </td><td>13°Night</td><td>19°Day</td><td>26km/h</td></tr>\n",
       "\t<tr><td>Weather Forecast for Auckland</td><td>Mon 24 Oct</td><td>Partly cloudy. Fairly breezy Sou'West winds.         </td><td>13°Night</td><td>19°Day</td><td>22km/h</td></tr>\n",
       "\t<tr><td>Weather Forecast for Auckland</td><td>Tue 25 Oct</td><td>Morning showers. Breezy West to Sou'West winds.      </td><td>13°Night</td><td>19°Day</td><td>19km/h</td></tr>\n",
       "\t<tr><td>Weather Forecast for Auckland</td><td>Wed 26 Oct</td><td>Mostly cloudy. Fairly breezy North to Nor'West winds.</td><td>14°Night</td><td>19°Day</td><td>20km/h</td></tr>\n",
       "\t<tr><td>Weather Forecast for Auckland</td><td>Thu 27 Oct</td><td>Light rain. Breezy Northerly winds.                  </td><td>14°Night</td><td>20°Day</td><td>19km/h</td></tr>\n",
       "</tbody>\n",
       "</table>\n"
      ],
      "text/latex": [
       "A tibble: 9 × 6\n",
       "\\begin{tabular}{llllll}\n",
       " Location & Date & Weather & Min\\_temp & Max\\_temp & Wind\\_Speed\\\\\n",
       " <chr> & <chr> & <chr> & <chr> & <chr> & <chr>\\\\\n",
       "\\hline\n",
       "\t Weather Forecast for Auckland & Wed 19 Oct & Showers. Breezy to brisk West to Sou'West winds.      & 12°Night & 17°Day & 31km/h\\\\\n",
       "\t Weather Forecast for Auckland & Thu 20 Oct & Showers. Fairly breezy South to Sou'West winds.       & 10°Night & 18°Day & 23km/h\\\\\n",
       "\t Weather Forecast for Auckland & Fri 21 Oct & Mainly sunny. Breezy Easterly winds.                  & 10°Night & 17°Day & 14km/h\\\\\n",
       "\t Weather Forecast for Auckland & Sat 22 Oct & Mostly sunny. Fairly breezy Sou'West winds.           & 12°Night & 19°Day & 21km/h\\\\\n",
       "\t Weather Forecast for Auckland & Sun 23 Oct & Partly cloudy. Fairly breezy Sou'West winds.          & 13°Night & 19°Day & 26km/h\\\\\n",
       "\t Weather Forecast for Auckland & Mon 24 Oct & Partly cloudy. Fairly breezy Sou'West winds.          & 13°Night & 19°Day & 22km/h\\\\\n",
       "\t Weather Forecast for Auckland & Tue 25 Oct & Morning showers. Breezy West to Sou'West winds.       & 13°Night & 19°Day & 19km/h\\\\\n",
       "\t Weather Forecast for Auckland & Wed 26 Oct & Mostly cloudy. Fairly breezy North to Nor'West winds. & 14°Night & 19°Day & 20km/h\\\\\n",
       "\t Weather Forecast for Auckland & Thu 27 Oct & Light rain. Breezy Northerly winds.                   & 14°Night & 20°Day & 19km/h\\\\\n",
       "\\end{tabular}\n"
      ],
      "text/markdown": [
       "\n",
       "A tibble: 9 × 6\n",
       "\n",
       "| Location &lt;chr&gt; | Date &lt;chr&gt; | Weather &lt;chr&gt; | Min_temp &lt;chr&gt; | Max_temp &lt;chr&gt; | Wind_Speed &lt;chr&gt; |\n",
       "|---|---|---|---|---|---|\n",
       "| Weather Forecast for Auckland | Wed 19 Oct | Showers. Breezy to brisk West to Sou'West winds.      | 12°Night | 17°Day | 31km/h |\n",
       "| Weather Forecast for Auckland | Thu 20 Oct | Showers. Fairly breezy South to Sou'West winds.       | 10°Night | 18°Day | 23km/h |\n",
       "| Weather Forecast for Auckland | Fri 21 Oct | Mainly sunny. Breezy Easterly winds.                  | 10°Night | 17°Day | 14km/h |\n",
       "| Weather Forecast for Auckland | Sat 22 Oct | Mostly sunny. Fairly breezy Sou'West winds.           | 12°Night | 19°Day | 21km/h |\n",
       "| Weather Forecast for Auckland | Sun 23 Oct | Partly cloudy. Fairly breezy Sou'West winds.          | 13°Night | 19°Day | 26km/h |\n",
       "| Weather Forecast for Auckland | Mon 24 Oct | Partly cloudy. Fairly breezy Sou'West winds.          | 13°Night | 19°Day | 22km/h |\n",
       "| Weather Forecast for Auckland | Tue 25 Oct | Morning showers. Breezy West to Sou'West winds.       | 13°Night | 19°Day | 19km/h |\n",
       "| Weather Forecast for Auckland | Wed 26 Oct | Mostly cloudy. Fairly breezy North to Nor'West winds. | 14°Night | 19°Day | 20km/h |\n",
       "| Weather Forecast for Auckland | Thu 27 Oct | Light rain. Breezy Northerly winds.                   | 14°Night | 20°Day | 19km/h |\n",
       "\n"
      ],
      "text/plain": [
       "  Location                      Date      \n",
       "1 Weather Forecast for Auckland Wed 19 Oct\n",
       "2 Weather Forecast for Auckland Thu 20 Oct\n",
       "3 Weather Forecast for Auckland Fri 21 Oct\n",
       "4 Weather Forecast for Auckland Sat 22 Oct\n",
       "5 Weather Forecast for Auckland Sun 23 Oct\n",
       "6 Weather Forecast for Auckland Mon 24 Oct\n",
       "7 Weather Forecast for Auckland Tue 25 Oct\n",
       "8 Weather Forecast for Auckland Wed 26 Oct\n",
       "9 Weather Forecast for Auckland Thu 27 Oct\n",
       "  Weather                                               Min_temp Max_temp\n",
       "1 Showers. Breezy to brisk West to Sou'West winds.      12°Night 17°Day  \n",
       "2 Showers. Fairly breezy South to Sou'West winds.       10°Night 18°Day  \n",
       "3 Mainly sunny. Breezy Easterly winds.                  10°Night 17°Day  \n",
       "4 Mostly sunny. Fairly breezy Sou'West winds.           12°Night 19°Day  \n",
       "5 Partly cloudy. Fairly breezy Sou'West winds.          13°Night 19°Day  \n",
       "6 Partly cloudy. Fairly breezy Sou'West winds.          13°Night 19°Day  \n",
       "7 Morning showers. Breezy West to Sou'West winds.       13°Night 19°Day  \n",
       "8 Mostly cloudy. Fairly breezy North to Nor'West winds. 14°Night 19°Day  \n",
       "9 Light rain. Breezy Northerly winds.                   14°Night 20°Day  \n",
       "  Wind_Speed\n",
       "1 31km/h    \n",
       "2 23km/h    \n",
       "3 14km/h    \n",
       "4 21km/h    \n",
       "5 26km/h    \n",
       "6 22km/h    \n",
       "7 19km/h    \n",
       "8 20km/h    \n",
       "9 19km/h    "
      ]
     },
     "metadata": {},
     "output_type": "display_data"
    }
   ],
   "source": [
    "# We combined all the function to make the process of generating data frame easier\n",
    "get_dataframe <- function(location_url) {\n",
    "     location_html <- get_location_html(location_url)\n",
    "     location <- get_location(location_html)\n",
    "     date <- get_dates(location_html)\n",
    "     max_temp <- get_max_temp(location_html)\n",
    "     min_temp <- get_min_temp(location_html)\n",
    "     weather <- get_weathers(location_html)\n",
    "     wind_speed <- get_wind(location_html)\n",
    "     \n",
    "     weather_df <- tibble(Location=location, Date=date, Weather=weather, Min_temp=min_temp, Max_temp=max_temp, Wind_Speed=wind_speed)\n",
    "     return(weather_df)\n",
    " }\n",
    "auckland_df <- get_dataframe(auckland_url)\n",
    "auckland_df"
   ]
  },
  {
   "cell_type": "code",
<<<<<<< HEAD
   "execution_count": null,
   "id": "89e318aa-8875-49ab-b0c3-4110aa1c49d9",
   "metadata": {
    "vscode": {
     "languageId": "r"
    }
   },
=======
   "execution_count": 23,
   "id": "1572d626-a345-4e5a-9d82-2fbfa31a59dd",
   "metadata": {},
>>>>>>> b12ad5eee52d9d6be1496175ccd2573cade9da19
   "outputs": [
    {
     "data": {
      "text/html": [
       "<table class=\"dataframe\">\n",
       "<caption>A tibble: 9 × 6</caption>\n",
       "<thead>\n",
       "\t<tr><th scope=col>Location</th><th scope=col>Date</th><th scope=col>Weather</th><th scope=col>Min_temp</th><th scope=col>Max_temp</th><th scope=col>Wind_Speed</th></tr>\n",
       "\t<tr><th scope=col>&lt;chr&gt;</th><th scope=col>&lt;chr&gt;</th><th scope=col>&lt;chr&gt;</th><th scope=col>&lt;chr&gt;</th><th scope=col>&lt;chr&gt;</th><th scope=col>&lt;chr&gt;</th></tr>\n",
       "</thead>\n",
       "<tbody>\n",
       "\t<tr><td>Weather Forecast for Wellington</td><td>Wed 19 Oct</td><td>Mostly sunny. Breezy to brisk North to Nor'West winds.       </td><td>9°Night </td><td>16°Day</td><td>32km/h</td></tr>\n",
       "\t<tr><td>Weather Forecast for Wellington</td><td>Thu 20 Oct</td><td>Windy and partly cloudy. Strong and blustery Southerly winds.</td><td>8°Night </td><td>11°Day</td><td>46km/h</td></tr>\n",
       "\t<tr><td>Weather Forecast for Wellington</td><td>Fri 21 Oct</td><td>Partly cloudy. Breezy Sou'East winds.                        </td><td>9°Night </td><td>14°Day</td><td>18km/h</td></tr>\n",
       "\t<tr><td>Weather Forecast for Wellington</td><td>Sat 22 Oct</td><td>Generally clear and windy. Brisk Northerly winds.            </td><td>12°Night</td><td>16°Day</td><td>42km/h</td></tr>\n",
       "\t<tr><td>Weather Forecast for Wellington</td><td>Sun 23 Oct</td><td>Partly cloudy. Fairly breezy Northerly winds.                </td><td>11°Night</td><td>16°Day</td><td>25km/h</td></tr>\n",
       "\t<tr><td>Weather Forecast for Wellington</td><td>Mon 24 Oct</td><td>Partly cloudy. Fairly breezy Nor'East winds.                 </td><td>11°Night</td><td>15°Day</td><td>23km/h</td></tr>\n",
       "\t<tr><td>Weather Forecast for Wellington</td><td>Tue 25 Oct</td><td>Windy and partly cloudy. Breezy to brisk Northerly winds.    </td><td>10°Night</td><td>15°Day</td><td>32km/h</td></tr>\n",
       "\t<tr><td>Weather Forecast for Wellington</td><td>Wed 26 Oct</td><td>Partly cloudy. Breezy to brisk Northerly winds.              </td><td>12°Night</td><td>15°Day</td><td>32km/h</td></tr>\n",
       "\t<tr><td>Weather Forecast for Wellington</td><td>Thu 27 Oct</td><td>Showers. Breezy to brisk North to Nor'West winds.            </td><td>11°Night</td><td>15°Day</td><td>32km/h</td></tr>\n",
       "</tbody>\n",
       "</table>\n"
      ],
      "text/latex": [
       "A tibble: 9 × 6\n",
       "\\begin{tabular}{llllll}\n",
       " Location & Date & Weather & Min\\_temp & Max\\_temp & Wind\\_Speed\\\\\n",
       " <chr> & <chr> & <chr> & <chr> & <chr> & <chr>\\\\\n",
       "\\hline\n",
       "\t Weather Forecast for Wellington & Wed 19 Oct & Mostly sunny. Breezy to brisk North to Nor'West winds.        & 9°Night  & 16°Day & 32km/h\\\\\n",
       "\t Weather Forecast for Wellington & Thu 20 Oct & Windy and partly cloudy. Strong and blustery Southerly winds. & 8°Night  & 11°Day & 46km/h\\\\\n",
       "\t Weather Forecast for Wellington & Fri 21 Oct & Partly cloudy. Breezy Sou'East winds.                         & 9°Night  & 14°Day & 18km/h\\\\\n",
       "\t Weather Forecast for Wellington & Sat 22 Oct & Generally clear and windy. Brisk Northerly winds.             & 12°Night & 16°Day & 42km/h\\\\\n",
       "\t Weather Forecast for Wellington & Sun 23 Oct & Partly cloudy. Fairly breezy Northerly winds.                 & 11°Night & 16°Day & 25km/h\\\\\n",
       "\t Weather Forecast for Wellington & Mon 24 Oct & Partly cloudy. Fairly breezy Nor'East winds.                  & 11°Night & 15°Day & 23km/h\\\\\n",
       "\t Weather Forecast for Wellington & Tue 25 Oct & Windy and partly cloudy. Breezy to brisk Northerly winds.     & 10°Night & 15°Day & 32km/h\\\\\n",
       "\t Weather Forecast for Wellington & Wed 26 Oct & Partly cloudy. Breezy to brisk Northerly winds.               & 12°Night & 15°Day & 32km/h\\\\\n",
       "\t Weather Forecast for Wellington & Thu 27 Oct & Showers. Breezy to brisk North to Nor'West winds.             & 11°Night & 15°Day & 32km/h\\\\\n",
       "\\end{tabular}\n"
      ],
      "text/markdown": [
       "\n",
       "A tibble: 9 × 6\n",
       "\n",
       "| Location &lt;chr&gt; | Date &lt;chr&gt; | Weather &lt;chr&gt; | Min_temp &lt;chr&gt; | Max_temp &lt;chr&gt; | Wind_Speed &lt;chr&gt; |\n",
       "|---|---|---|---|---|---|\n",
       "| Weather Forecast for Wellington | Wed 19 Oct | Mostly sunny. Breezy to brisk North to Nor'West winds.        | 9°Night  | 16°Day | 32km/h |\n",
       "| Weather Forecast for Wellington | Thu 20 Oct | Windy and partly cloudy. Strong and blustery Southerly winds. | 8°Night  | 11°Day | 46km/h |\n",
       "| Weather Forecast for Wellington | Fri 21 Oct | Partly cloudy. Breezy Sou'East winds.                         | 9°Night  | 14°Day | 18km/h |\n",
       "| Weather Forecast for Wellington | Sat 22 Oct | Generally clear and windy. Brisk Northerly winds.             | 12°Night | 16°Day | 42km/h |\n",
       "| Weather Forecast for Wellington | Sun 23 Oct | Partly cloudy. Fairly breezy Northerly winds.                 | 11°Night | 16°Day | 25km/h |\n",
       "| Weather Forecast for Wellington | Mon 24 Oct | Partly cloudy. Fairly breezy Nor'East winds.                  | 11°Night | 15°Day | 23km/h |\n",
       "| Weather Forecast for Wellington | Tue 25 Oct | Windy and partly cloudy. Breezy to brisk Northerly winds.     | 10°Night | 15°Day | 32km/h |\n",
       "| Weather Forecast for Wellington | Wed 26 Oct | Partly cloudy. Breezy to brisk Northerly winds.               | 12°Night | 15°Day | 32km/h |\n",
       "| Weather Forecast for Wellington | Thu 27 Oct | Showers. Breezy to brisk North to Nor'West winds.             | 11°Night | 15°Day | 32km/h |\n",
       "\n"
      ],
      "text/plain": [
       "  Location                        Date      \n",
       "1 Weather Forecast for Wellington Wed 19 Oct\n",
       "2 Weather Forecast for Wellington Thu 20 Oct\n",
       "3 Weather Forecast for Wellington Fri 21 Oct\n",
       "4 Weather Forecast for Wellington Sat 22 Oct\n",
       "5 Weather Forecast for Wellington Sun 23 Oct\n",
       "6 Weather Forecast for Wellington Mon 24 Oct\n",
       "7 Weather Forecast for Wellington Tue 25 Oct\n",
       "8 Weather Forecast for Wellington Wed 26 Oct\n",
       "9 Weather Forecast for Wellington Thu 27 Oct\n",
       "  Weather                                                       Min_temp\n",
       "1 Mostly sunny. Breezy to brisk North to Nor'West winds.        9°Night \n",
       "2 Windy and partly cloudy. Strong and blustery Southerly winds. 8°Night \n",
       "3 Partly cloudy. Breezy Sou'East winds.                         9°Night \n",
       "4 Generally clear and windy. Brisk Northerly winds.             12°Night\n",
       "5 Partly cloudy. Fairly breezy Northerly winds.                 11°Night\n",
       "6 Partly cloudy. Fairly breezy Nor'East winds.                  11°Night\n",
       "7 Windy and partly cloudy. Breezy to brisk Northerly winds.     10°Night\n",
       "8 Partly cloudy. Breezy to brisk Northerly winds.               12°Night\n",
       "9 Showers. Breezy to brisk North to Nor'West winds.             11°Night\n",
       "  Max_temp Wind_Speed\n",
       "1 16°Day   32km/h    \n",
       "2 11°Day   46km/h    \n",
       "3 14°Day   18km/h    \n",
       "4 16°Day   42km/h    \n",
       "5 16°Day   25km/h    \n",
       "6 15°Day   23km/h    \n",
       "7 15°Day   32km/h    \n",
       "8 15°Day   32km/h    \n",
       "9 15°Day   32km/h    "
      ]
     },
     "metadata": {},
     "output_type": "display_data"
    }
   ],
   "source": [
    "# Now we want to see the dataframe for wellington\n",
    "wellington_df <- get_dataframe(wellington_url)\n",
    "wellington_df"
   ]
  },
  {
   "cell_type": "code",
<<<<<<< HEAD
   "execution_count": null,
   "id": "fe0adc22-6072-4804-9337-6648ba539ab6",
   "metadata": {
    "vscode": {
     "languageId": "r"
    }
   },
=======
   "execution_count": 28,
   "id": "c8b18f4b-536c-4cdd-af64-661c6eeaab07",
   "metadata": {},
>>>>>>> b12ad5eee52d9d6be1496175ccd2573cade9da19
   "outputs": [
    {
     "data": {
      "text/html": [
       "<table class=\"dataframe\">\n",
       "<caption>A tibble: 9 × 6</caption>\n",
       "<thead>\n",
       "\t<tr><th scope=col>Location</th><th scope=col>Date</th><th scope=col>Weather</th><th scope=col>Min_temp</th><th scope=col>Max_temp</th><th scope=col>Wind_Speed</th></tr>\n",
       "\t<tr><th scope=col>&lt;chr&gt;</th><th scope=col>&lt;chr&gt;</th><th scope=col>&lt;chr&gt;</th><th scope=col>&lt;chr&gt;</th><th scope=col>&lt;chr&gt;</th><th scope=col>&lt;chr&gt;</th></tr>\n",
       "</thead>\n",
       "<tbody>\n",
       "\t<tr><td>Weather Forecast for Hamilton</td><td>Wed 19 Oct</td><td>Light rain. Breezy to brisk West to Sou'West winds.</td><td>10°Night</td><td>18°Day</td><td>30km/h</td></tr>\n",
       "\t<tr><td>Weather Forecast for Hamilton</td><td>Thu 20 Oct</td><td>Showers. Breezy South to Sou'East winds.           </td><td>4°Night </td><td>19°Day</td><td>15km/h</td></tr>\n",
       "\t<tr><td>Weather Forecast for Hamilton</td><td>Fri 21 Oct</td><td>Mostly sunny. Light South to Sou'East winds.       </td><td>3°Night </td><td>19°Day</td><td>11km/h</td></tr>\n",
       "\t<tr><td>Weather Forecast for Hamilton</td><td>Sat 22 Oct</td><td>Mainly sunny. Breezy Sou'West winds.               </td><td>7°Night </td><td>20°Day</td><td>19km/h</td></tr>\n",
       "\t<tr><td>Weather Forecast for Hamilton</td><td>Sun 23 Oct</td><td>Partly cloudy. Fairly breezy Sou'West winds.       </td><td>8°Night </td><td>21°Day</td><td>25km/h</td></tr>\n",
       "\t<tr><td>Weather Forecast for Hamilton</td><td>Mon 24 Oct</td><td>Partly cloudy. Breezy South to Sou'West winds.     </td><td>10°Night</td><td>21°Day</td><td>18km/h</td></tr>\n",
       "\t<tr><td>Weather Forecast for Hamilton</td><td>Tue 25 Oct</td><td>Mostly cloudy. Breezy South to Sou'West winds.     </td><td>9°Night </td><td>21°Day</td><td>19km/h</td></tr>\n",
       "\t<tr><td>Weather Forecast for Hamilton</td><td>Wed 26 Oct</td><td>Morning showers. Breezy Northerly winds.           </td><td>10°Night</td><td>21°Day</td><td>17km/h</td></tr>\n",
       "\t<tr><td>Weather Forecast for Hamilton</td><td>Thu 27 Oct</td><td>Light rain. Breezy North to Nor'East winds.        </td><td>11°Night</td><td>21°Day</td><td>19km/h</td></tr>\n",
       "</tbody>\n",
       "</table>\n"
      ],
      "text/latex": [
       "A tibble: 9 × 6\n",
       "\\begin{tabular}{llllll}\n",
       " Location & Date & Weather & Min\\_temp & Max\\_temp & Wind\\_Speed\\\\\n",
       " <chr> & <chr> & <chr> & <chr> & <chr> & <chr>\\\\\n",
       "\\hline\n",
       "\t Weather Forecast for Hamilton & Wed 19 Oct & Light rain. Breezy to brisk West to Sou'West winds. & 10°Night & 18°Day & 30km/h\\\\\n",
       "\t Weather Forecast for Hamilton & Thu 20 Oct & Showers. Breezy South to Sou'East winds.            & 4°Night  & 19°Day & 15km/h\\\\\n",
       "\t Weather Forecast for Hamilton & Fri 21 Oct & Mostly sunny. Light South to Sou'East winds.        & 3°Night  & 19°Day & 11km/h\\\\\n",
       "\t Weather Forecast for Hamilton & Sat 22 Oct & Mainly sunny. Breezy Sou'West winds.                & 7°Night  & 20°Day & 19km/h\\\\\n",
       "\t Weather Forecast for Hamilton & Sun 23 Oct & Partly cloudy. Fairly breezy Sou'West winds.        & 8°Night  & 21°Day & 25km/h\\\\\n",
       "\t Weather Forecast for Hamilton & Mon 24 Oct & Partly cloudy. Breezy South to Sou'West winds.      & 10°Night & 21°Day & 18km/h\\\\\n",
       "\t Weather Forecast for Hamilton & Tue 25 Oct & Mostly cloudy. Breezy South to Sou'West winds.      & 9°Night  & 21°Day & 19km/h\\\\\n",
       "\t Weather Forecast for Hamilton & Wed 26 Oct & Morning showers. Breezy Northerly winds.            & 10°Night & 21°Day & 17km/h\\\\\n",
       "\t Weather Forecast for Hamilton & Thu 27 Oct & Light rain. Breezy North to Nor'East winds.         & 11°Night & 21°Day & 19km/h\\\\\n",
       "\\end{tabular}\n"
      ],
      "text/markdown": [
       "\n",
       "A tibble: 9 × 6\n",
       "\n",
       "| Location &lt;chr&gt; | Date &lt;chr&gt; | Weather &lt;chr&gt; | Min_temp &lt;chr&gt; | Max_temp &lt;chr&gt; | Wind_Speed &lt;chr&gt; |\n",
       "|---|---|---|---|---|---|\n",
       "| Weather Forecast for Hamilton | Wed 19 Oct | Light rain. Breezy to brisk West to Sou'West winds. | 10°Night | 18°Day | 30km/h |\n",
       "| Weather Forecast for Hamilton | Thu 20 Oct | Showers. Breezy South to Sou'East winds.            | 4°Night  | 19°Day | 15km/h |\n",
       "| Weather Forecast for Hamilton | Fri 21 Oct | Mostly sunny. Light South to Sou'East winds.        | 3°Night  | 19°Day | 11km/h |\n",
       "| Weather Forecast for Hamilton | Sat 22 Oct | Mainly sunny. Breezy Sou'West winds.                | 7°Night  | 20°Day | 19km/h |\n",
       "| Weather Forecast for Hamilton | Sun 23 Oct | Partly cloudy. Fairly breezy Sou'West winds.        | 8°Night  | 21°Day | 25km/h |\n",
       "| Weather Forecast for Hamilton | Mon 24 Oct | Partly cloudy. Breezy South to Sou'West winds.      | 10°Night | 21°Day | 18km/h |\n",
       "| Weather Forecast for Hamilton | Tue 25 Oct | Mostly cloudy. Breezy South to Sou'West winds.      | 9°Night  | 21°Day | 19km/h |\n",
       "| Weather Forecast for Hamilton | Wed 26 Oct | Morning showers. Breezy Northerly winds.            | 10°Night | 21°Day | 17km/h |\n",
       "| Weather Forecast for Hamilton | Thu 27 Oct | Light rain. Breezy North to Nor'East winds.         | 11°Night | 21°Day | 19km/h |\n",
       "\n"
      ],
      "text/plain": [
       "  Location                      Date      \n",
       "1 Weather Forecast for Hamilton Wed 19 Oct\n",
       "2 Weather Forecast for Hamilton Thu 20 Oct\n",
       "3 Weather Forecast for Hamilton Fri 21 Oct\n",
       "4 Weather Forecast for Hamilton Sat 22 Oct\n",
       "5 Weather Forecast for Hamilton Sun 23 Oct\n",
       "6 Weather Forecast for Hamilton Mon 24 Oct\n",
       "7 Weather Forecast for Hamilton Tue 25 Oct\n",
       "8 Weather Forecast for Hamilton Wed 26 Oct\n",
       "9 Weather Forecast for Hamilton Thu 27 Oct\n",
       "  Weather                                             Min_temp Max_temp\n",
       "1 Light rain. Breezy to brisk West to Sou'West winds. 10°Night 18°Day  \n",
       "2 Showers. Breezy South to Sou'East winds.            4°Night  19°Day  \n",
       "3 Mostly sunny. Light South to Sou'East winds.        3°Night  19°Day  \n",
       "4 Mainly sunny. Breezy Sou'West winds.                7°Night  20°Day  \n",
       "5 Partly cloudy. Fairly breezy Sou'West winds.        8°Night  21°Day  \n",
       "6 Partly cloudy. Breezy South to Sou'West winds.      10°Night 21°Day  \n",
       "7 Mostly cloudy. Breezy South to Sou'West winds.      9°Night  21°Day  \n",
       "8 Morning showers. Breezy Northerly winds.            10°Night 21°Day  \n",
       "9 Light rain. Breezy North to Nor'East winds.         11°Night 21°Day  \n",
       "  Wind_Speed\n",
       "1 30km/h    \n",
       "2 15km/h    \n",
       "3 11km/h    \n",
       "4 19km/h    \n",
       "5 25km/h    \n",
       "6 18km/h    \n",
       "7 19km/h    \n",
       "8 17km/h    \n",
       "9 19km/h    "
      ]
     },
     "metadata": {},
     "output_type": "display_data"
    }
   ],
   "source": [
    "# Now we want to see the dataframe for hamilton\n",
    "hamilton_df <- get_dataframe(hamilton_url)\n",
    "hamilton_df"
   ]
  },
  {
   "cell_type": "code",
<<<<<<< HEAD
   "execution_count": null,
   "id": "59c29600-2d60-4e83-8d1e-662b578a9d6f",
   "metadata": {
    "vscode": {
     "languageId": "r"
    }
   },
=======
   "execution_count": 25,
   "id": "8e09bd05-5d40-43f7-b3e3-571e25766177",
   "metadata": {},
>>>>>>> b12ad5eee52d9d6be1496175ccd2573cade9da19
   "outputs": [
    {
     "data": {
      "text/html": [
       "<table class=\"dataframe\">\n",
       "<caption>A tibble: 9 × 6</caption>\n",
       "<thead>\n",
       "\t<tr><th scope=col>Location</th><th scope=col>Date</th><th scope=col>Weather</th><th scope=col>Min_temp</th><th scope=col>Max_temp</th><th scope=col>Wind_Speed</th></tr>\n",
       "\t<tr><th scope=col>&lt;chr&gt;</th><th scope=col>&lt;chr&gt;</th><th scope=col>&lt;chr&gt;</th><th scope=col>&lt;chr&gt;</th><th scope=col>&lt;chr&gt;</th><th scope=col>&lt;chr&gt;</th></tr>\n",
       "</thead>\n",
       "<tbody>\n",
       "\t<tr><td>Weather Forecast for Tauranga</td><td>Wed 19 Oct</td><td>Showers. Fairly breezy West to Sou'West winds.    </td><td>11°Night</td><td>17°Day</td><td>25km/h</td></tr>\n",
       "\t<tr><td>Weather Forecast for Tauranga</td><td>Thu 20 Oct</td><td>Afternoon showers. Breezy South to Sou'East winds.</td><td>6°Night </td><td>17°Day</td><td>15km/h</td></tr>\n",
       "\t<tr><td>Weather Forecast for Tauranga</td><td>Fri 21 Oct</td><td>Mostly sunny. Light East to Nor'East winds.       </td><td>7°Night </td><td>16°Day</td><td>12km/h</td></tr>\n",
       "\t<tr><td>Weather Forecast for Tauranga</td><td>Sat 22 Oct</td><td>Mainly sunny. Breezy Westerly winds.              </td><td>10°Night</td><td>20°Day</td><td>14km/h</td></tr>\n",
       "\t<tr><td>Weather Forecast for Tauranga</td><td>Sun 23 Oct</td><td>Mainly sunny. Breezy West to Sou'West winds.      </td><td>11°Night</td><td>21°Day</td><td>18km/h</td></tr>\n",
       "\t<tr><td>Weather Forecast for Tauranga</td><td>Mon 24 Oct</td><td>Partly cloudy. Light West to Nor'West winds.      </td><td>12°Night</td><td>20°Day</td><td>12km/h</td></tr>\n",
       "\t<tr><td>Weather Forecast for Tauranga</td><td>Tue 25 Oct</td><td>Mostly cloudy. Light Nor'West winds.              </td><td>11°Night</td><td>19°Day</td><td>13km/h</td></tr>\n",
       "\t<tr><td>Weather Forecast for Tauranga</td><td>Wed 26 Oct</td><td>Partly cloudy. Light North to Nor'West winds.     </td><td>12°Night</td><td>19°Day</td><td>12km/h</td></tr>\n",
       "\t<tr><td>Weather Forecast for Tauranga</td><td>Thu 27 Oct</td><td>Light rain. Breezy Northerly winds.               </td><td>13°Night</td><td>18°Day</td><td>14km/h</td></tr>\n",
       "</tbody>\n",
       "</table>\n"
      ],
      "text/latex": [
       "A tibble: 9 × 6\n",
       "\\begin{tabular}{llllll}\n",
       " Location & Date & Weather & Min\\_temp & Max\\_temp & Wind\\_Speed\\\\\n",
       " <chr> & <chr> & <chr> & <chr> & <chr> & <chr>\\\\\n",
       "\\hline\n",
       "\t Weather Forecast for Tauranga & Wed 19 Oct & Showers. Fairly breezy West to Sou'West winds.     & 11°Night & 17°Day & 25km/h\\\\\n",
       "\t Weather Forecast for Tauranga & Thu 20 Oct & Afternoon showers. Breezy South to Sou'East winds. & 6°Night  & 17°Day & 15km/h\\\\\n",
       "\t Weather Forecast for Tauranga & Fri 21 Oct & Mostly sunny. Light East to Nor'East winds.        & 7°Night  & 16°Day & 12km/h\\\\\n",
       "\t Weather Forecast for Tauranga & Sat 22 Oct & Mainly sunny. Breezy Westerly winds.               & 10°Night & 20°Day & 14km/h\\\\\n",
       "\t Weather Forecast for Tauranga & Sun 23 Oct & Mainly sunny. Breezy West to Sou'West winds.       & 11°Night & 21°Day & 18km/h\\\\\n",
       "\t Weather Forecast for Tauranga & Mon 24 Oct & Partly cloudy. Light West to Nor'West winds.       & 12°Night & 20°Day & 12km/h\\\\\n",
       "\t Weather Forecast for Tauranga & Tue 25 Oct & Mostly cloudy. Light Nor'West winds.               & 11°Night & 19°Day & 13km/h\\\\\n",
       "\t Weather Forecast for Tauranga & Wed 26 Oct & Partly cloudy. Light North to Nor'West winds.      & 12°Night & 19°Day & 12km/h\\\\\n",
       "\t Weather Forecast for Tauranga & Thu 27 Oct & Light rain. Breezy Northerly winds.                & 13°Night & 18°Day & 14km/h\\\\\n",
       "\\end{tabular}\n"
      ],
      "text/markdown": [
       "\n",
       "A tibble: 9 × 6\n",
       "\n",
       "| Location &lt;chr&gt; | Date &lt;chr&gt; | Weather &lt;chr&gt; | Min_temp &lt;chr&gt; | Max_temp &lt;chr&gt; | Wind_Speed &lt;chr&gt; |\n",
       "|---|---|---|---|---|---|\n",
       "| Weather Forecast for Tauranga | Wed 19 Oct | Showers. Fairly breezy West to Sou'West winds.     | 11°Night | 17°Day | 25km/h |\n",
       "| Weather Forecast for Tauranga | Thu 20 Oct | Afternoon showers. Breezy South to Sou'East winds. | 6°Night  | 17°Day | 15km/h |\n",
       "| Weather Forecast for Tauranga | Fri 21 Oct | Mostly sunny. Light East to Nor'East winds.        | 7°Night  | 16°Day | 12km/h |\n",
       "| Weather Forecast for Tauranga | Sat 22 Oct | Mainly sunny. Breezy Westerly winds.               | 10°Night | 20°Day | 14km/h |\n",
       "| Weather Forecast for Tauranga | Sun 23 Oct | Mainly sunny. Breezy West to Sou'West winds.       | 11°Night | 21°Day | 18km/h |\n",
       "| Weather Forecast for Tauranga | Mon 24 Oct | Partly cloudy. Light West to Nor'West winds.       | 12°Night | 20°Day | 12km/h |\n",
       "| Weather Forecast for Tauranga | Tue 25 Oct | Mostly cloudy. Light Nor'West winds.               | 11°Night | 19°Day | 13km/h |\n",
       "| Weather Forecast for Tauranga | Wed 26 Oct | Partly cloudy. Light North to Nor'West winds.      | 12°Night | 19°Day | 12km/h |\n",
       "| Weather Forecast for Tauranga | Thu 27 Oct | Light rain. Breezy Northerly winds.                | 13°Night | 18°Day | 14km/h |\n",
       "\n"
      ],
      "text/plain": [
       "  Location                      Date      \n",
       "1 Weather Forecast for Tauranga Wed 19 Oct\n",
       "2 Weather Forecast for Tauranga Thu 20 Oct\n",
       "3 Weather Forecast for Tauranga Fri 21 Oct\n",
       "4 Weather Forecast for Tauranga Sat 22 Oct\n",
       "5 Weather Forecast for Tauranga Sun 23 Oct\n",
       "6 Weather Forecast for Tauranga Mon 24 Oct\n",
       "7 Weather Forecast for Tauranga Tue 25 Oct\n",
       "8 Weather Forecast for Tauranga Wed 26 Oct\n",
       "9 Weather Forecast for Tauranga Thu 27 Oct\n",
       "  Weather                                            Min_temp Max_temp\n",
       "1 Showers. Fairly breezy West to Sou'West winds.     11°Night 17°Day  \n",
       "2 Afternoon showers. Breezy South to Sou'East winds. 6°Night  17°Day  \n",
       "3 Mostly sunny. Light East to Nor'East winds.        7°Night  16°Day  \n",
       "4 Mainly sunny. Breezy Westerly winds.               10°Night 20°Day  \n",
       "5 Mainly sunny. Breezy West to Sou'West winds.       11°Night 21°Day  \n",
       "6 Partly cloudy. Light West to Nor'West winds.       12°Night 20°Day  \n",
       "7 Mostly cloudy. Light Nor'West winds.               11°Night 19°Day  \n",
       "8 Partly cloudy. Light North to Nor'West winds.      12°Night 19°Day  \n",
       "9 Light rain. Breezy Northerly winds.                13°Night 18°Day  \n",
       "  Wind_Speed\n",
       "1 25km/h    \n",
       "2 15km/h    \n",
       "3 12km/h    \n",
       "4 14km/h    \n",
       "5 18km/h    \n",
       "6 12km/h    \n",
       "7 13km/h    \n",
       "8 12km/h    \n",
       "9 14km/h    "
      ]
     },
     "metadata": {},
     "output_type": "display_data"
    }
   ],
   "source": [
    "# Now we want to see the dataframe for tauranga\n",
    "tauranga_df <- get_dataframe(tauranga_url)\n",
    "tauranga_df"
   ]
  },
  {
   "cell_type": "code",
<<<<<<< HEAD
   "execution_count": null,
   "id": "e027ae5f-f524-48bb-ad41-3308bbc3ac66",
   "metadata": {
    "vscode": {
     "languageId": "r"
    }
   },
=======
   "execution_count": 26,
   "id": "505d1890-9ae3-43ba-9675-9eedb10a1f8a",
   "metadata": {},
>>>>>>> b12ad5eee52d9d6be1496175ccd2573cade9da19
   "outputs": [
    {
     "data": {
      "text/html": [
       "<table class=\"dataframe\">\n",
       "<caption>A tibble: 9 × 6</caption>\n",
       "<thead>\n",
       "\t<tr><th scope=col>Location</th><th scope=col>Date</th><th scope=col>Weather</th><th scope=col>Min_temp</th><th scope=col>Max_temp</th><th scope=col>Wind_Speed</th></tr>\n",
       "\t<tr><th scope=col>&lt;chr&gt;</th><th scope=col>&lt;chr&gt;</th><th scope=col>&lt;chr&gt;</th><th scope=col>&lt;chr&gt;</th><th scope=col>&lt;chr&gt;</th><th scope=col>&lt;chr&gt;</th></tr>\n",
       "</thead>\n",
       "<tbody>\n",
       "\t<tr><td>Weather Forecast for Christchurch</td><td>Wed 19 Oct</td><td>Mostly sunny. Breezy North to Nor'East winds.                   </td><td>7°Night </td><td>16°Day</td><td>17km/h</td></tr>\n",
       "\t<tr><td>Weather Forecast for Christchurch</td><td>Thu 20 Oct</td><td>Partly cloudy. Breezy to brisk South to Sou'West winds.         </td><td>4°Night </td><td>11°Day</td><td>30km/h</td></tr>\n",
       "\t<tr><td>Weather Forecast for Christchurch</td><td>Fri 21 Oct</td><td>Mainly sunny. Breezy Nor'East winds.                            </td><td>6°Night </td><td>14°Day</td><td>18km/h</td></tr>\n",
       "\t<tr><td>Weather Forecast for Christchurch</td><td>Sat 22 Oct</td><td>Mostly sunny. Light Northerly winds.                            </td><td>9°Night </td><td>21°Day</td><td>13km/h</td></tr>\n",
       "\t<tr><td>Weather Forecast for Christchurch</td><td>Sun 23 Oct</td><td>Mostly cloudy. Light Southerly winds.                           </td><td>9°Night </td><td>17°Day</td><td>13km/h</td></tr>\n",
       "\t<tr><td>Weather Forecast for Christchurch</td><td>Mon 24 Oct</td><td>Morning showers. Breezy Easterly winds.                         </td><td>8°Night </td><td>15°Day</td><td>14km/h</td></tr>\n",
       "\t<tr><td>Weather Forecast for Christchurch</td><td>Tue 25 Oct</td><td>Morning clouds followed by afternoon sun. Breezy Easterly winds.</td><td>9°Night </td><td>17°Day</td><td>14km/h</td></tr>\n",
       "\t<tr><td>Weather Forecast for Christchurch</td><td>Wed 26 Oct</td><td>Partly cloudy. Breezy Nor'East winds.                           </td><td>10°Night</td><td>16°Day</td><td>14km/h</td></tr>\n",
       "\t<tr><td>Weather Forecast for Christchurch</td><td>Thu 27 Oct</td><td>Afternoon showers. Breezy North to Nor'East winds.              </td><td>10°Night</td><td>18°Day</td><td>14km/h</td></tr>\n",
       "</tbody>\n",
       "</table>\n"
      ],
      "text/latex": [
       "A tibble: 9 × 6\n",
       "\\begin{tabular}{llllll}\n",
       " Location & Date & Weather & Min\\_temp & Max\\_temp & Wind\\_Speed\\\\\n",
       " <chr> & <chr> & <chr> & <chr> & <chr> & <chr>\\\\\n",
       "\\hline\n",
       "\t Weather Forecast for Christchurch & Wed 19 Oct & Mostly sunny. Breezy North to Nor'East winds.                    & 7°Night  & 16°Day & 17km/h\\\\\n",
       "\t Weather Forecast for Christchurch & Thu 20 Oct & Partly cloudy. Breezy to brisk South to Sou'West winds.          & 4°Night  & 11°Day & 30km/h\\\\\n",
       "\t Weather Forecast for Christchurch & Fri 21 Oct & Mainly sunny. Breezy Nor'East winds.                             & 6°Night  & 14°Day & 18km/h\\\\\n",
       "\t Weather Forecast for Christchurch & Sat 22 Oct & Mostly sunny. Light Northerly winds.                             & 9°Night  & 21°Day & 13km/h\\\\\n",
       "\t Weather Forecast for Christchurch & Sun 23 Oct & Mostly cloudy. Light Southerly winds.                            & 9°Night  & 17°Day & 13km/h\\\\\n",
       "\t Weather Forecast for Christchurch & Mon 24 Oct & Morning showers. Breezy Easterly winds.                          & 8°Night  & 15°Day & 14km/h\\\\\n",
       "\t Weather Forecast for Christchurch & Tue 25 Oct & Morning clouds followed by afternoon sun. Breezy Easterly winds. & 9°Night  & 17°Day & 14km/h\\\\\n",
       "\t Weather Forecast for Christchurch & Wed 26 Oct & Partly cloudy. Breezy Nor'East winds.                            & 10°Night & 16°Day & 14km/h\\\\\n",
       "\t Weather Forecast for Christchurch & Thu 27 Oct & Afternoon showers. Breezy North to Nor'East winds.               & 10°Night & 18°Day & 14km/h\\\\\n",
       "\\end{tabular}\n"
      ],
      "text/markdown": [
       "\n",
       "A tibble: 9 × 6\n",
       "\n",
       "| Location &lt;chr&gt; | Date &lt;chr&gt; | Weather &lt;chr&gt; | Min_temp &lt;chr&gt; | Max_temp &lt;chr&gt; | Wind_Speed &lt;chr&gt; |\n",
       "|---|---|---|---|---|---|\n",
       "| Weather Forecast for Christchurch | Wed 19 Oct | Mostly sunny. Breezy North to Nor'East winds.                    | 7°Night  | 16°Day | 17km/h |\n",
       "| Weather Forecast for Christchurch | Thu 20 Oct | Partly cloudy. Breezy to brisk South to Sou'West winds.          | 4°Night  | 11°Day | 30km/h |\n",
       "| Weather Forecast for Christchurch | Fri 21 Oct | Mainly sunny. Breezy Nor'East winds.                             | 6°Night  | 14°Day | 18km/h |\n",
       "| Weather Forecast for Christchurch | Sat 22 Oct | Mostly sunny. Light Northerly winds.                             | 9°Night  | 21°Day | 13km/h |\n",
       "| Weather Forecast for Christchurch | Sun 23 Oct | Mostly cloudy. Light Southerly winds.                            | 9°Night  | 17°Day | 13km/h |\n",
       "| Weather Forecast for Christchurch | Mon 24 Oct | Morning showers. Breezy Easterly winds.                          | 8°Night  | 15°Day | 14km/h |\n",
       "| Weather Forecast for Christchurch | Tue 25 Oct | Morning clouds followed by afternoon sun. Breezy Easterly winds. | 9°Night  | 17°Day | 14km/h |\n",
       "| Weather Forecast for Christchurch | Wed 26 Oct | Partly cloudy. Breezy Nor'East winds.                            | 10°Night | 16°Day | 14km/h |\n",
       "| Weather Forecast for Christchurch | Thu 27 Oct | Afternoon showers. Breezy North to Nor'East winds.               | 10°Night | 18°Day | 14km/h |\n",
       "\n"
      ],
      "text/plain": [
       "  Location                          Date      \n",
       "1 Weather Forecast for Christchurch Wed 19 Oct\n",
       "2 Weather Forecast for Christchurch Thu 20 Oct\n",
       "3 Weather Forecast for Christchurch Fri 21 Oct\n",
       "4 Weather Forecast for Christchurch Sat 22 Oct\n",
       "5 Weather Forecast for Christchurch Sun 23 Oct\n",
       "6 Weather Forecast for Christchurch Mon 24 Oct\n",
       "7 Weather Forecast for Christchurch Tue 25 Oct\n",
       "8 Weather Forecast for Christchurch Wed 26 Oct\n",
       "9 Weather Forecast for Christchurch Thu 27 Oct\n",
       "  Weather                                                          Min_temp\n",
       "1 Mostly sunny. Breezy North to Nor'East winds.                    7°Night \n",
       "2 Partly cloudy. Breezy to brisk South to Sou'West winds.          4°Night \n",
       "3 Mainly sunny. Breezy Nor'East winds.                             6°Night \n",
       "4 Mostly sunny. Light Northerly winds.                             9°Night \n",
       "5 Mostly cloudy. Light Southerly winds.                            9°Night \n",
       "6 Morning showers. Breezy Easterly winds.                          8°Night \n",
       "7 Morning clouds followed by afternoon sun. Breezy Easterly winds. 9°Night \n",
       "8 Partly cloudy. Breezy Nor'East winds.                            10°Night\n",
       "9 Afternoon showers. Breezy North to Nor'East winds.               10°Night\n",
       "  Max_temp Wind_Speed\n",
       "1 16°Day   17km/h    \n",
       "2 11°Day   30km/h    \n",
       "3 14°Day   18km/h    \n",
       "4 21°Day   13km/h    \n",
       "5 17°Day   13km/h    \n",
       "6 15°Day   14km/h    \n",
       "7 17°Day   14km/h    \n",
       "8 16°Day   14km/h    \n",
       "9 18°Day   14km/h    "
      ]
     },
     "metadata": {},
     "output_type": "display_data"
    }
   ],
   "source": [
    "# Now we want to see the dataframe for christchurch\n",
    "christchurch_df <- get_dataframe(christchurch_url)\n",
    "christchurch_df"
   ]
  },
  {
   "cell_type": "code",
<<<<<<< HEAD
   "execution_count": null,
   "id": "5a92bfbe-8782-4dfa-b7e0-25bbc2bad676",
   "metadata": {
    "vscode": {
     "languageId": "r"
    }
   },
=======
   "execution_count": 27,
   "id": "873295ea-41d5-4e96-979f-1693ce0c3980",
   "metadata": {},
>>>>>>> b12ad5eee52d9d6be1496175ccd2573cade9da19
   "outputs": [
    {
     "data": {
      "text/html": [
       "<table class=\"dataframe\">\n",
       "<caption>A tibble: 9 × 6</caption>\n",
       "<thead>\n",
       "\t<tr><th scope=col>Location</th><th scope=col>Date</th><th scope=col>Weather</th><th scope=col>Min_temp</th><th scope=col>Max_temp</th><th scope=col>Wind_Speed</th></tr>\n",
       "\t<tr><th scope=col>&lt;chr&gt;</th><th scope=col>&lt;chr&gt;</th><th scope=col>&lt;chr&gt;</th><th scope=col>&lt;chr&gt;</th><th scope=col>&lt;chr&gt;</th><th scope=col>&lt;chr&gt;</th></tr>\n",
       "</thead>\n",
       "<tbody>\n",
       "\t<tr><td>Weather Forecast for Dunedin</td><td>Wed 19 Oct</td><td>Windy, with light rain in the afternoon. Brisk West to Nor'West winds.</td><td>5°Night</td><td>14°Day</td><td>40km/h</td></tr>\n",
       "\t<tr><td>Weather Forecast for Dunedin</td><td>Thu 20 Oct</td><td>Morning showers. Breezy to brisk Sou'West winds.                      </td><td>2°Night</td><td>9°Day </td><td>29km/h</td></tr>\n",
       "\t<tr><td>Weather Forecast for Dunedin</td><td>Fri 21 Oct</td><td>Mainly sunny. Breezy North to Nor'East winds.                         </td><td>6°Night</td><td>14°Day</td><td>17km/h</td></tr>\n",
       "\t<tr><td>Weather Forecast for Dunedin</td><td>Sat 22 Oct</td><td>Partly cloudy. Light North to Nor'East winds.                         </td><td>9°Night</td><td>17°Day</td><td>10km/h</td></tr>\n",
       "\t<tr><td>Weather Forecast for Dunedin</td><td>Sun 23 Oct</td><td>Light rain. Breezy Southerly winds.                                   </td><td>6°Night</td><td>11°Day</td><td>14km/h</td></tr>\n",
       "\t<tr><td>Weather Forecast for Dunedin</td><td>Mon 24 Oct</td><td>Showers. Light Easterly winds.                                        </td><td>7°Night</td><td>11°Day</td><td>13km/h</td></tr>\n",
       "\t<tr><td>Weather Forecast for Dunedin</td><td>Tue 25 Oct</td><td>Morning showers. Breezy Sou'West winds.                               </td><td>7°Night</td><td>13°Day</td><td>16km/h</td></tr>\n",
       "\t<tr><td>Weather Forecast for Dunedin</td><td>Wed 26 Oct</td><td>Afternoon showers. Breezy Nor'West winds.                             </td><td>8°Night</td><td>14°Day</td><td>14km/h</td></tr>\n",
       "\t<tr><td>Weather Forecast for Dunedin</td><td>Thu 27 Oct</td><td>Showers. Breezy East to Nor'East winds.                               </td><td>8°Night</td><td>13°Day</td><td>18km/h</td></tr>\n",
       "</tbody>\n",
       "</table>\n"
      ],
      "text/latex": [
       "A tibble: 9 × 6\n",
       "\\begin{tabular}{llllll}\n",
       " Location & Date & Weather & Min\\_temp & Max\\_temp & Wind\\_Speed\\\\\n",
       " <chr> & <chr> & <chr> & <chr> & <chr> & <chr>\\\\\n",
       "\\hline\n",
       "\t Weather Forecast for Dunedin & Wed 19 Oct & Windy, with light rain in the afternoon. Brisk West to Nor'West winds. & 5°Night & 14°Day & 40km/h\\\\\n",
       "\t Weather Forecast for Dunedin & Thu 20 Oct & Morning showers. Breezy to brisk Sou'West winds.                       & 2°Night & 9°Day  & 29km/h\\\\\n",
       "\t Weather Forecast for Dunedin & Fri 21 Oct & Mainly sunny. Breezy North to Nor'East winds.                          & 6°Night & 14°Day & 17km/h\\\\\n",
       "\t Weather Forecast for Dunedin & Sat 22 Oct & Partly cloudy. Light North to Nor'East winds.                          & 9°Night & 17°Day & 10km/h\\\\\n",
       "\t Weather Forecast for Dunedin & Sun 23 Oct & Light rain. Breezy Southerly winds.                                    & 6°Night & 11°Day & 14km/h\\\\\n",
       "\t Weather Forecast for Dunedin & Mon 24 Oct & Showers. Light Easterly winds.                                         & 7°Night & 11°Day & 13km/h\\\\\n",
       "\t Weather Forecast for Dunedin & Tue 25 Oct & Morning showers. Breezy Sou'West winds.                                & 7°Night & 13°Day & 16km/h\\\\\n",
       "\t Weather Forecast for Dunedin & Wed 26 Oct & Afternoon showers. Breezy Nor'West winds.                              & 8°Night & 14°Day & 14km/h\\\\\n",
       "\t Weather Forecast for Dunedin & Thu 27 Oct & Showers. Breezy East to Nor'East winds.                                & 8°Night & 13°Day & 18km/h\\\\\n",
       "\\end{tabular}\n"
      ],
      "text/markdown": [
       "\n",
       "A tibble: 9 × 6\n",
       "\n",
       "| Location &lt;chr&gt; | Date &lt;chr&gt; | Weather &lt;chr&gt; | Min_temp &lt;chr&gt; | Max_temp &lt;chr&gt; | Wind_Speed &lt;chr&gt; |\n",
       "|---|---|---|---|---|---|\n",
       "| Weather Forecast for Dunedin | Wed 19 Oct | Windy, with light rain in the afternoon. Brisk West to Nor'West winds. | 5°Night | 14°Day | 40km/h |\n",
       "| Weather Forecast for Dunedin | Thu 20 Oct | Morning showers. Breezy to brisk Sou'West winds.                       | 2°Night | 9°Day  | 29km/h |\n",
       "| Weather Forecast for Dunedin | Fri 21 Oct | Mainly sunny. Breezy North to Nor'East winds.                          | 6°Night | 14°Day | 17km/h |\n",
       "| Weather Forecast for Dunedin | Sat 22 Oct | Partly cloudy. Light North to Nor'East winds.                          | 9°Night | 17°Day | 10km/h |\n",
       "| Weather Forecast for Dunedin | Sun 23 Oct | Light rain. Breezy Southerly winds.                                    | 6°Night | 11°Day | 14km/h |\n",
       "| Weather Forecast for Dunedin | Mon 24 Oct | Showers. Light Easterly winds.                                         | 7°Night | 11°Day | 13km/h |\n",
       "| Weather Forecast for Dunedin | Tue 25 Oct | Morning showers. Breezy Sou'West winds.                                | 7°Night | 13°Day | 16km/h |\n",
       "| Weather Forecast for Dunedin | Wed 26 Oct | Afternoon showers. Breezy Nor'West winds.                              | 8°Night | 14°Day | 14km/h |\n",
       "| Weather Forecast for Dunedin | Thu 27 Oct | Showers. Breezy East to Nor'East winds.                                | 8°Night | 13°Day | 18km/h |\n",
       "\n"
      ],
      "text/plain": [
       "  Location                     Date      \n",
       "1 Weather Forecast for Dunedin Wed 19 Oct\n",
       "2 Weather Forecast for Dunedin Thu 20 Oct\n",
       "3 Weather Forecast for Dunedin Fri 21 Oct\n",
       "4 Weather Forecast for Dunedin Sat 22 Oct\n",
       "5 Weather Forecast for Dunedin Sun 23 Oct\n",
       "6 Weather Forecast for Dunedin Mon 24 Oct\n",
       "7 Weather Forecast for Dunedin Tue 25 Oct\n",
       "8 Weather Forecast for Dunedin Wed 26 Oct\n",
       "9 Weather Forecast for Dunedin Thu 27 Oct\n",
       "  Weather                                                               \n",
       "1 Windy, with light rain in the afternoon. Brisk West to Nor'West winds.\n",
       "2 Morning showers. Breezy to brisk Sou'West winds.                      \n",
       "3 Mainly sunny. Breezy North to Nor'East winds.                         \n",
       "4 Partly cloudy. Light North to Nor'East winds.                         \n",
       "5 Light rain. Breezy Southerly winds.                                   \n",
       "6 Showers. Light Easterly winds.                                        \n",
       "7 Morning showers. Breezy Sou'West winds.                               \n",
       "8 Afternoon showers. Breezy Nor'West winds.                             \n",
       "9 Showers. Breezy East to Nor'East winds.                               \n",
       "  Min_temp Max_temp Wind_Speed\n",
       "1 5°Night  14°Day   40km/h    \n",
       "2 2°Night  9°Day    29km/h    \n",
       "3 6°Night  14°Day   17km/h    \n",
       "4 9°Night  17°Day   10km/h    \n",
       "5 6°Night  11°Day   14km/h    \n",
       "6 7°Night  11°Day   13km/h    \n",
       "7 7°Night  13°Day   16km/h    \n",
       "8 8°Night  14°Day   14km/h    \n",
       "9 8°Night  13°Day   18km/h    "
      ]
     },
     "metadata": {},
     "output_type": "display_data"
    }
   ],
   "source": [
    "# Now we want to see the dataframe for dunedin\n",
    "dunedin_df <- get_dataframe(dunedin_url)\n",
    "dunedin_df"
   ]
  },
  {
   "cell_type": "code",
   "execution_count": null,
<<<<<<< HEAD
   "id": "39514a08-a596-4db0-91d0-dab754307bc4",
   "metadata": {
    "vscode": {
     "languageId": "r"
    }
   },
=======
   "id": "90b28b3a-f444-4001-9780-7d819379f9a2",
   "metadata": {},
>>>>>>> b12ad5eee52d9d6be1496175ccd2573cade9da19
   "outputs": [],
   "source": []
  }
 ],
 "metadata": {
  "kernelspec": {
   "display_name": "R",
   "language": "R",
   "name": "ir"
  },
  "language_info": {
   "codemirror_mode": "r",
   "file_extension": ".r",
   "mimetype": "text/x-r-source",
   "name": "R",
   "pygments_lexer": "r",
   "version": "4.2.1"
  }
 },
 "nbformat": 4,
 "nbformat_minor": 5
}
