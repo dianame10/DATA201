{
 "cells": [
  {
   "cell_type": "code",
   "execution_count": 33,
   "metadata": {
    "vscode": {
     "languageId": "r"
    }
   },
   "outputs": [
    {
     "name": "stderr",
     "output_type": "stream",
     "text": [
      "── \u001b[1mAttaching packages\u001b[22m ─────────────────────────────────────── tidyverse 1.3.2 ──\n",
      "\u001b[32m✔\u001b[39m \u001b[34mggplot2\u001b[39m 3.3.6     \u001b[32m✔\u001b[39m \u001b[34mpurrr  \u001b[39m 0.3.4\n",
      "\u001b[32m✔\u001b[39m \u001b[34mtibble \u001b[39m 3.1.8     \u001b[32m✔\u001b[39m \u001b[34mdplyr  \u001b[39m 1.0.9\n",
      "\u001b[32m✔\u001b[39m \u001b[34mtidyr  \u001b[39m 1.2.0     \u001b[32m✔\u001b[39m \u001b[34mstringr\u001b[39m 1.4.1\n",
      "\u001b[32m✔\u001b[39m \u001b[34mreadr  \u001b[39m 2.1.2     \u001b[32m✔\u001b[39m \u001b[34mforcats\u001b[39m 0.5.1\n",
      "── \u001b[1mConflicts\u001b[22m ────────────────────────────────────────── tidyverse_conflicts() ──\n",
      "\u001b[31m✖\u001b[39m \u001b[34mdplyr\u001b[39m::\u001b[32mfilter()\u001b[39m         masks \u001b[34mstats\u001b[39m::filter()\n",
      "\u001b[31m✖\u001b[39m \u001b[34mreadr\u001b[39m::\u001b[32mguess_encoding()\u001b[39m masks \u001b[34mrvest\u001b[39m::guess_encoding()\n",
      "\u001b[31m✖\u001b[39m \u001b[34mcurl\u001b[39m::\u001b[32mhandle_reset()\u001b[39m    masks \u001b[34mhttr\u001b[39m::handle_reset()\n",
      "\u001b[31m✖\u001b[39m \u001b[34mdplyr\u001b[39m::\u001b[32mlag()\u001b[39m            masks \u001b[34mstats\u001b[39m::lag()\n",
      "\u001b[31m✖\u001b[39m \u001b[34mreadr\u001b[39m::\u001b[32mparse_date()\u001b[39m     masks \u001b[34mcurl\u001b[39m::parse_date()\n",
      "\n",
      "Attaching package: ‘magrittr’\n",
      "\n",
      "\n",
      "The following object is masked from ‘package:purrr’:\n",
      "\n",
      "    set_names\n",
      "\n",
      "\n",
      "The following object is masked from ‘package:tidyr’:\n",
      "\n",
      "    extract\n",
      "\n",
      "\n"
     ]
    }
   ],
   "source": [
    "# install.packages(\"rvest\")\n",
    "# remotes::install_github(\"dmi3kno/polite\")(\"politer\")\n",
    "# install.packages(\"xml2\")\n",
    "library(rvest) # rvest makes scraping easier\n",
    "library(polite) # polite is the \"polite\" version of rvest\n",
    "library(xml2) # makes it easier to work with HTML and XML from R\n",
    "\n",
    "\n",
    "library(tidyverse)\n",
    "library(magrittr)\n",
    "library(purrr) \n",
    "library(glue) \n",
    "library(stringr) "
   ]
  },
  {
   "cell_type": "markdown",
   "metadata": {},
   "source": [
    "## Use API"
   ]
  },
  {
   "cell_type": "code",
   "execution_count": 1,
   "metadata": {
    "vscode": {
     "languageId": "r"
    }
   },
   "outputs": [
    {
     "name": "stderr",
     "output_type": "stream",
     "text": [
      "Installing package into ‘/home/christopher/R/x86_64-pc-linux-gnu-library/4.2’\n",
      "(as ‘lib’ is unspecified)\n",
      "\n",
      "Using libcurl 7.81.0 with OpenSSL/3.0.2\n",
      "\n",
      "\n",
      "Attaching package: ‘curl’\n",
      "\n",
      "\n",
      "The following object is masked from ‘package:httr’:\n",
      "\n",
      "    handle_reset\n",
      "\n",
      "\n"
     ]
    }
   ],
   "source": [
    "install.packages('curl')\n",
    "library(httr)\n",
    "library(curl)"
   ]
  },
  {
   "cell_type": "code",
   "execution_count": 36,
   "metadata": {
    "vscode": {
     "languageId": "r"
    }
   },
   "outputs": [
    {
     "data": {
      "text/html": [
       "<table class=\"dataframe\">\n",
       "<caption>A tibble: 8 × 5</caption>\n",
       "<thead>\n",
       "\t<tr><th scope=col>Date</th><th scope=col>Temperature</th><th scope=col>WindSpeed</th><th scope=col>Humidity</th><th scope=col>Conditions</th></tr>\n",
       "\t<tr><th scope=col>&lt;chr&gt;</th><th scope=col>&lt;dbl&gt;</th><th scope=col>&lt;dbl&gt;</th><th scope=col>&lt;dbl&gt;</th><th scope=col>&lt;chr&gt;</th></tr>\n",
       "</thead>\n",
       "<tbody>\n",
       "\t<tr><td>2022-10-13</td><td>10.2</td><td>18.7</td><td>72.6</td><td>Rain, Partially cloudy</td></tr>\n",
       "\t<tr><td>2022-10-14</td><td> 8.3</td><td>31.5</td><td>76.7</td><td>Partially cloudy      </td></tr>\n",
       "\t<tr><td>2022-10-15</td><td> 9.9</td><td>39.4</td><td>72.0</td><td>Partially cloudy      </td></tr>\n",
       "\t<tr><td>2022-10-16</td><td>11.3</td><td>21.6</td><td>79.4</td><td>Clear                 </td></tr>\n",
       "\t<tr><td>2022-10-17</td><td>10.2</td><td>24.1</td><td>86.7</td><td>Rain, Partially cloudy</td></tr>\n",
       "\t<tr><td>2022-10-18</td><td> 9.4</td><td>38.9</td><td>82.9</td><td>Rain, Partially cloudy</td></tr>\n",
       "\t<tr><td>2022-10-19</td><td> 9.5</td><td>35.3</td><td>78.1</td><td>Rain, Partially cloudy</td></tr>\n",
       "\t<tr><td>2022-10-20</td><td>10.9</td><td>29.5</td><td>65.8</td><td>Partially cloudy      </td></tr>\n",
       "</tbody>\n",
       "</table>\n"
      ],
      "text/latex": [
       "A tibble: 8 × 5\n",
       "\\begin{tabular}{lllll}\n",
       " Date & Temperature & WindSpeed & Humidity & Conditions\\\\\n",
       " <chr> & <dbl> & <dbl> & <dbl> & <chr>\\\\\n",
       "\\hline\n",
       "\t 2022-10-13 & 10.2 & 18.7 & 72.6 & Rain, Partially cloudy\\\\\n",
       "\t 2022-10-14 &  8.3 & 31.5 & 76.7 & Partially cloudy      \\\\\n",
       "\t 2022-10-15 &  9.9 & 39.4 & 72.0 & Partially cloudy      \\\\\n",
       "\t 2022-10-16 & 11.3 & 21.6 & 79.4 & Clear                 \\\\\n",
       "\t 2022-10-17 & 10.2 & 24.1 & 86.7 & Rain, Partially cloudy\\\\\n",
       "\t 2022-10-18 &  9.4 & 38.9 & 82.9 & Rain, Partially cloudy\\\\\n",
       "\t 2022-10-19 &  9.5 & 35.3 & 78.1 & Rain, Partially cloudy\\\\\n",
       "\t 2022-10-20 & 10.9 & 29.5 & 65.8 & Partially cloudy      \\\\\n",
       "\\end{tabular}\n"
      ],
      "text/markdown": [
       "\n",
       "A tibble: 8 × 5\n",
       "\n",
       "| Date &lt;chr&gt; | Temperature &lt;dbl&gt; | WindSpeed &lt;dbl&gt; | Humidity &lt;dbl&gt; | Conditions &lt;chr&gt; |\n",
       "|---|---|---|---|---|\n",
       "| 2022-10-13 | 10.2 | 18.7 | 72.6 | Rain, Partially cloudy |\n",
       "| 2022-10-14 |  8.3 | 31.5 | 76.7 | Partially cloudy       |\n",
       "| 2022-10-15 |  9.9 | 39.4 | 72.0 | Partially cloudy       |\n",
       "| 2022-10-16 | 11.3 | 21.6 | 79.4 | Clear                  |\n",
       "| 2022-10-17 | 10.2 | 24.1 | 86.7 | Rain, Partially cloudy |\n",
       "| 2022-10-18 |  9.4 | 38.9 | 82.9 | Rain, Partially cloudy |\n",
       "| 2022-10-19 |  9.5 | 35.3 | 78.1 | Rain, Partially cloudy |\n",
       "| 2022-10-20 | 10.9 | 29.5 | 65.8 | Partially cloudy       |\n",
       "\n"
      ],
      "text/plain": [
       "  Date       Temperature WindSpeed Humidity Conditions            \n",
       "1 2022-10-13 10.2        18.7      72.6     Rain, Partially cloudy\n",
       "2 2022-10-14  8.3        31.5      76.7     Partially cloudy      \n",
       "3 2022-10-15  9.9        39.4      72.0     Partially cloudy      \n",
       "4 2022-10-16 11.3        21.6      79.4     Clear                 \n",
       "5 2022-10-17 10.2        24.1      86.7     Rain, Partially cloudy\n",
       "6 2022-10-18  9.4        38.9      82.9     Rain, Partially cloudy\n",
       "7 2022-10-19  9.5        35.3      78.1     Rain, Partially cloudy\n",
       "8 2022-10-20 10.9        29.5      65.8     Partially cloudy      "
      ]
     },
     "metadata": {},
     "output_type": "display_data"
    }
   ],
   "source": [
    "\n",
    "get_information_list <- function(data, index) {\n",
    "    empty <- vector(mode = \"list\", length = 0) \n",
    "    for(i in seq_along(data)){ \n",
    "        empty <- append(empty, data[i][[1]][[index]]) \n",
    "    }\n",
    "    return(empty)\n",
    "}\n",
    "\n",
    "get_weather_data <- function(city){\n",
    "\n",
    "    currentDate <- Sys.Date()\n",
    "    \n",
    "    lastWeek <- as.Date(currentDate) - 7\n",
    "    \n",
    "\n",
    "    response_raw <- GET(glue(\"https://weather.visualcrossing.com/VisualCrossingWebServices/rest/services/timeline/{city}/{lastWeek}/{currentDate}?unitGroup=metric&key=GMTLW3T9CX22FK8GH662Q9GPZ&contentType=json\")) \n",
    "\n",
    "    response <- content(response_raw) # here I get the body content of the response\n",
    "\n",
    "\n",
    "    result_weather_data <- tibble(Date = get_information_list(response[[\"days\"]], \"datetime\"),\n",
    "                                    Temperature = get_information_list(response[[\"days\"]], \"temp\"),\n",
    "                                    WindSpeed = get_information_list(response[[\"days\"]], \"windspeed\"),\n",
    "                                    Humidity = get_information_list(response[[\"days\"]], \"humidity\"),\n",
    "                                    Conditions = get_information_list(response[[\"days\"]], \"conditions\"),)\n",
    "    result_weather_data <- result_weather_data %>% mutate(across(Date, as.character)) %>%\n",
    "                                                    mutate(across(Temperature, as.double)) %>%\n",
    "                                                    mutate(across(WindSpeed, as.double)) %>%\n",
    "                                                    mutate(across(Humidity, as.double)) %>%\n",
    "                                                    mutate(across(Conditions, as.character))\n",
    "\n",
    "}\n",
    "\n",
    "the_data<-get_weather_data(\"christchurch\")\n",
    "the_data"
   ]
  }
 ],
 "metadata": {
  "kernelspec": {
   "display_name": "R",
   "language": "R",
   "name": "ir"
  },
  "language_info": {
   "codemirror_mode": "r",
   "file_extension": ".r",
   "mimetype": "text/x-r-source",
   "name": "R",
   "pygments_lexer": "r",
   "version": "4.2.1"
  },
  "orig_nbformat": 4,
  "vscode": {
   "interpreter": {
    "hash": "916dbcbb3f70747c44a77c7bcd40155683ae19c65e1c03b4aa3499c5328201f1"
   }
  }
 },
 "nbformat": 4,
 "nbformat_minor": 2
}
