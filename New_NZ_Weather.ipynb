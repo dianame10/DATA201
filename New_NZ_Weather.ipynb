{
 "cells": [
  {
   "cell_type": "code",
   "execution_count": 2,
   "metadata": {
    "vscode": {
     "languageId": "r"
    }
   },
   "outputs": [
    {
     "name": "stderr",
     "output_type": "stream",
     "text": [
      "── \u001b[1mAttaching packages\u001b[22m ─────────────────────────────────────── tidyverse 1.3.2 ──\n",
      "\u001b[32m✔\u001b[39m \u001b[34mggplot2\u001b[39m 3.3.6     \u001b[32m✔\u001b[39m \u001b[34mpurrr  \u001b[39m 0.3.4\n",
      "\u001b[32m✔\u001b[39m \u001b[34mtibble \u001b[39m 3.1.8     \u001b[32m✔\u001b[39m \u001b[34mdplyr  \u001b[39m 1.0.9\n",
      "\u001b[32m✔\u001b[39m \u001b[34mtidyr  \u001b[39m 1.2.0     \u001b[32m✔\u001b[39m \u001b[34mstringr\u001b[39m 1.4.1\n",
      "\u001b[32m✔\u001b[39m \u001b[34mreadr  \u001b[39m 2.1.2     \u001b[32m✔\u001b[39m \u001b[34mforcats\u001b[39m 0.5.1\n",
      "── \u001b[1mConflicts\u001b[22m ────────────────────────────────────────── tidyverse_conflicts() ──\n",
      "\u001b[31m✖\u001b[39m \u001b[34mdplyr\u001b[39m::\u001b[32mfilter()\u001b[39m         masks \u001b[34mstats\u001b[39m::filter()\n",
      "\u001b[31m✖\u001b[39m \u001b[34mreadr\u001b[39m::\u001b[32mguess_encoding()\u001b[39m masks \u001b[34mrvest\u001b[39m::guess_encoding()\n",
      "\u001b[31m✖\u001b[39m \u001b[34mdplyr\u001b[39m::\u001b[32mlag()\u001b[39m            masks \u001b[34mstats\u001b[39m::lag()\n",
      "\n",
      "Attaching package: ‘magrittr’\n",
      "\n",
      "\n",
      "The following object is masked from ‘package:purrr’:\n",
      "\n",
      "    set_names\n",
      "\n",
      "\n",
      "The following object is masked from ‘package:tidyr’:\n",
      "\n",
      "    extract\n",
      "\n",
      "\n"
     ]
    }
   ],
   "source": [
    "# install.packages(\"rvest\")\n",
    "# remotes::install_github(\"dmi3kno/polite\")(\"politer\")\n",
    "# install.packages(\"xml2\")\n",
    "library(rvest) # rvest makes scraping easier\n",
    "library(polite) # polite is the \"polite\" version of rvest\n",
    "library(xml2) # makes it easier to work with HTML and XML from R\n",
    "\n",
    "\n",
    "library(tidyverse)\n",
    "library(magrittr)\n",
    "library(purrr) \n",
    "library(glue) \n",
    "library(stringr) "
   ]
  },
  {
   "cell_type": "markdown",
   "metadata": {},
   "source": [
    "## Use API"
   ]
  },
  {
   "cell_type": "markdown",
   "metadata": {},
   "source": [
    "To get the weather history data we use api from this website https://www.visualcrossing.com/ . The api from that website allow us to get various kind of information about the weather in specific city and in certain range of time. However in our case we only interested about weather history from a week ago to the current date."
   ]
  },
  {
   "cell_type": "code",
   "execution_count": 8,
   "metadata": {
    "vscode": {
     "languageId": "r"
    }
   },
   "outputs": [
    {
     "name": "stderr",
     "output_type": "stream",
     "text": [
      "\n",
      "Attaching package: ‘jsonlite’\n",
      "\n",
      "\n",
      "The following object is masked from ‘package:purrr’:\n",
      "\n",
      "    flatten\n",
      "\n",
      "\n"
     ]
    }
   ],
   "source": [
    "#first we load the httr library so that we can fetch the response from an api\n",
    "library(httr)\n",
    "library(jsonlite)"
   ]
  },
  {
   "cell_type": "code",
   "execution_count": 16,
   "metadata": {
    "vscode": {
     "languageId": "r"
    }
   },
   "outputs": [
    {
     "data": {
      "text/html": [
       "'Something went wrong: possibly maximum number of request has been reached'"
      ],
      "text/latex": [
       "'Something went wrong: possibly maximum number of request has been reached'"
      ],
      "text/markdown": [
       "'Something went wrong: possibly maximum number of request has been reached'"
      ],
      "text/plain": [
       "[1] \"Something went wrong: possibly maximum number of request has been reached\""
      ]
     },
     "metadata": {},
     "output_type": "display_data"
    }
   ],
   "source": [
    "# this is helper function to get the actually desired data inside the list\n",
    "# this function takes 2 parameter, the first one is the data which is a list of all the information about the weather for each day, the second parameter is the index which is a string of the data we want to get\n",
    "get_information_list <- function(data, index) {\n",
    "    empty <- vector(mode = \"list\", length = 0) # first we prepare an empty list which will be appended with the information we want to get\n",
    "    for(i in seq_along(data)){ # next we loop through every item inside the data given\n",
    "        empty <- append(empty, data[i][[1]][[index]]) # then we append the data to the list we prepared before\n",
    "    }\n",
    "    return(empty)\n",
    "}\n",
    "\n",
    "#this is the function to get the weather history from a week ago until the current date\n",
    "#this function will return a tibble which contains the information about the weather from 7 days ago to the current date. The information includes the date, temperature, windspeed, humidity, and conditions\n",
    "#this function takes 2 parameters, first one is the city which is a string that indicates the city we want get the weather data from, next is the apiKey which is a string of the API access token from the website mentioned above\n",
    "get_weather_data <- function(city, apiKey){\n",
    "\n",
    "    currentDate <- Sys.Date() # in this code we try to\n",
    "    \n",
    "    lastWeek <- as.Date(currentDate) - 7 # then we also get the date from a week ago\n",
    "    \n",
    "\n",
    "    response_raw <- GET(glue(\"https://weather.visualcrossing.com/VisualCrossingWebServices/rest/services/timeline/{city}/{lastWeek}/{currentDate}?unitGroup=metric&key={apiKey}&contentType=json\")) # the we use the api to get the weather data by specifying the city and dates\n",
    "    response <- content(response_raw) # here I get the body content of the response\n",
    "\n",
    "    #then in the code below, we create new tibble/data frame and use the get_information_list() function we defined above to get the data for each column\n",
    "    result_weather_data <- tibble(Date = get_information_list(response[[\"days\"]], \"datetime\"),\n",
    "                                    Temperature = get_information_list(response[[\"days\"]], \"temp\"),\n",
    "                                    WindSpeed = get_information_list(response[[\"days\"]], \"windspeed\"),\n",
    "                                    Humidity = get_information_list(response[[\"days\"]], \"humidity\"),\n",
    "                                    Conditions = get_information_list(response[[\"days\"]], \"conditions\"))\n",
    "\n",
    "    #here we make sure each colum has correct data types\n",
    "    result_weather_data <- result_weather_data %>% mutate(across(Date, as.character)) %>%\n",
    "                                                    mutate(across(Temperature, as.double)) %>%\n",
    "                                                    mutate(across(WindSpeed, as.double)) %>%\n",
    "                                                    mutate(across(Humidity, as.double)) %>%\n",
    "                                                    mutate(across(Conditions, as.character))\n",
    "    return(result_weather_data)\n",
    "}\n",
    "\n",
    "  get_weather_data_safe <- purrr::possibly(.f = get_weather_data, # so here we want to make sure that the \n",
    "                                   otherwise = \"Something went wrong: possibly maximum number of request has been reached\")\n",
    "\n",
    "the_data<-get_weather_data_safe(\"christchurch\",\"GMTLW3T9CX22FK8GH662Q9GPZ\")\n",
    "the_data"
   ]
  }
 ],
 "metadata": {
  "kernelspec": {
   "display_name": "R",
   "language": "R",
   "name": "ir"
  },
  "language_info": {
   "codemirror_mode": "r",
   "file_extension": ".r",
   "mimetype": "text/x-r-source",
   "name": "R",
   "pygments_lexer": "r",
   "version": "4.2.1"
  },
  "orig_nbformat": 4,
  "vscode": {
   "interpreter": {
    "hash": "916dbcbb3f70747c44a77c7bcd40155683ae19c65e1c03b4aa3499c5328201f1"
   }
  }
 },
 "nbformat": 4,
 "nbformat_minor": 2
}
