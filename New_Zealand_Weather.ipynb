{
 "cells": [
  {
   "cell_type": "code",
   "execution_count": 1,
   "id": "e8471d38-70b8-4ce3-8fd2-63cb7a1dd927",
   "metadata": {},
   "outputs": [
    {
     "name": "stderr",
     "output_type": "stream",
     "text": [
      "── \u001b[1mAttaching packages\u001b[22m ─────────────────────────────────────── tidyverse 1.3.2 ──\n",
      "\u001b[32m✔\u001b[39m \u001b[34mggplot2\u001b[39m 3.3.6     \u001b[32m✔\u001b[39m \u001b[34mpurrr  \u001b[39m 0.3.4\n",
      "\u001b[32m✔\u001b[39m \u001b[34mtibble \u001b[39m 3.1.8     \u001b[32m✔\u001b[39m \u001b[34mdplyr  \u001b[39m 1.0.9\n",
      "\u001b[32m✔\u001b[39m \u001b[34mtidyr  \u001b[39m 1.2.0     \u001b[32m✔\u001b[39m \u001b[34mstringr\u001b[39m 1.4.1\n",
      "\u001b[32m✔\u001b[39m \u001b[34mreadr  \u001b[39m 2.1.2     \u001b[32m✔\u001b[39m \u001b[34mforcats\u001b[39m 0.5.1\n",
      "── \u001b[1mConflicts\u001b[22m ────────────────────────────────────────── tidyverse_conflicts() ──\n",
      "\u001b[31m✖\u001b[39m \u001b[34mdplyr\u001b[39m::\u001b[32mfilter()\u001b[39m masks \u001b[34mstats\u001b[39m::filter()\n",
      "\u001b[31m✖\u001b[39m \u001b[34mdplyr\u001b[39m::\u001b[32mlag()\u001b[39m    masks \u001b[34mstats\u001b[39m::lag()\n"
     ]
    }
   ],
   "source": [
    "library(tidyverse)"
   ]
  },
  {
   "cell_type": "code",
   "execution_count": 277,
   "id": "ae559c3a-7cd4-4a9b-83f4-44025b830ef2",
   "metadata": {},
   "outputs": [],
   "source": [
    "# install.packages(\"magrittr\")\n",
    "# install.packages(\"purrr\")\n",
    "# install.packages(\"glue\")\n",
    "# install.packages(\"stringr\")\n",
    "library(magrittr) # better handling of pipes\n",
    "library(purrr) # to work with lists and map functions\n",
    "library(glue) # to paste strings\n",
    "library(stringr) # to hand strings\n",
    "library(dplyr)"
   ]
  },
  {
   "cell_type": "code",
   "execution_count": 120,
   "id": "ab8bb184-0b9c-45ba-ad81-0a04e652d04d",
   "metadata": {},
   "outputs": [],
   "source": [
    "# install.packages(\"rvest\")\n",
    "# remotes::install_github(\"dmi3kno/polite\")(\"politer\")\n",
    "# install.packages(\"xml2\")\n",
    "library(rvest) # rvest makes scraping easier\n",
    "library(polite) # polite is the \"polite\" version of rvest\n",
    "library(xml2) # makes it easier to work with HTML and XML from R\n",
    "library(lubridate)\n",
    "library(writexl)"
   ]
  },
  {
   "cell_type": "code",
   "execution_count": 279,
   "id": "4a8800d3-a5cd-4f19-aeff-1c83c182ab90",
   "metadata": {},
   "outputs": [
    {
     "data": {
      "text/plain": [
       "{html_document}\n",
       "<html>\n",
       "[1] <head>\\n<meta http-equiv=\"Content-Type\" content=\"text/html; charset=UTF-8 ...\n",
       "[2] <body>\\n<div id=\"__next\">\\n<div class=\"jsx-3479055027 browser\"><div class ..."
      ]
     },
     "metadata": {},
     "output_type": "display_data"
    }
   ],
   "source": [
    "auckland_url <- \"https://www.weatherwatch.co.nz/forecasts/Auckland\" \n",
    "wellington_url <- \"https://www.weatherwatch.co.nz/forecasts/Wellington\"\n",
    "christchurch_url <- \"https://www.weatherwatch.co.nz/forecasts/christchurch\"\n",
    "auckland_html <- read_html(auckland_url)\n",
    "wellington_html <- read_html(wellington_url)\n",
    "christchurch_html <- read_html(christchurch_url)\n",
    "auckland_html"
   ]
  },
  {
   "cell_type": "code",
   "execution_count": 280,
   "id": "0262082d-b06e-4cd9-8bf9-54e173615e13",
   "metadata": {},
   "outputs": [
    {
     "data": {
      "text/html": [
       "'list'"
      ],
      "text/latex": [
       "'list'"
      ],
      "text/markdown": [
       "'list'"
      ],
      "text/plain": [
       "[1] \"list\""
      ]
     },
     "metadata": {},
     "output_type": "display_data"
    },
    {
     "name": "stdout",
     "output_type": "stream",
     "text": [
      "List of 2\n",
      " $ node:<externalptr> \n",
      " $ doc :<externalptr> \n",
      " - attr(*, \"class\")= chr [1:2] \"xml_document\" \"xml_node\"\n"
     ]
    }
   ],
   "source": [
    "auckland_html %>% typeof()\n",
    "auckland_html %>% glimpse()"
   ]
  },
  {
   "cell_type": "code",
   "execution_count": 354,
   "id": "b9c8fdf4-b2c8-437f-84c6-ef749c09bc18",
   "metadata": {
    "scrolled": true
   },
   "outputs": [
    {
     "data": {
      "text/html": [
       "<style>\n",
       ".list-inline {list-style: none; margin:0; padding: 0}\n",
       ".list-inline>li {display: inline-block}\n",
       ".list-inline>li:not(:last-child)::after {content: \"\\00b7\"; padding: 0 .5ex}\n",
       "</style>\n",
       "<ol class=list-inline><li>'Tue 11 Oct'</li><li>'Wed 12 Oct'</li><li>'Thu 13 Oct'</li><li>'Fri 14 Oct'</li><li>'Sat 15 Oct'</li><li>'Sun 16 Oct'</li><li>'Mon 17 Oct'</li><li>'Tue 18 Oct'</li><li>'Wed 19 Oct'</li></ol>\n"
      ],
      "text/latex": [
       "\\begin{enumerate*}\n",
       "\\item 'Tue 11 Oct'\n",
       "\\item 'Wed 12 Oct'\n",
       "\\item 'Thu 13 Oct'\n",
       "\\item 'Fri 14 Oct'\n",
       "\\item 'Sat 15 Oct'\n",
       "\\item 'Sun 16 Oct'\n",
       "\\item 'Mon 17 Oct'\n",
       "\\item 'Tue 18 Oct'\n",
       "\\item 'Wed 19 Oct'\n",
       "\\end{enumerate*}\n"
      ],
      "text/markdown": [
       "1. 'Tue 11 Oct'\n",
       "2. 'Wed 12 Oct'\n",
       "3. 'Thu 13 Oct'\n",
       "4. 'Fri 14 Oct'\n",
       "5. 'Sat 15 Oct'\n",
       "6. 'Sun 16 Oct'\n",
       "7. 'Mon 17 Oct'\n",
       "8. 'Tue 18 Oct'\n",
       "9. 'Wed 19 Oct'\n",
       "\n",
       "\n"
      ],
      "text/plain": [
       "[1] \"Tue 11 Oct\" \"Wed 12 Oct\" \"Thu 13 Oct\" \"Fri 14 Oct\" \"Sat 15 Oct\"\n",
       "[6] \"Sun 16 Oct\" \"Mon 17 Oct\" \"Tue 18 Oct\" \"Wed 19 Oct\""
      ]
     },
     "metadata": {},
     "output_type": "display_data"
    }
   ],
   "source": [
    "dates <- auckland_html %>% html_nodes(\".date\") %>% html_text()\n",
    "index <- 1:18\n",
    "date <- dates[index%%2==0]\n",
    "date"
   ]
  },
  {
   "cell_type": "code",
   "execution_count": 356,
   "id": "2a1ed3c9-25db-430b-ab8b-ed3005a21ded",
   "metadata": {},
   "outputs": [
    {
     "data": {
      "text/html": [
       "<style>\n",
       ".list-inline {list-style: none; margin:0; padding: 0}\n",
       ".list-inline>li {display: inline-block}\n",
       ".list-inline>li:not(:last-child)::after {content: \"\\00b7\"; padding: 0 .5ex}\n",
       "</style>\n",
       "<ol class=list-inline><li>'17°Day'</li><li>'17°Day'</li><li>'15°Day'</li><li>'17°Day'</li><li>'17°Day'</li><li>'18°Day'</li><li>'18°Day'</li><li>'18°Day'</li><li>'18°Day'</li></ol>\n"
      ],
      "text/latex": [
       "\\begin{enumerate*}\n",
       "\\item '17°Day'\n",
       "\\item '17°Day'\n",
       "\\item '15°Day'\n",
       "\\item '17°Day'\n",
       "\\item '17°Day'\n",
       "\\item '18°Day'\n",
       "\\item '18°Day'\n",
       "\\item '18°Day'\n",
       "\\item '18°Day'\n",
       "\\end{enumerate*}\n"
      ],
      "text/markdown": [
       "1. '17°Day'\n",
       "2. '17°Day'\n",
       "3. '15°Day'\n",
       "4. '17°Day'\n",
       "5. '17°Day'\n",
       "6. '18°Day'\n",
       "7. '18°Day'\n",
       "8. '18°Day'\n",
       "9. '18°Day'\n",
       "\n",
       "\n"
      ],
      "text/plain": [
       "[1] \"17°Day\" \"17°Day\" \"15°Day\" \"17°Day\" \"17°Day\" \"18°Day\" \"18°Day\" \"18°Day\"\n",
       "[9] \"18°Day\""
      ]
     },
     "metadata": {},
     "output_type": "display_data"
    },
    {
     "data": {
      "text/html": [
       "<style>\n",
       ".list-inline {list-style: none; margin:0; padding: 0}\n",
       ".list-inline>li {display: inline-block}\n",
       ".list-inline>li:not(:last-child)::after {content: \"\\00b7\"; padding: 0 .5ex}\n",
       "</style>\n",
       "<ol class=list-inline><li>17</li><li>17</li><li>15</li><li>17</li><li>17</li><li>18</li><li>18</li><li>18</li><li>18</li></ol>\n"
      ],
      "text/latex": [
       "\\begin{enumerate*}\n",
       "\\item 17\n",
       "\\item 17\n",
       "\\item 15\n",
       "\\item 17\n",
       "\\item 17\n",
       "\\item 18\n",
       "\\item 18\n",
       "\\item 18\n",
       "\\item 18\n",
       "\\end{enumerate*}\n"
      ],
      "text/markdown": [
       "1. 17\n",
       "2. 17\n",
       "3. 15\n",
       "4. 17\n",
       "5. 17\n",
       "6. 18\n",
       "7. 18\n",
       "8. 18\n",
       "9. 18\n",
       "\n",
       "\n"
      ],
      "text/plain": [
       "[1] 17 17 15 17 17 18 18 18 18"
      ]
     },
     "metadata": {},
     "output_type": "display_data"
    }
   ],
   "source": [
    "auckland_day <- auckland_html %>% html_nodes(\".high\") %>% html_text()\n",
    "auckland_day\n",
    "first <-auckland_day\n",
    "length <-nchar(first)\n",
    "auckland_day <- first  %>%  substr(length-5, length-4)\n",
    "as.integer(auckland_day)"
   ]
  },
  {
   "cell_type": "code",
   "execution_count": 357,
   "id": "d5c09b70-3b85-4908-93ef-7019a4dc87ad",
   "metadata": {},
   "outputs": [
    {
     "data": {
      "text/html": [
       "<style>\n",
       ".list-inline {list-style: none; margin:0; padding: 0}\n",
       ".list-inline>li {display: inline-block}\n",
       ".list-inline>li:not(:last-child)::after {content: \"\\00b7\"; padding: 0 .5ex}\n",
       "</style>\n",
       "<ol class=list-inline><li>'15°Day'</li><li>'13°Day'</li><li>'12°Day'</li><li>'15°Day'</li><li>'15°Day'</li><li>'14°Day'</li><li>'14°Day'</li><li>'15°Day'</li><li>'15°Day'</li></ol>\n"
      ],
      "text/latex": [
       "\\begin{enumerate*}\n",
       "\\item '15°Day'\n",
       "\\item '13°Day'\n",
       "\\item '12°Day'\n",
       "\\item '15°Day'\n",
       "\\item '15°Day'\n",
       "\\item '14°Day'\n",
       "\\item '14°Day'\n",
       "\\item '15°Day'\n",
       "\\item '15°Day'\n",
       "\\end{enumerate*}\n"
      ],
      "text/markdown": [
       "1. '15°Day'\n",
       "2. '13°Day'\n",
       "3. '12°Day'\n",
       "4. '15°Day'\n",
       "5. '15°Day'\n",
       "6. '14°Day'\n",
       "7. '14°Day'\n",
       "8. '15°Day'\n",
       "9. '15°Day'\n",
       "\n",
       "\n"
      ],
      "text/plain": [
       "[1] \"15°Day\" \"13°Day\" \"12°Day\" \"15°Day\" \"15°Day\" \"14°Day\" \"14°Day\" \"15°Day\"\n",
       "[9] \"15°Day\""
      ]
     },
     "metadata": {},
     "output_type": "display_data"
    },
    {
     "data": {
      "text/html": [
       "<style>\n",
       ".list-inline {list-style: none; margin:0; padding: 0}\n",
       ".list-inline>li {display: inline-block}\n",
       ".list-inline>li:not(:last-child)::after {content: \"\\00b7\"; padding: 0 .5ex}\n",
       "</style>\n",
       "<ol class=list-inline><li>15</li><li>13</li><li>12</li><li>15</li><li>15</li><li>14</li><li>14</li><li>15</li><li>15</li></ol>\n"
      ],
      "text/latex": [
       "\\begin{enumerate*}\n",
       "\\item 15\n",
       "\\item 13\n",
       "\\item 12\n",
       "\\item 15\n",
       "\\item 15\n",
       "\\item 14\n",
       "\\item 14\n",
       "\\item 15\n",
       "\\item 15\n",
       "\\end{enumerate*}\n"
      ],
      "text/markdown": [
       "1. 15\n",
       "2. 13\n",
       "3. 12\n",
       "4. 15\n",
       "5. 15\n",
       "6. 14\n",
       "7. 14\n",
       "8. 15\n",
       "9. 15\n",
       "\n",
       "\n"
      ],
      "text/plain": [
       "[1] 15 13 12 15 15 14 14 15 15"
      ]
     },
     "metadata": {},
     "output_type": "display_data"
    }
   ],
   "source": [
    "wellington_day <- wellington_html %>% html_nodes(\".high\") %>% html_text()\n",
    "wellington_day\n",
    "first <- wellington_day\n",
    "length <-nchar(first)\n",
    "wellington_day <- first  %>%  substr(length-5, length-4)\n",
    "as.integer(wellington_day)"
   ]
  },
  {
   "cell_type": "code",
   "execution_count": 358,
   "id": "645c2cd9-8d22-4be6-8702-552594445aba",
   "metadata": {},
   "outputs": [
    {
     "data": {
      "text/html": [
       "<style>\n",
       ".list-inline {list-style: none; margin:0; padding: 0}\n",
       ".list-inline>li {display: inline-block}\n",
       ".list-inline>li:not(:last-child)::after {content: \"\\00b7\"; padding: 0 .5ex}\n",
       "</style>\n",
       "<ol class=list-inline><li>'11°Day'</li><li>'12°Day'</li><li>'12°Day'</li><li>'15°Day'</li><li>'17°Day'</li><li>'12°Day'</li><li>'15°Day'</li><li>'18°Day'</li><li>'14°Day'</li></ol>\n"
      ],
      "text/latex": [
       "\\begin{enumerate*}\n",
       "\\item '11°Day'\n",
       "\\item '12°Day'\n",
       "\\item '12°Day'\n",
       "\\item '15°Day'\n",
       "\\item '17°Day'\n",
       "\\item '12°Day'\n",
       "\\item '15°Day'\n",
       "\\item '18°Day'\n",
       "\\item '14°Day'\n",
       "\\end{enumerate*}\n"
      ],
      "text/markdown": [
       "1. '11°Day'\n",
       "2. '12°Day'\n",
       "3. '12°Day'\n",
       "4. '15°Day'\n",
       "5. '17°Day'\n",
       "6. '12°Day'\n",
       "7. '15°Day'\n",
       "8. '18°Day'\n",
       "9. '14°Day'\n",
       "\n",
       "\n"
      ],
      "text/plain": [
       "[1] \"11°Day\" \"12°Day\" \"12°Day\" \"15°Day\" \"17°Day\" \"12°Day\" \"15°Day\" \"18°Day\"\n",
       "[9] \"14°Day\""
      ]
     },
     "metadata": {},
     "output_type": "display_data"
    },
    {
     "data": {
      "text/html": [
       "<style>\n",
       ".list-inline {list-style: none; margin:0; padding: 0}\n",
       ".list-inline>li {display: inline-block}\n",
       ".list-inline>li:not(:last-child)::after {content: \"\\00b7\"; padding: 0 .5ex}\n",
       "</style>\n",
       "<ol class=list-inline><li>11</li><li>12</li><li>12</li><li>15</li><li>17</li><li>12</li><li>15</li><li>18</li><li>14</li></ol>\n"
      ],
      "text/latex": [
       "\\begin{enumerate*}\n",
       "\\item 11\n",
       "\\item 12\n",
       "\\item 12\n",
       "\\item 15\n",
       "\\item 17\n",
       "\\item 12\n",
       "\\item 15\n",
       "\\item 18\n",
       "\\item 14\n",
       "\\end{enumerate*}\n"
      ],
      "text/markdown": [
       "1. 11\n",
       "2. 12\n",
       "3. 12\n",
       "4. 15\n",
       "5. 17\n",
       "6. 12\n",
       "7. 15\n",
       "8. 18\n",
       "9. 14\n",
       "\n",
       "\n"
      ],
      "text/plain": [
       "[1] 11 12 12 15 17 12 15 18 14"
      ]
     },
     "metadata": {},
     "output_type": "display_data"
    }
   ],
   "source": [
    "christchurch_day <- christchurch_html %>% html_nodes(\".high\") %>% html_text()\n",
    "christchurch_day\n",
    "first <-christchurch_day\n",
    "length <-nchar(first)\n",
    "christchurch_day <- first  %>%  substr(length-5, length-4)\n",
    "as.integer(christchurch_day)"
   ]
  },
  {
   "cell_type": "code",
   "execution_count": 313,
   "id": "a4cbd1e8-7333-4ebf-bdc4-28f45ba66253",
   "metadata": {},
   "outputs": [
    {
     "data": {
      "text/html": [
       "<style>\n",
       ".list-inline {list-style: none; margin:0; padding: 0}\n",
       ".list-inline>li {display: inline-block}\n",
       ".list-inline>li:not(:last-child)::after {content: \"\\00b7\"; padding: 0 .5ex}\n",
       "</style>\n",
       "<ol class=list-inline><li>'12°Night'</li><li>'12°Night'</li><li>'10°Night'</li><li>'10°Night'</li><li>'13°Night'</li><li>'12°Night'</li><li>'12°Night'</li><li>'12°Night'</li><li>'12°Night'</li></ol>\n"
      ],
      "text/latex": [
       "\\begin{enumerate*}\n",
       "\\item '12°Night'\n",
       "\\item '12°Night'\n",
       "\\item '10°Night'\n",
       "\\item '10°Night'\n",
       "\\item '13°Night'\n",
       "\\item '12°Night'\n",
       "\\item '12°Night'\n",
       "\\item '12°Night'\n",
       "\\item '12°Night'\n",
       "\\end{enumerate*}\n"
      ],
      "text/markdown": [
       "1. '12°Night'\n",
       "2. '12°Night'\n",
       "3. '10°Night'\n",
       "4. '10°Night'\n",
       "5. '13°Night'\n",
       "6. '12°Night'\n",
       "7. '12°Night'\n",
       "8. '12°Night'\n",
       "9. '12°Night'\n",
       "\n",
       "\n"
      ],
      "text/plain": [
       "[1] \"12°Night\" \"12°Night\" \"10°Night\" \"10°Night\" \"13°Night\" \"12°Night\" \"12°Night\"\n",
       "[8] \"12°Night\" \"12°Night\""
      ]
     },
     "metadata": {},
     "output_type": "display_data"
    },
    {
     "data": {
      "text/html": [
       "<style>\n",
       ".list-inline {list-style: none; margin:0; padding: 0}\n",
       ".list-inline>li {display: inline-block}\n",
       ".list-inline>li:not(:last-child)::after {content: \"\\00b7\"; padding: 0 .5ex}\n",
       "</style>\n",
       "<ol class=list-inline><li>'12'</li><li>'12'</li><li>'10'</li><li>'10'</li><li>'13'</li><li>'12'</li><li>'12'</li><li>'12'</li><li>'12'</li></ol>\n"
      ],
      "text/latex": [
       "\\begin{enumerate*}\n",
       "\\item '12'\n",
       "\\item '12'\n",
       "\\item '10'\n",
       "\\item '10'\n",
       "\\item '13'\n",
       "\\item '12'\n",
       "\\item '12'\n",
       "\\item '12'\n",
       "\\item '12'\n",
       "\\end{enumerate*}\n"
      ],
      "text/markdown": [
       "1. '12'\n",
       "2. '12'\n",
       "3. '10'\n",
       "4. '10'\n",
       "5. '13'\n",
       "6. '12'\n",
       "7. '12'\n",
       "8. '12'\n",
       "9. '12'\n",
       "\n",
       "\n"
      ],
      "text/plain": [
       "[1] \"12\" \"12\" \"10\" \"10\" \"13\" \"12\" \"12\" \"12\" \"12\""
      ]
     },
     "metadata": {},
     "output_type": "display_data"
    }
   ],
   "source": [
    "auckland_night <- auckland_html %>% html_nodes(\".low\") %>% html_text()\n",
    "auckland_night\n",
    "first <-auckland_night\n",
    "length <-nchar(first)\n",
    "auckland_night <- first  %>%  substr(length-7, length-6)\n",
    "auckland_night"
   ]
  },
  {
   "cell_type": "code",
   "execution_count": 293,
   "id": "e6674cd7-4030-41a7-964f-8402a957ca95",
   "metadata": {},
   "outputs": [
    {
     "data": {
      "text/html": [
       "<style>\n",
       ".list-inline {list-style: none; margin:0; padding: 0}\n",
       ".list-inline>li {display: inline-block}\n",
       ".list-inline>li:not(:last-child)::after {content: \"\\00b7\"; padding: 0 .5ex}\n",
       "</style>\n",
       "<ol class=list-inline><li>'8°Night'</li><li>'5°Night'</li><li>'6°Night'</li><li>'7°Night'</li><li>'8°Night'</li><li>'6°Night'</li><li>'6°Night'</li><li>'8°Night'</li><li>'8°Night'</li></ol>\n"
      ],
      "text/latex": [
       "\\begin{enumerate*}\n",
       "\\item '8°Night'\n",
       "\\item '5°Night'\n",
       "\\item '6°Night'\n",
       "\\item '7°Night'\n",
       "\\item '8°Night'\n",
       "\\item '6°Night'\n",
       "\\item '6°Night'\n",
       "\\item '8°Night'\n",
       "\\item '8°Night'\n",
       "\\end{enumerate*}\n"
      ],
      "text/markdown": [
       "1. '8°Night'\n",
       "2. '5°Night'\n",
       "3. '6°Night'\n",
       "4. '7°Night'\n",
       "5. '8°Night'\n",
       "6. '6°Night'\n",
       "7. '6°Night'\n",
       "8. '8°Night'\n",
       "9. '8°Night'\n",
       "\n",
       "\n"
      ],
      "text/plain": [
       "[1] \"8°Night\" \"5°Night\" \"6°Night\" \"7°Night\" \"8°Night\" \"6°Night\" \"6°Night\"\n",
       "[8] \"8°Night\" \"8°Night\""
      ]
     },
     "metadata": {},
     "output_type": "display_data"
    },
    {
     "data": {
      "text/html": [
       "<style>\n",
       ".list-inline {list-style: none; margin:0; padding: 0}\n",
       ".list-inline>li {display: inline-block}\n",
       ".list-inline>li:not(:last-child)::after {content: \"\\00b7\"; padding: 0 .5ex}\n",
       "</style>\n",
       "<ol class=list-inline><li>'8'</li><li>'5'</li><li>'6'</li><li>'7'</li><li>'8'</li><li>'6'</li><li>'6'</li><li>'8'</li><li>'8'</li></ol>\n"
      ],
      "text/latex": [
       "\\begin{enumerate*}\n",
       "\\item '8'\n",
       "\\item '5'\n",
       "\\item '6'\n",
       "\\item '7'\n",
       "\\item '8'\n",
       "\\item '6'\n",
       "\\item '6'\n",
       "\\item '8'\n",
       "\\item '8'\n",
       "\\end{enumerate*}\n"
      ],
      "text/markdown": [
       "1. '8'\n",
       "2. '5'\n",
       "3. '6'\n",
       "4. '7'\n",
       "5. '8'\n",
       "6. '6'\n",
       "7. '6'\n",
       "8. '8'\n",
       "9. '8'\n",
       "\n",
       "\n"
      ],
      "text/plain": [
       "[1] \"8\" \"5\" \"6\" \"7\" \"8\" \"6\" \"6\" \"8\" \"8\""
      ]
     },
     "metadata": {},
     "output_type": "display_data"
    }
   ],
   "source": [
    "christchurch_night <- christchurch_html %>% html_nodes(\".low\") %>% html_text()\n",
    "christchurch_night\n",
    "first <-christchurch_night\n",
    "length <-nchar(first)\n",
    "christchurch_night <- first  %>%  substr(length-7, length-6)\n",
    "christchurch_night"
   ]
  },
  {
   "cell_type": "code",
   "execution_count": 294,
   "id": "7deb635b-f498-416f-853b-71cf7558809d",
   "metadata": {},
   "outputs": [
    {
     "data": {
      "text/html": [
       "<style>\n",
       ".list-inline {list-style: none; margin:0; padding: 0}\n",
       ".list-inline>li {display: inline-block}\n",
       ".list-inline>li:not(:last-child)::after {content: \"\\00b7\"; padding: 0 .5ex}\n",
       "</style>\n",
       "<ol class=list-inline><li>'10°Night'</li><li>'8°Night'</li><li>'7°Night'</li><li>'9°Night'</li><li>'11°Night'</li><li>'10°Night'</li><li>'10°Night'</li><li>'11°Night'</li><li>'10°Night'</li></ol>\n"
      ],
      "text/latex": [
       "\\begin{enumerate*}\n",
       "\\item '10°Night'\n",
       "\\item '8°Night'\n",
       "\\item '7°Night'\n",
       "\\item '9°Night'\n",
       "\\item '11°Night'\n",
       "\\item '10°Night'\n",
       "\\item '10°Night'\n",
       "\\item '11°Night'\n",
       "\\item '10°Night'\n",
       "\\end{enumerate*}\n"
      ],
      "text/markdown": [
       "1. '10°Night'\n",
       "2. '8°Night'\n",
       "3. '7°Night'\n",
       "4. '9°Night'\n",
       "5. '11°Night'\n",
       "6. '10°Night'\n",
       "7. '10°Night'\n",
       "8. '11°Night'\n",
       "9. '10°Night'\n",
       "\n",
       "\n"
      ],
      "text/plain": [
       "[1] \"10°Night\" \"8°Night\"  \"7°Night\"  \"9°Night\"  \"11°Night\" \"10°Night\" \"10°Night\"\n",
       "[8] \"11°Night\" \"10°Night\""
      ]
     },
     "metadata": {},
     "output_type": "display_data"
    },
    {
     "data": {
      "text/html": [
       "<style>\n",
       ".list-inline {list-style: none; margin:0; padding: 0}\n",
       ".list-inline>li {display: inline-block}\n",
       ".list-inline>li:not(:last-child)::after {content: \"\\00b7\"; padding: 0 .5ex}\n",
       "</style>\n",
       "<ol class=list-inline><li>'10'</li><li>'8'</li><li>'7'</li><li>'9'</li><li>'11'</li><li>'10'</li><li>'10'</li><li>'11'</li><li>'10'</li></ol>\n"
      ],
      "text/latex": [
       "\\begin{enumerate*}\n",
       "\\item '10'\n",
       "\\item '8'\n",
       "\\item '7'\n",
       "\\item '9'\n",
       "\\item '11'\n",
       "\\item '10'\n",
       "\\item '10'\n",
       "\\item '11'\n",
       "\\item '10'\n",
       "\\end{enumerate*}\n"
      ],
      "text/markdown": [
       "1. '10'\n",
       "2. '8'\n",
       "3. '7'\n",
       "4. '9'\n",
       "5. '11'\n",
       "6. '10'\n",
       "7. '10'\n",
       "8. '11'\n",
       "9. '10'\n",
       "\n",
       "\n"
      ],
      "text/plain": [
       "[1] \"10\" \"8\"  \"7\"  \"9\"  \"11\" \"10\" \"10\" \"11\" \"10\""
      ]
     },
     "metadata": {},
     "output_type": "display_data"
    }
   ],
   "source": [
    "wellington_night <- wellington_html %>% html_nodes(\".low\") %>% html_text()\n",
    "wellington_night\n",
    "first <-wellington_night\n",
    "length <-nchar(first)\n",
    "wellington_night <- first  %>%  substr(length-7, length-6)\n",
    "wellington_night"
   ]
  },
  {
   "cell_type": "code",
   "execution_count": 379,
   "id": "a86526e8-ee29-42ab-b859-564142dc7903",
   "metadata": {},
   "outputs": [
    {
     "data": {
      "text/html": [
       "<style>\n",
       ".list-inline {list-style: none; margin:0; padding: 0}\n",
       ".list-inline>li {display: inline-block}\n",
       ".list-inline>li:not(:last-child)::after {content: \"\\00b7\"; padding: 0 .5ex}\n",
       "</style>\n",
       "<ol class=list-inline><li>'Cloudy. Light East to Nor\\'East winds.'</li><li>'Light rain. Breezy East to Nor\\'East winds.'</li><li>'Light rain. Breezy to brisk Easterly winds.'</li><li>'Partly cloudy. Breezy East to Sou\\'East winds.'</li><li>'Partly cloudy. Fairly breezy West to Sou\\'West winds.'</li><li>'Showers. Fairly breezy Westerly winds.'</li><li>'Showers. Breezy West to Nor\\'West winds.'</li><li>'Showers. Fairly breezy Northerly winds.'</li><li>'Light rain. Fairly breezy West to Nor\\'West winds.'</li></ol>\n"
      ],
      "text/latex": [
       "\\begin{enumerate*}\n",
       "\\item 'Cloudy. Light East to Nor\\textbackslash{}'East winds.'\n",
       "\\item 'Light rain. Breezy East to Nor\\textbackslash{}'East winds.'\n",
       "\\item 'Light rain. Breezy to brisk Easterly winds.'\n",
       "\\item 'Partly cloudy. Breezy East to Sou\\textbackslash{}'East winds.'\n",
       "\\item 'Partly cloudy. Fairly breezy West to Sou\\textbackslash{}'West winds.'\n",
       "\\item 'Showers. Fairly breezy Westerly winds.'\n",
       "\\item 'Showers. Breezy West to Nor\\textbackslash{}'West winds.'\n",
       "\\item 'Showers. Fairly breezy Northerly winds.'\n",
       "\\item 'Light rain. Fairly breezy West to Nor\\textbackslash{}'West winds.'\n",
       "\\end{enumerate*}\n"
      ],
      "text/markdown": [
       "1. 'Cloudy. Light East to Nor\\'East winds.'\n",
       "2. 'Light rain. Breezy East to Nor\\'East winds.'\n",
       "3. 'Light rain. Breezy to brisk Easterly winds.'\n",
       "4. 'Partly cloudy. Breezy East to Sou\\'East winds.'\n",
       "5. 'Partly cloudy. Fairly breezy West to Sou\\'West winds.'\n",
       "6. 'Showers. Fairly breezy Westerly winds.'\n",
       "7. 'Showers. Breezy West to Nor\\'West winds.'\n",
       "8. 'Showers. Fairly breezy Northerly winds.'\n",
       "9. 'Light rain. Fairly breezy West to Nor\\'West winds.'\n",
       "\n",
       "\n"
      ],
      "text/plain": [
       "[1] \"Cloudy. Light East to Nor'East winds.\"               \n",
       "[2] \"Light rain. Breezy East to Nor'East winds.\"          \n",
       "[3] \"Light rain. Breezy to brisk Easterly winds.\"         \n",
       "[4] \"Partly cloudy. Breezy East to Sou'East winds.\"       \n",
       "[5] \"Partly cloudy. Fairly breezy West to Sou'West winds.\"\n",
       "[6] \"Showers. Fairly breezy Westerly winds.\"              \n",
       "[7] \"Showers. Breezy West to Nor'West winds.\"             \n",
       "[8] \"Showers. Fairly breezy Northerly winds.\"             \n",
       "[9] \"Light rain. Fairly breezy West to Nor'West winds.\"   "
      ]
     },
     "metadata": {},
     "output_type": "display_data"
    },
    {
     "name": "stdout",
     "output_type": "stream",
     "text": [
      "[[1]]\n",
      "[1] \"Cloudy\"  \"Ligh\"    \"Eas\"     \"t\"       \"Nor'Eas\" \"winds.\" \n",
      "\n",
      "[[1]]\n",
      "[1] \"Ligh\"    \"rain\"    \"Breez\"   \"Eas\"     \"t\"       \"Nor'Eas\" \"winds.\" \n",
      "\n",
      "[[1]]\n",
      "[1] \"Ligh\"    \"rain\"    \"Breez\"   \"t\"       \"bris\"    \"Easterl\" \"winds.\" \n",
      "\n",
      "[[1]]\n",
      "[1] \"Partl\"   \"cloudy\"  \"Breez\"   \"Eas\"     \"t\"       \"Sou'Eas\" \"winds.\" \n",
      "\n",
      "[[1]]\n",
      "[1] \"Partl\"   \"cloudy\"  \"Fairl\"   \"breez\"   \"Wes\"     \"t\"       \"Sou'Wes\"\n",
      "[8] \"winds.\" \n",
      "\n",
      "[[1]]\n",
      "[1] \"Showers\" \"Fairl\"   \"breez\"   \"Westerl\" \"winds.\" \n",
      "\n",
      "[[1]]\n",
      "[1] \"Showers\" \"Breez\"   \"Wes\"     \"t\"       \"Nor'Wes\" \"winds.\" \n",
      "\n",
      "[[1]]\n",
      "[1] \"Showers\"  \"Fairl\"    \"breez\"    \"Northerl\" \"winds.\"  \n",
      "\n",
      "[[1]]\n",
      "[1] \"Ligh\"    \"rain\"    \"Fairl\"   \"breez\"   \"Wes\"     \"t\"       \"Nor'Wes\"\n",
      "[8] \"winds.\" \n",
      "\n",
      "[[1]]\n",
      "[1] \"Cloudy\"  \"Ligh\"    \"Eas\"     \"t\"       \"Nor'Eas\" \"winds.\" \n",
      "\n",
      "[[2]]\n",
      "[1] \"Ligh\"    \"rain\"    \"Breez\"   \"Eas\"     \"t\"       \"Nor'Eas\" \"winds.\" \n",
      "\n",
      "[[3]]\n",
      "[1] \"Ligh\"    \"rain\"    \"Breez\"   \"t\"       \"bris\"    \"Easterl\" \"winds.\" \n",
      "\n",
      "[[4]]\n",
      "[1] \"Partl\"   \"cloudy\"  \"Breez\"   \"Eas\"     \"t\"       \"Sou'Eas\" \"winds.\" \n",
      "\n",
      "[[5]]\n",
      "[1] \"Partl\"   \"cloudy\"  \"Fairl\"   \"breez\"   \"Wes\"     \"t\"       \"Sou'Wes\"\n",
      "[8] \"winds.\" \n",
      "\n",
      "[[6]]\n",
      "[1] \"Showers\" \"Fairl\"   \"breez\"   \"Westerl\" \"winds.\" \n",
      "\n",
      "[[7]]\n",
      "[1] \"Showers\" \"Breez\"   \"Wes\"     \"t\"       \"Nor'Wes\" \"winds.\" \n",
      "\n",
      "[[8]]\n",
      "[1] \"Showers\"  \"Fairl\"    \"breez\"    \"Northerl\" \"winds.\"  \n",
      "\n",
      "[[9]]\n",
      "[1] \"Ligh\"    \"rain\"    \"Fairl\"   \"breez\"   \"Wes\"     \"t\"       \"Nor'Wes\"\n",
      "[8] \"winds.\" \n",
      "\n"
     ]
    }
   ],
   "source": [
    "weathers <- auckland_html %>% html_nodes(\".larger\") %>% html_text()\n",
    "index <- 1:18\n",
    "auckland_weather <- weathers[index%%2==0]\n",
    "auckland_weather\n",
    "\n",
    "a_list <- vector(mode=\"list\", len=0)\n",
    "for(string in auckland_weather){\n",
    "     temp <- strsplit(string, split=\". \")\n",
    "     print(temp)\n",
    "     a_list <- append(a_list, temp)\n",
    "    \n",
    " }\n",
    "print(a_list)\n",
    "# auckland_weather <- strsplit(auckland_weather, split=\".\")\n",
    "# auckland_weather"
   ]
  },
  {
   "cell_type": "code",
   "execution_count": 57,
   "id": "f105f8c9-e7e5-4f02-8f05-df56a9e11d2c",
   "metadata": {},
   "outputs": [
    {
     "data": {
      "text/html": [
       "<style>\n",
       ".list-inline {list-style: none; margin:0; padding: 0}\n",
       ".list-inline>li {display: inline-block}\n",
       ".list-inline>li:not(:last-child)::after {content: \"\\00b7\"; padding: 0 .5ex}\n",
       "</style>\n",
       "<ol class=list-inline><li>'Windy and partly cloudy. Brisk North to Nor\\'West winds.'</li><li>'Windy and partly cloudy. Strong and blustery North to Nor\\'West winds.'</li><li>'Windy, with showers. Strong and blustery North to Nor\\'West winds.'</li><li>'Showers. Fairly breezy Sou\\'East winds.'</li><li>'Showers. Fairly breezy Sou\\'East winds.'</li><li>'Partly cloudy. Breezy to brisk Sou\\'East winds.'</li><li>'Windy, with morning showers. Breezy to brisk Northerly winds.'</li><li>'Windy, with afternoon showers. Breezy to brisk North to Nor\\'West winds.'</li><li>'Windy, with showers. Breezy to brisk North to Nor\\'West winds.'</li></ol>\n"
      ],
      "text/latex": [
       "\\begin{enumerate*}\n",
       "\\item 'Windy and partly cloudy. Brisk North to Nor\\textbackslash{}'West winds.'\n",
       "\\item 'Windy and partly cloudy. Strong and blustery North to Nor\\textbackslash{}'West winds.'\n",
       "\\item 'Windy, with showers. Strong and blustery North to Nor\\textbackslash{}'West winds.'\n",
       "\\item 'Showers. Fairly breezy Sou\\textbackslash{}'East winds.'\n",
       "\\item 'Showers. Fairly breezy Sou\\textbackslash{}'East winds.'\n",
       "\\item 'Partly cloudy. Breezy to brisk Sou\\textbackslash{}'East winds.'\n",
       "\\item 'Windy, with morning showers. Breezy to brisk Northerly winds.'\n",
       "\\item 'Windy, with afternoon showers. Breezy to brisk North to Nor\\textbackslash{}'West winds.'\n",
       "\\item 'Windy, with showers. Breezy to brisk North to Nor\\textbackslash{}'West winds.'\n",
       "\\end{enumerate*}\n"
      ],
      "text/markdown": [
       "1. 'Windy and partly cloudy. Brisk North to Nor\\'West winds.'\n",
       "2. 'Windy and partly cloudy. Strong and blustery North to Nor\\'West winds.'\n",
       "3. 'Windy, with showers. Strong and blustery North to Nor\\'West winds.'\n",
       "4. 'Showers. Fairly breezy Sou\\'East winds.'\n",
       "5. 'Showers. Fairly breezy Sou\\'East winds.'\n",
       "6. 'Partly cloudy. Breezy to brisk Sou\\'East winds.'\n",
       "7. 'Windy, with morning showers. Breezy to brisk Northerly winds.'\n",
       "8. 'Windy, with afternoon showers. Breezy to brisk North to Nor\\'West winds.'\n",
       "9. 'Windy, with showers. Breezy to brisk North to Nor\\'West winds.'\n",
       "\n",
       "\n"
      ],
      "text/plain": [
       "[1] \"Windy and partly cloudy. Brisk North to Nor'West winds.\"                \n",
       "[2] \"Windy and partly cloudy. Strong and blustery North to Nor'West winds.\"  \n",
       "[3] \"Windy, with showers. Strong and blustery North to Nor'West winds.\"      \n",
       "[4] \"Showers. Fairly breezy Sou'East winds.\"                                 \n",
       "[5] \"Showers. Fairly breezy Sou'East winds.\"                                 \n",
       "[6] \"Partly cloudy. Breezy to brisk Sou'East winds.\"                         \n",
       "[7] \"Windy, with morning showers. Breezy to brisk Northerly winds.\"          \n",
       "[8] \"Windy, with afternoon showers. Breezy to brisk North to Nor'West winds.\"\n",
       "[9] \"Windy, with showers. Breezy to brisk North to Nor'West winds.\"          "
      ]
     },
     "metadata": {},
     "output_type": "display_data"
    }
   ],
   "source": [
    "weathers <- wellington_html %>% html_nodes(\".larger\") %>% html_text()\n",
    "index <- 1:18\n",
    "wellington_weather <- weathers[index%%2==0]\n",
    "wellington_weather"
   ]
  },
  {
   "cell_type": "code",
   "execution_count": 60,
   "id": "f80a7a33-822c-4d04-a180-7d7462df70b1",
   "metadata": {},
   "outputs": [
    {
     "data": {
      "text/html": [
       "<style>\n",
       ".list-inline {list-style: none; margin:0; padding: 0}\n",
       ".list-inline>li {display: inline-block}\n",
       ".list-inline>li:not(:last-child)::after {content: \"\\00b7\"; padding: 0 .5ex}\n",
       "</style>\n",
       "<ol class=list-inline><li>'Partly cloudy. Breezy Northerly winds.'</li><li>'Mostly cloudy. Fairly breezy Northerly winds.'</li><li>'Partly cloudy. Fairly breezy West to Sou\\'West winds.'</li><li>'Mostly cloudy. Breezy East to Nor\\'East winds.'</li><li>'Morning showers. Light East to Sou\\'East winds.'</li><li>'Partly cloudy. Fairly breezy Nor\\'East winds.'</li><li>'Partly cloudy. Fairly breezy Nor\\'East winds.'</li><li>'Partly cloudy. Fairly breezy North to Nor\\'East winds.'</li><li>'Morning showers. Breezy East to Nor\\'East winds.'</li></ol>\n"
      ],
      "text/latex": [
       "\\begin{enumerate*}\n",
       "\\item 'Partly cloudy. Breezy Northerly winds.'\n",
       "\\item 'Mostly cloudy. Fairly breezy Northerly winds.'\n",
       "\\item 'Partly cloudy. Fairly breezy West to Sou\\textbackslash{}'West winds.'\n",
       "\\item 'Mostly cloudy. Breezy East to Nor\\textbackslash{}'East winds.'\n",
       "\\item 'Morning showers. Light East to Sou\\textbackslash{}'East winds.'\n",
       "\\item 'Partly cloudy. Fairly breezy Nor\\textbackslash{}'East winds.'\n",
       "\\item 'Partly cloudy. Fairly breezy Nor\\textbackslash{}'East winds.'\n",
       "\\item 'Partly cloudy. Fairly breezy North to Nor\\textbackslash{}'East winds.'\n",
       "\\item 'Morning showers. Breezy East to Nor\\textbackslash{}'East winds.'\n",
       "\\end{enumerate*}\n"
      ],
      "text/markdown": [
       "1. 'Partly cloudy. Breezy Northerly winds.'\n",
       "2. 'Mostly cloudy. Fairly breezy Northerly winds.'\n",
       "3. 'Partly cloudy. Fairly breezy West to Sou\\'West winds.'\n",
       "4. 'Mostly cloudy. Breezy East to Nor\\'East winds.'\n",
       "5. 'Morning showers. Light East to Sou\\'East winds.'\n",
       "6. 'Partly cloudy. Fairly breezy Nor\\'East winds.'\n",
       "7. 'Partly cloudy. Fairly breezy Nor\\'East winds.'\n",
       "8. 'Partly cloudy. Fairly breezy North to Nor\\'East winds.'\n",
       "9. 'Morning showers. Breezy East to Nor\\'East winds.'\n",
       "\n",
       "\n"
      ],
      "text/plain": [
       "[1] \"Partly cloudy. Breezy Northerly winds.\"               \n",
       "[2] \"Mostly cloudy. Fairly breezy Northerly winds.\"        \n",
       "[3] \"Partly cloudy. Fairly breezy West to Sou'West winds.\" \n",
       "[4] \"Mostly cloudy. Breezy East to Nor'East winds.\"        \n",
       "[5] \"Morning showers. Light East to Sou'East winds.\"       \n",
       "[6] \"Partly cloudy. Fairly breezy Nor'East winds.\"         \n",
       "[7] \"Partly cloudy. Fairly breezy Nor'East winds.\"         \n",
       "[8] \"Partly cloudy. Fairly breezy North to Nor'East winds.\"\n",
       "[9] \"Morning showers. Breezy East to Nor'East winds.\"      "
      ]
     },
     "metadata": {},
     "output_type": "display_data"
    }
   ],
   "source": [
    "weathers <- christchurch_html %>% html_nodes(\".larger\") %>% html_text()\n",
    "index <- 1:18\n",
    "christchurch_weather <- weathers[index%%2==0]\n",
    "christchurch_weather"
   ]
  },
  {
   "cell_type": "code",
   "execution_count": 61,
   "id": "5f3b3504-2503-47ef-9c4e-37f6797b6a13",
   "metadata": {},
   "outputs": [
    {
     "data": {
      "text/html": [
       "<style>\n",
       ".list-inline {list-style: none; margin:0; padding: 0}\n",
       ".list-inline>li {display: inline-block}\n",
       ".list-inline>li:not(:last-child)::after {content: \"\\00b7\"; padding: 0 .5ex}\n",
       "</style>\n",
       "<ol class=list-inline><li>'Mostly cloudy. Breezy Northerly winds.'</li><li>'Cloudy. Fairly breezy North to Nor\\'East winds.'</li><li>'Afternoon showers. Fairly breezy West to Sou\\'West winds.'</li><li>'Partly cloudy. Breezy North to Nor\\'East winds.'</li><li>'Partly cloudy. Breezy Sou\\'West winds.'</li><li>'Partly cloudy. Fairly breezy Nor\\'East winds.'</li><li>'Afternoon showers. Fairly breezy North to Nor\\'East winds.'</li><li>'Afternoon showers. Breezy North to Nor\\'East winds.'</li><li>'Showers. Breezy North to Nor\\'East winds.'</li></ol>\n"
      ],
      "text/latex": [
       "\\begin{enumerate*}\n",
       "\\item 'Mostly cloudy. Breezy Northerly winds.'\n",
       "\\item 'Cloudy. Fairly breezy North to Nor\\textbackslash{}'East winds.'\n",
       "\\item 'Afternoon showers. Fairly breezy West to Sou\\textbackslash{}'West winds.'\n",
       "\\item 'Partly cloudy. Breezy North to Nor\\textbackslash{}'East winds.'\n",
       "\\item 'Partly cloudy. Breezy Sou\\textbackslash{}'West winds.'\n",
       "\\item 'Partly cloudy. Fairly breezy Nor\\textbackslash{}'East winds.'\n",
       "\\item 'Afternoon showers. Fairly breezy North to Nor\\textbackslash{}'East winds.'\n",
       "\\item 'Afternoon showers. Breezy North to Nor\\textbackslash{}'East winds.'\n",
       "\\item 'Showers. Breezy North to Nor\\textbackslash{}'East winds.'\n",
       "\\end{enumerate*}\n"
      ],
      "text/markdown": [
       "1. 'Mostly cloudy. Breezy Northerly winds.'\n",
       "2. 'Cloudy. Fairly breezy North to Nor\\'East winds.'\n",
       "3. 'Afternoon showers. Fairly breezy West to Sou\\'West winds.'\n",
       "4. 'Partly cloudy. Breezy North to Nor\\'East winds.'\n",
       "5. 'Partly cloudy. Breezy Sou\\'West winds.'\n",
       "6. 'Partly cloudy. Fairly breezy Nor\\'East winds.'\n",
       "7. 'Afternoon showers. Fairly breezy North to Nor\\'East winds.'\n",
       "8. 'Afternoon showers. Breezy North to Nor\\'East winds.'\n",
       "9. 'Showers. Breezy North to Nor\\'East winds.'\n",
       "\n",
       "\n"
      ],
      "text/plain": [
       "[1] \"Mostly cloudy. Breezy Northerly winds.\"                   \n",
       "[2] \"Cloudy. Fairly breezy North to Nor'East winds.\"           \n",
       "[3] \"Afternoon showers. Fairly breezy West to Sou'West winds.\" \n",
       "[4] \"Partly cloudy. Breezy North to Nor'East winds.\"           \n",
       "[5] \"Partly cloudy. Breezy Sou'West winds.\"                    \n",
       "[6] \"Partly cloudy. Fairly breezy Nor'East winds.\"             \n",
       "[7] \"Afternoon showers. Fairly breezy North to Nor'East winds.\"\n",
       "[8] \"Afternoon showers. Breezy North to Nor'East winds.\"       \n",
       "[9] \"Showers. Breezy North to Nor'East winds.\"                 "
      ]
     },
     "metadata": {},
     "output_type": "display_data"
    }
   ],
   "source": [
    "weathers <- dunedin_html %>% html_nodes(\".larger\") %>% html_text()\n",
    "index <- 1:18\n",
    "dunedin_weather <- weathers[index%%2==0]\n",
    "dunedin_weather"
   ]
  },
  {
   "cell_type": "code",
   "execution_count": 62,
   "id": "cf464b5e-4263-42d7-9595-fad32174ea3d",
   "metadata": {},
   "outputs": [
    {
     "data": {
      "text/html": [
       "<style>\n",
       ".list-inline {list-style: none; margin:0; padding: 0}\n",
       ".list-inline>li {display: inline-block}\n",
       ".list-inline>li:not(:last-child)::after {content: \"\\00b7\"; padding: 0 .5ex}\n",
       "</style>\n",
       "<ol class=list-inline><li>'26km/h'</li><li>'28km/h'</li><li>'20km/h'</li><li>'19km/h'</li><li>'17km/h'</li><li>'25km/h'</li><li>'28km/h'</li><li>'25km/h'</li><li>'22km/h'</li></ol>\n"
      ],
      "text/latex": [
       "\\begin{enumerate*}\n",
       "\\item '26km/h'\n",
       "\\item '28km/h'\n",
       "\\item '20km/h'\n",
       "\\item '19km/h'\n",
       "\\item '17km/h'\n",
       "\\item '25km/h'\n",
       "\\item '28km/h'\n",
       "\\item '25km/h'\n",
       "\\item '22km/h'\n",
       "\\end{enumerate*}\n"
      ],
      "text/markdown": [
       "1. '26km/h'\n",
       "2. '28km/h'\n",
       "3. '20km/h'\n",
       "4. '19km/h'\n",
       "5. '17km/h'\n",
       "6. '25km/h'\n",
       "7. '28km/h'\n",
       "8. '25km/h'\n",
       "9. '22km/h'\n",
       "\n",
       "\n"
      ],
      "text/plain": [
       "[1] \"26km/h\" \"28km/h\" \"20km/h\" \"19km/h\" \"17km/h\" \"25km/h\" \"28km/h\" \"25km/h\"\n",
       "[9] \"22km/h\""
      ]
     },
     "metadata": {},
     "output_type": "display_data"
    }
   ],
   "source": [
    "auckland_wind <- auckland_html %>% html_nodes(\".wind .small\") %>% html_text()\n",
    "auckland_wind"
   ]
  },
  {
   "cell_type": "code",
   "execution_count": 63,
   "id": "386c45d1-cd2d-4d6b-b2fa-2303d329d67b",
   "metadata": {},
   "outputs": [
    {
     "data": {
      "text/html": [
       "<style>\n",
       ".list-inline {list-style: none; margin:0; padding: 0}\n",
       ".list-inline>li {display: inline-block}\n",
       ".list-inline>li:not(:last-child)::after {content: \"\\00b7\"; padding: 0 .5ex}\n",
       "</style>\n",
       "<ol class=list-inline><li>'21km/h'</li><li>'20km/h'</li><li>'18km/h'</li><li>'13km/h'</li><li>'14km/h'</li><li>'20km/h'</li><li>'26km/h'</li><li>'23km/h'</li><li>'20km/h'</li></ol>\n"
      ],
      "text/latex": [
       "\\begin{enumerate*}\n",
       "\\item '21km/h'\n",
       "\\item '20km/h'\n",
       "\\item '18km/h'\n",
       "\\item '13km/h'\n",
       "\\item '14km/h'\n",
       "\\item '20km/h'\n",
       "\\item '26km/h'\n",
       "\\item '23km/h'\n",
       "\\item '20km/h'\n",
       "\\end{enumerate*}\n"
      ],
      "text/markdown": [
       "1. '21km/h'\n",
       "2. '20km/h'\n",
       "3. '18km/h'\n",
       "4. '13km/h'\n",
       "5. '14km/h'\n",
       "6. '20km/h'\n",
       "7. '26km/h'\n",
       "8. '23km/h'\n",
       "9. '20km/h'\n",
       "\n",
       "\n"
      ],
      "text/plain": [
       "[1] \"21km/h\" \"20km/h\" \"18km/h\" \"13km/h\" \"14km/h\" \"20km/h\" \"26km/h\" \"23km/h\"\n",
       "[9] \"20km/h\""
      ]
     },
     "metadata": {},
     "output_type": "display_data"
    }
   ],
   "source": [
    "hamilton_wind <- hamilton_html %>% html_nodes(\".wind .small\") %>% html_text()\n",
    "hamilton_wind"
   ]
  },
  {
   "cell_type": "code",
   "execution_count": 64,
   "id": "5edb3198-1ad6-4abf-995b-8dc579bac068",
   "metadata": {},
   "outputs": [
    {
     "data": {
      "text/html": [
       "<style>\n",
       ".list-inline {list-style: none; margin:0; padding: 0}\n",
       ".list-inline>li {display: inline-block}\n",
       ".list-inline>li:not(:last-child)::after {content: \"\\00b7\"; padding: 0 .5ex}\n",
       "</style>\n",
       "<ol class=list-inline><li>'15km/h'</li><li>'17km/h'</li><li>'15km/h'</li><li>'10km/h'</li><li>'10km/h'</li><li>'16km/h'</li><li>'18km/h'</li><li>'18km/h'</li><li>'12km/h'</li></ol>\n"
      ],
      "text/latex": [
       "\\begin{enumerate*}\n",
       "\\item '15km/h'\n",
       "\\item '17km/h'\n",
       "\\item '15km/h'\n",
       "\\item '10km/h'\n",
       "\\item '10km/h'\n",
       "\\item '16km/h'\n",
       "\\item '18km/h'\n",
       "\\item '18km/h'\n",
       "\\item '12km/h'\n",
       "\\end{enumerate*}\n"
      ],
      "text/markdown": [
       "1. '15km/h'\n",
       "2. '17km/h'\n",
       "3. '15km/h'\n",
       "4. '10km/h'\n",
       "5. '10km/h'\n",
       "6. '16km/h'\n",
       "7. '18km/h'\n",
       "8. '18km/h'\n",
       "9. '12km/h'\n",
       "\n",
       "\n"
      ],
      "text/plain": [
       "[1] \"15km/h\" \"17km/h\" \"15km/h\" \"10km/h\" \"10km/h\" \"16km/h\" \"18km/h\" \"18km/h\"\n",
       "[9] \"12km/h\""
      ]
     },
     "metadata": {},
     "output_type": "display_data"
    }
   ],
   "source": [
    "tauranga_wind <- tauranga_html %>% html_nodes(\".wind .small\") %>% html_text()\n",
    "tauranga_wind"
   ]
  },
  {
   "cell_type": "code",
   "execution_count": 65,
   "id": "70d8c1f2-005f-45e1-9a97-07199f498522",
   "metadata": {},
   "outputs": [
    {
     "data": {
      "text/html": [
       "<style>\n",
       ".list-inline {list-style: none; margin:0; padding: 0}\n",
       ".list-inline>li {display: inline-block}\n",
       ".list-inline>li:not(:last-child)::after {content: \"\\00b7\"; padding: 0 .5ex}\n",
       "</style>\n",
       "<ol class=list-inline><li>'17km/h'</li><li>'25km/h'</li><li>'22km/h'</li><li>'19km/h'</li><li>'12km/h'</li><li>'21km/h'</li><li>'22km/h'</li><li>'20km/h'</li><li>'14km/h'</li></ol>\n"
      ],
      "text/latex": [
       "\\begin{enumerate*}\n",
       "\\item '17km/h'\n",
       "\\item '25km/h'\n",
       "\\item '22km/h'\n",
       "\\item '19km/h'\n",
       "\\item '12km/h'\n",
       "\\item '21km/h'\n",
       "\\item '22km/h'\n",
       "\\item '20km/h'\n",
       "\\item '14km/h'\n",
       "\\end{enumerate*}\n"
      ],
      "text/markdown": [
       "1. '17km/h'\n",
       "2. '25km/h'\n",
       "3. '22km/h'\n",
       "4. '19km/h'\n",
       "5. '12km/h'\n",
       "6. '21km/h'\n",
       "7. '22km/h'\n",
       "8. '20km/h'\n",
       "9. '14km/h'\n",
       "\n",
       "\n"
      ],
      "text/plain": [
       "[1] \"17km/h\" \"25km/h\" \"22km/h\" \"19km/h\" \"12km/h\" \"21km/h\" \"22km/h\" \"20km/h\"\n",
       "[9] \"14km/h\""
      ]
     },
     "metadata": {},
     "output_type": "display_data"
    }
   ],
   "source": [
    "christchurch_wind <- christchurch_html %>% html_nodes(\".wind .small\") %>% html_text()\n",
    "christchurch_wind"
   ]
  },
  {
   "cell_type": "code",
   "execution_count": 66,
   "id": "d6de8ef5-f7fc-47d5-9579-3d166fd275c1",
   "metadata": {},
   "outputs": [
    {
     "data": {
      "text/html": [
       "<style>\n",
       ".list-inline {list-style: none; margin:0; padding: 0}\n",
       ".list-inline>li {display: inline-block}\n",
       ".list-inline>li:not(:last-child)::after {content: \"\\00b7\"; padding: 0 .5ex}\n",
       "</style>\n",
       "<ol class=list-inline><li>'44km/h'</li><li>'45km/h'</li><li>'50km/h'</li><li>'23km/h'</li><li>'24km/h'</li><li>'29km/h'</li><li>'36km/h'</li><li>'36km/h'</li><li>'32km/h'</li></ol>\n"
      ],
      "text/latex": [
       "\\begin{enumerate*}\n",
       "\\item '44km/h'\n",
       "\\item '45km/h'\n",
       "\\item '50km/h'\n",
       "\\item '23km/h'\n",
       "\\item '24km/h'\n",
       "\\item '29km/h'\n",
       "\\item '36km/h'\n",
       "\\item '36km/h'\n",
       "\\item '32km/h'\n",
       "\\end{enumerate*}\n"
      ],
      "text/markdown": [
       "1. '44km/h'\n",
       "2. '45km/h'\n",
       "3. '50km/h'\n",
       "4. '23km/h'\n",
       "5. '24km/h'\n",
       "6. '29km/h'\n",
       "7. '36km/h'\n",
       "8. '36km/h'\n",
       "9. '32km/h'\n",
       "\n",
       "\n"
      ],
      "text/plain": [
       "[1] \"44km/h\" \"45km/h\" \"50km/h\" \"23km/h\" \"24km/h\" \"29km/h\" \"36km/h\" \"36km/h\"\n",
       "[9] \"32km/h\""
      ]
     },
     "metadata": {},
     "output_type": "display_data"
    }
   ],
   "source": [
    "wellington_wind <- wellington_html %>% html_nodes(\".wind .small\") %>% html_text()\n",
    "wellington_wind"
   ]
  },
  {
   "cell_type": "code",
   "execution_count": 67,
   "id": "c722ae91-d228-47d4-8f16-d97f1162abc2",
   "metadata": {},
   "outputs": [
    {
     "data": {
      "text/html": [
       "<style>\n",
       ".list-inline {list-style: none; margin:0; padding: 0}\n",
       ".list-inline>li {display: inline-block}\n",
       ".list-inline>li:not(:last-child)::after {content: \"\\00b7\"; padding: 0 .5ex}\n",
       "</style>\n",
       "<ol class=list-inline><li>'15km/h'</li><li>'22km/h'</li><li>'27km/h'</li><li>'15km/h'</li><li>'14km/h'</li><li>'24km/h'</li><li>'22km/h'</li><li>'18km/h'</li><li>'15km/h'</li></ol>\n"
      ],
      "text/latex": [
       "\\begin{enumerate*}\n",
       "\\item '15km/h'\n",
       "\\item '22km/h'\n",
       "\\item '27km/h'\n",
       "\\item '15km/h'\n",
       "\\item '14km/h'\n",
       "\\item '24km/h'\n",
       "\\item '22km/h'\n",
       "\\item '18km/h'\n",
       "\\item '15km/h'\n",
       "\\end{enumerate*}\n"
      ],
      "text/markdown": [
       "1. '15km/h'\n",
       "2. '22km/h'\n",
       "3. '27km/h'\n",
       "4. '15km/h'\n",
       "5. '14km/h'\n",
       "6. '24km/h'\n",
       "7. '22km/h'\n",
       "8. '18km/h'\n",
       "9. '15km/h'\n",
       "\n",
       "\n"
      ],
      "text/plain": [
       "[1] \"15km/h\" \"22km/h\" \"27km/h\" \"15km/h\" \"14km/h\" \"24km/h\" \"22km/h\" \"18km/h\"\n",
       "[9] \"15km/h\""
      ]
     },
     "metadata": {},
     "output_type": "display_data"
    }
   ],
   "source": [
    "dunedin_wind <- dunedin_html %>% html_nodes(\".wind .small\") %>% html_text()\n",
    "dunedin_wind"
   ]
  },
  {
   "cell_type": "code",
   "execution_count": 352,
   "id": "2d7fc95b-5130-4678-8377-4185a1242b7f",
   "metadata": {},
   "outputs": [
    {
     "data": {
      "text/html": [
       "'Weather Forecast for Auckland'"
      ],
      "text/latex": [
       "'Weather Forecast for Auckland'"
      ],
      "text/markdown": [
       "'Weather Forecast for Auckland'"
      ],
      "text/plain": [
       "[1] \"Weather Forecast for Auckland\""
      ]
     },
     "metadata": {},
     "output_type": "display_data"
    },
    {
     "data": {
      "text/html": [
       "'Auckland'"
      ],
      "text/latex": [
       "'Auckland'"
      ],
      "text/markdown": [
       "'Auckland'"
      ],
      "text/plain": [
       "[1] \"Auckland\""
      ]
     },
     "metadata": {},
     "output_type": "display_data"
    }
   ],
   "source": [
    "auckland_location <- auckland_html %>% html_nodes(\"h2\") %>% html_text()\n",
    "auckland_location\n",
    "\n",
    "auckland_location <- strsplit(auckland_location, split=\" \")\n",
    "auckland_location <- auckland_location[[1]][4]\n",
    "auckland_location"
   ]
  },
  {
   "cell_type": "code",
   "execution_count": 346,
   "id": "a77f28a1-5eda-456c-915b-7daebaa94e4a",
   "metadata": {},
   "outputs": [
    {
     "data": {
      "text/html": [
       "'Weather Forecast for Wellington'"
      ],
      "text/latex": [
       "'Weather Forecast for Wellington'"
      ],
      "text/markdown": [
       "'Weather Forecast for Wellington'"
      ],
      "text/plain": [
       "[1] \"Weather Forecast for Wellington\""
      ]
     },
     "metadata": {},
     "output_type": "display_data"
    }
   ],
   "source": [
    "wellington_location <- wellington_html %>% html_nodes(\"h2\") %>% html_text()\n",
    "wellington_location"
   ]
  },
  {
   "cell_type": "code",
   "execution_count": 72,
   "id": "c3158aec-d887-4fdd-a07e-8bb8fb400904",
   "metadata": {},
   "outputs": [
    {
     "data": {
      "text/html": [
       "'Weather Forecast for Christchurch'"
      ],
      "text/latex": [
       "'Weather Forecast for Christchurch'"
      ],
      "text/markdown": [
       "'Weather Forecast for Christchurch'"
      ],
      "text/plain": [
       "[1] \"Weather Forecast for Christchurch\""
      ]
     },
     "metadata": {},
     "output_type": "display_data"
    }
   ],
   "source": [
    "christchurch_location <- christchurch_html %>% html_nodes(\"h2\") %>% html_text()\n",
    "christchurch_location"
   ]
  },
  {
   "cell_type": "code",
   "execution_count": 355,
   "id": "4e5713ac-644b-4842-958f-1103403f2c06",
   "metadata": {},
   "outputs": [
    {
     "data": {
      "text/html": [
       "<table class=\"dataframe\">\n",
       "<caption>A tibble: 9 × 6</caption>\n",
       "<thead>\n",
       "\t<tr><th scope=col>location</th><th scope=col>date</th><th scope=col>auckland_weather</th><th scope=col>night_temperature</th><th scope=col>day_temperature</th><th scope=col>auckland_wind</th></tr>\n",
       "\t<tr><th scope=col>&lt;chr&gt;</th><th scope=col>&lt;chr&gt;</th><th scope=col>&lt;chr&gt;</th><th scope=col>&lt;chr&gt;</th><th scope=col>&lt;chr&gt;</th><th scope=col>&lt;chr&gt;</th></tr>\n",
       "</thead>\n",
       "<tbody>\n",
       "\t<tr><td>Auckland</td><td>Tue 11 Oct</td><td>Cloudy. Light East to Nor'East winds.               </td><td>12</td><td>17</td><td>26km/h</td></tr>\n",
       "\t<tr><td>Auckland</td><td>Wed 12 Oct</td><td>Light rain. Breezy East to Nor'East winds.          </td><td>12</td><td>17</td><td>28km/h</td></tr>\n",
       "\t<tr><td>Auckland</td><td>Thu 13 Oct</td><td>Light rain. Breezy to brisk Easterly winds.         </td><td>10</td><td>15</td><td>20km/h</td></tr>\n",
       "\t<tr><td>Auckland</td><td>Fri 14 Oct</td><td>Partly cloudy. Breezy East to Sou'East winds.       </td><td>10</td><td>17</td><td>19km/h</td></tr>\n",
       "\t<tr><td>Auckland</td><td>Sat 15 Oct</td><td>Partly cloudy. Fairly breezy West to Sou'West winds.</td><td>13</td><td>17</td><td>17km/h</td></tr>\n",
       "\t<tr><td>Auckland</td><td>Sun 16 Oct</td><td>Showers. Fairly breezy Westerly winds.              </td><td>12</td><td>18</td><td>25km/h</td></tr>\n",
       "\t<tr><td>Auckland</td><td>Mon 17 Oct</td><td>Showers. Breezy West to Nor'West winds.             </td><td>12</td><td>18</td><td>28km/h</td></tr>\n",
       "\t<tr><td>Auckland</td><td>Tue 18 Oct</td><td>Showers. Fairly breezy Northerly winds.             </td><td>12</td><td>18</td><td>25km/h</td></tr>\n",
       "\t<tr><td>Auckland</td><td>Wed 19 Oct</td><td>Light rain. Fairly breezy West to Nor'West winds.   </td><td>12</td><td>18</td><td>22km/h</td></tr>\n",
       "</tbody>\n",
       "</table>\n"
      ],
      "text/latex": [
       "A tibble: 9 × 6\n",
       "\\begin{tabular}{llllll}\n",
       " location & date & auckland\\_weather & night\\_temperature & day\\_temperature & auckland\\_wind\\\\\n",
       " <chr> & <chr> & <chr> & <chr> & <chr> & <chr>\\\\\n",
       "\\hline\n",
       "\t Auckland & Tue 11 Oct & Cloudy. Light East to Nor'East winds.                & 12 & 17 & 26km/h\\\\\n",
       "\t Auckland & Wed 12 Oct & Light rain. Breezy East to Nor'East winds.           & 12 & 17 & 28km/h\\\\\n",
       "\t Auckland & Thu 13 Oct & Light rain. Breezy to brisk Easterly winds.          & 10 & 15 & 20km/h\\\\\n",
       "\t Auckland & Fri 14 Oct & Partly cloudy. Breezy East to Sou'East winds.        & 10 & 17 & 19km/h\\\\\n",
       "\t Auckland & Sat 15 Oct & Partly cloudy. Fairly breezy West to Sou'West winds. & 13 & 17 & 17km/h\\\\\n",
       "\t Auckland & Sun 16 Oct & Showers. Fairly breezy Westerly winds.               & 12 & 18 & 25km/h\\\\\n",
       "\t Auckland & Mon 17 Oct & Showers. Breezy West to Nor'West winds.              & 12 & 18 & 28km/h\\\\\n",
       "\t Auckland & Tue 18 Oct & Showers. Fairly breezy Northerly winds.              & 12 & 18 & 25km/h\\\\\n",
       "\t Auckland & Wed 19 Oct & Light rain. Fairly breezy West to Nor'West winds.    & 12 & 18 & 22km/h\\\\\n",
       "\\end{tabular}\n"
      ],
      "text/markdown": [
       "\n",
       "A tibble: 9 × 6\n",
       "\n",
       "| location &lt;chr&gt; | date &lt;chr&gt; | auckland_weather &lt;chr&gt; | night_temperature &lt;chr&gt; | day_temperature &lt;chr&gt; | auckland_wind &lt;chr&gt; |\n",
       "|---|---|---|---|---|---|\n",
       "| Auckland | Tue 11 Oct | Cloudy. Light East to Nor'East winds.                | 12 | 17 | 26km/h |\n",
       "| Auckland | Wed 12 Oct | Light rain. Breezy East to Nor'East winds.           | 12 | 17 | 28km/h |\n",
       "| Auckland | Thu 13 Oct | Light rain. Breezy to brisk Easterly winds.          | 10 | 15 | 20km/h |\n",
       "| Auckland | Fri 14 Oct | Partly cloudy. Breezy East to Sou'East winds.        | 10 | 17 | 19km/h |\n",
       "| Auckland | Sat 15 Oct | Partly cloudy. Fairly breezy West to Sou'West winds. | 13 | 17 | 17km/h |\n",
       "| Auckland | Sun 16 Oct | Showers. Fairly breezy Westerly winds.               | 12 | 18 | 25km/h |\n",
       "| Auckland | Mon 17 Oct | Showers. Breezy West to Nor'West winds.              | 12 | 18 | 28km/h |\n",
       "| Auckland | Tue 18 Oct | Showers. Fairly breezy Northerly winds.              | 12 | 18 | 25km/h |\n",
       "| Auckland | Wed 19 Oct | Light rain. Fairly breezy West to Nor'West winds.    | 12 | 18 | 22km/h |\n",
       "\n"
      ],
      "text/plain": [
       "  location date       auckland_weather                                    \n",
       "1 Auckland Tue 11 Oct Cloudy. Light East to Nor'East winds.               \n",
       "2 Auckland Wed 12 Oct Light rain. Breezy East to Nor'East winds.          \n",
       "3 Auckland Thu 13 Oct Light rain. Breezy to brisk Easterly winds.         \n",
       "4 Auckland Fri 14 Oct Partly cloudy. Breezy East to Sou'East winds.       \n",
       "5 Auckland Sat 15 Oct Partly cloudy. Fairly breezy West to Sou'West winds.\n",
       "6 Auckland Sun 16 Oct Showers. Fairly breezy Westerly winds.              \n",
       "7 Auckland Mon 17 Oct Showers. Breezy West to Nor'West winds.             \n",
       "8 Auckland Tue 18 Oct Showers. Fairly breezy Northerly winds.             \n",
       "9 Auckland Wed 19 Oct Light rain. Fairly breezy West to Nor'West winds.   \n",
       "  night_temperature day_temperature auckland_wind\n",
       "1 12                17              26km/h       \n",
       "2 12                17              28km/h       \n",
       "3 10                15              20km/h       \n",
       "4 10                17              19km/h       \n",
       "5 13                17              17km/h       \n",
       "6 12                18              25km/h       \n",
       "7 12                18              28km/h       \n",
       "8 12                18              25km/h       \n",
       "9 12                18              22km/h       "
      ]
     },
     "metadata": {},
     "output_type": "display_data"
    }
   ],
   "source": [
    "auckland_df <- tibble(location=auckland_location, date=date, auckland_weather=auckland_weather, night_temperature=auckland_night, day_temperature=auckland_day, auckland_wind=auckland_wind)\n",
    "auckland_df"
   ]
  },
  {
   "cell_type": "code",
   "execution_count": 93,
   "id": "89e318aa-8875-49ab-b0c3-4110aa1c49d9",
   "metadata": {},
   "outputs": [
    {
     "data": {
      "text/html": [
       "<table class=\"dataframe\">\n",
       "<caption>A tibble: 9 × 6</caption>\n",
       "<thead>\n",
       "\t<tr><th scope=col>location</th><th scope=col>date</th><th scope=col>wellington_weather</th><th scope=col>wellington_min_temp</th><th scope=col>wellington_max_temp</th><th scope=col>wellington_wind</th></tr>\n",
       "\t<tr><th scope=col>&lt;chr&gt;</th><th scope=col>&lt;chr&gt;</th><th scope=col>&lt;chr&gt;</th><th scope=col>&lt;chr&gt;</th><th scope=col>&lt;chr&gt;</th><th scope=col>&lt;chr&gt;</th></tr>\n",
       "</thead>\n",
       "<tbody>\n",
       "\t<tr><td>Weather Forecast for Wellington</td><td>Sat 8 Oct </td><td>Windy and partly cloudy. Brisk North to Nor'West winds.                </td><td>11°Night</td><td>14°Day</td><td>44km/h</td></tr>\n",
       "\t<tr><td>Weather Forecast for Wellington</td><td>Sun 9 Oct </td><td>Windy and partly cloudy. Strong and blustery North to Nor'West winds.  </td><td>12°Night</td><td>14°Day</td><td>45km/h</td></tr>\n",
       "\t<tr><td>Weather Forecast for Wellington</td><td>Mon 10 Oct</td><td>Windy, with showers. Strong and blustery North to Nor'West winds.      </td><td>9°Night </td><td>14°Day</td><td>50km/h</td></tr>\n",
       "\t<tr><td>Weather Forecast for Wellington</td><td>Tue 11 Oct</td><td>Showers. Fairly breezy Sou'East winds.                                 </td><td>9°Night </td><td>13°Day</td><td>23km/h</td></tr>\n",
       "\t<tr><td>Weather Forecast for Wellington</td><td>Wed 12 Oct</td><td>Showers. Fairly breezy Sou'East winds.                                 </td><td>8°Night </td><td>12°Day</td><td>24km/h</td></tr>\n",
       "\t<tr><td>Weather Forecast for Wellington</td><td>Thu 13 Oct</td><td>Partly cloudy. Breezy to brisk Sou'East winds.                         </td><td>8°Night </td><td>12°Day</td><td>29km/h</td></tr>\n",
       "\t<tr><td>Weather Forecast for Wellington</td><td>Fri 14 Oct</td><td>Windy, with morning showers. Breezy to brisk Northerly winds.          </td><td>9°Night </td><td>13°Day</td><td>36km/h</td></tr>\n",
       "\t<tr><td>Weather Forecast for Wellington</td><td>Sat 15 Oct</td><td>Windy, with afternoon showers. Breezy to brisk North to Nor'West winds.</td><td>9°Night </td><td>13°Day</td><td>36km/h</td></tr>\n",
       "\t<tr><td>Weather Forecast for Wellington</td><td>Sun 16 Oct</td><td>Windy, with showers. Breezy to brisk North to Nor'West winds.          </td><td>9°Night </td><td>12°Day</td><td>32km/h</td></tr>\n",
       "</tbody>\n",
       "</table>\n"
      ],
      "text/latex": [
       "A tibble: 9 × 6\n",
       "\\begin{tabular}{llllll}\n",
       " location & date & wellington\\_weather & wellington\\_min\\_temp & wellington\\_max\\_temp & wellington\\_wind\\\\\n",
       " <chr> & <chr> & <chr> & <chr> & <chr> & <chr>\\\\\n",
       "\\hline\n",
       "\t Weather Forecast for Wellington & Sat 8 Oct  & Windy and partly cloudy. Brisk North to Nor'West winds.                 & 11°Night & 14°Day & 44km/h\\\\\n",
       "\t Weather Forecast for Wellington & Sun 9 Oct  & Windy and partly cloudy. Strong and blustery North to Nor'West winds.   & 12°Night & 14°Day & 45km/h\\\\\n",
       "\t Weather Forecast for Wellington & Mon 10 Oct & Windy, with showers. Strong and blustery North to Nor'West winds.       & 9°Night  & 14°Day & 50km/h\\\\\n",
       "\t Weather Forecast for Wellington & Tue 11 Oct & Showers. Fairly breezy Sou'East winds.                                  & 9°Night  & 13°Day & 23km/h\\\\\n",
       "\t Weather Forecast for Wellington & Wed 12 Oct & Showers. Fairly breezy Sou'East winds.                                  & 8°Night  & 12°Day & 24km/h\\\\\n",
       "\t Weather Forecast for Wellington & Thu 13 Oct & Partly cloudy. Breezy to brisk Sou'East winds.                          & 8°Night  & 12°Day & 29km/h\\\\\n",
       "\t Weather Forecast for Wellington & Fri 14 Oct & Windy, with morning showers. Breezy to brisk Northerly winds.           & 9°Night  & 13°Day & 36km/h\\\\\n",
       "\t Weather Forecast for Wellington & Sat 15 Oct & Windy, with afternoon showers. Breezy to brisk North to Nor'West winds. & 9°Night  & 13°Day & 36km/h\\\\\n",
       "\t Weather Forecast for Wellington & Sun 16 Oct & Windy, with showers. Breezy to brisk North to Nor'West winds.           & 9°Night  & 12°Day & 32km/h\\\\\n",
       "\\end{tabular}\n"
      ],
      "text/markdown": [
       "\n",
       "A tibble: 9 × 6\n",
       "\n",
       "| location &lt;chr&gt; | date &lt;chr&gt; | wellington_weather &lt;chr&gt; | wellington_min_temp &lt;chr&gt; | wellington_max_temp &lt;chr&gt; | wellington_wind &lt;chr&gt; |\n",
       "|---|---|---|---|---|---|\n",
       "| Weather Forecast for Wellington | Sat 8 Oct  | Windy and partly cloudy. Brisk North to Nor'West winds.                 | 11°Night | 14°Day | 44km/h |\n",
       "| Weather Forecast for Wellington | Sun 9 Oct  | Windy and partly cloudy. Strong and blustery North to Nor'West winds.   | 12°Night | 14°Day | 45km/h |\n",
       "| Weather Forecast for Wellington | Mon 10 Oct | Windy, with showers. Strong and blustery North to Nor'West winds.       | 9°Night  | 14°Day | 50km/h |\n",
       "| Weather Forecast for Wellington | Tue 11 Oct | Showers. Fairly breezy Sou'East winds.                                  | 9°Night  | 13°Day | 23km/h |\n",
       "| Weather Forecast for Wellington | Wed 12 Oct | Showers. Fairly breezy Sou'East winds.                                  | 8°Night  | 12°Day | 24km/h |\n",
       "| Weather Forecast for Wellington | Thu 13 Oct | Partly cloudy. Breezy to brisk Sou'East winds.                          | 8°Night  | 12°Day | 29km/h |\n",
       "| Weather Forecast for Wellington | Fri 14 Oct | Windy, with morning showers. Breezy to brisk Northerly winds.           | 9°Night  | 13°Day | 36km/h |\n",
       "| Weather Forecast for Wellington | Sat 15 Oct | Windy, with afternoon showers. Breezy to brisk North to Nor'West winds. | 9°Night  | 13°Day | 36km/h |\n",
       "| Weather Forecast for Wellington | Sun 16 Oct | Windy, with showers. Breezy to brisk North to Nor'West winds.           | 9°Night  | 12°Day | 32km/h |\n",
       "\n"
      ],
      "text/plain": [
       "  location                        date      \n",
       "1 Weather Forecast for Wellington Sat 8 Oct \n",
       "2 Weather Forecast for Wellington Sun 9 Oct \n",
       "3 Weather Forecast for Wellington Mon 10 Oct\n",
       "4 Weather Forecast for Wellington Tue 11 Oct\n",
       "5 Weather Forecast for Wellington Wed 12 Oct\n",
       "6 Weather Forecast for Wellington Thu 13 Oct\n",
       "7 Weather Forecast for Wellington Fri 14 Oct\n",
       "8 Weather Forecast for Wellington Sat 15 Oct\n",
       "9 Weather Forecast for Wellington Sun 16 Oct\n",
       "  wellington_weather                                                     \n",
       "1 Windy and partly cloudy. Brisk North to Nor'West winds.                \n",
       "2 Windy and partly cloudy. Strong and blustery North to Nor'West winds.  \n",
       "3 Windy, with showers. Strong and blustery North to Nor'West winds.      \n",
       "4 Showers. Fairly breezy Sou'East winds.                                 \n",
       "5 Showers. Fairly breezy Sou'East winds.                                 \n",
       "6 Partly cloudy. Breezy to brisk Sou'East winds.                         \n",
       "7 Windy, with morning showers. Breezy to brisk Northerly winds.          \n",
       "8 Windy, with afternoon showers. Breezy to brisk North to Nor'West winds.\n",
       "9 Windy, with showers. Breezy to brisk North to Nor'West winds.          \n",
       "  wellington_min_temp wellington_max_temp wellington_wind\n",
       "1 11°Night            14°Day              44km/h         \n",
       "2 12°Night            14°Day              45km/h         \n",
       "3 9°Night             14°Day              50km/h         \n",
       "4 9°Night             13°Day              23km/h         \n",
       "5 8°Night             12°Day              24km/h         \n",
       "6 8°Night             12°Day              29km/h         \n",
       "7 9°Night             13°Day              36km/h         \n",
       "8 9°Night             13°Day              36km/h         \n",
       "9 9°Night             12°Day              32km/h         "
      ]
     },
     "metadata": {},
     "output_type": "display_data"
    }
   ],
   "source": [
    "wellington_df <- tibble(location=wellington_location, date=date, wellington_weather=wellington_weather, wellington_min_temp=wellington_min_temp, wellington_max_temp=wellington_max_temp, wellington_wind=wellington_wind)\n",
    "wellington_df"
   ]
  },
  {
   "cell_type": "code",
   "execution_count": 94,
   "id": "fe0adc22-6072-4804-9337-6648ba539ab6",
   "metadata": {},
   "outputs": [
    {
     "data": {
      "text/html": [
       "<table class=\"dataframe\">\n",
       "<caption>A tibble: 9 × 6</caption>\n",
       "<thead>\n",
       "\t<tr><th scope=col>location</th><th scope=col>date</th><th scope=col>hamilton_weather</th><th scope=col>hamilton_min_temp</th><th scope=col>hamilton_max_temp</th><th scope=col>hamilton_wind</th></tr>\n",
       "\t<tr><th scope=col>&lt;chr&gt;</th><th scope=col>&lt;chr&gt;</th><th scope=col>&lt;chr&gt;</th><th scope=col>&lt;chr&gt;</th><th scope=col>&lt;chr&gt;</th><th scope=col>&lt;chr&gt;</th></tr>\n",
       "</thead>\n",
       "<tbody>\n",
       "\t<tr><td>Weather Forecast for Hamilton</td><td>Sat 8 Oct </td><td>Partly cloudy. Fairly breezy East to Nor'East winds.</td><td>7°Night </td><td>18°Day</td><td>21km/h</td></tr>\n",
       "\t<tr><td>Weather Forecast for Hamilton</td><td>Sun 9 Oct </td><td>Partly cloudy. Fairly breezy Nor'East winds.        </td><td>9°Night </td><td>19°Day</td><td>20km/h</td></tr>\n",
       "\t<tr><td>Weather Forecast for Hamilton</td><td>Mon 10 Oct</td><td>Cloudy. Breezy North to Nor'West winds.             </td><td>10°Night</td><td>20°Day</td><td>18km/h</td></tr>\n",
       "\t<tr><td>Weather Forecast for Hamilton</td><td>Tue 11 Oct</td><td>Showers. Light Nor'East winds.                      </td><td>10°Night</td><td>19°Day</td><td>13km/h</td></tr>\n",
       "\t<tr><td>Weather Forecast for Hamilton</td><td>Wed 12 Oct</td><td>Rain. Breezy East to Nor'East winds.                </td><td>9°Night </td><td>19°Day</td><td>14km/h</td></tr>\n",
       "\t<tr><td>Weather Forecast for Hamilton</td><td>Thu 13 Oct</td><td>Showers. Fairly breezy Easterly winds.              </td><td>8°Night </td><td>19°Day</td><td>20km/h</td></tr>\n",
       "\t<tr><td>Weather Forecast for Hamilton</td><td>Fri 14 Oct</td><td>Showers. Fairly breezy East to Nor'East winds.      </td><td>9°Night </td><td>18°Day</td><td>26km/h</td></tr>\n",
       "\t<tr><td>Weather Forecast for Hamilton</td><td>Sat 15 Oct</td><td>Showers. Fairly breezy East to Nor'East winds.      </td><td>9°Night </td><td>18°Day</td><td>23km/h</td></tr>\n",
       "\t<tr><td>Weather Forecast for Hamilton</td><td>Sun 16 Oct</td><td>Light rain. Fairly breezy Sou'West winds.           </td><td>8°Night </td><td>18°Day</td><td>20km/h</td></tr>\n",
       "</tbody>\n",
       "</table>\n"
      ],
      "text/latex": [
       "A tibble: 9 × 6\n",
       "\\begin{tabular}{llllll}\n",
       " location & date & hamilton\\_weather & hamilton\\_min\\_temp & hamilton\\_max\\_temp & hamilton\\_wind\\\\\n",
       " <chr> & <chr> & <chr> & <chr> & <chr> & <chr>\\\\\n",
       "\\hline\n",
       "\t Weather Forecast for Hamilton & Sat 8 Oct  & Partly cloudy. Fairly breezy East to Nor'East winds. & 7°Night  & 18°Day & 21km/h\\\\\n",
       "\t Weather Forecast for Hamilton & Sun 9 Oct  & Partly cloudy. Fairly breezy Nor'East winds.         & 9°Night  & 19°Day & 20km/h\\\\\n",
       "\t Weather Forecast for Hamilton & Mon 10 Oct & Cloudy. Breezy North to Nor'West winds.              & 10°Night & 20°Day & 18km/h\\\\\n",
       "\t Weather Forecast for Hamilton & Tue 11 Oct & Showers. Light Nor'East winds.                       & 10°Night & 19°Day & 13km/h\\\\\n",
       "\t Weather Forecast for Hamilton & Wed 12 Oct & Rain. Breezy East to Nor'East winds.                 & 9°Night  & 19°Day & 14km/h\\\\\n",
       "\t Weather Forecast for Hamilton & Thu 13 Oct & Showers. Fairly breezy Easterly winds.               & 8°Night  & 19°Day & 20km/h\\\\\n",
       "\t Weather Forecast for Hamilton & Fri 14 Oct & Showers. Fairly breezy East to Nor'East winds.       & 9°Night  & 18°Day & 26km/h\\\\\n",
       "\t Weather Forecast for Hamilton & Sat 15 Oct & Showers. Fairly breezy East to Nor'East winds.       & 9°Night  & 18°Day & 23km/h\\\\\n",
       "\t Weather Forecast for Hamilton & Sun 16 Oct & Light rain. Fairly breezy Sou'West winds.            & 8°Night  & 18°Day & 20km/h\\\\\n",
       "\\end{tabular}\n"
      ],
      "text/markdown": [
       "\n",
       "A tibble: 9 × 6\n",
       "\n",
       "| location &lt;chr&gt; | date &lt;chr&gt; | hamilton_weather &lt;chr&gt; | hamilton_min_temp &lt;chr&gt; | hamilton_max_temp &lt;chr&gt; | hamilton_wind &lt;chr&gt; |\n",
       "|---|---|---|---|---|---|\n",
       "| Weather Forecast for Hamilton | Sat 8 Oct  | Partly cloudy. Fairly breezy East to Nor'East winds. | 7°Night  | 18°Day | 21km/h |\n",
       "| Weather Forecast for Hamilton | Sun 9 Oct  | Partly cloudy. Fairly breezy Nor'East winds.         | 9°Night  | 19°Day | 20km/h |\n",
       "| Weather Forecast for Hamilton | Mon 10 Oct | Cloudy. Breezy North to Nor'West winds.              | 10°Night | 20°Day | 18km/h |\n",
       "| Weather Forecast for Hamilton | Tue 11 Oct | Showers. Light Nor'East winds.                       | 10°Night | 19°Day | 13km/h |\n",
       "| Weather Forecast for Hamilton | Wed 12 Oct | Rain. Breezy East to Nor'East winds.                 | 9°Night  | 19°Day | 14km/h |\n",
       "| Weather Forecast for Hamilton | Thu 13 Oct | Showers. Fairly breezy Easterly winds.               | 8°Night  | 19°Day | 20km/h |\n",
       "| Weather Forecast for Hamilton | Fri 14 Oct | Showers. Fairly breezy East to Nor'East winds.       | 9°Night  | 18°Day | 26km/h |\n",
       "| Weather Forecast for Hamilton | Sat 15 Oct | Showers. Fairly breezy East to Nor'East winds.       | 9°Night  | 18°Day | 23km/h |\n",
       "| Weather Forecast for Hamilton | Sun 16 Oct | Light rain. Fairly breezy Sou'West winds.            | 8°Night  | 18°Day | 20km/h |\n",
       "\n"
      ],
      "text/plain": [
       "  location                      date      \n",
       "1 Weather Forecast for Hamilton Sat 8 Oct \n",
       "2 Weather Forecast for Hamilton Sun 9 Oct \n",
       "3 Weather Forecast for Hamilton Mon 10 Oct\n",
       "4 Weather Forecast for Hamilton Tue 11 Oct\n",
       "5 Weather Forecast for Hamilton Wed 12 Oct\n",
       "6 Weather Forecast for Hamilton Thu 13 Oct\n",
       "7 Weather Forecast for Hamilton Fri 14 Oct\n",
       "8 Weather Forecast for Hamilton Sat 15 Oct\n",
       "9 Weather Forecast for Hamilton Sun 16 Oct\n",
       "  hamilton_weather                                     hamilton_min_temp\n",
       "1 Partly cloudy. Fairly breezy East to Nor'East winds. 7°Night          \n",
       "2 Partly cloudy. Fairly breezy Nor'East winds.         9°Night          \n",
       "3 Cloudy. Breezy North to Nor'West winds.              10°Night         \n",
       "4 Showers. Light Nor'East winds.                       10°Night         \n",
       "5 Rain. Breezy East to Nor'East winds.                 9°Night          \n",
       "6 Showers. Fairly breezy Easterly winds.               8°Night          \n",
       "7 Showers. Fairly breezy East to Nor'East winds.       9°Night          \n",
       "8 Showers. Fairly breezy East to Nor'East winds.       9°Night          \n",
       "9 Light rain. Fairly breezy Sou'West winds.            8°Night          \n",
       "  hamilton_max_temp hamilton_wind\n",
       "1 18°Day            21km/h       \n",
       "2 19°Day            20km/h       \n",
       "3 20°Day            18km/h       \n",
       "4 19°Day            13km/h       \n",
       "5 19°Day            14km/h       \n",
       "6 19°Day            20km/h       \n",
       "7 18°Day            26km/h       \n",
       "8 18°Day            23km/h       \n",
       "9 18°Day            20km/h       "
      ]
     },
     "metadata": {},
     "output_type": "display_data"
    }
   ],
   "source": [
    "hamilton_df <- tibble(location=hamilton_location, date=date, hamilton_weather=hamilton_weather, hamilton_min_temp=hamilton_min_temp, hamilton_max_temp=hamilton_max_temp, hamilton_wind=hamilton_wind)\n",
    "hamilton_df"
   ]
  },
  {
   "cell_type": "code",
   "execution_count": 90,
   "id": "59c29600-2d60-4e83-8d1e-662b578a9d6f",
   "metadata": {},
   "outputs": [
    {
     "data": {
      "text/html": [
       "<table class=\"dataframe\">\n",
       "<caption>A tibble: 9 × 6</caption>\n",
       "<thead>\n",
       "\t<tr><th scope=col>location</th><th scope=col>date</th><th scope=col>tauranga_weather</th><th scope=col>tauranga_min_temp</th><th scope=col>tauranga_max_temp</th><th scope=col>tauranga_wind</th></tr>\n",
       "\t<tr><th scope=col>&lt;chr&gt;</th><th scope=col>&lt;chr&gt;</th><th scope=col>&lt;chr&gt;</th><th scope=col>&lt;chr&gt;</th><th scope=col>&lt;chr&gt;</th><th scope=col>&lt;chr&gt;</th></tr>\n",
       "</thead>\n",
       "<tbody>\n",
       "\t<tr><td>Weather Forecast for Tauranga</td><td>Sat 8 Oct </td><td>Morning clouds followed by afternoon sun. Breezy Nor'East winds.         </td><td>11°Night</td><td>15°Day</td><td>15km/h</td></tr>\n",
       "\t<tr><td>Weather Forecast for Tauranga</td><td>Sun 9 Oct </td><td>Morning clouds followed by afternoon sun. Breezy North to Nor'East winds.</td><td>12°Night</td><td>16°Day</td><td>17km/h</td></tr>\n",
       "\t<tr><td>Weather Forecast for Tauranga</td><td>Mon 10 Oct</td><td>Morning showers. Breezy North to Nor'West winds.                         </td><td>12°Night</td><td>17°Day</td><td>15km/h</td></tr>\n",
       "\t<tr><td>Weather Forecast for Tauranga</td><td>Tue 11 Oct</td><td>Showers. Light East to Nor'East winds.                                   </td><td>12°Night</td><td>17°Day</td><td>10km/h</td></tr>\n",
       "\t<tr><td>Weather Forecast for Tauranga</td><td>Wed 12 Oct</td><td>Showers. Light East to Nor'East winds.                                   </td><td>11°Night</td><td>17°Day</td><td>10km/h</td></tr>\n",
       "\t<tr><td>Weather Forecast for Tauranga</td><td>Thu 13 Oct</td><td>Scattered showers. Breezy Easterly winds.                                </td><td>11°Night</td><td>17°Day</td><td>16km/h</td></tr>\n",
       "\t<tr><td>Weather Forecast for Tauranga</td><td>Fri 14 Oct</td><td>Showers. Breezy Easterly winds.                                          </td><td>12°Night</td><td>16°Day</td><td>18km/h</td></tr>\n",
       "\t<tr><td>Weather Forecast for Tauranga</td><td>Sat 15 Oct</td><td>Showers. Breezy Nor'East winds.                                          </td><td>11°Night</td><td>16°Day</td><td>18km/h</td></tr>\n",
       "\t<tr><td>Weather Forecast for Tauranga</td><td>Sun 16 Oct</td><td>Showers. Light West to Nor'West winds.                                   </td><td>11°Night</td><td>17°Day</td><td>12km/h</td></tr>\n",
       "</tbody>\n",
       "</table>\n"
      ],
      "text/latex": [
       "A tibble: 9 × 6\n",
       "\\begin{tabular}{llllll}\n",
       " location & date & tauranga\\_weather & tauranga\\_min\\_temp & tauranga\\_max\\_temp & tauranga\\_wind\\\\\n",
       " <chr> & <chr> & <chr> & <chr> & <chr> & <chr>\\\\\n",
       "\\hline\n",
       "\t Weather Forecast for Tauranga & Sat 8 Oct  & Morning clouds followed by afternoon sun. Breezy Nor'East winds.          & 11°Night & 15°Day & 15km/h\\\\\n",
       "\t Weather Forecast for Tauranga & Sun 9 Oct  & Morning clouds followed by afternoon sun. Breezy North to Nor'East winds. & 12°Night & 16°Day & 17km/h\\\\\n",
       "\t Weather Forecast for Tauranga & Mon 10 Oct & Morning showers. Breezy North to Nor'West winds.                          & 12°Night & 17°Day & 15km/h\\\\\n",
       "\t Weather Forecast for Tauranga & Tue 11 Oct & Showers. Light East to Nor'East winds.                                    & 12°Night & 17°Day & 10km/h\\\\\n",
       "\t Weather Forecast for Tauranga & Wed 12 Oct & Showers. Light East to Nor'East winds.                                    & 11°Night & 17°Day & 10km/h\\\\\n",
       "\t Weather Forecast for Tauranga & Thu 13 Oct & Scattered showers. Breezy Easterly winds.                                 & 11°Night & 17°Day & 16km/h\\\\\n",
       "\t Weather Forecast for Tauranga & Fri 14 Oct & Showers. Breezy Easterly winds.                                           & 12°Night & 16°Day & 18km/h\\\\\n",
       "\t Weather Forecast for Tauranga & Sat 15 Oct & Showers. Breezy Nor'East winds.                                           & 11°Night & 16°Day & 18km/h\\\\\n",
       "\t Weather Forecast for Tauranga & Sun 16 Oct & Showers. Light West to Nor'West winds.                                    & 11°Night & 17°Day & 12km/h\\\\\n",
       "\\end{tabular}\n"
      ],
      "text/markdown": [
       "\n",
       "A tibble: 9 × 6\n",
       "\n",
       "| location &lt;chr&gt; | date &lt;chr&gt; | tauranga_weather &lt;chr&gt; | tauranga_min_temp &lt;chr&gt; | tauranga_max_temp &lt;chr&gt; | tauranga_wind &lt;chr&gt; |\n",
       "|---|---|---|---|---|---|\n",
       "| Weather Forecast for Tauranga | Sat 8 Oct  | Morning clouds followed by afternoon sun. Breezy Nor'East winds.          | 11°Night | 15°Day | 15km/h |\n",
       "| Weather Forecast for Tauranga | Sun 9 Oct  | Morning clouds followed by afternoon sun. Breezy North to Nor'East winds. | 12°Night | 16°Day | 17km/h |\n",
       "| Weather Forecast for Tauranga | Mon 10 Oct | Morning showers. Breezy North to Nor'West winds.                          | 12°Night | 17°Day | 15km/h |\n",
       "| Weather Forecast for Tauranga | Tue 11 Oct | Showers. Light East to Nor'East winds.                                    | 12°Night | 17°Day | 10km/h |\n",
       "| Weather Forecast for Tauranga | Wed 12 Oct | Showers. Light East to Nor'East winds.                                    | 11°Night | 17°Day | 10km/h |\n",
       "| Weather Forecast for Tauranga | Thu 13 Oct | Scattered showers. Breezy Easterly winds.                                 | 11°Night | 17°Day | 16km/h |\n",
       "| Weather Forecast for Tauranga | Fri 14 Oct | Showers. Breezy Easterly winds.                                           | 12°Night | 16°Day | 18km/h |\n",
       "| Weather Forecast for Tauranga | Sat 15 Oct | Showers. Breezy Nor'East winds.                                           | 11°Night | 16°Day | 18km/h |\n",
       "| Weather Forecast for Tauranga | Sun 16 Oct | Showers. Light West to Nor'West winds.                                    | 11°Night | 17°Day | 12km/h |\n",
       "\n"
      ],
      "text/plain": [
       "  location                      date      \n",
       "1 Weather Forecast for Tauranga Sat 8 Oct \n",
       "2 Weather Forecast for Tauranga Sun 9 Oct \n",
       "3 Weather Forecast for Tauranga Mon 10 Oct\n",
       "4 Weather Forecast for Tauranga Tue 11 Oct\n",
       "5 Weather Forecast for Tauranga Wed 12 Oct\n",
       "6 Weather Forecast for Tauranga Thu 13 Oct\n",
       "7 Weather Forecast for Tauranga Fri 14 Oct\n",
       "8 Weather Forecast for Tauranga Sat 15 Oct\n",
       "9 Weather Forecast for Tauranga Sun 16 Oct\n",
       "  tauranga_weather                                                         \n",
       "1 Morning clouds followed by afternoon sun. Breezy Nor'East winds.         \n",
       "2 Morning clouds followed by afternoon sun. Breezy North to Nor'East winds.\n",
       "3 Morning showers. Breezy North to Nor'West winds.                         \n",
       "4 Showers. Light East to Nor'East winds.                                   \n",
       "5 Showers. Light East to Nor'East winds.                                   \n",
       "6 Scattered showers. Breezy Easterly winds.                                \n",
       "7 Showers. Breezy Easterly winds.                                          \n",
       "8 Showers. Breezy Nor'East winds.                                          \n",
       "9 Showers. Light West to Nor'West winds.                                   \n",
       "  tauranga_min_temp tauranga_max_temp tauranga_wind\n",
       "1 11°Night          15°Day            15km/h       \n",
       "2 12°Night          16°Day            17km/h       \n",
       "3 12°Night          17°Day            15km/h       \n",
       "4 12°Night          17°Day            10km/h       \n",
       "5 11°Night          17°Day            10km/h       \n",
       "6 11°Night          17°Day            16km/h       \n",
       "7 12°Night          16°Day            18km/h       \n",
       "8 11°Night          16°Day            18km/h       \n",
       "9 11°Night          17°Day            12km/h       "
      ]
     },
     "metadata": {},
     "output_type": "display_data"
    }
   ],
   "source": [
    "tauranga_df <- tibble(location=tauranga_location, date=date, tauranga_weather=tauranga_weather, tauranga_min_temp=tauranga_min_temp, tauranga_max_temp=tauranga_max_temp, tauranga_wind=tauranga_wind)\n",
    "tauranga_df"
   ]
  },
  {
   "cell_type": "code",
   "execution_count": 96,
   "id": "e027ae5f-f524-48bb-ad41-3308bbc3ac66",
   "metadata": {},
   "outputs": [
    {
     "data": {
      "text/html": [
       "<table class=\"dataframe\">\n",
       "<caption>A tibble: 9 × 6</caption>\n",
       "<thead>\n",
       "\t<tr><th scope=col>location</th><th scope=col>date</th><th scope=col>christchurch_weather</th><th scope=col>christchurch_min_temp</th><th scope=col>christchurch_max_temp</th><th scope=col>christchurch_wind</th></tr>\n",
       "\t<tr><th scope=col>&lt;chr&gt;</th><th scope=col>&lt;chr&gt;</th><th scope=col>&lt;chr&gt;</th><th scope=col>&lt;chr&gt;</th><th scope=col>&lt;chr&gt;</th><th scope=col>&lt;chr&gt;</th></tr>\n",
       "</thead>\n",
       "<tbody>\n",
       "\t<tr><td>Weather Forecast for Christchurch</td><td>Sat 8 Oct </td><td>Partly cloudy. Breezy Northerly winds.               </td><td>8°Night </td><td>19°Day</td><td>17km/h</td></tr>\n",
       "\t<tr><td>Weather Forecast for Christchurch</td><td>Sun 9 Oct </td><td>Mostly cloudy. Fairly breezy Northerly winds.        </td><td>12°Night</td><td>19°Day</td><td>25km/h</td></tr>\n",
       "\t<tr><td>Weather Forecast for Christchurch</td><td>Mon 10 Oct</td><td>Partly cloudy. Fairly breezy West to Sou'West winds. </td><td>8°Night </td><td>17°Day</td><td>22km/h</td></tr>\n",
       "\t<tr><td>Weather Forecast for Christchurch</td><td>Tue 11 Oct</td><td>Mostly cloudy. Breezy East to Nor'East winds.        </td><td>7°Night </td><td>12°Day</td><td>19km/h</td></tr>\n",
       "\t<tr><td>Weather Forecast for Christchurch</td><td>Wed 12 Oct</td><td>Morning showers. Light East to Sou'East winds.       </td><td>5°Night </td><td>13°Day</td><td>12km/h</td></tr>\n",
       "\t<tr><td>Weather Forecast for Christchurch</td><td>Thu 13 Oct</td><td>Partly cloudy. Fairly breezy Nor'East winds.         </td><td>7°Night </td><td>14°Day</td><td>21km/h</td></tr>\n",
       "\t<tr><td>Weather Forecast for Christchurch</td><td>Fri 14 Oct</td><td>Partly cloudy. Fairly breezy Nor'East winds.         </td><td>9°Night </td><td>16°Day</td><td>22km/h</td></tr>\n",
       "\t<tr><td>Weather Forecast for Christchurch</td><td>Sat 15 Oct</td><td>Partly cloudy. Fairly breezy North to Nor'East winds.</td><td>8°Night </td><td>16°Day</td><td>20km/h</td></tr>\n",
       "\t<tr><td>Weather Forecast for Christchurch</td><td>Sun 16 Oct</td><td>Morning showers. Breezy East to Nor'East winds.      </td><td>7°Night </td><td>14°Day</td><td>14km/h</td></tr>\n",
       "</tbody>\n",
       "</table>\n"
      ],
      "text/latex": [
       "A tibble: 9 × 6\n",
       "\\begin{tabular}{llllll}\n",
       " location & date & christchurch\\_weather & christchurch\\_min\\_temp & christchurch\\_max\\_temp & christchurch\\_wind\\\\\n",
       " <chr> & <chr> & <chr> & <chr> & <chr> & <chr>\\\\\n",
       "\\hline\n",
       "\t Weather Forecast for Christchurch & Sat 8 Oct  & Partly cloudy. Breezy Northerly winds.                & 8°Night  & 19°Day & 17km/h\\\\\n",
       "\t Weather Forecast for Christchurch & Sun 9 Oct  & Mostly cloudy. Fairly breezy Northerly winds.         & 12°Night & 19°Day & 25km/h\\\\\n",
       "\t Weather Forecast for Christchurch & Mon 10 Oct & Partly cloudy. Fairly breezy West to Sou'West winds.  & 8°Night  & 17°Day & 22km/h\\\\\n",
       "\t Weather Forecast for Christchurch & Tue 11 Oct & Mostly cloudy. Breezy East to Nor'East winds.         & 7°Night  & 12°Day & 19km/h\\\\\n",
       "\t Weather Forecast for Christchurch & Wed 12 Oct & Morning showers. Light East to Sou'East winds.        & 5°Night  & 13°Day & 12km/h\\\\\n",
       "\t Weather Forecast for Christchurch & Thu 13 Oct & Partly cloudy. Fairly breezy Nor'East winds.          & 7°Night  & 14°Day & 21km/h\\\\\n",
       "\t Weather Forecast for Christchurch & Fri 14 Oct & Partly cloudy. Fairly breezy Nor'East winds.          & 9°Night  & 16°Day & 22km/h\\\\\n",
       "\t Weather Forecast for Christchurch & Sat 15 Oct & Partly cloudy. Fairly breezy North to Nor'East winds. & 8°Night  & 16°Day & 20km/h\\\\\n",
       "\t Weather Forecast for Christchurch & Sun 16 Oct & Morning showers. Breezy East to Nor'East winds.       & 7°Night  & 14°Day & 14km/h\\\\\n",
       "\\end{tabular}\n"
      ],
      "text/markdown": [
       "\n",
       "A tibble: 9 × 6\n",
       "\n",
       "| location &lt;chr&gt; | date &lt;chr&gt; | christchurch_weather &lt;chr&gt; | christchurch_min_temp &lt;chr&gt; | christchurch_max_temp &lt;chr&gt; | christchurch_wind &lt;chr&gt; |\n",
       "|---|---|---|---|---|---|\n",
       "| Weather Forecast for Christchurch | Sat 8 Oct  | Partly cloudy. Breezy Northerly winds.                | 8°Night  | 19°Day | 17km/h |\n",
       "| Weather Forecast for Christchurch | Sun 9 Oct  | Mostly cloudy. Fairly breezy Northerly winds.         | 12°Night | 19°Day | 25km/h |\n",
       "| Weather Forecast for Christchurch | Mon 10 Oct | Partly cloudy. Fairly breezy West to Sou'West winds.  | 8°Night  | 17°Day | 22km/h |\n",
       "| Weather Forecast for Christchurch | Tue 11 Oct | Mostly cloudy. Breezy East to Nor'East winds.         | 7°Night  | 12°Day | 19km/h |\n",
       "| Weather Forecast for Christchurch | Wed 12 Oct | Morning showers. Light East to Sou'East winds.        | 5°Night  | 13°Day | 12km/h |\n",
       "| Weather Forecast for Christchurch | Thu 13 Oct | Partly cloudy. Fairly breezy Nor'East winds.          | 7°Night  | 14°Day | 21km/h |\n",
       "| Weather Forecast for Christchurch | Fri 14 Oct | Partly cloudy. Fairly breezy Nor'East winds.          | 9°Night  | 16°Day | 22km/h |\n",
       "| Weather Forecast for Christchurch | Sat 15 Oct | Partly cloudy. Fairly breezy North to Nor'East winds. | 8°Night  | 16°Day | 20km/h |\n",
       "| Weather Forecast for Christchurch | Sun 16 Oct | Morning showers. Breezy East to Nor'East winds.       | 7°Night  | 14°Day | 14km/h |\n",
       "\n"
      ],
      "text/plain": [
       "  location                          date      \n",
       "1 Weather Forecast for Christchurch Sat 8 Oct \n",
       "2 Weather Forecast for Christchurch Sun 9 Oct \n",
       "3 Weather Forecast for Christchurch Mon 10 Oct\n",
       "4 Weather Forecast for Christchurch Tue 11 Oct\n",
       "5 Weather Forecast for Christchurch Wed 12 Oct\n",
       "6 Weather Forecast for Christchurch Thu 13 Oct\n",
       "7 Weather Forecast for Christchurch Fri 14 Oct\n",
       "8 Weather Forecast for Christchurch Sat 15 Oct\n",
       "9 Weather Forecast for Christchurch Sun 16 Oct\n",
       "  christchurch_weather                                  christchurch_min_temp\n",
       "1 Partly cloudy. Breezy Northerly winds.                8°Night              \n",
       "2 Mostly cloudy. Fairly breezy Northerly winds.         12°Night             \n",
       "3 Partly cloudy. Fairly breezy West to Sou'West winds.  8°Night              \n",
       "4 Mostly cloudy. Breezy East to Nor'East winds.         7°Night              \n",
       "5 Morning showers. Light East to Sou'East winds.        5°Night              \n",
       "6 Partly cloudy. Fairly breezy Nor'East winds.          7°Night              \n",
       "7 Partly cloudy. Fairly breezy Nor'East winds.          9°Night              \n",
       "8 Partly cloudy. Fairly breezy North to Nor'East winds. 8°Night              \n",
       "9 Morning showers. Breezy East to Nor'East winds.       7°Night              \n",
       "  christchurch_max_temp christchurch_wind\n",
       "1 19°Day                17km/h           \n",
       "2 19°Day                25km/h           \n",
       "3 17°Day                22km/h           \n",
       "4 12°Day                19km/h           \n",
       "5 13°Day                12km/h           \n",
       "6 14°Day                21km/h           \n",
       "7 16°Day                22km/h           \n",
       "8 16°Day                20km/h           \n",
       "9 14°Day                14km/h           "
      ]
     },
     "metadata": {},
     "output_type": "display_data"
    }
   ],
   "source": [
    "christchurch_df <- tibble(location=christchurch_location, date=date, christchurch_weather=christchurch_weather, christchurch_min_temp=christchurch_min_temp, christchurch_max_temp=christchurch_max_temp, christchurch_wind=christchurch_wind)\n",
    "christchurch_df"
   ]
  },
  {
   "cell_type": "code",
   "execution_count": 100,
   "id": "5a92bfbe-8782-4dfa-b7e0-25bbc2bad676",
   "metadata": {},
   "outputs": [
    {
     "data": {
      "text/html": [
       "<table class=\"dataframe\">\n",
       "<caption>A tibble: 9 × 6</caption>\n",
       "<thead>\n",
       "\t<tr><th scope=col>location</th><th scope=col>date</th><th scope=col>dunedin_weather</th><th scope=col>dunedin_min_temp</th><th scope=col>dunedin_max_temp</th><th scope=col>dunedin_wind</th></tr>\n",
       "\t<tr><th scope=col>&lt;chr&gt;</th><th scope=col>&lt;chr&gt;</th><th scope=col>&lt;chr&gt;</th><th scope=col>&lt;chr&gt;</th><th scope=col>&lt;chr&gt;</th><th scope=col>&lt;chr&gt;</th></tr>\n",
       "</thead>\n",
       "<tbody>\n",
       "\t<tr><td>Weather Forecast for Dunedin</td><td>Sat 8 Oct </td><td>Mostly cloudy. Breezy Northerly winds.                   </td><td>9°Night</td><td>17°Day</td><td>15km/h</td></tr>\n",
       "\t<tr><td>Weather Forecast for Dunedin</td><td>Sun 9 Oct </td><td>Cloudy. Fairly breezy North to Nor'East winds.           </td><td>8°Night</td><td>14°Day</td><td>22km/h</td></tr>\n",
       "\t<tr><td>Weather Forecast for Dunedin</td><td>Mon 10 Oct</td><td>Afternoon showers. Fairly breezy West to Sou'West winds. </td><td>4°Night</td><td>11°Day</td><td>27km/h</td></tr>\n",
       "\t<tr><td>Weather Forecast for Dunedin</td><td>Tue 11 Oct</td><td>Partly cloudy. Breezy North to Nor'East winds.           </td><td>4°Night</td><td>10°Day</td><td>15km/h</td></tr>\n",
       "\t<tr><td>Weather Forecast for Dunedin</td><td>Wed 12 Oct</td><td>Partly cloudy. Breezy Sou'West winds.                    </td><td>4°Night</td><td>11°Day</td><td>14km/h</td></tr>\n",
       "\t<tr><td>Weather Forecast for Dunedin</td><td>Thu 13 Oct</td><td>Partly cloudy. Fairly breezy Nor'East winds.             </td><td>6°Night</td><td>11°Day</td><td>24km/h</td></tr>\n",
       "\t<tr><td>Weather Forecast for Dunedin</td><td>Fri 14 Oct</td><td>Afternoon showers. Fairly breezy North to Nor'East winds.</td><td>8°Night</td><td>14°Day</td><td>22km/h</td></tr>\n",
       "\t<tr><td>Weather Forecast for Dunedin</td><td>Sat 15 Oct</td><td>Afternoon showers. Breezy North to Nor'East winds.       </td><td>6°Night</td><td>13°Day</td><td>18km/h</td></tr>\n",
       "\t<tr><td>Weather Forecast for Dunedin</td><td>Sun 16 Oct</td><td>Showers. Breezy North to Nor'East winds.                 </td><td>6°Night</td><td>12°Day</td><td>15km/h</td></tr>\n",
       "</tbody>\n",
       "</table>\n"
      ],
      "text/latex": [
       "A tibble: 9 × 6\n",
       "\\begin{tabular}{llllll}\n",
       " location & date & dunedin\\_weather & dunedin\\_min\\_temp & dunedin\\_max\\_temp & dunedin\\_wind\\\\\n",
       " <chr> & <chr> & <chr> & <chr> & <chr> & <chr>\\\\\n",
       "\\hline\n",
       "\t Weather Forecast for Dunedin & Sat 8 Oct  & Mostly cloudy. Breezy Northerly winds.                    & 9°Night & 17°Day & 15km/h\\\\\n",
       "\t Weather Forecast for Dunedin & Sun 9 Oct  & Cloudy. Fairly breezy North to Nor'East winds.            & 8°Night & 14°Day & 22km/h\\\\\n",
       "\t Weather Forecast for Dunedin & Mon 10 Oct & Afternoon showers. Fairly breezy West to Sou'West winds.  & 4°Night & 11°Day & 27km/h\\\\\n",
       "\t Weather Forecast for Dunedin & Tue 11 Oct & Partly cloudy. Breezy North to Nor'East winds.            & 4°Night & 10°Day & 15km/h\\\\\n",
       "\t Weather Forecast for Dunedin & Wed 12 Oct & Partly cloudy. Breezy Sou'West winds.                     & 4°Night & 11°Day & 14km/h\\\\\n",
       "\t Weather Forecast for Dunedin & Thu 13 Oct & Partly cloudy. Fairly breezy Nor'East winds.              & 6°Night & 11°Day & 24km/h\\\\\n",
       "\t Weather Forecast for Dunedin & Fri 14 Oct & Afternoon showers. Fairly breezy North to Nor'East winds. & 8°Night & 14°Day & 22km/h\\\\\n",
       "\t Weather Forecast for Dunedin & Sat 15 Oct & Afternoon showers. Breezy North to Nor'East winds.        & 6°Night & 13°Day & 18km/h\\\\\n",
       "\t Weather Forecast for Dunedin & Sun 16 Oct & Showers. Breezy North to Nor'East winds.                  & 6°Night & 12°Day & 15km/h\\\\\n",
       "\\end{tabular}\n"
      ],
      "text/markdown": [
       "\n",
       "A tibble: 9 × 6\n",
       "\n",
       "| location &lt;chr&gt; | date &lt;chr&gt; | dunedin_weather &lt;chr&gt; | dunedin_min_temp &lt;chr&gt; | dunedin_max_temp &lt;chr&gt; | dunedin_wind &lt;chr&gt; |\n",
       "|---|---|---|---|---|---|\n",
       "| Weather Forecast for Dunedin | Sat 8 Oct  | Mostly cloudy. Breezy Northerly winds.                    | 9°Night | 17°Day | 15km/h |\n",
       "| Weather Forecast for Dunedin | Sun 9 Oct  | Cloudy. Fairly breezy North to Nor'East winds.            | 8°Night | 14°Day | 22km/h |\n",
       "| Weather Forecast for Dunedin | Mon 10 Oct | Afternoon showers. Fairly breezy West to Sou'West winds.  | 4°Night | 11°Day | 27km/h |\n",
       "| Weather Forecast for Dunedin | Tue 11 Oct | Partly cloudy. Breezy North to Nor'East winds.            | 4°Night | 10°Day | 15km/h |\n",
       "| Weather Forecast for Dunedin | Wed 12 Oct | Partly cloudy. Breezy Sou'West winds.                     | 4°Night | 11°Day | 14km/h |\n",
       "| Weather Forecast for Dunedin | Thu 13 Oct | Partly cloudy. Fairly breezy Nor'East winds.              | 6°Night | 11°Day | 24km/h |\n",
       "| Weather Forecast for Dunedin | Fri 14 Oct | Afternoon showers. Fairly breezy North to Nor'East winds. | 8°Night | 14°Day | 22km/h |\n",
       "| Weather Forecast for Dunedin | Sat 15 Oct | Afternoon showers. Breezy North to Nor'East winds.        | 6°Night | 13°Day | 18km/h |\n",
       "| Weather Forecast for Dunedin | Sun 16 Oct | Showers. Breezy North to Nor'East winds.                  | 6°Night | 12°Day | 15km/h |\n",
       "\n"
      ],
      "text/plain": [
       "  location                     date      \n",
       "1 Weather Forecast for Dunedin Sat 8 Oct \n",
       "2 Weather Forecast for Dunedin Sun 9 Oct \n",
       "3 Weather Forecast for Dunedin Mon 10 Oct\n",
       "4 Weather Forecast for Dunedin Tue 11 Oct\n",
       "5 Weather Forecast for Dunedin Wed 12 Oct\n",
       "6 Weather Forecast for Dunedin Thu 13 Oct\n",
       "7 Weather Forecast for Dunedin Fri 14 Oct\n",
       "8 Weather Forecast for Dunedin Sat 15 Oct\n",
       "9 Weather Forecast for Dunedin Sun 16 Oct\n",
       "  dunedin_weather                                           dunedin_min_temp\n",
       "1 Mostly cloudy. Breezy Northerly winds.                    9°Night         \n",
       "2 Cloudy. Fairly breezy North to Nor'East winds.            8°Night         \n",
       "3 Afternoon showers. Fairly breezy West to Sou'West winds.  4°Night         \n",
       "4 Partly cloudy. Breezy North to Nor'East winds.            4°Night         \n",
       "5 Partly cloudy. Breezy Sou'West winds.                     4°Night         \n",
       "6 Partly cloudy. Fairly breezy Nor'East winds.              6°Night         \n",
       "7 Afternoon showers. Fairly breezy North to Nor'East winds. 8°Night         \n",
       "8 Afternoon showers. Breezy North to Nor'East winds.        6°Night         \n",
       "9 Showers. Breezy North to Nor'East winds.                  6°Night         \n",
       "  dunedin_max_temp dunedin_wind\n",
       "1 17°Day           15km/h      \n",
       "2 14°Day           22km/h      \n",
       "3 11°Day           27km/h      \n",
       "4 10°Day           15km/h      \n",
       "5 11°Day           14km/h      \n",
       "6 11°Day           24km/h      \n",
       "7 14°Day           22km/h      \n",
       "8 13°Day           18km/h      \n",
       "9 12°Day           15km/h      "
      ]
     },
     "metadata": {},
     "output_type": "display_data"
    }
   ],
   "source": [
    "dunedin_df <- tibble(location=dunedin_location, date=date, dunedin_weather=dunedin_weather, dunedin_min_temp=dunedin_min_temp, dunedin_max_temp=dunedin_max_temp, dunedin_wind=dunedin_wind)\n",
    "dunedin_df"
   ]
  },
  {
   "cell_type": "code",
   "execution_count": 129,
   "id": "39514a08-a596-4db0-91d0-dab754307bc4",
   "metadata": {
    "scrolled": true
   },
   "outputs": [
    {
     "data": {
      "text/html": [
       "<table class=\"dataframe\">\n",
       "<caption>A tibble: 9 × 6</caption>\n",
       "<thead>\n",
       "\t<tr><th scope=col>location</th><th scope=col>date</th><th scope=col>auckland_weather</th><th scope=col>auckland_min_temp</th><th scope=col>auckland_max_temp</th><th scope=col>auckland_wind</th></tr>\n",
       "\t<tr><th scope=col>&lt;chr&gt;</th><th scope=col>&lt;chr&gt;</th><th scope=col>&lt;chr&gt;</th><th scope=col>&lt;chr&gt;</th><th scope=col>&lt;chr&gt;</th><th scope=col>&lt;chr&gt;</th></tr>\n",
       "</thead>\n",
       "<tbody>\n",
       "\t<tr><td>Weather Forecast for Auckland</td><td>Sat 8 Oct </td><td>Partly cloudy. Fairly breezy Nor'East winds.           </td><td>13°Night</td><td>17°Day</td><td>26km/h</td></tr>\n",
       "\t<tr><td>Weather Forecast for Auckland</td><td>Sun 9 Oct </td><td>Mostly cloudy. Breezy to brisk North to Nor'East winds.</td><td>13°Night</td><td>17°Day</td><td>28km/h</td></tr>\n",
       "\t<tr><td>Weather Forecast for Auckland</td><td>Mon 10 Oct</td><td>Cloudy. Fairly breezy Northerly winds.                 </td><td>13°Night</td><td>18°Day</td><td>20km/h</td></tr>\n",
       "\t<tr><td>Weather Forecast for Auckland</td><td>Tue 11 Oct</td><td>Showers. Breezy North to Nor'East winds.               </td><td>13°Night</td><td>18°Day</td><td>19km/h</td></tr>\n",
       "\t<tr><td>Weather Forecast for Auckland</td><td>Wed 12 Oct</td><td>Light rain. Breezy Nor'East winds.                     </td><td>12°Night</td><td>17°Day</td><td>17km/h</td></tr>\n",
       "\t<tr><td>Weather Forecast for Auckland</td><td>Thu 13 Oct</td><td>Showers. Fairly breezy Easterly winds.                 </td><td>12°Night</td><td>17°Day</td><td>25km/h</td></tr>\n",
       "\t<tr><td>Weather Forecast for Auckland</td><td>Fri 14 Oct</td><td>Showers. Breezy to brisk Nor'East winds.               </td><td>13°Night</td><td>17°Day</td><td>28km/h</td></tr>\n",
       "\t<tr><td>Weather Forecast for Auckland</td><td>Sat 15 Oct</td><td>Showers. Fairly breezy North to Nor'East winds.        </td><td>12°Night</td><td>17°Day</td><td>25km/h</td></tr>\n",
       "\t<tr><td>Weather Forecast for Auckland</td><td>Sun 16 Oct</td><td>Showers. Fairly breezy West to Nor'West winds.         </td><td>12°Night</td><td>18°Day</td><td>22km/h</td></tr>\n",
       "</tbody>\n",
       "</table>\n"
      ],
      "text/latex": [
       "A tibble: 9 × 6\n",
       "\\begin{tabular}{llllll}\n",
       " location & date & auckland\\_weather & auckland\\_min\\_temp & auckland\\_max\\_temp & auckland\\_wind\\\\\n",
       " <chr> & <chr> & <chr> & <chr> & <chr> & <chr>\\\\\n",
       "\\hline\n",
       "\t Weather Forecast for Auckland & Sat 8 Oct  & Partly cloudy. Fairly breezy Nor'East winds.            & 13°Night & 17°Day & 26km/h\\\\\n",
       "\t Weather Forecast for Auckland & Sun 9 Oct  & Mostly cloudy. Breezy to brisk North to Nor'East winds. & 13°Night & 17°Day & 28km/h\\\\\n",
       "\t Weather Forecast for Auckland & Mon 10 Oct & Cloudy. Fairly breezy Northerly winds.                  & 13°Night & 18°Day & 20km/h\\\\\n",
       "\t Weather Forecast for Auckland & Tue 11 Oct & Showers. Breezy North to Nor'East winds.                & 13°Night & 18°Day & 19km/h\\\\\n",
       "\t Weather Forecast for Auckland & Wed 12 Oct & Light rain. Breezy Nor'East winds.                      & 12°Night & 17°Day & 17km/h\\\\\n",
       "\t Weather Forecast for Auckland & Thu 13 Oct & Showers. Fairly breezy Easterly winds.                  & 12°Night & 17°Day & 25km/h\\\\\n",
       "\t Weather Forecast for Auckland & Fri 14 Oct & Showers. Breezy to brisk Nor'East winds.                & 13°Night & 17°Day & 28km/h\\\\\n",
       "\t Weather Forecast for Auckland & Sat 15 Oct & Showers. Fairly breezy North to Nor'East winds.         & 12°Night & 17°Day & 25km/h\\\\\n",
       "\t Weather Forecast for Auckland & Sun 16 Oct & Showers. Fairly breezy West to Nor'West winds.          & 12°Night & 18°Day & 22km/h\\\\\n",
       "\\end{tabular}\n"
      ],
      "text/markdown": [
       "\n",
       "A tibble: 9 × 6\n",
       "\n",
       "| location &lt;chr&gt; | date &lt;chr&gt; | auckland_weather &lt;chr&gt; | auckland_min_temp &lt;chr&gt; | auckland_max_temp &lt;chr&gt; | auckland_wind &lt;chr&gt; |\n",
       "|---|---|---|---|---|---|\n",
       "| Weather Forecast for Auckland | Sat 8 Oct  | Partly cloudy. Fairly breezy Nor'East winds.            | 13°Night | 17°Day | 26km/h |\n",
       "| Weather Forecast for Auckland | Sun 9 Oct  | Mostly cloudy. Breezy to brisk North to Nor'East winds. | 13°Night | 17°Day | 28km/h |\n",
       "| Weather Forecast for Auckland | Mon 10 Oct | Cloudy. Fairly breezy Northerly winds.                  | 13°Night | 18°Day | 20km/h |\n",
       "| Weather Forecast for Auckland | Tue 11 Oct | Showers. Breezy North to Nor'East winds.                | 13°Night | 18°Day | 19km/h |\n",
       "| Weather Forecast for Auckland | Wed 12 Oct | Light rain. Breezy Nor'East winds.                      | 12°Night | 17°Day | 17km/h |\n",
       "| Weather Forecast for Auckland | Thu 13 Oct | Showers. Fairly breezy Easterly winds.                  | 12°Night | 17°Day | 25km/h |\n",
       "| Weather Forecast for Auckland | Fri 14 Oct | Showers. Breezy to brisk Nor'East winds.                | 13°Night | 17°Day | 28km/h |\n",
       "| Weather Forecast for Auckland | Sat 15 Oct | Showers. Fairly breezy North to Nor'East winds.         | 12°Night | 17°Day | 25km/h |\n",
       "| Weather Forecast for Auckland | Sun 16 Oct | Showers. Fairly breezy West to Nor'West winds.          | 12°Night | 18°Day | 22km/h |\n",
       "\n"
      ],
      "text/plain": [
       "  location                      date      \n",
       "1 Weather Forecast for Auckland Sat 8 Oct \n",
       "2 Weather Forecast for Auckland Sun 9 Oct \n",
       "3 Weather Forecast for Auckland Mon 10 Oct\n",
       "4 Weather Forecast for Auckland Tue 11 Oct\n",
       "5 Weather Forecast for Auckland Wed 12 Oct\n",
       "6 Weather Forecast for Auckland Thu 13 Oct\n",
       "7 Weather Forecast for Auckland Fri 14 Oct\n",
       "8 Weather Forecast for Auckland Sat 15 Oct\n",
       "9 Weather Forecast for Auckland Sun 16 Oct\n",
       "  auckland_weather                                        auckland_min_temp\n",
       "1 Partly cloudy. Fairly breezy Nor'East winds.            13°Night         \n",
       "2 Mostly cloudy. Breezy to brisk North to Nor'East winds. 13°Night         \n",
       "3 Cloudy. Fairly breezy Northerly winds.                  13°Night         \n",
       "4 Showers. Breezy North to Nor'East winds.                13°Night         \n",
       "5 Light rain. Breezy Nor'East winds.                      12°Night         \n",
       "6 Showers. Fairly breezy Easterly winds.                  12°Night         \n",
       "7 Showers. Breezy to brisk Nor'East winds.                13°Night         \n",
       "8 Showers. Fairly breezy North to Nor'East winds.         12°Night         \n",
       "9 Showers. Fairly breezy West to Nor'West winds.          12°Night         \n",
       "  auckland_max_temp auckland_wind\n",
       "1 17°Day            26km/h       \n",
       "2 17°Day            28km/h       \n",
       "3 18°Day            20km/h       \n",
       "4 18°Day            19km/h       \n",
       "5 17°Day            17km/h       \n",
       "6 17°Day            25km/h       \n",
       "7 17°Day            28km/h       \n",
       "8 17°Day            25km/h       \n",
       "9 18°Day            22km/h       "
      ]
     },
     "metadata": {},
     "output_type": "display_data"
    }
   ],
   "source": [
    "auckland_df"
   ]
  },
  {
   "cell_type": "code",
   "execution_count": null,
   "id": "7058dd68",
   "metadata": {},
   "outputs": [],
   "source": [
    "split weather pattern, wind pattern"
   ]
  },
  {
   "cell_type": "code",
   "execution_count": 130,
   "id": "84408df9",
   "metadata": {},
   "outputs": [],
   "source": [
    "auckland_df %>% \n",
    "write_csv(\"auckland_df.csv\")"
   ]
  },
  {
   "cell_type": "code",
   "execution_count": 248,
   "id": "630e5791",
   "metadata": {},
   "outputs": [
    {
     "data": {
      "text/html": [
       "<style>\n",
       ".list-inline {list-style: none; margin:0; padding: 0}\n",
       ".list-inline>li {display: inline-block}\n",
       ".list-inline>li:not(:last-child)::after {content: \"\\00b7\"; padding: 0 .5ex}\n",
       "</style>\n",
       "<ol class=list-inline><li>'Sat 8 Oct'</li><li>'Sun 9 Oct'</li><li>'Mon 10 Oct'</li><li>'Tue 11 Oct'</li><li>'Wed 12 Oct'</li><li>'Thu 13 Oct'</li><li>'Fri 14 Oct'</li><li>'Sat 15 Oct'</li><li>'Sun 16 Oct'</li></ol>\n"
      ],
      "text/latex": [
       "\\begin{enumerate*}\n",
       "\\item 'Sat 8 Oct'\n",
       "\\item 'Sun 9 Oct'\n",
       "\\item 'Mon 10 Oct'\n",
       "\\item 'Tue 11 Oct'\n",
       "\\item 'Wed 12 Oct'\n",
       "\\item 'Thu 13 Oct'\n",
       "\\item 'Fri 14 Oct'\n",
       "\\item 'Sat 15 Oct'\n",
       "\\item 'Sun 16 Oct'\n",
       "\\end{enumerate*}\n"
      ],
      "text/markdown": [
       "1. 'Sat 8 Oct'\n",
       "2. 'Sun 9 Oct'\n",
       "3. 'Mon 10 Oct'\n",
       "4. 'Tue 11 Oct'\n",
       "5. 'Wed 12 Oct'\n",
       "6. 'Thu 13 Oct'\n",
       "7. 'Fri 14 Oct'\n",
       "8. 'Sat 15 Oct'\n",
       "9. 'Sun 16 Oct'\n",
       "\n",
       "\n"
      ],
      "text/plain": [
       "[1] \"Sat 8 Oct\"  \"Sun 9 Oct\"  \"Mon 10 Oct\" \"Tue 11 Oct\" \"Wed 12 Oct\"\n",
       "[6] \"Thu 13 Oct\" \"Fri 14 Oct\" \"Sat 15 Oct\" \"Sun 16 Oct\""
      ]
     },
     "metadata": {},
     "output_type": "display_data"
    }
   ],
   "source": [
    "date "
   ]
  },
  {
   "cell_type": "code",
   "execution_count": 249,
   "id": "58c8eb59",
   "metadata": {
    "scrolled": false
   },
   "outputs": [
    {
     "data": {
      "text/html": [
       "<ol>\n",
       "\t<li><style>\n",
       ".list-inline {list-style: none; margin:0; padding: 0}\n",
       ".list-inline>li {display: inline-block}\n",
       ".list-inline>li:not(:last-child)::after {content: \"\\00b7\"; padding: 0 .5ex}\n",
       "</style>\n",
       "<ol class=list-inline><li>'Sat'</li><li>'8'</li><li>'Oct'</li></ol>\n",
       "</li>\n",
       "\t<li><style>\n",
       ".list-inline {list-style: none; margin:0; padding: 0}\n",
       ".list-inline>li {display: inline-block}\n",
       ".list-inline>li:not(:last-child)::after {content: \"\\00b7\"; padding: 0 .5ex}\n",
       "</style>\n",
       "<ol class=list-inline><li>'Sun'</li><li>'9'</li><li>'Oct'</li></ol>\n",
       "</li>\n",
       "\t<li><style>\n",
       ".list-inline {list-style: none; margin:0; padding: 0}\n",
       ".list-inline>li {display: inline-block}\n",
       ".list-inline>li:not(:last-child)::after {content: \"\\00b7\"; padding: 0 .5ex}\n",
       "</style>\n",
       "<ol class=list-inline><li>'Mon'</li><li>'10'</li><li>'Oct'</li></ol>\n",
       "</li>\n",
       "\t<li><style>\n",
       ".list-inline {list-style: none; margin:0; padding: 0}\n",
       ".list-inline>li {display: inline-block}\n",
       ".list-inline>li:not(:last-child)::after {content: \"\\00b7\"; padding: 0 .5ex}\n",
       "</style>\n",
       "<ol class=list-inline><li>'Tue'</li><li>'11'</li><li>'Oct'</li></ol>\n",
       "</li>\n",
       "\t<li><style>\n",
       ".list-inline {list-style: none; margin:0; padding: 0}\n",
       ".list-inline>li {display: inline-block}\n",
       ".list-inline>li:not(:last-child)::after {content: \"\\00b7\"; padding: 0 .5ex}\n",
       "</style>\n",
       "<ol class=list-inline><li>'Wed'</li><li>'12'</li><li>'Oct'</li></ol>\n",
       "</li>\n",
       "\t<li><style>\n",
       ".list-inline {list-style: none; margin:0; padding: 0}\n",
       ".list-inline>li {display: inline-block}\n",
       ".list-inline>li:not(:last-child)::after {content: \"\\00b7\"; padding: 0 .5ex}\n",
       "</style>\n",
       "<ol class=list-inline><li>'Thu'</li><li>'13'</li><li>'Oct'</li></ol>\n",
       "</li>\n",
       "\t<li><style>\n",
       ".list-inline {list-style: none; margin:0; padding: 0}\n",
       ".list-inline>li {display: inline-block}\n",
       ".list-inline>li:not(:last-child)::after {content: \"\\00b7\"; padding: 0 .5ex}\n",
       "</style>\n",
       "<ol class=list-inline><li>'Fri'</li><li>'14'</li><li>'Oct'</li></ol>\n",
       "</li>\n",
       "\t<li><style>\n",
       ".list-inline {list-style: none; margin:0; padding: 0}\n",
       ".list-inline>li {display: inline-block}\n",
       ".list-inline>li:not(:last-child)::after {content: \"\\00b7\"; padding: 0 .5ex}\n",
       "</style>\n",
       "<ol class=list-inline><li>'Sat'</li><li>'15'</li><li>'Oct'</li></ol>\n",
       "</li>\n",
       "\t<li><style>\n",
       ".list-inline {list-style: none; margin:0; padding: 0}\n",
       ".list-inline>li {display: inline-block}\n",
       ".list-inline>li:not(:last-child)::after {content: \"\\00b7\"; padding: 0 .5ex}\n",
       "</style>\n",
       "<ol class=list-inline><li>'Sun'</li><li>'16'</li><li>'Oct'</li></ol>\n",
       "</li>\n",
       "</ol>\n"
      ],
      "text/latex": [
       "\\begin{enumerate}\n",
       "\\item \\begin{enumerate*}\n",
       "\\item 'Sat'\n",
       "\\item '8'\n",
       "\\item 'Oct'\n",
       "\\end{enumerate*}\n",
       "\n",
       "\\item \\begin{enumerate*}\n",
       "\\item 'Sun'\n",
       "\\item '9'\n",
       "\\item 'Oct'\n",
       "\\end{enumerate*}\n",
       "\n",
       "\\item \\begin{enumerate*}\n",
       "\\item 'Mon'\n",
       "\\item '10'\n",
       "\\item 'Oct'\n",
       "\\end{enumerate*}\n",
       "\n",
       "\\item \\begin{enumerate*}\n",
       "\\item 'Tue'\n",
       "\\item '11'\n",
       "\\item 'Oct'\n",
       "\\end{enumerate*}\n",
       "\n",
       "\\item \\begin{enumerate*}\n",
       "\\item 'Wed'\n",
       "\\item '12'\n",
       "\\item 'Oct'\n",
       "\\end{enumerate*}\n",
       "\n",
       "\\item \\begin{enumerate*}\n",
       "\\item 'Thu'\n",
       "\\item '13'\n",
       "\\item 'Oct'\n",
       "\\end{enumerate*}\n",
       "\n",
       "\\item \\begin{enumerate*}\n",
       "\\item 'Fri'\n",
       "\\item '14'\n",
       "\\item 'Oct'\n",
       "\\end{enumerate*}\n",
       "\n",
       "\\item \\begin{enumerate*}\n",
       "\\item 'Sat'\n",
       "\\item '15'\n",
       "\\item 'Oct'\n",
       "\\end{enumerate*}\n",
       "\n",
       "\\item \\begin{enumerate*}\n",
       "\\item 'Sun'\n",
       "\\item '16'\n",
       "\\item 'Oct'\n",
       "\\end{enumerate*}\n",
       "\n",
       "\\end{enumerate}\n"
      ],
      "text/markdown": [
       "1. 1. 'Sat'\n",
       "2. '8'\n",
       "3. 'Oct'\n",
       "\n",
       "\n",
       "\n",
       "2. 1. 'Sun'\n",
       "2. '9'\n",
       "3. 'Oct'\n",
       "\n",
       "\n",
       "\n",
       "3. 1. 'Mon'\n",
       "2. '10'\n",
       "3. 'Oct'\n",
       "\n",
       "\n",
       "\n",
       "4. 1. 'Tue'\n",
       "2. '11'\n",
       "3. 'Oct'\n",
       "\n",
       "\n",
       "\n",
       "5. 1. 'Wed'\n",
       "2. '12'\n",
       "3. 'Oct'\n",
       "\n",
       "\n",
       "\n",
       "6. 1. 'Thu'\n",
       "2. '13'\n",
       "3. 'Oct'\n",
       "\n",
       "\n",
       "\n",
       "7. 1. 'Fri'\n",
       "2. '14'\n",
       "3. 'Oct'\n",
       "\n",
       "\n",
       "\n",
       "8. 1. 'Sat'\n",
       "2. '15'\n",
       "3. 'Oct'\n",
       "\n",
       "\n",
       "\n",
       "9. 1. 'Sun'\n",
       "2. '16'\n",
       "3. 'Oct'\n",
       "\n",
       "\n",
       "\n",
       "\n",
       "\n"
      ],
      "text/plain": [
       "[[1]]\n",
       "[1] \"Sat\" \"8\"   \"Oct\"\n",
       "\n",
       "[[2]]\n",
       "[1] \"Sun\" \"9\"   \"Oct\"\n",
       "\n",
       "[[3]]\n",
       "[1] \"Mon\" \"10\"  \"Oct\"\n",
       "\n",
       "[[4]]\n",
       "[1] \"Tue\" \"11\"  \"Oct\"\n",
       "\n",
       "[[5]]\n",
       "[1] \"Wed\" \"12\"  \"Oct\"\n",
       "\n",
       "[[6]]\n",
       "[1] \"Thu\" \"13\"  \"Oct\"\n",
       "\n",
       "[[7]]\n",
       "[1] \"Fri\" \"14\"  \"Oct\"\n",
       "\n",
       "[[8]]\n",
       "[1] \"Sat\" \"15\"  \"Oct\"\n",
       "\n",
       "[[9]]\n",
       "[1] \"Sun\" \"16\"  \"Oct\"\n"
      ]
     },
     "metadata": {},
     "output_type": "display_data"
    }
   ],
   "source": [
    "split_date = str_split(date, \" \")\n",
    "split_date"
   ]
  },
  {
   "cell_type": "code",
   "execution_count": 255,
   "id": "f0b5fe02",
   "metadata": {
    "scrolled": true
   },
   "outputs": [
    {
     "data": {
      "text/html": [
       "'list'"
      ],
      "text/latex": [
       "'list'"
      ],
      "text/markdown": [
       "'list'"
      ],
      "text/plain": [
       "[1] \"list\""
      ]
     },
     "metadata": {},
     "output_type": "display_data"
    }
   ],
   "source": [
    "split_date  %>%  typeof()"
   ]
  },
  {
   "cell_type": "code",
   "execution_count": 278,
   "id": "540c9f62",
   "metadata": {},
   "outputs": [
    {
     "ename": "ERROR",
     "evalue": "Error in UseMethod(\"mutate\"): no applicable method for 'mutate' applied to an object of class \"function\"\n",
     "output_type": "error",
     "traceback": [
      "Error in UseMethod(\"mutate\"): no applicable method for 'mutate' applied to an object of class \"function\"\nTraceback:\n",
      "1. df %>% mutate(month = str_split(date, \" \")[3])",
      "2. mutate(., month = str_split(date, \" \")[3])"
     ]
    }
   ],
   "source": [
    "df <- df %>% mutate(month = str_split(date, \" \")[3])\n",
    "\n",
    "df <- df %>% mutate(monthNum = case_when(month == 'Oct', 10))"
   ]
  },
  {
   "cell_type": "code",
   "execution_count": 250,
   "id": "7511d259",
   "metadata": {},
   "outputs": [
    {
     "data": {
      "text/html": [
       "'8'"
      ],
      "text/latex": [
       "'8'"
      ],
      "text/markdown": [
       "'8'"
      ],
      "text/plain": [
       "[1] \"8\""
      ]
     },
     "metadata": {},
     "output_type": "display_data"
    }
   ],
   "source": [
    "day = split_date[[1]][2]\n",
    "day"
   ]
  },
  {
   "cell_type": "code",
   "execution_count": 251,
   "id": "85b877ff",
   "metadata": {},
   "outputs": [
    {
     "data": {
      "text/html": [
       "10"
      ],
      "text/latex": [
       "10"
      ],
      "text/markdown": [
       "10"
      ],
      "text/plain": [
       "[1] 10"
      ]
     },
     "metadata": {},
     "output_type": "display_data"
    }
   ],
   "source": [
    "month = match(split_date[[1]][3],month.abb)\n",
    "month"
   ]
  },
  {
   "cell_type": "code",
   "execution_count": 252,
   "id": "a3708c3a",
   "metadata": {
    "scrolled": true
   },
   "outputs": [
    {
     "data": {
      "text/html": [
       "'character'"
      ],
      "text/latex": [
       "'character'"
      ],
      "text/markdown": [
       "'character'"
      ],
      "text/plain": [
       "[1] \"character\""
      ]
     },
     "metadata": {},
     "output_type": "display_data"
    }
   ],
   "source": [
    "monthtype <- as.character(month) %>% typeof()\n",
    "monthtype"
   ]
  },
  {
   "cell_type": "code",
   "execution_count": 253,
   "id": "150650de",
   "metadata": {},
   "outputs": [
    {
     "data": {
      "text/html": [
       "'2022-10-8'"
      ],
      "text/latex": [
       "'2022-10-8'"
      ],
      "text/markdown": [
       "'2022-10-8'"
      ],
      "text/plain": [
       "2022-10-8"
      ]
     },
     "metadata": {},
     "output_type": "display_data"
    }
   ],
   "source": [
    "chrdate <- glue(\"2022-{month}-{day}\", format)\n",
    "chrdate"
   ]
  },
  {
   "cell_type": "code",
   "execution_count": 254,
   "id": "a0e33282",
   "metadata": {},
   "outputs": [
    {
     "data": {
      "text/html": [
       "<time datetime=\"2022-10-08\">2022-10-08</time>"
      ],
      "text/latex": [
       "2022-10-08"
      ],
      "text/markdown": [
       "2022-10-08"
      ],
      "text/plain": [
       "[1] \"2022-10-08\""
      ]
     },
     "metadata": {},
     "output_type": "display_data"
    }
   ],
   "source": [
    "date = as.Date(chrdate)"
   ]
  },
  {
   "cell_type": "code",
   "execution_count": null,
   "id": "88603247",
   "metadata": {},
   "outputs": [],
   "source": []
  }
 ],
 "metadata": {
  "kernelspec": {
   "display_name": "R",
   "language": "R",
   "name": "ir"
  },
  "language_info": {
   "codemirror_mode": "r",
   "file_extension": ".r",
   "mimetype": "text/x-r-source",
   "name": "R",
   "pygments_lexer": "r",
   "version": "4.2.1"
  }
 },
 "nbformat": 4,
 "nbformat_minor": 5
}
