{
 "cells": [
  {
   "cell_type": "code",
   "execution_count": 1,
   "id": "e8471d38-70b8-4ce3-8fd2-63cb7a1dd927",
   "metadata": {},
   "outputs": [
    {
     "name": "stderr",
     "output_type": "stream",
     "text": [
      "── \u001b[1mAttaching packages\u001b[22m ─────────────────────────────────────── tidyverse 1.3.2 ──\n",
      "\u001b[32m✔\u001b[39m \u001b[34mggplot2\u001b[39m 3.3.6     \u001b[32m✔\u001b[39m \u001b[34mpurrr  \u001b[39m 0.3.4\n",
      "\u001b[32m✔\u001b[39m \u001b[34mtibble \u001b[39m 3.1.8     \u001b[32m✔\u001b[39m \u001b[34mdplyr  \u001b[39m 1.0.9\n",
      "\u001b[32m✔\u001b[39m \u001b[34mtidyr  \u001b[39m 1.2.0     \u001b[32m✔\u001b[39m \u001b[34mstringr\u001b[39m 1.4.1\n",
      "\u001b[32m✔\u001b[39m \u001b[34mreadr  \u001b[39m 2.1.2     \u001b[32m✔\u001b[39m \u001b[34mforcats\u001b[39m 0.5.1\n",
      "── \u001b[1mConflicts\u001b[22m ────────────────────────────────────────── tidyverse_conflicts() ──\n",
      "\u001b[31m✖\u001b[39m \u001b[34mdplyr\u001b[39m::\u001b[32mfilter()\u001b[39m masks \u001b[34mstats\u001b[39m::filter()\n",
      "\u001b[31m✖\u001b[39m \u001b[34mdplyr\u001b[39m::\u001b[32mlag()\u001b[39m    masks \u001b[34mstats\u001b[39m::lag()\n"
     ]
    }
   ],
   "source": [
    "library(tidyverse)"
   ]
  },
  {
   "cell_type": "code",
   "execution_count": 2,
   "id": "ae559c3a-7cd4-4a9b-83f4-44025b830ef2",
   "metadata": {},
   "outputs": [
    {
     "name": "stderr",
     "output_type": "stream",
     "text": [
      "\n",
      "Attaching package: ‘magrittr’\n",
      "\n",
      "\n",
      "The following object is masked from ‘package:purrr’:\n",
      "\n",
      "    set_names\n",
      "\n",
      "\n",
      "The following object is masked from ‘package:tidyr’:\n",
      "\n",
      "    extract\n",
      "\n",
      "\n"
     ]
    }
   ],
   "source": [
    "# install.packages(\"magrittr\")\n",
    "# install.packages(\"purrr\")\n",
    "# install.packages(\"glue\")\n",
    "# install.packages(\"stringr\")\n",
    "library(magrittr) # better handling of pipes\n",
    "library(purrr) # to work with lists and map functions\n",
    "library(glue) # to paste strings\n",
    "library(stringr) # to hand strings"
   ]
  },
  {
   "cell_type": "code",
   "execution_count": 3,
   "id": "ab8bb184-0b9c-45ba-ad81-0a04e652d04d",
   "metadata": {},
   "outputs": [
    {
     "name": "stderr",
     "output_type": "stream",
     "text": [
      "\n",
      "Attaching package: ‘rvest’\n",
      "\n",
      "\n",
      "The following object is masked from ‘package:readr’:\n",
      "\n",
      "    guess_encoding\n",
      "\n",
      "\n"
     ]
    }
   ],
   "source": [
    "# install.packages(\"rvest\")\n",
    "# remotes::install_github(\"dmi3kno/polite\")(\"politer\")\n",
    "# install.packages(\"xml2\")\n",
    "library(rvest) # rvest makes scraping easier\n",
    "library(polite) # polite is the \"polite\" version of rvest\n",
    "library(xml2) # makes it easier to work with HTML and XML from R"
   ]
  },
  {
   "cell_type": "code",
   "execution_count": 5,
   "id": "4a8800d3-a5cd-4f19-aeff-1c83c182ab90",
   "metadata": {},
   "outputs": [
    {
     "data": {
      "text/plain": [
       "{html_document}\n",
       "<html>\n",
       "[1] <head>\\n<meta http-equiv=\"Content-Type\" content=\"text/html; charset=UTF-8 ...\n",
       "[2] <body>\\n<div id=\"__next\">\\n<div class=\"jsx-3479055027 browser\"><div class ..."
      ]
     },
     "metadata": {},
     "output_type": "display_data"
    }
   ],
   "source": [
    "url_titles <- \"https://www.weatherwatch.co.nz/forecasts/Auckland\" # this is the base url from where the scraping starts\n",
    "\n",
    "page_title <- read_html(url_titles)\n",
    "page_title"
   ]
  },
  {
   "cell_type": "code",
   "execution_count": 6,
   "id": "0262082d-b06e-4cd9-8bf9-54e173615e13",
   "metadata": {},
   "outputs": [
    {
     "data": {
      "text/html": [
       "'list'"
      ],
      "text/latex": [
       "'list'"
      ],
      "text/markdown": [
       "'list'"
      ],
      "text/plain": [
       "[1] \"list\""
      ]
     },
     "metadata": {},
     "output_type": "display_data"
    },
    {
     "name": "stdout",
     "output_type": "stream",
     "text": [
      "List of 2\n",
      " $ node:<externalptr> \n",
      " $ doc :<externalptr> \n",
      " - attr(*, \"class\")= chr [1:2] \"xml_document\" \"xml_node\"\n"
     ]
    }
   ],
   "source": [
    "page_title %>% typeof()\n",
    "page_title %>% glimpse()"
   ]
  },
  {
   "cell_type": "code",
   "execution_count": 7,
   "id": "b9c8fdf4-b2c8-437f-84c6-ef749c09bc18",
   "metadata": {},
   "outputs": [
    {
     "data": {
      "text/html": [
       "<style>\n",
       ".list-inline {list-style: none; margin:0; padding: 0}\n",
       ".list-inline>li {display: inline-block}\n",
       ".list-inline>li:not(:last-child)::after {content: \"\\00b7\"; padding: 0 .5ex}\n",
       "</style>\n",
       "<ol class=list-inline><li>'Fri 7 Oct'</li><li>'Fri 7 Oct'</li><li>'Sat 8 Oct'</li><li>'Sat 8 Oct'</li><li>'Sun 9 Oct'</li><li>'Sun 9 Oct'</li><li>'Mon 10 Oct'</li><li>'Mon 10 Oct'</li><li>'Tue 11 Oct'</li><li>'Tue 11 Oct'</li><li>'Wed 12 Oct'</li><li>'Wed 12 Oct'</li><li>'Thu 13 Oct'</li><li>'Thu 13 Oct'</li><li>'Fri 14 Oct'</li><li>'Fri 14 Oct'</li><li>'Sat 15 Oct'</li><li>'Sat 15 Oct'</li></ol>\n"
      ],
      "text/latex": [
       "\\begin{enumerate*}\n",
       "\\item 'Fri 7 Oct'\n",
       "\\item 'Fri 7 Oct'\n",
       "\\item 'Sat 8 Oct'\n",
       "\\item 'Sat 8 Oct'\n",
       "\\item 'Sun 9 Oct'\n",
       "\\item 'Sun 9 Oct'\n",
       "\\item 'Mon 10 Oct'\n",
       "\\item 'Mon 10 Oct'\n",
       "\\item 'Tue 11 Oct'\n",
       "\\item 'Tue 11 Oct'\n",
       "\\item 'Wed 12 Oct'\n",
       "\\item 'Wed 12 Oct'\n",
       "\\item 'Thu 13 Oct'\n",
       "\\item 'Thu 13 Oct'\n",
       "\\item 'Fri 14 Oct'\n",
       "\\item 'Fri 14 Oct'\n",
       "\\item 'Sat 15 Oct'\n",
       "\\item 'Sat 15 Oct'\n",
       "\\end{enumerate*}\n"
      ],
      "text/markdown": [
       "1. 'Fri 7 Oct'\n",
       "2. 'Fri 7 Oct'\n",
       "3. 'Sat 8 Oct'\n",
       "4. 'Sat 8 Oct'\n",
       "5. 'Sun 9 Oct'\n",
       "6. 'Sun 9 Oct'\n",
       "7. 'Mon 10 Oct'\n",
       "8. 'Mon 10 Oct'\n",
       "9. 'Tue 11 Oct'\n",
       "10. 'Tue 11 Oct'\n",
       "11. 'Wed 12 Oct'\n",
       "12. 'Wed 12 Oct'\n",
       "13. 'Thu 13 Oct'\n",
       "14. 'Thu 13 Oct'\n",
       "15. 'Fri 14 Oct'\n",
       "16. 'Fri 14 Oct'\n",
       "17. 'Sat 15 Oct'\n",
       "18. 'Sat 15 Oct'\n",
       "\n",
       "\n"
      ],
      "text/plain": [
       " [1] \"Fri 7 Oct\"  \"Fri 7 Oct\"  \"Sat 8 Oct\"  \"Sat 8 Oct\"  \"Sun 9 Oct\" \n",
       " [6] \"Sun 9 Oct\"  \"Mon 10 Oct\" \"Mon 10 Oct\" \"Tue 11 Oct\" \"Tue 11 Oct\"\n",
       "[11] \"Wed 12 Oct\" \"Wed 12 Oct\" \"Thu 13 Oct\" \"Thu 13 Oct\" \"Fri 14 Oct\"\n",
       "[16] \"Fri 14 Oct\" \"Sat 15 Oct\" \"Sat 15 Oct\""
      ]
     },
     "metadata": {},
     "output_type": "display_data"
    }
   ],
   "source": [
    "date <- page_title %>% html_nodes(\".date\") %>% html_text()\n",
    "date"
   ]
  },
  {
   "cell_type": "code",
   "execution_count": 11,
   "id": "2a1ed3c9-25db-430b-ab8b-ed3005a21ded",
   "metadata": {},
   "outputs": [
    {
     "data": {
      "text/html": [
       "<style>\n",
       ".list-inline {list-style: none; margin:0; padding: 0}\n",
       ".list-inline>li {display: inline-block}\n",
       ".list-inline>li:not(:last-child)::after {content: \"\\00b7\"; padding: 0 .5ex}\n",
       "</style>\n",
       "<ol class=list-inline><li>'17°Day'</li><li>'17°Day'</li><li>'17°Day'</li><li>'18°Day'</li><li>'18°Day'</li><li>'18°Day'</li><li>'17°Day'</li><li>'17°Day'</li><li>'17°Day'</li></ol>\n"
      ],
      "text/latex": [
       "\\begin{enumerate*}\n",
       "\\item '17°Day'\n",
       "\\item '17°Day'\n",
       "\\item '17°Day'\n",
       "\\item '18°Day'\n",
       "\\item '18°Day'\n",
       "\\item '18°Day'\n",
       "\\item '17°Day'\n",
       "\\item '17°Day'\n",
       "\\item '17°Day'\n",
       "\\end{enumerate*}\n"
      ],
      "text/markdown": [
       "1. '17°Day'\n",
       "2. '17°Day'\n",
       "3. '17°Day'\n",
       "4. '18°Day'\n",
       "5. '18°Day'\n",
       "6. '18°Day'\n",
       "7. '17°Day'\n",
       "8. '17°Day'\n",
       "9. '17°Day'\n",
       "\n",
       "\n"
      ],
      "text/plain": [
       "[1] \"17°Day\" \"17°Day\" \"17°Day\" \"18°Day\" \"18°Day\" \"18°Day\" \"17°Day\" \"17°Day\"\n",
       "[9] \"17°Day\""
      ]
     },
     "metadata": {},
     "output_type": "display_data"
    }
   ],
   "source": [
    "max_temp <- page_title %>% html_nodes(\".high\") %>% html_text()\n",
    "max_temp"
   ]
  },
  {
   "cell_type": "code",
   "execution_count": 12,
   "id": "a4cbd1e8-7333-4ebf-bdc4-28f45ba66253",
   "metadata": {},
   "outputs": [
    {
     "data": {
      "text/html": [
       "<style>\n",
       ".list-inline {list-style: none; margin:0; padding: 0}\n",
       ".list-inline>li {display: inline-block}\n",
       ".list-inline>li:not(:last-child)::after {content: \"\\00b7\"; padding: 0 .5ex}\n",
       "</style>\n",
       "<ol class=list-inline><li>'11°Night'</li><li>'13°Night'</li><li>'13°Night'</li><li>'13°Night'</li><li>'12°Night'</li><li>'12°Night'</li><li>'13°Night'</li><li>'13°Night'</li><li>'13°Night'</li></ol>\n"
      ],
      "text/latex": [
       "\\begin{enumerate*}\n",
       "\\item '11°Night'\n",
       "\\item '13°Night'\n",
       "\\item '13°Night'\n",
       "\\item '13°Night'\n",
       "\\item '12°Night'\n",
       "\\item '12°Night'\n",
       "\\item '13°Night'\n",
       "\\item '13°Night'\n",
       "\\item '13°Night'\n",
       "\\end{enumerate*}\n"
      ],
      "text/markdown": [
       "1. '11°Night'\n",
       "2. '13°Night'\n",
       "3. '13°Night'\n",
       "4. '13°Night'\n",
       "5. '12°Night'\n",
       "6. '12°Night'\n",
       "7. '13°Night'\n",
       "8. '13°Night'\n",
       "9. '13°Night'\n",
       "\n",
       "\n"
      ],
      "text/plain": [
       "[1] \"11°Night\" \"13°Night\" \"13°Night\" \"13°Night\" \"12°Night\" \"12°Night\" \"13°Night\"\n",
       "[8] \"13°Night\" \"13°Night\""
      ]
     },
     "metadata": {},
     "output_type": "display_data"
    }
   ],
   "source": [
    "min_temp <- page_title %>% html_nodes(\".low\") %>% html_text()\n",
    "min_temp"
   ]
  },
  {
   "cell_type": "code",
   "execution_count": 13,
   "id": "a86526e8-ee29-42ab-b859-564142dc7903",
   "metadata": {},
   "outputs": [
    {
     "data": {
      "text/html": [
       "<style>\n",
       ".list-inline {list-style: none; margin:0; padding: 0}\n",
       ".list-inline>li {display: inline-block}\n",
       ".list-inline>li:not(:last-child)::after {content: \"\\00b7\"; padding: 0 .5ex}\n",
       "</style>\n",
       "<ol class=list-inline><li>'Partly cloudy. Fairly breezy Nor\\'East winds.'</li><li>'Partly cloudy. Fairly breezy Nor\\'East winds.'</li><li>'Partly cloudy. Fairly breezy Nor\\'East winds.'</li><li>'Partly cloudy. Fairly breezy Nor\\'East winds.'</li><li>'Partly cloudy. Fairly breezy North to Nor\\'East winds.'</li><li>'Partly cloudy. Fairly breezy North to Nor\\'East winds.'</li><li>'Cloudy. Breezy Northerly winds.'</li><li>'Cloudy. Breezy Northerly winds.'</li><li>'Afternoon showers. Breezy North to Nor\\'West winds.'</li><li>'Afternoon showers. Breezy North to Nor\\'West winds.'</li><li>'Light rain. Breezy Easterly winds.'</li><li>'Light rain. Breezy Easterly winds.'</li><li>'Rain. Fairly breezy East to Nor\\'East winds.'</li><li>'Rain. Fairly breezy East to Nor\\'East winds.'</li><li>'Showers. Fairly breezy Nor\\'East winds.'</li><li>'Showers. Fairly breezy Nor\\'East winds.'</li><li>'Rain. Fairly breezy Northerly winds.'</li><li>'Rain. Fairly breezy Northerly winds.'</li></ol>\n"
      ],
      "text/latex": [
       "\\begin{enumerate*}\n",
       "\\item 'Partly cloudy. Fairly breezy Nor\\textbackslash{}'East winds.'\n",
       "\\item 'Partly cloudy. Fairly breezy Nor\\textbackslash{}'East winds.'\n",
       "\\item 'Partly cloudy. Fairly breezy Nor\\textbackslash{}'East winds.'\n",
       "\\item 'Partly cloudy. Fairly breezy Nor\\textbackslash{}'East winds.'\n",
       "\\item 'Partly cloudy. Fairly breezy North to Nor\\textbackslash{}'East winds.'\n",
       "\\item 'Partly cloudy. Fairly breezy North to Nor\\textbackslash{}'East winds.'\n",
       "\\item 'Cloudy. Breezy Northerly winds.'\n",
       "\\item 'Cloudy. Breezy Northerly winds.'\n",
       "\\item 'Afternoon showers. Breezy North to Nor\\textbackslash{}'West winds.'\n",
       "\\item 'Afternoon showers. Breezy North to Nor\\textbackslash{}'West winds.'\n",
       "\\item 'Light rain. Breezy Easterly winds.'\n",
       "\\item 'Light rain. Breezy Easterly winds.'\n",
       "\\item 'Rain. Fairly breezy East to Nor\\textbackslash{}'East winds.'\n",
       "\\item 'Rain. Fairly breezy East to Nor\\textbackslash{}'East winds.'\n",
       "\\item 'Showers. Fairly breezy Nor\\textbackslash{}'East winds.'\n",
       "\\item 'Showers. Fairly breezy Nor\\textbackslash{}'East winds.'\n",
       "\\item 'Rain. Fairly breezy Northerly winds.'\n",
       "\\item 'Rain. Fairly breezy Northerly winds.'\n",
       "\\end{enumerate*}\n"
      ],
      "text/markdown": [
       "1. 'Partly cloudy. Fairly breezy Nor\\'East winds.'\n",
       "2. 'Partly cloudy. Fairly breezy Nor\\'East winds.'\n",
       "3. 'Partly cloudy. Fairly breezy Nor\\'East winds.'\n",
       "4. 'Partly cloudy. Fairly breezy Nor\\'East winds.'\n",
       "5. 'Partly cloudy. Fairly breezy North to Nor\\'East winds.'\n",
       "6. 'Partly cloudy. Fairly breezy North to Nor\\'East winds.'\n",
       "7. 'Cloudy. Breezy Northerly winds.'\n",
       "8. 'Cloudy. Breezy Northerly winds.'\n",
       "9. 'Afternoon showers. Breezy North to Nor\\'West winds.'\n",
       "10. 'Afternoon showers. Breezy North to Nor\\'West winds.'\n",
       "11. 'Light rain. Breezy Easterly winds.'\n",
       "12. 'Light rain. Breezy Easterly winds.'\n",
       "13. 'Rain. Fairly breezy East to Nor\\'East winds.'\n",
       "14. 'Rain. Fairly breezy East to Nor\\'East winds.'\n",
       "15. 'Showers. Fairly breezy Nor\\'East winds.'\n",
       "16. 'Showers. Fairly breezy Nor\\'East winds.'\n",
       "17. 'Rain. Fairly breezy Northerly winds.'\n",
       "18. 'Rain. Fairly breezy Northerly winds.'\n",
       "\n",
       "\n"
      ],
      "text/plain": [
       " [1] \"Partly cloudy. Fairly breezy Nor'East winds.\"         \n",
       " [2] \"Partly cloudy. Fairly breezy Nor'East winds.\"         \n",
       " [3] \"Partly cloudy. Fairly breezy Nor'East winds.\"         \n",
       " [4] \"Partly cloudy. Fairly breezy Nor'East winds.\"         \n",
       " [5] \"Partly cloudy. Fairly breezy North to Nor'East winds.\"\n",
       " [6] \"Partly cloudy. Fairly breezy North to Nor'East winds.\"\n",
       " [7] \"Cloudy. Breezy Northerly winds.\"                      \n",
       " [8] \"Cloudy. Breezy Northerly winds.\"                      \n",
       " [9] \"Afternoon showers. Breezy North to Nor'West winds.\"   \n",
       "[10] \"Afternoon showers. Breezy North to Nor'West winds.\"   \n",
       "[11] \"Light rain. Breezy Easterly winds.\"                   \n",
       "[12] \"Light rain. Breezy Easterly winds.\"                   \n",
       "[13] \"Rain. Fairly breezy East to Nor'East winds.\"          \n",
       "[14] \"Rain. Fairly breezy East to Nor'East winds.\"          \n",
       "[15] \"Showers. Fairly breezy Nor'East winds.\"               \n",
       "[16] \"Showers. Fairly breezy Nor'East winds.\"               \n",
       "[17] \"Rain. Fairly breezy Northerly winds.\"                 \n",
       "[18] \"Rain. Fairly breezy Northerly winds.\"                 "
      ]
     },
     "metadata": {},
     "output_type": "display_data"
    }
   ],
   "source": [
    "weather <- page_title %>% html_nodes(\".larger\") %>% html_text()\n",
    "weather"
   ]
  },
  {
   "cell_type": "code",
   "execution_count": 14,
   "id": "cf464b5e-4263-42d7-9595-fad32174ea3d",
   "metadata": {},
   "outputs": [
    {
     "data": {
      "text/html": [
       "<style>\n",
       ".list-inline {list-style: none; margin:0; padding: 0}\n",
       ".list-inline>li {display: inline-block}\n",
       ".list-inline>li:not(:last-child)::after {content: \"\\00b7\"; padding: 0 .5ex}\n",
       "</style>\n",
       "<ol class=list-inline><li>'20km/h'</li><li>'26km/h'</li><li>'25km/h'</li><li>'19km/h'</li><li>'15km/h'</li><li>'17km/h'</li><li>'22km/h'</li><li>'26km/h'</li><li>'27km/h'</li></ol>\n"
      ],
      "text/latex": [
       "\\begin{enumerate*}\n",
       "\\item '20km/h'\n",
       "\\item '26km/h'\n",
       "\\item '25km/h'\n",
       "\\item '19km/h'\n",
       "\\item '15km/h'\n",
       "\\item '17km/h'\n",
       "\\item '22km/h'\n",
       "\\item '26km/h'\n",
       "\\item '27km/h'\n",
       "\\end{enumerate*}\n"
      ],
      "text/markdown": [
       "1. '20km/h'\n",
       "2. '26km/h'\n",
       "3. '25km/h'\n",
       "4. '19km/h'\n",
       "5. '15km/h'\n",
       "6. '17km/h'\n",
       "7. '22km/h'\n",
       "8. '26km/h'\n",
       "9. '27km/h'\n",
       "\n",
       "\n"
      ],
      "text/plain": [
       "[1] \"20km/h\" \"26km/h\" \"25km/h\" \"19km/h\" \"15km/h\" \"17km/h\" \"22km/h\" \"26km/h\"\n",
       "[9] \"27km/h\""
      ]
     },
     "metadata": {},
     "output_type": "display_data"
    }
   ],
   "source": [
    "wind <- page_title %>% html_nodes(\".wind .small\") %>% html_text()\n",
    "wind"
   ]
  },
  {
   "cell_type": "code",
   "execution_count": 15,
   "id": "2d7fc95b-5130-4678-8377-4185a1242b7f",
   "metadata": {},
   "outputs": [
    {
     "data": {
      "text/html": [
       "'Weather Forecast for Auckland'"
      ],
      "text/latex": [
       "'Weather Forecast for Auckland'"
      ],
      "text/markdown": [
       "'Weather Forecast for Auckland'"
      ],
      "text/plain": [
       "[1] \"Weather Forecast for Auckland\""
      ]
     },
     "metadata": {},
     "output_type": "display_data"
    }
   ],
   "source": [
    "location <- page_title %>% html_nodes(\"h2\") %>% html_text()\n",
    "location"
   ]
  },
  {
   "cell_type": "code",
   "execution_count": null,
   "id": "4e5713ac-644b-4842-958f-1103403f2c06",
   "metadata": {},
   "outputs": [],
   "source": []
  }
 ],
 "metadata": {
  "kernelspec": {
   "display_name": "R",
   "language": "R",
   "name": "ir"
  },
  "language_info": {
   "codemirror_mode": "r",
   "file_extension": ".r",
   "mimetype": "text/x-r-source",
   "name": "R",
   "pygments_lexer": "r",
   "version": "4.2.1"
  }
 },
 "nbformat": 4,
 "nbformat_minor": 5
}
