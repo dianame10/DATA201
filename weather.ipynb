{
 "cells": [
  {
   "cell_type": "code",
   "execution_count": 2,
   "id": "d68ac39f-f1a2-4d02-b146-7680b5e4f489",
   "metadata": {},
   "outputs": [
    {
     "name": "stderr",
     "output_type": "stream",
     "text": [
      "── \u001b[1mAttaching packages\u001b[22m ─────────────────────────────────────── tidyverse 1.3.2 ──\n",
      "\u001b[32m✔\u001b[39m \u001b[34mggplot2\u001b[39m 3.3.6     \u001b[32m✔\u001b[39m \u001b[34mpurrr  \u001b[39m 0.3.4\n",
      "\u001b[32m✔\u001b[39m \u001b[34mtibble \u001b[39m 3.1.8     \u001b[32m✔\u001b[39m \u001b[34mdplyr  \u001b[39m 1.0.9\n",
      "\u001b[32m✔\u001b[39m \u001b[34mtidyr  \u001b[39m 1.2.0     \u001b[32m✔\u001b[39m \u001b[34mstringr\u001b[39m 1.4.1\n",
      "\u001b[32m✔\u001b[39m \u001b[34mreadr  \u001b[39m 2.1.2     \u001b[32m✔\u001b[39m \u001b[34mforcats\u001b[39m 0.5.1\n",
      "── \u001b[1mConflicts\u001b[22m ────────────────────────────────────────── tidyverse_conflicts() ──\n",
      "\u001b[31m✖\u001b[39m \u001b[34mdplyr\u001b[39m::\u001b[32mfilter()\u001b[39m masks \u001b[34mstats\u001b[39m::filter()\n",
      "\u001b[31m✖\u001b[39m \u001b[34mdplyr\u001b[39m::\u001b[32mlag()\u001b[39m    masks \u001b[34mstats\u001b[39m::lag()\n"
     ]
    }
   ],
   "source": [
    "library(tidyverse)\n",
    "library(dplyr)"
   ]
  },
  {
   "cell_type": "code",
   "execution_count": 3,
   "id": "64f288c8-b069-455b-ba3d-5e9360af806f",
   "metadata": {},
   "outputs": [
    {
     "name": "stdout",
     "output_type": "stream",
     "text": [
      "\n",
      "The downloaded binary packages are in\n",
      "\t/var/folders/2m/ws9986mn5899l1y7kxcl1wxh0000gn/T//RtmpPRibUO/downloaded_packages\n",
      "\n",
      "The downloaded binary packages are in\n",
      "\t/var/folders/2m/ws9986mn5899l1y7kxcl1wxh0000gn/T//RtmpPRibUO/downloaded_packages\n",
      "\n",
      "The downloaded binary packages are in\n",
      "\t/var/folders/2m/ws9986mn5899l1y7kxcl1wxh0000gn/T//RtmpPRibUO/downloaded_packages\n",
      "\n",
      "The downloaded binary packages are in\n",
      "\t/var/folders/2m/ws9986mn5899l1y7kxcl1wxh0000gn/T//RtmpPRibUO/downloaded_packages\n"
     ]
    },
    {
     "name": "stderr",
     "output_type": "stream",
     "text": [
      "\n",
      "Attaching package: ‘magrittr’\n",
      "\n",
      "\n",
      "The following object is masked from ‘package:purrr’:\n",
      "\n",
      "    set_names\n",
      "\n",
      "\n",
      "The following object is masked from ‘package:tidyr’:\n",
      "\n",
      "    extract\n",
      "\n",
      "\n"
     ]
    }
   ],
   "source": [
    "install.packages(\"magrittr\")\n",
    "install.packages(\"purrr\")\n",
    "install.packages(\"glue\")\n",
    "install.packages(\"stringr\")\n",
    "library(magrittr) # better handling of pipes\n",
    "library(purrr) # to work with lists and map functions\n",
    "library(glue) # to paste strings\n",
    "library(stringr) # to hand strings"
   ]
  },
  {
   "cell_type": "code",
   "execution_count": 4,
   "id": "759e2302-15ed-4d03-a3d0-124aa6ba6f2f",
   "metadata": {},
   "outputs": [
    {
     "name": "stdout",
     "output_type": "stream",
     "text": [
      "\n",
      "The downloaded binary packages are in\n",
      "\t/var/folders/2m/ws9986mn5899l1y7kxcl1wxh0000gn/T//RtmpPRibUO/downloaded_packages\n"
     ]
    },
    {
     "name": "stderr",
     "output_type": "stream",
     "text": [
      "Skipping install of 'polite' from a github remote, the SHA1 (70b27996) has not changed since last install.\n",
      "  Use `force = TRUE` to force installation\n",
      "\n"
     ]
    },
    {
     "ename": "ERROR",
     "evalue": "Error in eval(expr, envir, enclos): attempt to apply non-function\n",
     "output_type": "error",
     "traceback": [
      "Error in eval(expr, envir, enclos): attempt to apply non-function\nTraceback:\n"
     ]
    }
   ],
   "source": [
    "install.packages(\"rvest\")\n",
    "remotes::install_github(\"dmi3kno/polite\")(\"politer\")\n",
    "install.packages(\"xml2\")\n",
    "library(rvest) # rvest makes scraping easier\n",
    "library(polite) # polite is the \"polite\" version of rvest\n",
    "library(xml2) # makes it easier to work with HTML and XML from R"
   ]
  },
  {
   "cell_type": "code",
   "execution_count": 1,
   "id": "148295e2-8fb2-4f63-9b53-3a51f506b5d1",
   "metadata": {},
   "outputs": [
    {
     "ename": "ERROR",
     "evalue": "Error in read_html(url_titles): could not find function \"read_html\"\n",
     "output_type": "error",
     "traceback": [
      "Error in read_html(url_titles): could not find function \"read_html\"\nTraceback:\n"
     ]
    }
   ],
   "source": [
    "url_titles <- \"https://www.timeanddate.com/weather/new-zealand/wellington/historic\" # this is the base url from where the scraping starts\n",
    "page_title <- read_html(url_titles)"
   ]
  },
  {
   "cell_type": "code",
   "execution_count": 13,
   "id": "f9dc6d48-e002-4839-a36b-1bb27945b794",
   "metadata": {},
   "outputs": [
    {
     "data": {
      "text/html": [
       "'list'"
      ],
      "text/latex": [
       "'list'"
      ],
      "text/markdown": [
       "'list'"
      ],
      "text/plain": [
       "[1] \"list\""
      ]
     },
     "metadata": {},
     "output_type": "display_data"
    },
    {
     "name": "stdout",
     "output_type": "stream",
     "text": [
      "List of 2\n",
      " $ node:<externalptr> \n",
      " $ doc :<externalptr> \n",
      " - attr(*, \"class\")= chr [1:2] \"xml_document\" \"xml_node\"\n"
     ]
    }
   ],
   "source": [
    "page_title %>% typeof()\n",
    "page_title %>% glimpse()"
   ]
  },
  {
   "cell_type": "code",
   "execution_count": 14,
   "id": "74c48c25-3787-48d2-85d4-c8cf1dfa8392",
   "metadata": {},
   "outputs": [
    {
     "data": {
      "text/plain": [
       "{html_document}\n",
       "<html lang=\"en\">\n",
       "[1] <head>\\n<meta http-equiv=\"Content-Type\" content=\"text/html; charset=utf-8 ...\n",
       "[2] <body class=\"tpl-banner  weather\">\\n<div id=\"header__wrapper\" class=\"head ..."
      ]
     },
     "metadata": {},
     "output_type": "display_data"
    }
   ],
   "source": [
    "page_title"
   ]
  },
  {
   "cell_type": "code",
   "execution_count": 15,
   "id": "a74f925f-f70b-4703-a2e3-4c19c7bfb25c",
   "metadata": {},
   "outputs": [
    {
     "data": {
      "text/plain": [
       "{xml_nodeset (0)}"
      ]
     },
     "metadata": {},
     "output_type": "display_data"
    }
   ],
   "source": [
    "page_title %>%\n",
    "  html_nodes(\".title\")"
   ]
  },
  {
   "cell_type": "code",
   "execution_count": 20,
   "id": "21b9a306-7ab7-488e-a6ff-86d88404fc1b",
   "metadata": {},
   "outputs": [
    {
     "data": {
      "text/html": [
       "'Wellington Weather History for the Previous 24 Hours'"
      ],
      "text/latex": [
       "'Wellington Weather History for the Previous 24 Hours'"
      ],
      "text/markdown": [
       "'Wellington Weather History for the Previous 24 Hours'"
      ],
      "text/plain": [
       "[1] \"Wellington Weather History for the Previous 24 Hours\""
      ]
     },
     "metadata": {},
     "output_type": "display_data"
    }
   ],
   "source": [
    "title <- page_title %>% html_nodes(\"#wt-his-title\") %>% html_text()\n",
    "title"
   ]
  },
  {
   "cell_type": "code",
   "execution_count": 25,
   "id": "cb8720a3-5aab-4573-a93e-25833e6c8226",
   "metadata": {},
   "outputs": [
    {
     "data": {
      "text/html": [
       "<style>\n",
       ".list-inline {list-style: none; margin:0; padding: 0}\n",
       ".list-inline>li {display: inline-block}\n",
       ".list-inline>li:not(:last-child)::after {content: \"\\00b7\"; padding: 0 .5ex}\n",
       "</style>\n",
       "<ol class=list-inline><li>' '</li><li>' '</li><li>'Weather'</li><li>'Wind'</li><li>' '</li><li>'Humidity'</li><li>'Barometer'</li><li>'Visibility'</li></ol>\n"
      ],
      "text/latex": [
       "\\begin{enumerate*}\n",
       "\\item ' '\n",
       "\\item ' '\n",
       "\\item 'Weather'\n",
       "\\item 'Wind'\n",
       "\\item ' '\n",
       "\\item 'Humidity'\n",
       "\\item 'Barometer'\n",
       "\\item 'Visibility'\n",
       "\\end{enumerate*}\n"
      ],
      "text/markdown": [
       "1. ' '\n",
       "2. ' '\n",
       "3. 'Weather'\n",
       "4. 'Wind'\n",
       "5. ' '\n",
       "6. 'Humidity'\n",
       "7. 'Barometer'\n",
       "8. 'Visibility'\n",
       "\n",
       "\n"
      ],
      "text/plain": [
       "[1] \" \"          \" \"          \"Weather\"    \"Wind\"       \" \"         \n",
       "[6] \"Humidity\"   \"Barometer\"  \"Visibility\""
      ]
     },
     "metadata": {},
     "output_type": "display_data"
    }
   ],
   "source": [
    "table_title <- page_title %>% html_nodes(\".sep~ th+ th\") %>% html_text()\n",
    "table_title"
   ]
  },
  {
   "cell_type": "code",
   "execution_count": 32,
   "id": "e59d350b-de83-40d3-abc3-d9cf7b9ed198",
   "metadata": {},
   "outputs": [
    {
     "data": {
      "text/html": [
       "<style>\n",
       ".list-inline {list-style: none; margin:0; padding: 0}\n",
       ".list-inline>li {display: inline-block}\n",
       ".list-inline>li:not(:last-child)::after {content: \"\\00b7\"; padding: 0 .5ex}\n",
       "</style>\n",
       "<ol class=list-inline><li>' '</li><li>'Temperature'</li><li>'Humidity'</li><li>'Pressure'</li><li>'High'</li><li>'Average'</li><li>' '</li><li>'Conditions'</li><li>'Comfort'</li><li>' '</li><li>' '</li><li>'5:30 p.m.Thu, 6 Oct'</li><li>'Thu, 6 Oct'</li><li>'4:30 p.m.'</li><li>'4:00 p.m.'</li><li>'3:30 p.m.'</li><li>'3:00 p.m.'</li><li>'2:30 p.m.'</li><li>'2:00 p.m.'</li><li>'12:30 p.m.'</li><li>'12:00 p.m.'</li><li>'11:00 a.m.'</li><li>'10:30 a.m.'</li><li>'9:00 a.m.'</li><li>'7:30 a.m.'</li><li>'7:00 a.m.'</li><li>'6:30 a.m.'</li><li>'6:00 a.m.'</li><li>'5:30 a.m.'</li><li>'5:00 a.m.'</li><li>'4:30 a.m.'</li><li>'4:00 a.m.'</li><li>'3:30 a.m.'</li><li>'3:00 a.m.'</li><li>'2:30 a.m.'</li><li>'2:00 a.m.'</li><li>'1:30 a.m.'</li><li>'12:30 a.m.'</li><li>'12:00 a.m.'</li><li>'10:30 p.m.Wed, 5 Oct'</li><li>'Wed, 5 Oct'</li><li>'10:00 p.m.'</li><li>'9:30 p.m.'</li><li>'8:30 p.m.'</li><li>'8:00 p.m.'</li><li>'7:30 p.m.'</li></ol>\n"
      ],
      "text/latex": [
       "\\begin{enumerate*}\n",
       "\\item ' '\n",
       "\\item 'Temperature'\n",
       "\\item 'Humidity'\n",
       "\\item 'Pressure'\n",
       "\\item 'High'\n",
       "\\item 'Average'\n",
       "\\item ' '\n",
       "\\item 'Conditions'\n",
       "\\item 'Comfort'\n",
       "\\item ' '\n",
       "\\item ' '\n",
       "\\item '5:30 p.m.Thu, 6 Oct'\n",
       "\\item 'Thu, 6 Oct'\n",
       "\\item '4:30 p.m.'\n",
       "\\item '4:00 p.m.'\n",
       "\\item '3:30 p.m.'\n",
       "\\item '3:00 p.m.'\n",
       "\\item '2:30 p.m.'\n",
       "\\item '2:00 p.m.'\n",
       "\\item '12:30 p.m.'\n",
       "\\item '12:00 p.m.'\n",
       "\\item '11:00 a.m.'\n",
       "\\item '10:30 a.m.'\n",
       "\\item '9:00 a.m.'\n",
       "\\item '7:30 a.m.'\n",
       "\\item '7:00 a.m.'\n",
       "\\item '6:30 a.m.'\n",
       "\\item '6:00 a.m.'\n",
       "\\item '5:30 a.m.'\n",
       "\\item '5:00 a.m.'\n",
       "\\item '4:30 a.m.'\n",
       "\\item '4:00 a.m.'\n",
       "\\item '3:30 a.m.'\n",
       "\\item '3:00 a.m.'\n",
       "\\item '2:30 a.m.'\n",
       "\\item '2:00 a.m.'\n",
       "\\item '1:30 a.m.'\n",
       "\\item '12:30 a.m.'\n",
       "\\item '12:00 a.m.'\n",
       "\\item '10:30 p.m.Wed, 5 Oct'\n",
       "\\item 'Wed, 5 Oct'\n",
       "\\item '10:00 p.m.'\n",
       "\\item '9:30 p.m.'\n",
       "\\item '8:30 p.m.'\n",
       "\\item '8:00 p.m.'\n",
       "\\item '7:30 p.m.'\n",
       "\\end{enumerate*}\n"
      ],
      "text/markdown": [
       "1. ' '\n",
       "2. 'Temperature'\n",
       "3. 'Humidity'\n",
       "4. 'Pressure'\n",
       "5. 'High'\n",
       "6. 'Average'\n",
       "7. ' '\n",
       "8. 'Conditions'\n",
       "9. 'Comfort'\n",
       "10. ' '\n",
       "11. ' '\n",
       "12. '5:30 p.m.Thu, 6 Oct'\n",
       "13. 'Thu, 6 Oct'\n",
       "14. '4:30 p.m.'\n",
       "15. '4:00 p.m.'\n",
       "16. '3:30 p.m.'\n",
       "17. '3:00 p.m.'\n",
       "18. '2:30 p.m.'\n",
       "19. '2:00 p.m.'\n",
       "20. '12:30 p.m.'\n",
       "21. '12:00 p.m.'\n",
       "22. '11:00 a.m.'\n",
       "23. '10:30 a.m.'\n",
       "24. '9:00 a.m.'\n",
       "25. '7:30 a.m.'\n",
       "26. '7:00 a.m.'\n",
       "27. '6:30 a.m.'\n",
       "28. '6:00 a.m.'\n",
       "29. '5:30 a.m.'\n",
       "30. '5:00 a.m.'\n",
       "31. '4:30 a.m.'\n",
       "32. '4:00 a.m.'\n",
       "33. '3:30 a.m.'\n",
       "34. '3:00 a.m.'\n",
       "35. '2:30 a.m.'\n",
       "36. '2:00 a.m.'\n",
       "37. '1:30 a.m.'\n",
       "38. '12:30 a.m.'\n",
       "39. '12:00 a.m.'\n",
       "40. '10:30 p.m.Wed, 5 Oct'\n",
       "41. 'Wed, 5 Oct'\n",
       "42. '10:00 p.m.'\n",
       "43. '9:30 p.m.'\n",
       "44. '8:30 p.m.'\n",
       "45. '8:00 p.m.'\n",
       "46. '7:30 p.m.'\n",
       "\n",
       "\n"
      ],
      "text/plain": [
       " [1] \" \"                    \"Temperature\"          \"Humidity\"            \n",
       " [4] \"Pressure\"             \"High\"                 \"Average\"             \n",
       " [7] \" \"                    \"Conditions\"           \"Comfort\"             \n",
       "[10] \" \"                    \" \"                    \"5:30 p.m.Thu, 6 Oct\" \n",
       "[13] \"Thu, 6 Oct\"           \"4:30 p.m.\"            \"4:00 p.m.\"           \n",
       "[16] \"3:30 p.m.\"            \"3:00 p.m.\"            \"2:30 p.m.\"           \n",
       "[19] \"2:00 p.m.\"            \"12:30 p.m.\"           \"12:00 p.m.\"          \n",
       "[22] \"11:00 a.m.\"           \"10:30 a.m.\"           \"9:00 a.m.\"           \n",
       "[25] \"7:30 a.m.\"            \"7:00 a.m.\"            \"6:30 a.m.\"           \n",
       "[28] \"6:00 a.m.\"            \"5:30 a.m.\"            \"5:00 a.m.\"           \n",
       "[31] \"4:30 a.m.\"            \"4:00 a.m.\"            \"3:30 a.m.\"           \n",
       "[34] \"3:00 a.m.\"            \"2:30 a.m.\"            \"2:00 a.m.\"           \n",
       "[37] \"1:30 a.m.\"            \"12:30 a.m.\"           \"12:00 a.m.\"          \n",
       "[40] \"10:30 p.m.Wed, 5 Oct\" \"Wed, 5 Oct\"           \"10:00 p.m.\"          \n",
       "[43] \"9:30 p.m.\"            \"8:30 p.m.\"            \"8:00 p.m.\"           \n",
       "[46] \"7:30 p.m.\"           "
      ]
     },
     "metadata": {},
     "output_type": "display_data"
    }
   ],
   "source": [
    "time <- page_title %>% html_nodes(\"tr~ tr+ tr th , tr:nth-child(1) th , .soft\") %>% html_text()\n",
    "time"
   ]
  },
  {
   "cell_type": "code",
   "execution_count": 33,
   "id": "6d8549d8-5dc8-4212-a95c-c05c79462838",
   "metadata": {},
   "outputs": [
    {
     "data": {
      "text/html": [
       "<style>\n",
       ".list-inline {list-style: none; margin:0; padding: 0}\n",
       ".list-inline>li {display: inline-block}\n",
       ".list-inline>li:not(:last-child)::after {content: \"\\00b7\"; padding: 0 .5ex}\n",
       "</style>\n",
       "<ol class=list-inline><li>'(27 Sep, 12:30 p.m.)'</li><li>'(21 Sep, 8:30 p.m.)'</li><li>'(21 Sep, 8:30 p.m.)'</li><li>'(26 Sep, 6:30 a.m.)'</li><li>'(27 Sep, 2:00 p.m.)'</li><li>'(3 Oct, 6:00 a.m.)'</li><li>'Cool.'</li><li>'Cool.'</li><li>'Partly sunny.'</li><li>'Cool.'</li><li>'Cool.'</li><li>'Cool.'</li><li>'Cool.'</li><li>'Cool.'</li><li>'Cool.'</li><li>'Scattered clouds.'</li><li>'Scattered clouds.'</li><li>'Partly sunny.'</li><li>'Mostly cloudy.'</li><li>'Partly sunny.'</li><li>'Partly sunny.'</li><li>'Passing clouds.'</li><li>'Overcast.'</li><li>'Passing clouds.'</li><li>'Passing clouds.'</li><li>'Mostly cloudy.'</li><li>'Passing clouds.'</li><li>'Mostly cloudy.'</li><li>'Mostly cloudy.'</li><li>'Light rain. Partly cloudy.'</li><li>'Light rain. Partly cloudy.'</li><li>'Passing clouds.'</li><li>'Light rain. Overcast.'</li><li>'Rain. Fog.'</li><li>'Partly cloudy.'</li><li>'Passing clouds.'</li><li>'Passing clouds.'</li><li>'Passing clouds.'</li><li>'Partly cloudy.'</li><li>'Partly cloudy.'</li></ol>\n"
      ],
      "text/latex": [
       "\\begin{enumerate*}\n",
       "\\item '(27 Sep, 12:30 p.m.)'\n",
       "\\item '(21 Sep, 8:30 p.m.)'\n",
       "\\item '(21 Sep, 8:30 p.m.)'\n",
       "\\item '(26 Sep, 6:30 a.m.)'\n",
       "\\item '(27 Sep, 2:00 p.m.)'\n",
       "\\item '(3 Oct, 6:00 a.m.)'\n",
       "\\item 'Cool.'\n",
       "\\item 'Cool.'\n",
       "\\item 'Partly sunny.'\n",
       "\\item 'Cool.'\n",
       "\\item 'Cool.'\n",
       "\\item 'Cool.'\n",
       "\\item 'Cool.'\n",
       "\\item 'Cool.'\n",
       "\\item 'Cool.'\n",
       "\\item 'Scattered clouds.'\n",
       "\\item 'Scattered clouds.'\n",
       "\\item 'Partly sunny.'\n",
       "\\item 'Mostly cloudy.'\n",
       "\\item 'Partly sunny.'\n",
       "\\item 'Partly sunny.'\n",
       "\\item 'Passing clouds.'\n",
       "\\item 'Overcast.'\n",
       "\\item 'Passing clouds.'\n",
       "\\item 'Passing clouds.'\n",
       "\\item 'Mostly cloudy.'\n",
       "\\item 'Passing clouds.'\n",
       "\\item 'Mostly cloudy.'\n",
       "\\item 'Mostly cloudy.'\n",
       "\\item 'Light rain. Partly cloudy.'\n",
       "\\item 'Light rain. Partly cloudy.'\n",
       "\\item 'Passing clouds.'\n",
       "\\item 'Light rain. Overcast.'\n",
       "\\item 'Rain. Fog.'\n",
       "\\item 'Partly cloudy.'\n",
       "\\item 'Passing clouds.'\n",
       "\\item 'Passing clouds.'\n",
       "\\item 'Passing clouds.'\n",
       "\\item 'Partly cloudy.'\n",
       "\\item 'Partly cloudy.'\n",
       "\\end{enumerate*}\n"
      ],
      "text/markdown": [
       "1. '(27 Sep, 12:30 p.m.)'\n",
       "2. '(21 Sep, 8:30 p.m.)'\n",
       "3. '(21 Sep, 8:30 p.m.)'\n",
       "4. '(26 Sep, 6:30 a.m.)'\n",
       "5. '(27 Sep, 2:00 p.m.)'\n",
       "6. '(3 Oct, 6:00 a.m.)'\n",
       "7. 'Cool.'\n",
       "8. 'Cool.'\n",
       "9. 'Partly sunny.'\n",
       "10. 'Cool.'\n",
       "11. 'Cool.'\n",
       "12. 'Cool.'\n",
       "13. 'Cool.'\n",
       "14. 'Cool.'\n",
       "15. 'Cool.'\n",
       "16. 'Scattered clouds.'\n",
       "17. 'Scattered clouds.'\n",
       "18. 'Partly sunny.'\n",
       "19. 'Mostly cloudy.'\n",
       "20. 'Partly sunny.'\n",
       "21. 'Partly sunny.'\n",
       "22. 'Passing clouds.'\n",
       "23. 'Overcast.'\n",
       "24. 'Passing clouds.'\n",
       "25. 'Passing clouds.'\n",
       "26. 'Mostly cloudy.'\n",
       "27. 'Passing clouds.'\n",
       "28. 'Mostly cloudy.'\n",
       "29. 'Mostly cloudy.'\n",
       "30. 'Light rain. Partly cloudy.'\n",
       "31. 'Light rain. Partly cloudy.'\n",
       "32. 'Passing clouds.'\n",
       "33. 'Light rain. Overcast.'\n",
       "34. 'Rain. Fog.'\n",
       "35. 'Partly cloudy.'\n",
       "36. 'Passing clouds.'\n",
       "37. 'Passing clouds.'\n",
       "38. 'Passing clouds.'\n",
       "39. 'Partly cloudy.'\n",
       "40. 'Partly cloudy.'\n",
       "\n",
       "\n"
      ],
      "text/plain": [
       " [1] \"(27 Sep, 12:30 p.m.)\"       \"(21 Sep, 8:30 p.m.)\"       \n",
       " [3] \"(21 Sep, 8:30 p.m.)\"        \"(26 Sep, 6:30 a.m.)\"       \n",
       " [5] \"(27 Sep, 2:00 p.m.)\"        \"(3 Oct, 6:00 a.m.)\"        \n",
       " [7] \"Cool.\"                      \"Cool.\"                     \n",
       " [9] \"Partly sunny.\"              \"Cool.\"                     \n",
       "[11] \"Cool.\"                      \"Cool.\"                     \n",
       "[13] \"Cool.\"                      \"Cool.\"                     \n",
       "[15] \"Cool.\"                      \"Scattered clouds.\"         \n",
       "[17] \"Scattered clouds.\"          \"Partly sunny.\"             \n",
       "[19] \"Mostly cloudy.\"             \"Partly sunny.\"             \n",
       "[21] \"Partly sunny.\"              \"Passing clouds.\"           \n",
       "[23] \"Overcast.\"                  \"Passing clouds.\"           \n",
       "[25] \"Passing clouds.\"            \"Mostly cloudy.\"            \n",
       "[27] \"Passing clouds.\"            \"Mostly cloudy.\"            \n",
       "[29] \"Mostly cloudy.\"             \"Light rain. Partly cloudy.\"\n",
       "[31] \"Light rain. Partly cloudy.\" \"Passing clouds.\"           \n",
       "[33] \"Light rain. Overcast.\"      \"Rain. Fog.\"                \n",
       "[35] \"Partly cloudy.\"             \"Passing clouds.\"           \n",
       "[37] \"Passing clouds.\"            \"Passing clouds.\"           \n",
       "[39] \"Partly cloudy.\"             \"Partly cloudy.\"            "
      ]
     },
     "metadata": {},
     "output_type": "display_data"
    }
   ],
   "source": [
    "weather <- page_title %>% html_nodes(\".small\") %>% html_text()\n",
    "weather"
   ]
  },
  {
   "cell_type": "code",
   "execution_count": 34,
   "id": "4e900843-9fee-4433-8988-7b110a2b5f5d",
   "metadata": {},
   "outputs": [
    {
     "data": {
      "text/html": [
       "'character'"
      ],
      "text/latex": [
       "'character'"
      ],
      "text/markdown": [
       "'character'"
      ],
      "text/plain": [
       "[1] \"character\""
      ]
     },
     "metadata": {},
     "output_type": "display_data"
    }
   ],
   "source": [
    "weather %>% typeof()"
   ]
  },
  {
   "cell_type": "code",
   "execution_count": 35,
   "id": "31df8b67-beab-47ec-85b9-143892bf8e32",
   "metadata": {},
   "outputs": [
    {
     "data": {
      "text/html": [
       "<style>\n",
       ".list-inline {list-style: none; margin:0; padding: 0}\n",
       ".list-inline>li {display: inline-block}\n",
       ".list-inline>li:not(:last-child)::after {content: \"\\00b7\"; padding: 0 .5ex}\n",
       "</style>\n",
       "<ol class=list-inline><li>'17 °C (27 Sep, 12:30 p.m.)'</li><li>'100% (21 Sep, 8:30 p.m.)'</li><li>'1030 mbar (21 Sep, 8:30 p.m.)'</li><li>'11 °C'</li><li>'83%'</li><li>'1018 mbar'</li><li>'* Reported 21 Sep 4:30 p.m. — 6 Oct 5:30 p.m., Wellington. Weather by CustomWeather, © 2022'</li><li>''</li><li>'10 °C'</li><li>'Cool.'</li><li>'30 km/h'</li><li>'↑'</li><li>'54%'</li><li>'1017 mbar'</li><li>'N/A'</li><li>''</li><li>'10 °C'</li><li>'Partly sunny.'</li><li>'39 km/h'</li><li>'↑'</li><li>'50%'</li><li>'1017 mbar'</li><li>'N/A'</li><li>''</li><li>'10 °C'</li><li>'Cool.'</li><li>'43 km/h'</li><li>'↑'</li><li>'47%'</li><li>'1017 mbar'</li><li>'N/A'</li><li>''</li><li>'9 °C'</li><li>'Cool.'</li><li>'44 km/h'</li><li>'↑'</li><li>'54%'</li><li>'1017 mbar'</li><li>'N/A'</li><li>''</li><li>'9 °C'</li><li>'Cool.'</li><li>'48 km/h'</li><li>'↑'</li><li>'50%'</li><li>'1017 mbar'</li><li>'N/A'</li><li>'Weather by CustomWeather, © 2022'</li></ol>\n"
      ],
      "text/latex": [
       "\\begin{enumerate*}\n",
       "\\item '17 °C (27 Sep, 12:30 p.m.)'\n",
       "\\item '100\\% (21 Sep, 8:30 p.m.)'\n",
       "\\item '1030 mbar (21 Sep, 8:30 p.m.)'\n",
       "\\item '11 °C'\n",
       "\\item '83\\%'\n",
       "\\item '1018 mbar'\n",
       "\\item '* Reported 21 Sep 4:30 p.m. — 6 Oct 5:30 p.m., Wellington. Weather by CustomWeather, © 2022'\n",
       "\\item ''\n",
       "\\item '10 °C'\n",
       "\\item 'Cool.'\n",
       "\\item '30 km/h'\n",
       "\\item '↑'\n",
       "\\item '54\\%'\n",
       "\\item '1017 mbar'\n",
       "\\item 'N/A'\n",
       "\\item ''\n",
       "\\item '10 °C'\n",
       "\\item 'Partly sunny.'\n",
       "\\item '39 km/h'\n",
       "\\item '↑'\n",
       "\\item '50\\%'\n",
       "\\item '1017 mbar'\n",
       "\\item 'N/A'\n",
       "\\item ''\n",
       "\\item '10 °C'\n",
       "\\item 'Cool.'\n",
       "\\item '43 km/h'\n",
       "\\item '↑'\n",
       "\\item '47\\%'\n",
       "\\item '1017 mbar'\n",
       "\\item 'N/A'\n",
       "\\item ''\n",
       "\\item '9 °C'\n",
       "\\item 'Cool.'\n",
       "\\item '44 km/h'\n",
       "\\item '↑'\n",
       "\\item '54\\%'\n",
       "\\item '1017 mbar'\n",
       "\\item 'N/A'\n",
       "\\item ''\n",
       "\\item '9 °C'\n",
       "\\item 'Cool.'\n",
       "\\item '48 km/h'\n",
       "\\item '↑'\n",
       "\\item '50\\%'\n",
       "\\item '1017 mbar'\n",
       "\\item 'N/A'\n",
       "\\item 'Weather by CustomWeather, © 2022'\n",
       "\\end{enumerate*}\n"
      ],
      "text/markdown": [
       "1. '17 °C (27 Sep, 12:30 p.m.)'\n",
       "2. '100% (21 Sep, 8:30 p.m.)'\n",
       "3. '1030 mbar (21 Sep, 8:30 p.m.)'\n",
       "4. '11 °C'\n",
       "5. '83%'\n",
       "6. '1018 mbar'\n",
       "7. '* Reported 21 Sep 4:30 p.m. — 6 Oct 5:30 p.m., Wellington. Weather by CustomWeather, © 2022'\n",
       "8. ''\n",
       "9. '10 °C'\n",
       "10. 'Cool.'\n",
       "11. '30 km/h'\n",
       "12. '↑'\n",
       "13. '54%'\n",
       "14. '1017 mbar'\n",
       "15. 'N/A'\n",
       "16. ''\n",
       "17. '10 °C'\n",
       "18. 'Partly sunny.'\n",
       "19. '39 km/h'\n",
       "20. '↑'\n",
       "21. '50%'\n",
       "22. '1017 mbar'\n",
       "23. 'N/A'\n",
       "24. ''\n",
       "25. '10 °C'\n",
       "26. 'Cool.'\n",
       "27. '43 km/h'\n",
       "28. '↑'\n",
       "29. '47%'\n",
       "30. '1017 mbar'\n",
       "31. 'N/A'\n",
       "32. ''\n",
       "33. '9 °C'\n",
       "34. 'Cool.'\n",
       "35. '44 km/h'\n",
       "36. '↑'\n",
       "37. '54%'\n",
       "38. '1017 mbar'\n",
       "39. 'N/A'\n",
       "40. ''\n",
       "41. '9 °C'\n",
       "42. 'Cool.'\n",
       "43. '48 km/h'\n",
       "44. '↑'\n",
       "45. '50%'\n",
       "46. '1017 mbar'\n",
       "47. 'N/A'\n",
       "48. 'Weather by CustomWeather, © 2022'\n",
       "\n",
       "\n"
      ],
      "text/plain": [
       " [1] \"17 °C (27 Sep, 12:30 p.m.)\"                                                                 \n",
       " [2] \"100% (21 Sep, 8:30 p.m.)\"                                                                   \n",
       " [3] \"1030 mbar (21 Sep, 8:30 p.m.)\"                                                              \n",
       " [4] \"11 °C\"                                                                                      \n",
       " [5] \"83%\"                                                                                        \n",
       " [6] \"1018 mbar\"                                                                                  \n",
       " [7] \"* Reported 21 Sep 4:30 p.m. — 6 Oct 5:30 p.m., Wellington. Weather by CustomWeather, © 2022\"\n",
       " [8] \"\"                                                                                           \n",
       " [9] \"10 °C\"                                                                                      \n",
       "[10] \"Cool.\"                                                                                      \n",
       "[11] \"30 km/h\"                                                                                    \n",
       "[12] \"↑\"                                                                                          \n",
       "[13] \"54%\"                                                                                        \n",
       "[14] \"1017 mbar\"                                                                                  \n",
       "[15] \"N/A\"                                                                                        \n",
       "[16] \"\"                                                                                           \n",
       "[17] \"10 °C\"                                                                                      \n",
       "[18] \"Partly sunny.\"                                                                              \n",
       "[19] \"39 km/h\"                                                                                    \n",
       "[20] \"↑\"                                                                                          \n",
       "[21] \"50%\"                                                                                        \n",
       "[22] \"1017 mbar\"                                                                                  \n",
       "[23] \"N/A\"                                                                                        \n",
       "[24] \"\"                                                                                           \n",
       "[25] \"10 °C\"                                                                                      \n",
       "[26] \"Cool.\"                                                                                      \n",
       "[27] \"43 km/h\"                                                                                    \n",
       "[28] \"↑\"                                                                                          \n",
       "[29] \"47%\"                                                                                        \n",
       "[30] \"1017 mbar\"                                                                                  \n",
       "[31] \"N/A\"                                                                                        \n",
       "[32] \"\"                                                                                           \n",
       "[33] \"9 °C\"                                                                                       \n",
       "[34] \"Cool.\"                                                                                      \n",
       "[35] \"44 km/h\"                                                                                    \n",
       "[36] \"↑\"                                                                                          \n",
       "[37] \"54%\"                                                                                        \n",
       "[38] \"1017 mbar\"                                                                                  \n",
       "[39] \"N/A\"                                                                                        \n",
       "[40] \"\"                                                                                           \n",
       "[41] \"9 °C\"                                                                                       \n",
       "[42] \"Cool.\"                                                                                      \n",
       "[43] \"48 km/h\"                                                                                    \n",
       "[44] \"↑\"                                                                                          \n",
       "[45] \"50%\"                                                                                        \n",
       "[46] \"1017 mbar\"                                                                                  \n",
       "[47] \"N/A\"                                                                                        \n",
       "[48] \"Weather by CustomWeather, © 2022\"                                                           "
      ]
     },
     "metadata": {},
     "output_type": "display_data"
    }
   ],
   "source": [
    "weather <- page_title %>% html_nodes(\"tr:nth-child(7) td , tr:nth-child(6) td , tr:nth-child(5) td , tr:nth-child(3) td , tr:nth-child(1) td\") %>% html_text()\n",
    "weather"
   ]
  },
  {
   "cell_type": "code",
   "execution_count": null,
   "id": "86b26758-d9ce-4e1e-8bdc-63d0b79cb44e",
   "metadata": {},
   "outputs": [],
   "source": []
  }
 ],
 "metadata": {
  "kernelspec": {
   "display_name": "R",
   "language": "R",
   "name": "ir"
  },
  "language_info": {
   "codemirror_mode": "r",
   "file_extension": ".r",
   "mimetype": "text/x-r-source",
   "name": "R",
   "pygments_lexer": "r",
   "version": "4.2.1"
  }
 },
 "nbformat": 4,
 "nbformat_minor": 5
}
