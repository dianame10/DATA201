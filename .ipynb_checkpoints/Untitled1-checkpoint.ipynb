{
 "cells": [
  {
   "cell_type": "code",
   "execution_count": 27,
   "id": "b92d13fd-74ef-4860-8d1a-640c31b1ec91",
   "metadata": {},
   "outputs": [],
   "source": [
    "library(tidyverse)"
   ]
  },
  {
   "cell_type": "code",
   "execution_count": 28,
   "id": "24d9f019-bdd4-4b30-ac36-4d49515b5dfe",
   "metadata": {},
   "outputs": [],
   "source": [
    "# install.packages(\"magrittr\")\n",
    "# install.packages(\"purrr\")\n",
    "# install.packages(\"glue\")\n",
    "# install.packages(\"stringr\")\n",
    "library(magrittr) # better handling of pipes\n",
    "library(purrr) # to work with lists and map functions\n",
    "library(glue) # to paste strings\n",
    "library(stringr) # to hand strings"
   ]
  },
  {
   "cell_type": "code",
   "execution_count": 29,
   "id": "5aaefe85-263c-463a-9003-ed28ae8c9e56",
   "metadata": {},
   "outputs": [
    {
     "ename": "ERROR",
     "evalue": "Error in library(polite): there is no package called ‘polite’\n",
     "output_type": "error",
     "traceback": [
      "Error in library(polite): there is no package called ‘polite’\nTraceback:\n",
      "1. library(polite)"
     ]
    }
   ],
   "source": [
    "# install.packages(\"rvest\")\n",
    "# remotes::install_github(\"dmi3kno/polite\")(\"politer\")\n",
    "# install.packages(\"xml2\")\n",
    "library(rvest) # rvest makes scraping easier\n",
    "library(polite) # polite is the \"polite\" version of rvest\n",
    "library(xml2) # makes it easier to work with HTML and XML from R"
   ]
  },
  {
   "cell_type": "code",
   "execution_count": 6,
   "id": "36aca7e8-8c4a-4643-950b-0642199a10cb",
   "metadata": {},
   "outputs": [],
   "source": [
    "weather_url <- \"https://www.metservice.com/towns-cities/locations/auckland/7-days\"\n",
    "weather_html <- read_html(weather_url)"
   ]
  },
  {
   "cell_type": "code",
   "execution_count": 7,
   "id": "61f711c7-0752-4b67-81bd-30c3d8ebd039",
   "metadata": {},
   "outputs": [
    {
     "data": {
      "text/html": [
       "'list'"
      ],
      "text/latex": [
       "'list'"
      ],
      "text/markdown": [
       "'list'"
      ],
      "text/plain": [
       "[1] \"list\""
      ]
     },
     "metadata": {},
     "output_type": "display_data"
    },
    {
     "name": "stdout",
     "output_type": "stream",
     "text": [
      "List of 2\n",
      " $ node:<externalptr> \n",
      " $ doc :<externalptr> \n",
      " - attr(*, \"class\")= chr [1:2] \"xml_document\" \"xml_node\"\n"
     ]
    }
   ],
   "source": [
    "weather_html %>% typeof()\n",
    "weather_html %>% glimpse()"
   ]
  },
  {
   "cell_type": "code",
   "execution_count": 8,
   "id": "5ba8ae1e-d501-45d7-b9f5-6b7c719b09ad",
   "metadata": {},
   "outputs": [
    {
     "data": {
      "text/plain": [
       "{html_document}\n",
       "<html lang=\"en\">\n",
       "[1] <head>\\n<meta http-equiv=\"Content-Type\" content=\"text/html; charset=utf-8 ...\n",
       "[2] <body class=\"tpl-banner  weather\">\\n<div id=\"header__wrapper\" class=\"head ..."
      ]
     },
     "metadata": {},
     "output_type": "display_data"
    }
   ],
   "source": [
    "weather_html"
   ]
  },
  {
   "cell_type": "code",
   "execution_count": 13,
   "id": "16a9029c-390a-47fb-beb9-e2c90c2d73c6",
   "metadata": {},
   "outputs": [
    {
     "data": {
      "text/html": [
       "'Wellington Weather History for the Previous 24 Hours'"
      ],
      "text/latex": [
       "'Wellington Weather History for the Previous 24 Hours'"
      ],
      "text/markdown": [
       "'Wellington Weather History for the Previous 24 Hours'"
      ],
      "text/plain": [
       "[1] \"Wellington Weather History for the Previous 24 Hours\""
      ]
     },
     "metadata": {},
     "output_type": "display_data"
    }
   ],
   "source": [
    "title <- weather_html %>% html_elements('h2#wt-his-title') %>% html_text2()\n",
    "title "
   ]
  },
  {
   "cell_type": "code",
   "execution_count": 20,
   "id": "0c2f2dcb-5483-4dd2-9433-90ec20f7a431",
   "metadata": {},
   "outputs": [
    {
     "data": {
      "text/html": [
       "<style>\n",
       ".list-inline {list-style: none; margin:0; padding: 0}\n",
       ".list-inline>li {display: inline-block}\n",
       ".list-inline>li:not(:last-child)::after {content: \"\\00b7\"; padding: 0 .5ex}\n",
       "</style>\n",
       "<ol class=list-inline><li>' \\tTemperature\\tHumidity\\tPressure'</li><li>'High\\t17 °C (27 Sep, 12:30 p.m.)\\t100% (21 Sep, 8:30 p.m.)\\t1030 mbar (21 Sep, 8:30 p.m.)'</li><li>'Low\\t4 °C (26 Sep, 6:30 a.m.)\\t45% (27 Sep, 2:00 p.m.)\\t999 mbar (3 Oct, 6:00 a.m.)'</li><li>'Average\\t11 °C\\t83%\\t1018 mbar'</li><li>'* Reported 21 Sep 2:00 p.m. — 6 Oct 3:30 p.m., Wellington. Weather by CustomWeather, © 2022'</li><li>' \\tConditions\\tComfort\\t \\t '</li><li>'Time\\t \\tTemp\\tWeather\\tWind\\t \\tHumidity\\tBarometer\\tVisibility'</li><li>'3:30 p.m.\\nThu, 6 Oct\\t\\t10 °C\\tCool.\\t43 km/h\\t↑\\t47%\\t1017 mbar\\tN/A'</li><li>'3:00 p.m.\\t\\t9 °C\\tCool.\\t44 km/h\\t↑\\t54%\\t1017 mbar\\tN/A'</li><li>'2:30 p.m.\\t\\t9 °C\\tCool.\\t48 km/h\\t↑\\t50%\\t1017 mbar\\tN/A'</li><li>'2:00 p.m.\\t\\t9 °C\\tCool.\\t44 km/h\\t↑\\t54%\\t1017 mbar\\tN/A'</li><li>'12:30 p.m.\\t\\t8 °C\\tCool.\\t44 km/h\\t↑\\t57%\\t1017 mbar\\tN/A'</li><li>'12:00 p.m.\\t\\t8 °C\\tScattered clouds.\\t48 km/h\\t↑\\t53%\\t1017 mbar\\tN/A'</li><li>'11:00 a.m.\\t\\t7 °C\\tScattered clouds.\\t48 km/h\\t↑\\t61%\\t1017 mbar\\tN/A'</li><li>'10:30 a.m.\\t\\t7 °C\\tPartly sunny.\\t50 km/h\\t↑\\t57%\\t1016 mbar\\tN/A'</li><li>'9:00 a.m.\\t\\t7 °C\\tMostly cloudy.\\t50 km/h\\t↑\\t61%\\t1015 mbar\\t6 km'</li><li>'7:30 a.m.\\t\\t6 °C\\tPartly sunny.\\t57 km/h\\t↑\\t71%\\t1013 mbar\\t7 km'</li><li>'7:00 a.m.\\t\\t7 °C\\tPartly sunny.\\t54 km/h\\t↑\\t71%\\t1013 mbar\\t9 km'</li><li>'6:30 a.m.\\t\\t7 °C\\tPassing clouds.\\t57 km/h\\t↑\\t61%\\t1012 mbar\\t9 km'</li><li>'6:00 a.m.\\t\\t7 °C\\tOvercast.\\t57 km/h\\t↑\\t61%\\t1012 mbar\\tN/A'</li><li>'5:30 a.m.\\t\\t7 °C\\tPassing clouds.\\t57 km/h\\t↑\\t61%\\t1011 mbar\\tN/A'</li><li>'5:00 a.m.\\t\\t7 °C\\tPassing clouds.\\t57 km/h\\t↑\\t57%\\t1011 mbar\\tN/A'</li><li>'4:30 a.m.\\t\\t7 °C\\tMostly cloudy.\\t56 km/h\\t↑\\t61%\\t1011 mbar\\tN/A'</li><li>'4:00 a.m.\\t\\t7 °C\\tPassing clouds.\\t57 km/h\\t↑\\t61%\\t1011 mbar\\tN/A'</li><li>'3:30 a.m.\\t\\t7 °C\\tMostly cloudy.\\t52 km/h\\t↑\\t66%\\t1011 mbar\\tN/A'</li><li>'3:00 a.m.\\t\\t6 °C\\tMostly cloudy.\\t50 km/h\\t↑\\t81%\\t1011 mbar\\tN/A'</li><li>'2:30 a.m.\\t\\t6 °C\\tLight rain. Partly cloudy.\\t56 km/h\\t↑\\t87%\\t1011 mbar\\t9 km'</li><li>'2:00 a.m.\\t\\t6 °C\\tLight rain. Partly cloudy.\\t52 km/h\\t↑\\t81%\\t1010 mbar\\tN/A'</li><li>'1:30 a.m.\\t\\t6 °C\\tPassing clouds.\\t50 km/h\\t↑\\t81%\\t1010 mbar\\tN/A'</li><li>'12:30 a.m.\\t\\t6 °C\\tLight rain. Overcast.\\t54 km/h\\t↑\\t93%\\t1009 mbar\\t5 km'</li><li>'12:00 a.m.\\t\\t6 °C\\tRain. Fog.\\t52 km/h\\t↑\\t93%\\t1009 mbar\\t2 km'</li><li>'10:30 p.m.\\nWed, 5 Oct\\t\\t7 °C\\tPartly cloudy.\\t6 km/h\\t↑\\t81%\\t1006 mbar\\tN/A'</li><li>'10:00 p.m.\\t\\t7 °C\\tPassing clouds.\\t4 km/h\\t↑\\t81%\\t1006 mbar\\tN/A'</li><li>'9:30 p.m.\\t\\t7 °C\\tPassing clouds.\\t6 km/h\\t↑\\t81%\\t1006 mbar\\tN/A'</li><li>'8:30 p.m.\\t\\t8 °C\\tPassing clouds.\\t6 km/h\\t↑\\t76%\\t1005 mbar\\tN/A'</li><li>'8:00 p.m.\\t\\t8 °C\\tPartly cloudy.\\t9 km/h\\t↑\\t66%\\t1005 mbar\\tN/A'</li><li>'7:30 p.m.\\t\\t8 °C\\tPartly cloudy.\\t15 km/h\\t↑\\t71%\\t1005 mbar\\tN/A'</li><li>'6:00 p.m.\\t\\t8 °C\\tPartly sunny.\\t24 km/h\\t↑\\t76%\\t1005 mbar\\tN/A'</li><li>'5:30 p.m.\\t\\t8 °C\\tLight rain. Partly sunny.\\t26 km/h\\t↑\\t82%\\t1004 mbar\\tN/A'</li><li>'5:00 p.m.\\t\\t9 °C\\tMostly cloudy.\\t30 km/h\\t↑\\t82%\\t1004 mbar\\tN/A'</li><li>'Weather by CustomWeather, © 2022'</li></ol>\n"
      ],
      "text/latex": [
       "\\begin{enumerate*}\n",
       "\\item ' \\textbackslash{}tTemperature\\textbackslash{}tHumidity\\textbackslash{}tPressure'\n",
       "\\item 'High\\textbackslash{}t17 °C (27 Sep, 12:30 p.m.)\\textbackslash{}t100\\% (21 Sep, 8:30 p.m.)\\textbackslash{}t1030 mbar (21 Sep, 8:30 p.m.)'\n",
       "\\item 'Low\\textbackslash{}t4 °C (26 Sep, 6:30 a.m.)\\textbackslash{}t45\\% (27 Sep, 2:00 p.m.)\\textbackslash{}t999 mbar (3 Oct, 6:00 a.m.)'\n",
       "\\item 'Average\\textbackslash{}t11 °C\\textbackslash{}t83\\%\\textbackslash{}t1018 mbar'\n",
       "\\item '* Reported 21 Sep 2:00 p.m. — 6 Oct 3:30 p.m., Wellington. Weather by CustomWeather, © 2022'\n",
       "\\item ' \\textbackslash{}tConditions\\textbackslash{}tComfort\\textbackslash{}t \\textbackslash{}t '\n",
       "\\item 'Time\\textbackslash{}t \\textbackslash{}tTemp\\textbackslash{}tWeather\\textbackslash{}tWind\\textbackslash{}t \\textbackslash{}tHumidity\\textbackslash{}tBarometer\\textbackslash{}tVisibility'\n",
       "\\item '3:30 p.m.\\textbackslash{}nThu, 6 Oct\\textbackslash{}t\\textbackslash{}t10 °C\\textbackslash{}tCool.\\textbackslash{}t43 km/h\\textbackslash{}t↑\\textbackslash{}t47\\%\\textbackslash{}t1017 mbar\\textbackslash{}tN/A'\n",
       "\\item '3:00 p.m.\\textbackslash{}t\\textbackslash{}t9 °C\\textbackslash{}tCool.\\textbackslash{}t44 km/h\\textbackslash{}t↑\\textbackslash{}t54\\%\\textbackslash{}t1017 mbar\\textbackslash{}tN/A'\n",
       "\\item '2:30 p.m.\\textbackslash{}t\\textbackslash{}t9 °C\\textbackslash{}tCool.\\textbackslash{}t48 km/h\\textbackslash{}t↑\\textbackslash{}t50\\%\\textbackslash{}t1017 mbar\\textbackslash{}tN/A'\n",
       "\\item '2:00 p.m.\\textbackslash{}t\\textbackslash{}t9 °C\\textbackslash{}tCool.\\textbackslash{}t44 km/h\\textbackslash{}t↑\\textbackslash{}t54\\%\\textbackslash{}t1017 mbar\\textbackslash{}tN/A'\n",
       "\\item '12:30 p.m.\\textbackslash{}t\\textbackslash{}t8 °C\\textbackslash{}tCool.\\textbackslash{}t44 km/h\\textbackslash{}t↑\\textbackslash{}t57\\%\\textbackslash{}t1017 mbar\\textbackslash{}tN/A'\n",
       "\\item '12:00 p.m.\\textbackslash{}t\\textbackslash{}t8 °C\\textbackslash{}tScattered clouds.\\textbackslash{}t48 km/h\\textbackslash{}t↑\\textbackslash{}t53\\%\\textbackslash{}t1017 mbar\\textbackslash{}tN/A'\n",
       "\\item '11:00 a.m.\\textbackslash{}t\\textbackslash{}t7 °C\\textbackslash{}tScattered clouds.\\textbackslash{}t48 km/h\\textbackslash{}t↑\\textbackslash{}t61\\%\\textbackslash{}t1017 mbar\\textbackslash{}tN/A'\n",
       "\\item '10:30 a.m.\\textbackslash{}t\\textbackslash{}t7 °C\\textbackslash{}tPartly sunny.\\textbackslash{}t50 km/h\\textbackslash{}t↑\\textbackslash{}t57\\%\\textbackslash{}t1016 mbar\\textbackslash{}tN/A'\n",
       "\\item '9:00 a.m.\\textbackslash{}t\\textbackslash{}t7 °C\\textbackslash{}tMostly cloudy.\\textbackslash{}t50 km/h\\textbackslash{}t↑\\textbackslash{}t61\\%\\textbackslash{}t1015 mbar\\textbackslash{}t6 km'\n",
       "\\item '7:30 a.m.\\textbackslash{}t\\textbackslash{}t6 °C\\textbackslash{}tPartly sunny.\\textbackslash{}t57 km/h\\textbackslash{}t↑\\textbackslash{}t71\\%\\textbackslash{}t1013 mbar\\textbackslash{}t7 km'\n",
       "\\item '7:00 a.m.\\textbackslash{}t\\textbackslash{}t7 °C\\textbackslash{}tPartly sunny.\\textbackslash{}t54 km/h\\textbackslash{}t↑\\textbackslash{}t71\\%\\textbackslash{}t1013 mbar\\textbackslash{}t9 km'\n",
       "\\item '6:30 a.m.\\textbackslash{}t\\textbackslash{}t7 °C\\textbackslash{}tPassing clouds.\\textbackslash{}t57 km/h\\textbackslash{}t↑\\textbackslash{}t61\\%\\textbackslash{}t1012 mbar\\textbackslash{}t9 km'\n",
       "\\item '6:00 a.m.\\textbackslash{}t\\textbackslash{}t7 °C\\textbackslash{}tOvercast.\\textbackslash{}t57 km/h\\textbackslash{}t↑\\textbackslash{}t61\\%\\textbackslash{}t1012 mbar\\textbackslash{}tN/A'\n",
       "\\item '5:30 a.m.\\textbackslash{}t\\textbackslash{}t7 °C\\textbackslash{}tPassing clouds.\\textbackslash{}t57 km/h\\textbackslash{}t↑\\textbackslash{}t61\\%\\textbackslash{}t1011 mbar\\textbackslash{}tN/A'\n",
       "\\item '5:00 a.m.\\textbackslash{}t\\textbackslash{}t7 °C\\textbackslash{}tPassing clouds.\\textbackslash{}t57 km/h\\textbackslash{}t↑\\textbackslash{}t57\\%\\textbackslash{}t1011 mbar\\textbackslash{}tN/A'\n",
       "\\item '4:30 a.m.\\textbackslash{}t\\textbackslash{}t7 °C\\textbackslash{}tMostly cloudy.\\textbackslash{}t56 km/h\\textbackslash{}t↑\\textbackslash{}t61\\%\\textbackslash{}t1011 mbar\\textbackslash{}tN/A'\n",
       "\\item '4:00 a.m.\\textbackslash{}t\\textbackslash{}t7 °C\\textbackslash{}tPassing clouds.\\textbackslash{}t57 km/h\\textbackslash{}t↑\\textbackslash{}t61\\%\\textbackslash{}t1011 mbar\\textbackslash{}tN/A'\n",
       "\\item '3:30 a.m.\\textbackslash{}t\\textbackslash{}t7 °C\\textbackslash{}tMostly cloudy.\\textbackslash{}t52 km/h\\textbackslash{}t↑\\textbackslash{}t66\\%\\textbackslash{}t1011 mbar\\textbackslash{}tN/A'\n",
       "\\item '3:00 a.m.\\textbackslash{}t\\textbackslash{}t6 °C\\textbackslash{}tMostly cloudy.\\textbackslash{}t50 km/h\\textbackslash{}t↑\\textbackslash{}t81\\%\\textbackslash{}t1011 mbar\\textbackslash{}tN/A'\n",
       "\\item '2:30 a.m.\\textbackslash{}t\\textbackslash{}t6 °C\\textbackslash{}tLight rain. Partly cloudy.\\textbackslash{}t56 km/h\\textbackslash{}t↑\\textbackslash{}t87\\%\\textbackslash{}t1011 mbar\\textbackslash{}t9 km'\n",
       "\\item '2:00 a.m.\\textbackslash{}t\\textbackslash{}t6 °C\\textbackslash{}tLight rain. Partly cloudy.\\textbackslash{}t52 km/h\\textbackslash{}t↑\\textbackslash{}t81\\%\\textbackslash{}t1010 mbar\\textbackslash{}tN/A'\n",
       "\\item '1:30 a.m.\\textbackslash{}t\\textbackslash{}t6 °C\\textbackslash{}tPassing clouds.\\textbackslash{}t50 km/h\\textbackslash{}t↑\\textbackslash{}t81\\%\\textbackslash{}t1010 mbar\\textbackslash{}tN/A'\n",
       "\\item '12:30 a.m.\\textbackslash{}t\\textbackslash{}t6 °C\\textbackslash{}tLight rain. Overcast.\\textbackslash{}t54 km/h\\textbackslash{}t↑\\textbackslash{}t93\\%\\textbackslash{}t1009 mbar\\textbackslash{}t5 km'\n",
       "\\item '12:00 a.m.\\textbackslash{}t\\textbackslash{}t6 °C\\textbackslash{}tRain. Fog.\\textbackslash{}t52 km/h\\textbackslash{}t↑\\textbackslash{}t93\\%\\textbackslash{}t1009 mbar\\textbackslash{}t2 km'\n",
       "\\item '10:30 p.m.\\textbackslash{}nWed, 5 Oct\\textbackslash{}t\\textbackslash{}t7 °C\\textbackslash{}tPartly cloudy.\\textbackslash{}t6 km/h\\textbackslash{}t↑\\textbackslash{}t81\\%\\textbackslash{}t1006 mbar\\textbackslash{}tN/A'\n",
       "\\item '10:00 p.m.\\textbackslash{}t\\textbackslash{}t7 °C\\textbackslash{}tPassing clouds.\\textbackslash{}t4 km/h\\textbackslash{}t↑\\textbackslash{}t81\\%\\textbackslash{}t1006 mbar\\textbackslash{}tN/A'\n",
       "\\item '9:30 p.m.\\textbackslash{}t\\textbackslash{}t7 °C\\textbackslash{}tPassing clouds.\\textbackslash{}t6 km/h\\textbackslash{}t↑\\textbackslash{}t81\\%\\textbackslash{}t1006 mbar\\textbackslash{}tN/A'\n",
       "\\item '8:30 p.m.\\textbackslash{}t\\textbackslash{}t8 °C\\textbackslash{}tPassing clouds.\\textbackslash{}t6 km/h\\textbackslash{}t↑\\textbackslash{}t76\\%\\textbackslash{}t1005 mbar\\textbackslash{}tN/A'\n",
       "\\item '8:00 p.m.\\textbackslash{}t\\textbackslash{}t8 °C\\textbackslash{}tPartly cloudy.\\textbackslash{}t9 km/h\\textbackslash{}t↑\\textbackslash{}t66\\%\\textbackslash{}t1005 mbar\\textbackslash{}tN/A'\n",
       "\\item '7:30 p.m.\\textbackslash{}t\\textbackslash{}t8 °C\\textbackslash{}tPartly cloudy.\\textbackslash{}t15 km/h\\textbackslash{}t↑\\textbackslash{}t71\\%\\textbackslash{}t1005 mbar\\textbackslash{}tN/A'\n",
       "\\item '6:00 p.m.\\textbackslash{}t\\textbackslash{}t8 °C\\textbackslash{}tPartly sunny.\\textbackslash{}t24 km/h\\textbackslash{}t↑\\textbackslash{}t76\\%\\textbackslash{}t1005 mbar\\textbackslash{}tN/A'\n",
       "\\item '5:30 p.m.\\textbackslash{}t\\textbackslash{}t8 °C\\textbackslash{}tLight rain. Partly sunny.\\textbackslash{}t26 km/h\\textbackslash{}t↑\\textbackslash{}t82\\%\\textbackslash{}t1004 mbar\\textbackslash{}tN/A'\n",
       "\\item '5:00 p.m.\\textbackslash{}t\\textbackslash{}t9 °C\\textbackslash{}tMostly cloudy.\\textbackslash{}t30 km/h\\textbackslash{}t↑\\textbackslash{}t82\\%\\textbackslash{}t1004 mbar\\textbackslash{}tN/A'\n",
       "\\item 'Weather by CustomWeather, © 2022'\n",
       "\\end{enumerate*}\n"
      ],
      "text/markdown": [
       "1. ' \\tTemperature\\tHumidity\\tPressure'\n",
       "2. 'High\\t17 °C (27 Sep, 12:30 p.m.)\\t100% (21 Sep, 8:30 p.m.)\\t1030 mbar (21 Sep, 8:30 p.m.)'\n",
       "3. 'Low\\t4 °C (26 Sep, 6:30 a.m.)\\t45% (27 Sep, 2:00 p.m.)\\t999 mbar (3 Oct, 6:00 a.m.)'\n",
       "4. 'Average\\t11 °C\\t83%\\t1018 mbar'\n",
       "5. '* Reported 21 Sep 2:00 p.m. — 6 Oct 3:30 p.m., Wellington. Weather by CustomWeather, © 2022'\n",
       "6. ' \\tConditions\\tComfort\\t \\t '\n",
       "7. 'Time\\t \\tTemp\\tWeather\\tWind\\t \\tHumidity\\tBarometer\\tVisibility'\n",
       "8. '3:30 p.m.\\nThu, 6 Oct\\t\\t10 °C\\tCool.\\t43 km/h\\t↑\\t47%\\t1017 mbar\\tN/A'\n",
       "9. '3:00 p.m.\\t\\t9 °C\\tCool.\\t44 km/h\\t↑\\t54%\\t1017 mbar\\tN/A'\n",
       "10. '2:30 p.m.\\t\\t9 °C\\tCool.\\t48 km/h\\t↑\\t50%\\t1017 mbar\\tN/A'\n",
       "11. '2:00 p.m.\\t\\t9 °C\\tCool.\\t44 km/h\\t↑\\t54%\\t1017 mbar\\tN/A'\n",
       "12. '12:30 p.m.\\t\\t8 °C\\tCool.\\t44 km/h\\t↑\\t57%\\t1017 mbar\\tN/A'\n",
       "13. '12:00 p.m.\\t\\t8 °C\\tScattered clouds.\\t48 km/h\\t↑\\t53%\\t1017 mbar\\tN/A'\n",
       "14. '11:00 a.m.\\t\\t7 °C\\tScattered clouds.\\t48 km/h\\t↑\\t61%\\t1017 mbar\\tN/A'\n",
       "15. '10:30 a.m.\\t\\t7 °C\\tPartly sunny.\\t50 km/h\\t↑\\t57%\\t1016 mbar\\tN/A'\n",
       "16. '9:00 a.m.\\t\\t7 °C\\tMostly cloudy.\\t50 km/h\\t↑\\t61%\\t1015 mbar\\t6 km'\n",
       "17. '7:30 a.m.\\t\\t6 °C\\tPartly sunny.\\t57 km/h\\t↑\\t71%\\t1013 mbar\\t7 km'\n",
       "18. '7:00 a.m.\\t\\t7 °C\\tPartly sunny.\\t54 km/h\\t↑\\t71%\\t1013 mbar\\t9 km'\n",
       "19. '6:30 a.m.\\t\\t7 °C\\tPassing clouds.\\t57 km/h\\t↑\\t61%\\t1012 mbar\\t9 km'\n",
       "20. '6:00 a.m.\\t\\t7 °C\\tOvercast.\\t57 km/h\\t↑\\t61%\\t1012 mbar\\tN/A'\n",
       "21. '5:30 a.m.\\t\\t7 °C\\tPassing clouds.\\t57 km/h\\t↑\\t61%\\t1011 mbar\\tN/A'\n",
       "22. '5:00 a.m.\\t\\t7 °C\\tPassing clouds.\\t57 km/h\\t↑\\t57%\\t1011 mbar\\tN/A'\n",
       "23. '4:30 a.m.\\t\\t7 °C\\tMostly cloudy.\\t56 km/h\\t↑\\t61%\\t1011 mbar\\tN/A'\n",
       "24. '4:00 a.m.\\t\\t7 °C\\tPassing clouds.\\t57 km/h\\t↑\\t61%\\t1011 mbar\\tN/A'\n",
       "25. '3:30 a.m.\\t\\t7 °C\\tMostly cloudy.\\t52 km/h\\t↑\\t66%\\t1011 mbar\\tN/A'\n",
       "26. '3:00 a.m.\\t\\t6 °C\\tMostly cloudy.\\t50 km/h\\t↑\\t81%\\t1011 mbar\\tN/A'\n",
       "27. '2:30 a.m.\\t\\t6 °C\\tLight rain. Partly cloudy.\\t56 km/h\\t↑\\t87%\\t1011 mbar\\t9 km'\n",
       "28. '2:00 a.m.\\t\\t6 °C\\tLight rain. Partly cloudy.\\t52 km/h\\t↑\\t81%\\t1010 mbar\\tN/A'\n",
       "29. '1:30 a.m.\\t\\t6 °C\\tPassing clouds.\\t50 km/h\\t↑\\t81%\\t1010 mbar\\tN/A'\n",
       "30. '12:30 a.m.\\t\\t6 °C\\tLight rain. Overcast.\\t54 km/h\\t↑\\t93%\\t1009 mbar\\t5 km'\n",
       "31. '12:00 a.m.\\t\\t6 °C\\tRain. Fog.\\t52 km/h\\t↑\\t93%\\t1009 mbar\\t2 km'\n",
       "32. '10:30 p.m.\\nWed, 5 Oct\\t\\t7 °C\\tPartly cloudy.\\t6 km/h\\t↑\\t81%\\t1006 mbar\\tN/A'\n",
       "33. '10:00 p.m.\\t\\t7 °C\\tPassing clouds.\\t4 km/h\\t↑\\t81%\\t1006 mbar\\tN/A'\n",
       "34. '9:30 p.m.\\t\\t7 °C\\tPassing clouds.\\t6 km/h\\t↑\\t81%\\t1006 mbar\\tN/A'\n",
       "35. '8:30 p.m.\\t\\t8 °C\\tPassing clouds.\\t6 km/h\\t↑\\t76%\\t1005 mbar\\tN/A'\n",
       "36. '8:00 p.m.\\t\\t8 °C\\tPartly cloudy.\\t9 km/h\\t↑\\t66%\\t1005 mbar\\tN/A'\n",
       "37. '7:30 p.m.\\t\\t8 °C\\tPartly cloudy.\\t15 km/h\\t↑\\t71%\\t1005 mbar\\tN/A'\n",
       "38. '6:00 p.m.\\t\\t8 °C\\tPartly sunny.\\t24 km/h\\t↑\\t76%\\t1005 mbar\\tN/A'\n",
       "39. '5:30 p.m.\\t\\t8 °C\\tLight rain. Partly sunny.\\t26 km/h\\t↑\\t82%\\t1004 mbar\\tN/A'\n",
       "40. '5:00 p.m.\\t\\t9 °C\\tMostly cloudy.\\t30 km/h\\t↑\\t82%\\t1004 mbar\\tN/A'\n",
       "41. 'Weather by CustomWeather, © 2022'\n",
       "\n",
       "\n"
      ],
      "text/plain": [
       " [1] \" \\tTemperature\\tHumidity\\tPressure\"                                                         \n",
       " [2] \"High\\t17 °C (27 Sep, 12:30 p.m.)\\t100% (21 Sep, 8:30 p.m.)\\t1030 mbar (21 Sep, 8:30 p.m.)\"  \n",
       " [3] \"Low\\t4 °C (26 Sep, 6:30 a.m.)\\t45% (27 Sep, 2:00 p.m.)\\t999 mbar (3 Oct, 6:00 a.m.)\"        \n",
       " [4] \"Average\\t11 °C\\t83%\\t1018 mbar\"                                                             \n",
       " [5] \"* Reported 21 Sep 2:00 p.m. — 6 Oct 3:30 p.m., Wellington. Weather by CustomWeather, © 2022\"\n",
       " [6] \" \\tConditions\\tComfort\\t \\t \"                                                               \n",
       " [7] \"Time\\t \\tTemp\\tWeather\\tWind\\t \\tHumidity\\tBarometer\\tVisibility\"                           \n",
       " [8] \"3:30 p.m.\\nThu, 6 Oct\\t\\t10 °C\\tCool.\\t43 km/h\\t↑\\t47%\\t1017 mbar\\tN/A\"                     \n",
       " [9] \"3:00 p.m.\\t\\t9 °C\\tCool.\\t44 km/h\\t↑\\t54%\\t1017 mbar\\tN/A\"                                  \n",
       "[10] \"2:30 p.m.\\t\\t9 °C\\tCool.\\t48 km/h\\t↑\\t50%\\t1017 mbar\\tN/A\"                                  \n",
       "[11] \"2:00 p.m.\\t\\t9 °C\\tCool.\\t44 km/h\\t↑\\t54%\\t1017 mbar\\tN/A\"                                  \n",
       "[12] \"12:30 p.m.\\t\\t8 °C\\tCool.\\t44 km/h\\t↑\\t57%\\t1017 mbar\\tN/A\"                                 \n",
       "[13] \"12:00 p.m.\\t\\t8 °C\\tScattered clouds.\\t48 km/h\\t↑\\t53%\\t1017 mbar\\tN/A\"                     \n",
       "[14] \"11:00 a.m.\\t\\t7 °C\\tScattered clouds.\\t48 km/h\\t↑\\t61%\\t1017 mbar\\tN/A\"                     \n",
       "[15] \"10:30 a.m.\\t\\t7 °C\\tPartly sunny.\\t50 km/h\\t↑\\t57%\\t1016 mbar\\tN/A\"                         \n",
       "[16] \"9:00 a.m.\\t\\t7 °C\\tMostly cloudy.\\t50 km/h\\t↑\\t61%\\t1015 mbar\\t6 km\"                        \n",
       "[17] \"7:30 a.m.\\t\\t6 °C\\tPartly sunny.\\t57 km/h\\t↑\\t71%\\t1013 mbar\\t7 km\"                         \n",
       "[18] \"7:00 a.m.\\t\\t7 °C\\tPartly sunny.\\t54 km/h\\t↑\\t71%\\t1013 mbar\\t9 km\"                         \n",
       "[19] \"6:30 a.m.\\t\\t7 °C\\tPassing clouds.\\t57 km/h\\t↑\\t61%\\t1012 mbar\\t9 km\"                       \n",
       "[20] \"6:00 a.m.\\t\\t7 °C\\tOvercast.\\t57 km/h\\t↑\\t61%\\t1012 mbar\\tN/A\"                              \n",
       "[21] \"5:30 a.m.\\t\\t7 °C\\tPassing clouds.\\t57 km/h\\t↑\\t61%\\t1011 mbar\\tN/A\"                        \n",
       "[22] \"5:00 a.m.\\t\\t7 °C\\tPassing clouds.\\t57 km/h\\t↑\\t57%\\t1011 mbar\\tN/A\"                        \n",
       "[23] \"4:30 a.m.\\t\\t7 °C\\tMostly cloudy.\\t56 km/h\\t↑\\t61%\\t1011 mbar\\tN/A\"                         \n",
       "[24] \"4:00 a.m.\\t\\t7 °C\\tPassing clouds.\\t57 km/h\\t↑\\t61%\\t1011 mbar\\tN/A\"                        \n",
       "[25] \"3:30 a.m.\\t\\t7 °C\\tMostly cloudy.\\t52 km/h\\t↑\\t66%\\t1011 mbar\\tN/A\"                         \n",
       "[26] \"3:00 a.m.\\t\\t6 °C\\tMostly cloudy.\\t50 km/h\\t↑\\t81%\\t1011 mbar\\tN/A\"                         \n",
       "[27] \"2:30 a.m.\\t\\t6 °C\\tLight rain. Partly cloudy.\\t56 km/h\\t↑\\t87%\\t1011 mbar\\t9 km\"            \n",
       "[28] \"2:00 a.m.\\t\\t6 °C\\tLight rain. Partly cloudy.\\t52 km/h\\t↑\\t81%\\t1010 mbar\\tN/A\"             \n",
       "[29] \"1:30 a.m.\\t\\t6 °C\\tPassing clouds.\\t50 km/h\\t↑\\t81%\\t1010 mbar\\tN/A\"                        \n",
       "[30] \"12:30 a.m.\\t\\t6 °C\\tLight rain. Overcast.\\t54 km/h\\t↑\\t93%\\t1009 mbar\\t5 km\"                \n",
       "[31] \"12:00 a.m.\\t\\t6 °C\\tRain. Fog.\\t52 km/h\\t↑\\t93%\\t1009 mbar\\t2 km\"                           \n",
       "[32] \"10:30 p.m.\\nWed, 5 Oct\\t\\t7 °C\\tPartly cloudy.\\t6 km/h\\t↑\\t81%\\t1006 mbar\\tN/A\"             \n",
       "[33] \"10:00 p.m.\\t\\t7 °C\\tPassing clouds.\\t4 km/h\\t↑\\t81%\\t1006 mbar\\tN/A\"                        \n",
       "[34] \"9:30 p.m.\\t\\t7 °C\\tPassing clouds.\\t6 km/h\\t↑\\t81%\\t1006 mbar\\tN/A\"                         \n",
       "[35] \"8:30 p.m.\\t\\t8 °C\\tPassing clouds.\\t6 km/h\\t↑\\t76%\\t1005 mbar\\tN/A\"                         \n",
       "[36] \"8:00 p.m.\\t\\t8 °C\\tPartly cloudy.\\t9 km/h\\t↑\\t66%\\t1005 mbar\\tN/A\"                          \n",
       "[37] \"7:30 p.m.\\t\\t8 °C\\tPartly cloudy.\\t15 km/h\\t↑\\t71%\\t1005 mbar\\tN/A\"                         \n",
       "[38] \"6:00 p.m.\\t\\t8 °C\\tPartly sunny.\\t24 km/h\\t↑\\t76%\\t1005 mbar\\tN/A\"                          \n",
       "[39] \"5:30 p.m.\\t\\t8 °C\\tLight rain. Partly sunny.\\t26 km/h\\t↑\\t82%\\t1004 mbar\\tN/A\"              \n",
       "[40] \"5:00 p.m.\\t\\t9 °C\\tMostly cloudy.\\t30 km/h\\t↑\\t82%\\t1004 mbar\\tN/A\"                         \n",
       "[41] \"Weather by CustomWeather, © 2022\"                                                           "
      ]
     },
     "metadata": {},
     "output_type": "display_data"
    }
   ],
   "source": [
    "table_title <- weather_html %>% html_elements('tr') %>% html_text2()\n",
    "table_title"
   ]
  },
  {
   "cell_type": "code",
   "execution_count": 21,
   "id": "2d9ec49d-5f85-49a4-8cb8-9142528e1135",
   "metadata": {},
   "outputs": [
    {
     "data": {
      "text/html": [
       "<table class=\"dataframe\">\n",
       "<caption>A tibble: 41 × 1</caption>\n",
       "<thead>\n",
       "\t<tr><th scope=col>title</th></tr>\n",
       "\t<tr><th scope=col>&lt;chr&gt;</th></tr>\n",
       "</thead>\n",
       "<tbody>\n",
       "\t<tr><td> \tTemperature\tHumidity\tPressure                                                         </td></tr>\n",
       "\t<tr><td>High\t17 °C (27 Sep, 12:30 p.m.)\t100% (21 Sep, 8:30 p.m.)\t1030 mbar (21 Sep, 8:30 p.m.)  </td></tr>\n",
       "\t<tr><td>Low\t4 °C (26 Sep, 6:30 a.m.)\t45% (27 Sep, 2:00 p.m.)\t999 mbar (3 Oct, 6:00 a.m.)        </td></tr>\n",
       "\t<tr><td>Average\t11 °C\t83%\t1018 mbar                                                             </td></tr>\n",
       "\t<tr><td>* Reported 21 Sep 2:00 p.m. — 6 Oct 3:30 p.m., Wellington. Weather by CustomWeather, © 2022</td></tr>\n",
       "\t<tr><td> \tConditions\tComfort\t \t                                                                </td></tr>\n",
       "\t<tr><td>Time\t \tTemp\tWeather\tWind\t \tHumidity\tBarometer\tVisibility                           </td></tr>\n",
       "\t<tr><td>3:30 p.m.\n",
       "Thu, 6 Oct\t\t10 °C\tCool.\t43 km/h\t↑\t47%\t1017 mbar\tN/A                     </td></tr>\n",
       "\t<tr><td>3:00 p.m.\t\t9 °C\tCool.\t44 km/h\t↑\t54%\t1017 mbar\tN/A                                  </td></tr>\n",
       "\t<tr><td>2:30 p.m.\t\t9 °C\tCool.\t48 km/h\t↑\t50%\t1017 mbar\tN/A                                  </td></tr>\n",
       "\t<tr><td>2:00 p.m.\t\t9 °C\tCool.\t44 km/h\t↑\t54%\t1017 mbar\tN/A                                  </td></tr>\n",
       "\t<tr><td>12:30 p.m.\t\t8 °C\tCool.\t44 km/h\t↑\t57%\t1017 mbar\tN/A                                 </td></tr>\n",
       "\t<tr><td>12:00 p.m.\t\t8 °C\tScattered clouds.\t48 km/h\t↑\t53%\t1017 mbar\tN/A                     </td></tr>\n",
       "\t<tr><td>11:00 a.m.\t\t7 °C\tScattered clouds.\t48 km/h\t↑\t61%\t1017 mbar\tN/A                     </td></tr>\n",
       "\t<tr><td>10:30 a.m.\t\t7 °C\tPartly sunny.\t50 km/h\t↑\t57%\t1016 mbar\tN/A                         </td></tr>\n",
       "\t<tr><td>9:00 a.m.\t\t7 °C\tMostly cloudy.\t50 km/h\t↑\t61%\t1015 mbar\t6 km                        </td></tr>\n",
       "\t<tr><td>7:30 a.m.\t\t6 °C\tPartly sunny.\t57 km/h\t↑\t71%\t1013 mbar\t7 km                         </td></tr>\n",
       "\t<tr><td>7:00 a.m.\t\t7 °C\tPartly sunny.\t54 km/h\t↑\t71%\t1013 mbar\t9 km                         </td></tr>\n",
       "\t<tr><td>6:30 a.m.\t\t7 °C\tPassing clouds.\t57 km/h\t↑\t61%\t1012 mbar\t9 km                       </td></tr>\n",
       "\t<tr><td>6:00 a.m.\t\t7 °C\tOvercast.\t57 km/h\t↑\t61%\t1012 mbar\tN/A                              </td></tr>\n",
       "\t<tr><td>5:30 a.m.\t\t7 °C\tPassing clouds.\t57 km/h\t↑\t61%\t1011 mbar\tN/A                        </td></tr>\n",
       "\t<tr><td>5:00 a.m.\t\t7 °C\tPassing clouds.\t57 km/h\t↑\t57%\t1011 mbar\tN/A                        </td></tr>\n",
       "\t<tr><td>4:30 a.m.\t\t7 °C\tMostly cloudy.\t56 km/h\t↑\t61%\t1011 mbar\tN/A                         </td></tr>\n",
       "\t<tr><td>4:00 a.m.\t\t7 °C\tPassing clouds.\t57 km/h\t↑\t61%\t1011 mbar\tN/A                        </td></tr>\n",
       "\t<tr><td>3:30 a.m.\t\t7 °C\tMostly cloudy.\t52 km/h\t↑\t66%\t1011 mbar\tN/A                         </td></tr>\n",
       "\t<tr><td>3:00 a.m.\t\t6 °C\tMostly cloudy.\t50 km/h\t↑\t81%\t1011 mbar\tN/A                         </td></tr>\n",
       "\t<tr><td>2:30 a.m.\t\t6 °C\tLight rain. Partly cloudy.\t56 km/h\t↑\t87%\t1011 mbar\t9 km            </td></tr>\n",
       "\t<tr><td>2:00 a.m.\t\t6 °C\tLight rain. Partly cloudy.\t52 km/h\t↑\t81%\t1010 mbar\tN/A             </td></tr>\n",
       "\t<tr><td>1:30 a.m.\t\t6 °C\tPassing clouds.\t50 km/h\t↑\t81%\t1010 mbar\tN/A                        </td></tr>\n",
       "\t<tr><td>12:30 a.m.\t\t6 °C\tLight rain. Overcast.\t54 km/h\t↑\t93%\t1009 mbar\t5 km                </td></tr>\n",
       "\t<tr><td>12:00 a.m.\t\t6 °C\tRain. Fog.\t52 km/h\t↑\t93%\t1009 mbar\t2 km                           </td></tr>\n",
       "\t<tr><td>10:30 p.m.\n",
       "Wed, 5 Oct\t\t7 °C\tPartly cloudy.\t6 km/h\t↑\t81%\t1006 mbar\tN/A             </td></tr>\n",
       "\t<tr><td>10:00 p.m.\t\t7 °C\tPassing clouds.\t4 km/h\t↑\t81%\t1006 mbar\tN/A                        </td></tr>\n",
       "\t<tr><td>9:30 p.m.\t\t7 °C\tPassing clouds.\t6 km/h\t↑\t81%\t1006 mbar\tN/A                         </td></tr>\n",
       "\t<tr><td>8:30 p.m.\t\t8 °C\tPassing clouds.\t6 km/h\t↑\t76%\t1005 mbar\tN/A                         </td></tr>\n",
       "\t<tr><td>8:00 p.m.\t\t8 °C\tPartly cloudy.\t9 km/h\t↑\t66%\t1005 mbar\tN/A                          </td></tr>\n",
       "\t<tr><td>7:30 p.m.\t\t8 °C\tPartly cloudy.\t15 km/h\t↑\t71%\t1005 mbar\tN/A                         </td></tr>\n",
       "\t<tr><td>6:00 p.m.\t\t8 °C\tPartly sunny.\t24 km/h\t↑\t76%\t1005 mbar\tN/A                          </td></tr>\n",
       "\t<tr><td>5:30 p.m.\t\t8 °C\tLight rain. Partly sunny.\t26 km/h\t↑\t82%\t1004 mbar\tN/A              </td></tr>\n",
       "\t<tr><td>5:00 p.m.\t\t9 °C\tMostly cloudy.\t30 km/h\t↑\t82%\t1004 mbar\tN/A                         </td></tr>\n",
       "\t<tr><td>Weather by CustomWeather, © 2022                                                           </td></tr>\n",
       "</tbody>\n",
       "</table>\n"
      ],
      "text/latex": [
       "A tibble: 41 × 1\n",
       "\\begin{tabular}{l}\n",
       " title\\\\\n",
       " <chr>\\\\\n",
       "\\hline\n",
       "\t  \tTemperature\tHumidity\tPressure                                                         \\\\\n",
       "\t High\t17 °C (27 Sep, 12:30 p.m.)\t100\\% (21 Sep, 8:30 p.m.)\t1030 mbar (21 Sep, 8:30 p.m.)  \\\\\n",
       "\t Low\t4 °C (26 Sep, 6:30 a.m.)\t45\\% (27 Sep, 2:00 p.m.)\t999 mbar (3 Oct, 6:00 a.m.)        \\\\\n",
       "\t Average\t11 °C\t83\\%\t1018 mbar                                                             \\\\\n",
       "\t * Reported 21 Sep 2:00 p.m. — 6 Oct 3:30 p.m., Wellington. Weather by CustomWeather, © 2022\\\\\n",
       "\t  \tConditions\tComfort\t \t                                                                \\\\\n",
       "\t Time\t \tTemp\tWeather\tWind\t \tHumidity\tBarometer\tVisibility                           \\\\\n",
       "\t 3:30 p.m.\n",
       "Thu, 6 Oct\t\t10 °C\tCool.\t43 km/h\t↑\t47\\%\t1017 mbar\tN/A                     \\\\\n",
       "\t 3:00 p.m.\t\t9 °C\tCool.\t44 km/h\t↑\t54\\%\t1017 mbar\tN/A                                  \\\\\n",
       "\t 2:30 p.m.\t\t9 °C\tCool.\t48 km/h\t↑\t50\\%\t1017 mbar\tN/A                                  \\\\\n",
       "\t 2:00 p.m.\t\t9 °C\tCool.\t44 km/h\t↑\t54\\%\t1017 mbar\tN/A                                  \\\\\n",
       "\t 12:30 p.m.\t\t8 °C\tCool.\t44 km/h\t↑\t57\\%\t1017 mbar\tN/A                                 \\\\\n",
       "\t 12:00 p.m.\t\t8 °C\tScattered clouds.\t48 km/h\t↑\t53\\%\t1017 mbar\tN/A                     \\\\\n",
       "\t 11:00 a.m.\t\t7 °C\tScattered clouds.\t48 km/h\t↑\t61\\%\t1017 mbar\tN/A                     \\\\\n",
       "\t 10:30 a.m.\t\t7 °C\tPartly sunny.\t50 km/h\t↑\t57\\%\t1016 mbar\tN/A                         \\\\\n",
       "\t 9:00 a.m.\t\t7 °C\tMostly cloudy.\t50 km/h\t↑\t61\\%\t1015 mbar\t6 km                        \\\\\n",
       "\t 7:30 a.m.\t\t6 °C\tPartly sunny.\t57 km/h\t↑\t71\\%\t1013 mbar\t7 km                         \\\\\n",
       "\t 7:00 a.m.\t\t7 °C\tPartly sunny.\t54 km/h\t↑\t71\\%\t1013 mbar\t9 km                         \\\\\n",
       "\t 6:30 a.m.\t\t7 °C\tPassing clouds.\t57 km/h\t↑\t61\\%\t1012 mbar\t9 km                       \\\\\n",
       "\t 6:00 a.m.\t\t7 °C\tOvercast.\t57 km/h\t↑\t61\\%\t1012 mbar\tN/A                              \\\\\n",
       "\t 5:30 a.m.\t\t7 °C\tPassing clouds.\t57 km/h\t↑\t61\\%\t1011 mbar\tN/A                        \\\\\n",
       "\t 5:00 a.m.\t\t7 °C\tPassing clouds.\t57 km/h\t↑\t57\\%\t1011 mbar\tN/A                        \\\\\n",
       "\t 4:30 a.m.\t\t7 °C\tMostly cloudy.\t56 km/h\t↑\t61\\%\t1011 mbar\tN/A                         \\\\\n",
       "\t 4:00 a.m.\t\t7 °C\tPassing clouds.\t57 km/h\t↑\t61\\%\t1011 mbar\tN/A                        \\\\\n",
       "\t 3:30 a.m.\t\t7 °C\tMostly cloudy.\t52 km/h\t↑\t66\\%\t1011 mbar\tN/A                         \\\\\n",
       "\t 3:00 a.m.\t\t6 °C\tMostly cloudy.\t50 km/h\t↑\t81\\%\t1011 mbar\tN/A                         \\\\\n",
       "\t 2:30 a.m.\t\t6 °C\tLight rain. Partly cloudy.\t56 km/h\t↑\t87\\%\t1011 mbar\t9 km            \\\\\n",
       "\t 2:00 a.m.\t\t6 °C\tLight rain. Partly cloudy.\t52 km/h\t↑\t81\\%\t1010 mbar\tN/A             \\\\\n",
       "\t 1:30 a.m.\t\t6 °C\tPassing clouds.\t50 km/h\t↑\t81\\%\t1010 mbar\tN/A                        \\\\\n",
       "\t 12:30 a.m.\t\t6 °C\tLight rain. Overcast.\t54 km/h\t↑\t93\\%\t1009 mbar\t5 km                \\\\\n",
       "\t 12:00 a.m.\t\t6 °C\tRain. Fog.\t52 km/h\t↑\t93\\%\t1009 mbar\t2 km                           \\\\\n",
       "\t 10:30 p.m.\n",
       "Wed, 5 Oct\t\t7 °C\tPartly cloudy.\t6 km/h\t↑\t81\\%\t1006 mbar\tN/A             \\\\\n",
       "\t 10:00 p.m.\t\t7 °C\tPassing clouds.\t4 km/h\t↑\t81\\%\t1006 mbar\tN/A                        \\\\\n",
       "\t 9:30 p.m.\t\t7 °C\tPassing clouds.\t6 km/h\t↑\t81\\%\t1006 mbar\tN/A                         \\\\\n",
       "\t 8:30 p.m.\t\t8 °C\tPassing clouds.\t6 km/h\t↑\t76\\%\t1005 mbar\tN/A                         \\\\\n",
       "\t 8:00 p.m.\t\t8 °C\tPartly cloudy.\t9 km/h\t↑\t66\\%\t1005 mbar\tN/A                          \\\\\n",
       "\t 7:30 p.m.\t\t8 °C\tPartly cloudy.\t15 km/h\t↑\t71\\%\t1005 mbar\tN/A                         \\\\\n",
       "\t 6:00 p.m.\t\t8 °C\tPartly sunny.\t24 km/h\t↑\t76\\%\t1005 mbar\tN/A                          \\\\\n",
       "\t 5:30 p.m.\t\t8 °C\tLight rain. Partly sunny.\t26 km/h\t↑\t82\\%\t1004 mbar\tN/A              \\\\\n",
       "\t 5:00 p.m.\t\t9 °C\tMostly cloudy.\t30 km/h\t↑\t82\\%\t1004 mbar\tN/A                         \\\\\n",
       "\t Weather by CustomWeather, © 2022                                                           \\\\\n",
       "\\end{tabular}\n"
      ],
      "text/markdown": [
       "\n",
       "A tibble: 41 × 1\n",
       "\n",
       "| title &lt;chr&gt; |\n",
       "|---|\n",
       "|  \tTemperature\tHumidity\tPressure                                                          |\n",
       "| High\t17 °C (27 Sep, 12:30 p.m.)\t100% (21 Sep, 8:30 p.m.)\t1030 mbar (21 Sep, 8:30 p.m.)   |\n",
       "| Low\t4 °C (26 Sep, 6:30 a.m.)\t45% (27 Sep, 2:00 p.m.)\t999 mbar (3 Oct, 6:00 a.m.)         |\n",
       "| Average\t11 °C\t83%\t1018 mbar                                                              |\n",
       "| * Reported 21 Sep 2:00 p.m. — 6 Oct 3:30 p.m., Wellington. Weather by CustomWeather, © 2022 |\n",
       "|  \tConditions\tComfort\t \t                                                                 |\n",
       "| Time\t \tTemp\tWeather\tWind\t \tHumidity\tBarometer\tVisibility                            |\n",
       "| 3:30 p.m.\n",
       "Thu, 6 Oct\t\t10 °C\tCool.\t43 km/h\t↑\t47%\t1017 mbar\tN/A                      |\n",
       "| 3:00 p.m.\t\t9 °C\tCool.\t44 km/h\t↑\t54%\t1017 mbar\tN/A                                   |\n",
       "| 2:30 p.m.\t\t9 °C\tCool.\t48 km/h\t↑\t50%\t1017 mbar\tN/A                                   |\n",
       "| 2:00 p.m.\t\t9 °C\tCool.\t44 km/h\t↑\t54%\t1017 mbar\tN/A                                   |\n",
       "| 12:30 p.m.\t\t8 °C\tCool.\t44 km/h\t↑\t57%\t1017 mbar\tN/A                                  |\n",
       "| 12:00 p.m.\t\t8 °C\tScattered clouds.\t48 km/h\t↑\t53%\t1017 mbar\tN/A                      |\n",
       "| 11:00 a.m.\t\t7 °C\tScattered clouds.\t48 km/h\t↑\t61%\t1017 mbar\tN/A                      |\n",
       "| 10:30 a.m.\t\t7 °C\tPartly sunny.\t50 km/h\t↑\t57%\t1016 mbar\tN/A                          |\n",
       "| 9:00 a.m.\t\t7 °C\tMostly cloudy.\t50 km/h\t↑\t61%\t1015 mbar\t6 km                         |\n",
       "| 7:30 a.m.\t\t6 °C\tPartly sunny.\t57 km/h\t↑\t71%\t1013 mbar\t7 km                          |\n",
       "| 7:00 a.m.\t\t7 °C\tPartly sunny.\t54 km/h\t↑\t71%\t1013 mbar\t9 km                          |\n",
       "| 6:30 a.m.\t\t7 °C\tPassing clouds.\t57 km/h\t↑\t61%\t1012 mbar\t9 km                        |\n",
       "| 6:00 a.m.\t\t7 °C\tOvercast.\t57 km/h\t↑\t61%\t1012 mbar\tN/A                               |\n",
       "| 5:30 a.m.\t\t7 °C\tPassing clouds.\t57 km/h\t↑\t61%\t1011 mbar\tN/A                         |\n",
       "| 5:00 a.m.\t\t7 °C\tPassing clouds.\t57 km/h\t↑\t57%\t1011 mbar\tN/A                         |\n",
       "| 4:30 a.m.\t\t7 °C\tMostly cloudy.\t56 km/h\t↑\t61%\t1011 mbar\tN/A                          |\n",
       "| 4:00 a.m.\t\t7 °C\tPassing clouds.\t57 km/h\t↑\t61%\t1011 mbar\tN/A                         |\n",
       "| 3:30 a.m.\t\t7 °C\tMostly cloudy.\t52 km/h\t↑\t66%\t1011 mbar\tN/A                          |\n",
       "| 3:00 a.m.\t\t6 °C\tMostly cloudy.\t50 km/h\t↑\t81%\t1011 mbar\tN/A                          |\n",
       "| 2:30 a.m.\t\t6 °C\tLight rain. Partly cloudy.\t56 km/h\t↑\t87%\t1011 mbar\t9 km             |\n",
       "| 2:00 a.m.\t\t6 °C\tLight rain. Partly cloudy.\t52 km/h\t↑\t81%\t1010 mbar\tN/A              |\n",
       "| 1:30 a.m.\t\t6 °C\tPassing clouds.\t50 km/h\t↑\t81%\t1010 mbar\tN/A                         |\n",
       "| 12:30 a.m.\t\t6 °C\tLight rain. Overcast.\t54 km/h\t↑\t93%\t1009 mbar\t5 km                 |\n",
       "| 12:00 a.m.\t\t6 °C\tRain. Fog.\t52 km/h\t↑\t93%\t1009 mbar\t2 km                            |\n",
       "| 10:30 p.m.\n",
       "Wed, 5 Oct\t\t7 °C\tPartly cloudy.\t6 km/h\t↑\t81%\t1006 mbar\tN/A              |\n",
       "| 10:00 p.m.\t\t7 °C\tPassing clouds.\t4 km/h\t↑\t81%\t1006 mbar\tN/A                         |\n",
       "| 9:30 p.m.\t\t7 °C\tPassing clouds.\t6 km/h\t↑\t81%\t1006 mbar\tN/A                          |\n",
       "| 8:30 p.m.\t\t8 °C\tPassing clouds.\t6 km/h\t↑\t76%\t1005 mbar\tN/A                          |\n",
       "| 8:00 p.m.\t\t8 °C\tPartly cloudy.\t9 km/h\t↑\t66%\t1005 mbar\tN/A                           |\n",
       "| 7:30 p.m.\t\t8 °C\tPartly cloudy.\t15 km/h\t↑\t71%\t1005 mbar\tN/A                          |\n",
       "| 6:00 p.m.\t\t8 °C\tPartly sunny.\t24 km/h\t↑\t76%\t1005 mbar\tN/A                           |\n",
       "| 5:30 p.m.\t\t8 °C\tLight rain. Partly sunny.\t26 km/h\t↑\t82%\t1004 mbar\tN/A               |\n",
       "| 5:00 p.m.\t\t9 °C\tMostly cloudy.\t30 km/h\t↑\t82%\t1004 mbar\tN/A                          |\n",
       "| Weather by CustomWeather, © 2022                                                            |\n",
       "\n"
      ],
      "text/plain": [
       "   title                                                                                      \n",
       "1   \\tTemperature\\tHumidity\\tPressure                                                         \n",
       "2  High\\t17 °C (27 Sep, 12:30 p.m.)\\t100% (21 Sep, 8:30 p.m.)\\t1030 mbar (21 Sep, 8:30 p.m.)  \n",
       "3  Low\\t4 °C (26 Sep, 6:30 a.m.)\\t45% (27 Sep, 2:00 p.m.)\\t999 mbar (3 Oct, 6:00 a.m.)        \n",
       "4  Average\\t11 °C\\t83%\\t1018 mbar                                                             \n",
       "5  * Reported 21 Sep 2:00 p.m. — 6 Oct 3:30 p.m., Wellington. Weather by CustomWeather, © 2022\n",
       "6   \\tConditions\\tComfort\\t \\t                                                                \n",
       "7  Time\\t \\tTemp\\tWeather\\tWind\\t \\tHumidity\\tBarometer\\tVisibility                           \n",
       "8  3:30 p.m.\\nThu, 6 Oct\\t\\t10 °C\\tCool.\\t43 km/h\\t↑\\t47%\\t1017 mbar\\tN/A                     \n",
       "9  3:00 p.m.\\t\\t9 °C\\tCool.\\t44 km/h\\t↑\\t54%\\t1017 mbar\\tN/A                                  \n",
       "10 2:30 p.m.\\t\\t9 °C\\tCool.\\t48 km/h\\t↑\\t50%\\t1017 mbar\\tN/A                                  \n",
       "11 2:00 p.m.\\t\\t9 °C\\tCool.\\t44 km/h\\t↑\\t54%\\t1017 mbar\\tN/A                                  \n",
       "12 12:30 p.m.\\t\\t8 °C\\tCool.\\t44 km/h\\t↑\\t57%\\t1017 mbar\\tN/A                                 \n",
       "13 12:00 p.m.\\t\\t8 °C\\tScattered clouds.\\t48 km/h\\t↑\\t53%\\t1017 mbar\\tN/A                     \n",
       "14 11:00 a.m.\\t\\t7 °C\\tScattered clouds.\\t48 km/h\\t↑\\t61%\\t1017 mbar\\tN/A                     \n",
       "15 10:30 a.m.\\t\\t7 °C\\tPartly sunny.\\t50 km/h\\t↑\\t57%\\t1016 mbar\\tN/A                         \n",
       "16 9:00 a.m.\\t\\t7 °C\\tMostly cloudy.\\t50 km/h\\t↑\\t61%\\t1015 mbar\\t6 km                        \n",
       "17 7:30 a.m.\\t\\t6 °C\\tPartly sunny.\\t57 km/h\\t↑\\t71%\\t1013 mbar\\t7 km                         \n",
       "18 7:00 a.m.\\t\\t7 °C\\tPartly sunny.\\t54 km/h\\t↑\\t71%\\t1013 mbar\\t9 km                         \n",
       "19 6:30 a.m.\\t\\t7 °C\\tPassing clouds.\\t57 km/h\\t↑\\t61%\\t1012 mbar\\t9 km                       \n",
       "20 6:00 a.m.\\t\\t7 °C\\tOvercast.\\t57 km/h\\t↑\\t61%\\t1012 mbar\\tN/A                              \n",
       "21 5:30 a.m.\\t\\t7 °C\\tPassing clouds.\\t57 km/h\\t↑\\t61%\\t1011 mbar\\tN/A                        \n",
       "22 5:00 a.m.\\t\\t7 °C\\tPassing clouds.\\t57 km/h\\t↑\\t57%\\t1011 mbar\\tN/A                        \n",
       "23 4:30 a.m.\\t\\t7 °C\\tMostly cloudy.\\t56 km/h\\t↑\\t61%\\t1011 mbar\\tN/A                         \n",
       "24 4:00 a.m.\\t\\t7 °C\\tPassing clouds.\\t57 km/h\\t↑\\t61%\\t1011 mbar\\tN/A                        \n",
       "25 3:30 a.m.\\t\\t7 °C\\tMostly cloudy.\\t52 km/h\\t↑\\t66%\\t1011 mbar\\tN/A                         \n",
       "26 3:00 a.m.\\t\\t6 °C\\tMostly cloudy.\\t50 km/h\\t↑\\t81%\\t1011 mbar\\tN/A                         \n",
       "27 2:30 a.m.\\t\\t6 °C\\tLight rain. Partly cloudy.\\t56 km/h\\t↑\\t87%\\t1011 mbar\\t9 km            \n",
       "28 2:00 a.m.\\t\\t6 °C\\tLight rain. Partly cloudy.\\t52 km/h\\t↑\\t81%\\t1010 mbar\\tN/A             \n",
       "29 1:30 a.m.\\t\\t6 °C\\tPassing clouds.\\t50 km/h\\t↑\\t81%\\t1010 mbar\\tN/A                        \n",
       "30 12:30 a.m.\\t\\t6 °C\\tLight rain. Overcast.\\t54 km/h\\t↑\\t93%\\t1009 mbar\\t5 km                \n",
       "31 12:00 a.m.\\t\\t6 °C\\tRain. Fog.\\t52 km/h\\t↑\\t93%\\t1009 mbar\\t2 km                           \n",
       "32 10:30 p.m.\\nWed, 5 Oct\\t\\t7 °C\\tPartly cloudy.\\t6 km/h\\t↑\\t81%\\t1006 mbar\\tN/A             \n",
       "33 10:00 p.m.\\t\\t7 °C\\tPassing clouds.\\t4 km/h\\t↑\\t81%\\t1006 mbar\\tN/A                        \n",
       "34 9:30 p.m.\\t\\t7 °C\\tPassing clouds.\\t6 km/h\\t↑\\t81%\\t1006 mbar\\tN/A                         \n",
       "35 8:30 p.m.\\t\\t8 °C\\tPassing clouds.\\t6 km/h\\t↑\\t76%\\t1005 mbar\\tN/A                         \n",
       "36 8:00 p.m.\\t\\t8 °C\\tPartly cloudy.\\t9 km/h\\t↑\\t66%\\t1005 mbar\\tN/A                          \n",
       "37 7:30 p.m.\\t\\t8 °C\\tPartly cloudy.\\t15 km/h\\t↑\\t71%\\t1005 mbar\\tN/A                         \n",
       "38 6:00 p.m.\\t\\t8 °C\\tPartly sunny.\\t24 km/h\\t↑\\t76%\\t1005 mbar\\tN/A                          \n",
       "39 5:30 p.m.\\t\\t8 °C\\tLight rain. Partly sunny.\\t26 km/h\\t↑\\t82%\\t1004 mbar\\tN/A              \n",
       "40 5:00 p.m.\\t\\t9 °C\\tMostly cloudy.\\t30 km/h\\t↑\\t82%\\t1004 mbar\\tN/A                         \n",
       "41 Weather by CustomWeather, © 2022                                                           "
      ]
     },
     "metadata": {},
     "output_type": "display_data"
    }
   ],
   "source": [
    "tibble(title=table_title)"
   ]
  },
  {
   "cell_type": "code",
   "execution_count": 23,
   "id": "0d8b2708-d664-401d-9b71-bc84dfd77027",
   "metadata": {},
   "outputs": [
    {
     "ename": "ERROR",
     "evalue": "Error in library(BeautifulSoap): there is no package called ‘BeautifulSoap’\n",
     "output_type": "error",
     "traceback": [
      "Error in library(BeautifulSoap): there is no package called ‘BeautifulSoap’\nTraceback:\n",
      "1. library(BeautifulSoap)"
     ]
    }
   ],
   "source": [
    "selection_class = 'f3 lh-condensed mb-0 mt-1 Link--primary'"
   ]
  },
  {
   "cell_type": "code",
   "execution_count": null,
   "id": "74a8fa44-f582-45ac-bf84-f43a27219283",
   "metadata": {},
   "outputs": [],
   "source": []
  }
 ],
 "metadata": {
  "kernelspec": {
   "display_name": "R",
   "language": "R",
   "name": "ir"
  },
  "language_info": {
   "codemirror_mode": "r",
   "file_extension": ".r",
   "mimetype": "text/x-r-source",
   "name": "R",
   "pygments_lexer": "r",
   "version": "4.2.1"
  }
 },
 "nbformat": 4,
 "nbformat_minor": 5
}
