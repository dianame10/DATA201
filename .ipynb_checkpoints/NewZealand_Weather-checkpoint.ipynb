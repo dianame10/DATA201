{
 "cells": [
  {
   "cell_type": "code",
   "execution_count": 1,
   "id": "e8471d38-70b8-4ce3-8fd2-63cb7a1dd927",
   "metadata": {},
   "outputs": [
    {
     "name": "stderr",
     "output_type": "stream",
     "text": [
      "── \u001b[1mAttaching packages\u001b[22m ─────────────────────────────────────── tidyverse 1.3.2 ──\n",
      "\u001b[32m✔\u001b[39m \u001b[34mggplot2\u001b[39m 3.3.6     \u001b[32m✔\u001b[39m \u001b[34mpurrr  \u001b[39m 0.3.4\n",
      "\u001b[32m✔\u001b[39m \u001b[34mtibble \u001b[39m 3.1.8     \u001b[32m✔\u001b[39m \u001b[34mdplyr  \u001b[39m 1.0.9\n",
      "\u001b[32m✔\u001b[39m \u001b[34mtidyr  \u001b[39m 1.2.0     \u001b[32m✔\u001b[39m \u001b[34mstringr\u001b[39m 1.4.1\n",
      "\u001b[32m✔\u001b[39m \u001b[34mreadr  \u001b[39m 2.1.2     \u001b[32m✔\u001b[39m \u001b[34mforcats\u001b[39m 0.5.1\n",
      "── \u001b[1mConflicts\u001b[22m ────────────────────────────────────────── tidyverse_conflicts() ──\n",
      "\u001b[31m✖\u001b[39m \u001b[34mdplyr\u001b[39m::\u001b[32mfilter()\u001b[39m masks \u001b[34mstats\u001b[39m::filter()\n",
      "\u001b[31m✖\u001b[39m \u001b[34mdplyr\u001b[39m::\u001b[32mlag()\u001b[39m    masks \u001b[34mstats\u001b[39m::lag()\n"
     ]
    }
   ],
   "source": [
    "library(tidyverse)"
   ]
  },
  {
   "cell_type": "code",
   "execution_count": 2,
   "id": "ae559c3a-7cd4-4a9b-83f4-44025b830ef2",
   "metadata": {},
   "outputs": [
    {
     "name": "stderr",
     "output_type": "stream",
     "text": [
      "\n",
      "Attaching package: ‘magrittr’\n",
      "\n",
      "\n",
      "The following object is masked from ‘package:purrr’:\n",
      "\n",
      "    set_names\n",
      "\n",
      "\n",
      "The following object is masked from ‘package:tidyr’:\n",
      "\n",
      "    extract\n",
      "\n",
      "\n"
     ]
    }
   ],
   "source": [
    "# install.packages(\"magrittr\")\n",
    "# install.packages(\"purrr\")\n",
    "# install.packages(\"glue\")\n",
    "# install.packages(\"stringr\")\n",
    "library(magrittr) # better handling of pipes\n",
    "library(purrr) # to work with lists and map functions\n",
    "library(glue) # to paste strings\n",
    "library(stringr) # to hand strings"
   ]
  },
  {
   "cell_type": "code",
   "execution_count": 3,
   "id": "ab8bb184-0b9c-45ba-ad81-0a04e652d04d",
   "metadata": {},
   "outputs": [
    {
     "name": "stderr",
     "output_type": "stream",
     "text": [
      "\n",
      "Attaching package: ‘rvest’\n",
      "\n",
      "\n",
      "The following object is masked from ‘package:readr’:\n",
      "\n",
      "    guess_encoding\n",
      "\n",
      "\n"
     ]
    }
   ],
   "source": [
    "# install.packages(\"rvest\")\n",
    "# remotes::install_github(\"dmi3kno/polite\")(\"politer\")\n",
    "# install.packages(\"xml2\")\n",
    "library(rvest) # rvest makes scraping easier\n",
    "library(polite) # polite is the \"polite\" version of rvest\n",
    "library(xml2) # makes it easier to work with HTML and XML from R"
   ]
  },
  {
   "cell_type": "code",
   "execution_count": 57,
   "id": "4a8800d3-a5cd-4f19-aeff-1c83c182ab90",
   "metadata": {},
   "outputs": [
    {
     "data": {
      "text/plain": [
       "{html_document}\n",
       "<html>\n",
       "[1] <head>\\n<meta http-equiv=\"Content-Type\" content=\"text/html; charset=UTF-8 ...\n",
       "[2] <body>\\n<div id=\"__next\">\\n<div class=\"jsx-3479055027 browser\"><div class ..."
      ]
     },
     "metadata": {},
     "output_type": "display_data"
    }
   ],
   "source": [
    "auckland_url <- \"https://www.weatherwatch.co.nz/forecasts/Auckland\" \n",
    "wellington_url <- \"https://www.weatherwatch.co.nz/forecasts/Wellington\"\n",
    "hamilton_url <- \"https://www.weatherwatch.co.nz/forecasts/Hamilton\"\n",
    "tauranga_url <- \"https://www.weatherwatch.co.nz/forecasts/tauranga\"\n",
    "christchurch_url <- \"https://www.weatherwatch.co.nz/forecasts/christchurch\"\n",
    "dunedin_url <- \"https://www.weatherwatch.co.nz/forecasts/dunedin\"\n",
    "auckland_html <- read_html(auckland_url)\n",
    "wellington_html <- read_html(wellington_url)\n",
    "hamilton_html <- read_html(hamilton_url)\n",
    "tauranga_html <- read_html(tauranga_url)\n",
    "christchurch_html <- read_html(christchurch_url)\n",
    "dunedin_html <- read_html(dunedin_url)\n",
    "auckland_html"
   ]
  },
  {
   "cell_type": "code",
   "execution_count": 79,
   "id": "0262082d-b06e-4cd9-8bf9-54e173615e13",
   "metadata": {},
   "outputs": [
    {
     "data": {
      "text/html": [
       "'list'"
      ],
      "text/latex": [
       "'list'"
      ],
      "text/markdown": [
       "'list'"
      ],
      "text/plain": [
       "[1] \"list\""
      ]
     },
     "metadata": {},
     "output_type": "display_data"
    },
    {
     "name": "stdout",
     "output_type": "stream",
     "text": [
      "List of 2\n",
      " $ node:<externalptr> \n",
      " $ doc :<externalptr> \n",
      " - attr(*, \"class\")= chr [1:2] \"xml_document\" \"xml_node\"\n"
     ]
    }
   ],
   "source": [
    "auckland_html %>% typeof()\n",
    "auckland_html %>% glimpse()"
   ]
  },
  {
   "cell_type": "code",
   "execution_count": 80,
   "id": "b9c8fdf4-b2c8-437f-84c6-ef749c09bc18",
   "metadata": {},
   "outputs": [
    {
     "data": {
      "text/html": [
       "<style>\n",
       ".list-inline {list-style: none; margin:0; padding: 0}\n",
       ".list-inline>li {display: inline-block}\n",
       ".list-inline>li:not(:last-child)::after {content: \"\\00b7\"; padding: 0 .5ex}\n",
       "</style>\n",
       "<ol class=list-inline><li>'Fri 7 Oct'</li><li>'Sat 8 Oct'</li><li>'Sun 9 Oct'</li><li>'Mon 10 Oct'</li><li>'Tue 11 Oct'</li><li>'Wed 12 Oct'</li><li>'Thu 13 Oct'</li><li>'Fri 14 Oct'</li><li>'Sat 15 Oct'</li></ol>\n"
      ],
      "text/latex": [
       "\\begin{enumerate*}\n",
       "\\item 'Fri 7 Oct'\n",
       "\\item 'Sat 8 Oct'\n",
       "\\item 'Sun 9 Oct'\n",
       "\\item 'Mon 10 Oct'\n",
       "\\item 'Tue 11 Oct'\n",
       "\\item 'Wed 12 Oct'\n",
       "\\item 'Thu 13 Oct'\n",
       "\\item 'Fri 14 Oct'\n",
       "\\item 'Sat 15 Oct'\n",
       "\\end{enumerate*}\n"
      ],
      "text/markdown": [
       "1. 'Fri 7 Oct'\n",
       "2. 'Sat 8 Oct'\n",
       "3. 'Sun 9 Oct'\n",
       "4. 'Mon 10 Oct'\n",
       "5. 'Tue 11 Oct'\n",
       "6. 'Wed 12 Oct'\n",
       "7. 'Thu 13 Oct'\n",
       "8. 'Fri 14 Oct'\n",
       "9. 'Sat 15 Oct'\n",
       "\n",
       "\n"
      ],
      "text/plain": [
       "[1] \"Fri 7 Oct\"  \"Sat 8 Oct\"  \"Sun 9 Oct\"  \"Mon 10 Oct\" \"Tue 11 Oct\"\n",
       "[6] \"Wed 12 Oct\" \"Thu 13 Oct\" \"Fri 14 Oct\" \"Sat 15 Oct\""
      ]
     },
     "metadata": {},
     "output_type": "display_data"
    }
   ],
   "source": [
    "dates <- auckland_html %>% html_nodes(\".date\") %>% html_text()\n",
    "index <- 1:18\n",
    "date <- auckland_dates[index%%2==0]\n",
    "date"
   ]
  },
  {
   "cell_type": "code",
   "execution_count": 81,
   "id": "2a1ed3c9-25db-430b-ab8b-ed3005a21ded",
   "metadata": {},
   "outputs": [
    {
     "data": {
      "text/html": [
       "<style>\n",
       ".list-inline {list-style: none; margin:0; padding: 0}\n",
       ".list-inline>li {display: inline-block}\n",
       ".list-inline>li:not(:last-child)::after {content: \"\\00b7\"; padding: 0 .5ex}\n",
       "</style>\n",
       "<ol class=list-inline><li>'17°Day'</li><li>'17°Day'</li><li>'17°Day'</li><li>'18°Day'</li><li>'18°Day'</li><li>'18°Day'</li><li>'18°Day'</li><li>'17°Day'</li><li>'17°Day'</li></ol>\n"
      ],
      "text/latex": [
       "\\begin{enumerate*}\n",
       "\\item '17°Day'\n",
       "\\item '17°Day'\n",
       "\\item '17°Day'\n",
       "\\item '18°Day'\n",
       "\\item '18°Day'\n",
       "\\item '18°Day'\n",
       "\\item '18°Day'\n",
       "\\item '17°Day'\n",
       "\\item '17°Day'\n",
       "\\end{enumerate*}\n"
      ],
      "text/markdown": [
       "1. '17°Day'\n",
       "2. '17°Day'\n",
       "3. '17°Day'\n",
       "4. '18°Day'\n",
       "5. '18°Day'\n",
       "6. '18°Day'\n",
       "7. '18°Day'\n",
       "8. '17°Day'\n",
       "9. '17°Day'\n",
       "\n",
       "\n"
      ],
      "text/plain": [
       "[1] \"17°Day\" \"17°Day\" \"17°Day\" \"18°Day\" \"18°Day\" \"18°Day\" \"18°Day\" \"17°Day\"\n",
       "[9] \"17°Day\""
      ]
     },
     "metadata": {},
     "output_type": "display_data"
    }
   ],
   "source": [
    "auckland_max_temp <- auckland_html %>% html_nodes(\".high\") %>% html_text()\n",
    "auckland_max_temp"
   ]
  },
  {
   "cell_type": "code",
   "execution_count": 94,
   "id": "d5c09b70-3b85-4908-93ef-7019a4dc87ad",
   "metadata": {},
   "outputs": [
    {
     "data": {
      "text/html": [
       "<style>\n",
       ".list-inline {list-style: none; margin:0; padding: 0}\n",
       ".list-inline>li {display: inline-block}\n",
       ".list-inline>li:not(:last-child)::after {content: \"\\00b7\"; padding: 0 .5ex}\n",
       "</style>\n",
       "<ol class=list-inline><li>'14°Day'</li><li>'14°Day'</li><li>'15°Day'</li><li>'15°Day'</li><li>'14°Day'</li><li>'13°Day'</li><li>'13°Day'</li><li>'15°Day'</li><li>'14°Day'</li></ol>\n"
      ],
      "text/latex": [
       "\\begin{enumerate*}\n",
       "\\item '14°Day'\n",
       "\\item '14°Day'\n",
       "\\item '15°Day'\n",
       "\\item '15°Day'\n",
       "\\item '14°Day'\n",
       "\\item '13°Day'\n",
       "\\item '13°Day'\n",
       "\\item '15°Day'\n",
       "\\item '14°Day'\n",
       "\\end{enumerate*}\n"
      ],
      "text/markdown": [
       "1. '14°Day'\n",
       "2. '14°Day'\n",
       "3. '15°Day'\n",
       "4. '15°Day'\n",
       "5. '14°Day'\n",
       "6. '13°Day'\n",
       "7. '13°Day'\n",
       "8. '15°Day'\n",
       "9. '14°Day'\n",
       "\n",
       "\n"
      ],
      "text/plain": [
       "[1] \"14°Day\" \"14°Day\" \"15°Day\" \"15°Day\" \"14°Day\" \"13°Day\" \"13°Day\" \"15°Day\"\n",
       "[9] \"14°Day\""
      ]
     },
     "metadata": {},
     "output_type": "display_data"
    }
   ],
   "source": [
    "wellington_max_temp <- wellington_html %>% html_nodes(\".high\") %>% html_text()\n",
    "wellington_max_temp"
   ]
  },
  {
   "cell_type": "code",
   "execution_count": 99,
   "id": "678d75b2-a584-4fd8-befb-57cb12fc37ae",
   "metadata": {},
   "outputs": [
    {
     "data": {
      "text/html": [
       "<style>\n",
       ".list-inline {list-style: none; margin:0; padding: 0}\n",
       ".list-inline>li {display: inline-block}\n",
       ".list-inline>li:not(:last-child)::after {content: \"\\00b7\"; padding: 0 .5ex}\n",
       "</style>\n",
       "<ol class=list-inline><li>'18°Day'</li><li>'18°Day'</li><li>'19°Day'</li><li>'19°Day'</li><li>'19°Day'</li><li>'19°Day'</li><li>'19°Day'</li><li>'18°Day'</li><li>'18°Day'</li></ol>\n"
      ],
      "text/latex": [
       "\\begin{enumerate*}\n",
       "\\item '18°Day'\n",
       "\\item '18°Day'\n",
       "\\item '19°Day'\n",
       "\\item '19°Day'\n",
       "\\item '19°Day'\n",
       "\\item '19°Day'\n",
       "\\item '19°Day'\n",
       "\\item '18°Day'\n",
       "\\item '18°Day'\n",
       "\\end{enumerate*}\n"
      ],
      "text/markdown": [
       "1. '18°Day'\n",
       "2. '18°Day'\n",
       "3. '19°Day'\n",
       "4. '19°Day'\n",
       "5. '19°Day'\n",
       "6. '19°Day'\n",
       "7. '19°Day'\n",
       "8. '18°Day'\n",
       "9. '18°Day'\n",
       "\n",
       "\n"
      ],
      "text/plain": [
       "[1] \"18°Day\" \"18°Day\" \"19°Day\" \"19°Day\" \"19°Day\" \"19°Day\" \"19°Day\" \"18°Day\"\n",
       "[9] \"18°Day\""
      ]
     },
     "metadata": {},
     "output_type": "display_data"
    }
   ],
   "source": [
    "hamilton_max_temp <- hamilton_html %>% html_nodes(\".high\") %>% html_text()\n",
    "hamilton_max_temp"
   ]
  },
  {
   "cell_type": "code",
   "execution_count": 100,
   "id": "9ba1bb78-8bd3-4394-80eb-abb09ff98069",
   "metadata": {},
   "outputs": [
    {
     "data": {
      "text/html": [
       "<style>\n",
       ".list-inline {list-style: none; margin:0; padding: 0}\n",
       ".list-inline>li {display: inline-block}\n",
       ".list-inline>li:not(:last-child)::after {content: \"\\00b7\"; padding: 0 .5ex}\n",
       "</style>\n",
       "<ol class=list-inline><li>'16°Day'</li><li>'15°Day'</li><li>'16°Day'</li><li>'17°Day'</li><li>'17°Day'</li><li>'16°Day'</li><li>'17°Day'</li><li>'16°Day'</li><li>'15°Day'</li></ol>\n"
      ],
      "text/latex": [
       "\\begin{enumerate*}\n",
       "\\item '16°Day'\n",
       "\\item '15°Day'\n",
       "\\item '16°Day'\n",
       "\\item '17°Day'\n",
       "\\item '17°Day'\n",
       "\\item '16°Day'\n",
       "\\item '17°Day'\n",
       "\\item '16°Day'\n",
       "\\item '15°Day'\n",
       "\\end{enumerate*}\n"
      ],
      "text/markdown": [
       "1. '16°Day'\n",
       "2. '15°Day'\n",
       "3. '16°Day'\n",
       "4. '17°Day'\n",
       "5. '17°Day'\n",
       "6. '16°Day'\n",
       "7. '17°Day'\n",
       "8. '16°Day'\n",
       "9. '15°Day'\n",
       "\n",
       "\n"
      ],
      "text/plain": [
       "[1] \"16°Day\" \"15°Day\" \"16°Day\" \"17°Day\" \"17°Day\" \"16°Day\" \"17°Day\" \"16°Day\"\n",
       "[9] \"15°Day\""
      ]
     },
     "metadata": {},
     "output_type": "display_data"
    }
   ],
   "source": [
    "tauranga_max_temp <- tauranga_html %>% html_nodes(\".high\") %>% html_text()\n",
    "tauranga_max_temp"
   ]
  },
  {
   "cell_type": "code",
   "execution_count": 101,
   "id": "645c2cd9-8d22-4be6-8702-552594445aba",
   "metadata": {},
   "outputs": [
    {
     "data": {
      "text/html": [
       "<style>\n",
       ".list-inline {list-style: none; margin:0; padding: 0}\n",
       ".list-inline>li {display: inline-block}\n",
       ".list-inline>li:not(:last-child)::after {content: \"\\00b7\"; padding: 0 .5ex}\n",
       "</style>\n",
       "<ol class=list-inline><li>'16°Day'</li><li>'19°Day'</li><li>'19°Day'</li><li>'18°Day'</li><li>'12°Day'</li><li>'13°Day'</li><li>'13°Day'</li><li>'15°Day'</li><li>'15°Day'</li></ol>\n"
      ],
      "text/latex": [
       "\\begin{enumerate*}\n",
       "\\item '16°Day'\n",
       "\\item '19°Day'\n",
       "\\item '19°Day'\n",
       "\\item '18°Day'\n",
       "\\item '12°Day'\n",
       "\\item '13°Day'\n",
       "\\item '13°Day'\n",
       "\\item '15°Day'\n",
       "\\item '15°Day'\n",
       "\\end{enumerate*}\n"
      ],
      "text/markdown": [
       "1. '16°Day'\n",
       "2. '19°Day'\n",
       "3. '19°Day'\n",
       "4. '18°Day'\n",
       "5. '12°Day'\n",
       "6. '13°Day'\n",
       "7. '13°Day'\n",
       "8. '15°Day'\n",
       "9. '15°Day'\n",
       "\n",
       "\n"
      ],
      "text/plain": [
       "[1] \"16°Day\" \"19°Day\" \"19°Day\" \"18°Day\" \"12°Day\" \"13°Day\" \"13°Day\" \"15°Day\"\n",
       "[9] \"15°Day\""
      ]
     },
     "metadata": {},
     "output_type": "display_data"
    }
   ],
   "source": [
    "christchurch_max_temp <- christchurch_html %>% html_nodes(\".high\") %>% html_text()\n",
    "christchurch_max_temp"
   ]
  },
  {
   "cell_type": "code",
   "execution_count": 102,
   "id": "a17cfaf1-b41d-4874-abad-676cfc00067d",
   "metadata": {},
   "outputs": [
    {
     "data": {
      "text/html": [
       "<style>\n",
       ".list-inline {list-style: none; margin:0; padding: 0}\n",
       ".list-inline>li {display: inline-block}\n",
       ".list-inline>li:not(:last-child)::after {content: \"\\00b7\"; padding: 0 .5ex}\n",
       "</style>\n",
       "<ol class=list-inline><li>'14°Day'</li><li>'17°Day'</li><li>'15°Day'</li><li>'13°Day'</li><li>'11°Day'</li><li>'11°Day'</li><li>'12°Day'</li><li>'13°Day'</li><li>'13°Day'</li></ol>\n"
      ],
      "text/latex": [
       "\\begin{enumerate*}\n",
       "\\item '14°Day'\n",
       "\\item '17°Day'\n",
       "\\item '15°Day'\n",
       "\\item '13°Day'\n",
       "\\item '11°Day'\n",
       "\\item '11°Day'\n",
       "\\item '12°Day'\n",
       "\\item '13°Day'\n",
       "\\item '13°Day'\n",
       "\\end{enumerate*}\n"
      ],
      "text/markdown": [
       "1. '14°Day'\n",
       "2. '17°Day'\n",
       "3. '15°Day'\n",
       "4. '13°Day'\n",
       "5. '11°Day'\n",
       "6. '11°Day'\n",
       "7. '12°Day'\n",
       "8. '13°Day'\n",
       "9. '13°Day'\n",
       "\n",
       "\n"
      ],
      "text/plain": [
       "[1] \"14°Day\" \"17°Day\" \"15°Day\" \"13°Day\" \"11°Day\" \"11°Day\" \"12°Day\" \"13°Day\"\n",
       "[9] \"13°Day\""
      ]
     },
     "metadata": {},
     "output_type": "display_data"
    }
   ],
   "source": [
    "dunedin_max_temp <- dunedin_html %>% html_nodes(\".high\") %>% html_text()\n",
    "dunedin_max_temp"
   ]
  },
  {
   "cell_type": "code",
   "execution_count": 82,
   "id": "a4cbd1e8-7333-4ebf-bdc4-28f45ba66253",
   "metadata": {},
   "outputs": [
    {
     "data": {
      "text/html": [
       "<style>\n",
       ".list-inline {list-style: none; margin:0; padding: 0}\n",
       ".list-inline>li {display: inline-block}\n",
       ".list-inline>li:not(:last-child)::after {content: \"\\00b7\"; padding: 0 .5ex}\n",
       "</style>\n",
       "<ol class=list-inline><li>'12°Night'</li><li>'13°Night'</li><li>'13°Night'</li><li>'13°Night'</li><li>'13°Night'</li><li>'12°Night'</li><li>'13°Night'</li><li>'13°Night'</li><li>'13°Night'</li></ol>\n"
      ],
      "text/latex": [
       "\\begin{enumerate*}\n",
       "\\item '12°Night'\n",
       "\\item '13°Night'\n",
       "\\item '13°Night'\n",
       "\\item '13°Night'\n",
       "\\item '13°Night'\n",
       "\\item '12°Night'\n",
       "\\item '13°Night'\n",
       "\\item '13°Night'\n",
       "\\item '13°Night'\n",
       "\\end{enumerate*}\n"
      ],
      "text/markdown": [
       "1. '12°Night'\n",
       "2. '13°Night'\n",
       "3. '13°Night'\n",
       "4. '13°Night'\n",
       "5. '13°Night'\n",
       "6. '12°Night'\n",
       "7. '13°Night'\n",
       "8. '13°Night'\n",
       "9. '13°Night'\n",
       "\n",
       "\n"
      ],
      "text/plain": [
       "[1] \"12°Night\" \"13°Night\" \"13°Night\" \"13°Night\" \"13°Night\" \"12°Night\" \"13°Night\"\n",
       "[8] \"13°Night\" \"13°Night\""
      ]
     },
     "metadata": {},
     "output_type": "display_data"
    }
   ],
   "source": [
    "auckland_min_temp <- auckland_html %>% html_nodes(\".low\") %>% html_text()\n",
    "auckland_min_temp"
   ]
  },
  {
   "cell_type": "code",
   "execution_count": 103,
   "id": "c7cab588-8184-48ad-957b-5e00ddbe0638",
   "metadata": {},
   "outputs": [
    {
     "data": {
      "text/html": [
       "<style>\n",
       ".list-inline {list-style: none; margin:0; padding: 0}\n",
       ".list-inline>li {display: inline-block}\n",
       ".list-inline>li:not(:last-child)::after {content: \"\\00b7\"; padding: 0 .5ex}\n",
       "</style>\n",
       "<ol class=list-inline><li>'5°Night'</li><li>'6°Night'</li><li>'9°Night'</li><li>'10°Night'</li><li>'10°Night'</li><li>'8°Night'</li><li>'8°Night'</li><li>'9°Night'</li><li>'9°Night'</li></ol>\n"
      ],
      "text/latex": [
       "\\begin{enumerate*}\n",
       "\\item '5°Night'\n",
       "\\item '6°Night'\n",
       "\\item '9°Night'\n",
       "\\item '10°Night'\n",
       "\\item '10°Night'\n",
       "\\item '8°Night'\n",
       "\\item '8°Night'\n",
       "\\item '9°Night'\n",
       "\\item '9°Night'\n",
       "\\end{enumerate*}\n"
      ],
      "text/markdown": [
       "1. '5°Night'\n",
       "2. '6°Night'\n",
       "3. '9°Night'\n",
       "4. '10°Night'\n",
       "5. '10°Night'\n",
       "6. '8°Night'\n",
       "7. '8°Night'\n",
       "8. '9°Night'\n",
       "9. '9°Night'\n",
       "\n",
       "\n"
      ],
      "text/plain": [
       "[1] \"5°Night\"  \"6°Night\"  \"9°Night\"  \"10°Night\" \"10°Night\" \"8°Night\"  \"8°Night\" \n",
       "[8] \"9°Night\"  \"9°Night\" "
      ]
     },
     "metadata": {},
     "output_type": "display_data"
    }
   ],
   "source": [
    "hamilton_min_temp <- hamilton_html %>% html_nodes(\".low\") %>% html_text()\n",
    "hamilton_min_temp"
   ]
  },
  {
   "cell_type": "code",
   "execution_count": 104,
   "id": "0bb8d39e-51f3-4a4e-aecd-a177b5dd0341",
   "metadata": {},
   "outputs": [
    {
     "data": {
      "text/html": [
       "<style>\n",
       ".list-inline {list-style: none; margin:0; padding: 0}\n",
       ".list-inline>li {display: inline-block}\n",
       ".list-inline>li:not(:last-child)::after {content: \"\\00b7\"; padding: 0 .5ex}\n",
       "</style>\n",
       "<ol class=list-inline><li>'10°Night'</li><li>'11°Night'</li><li>'12°Night'</li><li>'11°Night'</li><li>'11°Night'</li><li>'10°Night'</li><li>'10°Night'</li><li>'11°Night'</li><li>'12°Night'</li></ol>\n"
      ],
      "text/latex": [
       "\\begin{enumerate*}\n",
       "\\item '10°Night'\n",
       "\\item '11°Night'\n",
       "\\item '12°Night'\n",
       "\\item '11°Night'\n",
       "\\item '11°Night'\n",
       "\\item '10°Night'\n",
       "\\item '10°Night'\n",
       "\\item '11°Night'\n",
       "\\item '12°Night'\n",
       "\\end{enumerate*}\n"
      ],
      "text/markdown": [
       "1. '10°Night'\n",
       "2. '11°Night'\n",
       "3. '12°Night'\n",
       "4. '11°Night'\n",
       "5. '11°Night'\n",
       "6. '10°Night'\n",
       "7. '10°Night'\n",
       "8. '11°Night'\n",
       "9. '12°Night'\n",
       "\n",
       "\n"
      ],
      "text/plain": [
       "[1] \"10°Night\" \"11°Night\" \"12°Night\" \"11°Night\" \"11°Night\" \"10°Night\" \"10°Night\"\n",
       "[8] \"11°Night\" \"12°Night\""
      ]
     },
     "metadata": {},
     "output_type": "display_data"
    }
   ],
   "source": [
    "tauranga_min_temp <- tauranga_html %>% html_nodes(\".low\") %>% html_text()\n",
    "tauranga_min_temp"
   ]
  },
  {
   "cell_type": "code",
   "execution_count": 105,
   "id": "e6674cd7-4030-41a7-964f-8402a957ca95",
   "metadata": {},
   "outputs": [
    {
     "data": {
      "text/html": [
       "<style>\n",
       ".list-inline {list-style: none; margin:0; padding: 0}\n",
       ".list-inline>li {display: inline-block}\n",
       ".list-inline>li:not(:last-child)::after {content: \"\\00b7\"; padding: 0 .5ex}\n",
       "</style>\n",
       "<ol class=list-inline><li>'5°Night'</li><li>'8°Night'</li><li>'12°Night'</li><li>'8°Night'</li><li>'6°Night'</li><li>'6°Night'</li><li>'7°Night'</li><li>'8°Night'</li><li>'9°Night'</li></ol>\n"
      ],
      "text/latex": [
       "\\begin{enumerate*}\n",
       "\\item '5°Night'\n",
       "\\item '8°Night'\n",
       "\\item '12°Night'\n",
       "\\item '8°Night'\n",
       "\\item '6°Night'\n",
       "\\item '6°Night'\n",
       "\\item '7°Night'\n",
       "\\item '8°Night'\n",
       "\\item '9°Night'\n",
       "\\end{enumerate*}\n"
      ],
      "text/markdown": [
       "1. '5°Night'\n",
       "2. '8°Night'\n",
       "3. '12°Night'\n",
       "4. '8°Night'\n",
       "5. '6°Night'\n",
       "6. '6°Night'\n",
       "7. '7°Night'\n",
       "8. '8°Night'\n",
       "9. '9°Night'\n",
       "\n",
       "\n"
      ],
      "text/plain": [
       "[1] \"5°Night\"  \"8°Night\"  \"12°Night\" \"8°Night\"  \"6°Night\"  \"6°Night\"  \"7°Night\" \n",
       "[8] \"8°Night\"  \"9°Night\" "
      ]
     },
     "metadata": {},
     "output_type": "display_data"
    }
   ],
   "source": [
    "christchurch_min_temp <- christchurch_html %>% html_nodes(\".low\") %>% html_text()\n",
    "christchurch_min_temp"
   ]
  },
  {
   "cell_type": "code",
   "execution_count": 106,
   "id": "6e1042bc-8f7d-4fcf-b9e4-c5e6c3d74864",
   "metadata": {},
   "outputs": [
    {
     "data": {
      "text/html": [
       "<style>\n",
       ".list-inline {list-style: none; margin:0; padding: 0}\n",
       ".list-inline>li {display: inline-block}\n",
       ".list-inline>li:not(:last-child)::after {content: \"\\00b7\"; padding: 0 .5ex}\n",
       "</style>\n",
       "<ol class=list-inline><li>'6°Night'</li><li>'10°Night'</li><li>'8°Night'</li><li>'5°Night'</li><li>'5°Night'</li><li>'6°Night'</li><li>'6°Night'</li><li>'7°Night'</li><li>'8°Night'</li></ol>\n"
      ],
      "text/latex": [
       "\\begin{enumerate*}\n",
       "\\item '6°Night'\n",
       "\\item '10°Night'\n",
       "\\item '8°Night'\n",
       "\\item '5°Night'\n",
       "\\item '5°Night'\n",
       "\\item '6°Night'\n",
       "\\item '6°Night'\n",
       "\\item '7°Night'\n",
       "\\item '8°Night'\n",
       "\\end{enumerate*}\n"
      ],
      "text/markdown": [
       "1. '6°Night'\n",
       "2. '10°Night'\n",
       "3. '8°Night'\n",
       "4. '5°Night'\n",
       "5. '5°Night'\n",
       "6. '6°Night'\n",
       "7. '6°Night'\n",
       "8. '7°Night'\n",
       "9. '8°Night'\n",
       "\n",
       "\n"
      ],
      "text/plain": [
       "[1] \"6°Night\"  \"10°Night\" \"8°Night\"  \"5°Night\"  \"5°Night\"  \"6°Night\"  \"6°Night\" \n",
       "[8] \"7°Night\"  \"8°Night\" "
      ]
     },
     "metadata": {},
     "output_type": "display_data"
    }
   ],
   "source": [
    "dunedin_min_temp <- dunedin_html %>% html_nodes(\".low\") %>% html_text()\n",
    "dunedin_min_temp"
   ]
  },
  {
   "cell_type": "code",
   "execution_count": 95,
   "id": "7deb635b-f498-416f-853b-71cf7558809d",
   "metadata": {},
   "outputs": [
    {
     "data": {
      "text/html": [
       "<style>\n",
       ".list-inline {list-style: none; margin:0; padding: 0}\n",
       ".list-inline>li {display: inline-block}\n",
       ".list-inline>li:not(:last-child)::after {content: \"\\00b7\"; padding: 0 .5ex}\n",
       "</style>\n",
       "<ol class=list-inline><li>'11°Night'</li><li>'11°Night'</li><li>'13°Night'</li><li>'10°Night'</li><li>'9°Night'</li><li>'9°Night'</li><li>'9°Night'</li><li>'10°Night'</li><li>'10°Night'</li></ol>\n"
      ],
      "text/latex": [
       "\\begin{enumerate*}\n",
       "\\item '11°Night'\n",
       "\\item '11°Night'\n",
       "\\item '13°Night'\n",
       "\\item '10°Night'\n",
       "\\item '9°Night'\n",
       "\\item '9°Night'\n",
       "\\item '9°Night'\n",
       "\\item '10°Night'\n",
       "\\item '10°Night'\n",
       "\\end{enumerate*}\n"
      ],
      "text/markdown": [
       "1. '11°Night'\n",
       "2. '11°Night'\n",
       "3. '13°Night'\n",
       "4. '10°Night'\n",
       "5. '9°Night'\n",
       "6. '9°Night'\n",
       "7. '9°Night'\n",
       "8. '10°Night'\n",
       "9. '10°Night'\n",
       "\n",
       "\n"
      ],
      "text/plain": [
       "[1] \"11°Night\" \"11°Night\" \"13°Night\" \"10°Night\" \"9°Night\"  \"9°Night\"  \"9°Night\" \n",
       "[8] \"10°Night\" \"10°Night\""
      ]
     },
     "metadata": {},
     "output_type": "display_data"
    }
   ],
   "source": [
    "wellington_min_temp <- wellington_html %>% html_nodes(\".low\") %>% html_text()\n",
    "wellington_min_temp"
   ]
  },
  {
   "cell_type": "code",
   "execution_count": 83,
   "id": "a86526e8-ee29-42ab-b859-564142dc7903",
   "metadata": {},
   "outputs": [
    {
     "data": {
      "text/html": [
       "<style>\n",
       ".list-inline {list-style: none; margin:0; padding: 0}\n",
       ".list-inline>li {display: inline-block}\n",
       ".list-inline>li:not(:last-child)::after {content: \"\\00b7\"; padding: 0 .5ex}\n",
       "</style>\n",
       "<ol class=list-inline><li>'Partly cloudy. Fairly breezy Nor\\'East winds.'</li><li>'Partly cloudy. Fairly breezy Nor\\'East winds.'</li><li>'Partly cloudy. Fairly breezy North to Nor\\'East winds.'</li><li>'Afternoon showers. Fairly breezy Northerly winds.'</li><li>'Light rain developing in the afternoon. Breezy North to Nor\\'West winds.'</li><li>'Light rain. Breezy Sou\\'East winds.'</li><li>'Showers. Fairly breezy East to Nor\\'East winds.'</li><li>'Showers. Fairly breezy Nor\\'East winds.'</li><li>'Rain. Fairly breezy Northerly winds.'</li></ol>\n"
      ],
      "text/latex": [
       "\\begin{enumerate*}\n",
       "\\item 'Partly cloudy. Fairly breezy Nor\\textbackslash{}'East winds.'\n",
       "\\item 'Partly cloudy. Fairly breezy Nor\\textbackslash{}'East winds.'\n",
       "\\item 'Partly cloudy. Fairly breezy North to Nor\\textbackslash{}'East winds.'\n",
       "\\item 'Afternoon showers. Fairly breezy Northerly winds.'\n",
       "\\item 'Light rain developing in the afternoon. Breezy North to Nor\\textbackslash{}'West winds.'\n",
       "\\item 'Light rain. Breezy Sou\\textbackslash{}'East winds.'\n",
       "\\item 'Showers. Fairly breezy East to Nor\\textbackslash{}'East winds.'\n",
       "\\item 'Showers. Fairly breezy Nor\\textbackslash{}'East winds.'\n",
       "\\item 'Rain. Fairly breezy Northerly winds.'\n",
       "\\end{enumerate*}\n"
      ],
      "text/markdown": [
       "1. 'Partly cloudy. Fairly breezy Nor\\'East winds.'\n",
       "2. 'Partly cloudy. Fairly breezy Nor\\'East winds.'\n",
       "3. 'Partly cloudy. Fairly breezy North to Nor\\'East winds.'\n",
       "4. 'Afternoon showers. Fairly breezy Northerly winds.'\n",
       "5. 'Light rain developing in the afternoon. Breezy North to Nor\\'West winds.'\n",
       "6. 'Light rain. Breezy Sou\\'East winds.'\n",
       "7. 'Showers. Fairly breezy East to Nor\\'East winds.'\n",
       "8. 'Showers. Fairly breezy Nor\\'East winds.'\n",
       "9. 'Rain. Fairly breezy Northerly winds.'\n",
       "\n",
       "\n"
      ],
      "text/plain": [
       "[1] \"Partly cloudy. Fairly breezy Nor'East winds.\"                           \n",
       "[2] \"Partly cloudy. Fairly breezy Nor'East winds.\"                           \n",
       "[3] \"Partly cloudy. Fairly breezy North to Nor'East winds.\"                  \n",
       "[4] \"Afternoon showers. Fairly breezy Northerly winds.\"                      \n",
       "[5] \"Light rain developing in the afternoon. Breezy North to Nor'West winds.\"\n",
       "[6] \"Light rain. Breezy Sou'East winds.\"                                     \n",
       "[7] \"Showers. Fairly breezy East to Nor'East winds.\"                         \n",
       "[8] \"Showers. Fairly breezy Nor'East winds.\"                                 \n",
       "[9] \"Rain. Fairly breezy Northerly winds.\"                                   "
      ]
     },
     "metadata": {},
     "output_type": "display_data"
    }
   ],
   "source": [
    "weathers <- auckland_html %>% html_nodes(\".larger\") %>% html_text()\n",
    "index <- 1:18\n",
    "auckland_weather <- weathers[index%%2==0]\n",
    "auckland_weather"
   ]
  },
  {
   "cell_type": "code",
   "execution_count": 96,
   "id": "f105f8c9-e7e5-4f02-8f05-df56a9e11d2c",
   "metadata": {},
   "outputs": [
    {
     "data": {
      "text/html": [
       "<style>\n",
       ".list-inline {list-style: none; margin:0; padding: 0}\n",
       ".list-inline>li {display: inline-block}\n",
       ".list-inline>li:not(:last-child)::after {content: \"\\00b7\"; padding: 0 .5ex}\n",
       "</style>\n",
       "<ol class=list-inline><li>'Mainly sunny. Fairly breezy Northerly winds.'</li><li>'Windy and partly cloudy. Brisk North to Nor\\'West winds.'</li><li>'Windy and partly cloudy. Brisk North to Nor\\'West winds.'</li><li>'Windy, with showers. Brisk North to Nor\\'West winds.'</li><li>'Morning showers. Fairly breezy Sou\\'East winds.'</li><li>'Showers. Breezy to brisk South to Sou\\'East winds.'</li><li>'Morning showers. Breezy to brisk South to Sou\\'East winds.'</li><li>'Morning showers. Breezy to brisk Northerly winds.'</li><li>'Windy, with showers. Breezy to brisk Northerly winds.'</li></ol>\n"
      ],
      "text/latex": [
       "\\begin{enumerate*}\n",
       "\\item 'Mainly sunny. Fairly breezy Northerly winds.'\n",
       "\\item 'Windy and partly cloudy. Brisk North to Nor\\textbackslash{}'West winds.'\n",
       "\\item 'Windy and partly cloudy. Brisk North to Nor\\textbackslash{}'West winds.'\n",
       "\\item 'Windy, with showers. Brisk North to Nor\\textbackslash{}'West winds.'\n",
       "\\item 'Morning showers. Fairly breezy Sou\\textbackslash{}'East winds.'\n",
       "\\item 'Showers. Breezy to brisk South to Sou\\textbackslash{}'East winds.'\n",
       "\\item 'Morning showers. Breezy to brisk South to Sou\\textbackslash{}'East winds.'\n",
       "\\item 'Morning showers. Breezy to brisk Northerly winds.'\n",
       "\\item 'Windy, with showers. Breezy to brisk Northerly winds.'\n",
       "\\end{enumerate*}\n"
      ],
      "text/markdown": [
       "1. 'Mainly sunny. Fairly breezy Northerly winds.'\n",
       "2. 'Windy and partly cloudy. Brisk North to Nor\\'West winds.'\n",
       "3. 'Windy and partly cloudy. Brisk North to Nor\\'West winds.'\n",
       "4. 'Windy, with showers. Brisk North to Nor\\'West winds.'\n",
       "5. 'Morning showers. Fairly breezy Sou\\'East winds.'\n",
       "6. 'Showers. Breezy to brisk South to Sou\\'East winds.'\n",
       "7. 'Morning showers. Breezy to brisk South to Sou\\'East winds.'\n",
       "8. 'Morning showers. Breezy to brisk Northerly winds.'\n",
       "9. 'Windy, with showers. Breezy to brisk Northerly winds.'\n",
       "\n",
       "\n"
      ],
      "text/plain": [
       "[1] \"Mainly sunny. Fairly breezy Northerly winds.\"             \n",
       "[2] \"Windy and partly cloudy. Brisk North to Nor'West winds.\"  \n",
       "[3] \"Windy and partly cloudy. Brisk North to Nor'West winds.\"  \n",
       "[4] \"Windy, with showers. Brisk North to Nor'West winds.\"      \n",
       "[5] \"Morning showers. Fairly breezy Sou'East winds.\"           \n",
       "[6] \"Showers. Breezy to brisk South to Sou'East winds.\"        \n",
       "[7] \"Morning showers. Breezy to brisk South to Sou'East winds.\"\n",
       "[8] \"Morning showers. Breezy to brisk Northerly winds.\"        \n",
       "[9] \"Windy, with showers. Breezy to brisk Northerly winds.\"    "
      ]
     },
     "metadata": {},
     "output_type": "display_data"
    }
   ],
   "source": [
    "weathers <- wellington_html %>% html_nodes(\".larger\") %>% html_text()\n",
    "index <- 1:18\n",
    "wellington_weather <- weathers[index%%2==0]\n",
    "wellington_weather"
   ]
  },
  {
   "cell_type": "code",
   "execution_count": 107,
   "id": "0ab9dcb1-06a6-4ec0-829e-1f82e207b052",
   "metadata": {},
   "outputs": [
    {
     "data": {
      "text/html": [
       "<style>\n",
       ".list-inline {list-style: none; margin:0; padding: 0}\n",
       ".list-inline>li {display: inline-block}\n",
       ".list-inline>li:not(:last-child)::after {content: \"\\00b7\"; padding: 0 .5ex}\n",
       "</style>\n",
       "<ol class=list-inline><li>'Partly cloudy. Breezy East to Nor\\'East winds.'</li><li>'Partly cloudy. Fairly breezy East to Nor\\'East winds.'</li><li>'Partly cloudy. Fairly breezy Nor\\'East winds.'</li><li>'Afternoon showers. Breezy North to Nor\\'West winds.'</li><li>'Showers. Light North to Nor\\'West winds.'</li><li>'Light rain. Breezy Sou\\'East winds.'</li><li>'Showers. Fairly breezy East to Sou\\'East winds.'</li><li>'Showers. Fairly breezy East to Nor\\'East winds.'</li><li>'Rain. Fairly breezy North to Nor\\'East winds.'</li></ol>\n"
      ],
      "text/latex": [
       "\\begin{enumerate*}\n",
       "\\item 'Partly cloudy. Breezy East to Nor\\textbackslash{}'East winds.'\n",
       "\\item 'Partly cloudy. Fairly breezy East to Nor\\textbackslash{}'East winds.'\n",
       "\\item 'Partly cloudy. Fairly breezy Nor\\textbackslash{}'East winds.'\n",
       "\\item 'Afternoon showers. Breezy North to Nor\\textbackslash{}'West winds.'\n",
       "\\item 'Showers. Light North to Nor\\textbackslash{}'West winds.'\n",
       "\\item 'Light rain. Breezy Sou\\textbackslash{}'East winds.'\n",
       "\\item 'Showers. Fairly breezy East to Sou\\textbackslash{}'East winds.'\n",
       "\\item 'Showers. Fairly breezy East to Nor\\textbackslash{}'East winds.'\n",
       "\\item 'Rain. Fairly breezy North to Nor\\textbackslash{}'East winds.'\n",
       "\\end{enumerate*}\n"
      ],
      "text/markdown": [
       "1. 'Partly cloudy. Breezy East to Nor\\'East winds.'\n",
       "2. 'Partly cloudy. Fairly breezy East to Nor\\'East winds.'\n",
       "3. 'Partly cloudy. Fairly breezy Nor\\'East winds.'\n",
       "4. 'Afternoon showers. Breezy North to Nor\\'West winds.'\n",
       "5. 'Showers. Light North to Nor\\'West winds.'\n",
       "6. 'Light rain. Breezy Sou\\'East winds.'\n",
       "7. 'Showers. Fairly breezy East to Sou\\'East winds.'\n",
       "8. 'Showers. Fairly breezy East to Nor\\'East winds.'\n",
       "9. 'Rain. Fairly breezy North to Nor\\'East winds.'\n",
       "\n",
       "\n"
      ],
      "text/plain": [
       "[1] \"Partly cloudy. Breezy East to Nor'East winds.\"       \n",
       "[2] \"Partly cloudy. Fairly breezy East to Nor'East winds.\"\n",
       "[3] \"Partly cloudy. Fairly breezy Nor'East winds.\"        \n",
       "[4] \"Afternoon showers. Breezy North to Nor'West winds.\"  \n",
       "[5] \"Showers. Light North to Nor'West winds.\"             \n",
       "[6] \"Light rain. Breezy Sou'East winds.\"                  \n",
       "[7] \"Showers. Fairly breezy East to Sou'East winds.\"      \n",
       "[8] \"Showers. Fairly breezy East to Nor'East winds.\"      \n",
       "[9] \"Rain. Fairly breezy North to Nor'East winds.\"        "
      ]
     },
     "metadata": {},
     "output_type": "display_data"
    }
   ],
   "source": [
    "weathers <- hamilton_html %>% html_nodes(\".larger\") %>% html_text()\n",
    "index <- 1:18\n",
    "hamilton_weather <- weathers[index%%2==0]\n",
    "hamilton_weather"
   ]
  },
  {
   "cell_type": "code",
   "execution_count": 108,
   "id": "af98f55a-c9dc-427a-8680-5f0f6caca13e",
   "metadata": {},
   "outputs": [
    {
     "data": {
      "text/html": [
       "<style>\n",
       ".list-inline {list-style: none; margin:0; padding: 0}\n",
       ".list-inline>li {display: inline-block}\n",
       ".list-inline>li:not(:last-child)::after {content: \"\\00b7\"; padding: 0 .5ex}\n",
       "</style>\n",
       "<ol class=list-inline><li>'Mostly sunny. Light East to Nor\\'East winds.'</li><li>'Mostly cloudy. Breezy East to Nor\\'East winds.'</li><li>'Showers. Breezy North to Nor\\'East winds.'</li><li>'Afternoon showers. Breezy North to Nor\\'West winds.'</li><li>'Showers. Light Northerly winds.'</li><li>'Rain. Light East to Sou\\'East winds.'</li><li>'Partly cloudy. Breezy East to Sou\\'East winds.'</li><li>'Showers. Breezy East to Nor\\'East winds.'</li><li>'Light rain. Breezy Nor\\'East winds.'</li></ol>\n"
      ],
      "text/latex": [
       "\\begin{enumerate*}\n",
       "\\item 'Mostly sunny. Light East to Nor\\textbackslash{}'East winds.'\n",
       "\\item 'Mostly cloudy. Breezy East to Nor\\textbackslash{}'East winds.'\n",
       "\\item 'Showers. Breezy North to Nor\\textbackslash{}'East winds.'\n",
       "\\item 'Afternoon showers. Breezy North to Nor\\textbackslash{}'West winds.'\n",
       "\\item 'Showers. Light Northerly winds.'\n",
       "\\item 'Rain. Light East to Sou\\textbackslash{}'East winds.'\n",
       "\\item 'Partly cloudy. Breezy East to Sou\\textbackslash{}'East winds.'\n",
       "\\item 'Showers. Breezy East to Nor\\textbackslash{}'East winds.'\n",
       "\\item 'Light rain. Breezy Nor\\textbackslash{}'East winds.'\n",
       "\\end{enumerate*}\n"
      ],
      "text/markdown": [
       "1. 'Mostly sunny. Light East to Nor\\'East winds.'\n",
       "2. 'Mostly cloudy. Breezy East to Nor\\'East winds.'\n",
       "3. 'Showers. Breezy North to Nor\\'East winds.'\n",
       "4. 'Afternoon showers. Breezy North to Nor\\'West winds.'\n",
       "5. 'Showers. Light Northerly winds.'\n",
       "6. 'Rain. Light East to Sou\\'East winds.'\n",
       "7. 'Partly cloudy. Breezy East to Sou\\'East winds.'\n",
       "8. 'Showers. Breezy East to Nor\\'East winds.'\n",
       "9. 'Light rain. Breezy Nor\\'East winds.'\n",
       "\n",
       "\n"
      ],
      "text/plain": [
       "[1] \"Mostly sunny. Light East to Nor'East winds.\"       \n",
       "[2] \"Mostly cloudy. Breezy East to Nor'East winds.\"     \n",
       "[3] \"Showers. Breezy North to Nor'East winds.\"          \n",
       "[4] \"Afternoon showers. Breezy North to Nor'West winds.\"\n",
       "[5] \"Showers. Light Northerly winds.\"                   \n",
       "[6] \"Rain. Light East to Sou'East winds.\"               \n",
       "[7] \"Partly cloudy. Breezy East to Sou'East winds.\"     \n",
       "[8] \"Showers. Breezy East to Nor'East winds.\"           \n",
       "[9] \"Light rain. Breezy Nor'East winds.\"                "
      ]
     },
     "metadata": {},
     "output_type": "display_data"
    }
   ],
   "source": [
    "weathers <- tauranga_html %>% html_nodes(\".larger\") %>% html_text()\n",
    "index <- 1:18\n",
    "tauranga_weather <- weathers[index%%2==0]\n",
    "tauranga_weather"
   ]
  },
  {
   "cell_type": "code",
   "execution_count": 109,
   "id": "f80a7a33-822c-4d04-a180-7d7462df70b1",
   "metadata": {},
   "outputs": [
    {
     "data": {
      "text/html": [
       "<style>\n",
       ".list-inline {list-style: none; margin:0; padding: 0}\n",
       ".list-inline>li {display: inline-block}\n",
       ".list-inline>li:not(:last-child)::after {content: \"\\00b7\"; padding: 0 .5ex}\n",
       "</style>\n",
       "<ol class=list-inline><li>'Mainly sunny. Breezy Nor\\'East winds.'</li><li>'A mix of sun and cloud. Breezy Northerly winds.'</li><li>'Mostly cloudy. Fairly breezy Northerly winds.'</li><li>'Partly cloudy. Breezy Nor\\'West winds.'</li><li>'Mostly cloudy. Light Easterly winds.'</li><li>'Morning showers. Light South to Sou\\'East winds.'</li><li>'Partly cloudy. Fairly breezy Nor\\'East winds.'</li><li>'Partly cloudy. Fairly breezy Nor\\'East winds.'</li><li>'Partly cloudy. Fairly breezy Nor\\'East winds.'</li></ol>\n"
      ],
      "text/latex": [
       "\\begin{enumerate*}\n",
       "\\item 'Mainly sunny. Breezy Nor\\textbackslash{}'East winds.'\n",
       "\\item 'A mix of sun and cloud. Breezy Northerly winds.'\n",
       "\\item 'Mostly cloudy. Fairly breezy Northerly winds.'\n",
       "\\item 'Partly cloudy. Breezy Nor\\textbackslash{}'West winds.'\n",
       "\\item 'Mostly cloudy. Light Easterly winds.'\n",
       "\\item 'Morning showers. Light South to Sou\\textbackslash{}'East winds.'\n",
       "\\item 'Partly cloudy. Fairly breezy Nor\\textbackslash{}'East winds.'\n",
       "\\item 'Partly cloudy. Fairly breezy Nor\\textbackslash{}'East winds.'\n",
       "\\item 'Partly cloudy. Fairly breezy Nor\\textbackslash{}'East winds.'\n",
       "\\end{enumerate*}\n"
      ],
      "text/markdown": [
       "1. 'Mainly sunny. Breezy Nor\\'East winds.'\n",
       "2. 'A mix of sun and cloud. Breezy Northerly winds.'\n",
       "3. 'Mostly cloudy. Fairly breezy Northerly winds.'\n",
       "4. 'Partly cloudy. Breezy Nor\\'West winds.'\n",
       "5. 'Mostly cloudy. Light Easterly winds.'\n",
       "6. 'Morning showers. Light South to Sou\\'East winds.'\n",
       "7. 'Partly cloudy. Fairly breezy Nor\\'East winds.'\n",
       "8. 'Partly cloudy. Fairly breezy Nor\\'East winds.'\n",
       "9. 'Partly cloudy. Fairly breezy Nor\\'East winds.'\n",
       "\n",
       "\n"
      ],
      "text/plain": [
       "[1] \"Mainly sunny. Breezy Nor'East winds.\"           \n",
       "[2] \"A mix of sun and cloud. Breezy Northerly winds.\"\n",
       "[3] \"Mostly cloudy. Fairly breezy Northerly winds.\"  \n",
       "[4] \"Partly cloudy. Breezy Nor'West winds.\"          \n",
       "[5] \"Mostly cloudy. Light Easterly winds.\"           \n",
       "[6] \"Morning showers. Light South to Sou'East winds.\"\n",
       "[7] \"Partly cloudy. Fairly breezy Nor'East winds.\"   \n",
       "[8] \"Partly cloudy. Fairly breezy Nor'East winds.\"   \n",
       "[9] \"Partly cloudy. Fairly breezy Nor'East winds.\"   "
      ]
     },
     "metadata": {},
     "output_type": "display_data"
    }
   ],
   "source": [
    "weathers <- christchurch_html %>% html_nodes(\".larger\") %>% html_text()\n",
    "index <- 1:18\n",
    "christchurch_weather <- weathers[index%%2==0]\n",
    "christchurch_weather"
   ]
  },
  {
   "cell_type": "code",
   "execution_count": 110,
   "id": "5f3b3504-2503-47ef-9c4e-37f6797b6a13",
   "metadata": {},
   "outputs": [
    {
     "data": {
      "text/html": [
       "<style>\n",
       ".list-inline {list-style: none; margin:0; padding: 0}\n",
       ".list-inline>li {display: inline-block}\n",
       ".list-inline>li:not(:last-child)::after {content: \"\\00b7\"; padding: 0 .5ex}\n",
       "</style>\n",
       "<ol class=list-inline><li>'Mainly sunny. Breezy North to Nor\\'East winds.'</li><li>'Partly cloudy. Breezy Northerly winds.'</li><li>'Cloudy. Fairly breezy North to Nor\\'East winds.'</li><li>'Light rain developing in the afternoon. Fairly breezy West to Sou\\'West winds.'</li><li>'Partly cloudy. Breezy Sou\\'West winds.'</li><li>'Morning showers. Breezy South to Sou\\'West winds.'</li><li>'Partly cloudy. Fairly breezy Nor\\'East winds.'</li><li>'Afternoon showers. Fairly breezy Nor\\'East winds.'</li><li>'Showers. Fairly breezy North to Nor\\'East winds.'</li></ol>\n"
      ],
      "text/latex": [
       "\\begin{enumerate*}\n",
       "\\item 'Mainly sunny. Breezy North to Nor\\textbackslash{}'East winds.'\n",
       "\\item 'Partly cloudy. Breezy Northerly winds.'\n",
       "\\item 'Cloudy. Fairly breezy North to Nor\\textbackslash{}'East winds.'\n",
       "\\item 'Light rain developing in the afternoon. Fairly breezy West to Sou\\textbackslash{}'West winds.'\n",
       "\\item 'Partly cloudy. Breezy Sou\\textbackslash{}'West winds.'\n",
       "\\item 'Morning showers. Breezy South to Sou\\textbackslash{}'West winds.'\n",
       "\\item 'Partly cloudy. Fairly breezy Nor\\textbackslash{}'East winds.'\n",
       "\\item 'Afternoon showers. Fairly breezy Nor\\textbackslash{}'East winds.'\n",
       "\\item 'Showers. Fairly breezy North to Nor\\textbackslash{}'East winds.'\n",
       "\\end{enumerate*}\n"
      ],
      "text/markdown": [
       "1. 'Mainly sunny. Breezy North to Nor\\'East winds.'\n",
       "2. 'Partly cloudy. Breezy Northerly winds.'\n",
       "3. 'Cloudy. Fairly breezy North to Nor\\'East winds.'\n",
       "4. 'Light rain developing in the afternoon. Fairly breezy West to Sou\\'West winds.'\n",
       "5. 'Partly cloudy. Breezy Sou\\'West winds.'\n",
       "6. 'Morning showers. Breezy South to Sou\\'West winds.'\n",
       "7. 'Partly cloudy. Fairly breezy Nor\\'East winds.'\n",
       "8. 'Afternoon showers. Fairly breezy Nor\\'East winds.'\n",
       "9. 'Showers. Fairly breezy North to Nor\\'East winds.'\n",
       "\n",
       "\n"
      ],
      "text/plain": [
       "[1] \"Mainly sunny. Breezy North to Nor'East winds.\"                                \n",
       "[2] \"Partly cloudy. Breezy Northerly winds.\"                                       \n",
       "[3] \"Cloudy. Fairly breezy North to Nor'East winds.\"                               \n",
       "[4] \"Light rain developing in the afternoon. Fairly breezy West to Sou'West winds.\"\n",
       "[5] \"Partly cloudy. Breezy Sou'West winds.\"                                        \n",
       "[6] \"Morning showers. Breezy South to Sou'West winds.\"                             \n",
       "[7] \"Partly cloudy. Fairly breezy Nor'East winds.\"                                 \n",
       "[8] \"Afternoon showers. Fairly breezy Nor'East winds.\"                             \n",
       "[9] \"Showers. Fairly breezy North to Nor'East winds.\"                              "
      ]
     },
     "metadata": {},
     "output_type": "display_data"
    }
   ],
   "source": [
    "weathers <- dunedin_html %>% html_nodes(\".larger\") %>% html_text()\n",
    "index <- 1:18\n",
    "dunedin_weather <- weathers[index%%2==0]\n",
    "dunedin_weather"
   ]
  },
  {
   "cell_type": "code",
   "execution_count": 84,
   "id": "cf464b5e-4263-42d7-9595-fad32174ea3d",
   "metadata": {},
   "outputs": [
    {
     "data": {
      "text/html": [
       "<style>\n",
       ".list-inline {list-style: none; margin:0; padding: 0}\n",
       ".list-inline>li {display: inline-block}\n",
       ".list-inline>li:not(:last-child)::after {content: \"\\00b7\"; padding: 0 .5ex}\n",
       "</style>\n",
       "<ol class=list-inline><li>'21km/h'</li><li>'27km/h'</li><li>'27km/h'</li><li>'20km/h'</li><li>'14km/h'</li><li>'17km/h'</li><li>'22km/h'</li><li>'26km/h'</li><li>'27km/h'</li></ol>\n"
      ],
      "text/latex": [
       "\\begin{enumerate*}\n",
       "\\item '21km/h'\n",
       "\\item '27km/h'\n",
       "\\item '27km/h'\n",
       "\\item '20km/h'\n",
       "\\item '14km/h'\n",
       "\\item '17km/h'\n",
       "\\item '22km/h'\n",
       "\\item '26km/h'\n",
       "\\item '27km/h'\n",
       "\\end{enumerate*}\n"
      ],
      "text/markdown": [
       "1. '21km/h'\n",
       "2. '27km/h'\n",
       "3. '27km/h'\n",
       "4. '20km/h'\n",
       "5. '14km/h'\n",
       "6. '17km/h'\n",
       "7. '22km/h'\n",
       "8. '26km/h'\n",
       "9. '27km/h'\n",
       "\n",
       "\n"
      ],
      "text/plain": [
       "[1] \"21km/h\" \"27km/h\" \"27km/h\" \"20km/h\" \"14km/h\" \"17km/h\" \"22km/h\" \"26km/h\"\n",
       "[9] \"27km/h\""
      ]
     },
     "metadata": {},
     "output_type": "display_data"
    }
   ],
   "source": [
    "auckland_wind <- auckland_html %>% html_nodes(\".wind .small\") %>% html_text()\n",
    "auckland_wind"
   ]
  },
  {
   "cell_type": "code",
   "execution_count": 111,
   "id": "386c45d1-cd2d-4d6b-b2fa-2303d329d67b",
   "metadata": {},
   "outputs": [
    {
     "data": {
      "text/html": [
       "<style>\n",
       ".list-inline {list-style: none; margin:0; padding: 0}\n",
       ".list-inline>li {display: inline-block}\n",
       ".list-inline>li:not(:last-child)::after {content: \"\\00b7\"; padding: 0 .5ex}\n",
       "</style>\n",
       "<ol class=list-inline><li>'14km/h'</li><li>'20km/h'</li><li>'21km/h'</li><li>'18km/h'</li><li>'12km/h'</li><li>'16km/h'</li><li>'20km/h'</li><li>'24km/h'</li><li>'23km/h'</li></ol>\n"
      ],
      "text/latex": [
       "\\begin{enumerate*}\n",
       "\\item '14km/h'\n",
       "\\item '20km/h'\n",
       "\\item '21km/h'\n",
       "\\item '18km/h'\n",
       "\\item '12km/h'\n",
       "\\item '16km/h'\n",
       "\\item '20km/h'\n",
       "\\item '24km/h'\n",
       "\\item '23km/h'\n",
       "\\end{enumerate*}\n"
      ],
      "text/markdown": [
       "1. '14km/h'\n",
       "2. '20km/h'\n",
       "3. '21km/h'\n",
       "4. '18km/h'\n",
       "5. '12km/h'\n",
       "6. '16km/h'\n",
       "7. '20km/h'\n",
       "8. '24km/h'\n",
       "9. '23km/h'\n",
       "\n",
       "\n"
      ],
      "text/plain": [
       "[1] \"14km/h\" \"20km/h\" \"21km/h\" \"18km/h\" \"12km/h\" \"16km/h\" \"20km/h\" \"24km/h\"\n",
       "[9] \"23km/h\""
      ]
     },
     "metadata": {},
     "output_type": "display_data"
    }
   ],
   "source": [
    "hamilton_wind <- hamilton_html %>% html_nodes(\".wind .small\") %>% html_text()\n",
    "hamilton_wind"
   ]
  },
  {
   "cell_type": "code",
   "execution_count": 112,
   "id": "5edb3198-1ad6-4abf-995b-8dc579bac068",
   "metadata": {},
   "outputs": [
    {
     "data": {
      "text/html": [
       "<style>\n",
       ".list-inline {list-style: none; margin:0; padding: 0}\n",
       ".list-inline>li {display: inline-block}\n",
       ".list-inline>li:not(:last-child)::after {content: \"\\00b7\"; padding: 0 .5ex}\n",
       "</style>\n",
       "<ol class=list-inline><li>'12km/h'</li><li>'16km/h'</li><li>'16km/h'</li><li>'15km/h'</li><li>'9km/h'</li><li>'13km/h'</li><li>'15km/h'</li><li>'16km/h'</li><li>'17km/h'</li></ol>\n"
      ],
      "text/latex": [
       "\\begin{enumerate*}\n",
       "\\item '12km/h'\n",
       "\\item '16km/h'\n",
       "\\item '16km/h'\n",
       "\\item '15km/h'\n",
       "\\item '9km/h'\n",
       "\\item '13km/h'\n",
       "\\item '15km/h'\n",
       "\\item '16km/h'\n",
       "\\item '17km/h'\n",
       "\\end{enumerate*}\n"
      ],
      "text/markdown": [
       "1. '12km/h'\n",
       "2. '16km/h'\n",
       "3. '16km/h'\n",
       "4. '15km/h'\n",
       "5. '9km/h'\n",
       "6. '13km/h'\n",
       "7. '15km/h'\n",
       "8. '16km/h'\n",
       "9. '17km/h'\n",
       "\n",
       "\n"
      ],
      "text/plain": [
       "[1] \"12km/h\" \"16km/h\" \"16km/h\" \"15km/h\" \"9km/h\"  \"13km/h\" \"15km/h\" \"16km/h\"\n",
       "[9] \"17km/h\""
      ]
     },
     "metadata": {},
     "output_type": "display_data"
    }
   ],
   "source": [
    "tauranga_wind <- tauranga_html %>% html_nodes(\".wind .small\") %>% html_text()\n",
    "tauranga_wind"
   ]
  },
  {
   "cell_type": "code",
   "execution_count": 113,
   "id": "70d8c1f2-005f-45e1-9a97-07199f498522",
   "metadata": {},
   "outputs": [
    {
     "data": {
      "text/html": [
       "<style>\n",
       ".list-inline {list-style: none; margin:0; padding: 0}\n",
       ".list-inline>li {display: inline-block}\n",
       ".list-inline>li:not(:last-child)::after {content: \"\\00b7\"; padding: 0 .5ex}\n",
       "</style>\n",
       "<ol class=list-inline><li>'16km/h'</li><li>'17km/h'</li><li>'21km/h'</li><li>'19km/h'</li><li>'13km/h'</li><li>'13km/h'</li><li>'21km/h'</li><li>'25km/h'</li><li>'23km/h'</li></ol>\n"
      ],
      "text/latex": [
       "\\begin{enumerate*}\n",
       "\\item '16km/h'\n",
       "\\item '17km/h'\n",
       "\\item '21km/h'\n",
       "\\item '19km/h'\n",
       "\\item '13km/h'\n",
       "\\item '13km/h'\n",
       "\\item '21km/h'\n",
       "\\item '25km/h'\n",
       "\\item '23km/h'\n",
       "\\end{enumerate*}\n"
      ],
      "text/markdown": [
       "1. '16km/h'\n",
       "2. '17km/h'\n",
       "3. '21km/h'\n",
       "4. '19km/h'\n",
       "5. '13km/h'\n",
       "6. '13km/h'\n",
       "7. '21km/h'\n",
       "8. '25km/h'\n",
       "9. '23km/h'\n",
       "\n",
       "\n"
      ],
      "text/plain": [
       "[1] \"16km/h\" \"17km/h\" \"21km/h\" \"19km/h\" \"13km/h\" \"13km/h\" \"21km/h\" \"25km/h\"\n",
       "[9] \"23km/h\""
      ]
     },
     "metadata": {},
     "output_type": "display_data"
    }
   ],
   "source": [
    "christchurch_wind <- christchurch_html %>% html_nodes(\".wind .small\") %>% html_text()\n",
    "christchurch_wind"
   ]
  },
  {
   "cell_type": "code",
   "execution_count": 97,
   "id": "d6de8ef5-f7fc-47d5-9579-3d166fd275c1",
   "metadata": {},
   "outputs": [
    {
     "data": {
      "text/html": [
       "<style>\n",
       ".list-inline {list-style: none; margin:0; padding: 0}\n",
       ".list-inline>li {display: inline-block}\n",
       ".list-inline>li:not(:last-child)::after {content: \"\\00b7\"; padding: 0 .5ex}\n",
       "</style>\n",
       "<ol class=list-inline><li>'27km/h'</li><li>'41km/h'</li><li>'42km/h'</li><li>'44km/h'</li><li>'20km/h'</li><li>'29km/h'</li><li>'29km/h'</li><li>'32km/h'</li><li>'34km/h'</li></ol>\n"
      ],
      "text/latex": [
       "\\begin{enumerate*}\n",
       "\\item '27km/h'\n",
       "\\item '41km/h'\n",
       "\\item '42km/h'\n",
       "\\item '44km/h'\n",
       "\\item '20km/h'\n",
       "\\item '29km/h'\n",
       "\\item '29km/h'\n",
       "\\item '32km/h'\n",
       "\\item '34km/h'\n",
       "\\end{enumerate*}\n"
      ],
      "text/markdown": [
       "1. '27km/h'\n",
       "2. '41km/h'\n",
       "3. '42km/h'\n",
       "4. '44km/h'\n",
       "5. '20km/h'\n",
       "6. '29km/h'\n",
       "7. '29km/h'\n",
       "8. '32km/h'\n",
       "9. '34km/h'\n",
       "\n",
       "\n"
      ],
      "text/plain": [
       "[1] \"27km/h\" \"41km/h\" \"42km/h\" \"44km/h\" \"20km/h\" \"29km/h\" \"29km/h\" \"32km/h\"\n",
       "[9] \"34km/h\""
      ]
     },
     "metadata": {},
     "output_type": "display_data"
    }
   ],
   "source": [
    "wellington_wind <- wellington_html %>% html_nodes(\".wind .small\") %>% html_text()\n",
    "wellington_wind"
   ]
  },
  {
   "cell_type": "code",
   "execution_count": 114,
   "id": "c722ae91-d228-47d4-8f16-d97f1162abc2",
   "metadata": {},
   "outputs": [
    {
     "data": {
      "text/html": [
       "<style>\n",
       ".list-inline {list-style: none; margin:0; padding: 0}\n",
       ".list-inline>li {display: inline-block}\n",
       ".list-inline>li:not(:last-child)::after {content: \"\\00b7\"; padding: 0 .5ex}\n",
       "</style>\n",
       "<ol class=list-inline><li>'16km/h'</li><li>'14km/h'</li><li>'22km/h'</li><li>'24km/h'</li><li>'14km/h'</li><li>'18km/h'</li><li>'25km/h'</li><li>'24km/h'</li><li>'20km/h'</li></ol>\n"
      ],
      "text/latex": [
       "\\begin{enumerate*}\n",
       "\\item '16km/h'\n",
       "\\item '14km/h'\n",
       "\\item '22km/h'\n",
       "\\item '24km/h'\n",
       "\\item '14km/h'\n",
       "\\item '18km/h'\n",
       "\\item '25km/h'\n",
       "\\item '24km/h'\n",
       "\\item '20km/h'\n",
       "\\end{enumerate*}\n"
      ],
      "text/markdown": [
       "1. '16km/h'\n",
       "2. '14km/h'\n",
       "3. '22km/h'\n",
       "4. '24km/h'\n",
       "5. '14km/h'\n",
       "6. '18km/h'\n",
       "7. '25km/h'\n",
       "8. '24km/h'\n",
       "9. '20km/h'\n",
       "\n",
       "\n"
      ],
      "text/plain": [
       "[1] \"16km/h\" \"14km/h\" \"22km/h\" \"24km/h\" \"14km/h\" \"18km/h\" \"25km/h\" \"24km/h\"\n",
       "[9] \"20km/h\""
      ]
     },
     "metadata": {},
     "output_type": "display_data"
    }
   ],
   "source": [
    "dunedin_wind <- dunedin_html %>% html_nodes(\".wind .small\") %>% html_text()\n",
    "dunedin_wind"
   ]
  },
  {
   "cell_type": "code",
   "execution_count": 92,
   "id": "2d7fc95b-5130-4678-8377-4185a1242b7f",
   "metadata": {},
   "outputs": [
    {
     "data": {
      "text/html": [
       "'Weather Forecast for Auckland'"
      ],
      "text/latex": [
       "'Weather Forecast for Auckland'"
      ],
      "text/markdown": [
       "'Weather Forecast for Auckland'"
      ],
      "text/plain": [
       "[1] \"Weather Forecast for Auckland\""
      ]
     },
     "metadata": {},
     "output_type": "display_data"
    }
   ],
   "source": [
    "auckland_location <- auckland_html %>% html_nodes(\"h2\") %>% html_text()\n",
    "auckland_location"
   ]
  },
  {
   "cell_type": "code",
   "execution_count": 98,
   "id": "a77f28a1-5eda-456c-915b-7daebaa94e4a",
   "metadata": {},
   "outputs": [
    {
     "data": {
      "text/html": [
       "'Weather Forecast for Wellington'"
      ],
      "text/latex": [
       "'Weather Forecast for Wellington'"
      ],
      "text/markdown": [
       "'Weather Forecast for Wellington'"
      ],
      "text/plain": [
       "[1] \"Weather Forecast for Wellington\""
      ]
     },
     "metadata": {},
     "output_type": "display_data"
    }
   ],
   "source": [
    "wellington_location <- wellington_html %>% html_nodes(\"h2\") %>% html_text()\n",
    "wellington_location"
   ]
  },
  {
   "cell_type": "code",
   "execution_count": 115,
   "id": "90b37075-751a-4989-a446-cfb9be67e707",
   "metadata": {},
   "outputs": [
    {
     "data": {
      "text/html": [
       "'Weather Forecast for Hamilton'"
      ],
      "text/latex": [
       "'Weather Forecast for Hamilton'"
      ],
      "text/markdown": [
       "'Weather Forecast for Hamilton'"
      ],
      "text/plain": [
       "[1] \"Weather Forecast for Hamilton\""
      ]
     },
     "metadata": {},
     "output_type": "display_data"
    }
   ],
   "source": [
    "hamilton_location <- hamilton_html %>% html_nodes(\"h2\") %>% html_text()\n",
    "hamilton_location"
   ]
  },
  {
   "cell_type": "code",
   "execution_count": 116,
   "id": "ea5b106b-c1e2-4a22-9ed4-abc569943514",
   "metadata": {},
   "outputs": [
    {
     "data": {
      "text/html": [
       "'Weather Forecast for Tauranga'"
      ],
      "text/latex": [
       "'Weather Forecast for Tauranga'"
      ],
      "text/markdown": [
       "'Weather Forecast for Tauranga'"
      ],
      "text/plain": [
       "[1] \"Weather Forecast for Tauranga\""
      ]
     },
     "metadata": {},
     "output_type": "display_data"
    }
   ],
   "source": [
    "tauranga_location <- tauranga_html %>% html_nodes(\"h2\") %>% html_text()\n",
    "tauranga_location"
   ]
  },
  {
   "cell_type": "code",
   "execution_count": 117,
   "id": "c3158aec-d887-4fdd-a07e-8bb8fb400904",
   "metadata": {},
   "outputs": [
    {
     "data": {
      "text/html": [
       "'Weather Forecast for Christchurch'"
      ],
      "text/latex": [
       "'Weather Forecast for Christchurch'"
      ],
      "text/markdown": [
       "'Weather Forecast for Christchurch'"
      ],
      "text/plain": [
       "[1] \"Weather Forecast for Christchurch\""
      ]
     },
     "metadata": {},
     "output_type": "display_data"
    }
   ],
   "source": [
    "christchurch_location <- christchurch_html %>% html_nodes(\"h2\") %>% html_text()\n",
    "christchurch_location"
   ]
  },
  {
   "cell_type": "code",
   "execution_count": 118,
   "id": "3d60dd92-c5ca-44f7-9021-0d510e892f84",
   "metadata": {},
   "outputs": [
    {
     "data": {
      "text/html": [
       "'Weather Forecast for Dunedin'"
      ],
      "text/latex": [
       "'Weather Forecast for Dunedin'"
      ],
      "text/markdown": [
       "'Weather Forecast for Dunedin'"
      ],
      "text/plain": [
       "[1] \"Weather Forecast for Dunedin\""
      ]
     },
     "metadata": {},
     "output_type": "display_data"
    }
   ],
   "source": [
    "dunedin_location <- dunedin_html %>% html_nodes(\"h2\") %>% html_text()\n",
    "dunedin_location"
   ]
  },
  {
   "cell_type": "code",
   "execution_count": 93,
   "id": "4e5713ac-644b-4842-958f-1103403f2c06",
   "metadata": {},
   "outputs": [
    {
     "data": {
      "text/html": [
       "<table class=\"dataframe\">\n",
       "<caption>A tibble: 9 × 6</caption>\n",
       "<thead>\n",
       "\t<tr><th scope=col>location</th><th scope=col>date</th><th scope=col>auckland_weather</th><th scope=col>auckland_min_temp</th><th scope=col>auckland_max_temp</th><th scope=col>auckland_wind</th></tr>\n",
       "\t<tr><th scope=col>&lt;chr&gt;</th><th scope=col>&lt;chr&gt;</th><th scope=col>&lt;chr&gt;</th><th scope=col>&lt;chr&gt;</th><th scope=col>&lt;chr&gt;</th><th scope=col>&lt;chr&gt;</th></tr>\n",
       "</thead>\n",
       "<tbody>\n",
       "\t<tr><td>Weather Forecast for Auckland</td><td>Fri 7 Oct </td><td>Partly cloudy. Fairly breezy Nor'East winds.         </td><td>12°Night</td><td>17°Day</td><td>20km/h</td></tr>\n",
       "\t<tr><td>Weather Forecast for Auckland</td><td>Sat 8 Oct </td><td>Partly cloudy. Fairly breezy Nor'East winds.         </td><td>13°Night</td><td>17°Day</td><td>26km/h</td></tr>\n",
       "\t<tr><td>Weather Forecast for Auckland</td><td>Sun 9 Oct </td><td>Partly cloudy. Fairly breezy North to Nor'East winds.</td><td>13°Night</td><td>17°Day</td><td>25km/h</td></tr>\n",
       "\t<tr><td>Weather Forecast for Auckland</td><td>Mon 10 Oct</td><td>Cloudy. Breezy Northerly winds.                      </td><td>13°Night</td><td>18°Day</td><td>19km/h</td></tr>\n",
       "\t<tr><td>Weather Forecast for Auckland</td><td>Tue 11 Oct</td><td>Afternoon showers. Breezy North to Nor'West winds.   </td><td>13°Night</td><td>18°Day</td><td>15km/h</td></tr>\n",
       "\t<tr><td>Weather Forecast for Auckland</td><td>Wed 12 Oct</td><td>Light rain. Breezy Easterly winds.                   </td><td>12°Night</td><td>18°Day</td><td>17km/h</td></tr>\n",
       "\t<tr><td>Weather Forecast for Auckland</td><td>Thu 13 Oct</td><td>Rain. Fairly breezy East to Nor'East winds.          </td><td>13°Night</td><td>18°Day</td><td>22km/h</td></tr>\n",
       "\t<tr><td>Weather Forecast for Auckland</td><td>Fri 14 Oct</td><td>Showers. Fairly breezy Nor'East winds.               </td><td>13°Night</td><td>17°Day</td><td>26km/h</td></tr>\n",
       "\t<tr><td>Weather Forecast for Auckland</td><td>Sat 15 Oct</td><td>Rain. Fairly breezy Northerly winds.                 </td><td>13°Night</td><td>17°Day</td><td>27km/h</td></tr>\n",
       "</tbody>\n",
       "</table>\n"
      ],
      "text/latex": [
       "A tibble: 9 × 6\n",
       "\\begin{tabular}{llllll}\n",
       " location & date & auckland\\_weather & auckland\\_min\\_temp & auckland\\_max\\_temp & auckland\\_wind\\\\\n",
       " <chr> & <chr> & <chr> & <chr> & <chr> & <chr>\\\\\n",
       "\\hline\n",
       "\t Weather Forecast for Auckland & Fri 7 Oct  & Partly cloudy. Fairly breezy Nor'East winds.          & 12°Night & 17°Day & 20km/h\\\\\n",
       "\t Weather Forecast for Auckland & Sat 8 Oct  & Partly cloudy. Fairly breezy Nor'East winds.          & 13°Night & 17°Day & 26km/h\\\\\n",
       "\t Weather Forecast for Auckland & Sun 9 Oct  & Partly cloudy. Fairly breezy North to Nor'East winds. & 13°Night & 17°Day & 25km/h\\\\\n",
       "\t Weather Forecast for Auckland & Mon 10 Oct & Cloudy. Breezy Northerly winds.                       & 13°Night & 18°Day & 19km/h\\\\\n",
       "\t Weather Forecast for Auckland & Tue 11 Oct & Afternoon showers. Breezy North to Nor'West winds.    & 13°Night & 18°Day & 15km/h\\\\\n",
       "\t Weather Forecast for Auckland & Wed 12 Oct & Light rain. Breezy Easterly winds.                    & 12°Night & 18°Day & 17km/h\\\\\n",
       "\t Weather Forecast for Auckland & Thu 13 Oct & Rain. Fairly breezy East to Nor'East winds.           & 13°Night & 18°Day & 22km/h\\\\\n",
       "\t Weather Forecast for Auckland & Fri 14 Oct & Showers. Fairly breezy Nor'East winds.                & 13°Night & 17°Day & 26km/h\\\\\n",
       "\t Weather Forecast for Auckland & Sat 15 Oct & Rain. Fairly breezy Northerly winds.                  & 13°Night & 17°Day & 27km/h\\\\\n",
       "\\end{tabular}\n"
      ],
      "text/markdown": [
       "\n",
       "A tibble: 9 × 6\n",
       "\n",
       "| location &lt;chr&gt; | date &lt;chr&gt; | auckland_weather &lt;chr&gt; | auckland_min_temp &lt;chr&gt; | auckland_max_temp &lt;chr&gt; | auckland_wind &lt;chr&gt; |\n",
       "|---|---|---|---|---|---|\n",
       "| Weather Forecast for Auckland | Fri 7 Oct  | Partly cloudy. Fairly breezy Nor'East winds.          | 12°Night | 17°Day | 20km/h |\n",
       "| Weather Forecast for Auckland | Sat 8 Oct  | Partly cloudy. Fairly breezy Nor'East winds.          | 13°Night | 17°Day | 26km/h |\n",
       "| Weather Forecast for Auckland | Sun 9 Oct  | Partly cloudy. Fairly breezy North to Nor'East winds. | 13°Night | 17°Day | 25km/h |\n",
       "| Weather Forecast for Auckland | Mon 10 Oct | Cloudy. Breezy Northerly winds.                       | 13°Night | 18°Day | 19km/h |\n",
       "| Weather Forecast for Auckland | Tue 11 Oct | Afternoon showers. Breezy North to Nor'West winds.    | 13°Night | 18°Day | 15km/h |\n",
       "| Weather Forecast for Auckland | Wed 12 Oct | Light rain. Breezy Easterly winds.                    | 12°Night | 18°Day | 17km/h |\n",
       "| Weather Forecast for Auckland | Thu 13 Oct | Rain. Fairly breezy East to Nor'East winds.           | 13°Night | 18°Day | 22km/h |\n",
       "| Weather Forecast for Auckland | Fri 14 Oct | Showers. Fairly breezy Nor'East winds.                | 13°Night | 17°Day | 26km/h |\n",
       "| Weather Forecast for Auckland | Sat 15 Oct | Rain. Fairly breezy Northerly winds.                  | 13°Night | 17°Day | 27km/h |\n",
       "\n"
      ],
      "text/plain": [
       "  location                      date      \n",
       "1 Weather Forecast for Auckland Fri 7 Oct \n",
       "2 Weather Forecast for Auckland Sat 8 Oct \n",
       "3 Weather Forecast for Auckland Sun 9 Oct \n",
       "4 Weather Forecast for Auckland Mon 10 Oct\n",
       "5 Weather Forecast for Auckland Tue 11 Oct\n",
       "6 Weather Forecast for Auckland Wed 12 Oct\n",
       "7 Weather Forecast for Auckland Thu 13 Oct\n",
       "8 Weather Forecast for Auckland Fri 14 Oct\n",
       "9 Weather Forecast for Auckland Sat 15 Oct\n",
       "  auckland_weather                                      auckland_min_temp\n",
       "1 Partly cloudy. Fairly breezy Nor'East winds.          12°Night         \n",
       "2 Partly cloudy. Fairly breezy Nor'East winds.          13°Night         \n",
       "3 Partly cloudy. Fairly breezy North to Nor'East winds. 13°Night         \n",
       "4 Cloudy. Breezy Northerly winds.                       13°Night         \n",
       "5 Afternoon showers. Breezy North to Nor'West winds.    13°Night         \n",
       "6 Light rain. Breezy Easterly winds.                    12°Night         \n",
       "7 Rain. Fairly breezy East to Nor'East winds.           13°Night         \n",
       "8 Showers. Fairly breezy Nor'East winds.                13°Night         \n",
       "9 Rain. Fairly breezy Northerly winds.                  13°Night         \n",
       "  auckland_max_temp auckland_wind\n",
       "1 17°Day            20km/h       \n",
       "2 17°Day            26km/h       \n",
       "3 17°Day            25km/h       \n",
       "4 18°Day            19km/h       \n",
       "5 18°Day            15km/h       \n",
       "6 18°Day            17km/h       \n",
       "7 18°Day            22km/h       \n",
       "8 17°Day            26km/h       \n",
       "9 17°Day            27km/h       "
      ]
     },
     "metadata": {},
     "output_type": "display_data"
    }
   ],
   "source": [
    "auckland_df <- tibble(location=auckland_location, date=date, auckland_weather=weather, auckland_min_temp=auckland_min_temp, auckland_max_temp=auckland_max_temp, auckland_wind=wind)\n",
    "auckland_df"
   ]
  },
  {
   "cell_type": "code",
   "execution_count": 119,
   "id": "89e318aa-8875-49ab-b0c3-4110aa1c49d9",
   "metadata": {},
   "outputs": [
    {
     "data": {
      "text/html": [
       "<table class=\"dataframe\">\n",
       "<caption>A tibble: 9 × 6</caption>\n",
       "<thead>\n",
       "\t<tr><th scope=col>location</th><th scope=col>date</th><th scope=col>auckland_weather</th><th scope=col>wellington_min_temp</th><th scope=col>wellington_max_temp</th><th scope=col>wellington_wind</th></tr>\n",
       "\t<tr><th scope=col>&lt;chr&gt;</th><th scope=col>&lt;chr&gt;</th><th scope=col>&lt;chr&gt;</th><th scope=col>&lt;chr&gt;</th><th scope=col>&lt;chr&gt;</th><th scope=col>&lt;chr&gt;</th></tr>\n",
       "</thead>\n",
       "<tbody>\n",
       "\t<tr><td>Weather Forecast for Wellington</td><td>Fri 7 Oct </td><td>Partly cloudy. Fairly breezy Nor'East winds.         </td><td>11°Night</td><td>14°Day</td><td>20km/h</td></tr>\n",
       "\t<tr><td>Weather Forecast for Wellington</td><td>Sat 8 Oct </td><td>Partly cloudy. Fairly breezy Nor'East winds.         </td><td>11°Night</td><td>14°Day</td><td>26km/h</td></tr>\n",
       "\t<tr><td>Weather Forecast for Wellington</td><td>Sun 9 Oct </td><td>Partly cloudy. Fairly breezy North to Nor'East winds.</td><td>13°Night</td><td>15°Day</td><td>25km/h</td></tr>\n",
       "\t<tr><td>Weather Forecast for Wellington</td><td>Mon 10 Oct</td><td>Cloudy. Breezy Northerly winds.                      </td><td>10°Night</td><td>15°Day</td><td>19km/h</td></tr>\n",
       "\t<tr><td>Weather Forecast for Wellington</td><td>Tue 11 Oct</td><td>Afternoon showers. Breezy North to Nor'West winds.   </td><td>9°Night </td><td>14°Day</td><td>15km/h</td></tr>\n",
       "\t<tr><td>Weather Forecast for Wellington</td><td>Wed 12 Oct</td><td>Light rain. Breezy Easterly winds.                   </td><td>9°Night </td><td>13°Day</td><td>17km/h</td></tr>\n",
       "\t<tr><td>Weather Forecast for Wellington</td><td>Thu 13 Oct</td><td>Rain. Fairly breezy East to Nor'East winds.          </td><td>9°Night </td><td>13°Day</td><td>22km/h</td></tr>\n",
       "\t<tr><td>Weather Forecast for Wellington</td><td>Fri 14 Oct</td><td>Showers. Fairly breezy Nor'East winds.               </td><td>10°Night</td><td>15°Day</td><td>26km/h</td></tr>\n",
       "\t<tr><td>Weather Forecast for Wellington</td><td>Sat 15 Oct</td><td>Rain. Fairly breezy Northerly winds.                 </td><td>10°Night</td><td>14°Day</td><td>27km/h</td></tr>\n",
       "</tbody>\n",
       "</table>\n"
      ],
      "text/latex": [
       "A tibble: 9 × 6\n",
       "\\begin{tabular}{llllll}\n",
       " location & date & auckland\\_weather & wellington\\_min\\_temp & wellington\\_max\\_temp & wellington\\_wind\\\\\n",
       " <chr> & <chr> & <chr> & <chr> & <chr> & <chr>\\\\\n",
       "\\hline\n",
       "\t Weather Forecast for Wellington & Fri 7 Oct  & Partly cloudy. Fairly breezy Nor'East winds.          & 11°Night & 14°Day & 20km/h\\\\\n",
       "\t Weather Forecast for Wellington & Sat 8 Oct  & Partly cloudy. Fairly breezy Nor'East winds.          & 11°Night & 14°Day & 26km/h\\\\\n",
       "\t Weather Forecast for Wellington & Sun 9 Oct  & Partly cloudy. Fairly breezy North to Nor'East winds. & 13°Night & 15°Day & 25km/h\\\\\n",
       "\t Weather Forecast for Wellington & Mon 10 Oct & Cloudy. Breezy Northerly winds.                       & 10°Night & 15°Day & 19km/h\\\\\n",
       "\t Weather Forecast for Wellington & Tue 11 Oct & Afternoon showers. Breezy North to Nor'West winds.    & 9°Night  & 14°Day & 15km/h\\\\\n",
       "\t Weather Forecast for Wellington & Wed 12 Oct & Light rain. Breezy Easterly winds.                    & 9°Night  & 13°Day & 17km/h\\\\\n",
       "\t Weather Forecast for Wellington & Thu 13 Oct & Rain. Fairly breezy East to Nor'East winds.           & 9°Night  & 13°Day & 22km/h\\\\\n",
       "\t Weather Forecast for Wellington & Fri 14 Oct & Showers. Fairly breezy Nor'East winds.                & 10°Night & 15°Day & 26km/h\\\\\n",
       "\t Weather Forecast for Wellington & Sat 15 Oct & Rain. Fairly breezy Northerly winds.                  & 10°Night & 14°Day & 27km/h\\\\\n",
       "\\end{tabular}\n"
      ],
      "text/markdown": [
       "\n",
       "A tibble: 9 × 6\n",
       "\n",
       "| location &lt;chr&gt; | date &lt;chr&gt; | auckland_weather &lt;chr&gt; | wellington_min_temp &lt;chr&gt; | wellington_max_temp &lt;chr&gt; | wellington_wind &lt;chr&gt; |\n",
       "|---|---|---|---|---|---|\n",
       "| Weather Forecast for Wellington | Fri 7 Oct  | Partly cloudy. Fairly breezy Nor'East winds.          | 11°Night | 14°Day | 20km/h |\n",
       "| Weather Forecast for Wellington | Sat 8 Oct  | Partly cloudy. Fairly breezy Nor'East winds.          | 11°Night | 14°Day | 26km/h |\n",
       "| Weather Forecast for Wellington | Sun 9 Oct  | Partly cloudy. Fairly breezy North to Nor'East winds. | 13°Night | 15°Day | 25km/h |\n",
       "| Weather Forecast for Wellington | Mon 10 Oct | Cloudy. Breezy Northerly winds.                       | 10°Night | 15°Day | 19km/h |\n",
       "| Weather Forecast for Wellington | Tue 11 Oct | Afternoon showers. Breezy North to Nor'West winds.    | 9°Night  | 14°Day | 15km/h |\n",
       "| Weather Forecast for Wellington | Wed 12 Oct | Light rain. Breezy Easterly winds.                    | 9°Night  | 13°Day | 17km/h |\n",
       "| Weather Forecast for Wellington | Thu 13 Oct | Rain. Fairly breezy East to Nor'East winds.           | 9°Night  | 13°Day | 22km/h |\n",
       "| Weather Forecast for Wellington | Fri 14 Oct | Showers. Fairly breezy Nor'East winds.                | 10°Night | 15°Day | 26km/h |\n",
       "| Weather Forecast for Wellington | Sat 15 Oct | Rain. Fairly breezy Northerly winds.                  | 10°Night | 14°Day | 27km/h |\n",
       "\n"
      ],
      "text/plain": [
       "  location                        date      \n",
       "1 Weather Forecast for Wellington Fri 7 Oct \n",
       "2 Weather Forecast for Wellington Sat 8 Oct \n",
       "3 Weather Forecast for Wellington Sun 9 Oct \n",
       "4 Weather Forecast for Wellington Mon 10 Oct\n",
       "5 Weather Forecast for Wellington Tue 11 Oct\n",
       "6 Weather Forecast for Wellington Wed 12 Oct\n",
       "7 Weather Forecast for Wellington Thu 13 Oct\n",
       "8 Weather Forecast for Wellington Fri 14 Oct\n",
       "9 Weather Forecast for Wellington Sat 15 Oct\n",
       "  auckland_weather                                      wellington_min_temp\n",
       "1 Partly cloudy. Fairly breezy Nor'East winds.          11°Night           \n",
       "2 Partly cloudy. Fairly breezy Nor'East winds.          11°Night           \n",
       "3 Partly cloudy. Fairly breezy North to Nor'East winds. 13°Night           \n",
       "4 Cloudy. Breezy Northerly winds.                       10°Night           \n",
       "5 Afternoon showers. Breezy North to Nor'West winds.    9°Night            \n",
       "6 Light rain. Breezy Easterly winds.                    9°Night            \n",
       "7 Rain. Fairly breezy East to Nor'East winds.           9°Night            \n",
       "8 Showers. Fairly breezy Nor'East winds.                10°Night           \n",
       "9 Rain. Fairly breezy Northerly winds.                  10°Night           \n",
       "  wellington_max_temp wellington_wind\n",
       "1 14°Day              20km/h         \n",
       "2 14°Day              26km/h         \n",
       "3 15°Day              25km/h         \n",
       "4 15°Day              19km/h         \n",
       "5 14°Day              15km/h         \n",
       "6 13°Day              17km/h         \n",
       "7 13°Day              22km/h         \n",
       "8 15°Day              26km/h         \n",
       "9 14°Day              27km/h         "
      ]
     },
     "metadata": {},
     "output_type": "display_data"
    }
   ],
   "source": [
    "wellington_df <- tibble(location=wellington_location, date=date, auckland_weather=weather, wellington_min_temp=wellington_min_temp, wellington_max_temp=wellington_max_temp, wellington_wind=wind)\n",
    "wellington_df"
   ]
  },
  {
   "cell_type": "code",
   "execution_count": 123,
   "id": "fe0adc22-6072-4804-9337-6648ba539ab6",
   "metadata": {},
   "outputs": [
    {
     "data": {
      "text/html": [
       "<table class=\"dataframe\">\n",
       "<caption>A tibble: 9 × 6</caption>\n",
       "<thead>\n",
       "\t<tr><th scope=col>location</th><th scope=col>date</th><th scope=col>hamilton_weather</th><th scope=col>hamilton_min_temp</th><th scope=col>hamilton_max_temp</th><th scope=col>hamilton_wind</th></tr>\n",
       "\t<tr><th scope=col>&lt;chr&gt;</th><th scope=col>&lt;chr&gt;</th><th scope=col>&lt;chr&gt;</th><th scope=col>&lt;chr&gt;</th><th scope=col>&lt;chr&gt;</th><th scope=col>&lt;chr&gt;</th></tr>\n",
       "</thead>\n",
       "<tbody>\n",
       "\t<tr><td>Weather Forecast for Hamilton</td><td>Fri 7 Oct </td><td>Partly cloudy. Fairly breezy Nor'East winds.         </td><td>5°Night </td><td>18°Day</td><td>20km/h</td></tr>\n",
       "\t<tr><td>Weather Forecast for Hamilton</td><td>Sat 8 Oct </td><td>Partly cloudy. Fairly breezy Nor'East winds.         </td><td>6°Night </td><td>18°Day</td><td>26km/h</td></tr>\n",
       "\t<tr><td>Weather Forecast for Hamilton</td><td>Sun 9 Oct </td><td>Partly cloudy. Fairly breezy North to Nor'East winds.</td><td>9°Night </td><td>19°Day</td><td>25km/h</td></tr>\n",
       "\t<tr><td>Weather Forecast for Hamilton</td><td>Mon 10 Oct</td><td>Cloudy. Breezy Northerly winds.                      </td><td>10°Night</td><td>19°Day</td><td>19km/h</td></tr>\n",
       "\t<tr><td>Weather Forecast for Hamilton</td><td>Tue 11 Oct</td><td>Afternoon showers. Breezy North to Nor'West winds.   </td><td>10°Night</td><td>19°Day</td><td>15km/h</td></tr>\n",
       "\t<tr><td>Weather Forecast for Hamilton</td><td>Wed 12 Oct</td><td>Light rain. Breezy Easterly winds.                   </td><td>8°Night </td><td>19°Day</td><td>17km/h</td></tr>\n",
       "\t<tr><td>Weather Forecast for Hamilton</td><td>Thu 13 Oct</td><td>Rain. Fairly breezy East to Nor'East winds.          </td><td>8°Night </td><td>19°Day</td><td>22km/h</td></tr>\n",
       "\t<tr><td>Weather Forecast for Hamilton</td><td>Fri 14 Oct</td><td>Showers. Fairly breezy Nor'East winds.               </td><td>9°Night </td><td>18°Day</td><td>26km/h</td></tr>\n",
       "\t<tr><td>Weather Forecast for Hamilton</td><td>Sat 15 Oct</td><td>Rain. Fairly breezy Northerly winds.                 </td><td>9°Night </td><td>18°Day</td><td>27km/h</td></tr>\n",
       "</tbody>\n",
       "</table>\n"
      ],
      "text/latex": [
       "A tibble: 9 × 6\n",
       "\\begin{tabular}{llllll}\n",
       " location & date & hamilton\\_weather & hamilton\\_min\\_temp & hamilton\\_max\\_temp & hamilton\\_wind\\\\\n",
       " <chr> & <chr> & <chr> & <chr> & <chr> & <chr>\\\\\n",
       "\\hline\n",
       "\t Weather Forecast for Hamilton & Fri 7 Oct  & Partly cloudy. Fairly breezy Nor'East winds.          & 5°Night  & 18°Day & 20km/h\\\\\n",
       "\t Weather Forecast for Hamilton & Sat 8 Oct  & Partly cloudy. Fairly breezy Nor'East winds.          & 6°Night  & 18°Day & 26km/h\\\\\n",
       "\t Weather Forecast for Hamilton & Sun 9 Oct  & Partly cloudy. Fairly breezy North to Nor'East winds. & 9°Night  & 19°Day & 25km/h\\\\\n",
       "\t Weather Forecast for Hamilton & Mon 10 Oct & Cloudy. Breezy Northerly winds.                       & 10°Night & 19°Day & 19km/h\\\\\n",
       "\t Weather Forecast for Hamilton & Tue 11 Oct & Afternoon showers. Breezy North to Nor'West winds.    & 10°Night & 19°Day & 15km/h\\\\\n",
       "\t Weather Forecast for Hamilton & Wed 12 Oct & Light rain. Breezy Easterly winds.                    & 8°Night  & 19°Day & 17km/h\\\\\n",
       "\t Weather Forecast for Hamilton & Thu 13 Oct & Rain. Fairly breezy East to Nor'East winds.           & 8°Night  & 19°Day & 22km/h\\\\\n",
       "\t Weather Forecast for Hamilton & Fri 14 Oct & Showers. Fairly breezy Nor'East winds.                & 9°Night  & 18°Day & 26km/h\\\\\n",
       "\t Weather Forecast for Hamilton & Sat 15 Oct & Rain. Fairly breezy Northerly winds.                  & 9°Night  & 18°Day & 27km/h\\\\\n",
       "\\end{tabular}\n"
      ],
      "text/markdown": [
       "\n",
       "A tibble: 9 × 6\n",
       "\n",
       "| location &lt;chr&gt; | date &lt;chr&gt; | hamilton_weather &lt;chr&gt; | hamilton_min_temp &lt;chr&gt; | hamilton_max_temp &lt;chr&gt; | hamilton_wind &lt;chr&gt; |\n",
       "|---|---|---|---|---|---|\n",
       "| Weather Forecast for Hamilton | Fri 7 Oct  | Partly cloudy. Fairly breezy Nor'East winds.          | 5°Night  | 18°Day | 20km/h |\n",
       "| Weather Forecast for Hamilton | Sat 8 Oct  | Partly cloudy. Fairly breezy Nor'East winds.          | 6°Night  | 18°Day | 26km/h |\n",
       "| Weather Forecast for Hamilton | Sun 9 Oct  | Partly cloudy. Fairly breezy North to Nor'East winds. | 9°Night  | 19°Day | 25km/h |\n",
       "| Weather Forecast for Hamilton | Mon 10 Oct | Cloudy. Breezy Northerly winds.                       | 10°Night | 19°Day | 19km/h |\n",
       "| Weather Forecast for Hamilton | Tue 11 Oct | Afternoon showers. Breezy North to Nor'West winds.    | 10°Night | 19°Day | 15km/h |\n",
       "| Weather Forecast for Hamilton | Wed 12 Oct | Light rain. Breezy Easterly winds.                    | 8°Night  | 19°Day | 17km/h |\n",
       "| Weather Forecast for Hamilton | Thu 13 Oct | Rain. Fairly breezy East to Nor'East winds.           | 8°Night  | 19°Day | 22km/h |\n",
       "| Weather Forecast for Hamilton | Fri 14 Oct | Showers. Fairly breezy Nor'East winds.                | 9°Night  | 18°Day | 26km/h |\n",
       "| Weather Forecast for Hamilton | Sat 15 Oct | Rain. Fairly breezy Northerly winds.                  | 9°Night  | 18°Day | 27km/h |\n",
       "\n"
      ],
      "text/plain": [
       "  location                      date      \n",
       "1 Weather Forecast for Hamilton Fri 7 Oct \n",
       "2 Weather Forecast for Hamilton Sat 8 Oct \n",
       "3 Weather Forecast for Hamilton Sun 9 Oct \n",
       "4 Weather Forecast for Hamilton Mon 10 Oct\n",
       "5 Weather Forecast for Hamilton Tue 11 Oct\n",
       "6 Weather Forecast for Hamilton Wed 12 Oct\n",
       "7 Weather Forecast for Hamilton Thu 13 Oct\n",
       "8 Weather Forecast for Hamilton Fri 14 Oct\n",
       "9 Weather Forecast for Hamilton Sat 15 Oct\n",
       "  hamilton_weather                                      hamilton_min_temp\n",
       "1 Partly cloudy. Fairly breezy Nor'East winds.          5°Night          \n",
       "2 Partly cloudy. Fairly breezy Nor'East winds.          6°Night          \n",
       "3 Partly cloudy. Fairly breezy North to Nor'East winds. 9°Night          \n",
       "4 Cloudy. Breezy Northerly winds.                       10°Night         \n",
       "5 Afternoon showers. Breezy North to Nor'West winds.    10°Night         \n",
       "6 Light rain. Breezy Easterly winds.                    8°Night          \n",
       "7 Rain. Fairly breezy East to Nor'East winds.           8°Night          \n",
       "8 Showers. Fairly breezy Nor'East winds.                9°Night          \n",
       "9 Rain. Fairly breezy Northerly winds.                  9°Night          \n",
       "  hamilton_max_temp hamilton_wind\n",
       "1 18°Day            20km/h       \n",
       "2 18°Day            26km/h       \n",
       "3 19°Day            25km/h       \n",
       "4 19°Day            19km/h       \n",
       "5 19°Day            15km/h       \n",
       "6 19°Day            17km/h       \n",
       "7 19°Day            22km/h       \n",
       "8 18°Day            26km/h       \n",
       "9 18°Day            27km/h       "
      ]
     },
     "metadata": {},
     "output_type": "display_data"
    }
   ],
   "source": [
    "hamilton_df <- tibble(location=hamilton_location, date=date, hamilton_weather=weather, hamilton_min_temp=hamilton_min_temp, hamilton_max_temp=hamilton_max_temp, hamilton_wind=wind)\n",
    "hamilton_df"
   ]
  },
  {
   "cell_type": "code",
   "execution_count": 122,
   "id": "59c29600-2d60-4e83-8d1e-662b578a9d6f",
   "metadata": {},
   "outputs": [
    {
     "data": {
      "text/html": [
       "<table class=\"dataframe\">\n",
       "<caption>A tibble: 9 × 6</caption>\n",
       "<thead>\n",
       "\t<tr><th scope=col>location</th><th scope=col>date</th><th scope=col>tauranga_weather</th><th scope=col>tauranga_min_temp</th><th scope=col>tauranga_max_temp</th><th scope=col>tauranga_wind</th></tr>\n",
       "\t<tr><th scope=col>&lt;chr&gt;</th><th scope=col>&lt;chr&gt;</th><th scope=col>&lt;chr&gt;</th><th scope=col>&lt;chr&gt;</th><th scope=col>&lt;chr&gt;</th><th scope=col>&lt;chr&gt;</th></tr>\n",
       "</thead>\n",
       "<tbody>\n",
       "\t<tr><td>Weather Forecast for Tauranga</td><td>Fri 7 Oct </td><td>Partly cloudy. Fairly breezy Nor'East winds.         </td><td>10°Night</td><td>16°Day</td><td>20km/h</td></tr>\n",
       "\t<tr><td>Weather Forecast for Tauranga</td><td>Sat 8 Oct </td><td>Partly cloudy. Fairly breezy Nor'East winds.         </td><td>11°Night</td><td>15°Day</td><td>26km/h</td></tr>\n",
       "\t<tr><td>Weather Forecast for Tauranga</td><td>Sun 9 Oct </td><td>Partly cloudy. Fairly breezy North to Nor'East winds.</td><td>12°Night</td><td>16°Day</td><td>25km/h</td></tr>\n",
       "\t<tr><td>Weather Forecast for Tauranga</td><td>Mon 10 Oct</td><td>Cloudy. Breezy Northerly winds.                      </td><td>11°Night</td><td>17°Day</td><td>19km/h</td></tr>\n",
       "\t<tr><td>Weather Forecast for Tauranga</td><td>Tue 11 Oct</td><td>Afternoon showers. Breezy North to Nor'West winds.   </td><td>11°Night</td><td>17°Day</td><td>15km/h</td></tr>\n",
       "\t<tr><td>Weather Forecast for Tauranga</td><td>Wed 12 Oct</td><td>Light rain. Breezy Easterly winds.                   </td><td>10°Night</td><td>16°Day</td><td>17km/h</td></tr>\n",
       "\t<tr><td>Weather Forecast for Tauranga</td><td>Thu 13 Oct</td><td>Rain. Fairly breezy East to Nor'East winds.          </td><td>10°Night</td><td>17°Day</td><td>22km/h</td></tr>\n",
       "\t<tr><td>Weather Forecast for Tauranga</td><td>Fri 14 Oct</td><td>Showers. Fairly breezy Nor'East winds.               </td><td>11°Night</td><td>16°Day</td><td>26km/h</td></tr>\n",
       "\t<tr><td>Weather Forecast for Tauranga</td><td>Sat 15 Oct</td><td>Rain. Fairly breezy Northerly winds.                 </td><td>12°Night</td><td>15°Day</td><td>27km/h</td></tr>\n",
       "</tbody>\n",
       "</table>\n"
      ],
      "text/latex": [
       "A tibble: 9 × 6\n",
       "\\begin{tabular}{llllll}\n",
       " location & date & tauranga\\_weather & tauranga\\_min\\_temp & tauranga\\_max\\_temp & tauranga\\_wind\\\\\n",
       " <chr> & <chr> & <chr> & <chr> & <chr> & <chr>\\\\\n",
       "\\hline\n",
       "\t Weather Forecast for Tauranga & Fri 7 Oct  & Partly cloudy. Fairly breezy Nor'East winds.          & 10°Night & 16°Day & 20km/h\\\\\n",
       "\t Weather Forecast for Tauranga & Sat 8 Oct  & Partly cloudy. Fairly breezy Nor'East winds.          & 11°Night & 15°Day & 26km/h\\\\\n",
       "\t Weather Forecast for Tauranga & Sun 9 Oct  & Partly cloudy. Fairly breezy North to Nor'East winds. & 12°Night & 16°Day & 25km/h\\\\\n",
       "\t Weather Forecast for Tauranga & Mon 10 Oct & Cloudy. Breezy Northerly winds.                       & 11°Night & 17°Day & 19km/h\\\\\n",
       "\t Weather Forecast for Tauranga & Tue 11 Oct & Afternoon showers. Breezy North to Nor'West winds.    & 11°Night & 17°Day & 15km/h\\\\\n",
       "\t Weather Forecast for Tauranga & Wed 12 Oct & Light rain. Breezy Easterly winds.                    & 10°Night & 16°Day & 17km/h\\\\\n",
       "\t Weather Forecast for Tauranga & Thu 13 Oct & Rain. Fairly breezy East to Nor'East winds.           & 10°Night & 17°Day & 22km/h\\\\\n",
       "\t Weather Forecast for Tauranga & Fri 14 Oct & Showers. Fairly breezy Nor'East winds.                & 11°Night & 16°Day & 26km/h\\\\\n",
       "\t Weather Forecast for Tauranga & Sat 15 Oct & Rain. Fairly breezy Northerly winds.                  & 12°Night & 15°Day & 27km/h\\\\\n",
       "\\end{tabular}\n"
      ],
      "text/markdown": [
       "\n",
       "A tibble: 9 × 6\n",
       "\n",
       "| location &lt;chr&gt; | date &lt;chr&gt; | tauranga_weather &lt;chr&gt; | tauranga_min_temp &lt;chr&gt; | tauranga_max_temp &lt;chr&gt; | tauranga_wind &lt;chr&gt; |\n",
       "|---|---|---|---|---|---|\n",
       "| Weather Forecast for Tauranga | Fri 7 Oct  | Partly cloudy. Fairly breezy Nor'East winds.          | 10°Night | 16°Day | 20km/h |\n",
       "| Weather Forecast for Tauranga | Sat 8 Oct  | Partly cloudy. Fairly breezy Nor'East winds.          | 11°Night | 15°Day | 26km/h |\n",
       "| Weather Forecast for Tauranga | Sun 9 Oct  | Partly cloudy. Fairly breezy North to Nor'East winds. | 12°Night | 16°Day | 25km/h |\n",
       "| Weather Forecast for Tauranga | Mon 10 Oct | Cloudy. Breezy Northerly winds.                       | 11°Night | 17°Day | 19km/h |\n",
       "| Weather Forecast for Tauranga | Tue 11 Oct | Afternoon showers. Breezy North to Nor'West winds.    | 11°Night | 17°Day | 15km/h |\n",
       "| Weather Forecast for Tauranga | Wed 12 Oct | Light rain. Breezy Easterly winds.                    | 10°Night | 16°Day | 17km/h |\n",
       "| Weather Forecast for Tauranga | Thu 13 Oct | Rain. Fairly breezy East to Nor'East winds.           | 10°Night | 17°Day | 22km/h |\n",
       "| Weather Forecast for Tauranga | Fri 14 Oct | Showers. Fairly breezy Nor'East winds.                | 11°Night | 16°Day | 26km/h |\n",
       "| Weather Forecast for Tauranga | Sat 15 Oct | Rain. Fairly breezy Northerly winds.                  | 12°Night | 15°Day | 27km/h |\n",
       "\n"
      ],
      "text/plain": [
       "  location                      date      \n",
       "1 Weather Forecast for Tauranga Fri 7 Oct \n",
       "2 Weather Forecast for Tauranga Sat 8 Oct \n",
       "3 Weather Forecast for Tauranga Sun 9 Oct \n",
       "4 Weather Forecast for Tauranga Mon 10 Oct\n",
       "5 Weather Forecast for Tauranga Tue 11 Oct\n",
       "6 Weather Forecast for Tauranga Wed 12 Oct\n",
       "7 Weather Forecast for Tauranga Thu 13 Oct\n",
       "8 Weather Forecast for Tauranga Fri 14 Oct\n",
       "9 Weather Forecast for Tauranga Sat 15 Oct\n",
       "  tauranga_weather                                      tauranga_min_temp\n",
       "1 Partly cloudy. Fairly breezy Nor'East winds.          10°Night         \n",
       "2 Partly cloudy. Fairly breezy Nor'East winds.          11°Night         \n",
       "3 Partly cloudy. Fairly breezy North to Nor'East winds. 12°Night         \n",
       "4 Cloudy. Breezy Northerly winds.                       11°Night         \n",
       "5 Afternoon showers. Breezy North to Nor'West winds.    11°Night         \n",
       "6 Light rain. Breezy Easterly winds.                    10°Night         \n",
       "7 Rain. Fairly breezy East to Nor'East winds.           10°Night         \n",
       "8 Showers. Fairly breezy Nor'East winds.                11°Night         \n",
       "9 Rain. Fairly breezy Northerly winds.                  12°Night         \n",
       "  tauranga_max_temp tauranga_wind\n",
       "1 16°Day            20km/h       \n",
       "2 15°Day            26km/h       \n",
       "3 16°Day            25km/h       \n",
       "4 17°Day            19km/h       \n",
       "5 17°Day            15km/h       \n",
       "6 16°Day            17km/h       \n",
       "7 17°Day            22km/h       \n",
       "8 16°Day            26km/h       \n",
       "9 15°Day            27km/h       "
      ]
     },
     "metadata": {},
     "output_type": "display_data"
    }
   ],
   "source": [
    "tauranga_df <- tibble(location=tauranga_location, date=date, tauranga_weather=weather, tauranga_min_temp=tauranga_min_temp, tauranga_max_temp=tauranga_max_temp, tauranga_wind=wind)\n",
    "tauranga_df"
   ]
  },
  {
   "cell_type": "code",
   "execution_count": 125,
   "id": "e027ae5f-f524-48bb-ad41-3308bbc3ac66",
   "metadata": {},
   "outputs": [
    {
     "data": {
      "text/html": [
       "<table class=\"dataframe\">\n",
       "<caption>A tibble: 9 × 6</caption>\n",
       "<thead>\n",
       "\t<tr><th scope=col>location</th><th scope=col>date</th><th scope=col>christchurch_weather</th><th scope=col>christchurch_min_temp</th><th scope=col>christchurch_max_temp</th><th scope=col>christchurch_wind</th></tr>\n",
       "\t<tr><th scope=col>&lt;chr&gt;</th><th scope=col>&lt;chr&gt;</th><th scope=col>&lt;chr&gt;</th><th scope=col>&lt;chr&gt;</th><th scope=col>&lt;chr&gt;</th><th scope=col>&lt;chr&gt;</th></tr>\n",
       "</thead>\n",
       "<tbody>\n",
       "\t<tr><td>Weather Forecast for Christchurch</td><td>Fri 7 Oct </td><td>Partly cloudy. Fairly breezy Nor'East winds.         </td><td>5°Night </td><td>16°Day</td><td>20km/h</td></tr>\n",
       "\t<tr><td>Weather Forecast for Christchurch</td><td>Sat 8 Oct </td><td>Partly cloudy. Fairly breezy Nor'East winds.         </td><td>8°Night </td><td>19°Day</td><td>26km/h</td></tr>\n",
       "\t<tr><td>Weather Forecast for Christchurch</td><td>Sun 9 Oct </td><td>Partly cloudy. Fairly breezy North to Nor'East winds.</td><td>12°Night</td><td>19°Day</td><td>25km/h</td></tr>\n",
       "\t<tr><td>Weather Forecast for Christchurch</td><td>Mon 10 Oct</td><td>Cloudy. Breezy Northerly winds.                      </td><td>8°Night </td><td>18°Day</td><td>19km/h</td></tr>\n",
       "\t<tr><td>Weather Forecast for Christchurch</td><td>Tue 11 Oct</td><td>Afternoon showers. Breezy North to Nor'West winds.   </td><td>6°Night </td><td>12°Day</td><td>15km/h</td></tr>\n",
       "\t<tr><td>Weather Forecast for Christchurch</td><td>Wed 12 Oct</td><td>Light rain. Breezy Easterly winds.                   </td><td>6°Night </td><td>13°Day</td><td>17km/h</td></tr>\n",
       "\t<tr><td>Weather Forecast for Christchurch</td><td>Thu 13 Oct</td><td>Rain. Fairly breezy East to Nor'East winds.          </td><td>7°Night </td><td>13°Day</td><td>22km/h</td></tr>\n",
       "\t<tr><td>Weather Forecast for Christchurch</td><td>Fri 14 Oct</td><td>Showers. Fairly breezy Nor'East winds.               </td><td>8°Night </td><td>15°Day</td><td>26km/h</td></tr>\n",
       "\t<tr><td>Weather Forecast for Christchurch</td><td>Sat 15 Oct</td><td>Rain. Fairly breezy Northerly winds.                 </td><td>9°Night </td><td>15°Day</td><td>27km/h</td></tr>\n",
       "</tbody>\n",
       "</table>\n"
      ],
      "text/latex": [
       "A tibble: 9 × 6\n",
       "\\begin{tabular}{llllll}\n",
       " location & date & christchurch\\_weather & christchurch\\_min\\_temp & christchurch\\_max\\_temp & christchurch\\_wind\\\\\n",
       " <chr> & <chr> & <chr> & <chr> & <chr> & <chr>\\\\\n",
       "\\hline\n",
       "\t Weather Forecast for Christchurch & Fri 7 Oct  & Partly cloudy. Fairly breezy Nor'East winds.          & 5°Night  & 16°Day & 20km/h\\\\\n",
       "\t Weather Forecast for Christchurch & Sat 8 Oct  & Partly cloudy. Fairly breezy Nor'East winds.          & 8°Night  & 19°Day & 26km/h\\\\\n",
       "\t Weather Forecast for Christchurch & Sun 9 Oct  & Partly cloudy. Fairly breezy North to Nor'East winds. & 12°Night & 19°Day & 25km/h\\\\\n",
       "\t Weather Forecast for Christchurch & Mon 10 Oct & Cloudy. Breezy Northerly winds.                       & 8°Night  & 18°Day & 19km/h\\\\\n",
       "\t Weather Forecast for Christchurch & Tue 11 Oct & Afternoon showers. Breezy North to Nor'West winds.    & 6°Night  & 12°Day & 15km/h\\\\\n",
       "\t Weather Forecast for Christchurch & Wed 12 Oct & Light rain. Breezy Easterly winds.                    & 6°Night  & 13°Day & 17km/h\\\\\n",
       "\t Weather Forecast for Christchurch & Thu 13 Oct & Rain. Fairly breezy East to Nor'East winds.           & 7°Night  & 13°Day & 22km/h\\\\\n",
       "\t Weather Forecast for Christchurch & Fri 14 Oct & Showers. Fairly breezy Nor'East winds.                & 8°Night  & 15°Day & 26km/h\\\\\n",
       "\t Weather Forecast for Christchurch & Sat 15 Oct & Rain. Fairly breezy Northerly winds.                  & 9°Night  & 15°Day & 27km/h\\\\\n",
       "\\end{tabular}\n"
      ],
      "text/markdown": [
       "\n",
       "A tibble: 9 × 6\n",
       "\n",
       "| location &lt;chr&gt; | date &lt;chr&gt; | christchurch_weather &lt;chr&gt; | christchurch_min_temp &lt;chr&gt; | christchurch_max_temp &lt;chr&gt; | christchurch_wind &lt;chr&gt; |\n",
       "|---|---|---|---|---|---|\n",
       "| Weather Forecast for Christchurch | Fri 7 Oct  | Partly cloudy. Fairly breezy Nor'East winds.          | 5°Night  | 16°Day | 20km/h |\n",
       "| Weather Forecast for Christchurch | Sat 8 Oct  | Partly cloudy. Fairly breezy Nor'East winds.          | 8°Night  | 19°Day | 26km/h |\n",
       "| Weather Forecast for Christchurch | Sun 9 Oct  | Partly cloudy. Fairly breezy North to Nor'East winds. | 12°Night | 19°Day | 25km/h |\n",
       "| Weather Forecast for Christchurch | Mon 10 Oct | Cloudy. Breezy Northerly winds.                       | 8°Night  | 18°Day | 19km/h |\n",
       "| Weather Forecast for Christchurch | Tue 11 Oct | Afternoon showers. Breezy North to Nor'West winds.    | 6°Night  | 12°Day | 15km/h |\n",
       "| Weather Forecast for Christchurch | Wed 12 Oct | Light rain. Breezy Easterly winds.                    | 6°Night  | 13°Day | 17km/h |\n",
       "| Weather Forecast for Christchurch | Thu 13 Oct | Rain. Fairly breezy East to Nor'East winds.           | 7°Night  | 13°Day | 22km/h |\n",
       "| Weather Forecast for Christchurch | Fri 14 Oct | Showers. Fairly breezy Nor'East winds.                | 8°Night  | 15°Day | 26km/h |\n",
       "| Weather Forecast for Christchurch | Sat 15 Oct | Rain. Fairly breezy Northerly winds.                  | 9°Night  | 15°Day | 27km/h |\n",
       "\n"
      ],
      "text/plain": [
       "  location                          date      \n",
       "1 Weather Forecast for Christchurch Fri 7 Oct \n",
       "2 Weather Forecast for Christchurch Sat 8 Oct \n",
       "3 Weather Forecast for Christchurch Sun 9 Oct \n",
       "4 Weather Forecast for Christchurch Mon 10 Oct\n",
       "5 Weather Forecast for Christchurch Tue 11 Oct\n",
       "6 Weather Forecast for Christchurch Wed 12 Oct\n",
       "7 Weather Forecast for Christchurch Thu 13 Oct\n",
       "8 Weather Forecast for Christchurch Fri 14 Oct\n",
       "9 Weather Forecast for Christchurch Sat 15 Oct\n",
       "  christchurch_weather                                  christchurch_min_temp\n",
       "1 Partly cloudy. Fairly breezy Nor'East winds.          5°Night              \n",
       "2 Partly cloudy. Fairly breezy Nor'East winds.          8°Night              \n",
       "3 Partly cloudy. Fairly breezy North to Nor'East winds. 12°Night             \n",
       "4 Cloudy. Breezy Northerly winds.                       8°Night              \n",
       "5 Afternoon showers. Breezy North to Nor'West winds.    6°Night              \n",
       "6 Light rain. Breezy Easterly winds.                    6°Night              \n",
       "7 Rain. Fairly breezy East to Nor'East winds.           7°Night              \n",
       "8 Showers. Fairly breezy Nor'East winds.                8°Night              \n",
       "9 Rain. Fairly breezy Northerly winds.                  9°Night              \n",
       "  christchurch_max_temp christchurch_wind\n",
       "1 16°Day                20km/h           \n",
       "2 19°Day                26km/h           \n",
       "3 19°Day                25km/h           \n",
       "4 18°Day                19km/h           \n",
       "5 12°Day                15km/h           \n",
       "6 13°Day                17km/h           \n",
       "7 13°Day                22km/h           \n",
       "8 15°Day                26km/h           \n",
       "9 15°Day                27km/h           "
      ]
     },
     "metadata": {},
     "output_type": "display_data"
    }
   ],
   "source": [
    "christchurch_df <- tibble(location=christchurch_location, date=date, christchurch_weather=weather, christchurch_min_temp=christchurch_min_temp, christchurch_max_temp=christchurch_max_temp, christchurch_wind=wind)\n",
    "christchurch_df"
   ]
  },
  {
   "cell_type": "code",
   "execution_count": 126,
   "id": "5a92bfbe-8782-4dfa-b7e0-25bbc2bad676",
   "metadata": {},
   "outputs": [
    {
     "data": {
      "text/html": [
       "<table class=\"dataframe\">\n",
       "<caption>A tibble: 9 × 6</caption>\n",
       "<thead>\n",
       "\t<tr><th scope=col>location</th><th scope=col>date</th><th scope=col>dunedin_weather</th><th scope=col>dunedin_min_temp</th><th scope=col>dunedin_max_temp</th><th scope=col>dunedin_wind</th></tr>\n",
       "\t<tr><th scope=col>&lt;chr&gt;</th><th scope=col>&lt;chr&gt;</th><th scope=col>&lt;chr&gt;</th><th scope=col>&lt;chr&gt;</th><th scope=col>&lt;chr&gt;</th><th scope=col>&lt;chr&gt;</th></tr>\n",
       "</thead>\n",
       "<tbody>\n",
       "\t<tr><td>Weather Forecast for Dunedin</td><td>Fri 7 Oct </td><td>Partly cloudy. Fairly breezy Nor'East winds.         </td><td>6°Night </td><td>14°Day</td><td>20km/h</td></tr>\n",
       "\t<tr><td>Weather Forecast for Dunedin</td><td>Sat 8 Oct </td><td>Partly cloudy. Fairly breezy Nor'East winds.         </td><td>10°Night</td><td>17°Day</td><td>26km/h</td></tr>\n",
       "\t<tr><td>Weather Forecast for Dunedin</td><td>Sun 9 Oct </td><td>Partly cloudy. Fairly breezy North to Nor'East winds.</td><td>8°Night </td><td>15°Day</td><td>25km/h</td></tr>\n",
       "\t<tr><td>Weather Forecast for Dunedin</td><td>Mon 10 Oct</td><td>Cloudy. Breezy Northerly winds.                      </td><td>5°Night </td><td>13°Day</td><td>19km/h</td></tr>\n",
       "\t<tr><td>Weather Forecast for Dunedin</td><td>Tue 11 Oct</td><td>Afternoon showers. Breezy North to Nor'West winds.   </td><td>5°Night </td><td>11°Day</td><td>15km/h</td></tr>\n",
       "\t<tr><td>Weather Forecast for Dunedin</td><td>Wed 12 Oct</td><td>Light rain. Breezy Easterly winds.                   </td><td>6°Night </td><td>11°Day</td><td>17km/h</td></tr>\n",
       "\t<tr><td>Weather Forecast for Dunedin</td><td>Thu 13 Oct</td><td>Rain. Fairly breezy East to Nor'East winds.          </td><td>6°Night </td><td>12°Day</td><td>22km/h</td></tr>\n",
       "\t<tr><td>Weather Forecast for Dunedin</td><td>Fri 14 Oct</td><td>Showers. Fairly breezy Nor'East winds.               </td><td>7°Night </td><td>13°Day</td><td>26km/h</td></tr>\n",
       "\t<tr><td>Weather Forecast for Dunedin</td><td>Sat 15 Oct</td><td>Rain. Fairly breezy Northerly winds.                 </td><td>8°Night </td><td>13°Day</td><td>27km/h</td></tr>\n",
       "</tbody>\n",
       "</table>\n"
      ],
      "text/latex": [
       "A tibble: 9 × 6\n",
       "\\begin{tabular}{llllll}\n",
       " location & date & dunedin\\_weather & dunedin\\_min\\_temp & dunedin\\_max\\_temp & dunedin\\_wind\\\\\n",
       " <chr> & <chr> & <chr> & <chr> & <chr> & <chr>\\\\\n",
       "\\hline\n",
       "\t Weather Forecast for Dunedin & Fri 7 Oct  & Partly cloudy. Fairly breezy Nor'East winds.          & 6°Night  & 14°Day & 20km/h\\\\\n",
       "\t Weather Forecast for Dunedin & Sat 8 Oct  & Partly cloudy. Fairly breezy Nor'East winds.          & 10°Night & 17°Day & 26km/h\\\\\n",
       "\t Weather Forecast for Dunedin & Sun 9 Oct  & Partly cloudy. Fairly breezy North to Nor'East winds. & 8°Night  & 15°Day & 25km/h\\\\\n",
       "\t Weather Forecast for Dunedin & Mon 10 Oct & Cloudy. Breezy Northerly winds.                       & 5°Night  & 13°Day & 19km/h\\\\\n",
       "\t Weather Forecast for Dunedin & Tue 11 Oct & Afternoon showers. Breezy North to Nor'West winds.    & 5°Night  & 11°Day & 15km/h\\\\\n",
       "\t Weather Forecast for Dunedin & Wed 12 Oct & Light rain. Breezy Easterly winds.                    & 6°Night  & 11°Day & 17km/h\\\\\n",
       "\t Weather Forecast for Dunedin & Thu 13 Oct & Rain. Fairly breezy East to Nor'East winds.           & 6°Night  & 12°Day & 22km/h\\\\\n",
       "\t Weather Forecast for Dunedin & Fri 14 Oct & Showers. Fairly breezy Nor'East winds.                & 7°Night  & 13°Day & 26km/h\\\\\n",
       "\t Weather Forecast for Dunedin & Sat 15 Oct & Rain. Fairly breezy Northerly winds.                  & 8°Night  & 13°Day & 27km/h\\\\\n",
       "\\end{tabular}\n"
      ],
      "text/markdown": [
       "\n",
       "A tibble: 9 × 6\n",
       "\n",
       "| location &lt;chr&gt; | date &lt;chr&gt; | dunedin_weather &lt;chr&gt; | dunedin_min_temp &lt;chr&gt; | dunedin_max_temp &lt;chr&gt; | dunedin_wind &lt;chr&gt; |\n",
       "|---|---|---|---|---|---|\n",
       "| Weather Forecast for Dunedin | Fri 7 Oct  | Partly cloudy. Fairly breezy Nor'East winds.          | 6°Night  | 14°Day | 20km/h |\n",
       "| Weather Forecast for Dunedin | Sat 8 Oct  | Partly cloudy. Fairly breezy Nor'East winds.          | 10°Night | 17°Day | 26km/h |\n",
       "| Weather Forecast for Dunedin | Sun 9 Oct  | Partly cloudy. Fairly breezy North to Nor'East winds. | 8°Night  | 15°Day | 25km/h |\n",
       "| Weather Forecast for Dunedin | Mon 10 Oct | Cloudy. Breezy Northerly winds.                       | 5°Night  | 13°Day | 19km/h |\n",
       "| Weather Forecast for Dunedin | Tue 11 Oct | Afternoon showers. Breezy North to Nor'West winds.    | 5°Night  | 11°Day | 15km/h |\n",
       "| Weather Forecast for Dunedin | Wed 12 Oct | Light rain. Breezy Easterly winds.                    | 6°Night  | 11°Day | 17km/h |\n",
       "| Weather Forecast for Dunedin | Thu 13 Oct | Rain. Fairly breezy East to Nor'East winds.           | 6°Night  | 12°Day | 22km/h |\n",
       "| Weather Forecast for Dunedin | Fri 14 Oct | Showers. Fairly breezy Nor'East winds.                | 7°Night  | 13°Day | 26km/h |\n",
       "| Weather Forecast for Dunedin | Sat 15 Oct | Rain. Fairly breezy Northerly winds.                  | 8°Night  | 13°Day | 27km/h |\n",
       "\n"
      ],
      "text/plain": [
       "  location                     date      \n",
       "1 Weather Forecast for Dunedin Fri 7 Oct \n",
       "2 Weather Forecast for Dunedin Sat 8 Oct \n",
       "3 Weather Forecast for Dunedin Sun 9 Oct \n",
       "4 Weather Forecast for Dunedin Mon 10 Oct\n",
       "5 Weather Forecast for Dunedin Tue 11 Oct\n",
       "6 Weather Forecast for Dunedin Wed 12 Oct\n",
       "7 Weather Forecast for Dunedin Thu 13 Oct\n",
       "8 Weather Forecast for Dunedin Fri 14 Oct\n",
       "9 Weather Forecast for Dunedin Sat 15 Oct\n",
       "  dunedin_weather                                       dunedin_min_temp\n",
       "1 Partly cloudy. Fairly breezy Nor'East winds.          6°Night         \n",
       "2 Partly cloudy. Fairly breezy Nor'East winds.          10°Night        \n",
       "3 Partly cloudy. Fairly breezy North to Nor'East winds. 8°Night         \n",
       "4 Cloudy. Breezy Northerly winds.                       5°Night         \n",
       "5 Afternoon showers. Breezy North to Nor'West winds.    5°Night         \n",
       "6 Light rain. Breezy Easterly winds.                    6°Night         \n",
       "7 Rain. Fairly breezy East to Nor'East winds.           6°Night         \n",
       "8 Showers. Fairly breezy Nor'East winds.                7°Night         \n",
       "9 Rain. Fairly breezy Northerly winds.                  8°Night         \n",
       "  dunedin_max_temp dunedin_wind\n",
       "1 14°Day           20km/h      \n",
       "2 17°Day           26km/h      \n",
       "3 15°Day           25km/h      \n",
       "4 13°Day           19km/h      \n",
       "5 11°Day           15km/h      \n",
       "6 11°Day           17km/h      \n",
       "7 12°Day           22km/h      \n",
       "8 13°Day           26km/h      \n",
       "9 13°Day           27km/h      "
      ]
     },
     "metadata": {},
     "output_type": "display_data"
    }
   ],
   "source": [
    "dunedin_df <- tibble(location=dunedin_location, date=date, dunedin_weather=weather, dunedin_min_temp=dunedin_min_temp, dunedin_max_temp=dunedin_max_temp, dunedin_wind=wind)\n",
    "dunedin_df"
   ]
  },
  {
   "cell_type": "code",
   "execution_count": null,
   "id": "39514a08-a596-4db0-91d0-dab754307bc4",
   "metadata": {},
   "outputs": [],
   "source": []
  }
 ],
 "metadata": {
  "kernelspec": {
   "display_name": "R",
   "language": "R",
   "name": "ir"
  },
  "language_info": {
   "codemirror_mode": "r",
   "file_extension": ".r",
   "mimetype": "text/x-r-source",
   "name": "R",
   "pygments_lexer": "r",
   "version": "4.2.1"
  }
 },
 "nbformat": 4,
 "nbformat_minor": 5
}
