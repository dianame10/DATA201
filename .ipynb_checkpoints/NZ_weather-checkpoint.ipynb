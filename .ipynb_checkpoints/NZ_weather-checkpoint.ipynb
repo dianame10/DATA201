{
 "cells": [
  {
   "cell_type": "code",
   "execution_count": 6,
   "id": "0c53e5c0-7c8b-46d7-95cf-51ea6b4915b7",
   "metadata": {},
   "outputs": [],
   "source": [
    "library(tidyverse)\n",
    "library(dplyr)"
   ]
  },
  {
   "cell_type": "code",
   "execution_count": 7,
   "id": "9e7dbe50-1b8c-4a21-a917-63eb14d5ff5c",
   "metadata": {},
   "outputs": [
    {
     "name": "stdout",
     "output_type": "stream",
     "text": [
      "\n",
      "The downloaded binary packages are in\n",
      "\t/var/folders/2m/ws9986mn5899l1y7kxcl1wxh0000gn/T//Rtmp3yzQ7p/downloaded_packages\n",
      "\n",
      "The downloaded binary packages are in\n",
      "\t/var/folders/2m/ws9986mn5899l1y7kxcl1wxh0000gn/T//Rtmp3yzQ7p/downloaded_packages\n",
      "\n",
      "The downloaded binary packages are in\n",
      "\t/var/folders/2m/ws9986mn5899l1y7kxcl1wxh0000gn/T//Rtmp3yzQ7p/downloaded_packages\n",
      "\n",
      "The downloaded binary packages are in\n",
      "\t/var/folders/2m/ws9986mn5899l1y7kxcl1wxh0000gn/T//Rtmp3yzQ7p/downloaded_packages\n"
     ]
    }
   ],
   "source": [
    "install.packages(\"magrittr\")\n",
    "install.packages(\"purrr\")\n",
    "install.packages(\"glue\")\n",
    "install.packages(\"stringr\")\n",
    "library(magrittr) # better handling of pipes\n",
    "library(purrr) # to work with lists and map functions\n",
    "library(glue) # to paste strings\n",
    "library(stringr) # to hand strings"
   ]
  },
  {
   "cell_type": "code",
   "execution_count": 8,
   "id": "79a81e6f-0d1e-482a-a709-211212b23779",
   "metadata": {},
   "outputs": [
    {
     "name": "stdout",
     "output_type": "stream",
     "text": [
      "\n",
      "The downloaded binary packages are in\n",
      "\t/var/folders/2m/ws9986mn5899l1y7kxcl1wxh0000gn/T//Rtmp3yzQ7p/downloaded_packages\n"
     ]
    },
    {
     "name": "stderr",
     "output_type": "stream",
     "text": [
      "Skipping install of 'polite' from a github remote, the SHA1 (70b27996) has not changed since last install.\n",
      "  Use `force = TRUE` to force installation\n",
      "\n"
     ]
    },
    {
     "ename": "ERROR",
     "evalue": "Error in eval(expr, envir, enclos): attempt to apply non-function\n",
     "output_type": "error",
     "traceback": [
      "Error in eval(expr, envir, enclos): attempt to apply non-function\nTraceback:\n"
     ]
    }
   ],
   "source": [
    "install.packages(\"rvest\")\n",
    "remotes::install_github(\"dmi3kno/polite\")(\"politer\")\n",
    "install.packages(\"xml2\")\n",
    "library(rvest) # rvest makes scraping easier\n",
    "library(polite) # polite is the \"polite\" version of rvest\n",
    "library(xml2) # makes it easier to work with HTML and XML from R"
   ]
  },
  {
   "cell_type": "code",
   "execution_count": 9,
   "id": "54e78f2f-ee2c-4229-a235-d9f60a5ab5c1",
   "metadata": {},
   "outputs": [
    {
     "ename": "ERROR",
     "evalue": "Error in read_html(url_titles): could not find function \"read_html\"\n",
     "output_type": "error",
     "traceback": [
      "Error in read_html(url_titles): could not find function \"read_html\"\nTraceback:\n"
     ]
    }
   ],
   "source": [
    "url_titles <- \"https://www.weatherwatch.co.nz/forecasts/Auckland\" # this is the base url from where the scraping starts\n",
    "page_title <- read_html(url_titles)"
   ]
  },
  {
   "cell_type": "code",
   "execution_count": 4,
   "id": "b3f975a6-cbd6-4838-811a-437fa844b63e",
   "metadata": {},
   "outputs": [
    {
     "ename": "ERROR",
     "evalue": "Error in typeof(.): object 'page_title' not found\n",
     "output_type": "error",
     "traceback": [
      "Error in typeof(.): object 'page_title' not found\nTraceback:\n",
      "1. page_title %>% typeof()",
      "2. typeof(.)"
     ]
    }
   ],
   "source": [
    "page_title %>% typeof()\n",
    "page_title %>% glimpse()"
   ]
  },
  {
   "cell_type": "code",
   "execution_count": 5,
   "id": "8d744ecd-6084-4994-9707-042d5fb8bd2f",
   "metadata": {},
   "outputs": [
    {
     "ename": "ERROR",
     "evalue": "Error in html_text(.): could not find function \"html_text\"\n",
     "output_type": "error",
     "traceback": [
      "Error in html_text(.): could not find function \"html_text\"\nTraceback:\n",
      "1. page_title %>% html_nodes(\".date\") %>% html_text()"
     ]
    }
   ],
   "source": [
    "date <- page_title %>% html_nodes(\".date\") %>% html_text()\n",
    "date"
   ]
  },
  {
   "cell_type": "code",
   "execution_count": null,
   "id": "35894f73-2e93-4e40-923e-64c660ea47f0",
   "metadata": {},
   "outputs": [],
   "source": []
  }
 ],
 "metadata": {
  "kernelspec": {
   "display_name": "R",
   "language": "R",
   "name": "ir"
  },
  "language_info": {
   "codemirror_mode": "r",
   "file_extension": ".r",
   "mimetype": "text/x-r-source",
   "name": "R",
   "pygments_lexer": "r",
   "version": "4.2.1"
  }
 },
 "nbformat": 4,
 "nbformat_minor": 5
}
