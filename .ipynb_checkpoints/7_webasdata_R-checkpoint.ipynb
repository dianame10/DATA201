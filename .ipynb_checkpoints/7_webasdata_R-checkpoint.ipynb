{
 "cells": [
  {
   "cell_type": "markdown",
   "metadata": {},
   "source": [
    "![](https://upload.wikimedia.org/wikipedia/commons/thumb/3/33/Parental_Advisory_label.svg/500px-Parental_Advisory_label.svg.png)"
   ]
  },
  {
   "cell_type": "markdown",
   "metadata": {},
   "source": [
    "This is going to be a long lab. You will probably start now and finish at home. The **highly suggested** browser (or, at least, the one that I'll be using) is [Firefox](https://www.mozilla.org/en-US/firefox/developer/), the developer edition (for the console mode).\n",
    "\n",
    "The goal is to build a little collection of songs from our own preferred artist. Let's say, it's _Beastwars_ (they are great!).  \n",
    "First you will work together through a full example, then I will ask you to do something more!  \n",
    "\n",
    "The lab is organised like this:\n",
    "\n",
    "1.  The Scraping\n",
    "2.  The APIs\n",
    "\n",
    "Part 1. regards web as an unwilling source of data (the information is out there, but it is not explicitly designed for you to harvest it);   \n",
    "Part 2. is mostly the web as willing source of data.\n",
    "\n",
    "Part 1. is more guided, in Part 2. you'll need to navigate autonomously.\n",
    "\n",
    "#### The lab is long, so you may want to alternate between the Julia and the R part a little bit in order to get started on both during the lab time."
   ]
  },
  {
   "cell_type": "markdown",
   "metadata": {},
   "source": [
    "# Scraping"
   ]
  },
  {
   "cell_type": "markdown",
   "metadata": {},
   "source": [
    " A little kicker for the day:"
   ]
  },
  {
   "cell_type": "code",
   "execution_count": 1,
   "metadata": {},
   "outputs": [
    {
     "data": {
      "text/html": [
       "<iframe width=\"560\" height=\"315\" src=\"https://www.youtube.com/embed/M-twENDrwkk\" frameborder=\"0\" allow=\"autoplay; encrypted-media\" allowfullscreen></iframe>"
      ]
     },
     "metadata": {},
     "output_type": "display_data"
    }
   ],
   "source": [
    "IRdisplay::display_html('<iframe width=\"560\" height=\"315\" src=\"https://www.youtube.com/embed/M-twENDrwkk\" frameborder=\"0\" allow=\"autoplay; encrypted-media\" allowfullscreen></iframe>')"
   ]
  },
  {
   "cell_type": "markdown",
   "metadata": {},
   "source": [
    "We are going to work in the usual tidyverse framework."
   ]
  },
  {
   "cell_type": "code",
   "execution_count": 2,
   "metadata": {
    "tags": []
   },
   "outputs": [
    {
     "name": "stderr",
     "output_type": "stream",
     "text": [
      "Warning message in system(\"timedatectl\", intern = TRUE):\n",
      "“running command 'timedatectl' had status 1”\n",
      "── \u001b[1mAttaching packages\u001b[22m ─────────────────────────────────────────────────────────────────────────────── tidyverse 1.3.1 ──\n",
      "\n",
      "\u001b[32m✔\u001b[39m \u001b[34mggplot2\u001b[39m 3.3.5     \u001b[32m✔\u001b[39m \u001b[34mpurrr  \u001b[39m 0.3.4\n",
      "\u001b[32m✔\u001b[39m \u001b[34mtibble \u001b[39m 3.1.4     \u001b[32m✔\u001b[39m \u001b[34mdplyr  \u001b[39m 1.0.7\n",
      "\u001b[32m✔\u001b[39m \u001b[34mtidyr  \u001b[39m 1.1.3     \u001b[32m✔\u001b[39m \u001b[34mstringr\u001b[39m 1.4.0\n",
      "\u001b[32m✔\u001b[39m \u001b[34mreadr  \u001b[39m 2.0.0     \u001b[32m✔\u001b[39m \u001b[34mforcats\u001b[39m 0.5.1\n",
      "\n",
      "── \u001b[1mConflicts\u001b[22m ────────────────────────────────────────────────────────────────────────────────── tidyverse_conflicts() ──\n",
      "\u001b[31m✖\u001b[39m \u001b[34mdplyr\u001b[39m::\u001b[32mfilter()\u001b[39m masks \u001b[34mstats\u001b[39m::filter()\n",
      "\u001b[31m✖\u001b[39m \u001b[34mdplyr\u001b[39m::\u001b[32mlag()\u001b[39m    masks \u001b[34mstats\u001b[39m::lag()\n",
      "\n"
     ]
    }
   ],
   "source": [
    "library(tidyverse)"
   ]
  },
  {
   "cell_type": "markdown",
   "metadata": {},
   "source": [
    "We also introduce a bunch of additional packages that we will start to use more."
   ]
  },
  {
   "cell_type": "code",
   "execution_count": 3,
   "metadata": {
    "tags": []
   },
   "outputs": [
    {
     "name": "stderr",
     "output_type": "stream",
     "text": [
      "\n",
      "Attaching package: ‘magrittr’\n",
      "\n",
      "\n",
      "The following object is masked from ‘package:purrr’:\n",
      "\n",
      "    set_names\n",
      "\n",
      "\n",
      "The following object is masked from ‘package:tidyr’:\n",
      "\n",
      "    extract\n",
      "\n",
      "\n",
      "\n",
      "Attaching package: ‘glue’\n",
      "\n",
      "\n",
      "The following object is masked from ‘package:dplyr’:\n",
      "\n",
      "    collapse\n",
      "\n",
      "\n"
     ]
    }
   ],
   "source": [
    "# install.packages(\"magrittr\")\n",
    "# install.packages(\"purrr\")\n",
    "# install.packages(\"glue\")\n",
    "# install.packages(\"stringr\")\n",
    "library(magrittr) # better handling of pipes\n",
    "library(purrr) # to work with lists and map functions\n",
    "library(glue) # to paste strings\n",
    "library(stringr) # to hand strings"
   ]
  },
  {
   "cell_type": "markdown",
   "metadata": {},
   "source": [
    "As well as some web scraping specific libraries: [rvest](https://github.com/hadley/rvest#rvest) and [polite](https://github.com/dmi3kno/polite#polite-). Spend some minutes reading through the README files in their website."
   ]
  },
  {
   "cell_type": "code",
   "execution_count": 4,
   "metadata": {},
   "outputs": [
    {
     "name": "stderr",
     "output_type": "stream",
     "text": [
      "\n",
      "Attaching package: ‘rvest’\n",
      "\n",
      "\n",
      "The following object is masked from ‘package:readr’:\n",
      "\n",
      "    guess_encoding\n",
      "\n",
      "\n"
     ]
    }
   ],
   "source": [
    "# install.packages(\"rvest\")\n",
    "# remotes::install_github(\"dmi3kno/polite\")(\"politer\")\n",
    "# install.packages(\"xml2\")\n",
    "library(rvest) # rvest makes scraping easier\n",
    "library(polite) # polite is the \"polite\" version of rvest\n",
    "library(xml2) # makes it easier to work with HTML and XML from R"
   ]
  },
  {
   "cell_type": "markdown",
   "metadata": {},
   "source": [
    "### The lyrics\n",
    "\n",
    "We are going to extract the lyrics from here: https://www.musixmatch.com/ . Chose it because it's rather consistent, and it's from Bologna, Italy (yeah!).\n",
    "\n",
    "The webiste offers the first 15 lyrics up front. That will do for the moment (and fixing that is not that easy). Let's take a look [here](https://www.musixmatch.com/artist/Beastwars#).\n",
    "\n",
    "The webpage you see is **not** the webpage the browser reads: it is the \"parsing\" of the original page. If you want to see the original page you can (in Firefox) right click and select \"View Page Source\". It's a mess. It's a lot of mess. But if you scroll enough you may find that there are information about \"track_id\", \"track_name\", ... It is stored under the label \"attributes\"."
   ]
  },
  {
   "cell_type": "markdown",
   "metadata": {},
   "source": [
    "### Titles\n",
    "\n",
    "First thing first, we would like to get a list of those track titles, so then we'll go and scrape them. Let's see how."
   ]
  },
  {
   "cell_type": "code",
   "execution_count": 5,
   "metadata": {},
   "outputs": [],
   "source": [
    "url_titles <- \"https://www.musixmatch.com/artist/Tool\" # this is the base url from where the scraping starts\n",
    "\n",
    "page_title <- read_html(url_titles)"
   ]
  },
  {
   "cell_type": "markdown",
   "metadata": {},
   "source": [
    "`read_html()` reads and parses the webpage into R. What kind of object have we there?"
   ]
  },
  {
   "cell_type": "code",
   "execution_count": 6,
   "metadata": {},
   "outputs": [
    {
     "data": {
      "text/html": [
       "'list'"
      ],
      "text/latex": [
       "'list'"
      ],
      "text/markdown": [
       "'list'"
      ],
      "text/plain": [
       "[1] \"list\""
      ]
     },
     "metadata": {},
     "output_type": "display_data"
    },
    {
     "name": "stdout",
     "output_type": "stream",
     "text": [
      "List of 2\n",
      " $ node:<externalptr> \n",
      " $ doc :<externalptr> \n",
      " - attr(*, \"class\")= chr [1:2] \"xml_document\" \"xml_node\"\n"
     ]
    }
   ],
   "source": [
    "page_title %>% typeof()\n",
    "page_title %>% glimpse()"
   ]
  },
  {
   "cell_type": "markdown",
   "metadata": {},
   "source": [
    "Mmm, a list: this is how R sees the information in the page. Now it's a good moment to read through this quick introduction to R lists and vectors written by Jenny Brian: https://jennybc.github.io/purrr-tutorial/bk00_vectors-and-lists.html"
   ]
  },
  {
   "cell_type": "code",
   "execution_count": 7,
   "metadata": {},
   "outputs": [
    {
     "data": {
      "text/plain": [
       "{html_document}\n",
       "<html xmlns:og=\"http://ogp.me/ns#\" class=\"artist-page-page\">\n",
       "[1] <head prefix=\"og: http://ogp.me/ns# fb: http://ogp.me/ns/fb# musixmatch:  ...\n",
       "[2] <body spellcheck=\"false\" class=\"\">\\n    <div id=\"fb-root\"></div>\\n    <di ..."
      ]
     },
     "metadata": {},
     "output_type": "display_data"
    }
   ],
   "source": [
    "page_title"
   ]
  },
  {
   "cell_type": "markdown",
   "metadata": {},
   "source": [
    "OK. It's a document. And in particular an XML document. That's sort of html.  \n",
    "We need to parse the xml in a better way than just diving into the text.  \n",
    "The library `xml2` is there excatly for parsing xml into something more humane.  \n",
    "Let's see a bit more of that page: careful, long output coming!"
   ]
  },
  {
   "cell_type": "code",
   "execution_count": 8,
   "metadata": {
    "collapsed": true,
    "jupyter": {
     "outputs_hidden": true
    },
    "tags": []
   },
   "outputs": [
    {
     "name": "stdout",
     "output_type": "stream",
     "text": [
      "<html.artist-page-page [xmlns:og]>\n",
      "  <head [prefix]>\n",
      "    <script>\n",
      "      {cdata}\n",
      "    <script>\n",
      "      {cdata}\n",
      "    <script>\n",
      "      {cdata}\n",
      "    <script>\n",
      "      {cdata}\n",
      "    <script [type]>\n",
      "      {cdata}\n",
      "    <link [rel, type, href]>\n",
      "    <link [rel, type, href]>\n",
      "    <script>\n",
      "      {cdata}\n",
      "    <meta [name, content]>\n",
      "    <meta [name, content]>\n",
      "    <title>\n",
      "      {text}\n",
      "    <meta [charset]>\n",
      "    <meta [http-equiv, content]>\n",
      "    <meta [http-equiv, content]>\n",
      "    <meta [name, content]>\n",
      "    <meta [name, content]>\n",
      "    <meta [name, content]>\n",
      "    <meta [name, content]>\n",
      "    <meta [name, content]>\n",
      "    <meta [name, content]>\n",
      "    <meta [name, content]>\n",
      "    <link [href, rel]>\n",
      "    <link [href, rel]>\n",
      "    <link [href, rel]>\n",
      "    <link [href, rel]>\n",
      "    <link [rel, type, href, title]>\n",
      "    <link [rel, href]>\n",
      "    <link [rel, href]>\n",
      "    <link [rel, href]>\n",
      "    <meta [name, content]>\n",
      "    <link [rel, href, hreflang]>\n",
      "    <link [rel, href, hreflang]>\n",
      "    <link [rel, href, hreflang]>\n",
      "    <link [rel, href, hreflang]>\n",
      "    <link [rel, href, hreflang]>\n",
      "    <link [rel, href, hreflang]>\n",
      "    <link [rel, href, hreflang]>\n",
      "    <link [rel, href, hreflang]>\n",
      "    <meta [name, content]>\n",
      "    <meta [name, content]>\n",
      "    <meta [name, content]>\n",
      "    <meta [name, content]>\n",
      "    <link [rel, sizes, href]>\n",
      "    <link [rel, sizes, href]>\n",
      "    <link [rel, href]>\n",
      "    <meta [property, content]>\n",
      "    <meta [property, content]>\n",
      "    <meta [name, content]>\n",
      "    <link [rel, href]>\n",
      "    <link [rel, href]>\n",
      "    <link [rel, href]>\n",
      "    <meta [property, content]>\n",
      "    <meta [property, content]>\n",
      "    <meta [property, content]>\n",
      "    <meta [property, content]>\n",
      "    <meta [property, content]>\n",
      "    <meta [property, content]>\n",
      "    <meta [property, content]>\n",
      "    <meta [property, content]>\n",
      "    <meta [property, content]>\n",
      "    <meta [property, content]>\n",
      "    <meta [property, content]>\n",
      "    <meta [property, content]>\n",
      "    <meta [property, content]>\n",
      "    <meta [property, content]>\n",
      "    <meta [property, content]>\n",
      "    <meta [property, content]>\n",
      "    <meta [property, content]>\n",
      "    <meta [property, content]>\n",
      "    <meta [property, content]>\n",
      "    <meta [http-equiv, content]>\n",
      "    <script>\n",
      "      {cdata}\n",
      "    <script>\n",
      "      {cdata}\n",
      "    <script [type]>\n",
      "      {cdata}\n",
      "    <script [type]>\n",
      "      {cdata}\n",
      "  <body. [spellcheck]>\n",
      "    {text}\n",
      "    <div#fb-root>\n",
      "    {text}\n",
      "    <div#site>\n",
      "      <div#artist-page . [data-reactroot]>\n",
      "        <div#header .navbar [role]>\n",
      "          <nav.top-bar.desktop-bar [data-topbar]>\n",
      "            <section.top-bar-section>\n",
      "              <ul.title-area>\n",
      "                <li.name>\n",
      "                  <h1>\n",
      "                    <a#logo [href]>\n",
      "                      <img [alt, width, src]>\n",
      "              <ul.search-nav [role]>\n",
      "                <li.search.has-form>\n",
      "                  <form>\n",
      "                    <div#search-bar>\n",
      "                      <input#search-input [type, placeholder, value, autocomplete]>\n",
      "                      <button#search-button .button-icon>\n",
      "                        <i.icon.icon-search>\n",
      "              <div.top-bar-right>\n",
      "                <ul.site-nav [role]>\n",
      "                  <li>\n",
      "                    <a [href]>\n",
      "                      {text}\n",
      "                      <span.pro>\n",
      "                        {text}\n",
      "                  <li>\n",
      "                    <a [href]>\n",
      "                      {text}\n",
      "                  <li>\n",
      "                    <a [href]>\n",
      "                      {text}\n",
      "                  <li>\n",
      "                    <a [href]>\n",
      "                      {text}\n",
      "                <ul.user-nav>\n",
      "                  <li>\n",
      "                    <ul.user-nav-items.loggedOut>\n",
      "                      <li#sign-in>\n",
      "                        <a.custom [data-external-link, href]>\n",
      "                          {text}\n",
      "          <nav.top-bar.mobile-top-bar>\n",
      "            <ul.title-area>\n",
      "              <li.offcanvas-toggler>\n",
      "                <a [href]>\n",
      "                  <i.icon.icon-list>\n",
      "              <li.name>\n",
      "                <h1>\n",
      "                  <a [href]>\n",
      "                    <img [alt, src]>\n",
      "              <li.toggle-search-bar>\n",
      "                <a [href]>\n",
      "                  <span>\n",
      "                    <i.icon.icon-search>\n",
      "              <li.search.has-form>\n",
      "                <form>\n",
      "                  <div#search-bar>\n",
      "                    <input#search-input [type, placeholder, value, autocomplete]>\n",
      "                    <button#search-button .button-icon>\n",
      "                      <i.icon.icon-search>\n",
      "                  <button.button.button-link.search-bar-cancel>\n",
      "                    <i.icon.icon-cross>\n",
      "          <noscript>\n",
      "        <div#content [role]>\n",
      "          <div.artist-page.main-wrapper [itemtype]>\n",
      "            <meta [content, itemprop]>\n",
      "            <div.profile-header.artist-header>\n",
      "              <div.main-wrapper>\n",
      "                <div.noCoverPlaceholder>\n",
      "                <div.bg>\n",
      "                <div.profile-info>\n",
      "                  <div.profile-head-link>\n",
      "                    <div.profile-image>\n",
      "                      <img.profile-avatar.large [itemprop, src, alt]>\n",
      "                    <div.profile-data>\n",
      "                      <meta [itemprop, content]>\n",
      "                      <meta [itemprop, content]>\n",
      "                      <span.lyricsLabel>\n",
      "                        {text}\n",
      "                      <h1. [title, itemprop]>\n",
      "                        {text}\n",
      "                      <ul.genres>\n",
      "                        <li>\n",
      "                          <a [href]>\n",
      "                            {text}\n",
      "                        <li>\n",
      "                          <a [href]>\n",
      "                            {text}\n",
      "                        <li>\n",
      "                          <a [href]>\n",
      "                            {text}\n",
      "                    <a.verify-link [href]>\n",
      "                      {text}\n",
      "                  <button.button-primary.contribute-button>\n",
      "                    {text}\n",
      "                    {comment}\n",
      "                    {text}\n",
      "                  <ul.profile-head-info>\n",
      "                  <span>\n",
      "            <div.profile-content>\n",
      "              <div>\n",
      "                <div.section-header>\n",
      "                  <ul.tabs>\n",
      "                    <li#overview .selected>\n",
      "                      <a [href]>\n",
      "                        {text}\n",
      "                    <li#community .>\n",
      "                      <a [href]>\n",
      "                        {text}\n",
      "                    <li#albums .>\n",
      "                      <a [href]>\n",
      "                        {text}\n",
      "                <div.tab-content>\n",
      "                  <div.main-wrapper>\n",
      "                    <div.main>\n",
      "                      <div.row>\n",
      "                        <div.main-panel>\n",
      "                          <div#cf_async_100001909_460 ._2-NbqRCcpnx1S7eZLj0p72>\n",
      "                          <div#top-songs .box.box-style-plain>\n",
      "                            <div.box-header>\n",
      "                              <h3.box-title>\n",
      "                                {text}\n",
      "                                {comment}\n",
      "                                {text}\n",
      "                              <div.actions>\n",
      "                            <div.box-content>\n",
      "                              <div>\n",
      "                                <div>\n",
      "                                  <ul.tracks.list>\n",
      "                                    <li.showPosition.showCoverart>\n",
      "                                      <span.position>\n",
      "                                        {text}\n",
      "                                      <div.track-card.media-card.has-picture>\n",
      "                                        <div.media-card-picture>\n",
      "                                          <img [srcset, alt]>\n",
      "                                        <div.media-card-body>\n",
      "                                          <div.media-card-text>\n",
      "                                            <h2.media-card-title>\n",
      "                                              <a.title [href]>\n",
      "                                                <span>\n",
      "                                                  {text}\n",
      "                                            <h3.media-card-subtitle>\n",
      "                                              <span.artist-field>\n",
      "                                                <span>\n",
      "                                                  <a.artist [href]>\n",
      "                                                    {text}\n",
      "                                        <meta [content, itemprop]>\n",
      "                                        <meta [content, itemprop]>\n",
      "                                        <meta [content, itemprop]>\n",
      "                                        <meta [content, itemprop]>\n",
      "                                    <li.showPosition.showCoverart>\n",
      "                                      <span.position>\n",
      "                                        {text}\n",
      "                                      <div.track-card.media-card.has-picture>\n",
      "                                        <div.media-card-picture>\n",
      "                                          <img [srcset, alt]>\n",
      "                                        <div.media-card-body>\n",
      "                                          <div.media-card-text>\n",
      "                                            <h2.media-card-title>\n",
      "                                              <a.title [href]>\n",
      "                                                <span>\n",
      "                                                  {text}\n",
      "                                            <h3.media-card-subtitle>\n",
      "                                              <span.artist-field>\n",
      "                                                <span>\n",
      "                                                  <a.artist [href]>\n",
      "                                                    {text}\n",
      "                                        <meta [content, itemprop]>\n",
      "                                        <meta [content, itemprop]>\n",
      "                                        <meta [content, itemprop]>\n",
      "                                        <meta [content, itemprop]>\n",
      "                                    <li.showPosition.showCoverart>\n",
      "                                      <span.position>\n",
      "                                        {text}\n",
      "                                      <div.track-card.media-card.has-picture>\n",
      "                                        <div.media-card-picture>\n",
      "                                          <img [srcset, alt]>\n",
      "                                        <div.media-card-body>\n",
      "                                          <div.media-card-text>\n",
      "                                            <h2.media-card-title>\n",
      "                                              <a.title [href]>\n",
      "                                                <span>\n",
      "                                                  {text}\n",
      "                                            <h3.media-card-subtitle>\n",
      "                                              <span.artist-field>\n",
      "                                                <span>\n",
      "                                                  <a.artist [href]>\n",
      "                                                    {text}\n",
      "                                        <meta [content, itemprop]>\n",
      "                                        <meta [content, itemprop]>\n",
      "                                        <meta [content, itemprop]>\n",
      "                                        <meta [content, itemprop]>\n",
      "                                    <li.showPosition.showCoverart>\n",
      "                                      <span.position>\n",
      "                                        {text}\n",
      "                                      <div.track-card.media-card.has-picture>\n",
      "                                        <div.media-card-picture>\n",
      "                                          <img [srcset, alt]>\n",
      "                                        <div.media-card-body>\n",
      "                                          <div.media-card-text>\n",
      "                                            <h2.media-card-title>\n",
      "                                              <a.title [href]>\n",
      "                                                <span>\n",
      "                                                  {text}\n",
      "                                            <h3.media-card-subtitle>\n",
      "                                              <span.artist-field>\n",
      "                                                <span>\n",
      "                                                  <a.artist [href]>\n",
      "                                                    {text}\n",
      "                                        <meta [content, itemprop]>\n",
      "                                        <meta [content, itemprop]>\n",
      "                                        <meta [content, itemprop]>\n",
      "                                        <meta [content, itemprop]>\n",
      "                                    <li.showPosition.showCoverart>\n",
      "                                      <span.position>\n",
      "                                        {text}\n",
      "                                      <div.track-card.media-card.has-picture>\n",
      "                                        <div.media-card-picture>\n",
      "                                          <img [srcset, alt]>\n",
      "                                        <div.media-card-body>\n",
      "                                          <div.media-card-text>\n",
      "                                            <h2.media-card-title>\n",
      "                                              <a.title [href]>\n",
      "                                                <span>\n",
      "                                                  {text}\n",
      "                                            <h3.media-card-subtitle>\n",
      "                                              <span.artist-field>\n",
      "                                                <span>\n",
      "                                                  <a.artist [href]>\n",
      "                                                    {text}\n",
      "                                        <meta [content, itemprop]>\n",
      "                                        <meta [content, itemprop]>\n",
      "                                        <meta [content, itemprop]>\n",
      "                                        <meta [content, itemprop]>\n",
      "                                    <li.showPosition.showCoverart>\n",
      "                                      <span.position>\n",
      "                                        {text}\n",
      "                                      <div.track-card.media-card.has-picture>\n",
      "                                        <div.media-card-picture>\n",
      "                                          <img [srcset, alt]>\n",
      "                                        <div.media-card-body>\n",
      "                                          <div.media-card-text>\n",
      "                                            <h2.media-card-title>\n",
      "                                              <a.title [href]>\n",
      "                                                <span>\n",
      "                                                  {text}\n",
      "                                            <h3.media-card-subtitle>\n",
      "                                              <span.artist-field>\n",
      "                                                <span>\n",
      "                                                  <a.artist [href]>\n",
      "                                                    {text}\n",
      "                                        <meta [content, itemprop]>\n",
      "                                        <meta [content, itemprop]>\n",
      "                                        <meta [content, itemprop]>\n",
      "                                        <meta [content, itemprop]>\n",
      "                                    <li.showPosition.showCoverart>\n",
      "                                      <span.position>\n",
      "                                        {text}\n",
      "                                      <div.track-card.media-card.has-picture>\n",
      "                                        <div.media-card-picture>\n",
      "                                          <img [srcset, alt]>\n",
      "                                        <div.media-card-body>\n",
      "                                          <div.media-card-text>\n",
      "                                            <h2.media-card-title>\n",
      "                                              <a.title [href]>\n",
      "                                                <span>\n",
      "                                                  {text}\n",
      "                                            <h3.media-card-subtitle>\n",
      "                                              <span.artist-field>\n",
      "                                                <span>\n",
      "                                                  <a.artist [href]>\n",
      "                                                    {text}\n",
      "                                                  <span.artist-separator>\n",
      "                                                    {text}\n",
      "                                                <span>\n",
      "                                                  <a.artist [href]>\n",
      "                                                    {text}\n",
      "                                        <meta [content, itemprop]>\n",
      "                                        <meta [content, itemprop]>\n",
      "                                        <meta [content, itemprop]>\n",
      "                                        <meta [content, itemprop]>\n",
      "                                    <li.showPosition.showCoverart>\n",
      "                                      <span.position>\n",
      "                                        {text}\n",
      "                                      <div.track-card.media-card.has-picture>\n",
      "                                        <div.media-card-picture>\n",
      "                                          <img [srcset, alt]>\n",
      "                                        <div.media-card-body>\n",
      "                                          <div.media-card-text>\n",
      "                                            <h2.media-card-title>\n",
      "                                              <a.title [href]>\n",
      "                                                <span>\n",
      "                                                  {text}\n",
      "                                            <h3.media-card-subtitle>\n",
      "                                              <span.artist-field>\n",
      "                                                <span>\n",
      "                                                  <a.artist [href]>\n",
      "                                                    {text}\n",
      "                                        <meta [content, itemprop]>\n",
      "                                        <meta [content, itemprop]>\n",
      "                                        <meta [content, itemprop]>\n",
      "                                        <meta [content, itemprop]>\n",
      "                                    <li.showPosition.showCoverart>\n",
      "                                      <span.position>\n",
      "                                        {text}\n",
      "                                      <div.track-card.media-card.has-picture>\n",
      "                                        <div.media-card-picture>\n",
      "                                          <img [srcset, alt]>\n",
      "                                        <div.media-card-body>\n",
      "                                          <div.media-card-text>\n",
      "                                            <h2.media-card-title>\n",
      "                                              <a.title [href]>\n",
      "                                                <span>\n",
      "                                                  {text}\n",
      "                                            <h3.media-card-subtitle>\n",
      "                                              <span.artist-field>\n",
      "                                                <span>\n",
      "                                                  <a.artist [href]>\n",
      "                                                    {text}\n",
      "                                        <meta [content, itemprop]>\n",
      "                                        <meta [content, itemprop]>\n",
      "                                        <meta [content, itemprop]>\n",
      "                                        <meta [content, itemprop]>\n",
      "                                    <li.showPosition.showCoverart>\n",
      "                                      <span.position>\n",
      "                                        {text}\n",
      "                                      <div.track-card.media-card.has-picture>\n",
      "                                        <div.media-card-picture>\n",
      "                                          <img [srcset, alt]>\n",
      "                                        <div.media-card-body>\n",
      "                                          <div.media-card-text>\n",
      "                                            <h2.media-card-title>\n",
      "                                              <a.title [href]>\n",
      "                                                <span>\n",
      "                                                  {text}\n",
      "                                            <h3.media-card-subtitle>\n",
      "                                              <span.artist-field>\n",
      "                                                <span>\n",
      "                                                  <a.artist [href]>\n",
      "                                                    {text}\n",
      "                                        <meta [content, itemprop]>\n",
      "                                        <meta [content, itemprop]>\n",
      "                                        <meta [content, itemprop]>\n",
      "                                        <meta [content, itemprop]>\n",
      "                                    <li.showPosition.showCoverart>\n",
      "                                      <span.position>\n",
      "                                        {text}\n",
      "                                      <div.track-card.media-card.has-picture>\n",
      "                                        <div.media-card-picture>\n",
      "                                          <img [srcset, alt]>\n",
      "                                        <div.media-card-body>\n",
      "                                          <div.media-card-text>\n",
      "                                            <h2.media-card-title>\n",
      "                                              <a.title [href]>\n",
      "                                                <span>\n",
      "                                                  {text}\n",
      "                                            <h3.media-card-subtitle>\n",
      "                                              <span.artist-field>\n",
      "                                                <span>\n",
      "                                                  <a.artist [href]>\n",
      "                                                    {text}\n",
      "                                        <meta [content, itemprop]>\n",
      "                                        <meta [content, itemprop]>\n",
      "                                        <meta [content, itemprop]>\n",
      "                                        <meta [content, itemprop]>\n",
      "                                    <li.showPosition.showCoverart>\n",
      "                                      <span.position>\n",
      "                                        {text}\n",
      "                                      <div.track-card.media-card.has-picture>\n",
      "                                        <div.media-card-picture>\n",
      "                                          <img [srcset, alt]>\n",
      "                                        <div.media-card-body>\n",
      "                                          <div.media-card-text>\n",
      "                                            <h2.media-card-title>\n",
      "                                              <a.title [href]>\n",
      "                                                <span>\n",
      "                                                  {text}\n",
      "                                            <h3.media-card-subtitle>\n",
      "                                              <span.artist-field>\n",
      "                                                <span>\n",
      "                                                  <a.artist [href]>\n",
      "                                                    {text}\n",
      "                                        <meta [content, itemprop]>\n",
      "                                        <meta [content, itemprop]>\n",
      "                                        <meta [content, itemprop]>\n",
      "                                        <meta [content, itemprop]>\n",
      "                                    <li.showPosition.showCoverart>\n",
      "                                      <span.position>\n",
      "                                        {text}\n",
      "                                      <div.track-card.media-card.has-picture>\n",
      "                                        <div.media-card-picture>\n",
      "                                          <img [srcset, alt]>\n",
      "                                        <div.media-card-body>\n",
      "                                          <div.media-card-text>\n",
      "                                            <h2.media-card-title>\n",
      "                                              <a.title [href]>\n",
      "                                                <span>\n",
      "                                                  {text}\n",
      "                                            <h3.media-card-subtitle>\n",
      "                                              <span.artist-field>\n",
      "                                                <span>\n",
      "                                                  <a.artist [href]>\n",
      "                                                    {text}\n",
      "                                        <meta [content, itemprop]>\n",
      "                                        <meta [content, itemprop]>\n",
      "                                        <meta [content, itemprop]>\n",
      "                                        <meta [content, itemprop]>\n",
      "                                    <li.showPosition.showCoverart>\n",
      "                                      <span.position>\n",
      "                                        {text}\n",
      "                                      <div.track-card.media-card.has-picture>\n",
      "                                        <div.media-card-picture>\n",
      "                                          <img [srcset, alt]>\n",
      "                                        <div.media-card-body>\n",
      "                                          <div.media-card-text>\n",
      "                                            <h2.media-card-title>\n",
      "                                              <a.title [href]>\n",
      "                                                <span>\n",
      "                                                  {text}\n",
      "                                            <h3.media-card-subtitle>\n",
      "                                              <span.artist-field>\n",
      "                                                <span>\n",
      "                                                  <a.artist [href]>\n",
      "                                                    {text}\n",
      "                                        <meta [content, itemprop]>\n",
      "                                        <meta [content, itemprop]>\n",
      "                                        <meta [content, itemprop]>\n",
      "                                        <meta [content, itemprop]>\n",
      "                                    <li.showPosition.showCoverart>\n",
      "                                      <span.position>\n",
      "                                        {text}\n",
      "                                      <div.track-card.media-card.has-picture>\n",
      "                                        <div.media-card-picture>\n",
      "                                          <img [srcset, alt]>\n",
      "                                        <div.media-card-body>\n",
      "                                          <div.media-card-text>\n",
      "                                            <h2.media-card-title>\n",
      "                                              <a.title [href]>\n",
      "                                                <span>\n",
      "                                                  {text}\n",
      "                                            <h3.media-card-subtitle>\n",
      "                                              <span.artist-field>\n",
      "                                                <span>\n",
      "                                                  <a.artist [href]>\n",
      "                                                    {text}\n",
      "                                        <meta [content, itemprop]>\n",
      "                                        <meta [content, itemprop]>\n",
      "                                        <meta [content, itemprop]>\n",
      "                                        <meta [content, itemprop]>\n",
      "                                <div.load-more-pager>\n",
      "                                  <a.button.page-load-more [href, data-page]>\n",
      "                                    {text}\n",
      "                          <div#cf_async_100001910_460 ._2-NbqRCcpnx1S7eZLj0p72>\n",
      "                        <div.side-panel>\n",
      "                          <div.box.box-style-plain>\n",
      "                            <div.box-content>\n",
      "                              <div. [style]>\n",
      "                                <div#div_gpt_ad_336x280_musixmatch_artist_sidebar_top [style]>\n",
      "                                  <script [type]>\n",
      "                                    {cdata}\n",
      "                          <div#albums .box.box-style-plain>\n",
      "                            <div.box-header>\n",
      "                              <h3.box-title>\n",
      "                                {text}\n",
      "                                {comment}\n",
      "                                {text}\n",
      "                              <div.actions>\n",
      "                            <div.box-content>\n",
      "                              <ul.song-writers>\n",
      "                                <li>\n",
      "                                  <a [href]>\n",
      "                                    {text}\n",
      "                                <li>\n",
      "                                  <a [href]>\n",
      "                                    {text}\n",
      "                                <li>\n",
      "                                  <a [href]>\n",
      "                                    {text}\n",
      "                                <li>\n",
      "                                  <a [href]>\n",
      "                                    {text}\n",
      "                                <li>\n",
      "                                  <a [href]>\n",
      "                                    {text}\n",
      "                                <li>\n",
      "                                  <a [href]>\n",
      "                                    {text}\n",
      "                                <li>\n",
      "                                  <a [href]>\n",
      "                                    {text}\n",
      "                                <li>\n",
      "                                  <a [href]>\n",
      "                                    {text}\n",
      "                                <li>\n",
      "                                  <a [href]>\n",
      "                                    {text}\n",
      "                                <li>\n",
      "                                  <a [href]>\n",
      "                                    {text}\n",
      "                          <div#albums .box.box-style-plain>\n",
      "                            <div.box-header>\n",
      "                              <h3.box-title>\n",
      "                                {text}\n",
      "                                {comment}\n",
      "                                {text}\n",
      "                              <div.actions>\n",
      "                                <a.see-all-action [href]>\n",
      "                                  {text}\n",
      "                            <div.box-content>\n",
      "                              <ul.albums.list>\n",
      "                                <li>\n",
      "                                  <div.album-card.media-card.has-picture>\n",
      "                                    <div.media-card-picture>\n",
      "                                      <img [srcset, alt]>\n",
      "                                    <div.media-card-body>\n",
      "                                      <div.media-card-text>\n",
      "                                        <h2.media-card-title>\n",
      "                                          <a [href]>\n",
      "                                            {text}\n",
      "                                        <h3.media-card-subtitle>\n",
      "                                          {text}\n",
      "                                    <meta [content, itemprop]>\n",
      "                                    <meta [content, itemprop]>\n",
      "                                <li>\n",
      "                                  <div.album-card.media-card.has-picture>\n",
      "                                    <div.media-card-picture>\n",
      "                                      <img [srcset, alt]>\n",
      "                                    <div.media-card-body>\n",
      "                                      <div.media-card-text>\n",
      "                                        <h2.media-card-title>\n",
      "                                          <a [href]>\n",
      "                                            {text}\n",
      "                                        <h3.media-card-subtitle>\n",
      "                                          {text}\n",
      "                                    <meta [content, itemprop]>\n",
      "                                    <meta [content, itemprop]>\n",
      "                                <li>\n",
      "                                  <div.album-card.media-card.has-picture>\n",
      "                                    <div.media-card-picture>\n",
      "                                      <img [srcset, alt]>\n",
      "                                    <div.media-card-body>\n",
      "                                      <div.media-card-text>\n",
      "                                        <h2.media-card-title>\n",
      "                                          <a [href]>\n",
      "                                            {text}\n",
      "                                        <h3.media-card-subtitle>\n",
      "                                          {text}\n",
      "                                    <meta [content, itemprop]>\n",
      "                                    <meta [content, itemprop]>\n",
      "                                <li>\n",
      "                                  <div.album-card.media-card.has-picture>\n",
      "                                    <div.media-card-picture>\n",
      "                                      <img [srcset, alt]>\n",
      "                                    <div.media-card-body>\n",
      "                                      <div.media-card-text>\n",
      "                                        <h2.media-card-title>\n",
      "                                          <a [href]>\n",
      "                                            {text}\n",
      "                                        <h3.media-card-subtitle>\n",
      "                                          {text}\n",
      "                                    <meta [content, itemprop]>\n",
      "                                    <meta [content, itemprop]>\n",
      "                                <li>\n",
      "                                  <div.album-card.media-card.has-picture>\n",
      "                                    <div.media-card-picture>\n",
      "                                      <img [srcset, alt]>\n",
      "                                    <div.media-card-body>\n",
      "                                      <div.media-card-text>\n",
      "                                        <h2.media-card-title>\n",
      "                                          <a [href]>\n",
      "                                            {text}\n",
      "                                        <h3.media-card-subtitle>\n",
      "                                          {text}\n",
      "                                    <meta [content, itemprop]>\n",
      "                                    <meta [content, itemprop]>\n",
      "        <span>\n",
      "        <div#footer>\n",
      "          <div.main-wrapper>\n",
      "            <div.footer-container>\n",
      "              <div.mxm-footer__sitemap>\n",
      "                <div.mxm-footer__sitemap-logo>\n",
      "                  <div.mui-logo>\n",
      "                    <a.mui-logo__link [href]>\n",
      "                      <img.mui-logo__img [src, alt, width]>\n",
      "                  <a [style, href]>\n",
      "                    <img [alt, width, height, src, srcset]>\n",
      "                  <div.mxm-footer__language>\n",
      "                    <button#language-menu .small.button.dropdown>\n",
      "                      {text}\n",
      "              <div.mxm-footer__sitemap-links>\n",
      "                <h4>\n",
      "                  {text}\n",
      "                <ul>\n",
      "                  <li>\n",
      "                    <a [data-external-link, target, href]>\n",
      "                      {text}\n",
      "                  <li>\n",
      "                    <a [data-external-link, target, href]>\n",
      "                      {text}\n",
      "                  <li>\n",
      "                    <a [data-external-link, target, href]>\n",
      "                      {text}\n",
      "                  <li>\n",
      "                    <a [data-external-link, target, href]>\n",
      "                      {text}\n",
      "                  <li>\n",
      "                    <a [data-external-link, target, href]>\n",
      "                      {text}\n",
      "              <div.mxm-footer__sitemap-links>\n",
      "                <h4>\n",
      "                  {text}\n",
      "                <ul>\n",
      "                  <li>\n",
      "                    <a [data-external-link, target, href]>\n",
      "                      {text}\n",
      "                  <li>\n",
      "                    <a [data-external-link, target, href]>\n",
      "                      {text}\n",
      "                  <li>\n",
      "                    <a [data-external-link, target, href]>\n",
      "                      {text}\n",
      "                  <li>\n",
      "                    <a [data-external-link, target, href]>\n",
      "                      {text}\n",
      "              <div.mxm-footer__sitemap-links>\n",
      "                <h4>\n",
      "                  {text}\n",
      "                <ul>\n",
      "                  <li>\n",
      "                    <a [data-external-link, target, href]>\n",
      "                      {text}\n",
      "                  <li>\n",
      "                    <a [data-external-link, target, href]>\n",
      "                      {text}\n",
      "                  <li>\n",
      "                    <a [data-external-link, target, href]>\n",
      "                      {text}\n",
      "                  <li>\n",
      "                    <a [data-external-link, target, href]>\n",
      "                      {text}\n",
      "                  <li>\n",
      "                    <a [data-external-link, target, href]>\n",
      "                      {text}\n",
      "                  <li>\n",
      "                    <a [data-external-link, target, href]>\n",
      "                      {text}\n",
      "            <div.mxm-footer__footer-language>\n",
      "              <button#language-menu .small.button.dropdown>\n",
      "                {text}\n",
      "            <div.mxm-footer__footnote>\n",
      "              <div.copyright>\n",
      "                <span>\n",
      "                  {text}\n",
      "                <ul [itemtype]>\n",
      "                  <link [itemprop, href]>\n",
      "                  <li>\n",
      "                    <a [data-external-link, target, href]>\n",
      "                      {text}\n",
      "                  <li>\n",
      "                    <a [data-external-link, target, href]>\n",
      "                      {text}\n",
      "                  <li>\n",
      "                    <a [data-external-link, target, href]>\n",
      "                      {text}\n",
      "                  <li>\n",
      "                    <a [data-external-link, target, href]>\n",
      "                      {text}\n",
      "              <p>\n",
      "                {text}\n",
      "        <span>\n",
      "    {text}\n",
      "    <script>\n",
      "      {cdata}\n",
      "    <script [async, src]>\n",
      "    <script>\n",
      "      {cdata}\n"
     ]
    }
   ],
   "source": [
    "page_title %>% html_structure()"
   ]
  },
  {
   "cell_type": "markdown",
   "metadata": {},
   "source": [
    "What is that? How will we ever find what we need inside there?  \n",
    "![](https://media.giphy.com/media/ZkEXisGbMawMg/giphy.gif)\n",
    "\n",
    "To the browser!\n",
    "Press control+shift+i, you will fire up the \"inspector mode\" (if you are in Firefox).  Press control+shift+c if you are using Chrome.\n",
    "Now press on the button on the left of \"Inspector\" (it's this button ![this button](https://i.imgur.com/g00sN2e.png)).\n",
    "Then move your mouse over the title of a song. As you move it around you'll see that different part of the page get highlighted, and differnt part of the source code too! The highlighted source code of the web page is the code responsible for the object your pointing at.\n",
    "\n",
    "\n",
    "\n",
    "Let's look more carefully at the text source. In particolar, the titles are inside a\n",
    "```html\n",
    "<span>Schism</span>\n",
    "```\n",
    "block. And that block is inside a larger block:\n",
    "```html\n",
    "<a class=\"title\" href=\"/lyrics/Tool/Schism\">\n",
    "    <span>Schism</span></a>`\n",
    "```\n",
    "and, surely enough, even that block is within a larger block and so on untile the largest block of all: the full page.\n",
    "\n",
    "To get to the title we can use that \"class\" tag: they are called _css selectors_, and we will use them as handles to navigate into the extremely complex list that we get from a web page.\n",
    "\n",
    "Sometimes, we can be lucky. For example, the css selector for the titles are in the class \"title\". Let's see."
   ]
  },
  {
   "cell_type": "code",
   "execution_count": 9,
   "metadata": {},
   "outputs": [
    {
     "data": {
      "text/plain": [
       "{xml_nodeset (15)}\n",
       " [1] <a class=\"title\" href=\"/lyrics/Tool/Anti-Nuclear-Bacteria\"><span>Anti-Nu ...\n",
       " [2] <a class=\"title\" href=\"/lyrics/Tool/Merkaba\"><span>Merkaba</span></a>\n",
       " [3] <a class=\"title\" href=\"/lyrics/Tool/-Ions-Stinkfist\"><span>(-) Ions / St ...\n",
       " [4] <a class=\"title\" href=\"/lyrics/Tool/Legion-Inoculant\"><span>Legion Inocu ...\n",
       " [5] <a class=\"title\" href=\"/lyrics/Tool/Litanie-contre-la-Peur\"><span>Litani ...\n",
       " [6] <a class=\"title\" href=\"/lyrics/Tool/Santa-Monica-Orange\"><span>Santa Mon ...\n",
       " [7] <a class=\"title\" href=\"/lyrics/Tool-feat-Henry-Rollins/Bottom\"><span>Bot ...\n",
       " [8] <a class=\"title\" href=\"/lyrics/Tool/Disposition-Reflection\"><span>Dispos ...\n",
       " [9] <a class=\"title\" href=\"/lyrics/Tool/Part-of-Me-Four-Track-Demo-Recording ...\n",
       "[10] <a class=\"title\" href=\"/lyrics/Tool/Sober\"><span>Sober</span></a>\n",
       "[11] <a class=\"title\" href=\"/lyrics/Tool/Schism\"><span>Schism</span></a>\n",
       "[12] <a class=\"title\" href=\"/lyrics/Tool/%C3%86nema\"><span>Ænema</span></a>\n",
       "[13] <a class=\"title\" href=\"/lyrics/Tool/The-Pot\"><span>The Pot</span></a>\n",
       "[14] <a class=\"title\" href=\"/lyrics/Tool/Jerk-Off-demo\"><span>Jerk-Off (demo) ...\n",
       "[15] <a class=\"title\" href=\"/lyrics/Tool/Hush-demo\"><span>Hush (demo)</span></a>"
      ]
     },
     "metadata": {},
     "output_type": "display_data"
    }
   ],
   "source": [
    "page_title %>%\n",
    "  html_nodes(\".title\") # write .title, with the dot, because we want all results with that tag. Try removing it and see what happens."
   ]
  },
  {
   "cell_type": "markdown",
   "metadata": {},
   "source": [
    "That's still quite a mess: we have too much stuff, such as some links (called \"href\") and more text than we need. Let's clean it up with `html_text()`"
   ]
  },
  {
   "cell_type": "code",
   "execution_count": 10,
   "metadata": {},
   "outputs": [
    {
     "data": {
      "text/html": [
       "<style>\n",
       ".list-inline {list-style: none; margin:0; padding: 0}\n",
       ".list-inline>li {display: inline-block}\n",
       ".list-inline>li:not(:last-child)::after {content: \"\\00b7\"; padding: 0 .5ex}\n",
       "</style>\n",
       "<ol class=list-inline><li>'Anti-Nuclear Bacteria'</li><li>'Merkaba'</li><li>'(-) Ions / Stinkfist'</li><li>'Legion Inoculant'</li><li>'Litanie contre la Peur'</li><li>'Santa Monica &amp; Orange'</li><li>'Bottom'</li><li>'Disposition / Reflection'</li><li>'Part of Me (Four Track Demo Recordings)'</li><li>'Sober'</li><li>'Schism'</li><li>'Ænema'</li><li>'The Pot'</li><li>'Jerk-Off (demo)'</li><li>'Hush (demo)'</li></ol>\n"
      ],
      "text/latex": [
       "\\begin{enumerate*}\n",
       "\\item 'Anti-Nuclear Bacteria'\n",
       "\\item 'Merkaba'\n",
       "\\item '(-) Ions / Stinkfist'\n",
       "\\item 'Legion Inoculant'\n",
       "\\item 'Litanie contre la Peur'\n",
       "\\item 'Santa Monica \\& Orange'\n",
       "\\item 'Bottom'\n",
       "\\item 'Disposition / Reflection'\n",
       "\\item 'Part of Me (Four Track Demo Recordings)'\n",
       "\\item 'Sober'\n",
       "\\item 'Schism'\n",
       "\\item 'Ænema'\n",
       "\\item 'The Pot'\n",
       "\\item 'Jerk-Off (demo)'\n",
       "\\item 'Hush (demo)'\n",
       "\\end{enumerate*}\n"
      ],
      "text/markdown": [
       "1. 'Anti-Nuclear Bacteria'\n",
       "2. 'Merkaba'\n",
       "3. '(-) Ions / Stinkfist'\n",
       "4. 'Legion Inoculant'\n",
       "5. 'Litanie contre la Peur'\n",
       "6. 'Santa Monica &amp; Orange'\n",
       "7. 'Bottom'\n",
       "8. 'Disposition / Reflection'\n",
       "9. 'Part of Me (Four Track Demo Recordings)'\n",
       "10. 'Sober'\n",
       "11. 'Schism'\n",
       "12. 'Ænema'\n",
       "13. 'The Pot'\n",
       "14. 'Jerk-Off (demo)'\n",
       "15. 'Hush (demo)'\n",
       "\n",
       "\n"
      ],
      "text/plain": [
       " [1] \"Anti-Nuclear Bacteria\"                  \n",
       " [2] \"Merkaba\"                                \n",
       " [3] \"(-) Ions / Stinkfist\"                   \n",
       " [4] \"Legion Inoculant\"                       \n",
       " [5] \"Litanie contre la Peur\"                 \n",
       " [6] \"Santa Monica & Orange\"                  \n",
       " [7] \"Bottom\"                                 \n",
       " [8] \"Disposition / Reflection\"               \n",
       " [9] \"Part of Me (Four Track Demo Recordings)\"\n",
       "[10] \"Sober\"                                  \n",
       "[11] \"Schism\"                                 \n",
       "[12] \"Ænema\"                                  \n",
       "[13] \"The Pot\"                                \n",
       "[14] \"Jerk-Off (demo)\"                        \n",
       "[15] \"Hush (demo)\"                            "
      ]
     },
     "metadata": {},
     "output_type": "display_data"
    }
   ],
   "source": [
    "page_title %>%\n",
    "  html_nodes(\".title\") %>%\n",
    "  html_text()"
   ]
  },
  {
   "cell_type": "markdown",
   "metadata": {},
   "source": [
    "It looks much better! Now we have 15 song titles. Soon we will have the lyrics!"
   ]
  },
  {
   "cell_type": "code",
   "execution_count": null,
   "metadata": {},
   "outputs": [],
   "source": [
    "SLS_df <- tibble(Band = \"Tool\",\n",
    "                     Title = ---) # build the Title variable using the code we used above\n",
    "SLS_df"
   ]
  },
  {
   "cell_type": "markdown",
   "metadata": {},
   "source": [
    "We want to recover the links. Look again at what we get when we select the `.title` you may see that the _actual_ link is there, coded as `href`. Can we extract that? Yes we can!"
   ]
  },
  {
   "cell_type": "code",
   "execution_count": null,
   "metadata": {},
   "outputs": [],
   "source": [
    "page_title %>%\n",
    "  html_nodes(\".title\") %>%\n",
    "  html_attrs() %>%\n",
    "  glimpse()"
   ]
  },
  {
   "cell_type": "markdown",
   "metadata": {},
   "source": [
    "In particular, we want the element called `href`. Hey, we can get that with (one of) the `map()` function from `purrr`!"
   ]
  },
  {
   "cell_type": "code",
   "execution_count": null,
   "metadata": {},
   "outputs": [],
   "source": [
    "page_title %>%\n",
    "  html_nodes(\".title\") %>%\n",
    "  html_attrs() %>%\n",
    "  map_chr(\"href\") # when we specify map_chr we are telling R that we expect the output to be of character type\n",
    "                  # if it's not, R will complain"
   ]
  },
  {
   "cell_type": "markdown",
   "metadata": {},
   "source": [
    "`purrr` is an extremely powerful library, and we will read and use it more in the next lectures. If in your R experience you have used `apply()` or similar functions (any of the {slvmt}`apply()` or the `XYply()` from `plyr`) read [this](https://jennybc.github.io/purrr-tutorial/bk01_base-functions.html#why_not_base).  \n",
    "\n",
    "If you have no idea what I just spoke about, don't worry.\n",
    "\n",
    "The go to resource to learn about `purrr` and maps is Hadley's [iteration](http://r4ds.had.co.nz/iteration.html) chapter in his R 4 Data Science book. Read especially section 21.5 to 21.8. Another great resource is this tutorial by Rebecca Barter: http://www.rebeccabarter.com/blog/2019-08-19_purrr/\n",
    "\n",
    "We are going to talk more about `purrr` so it's a good investment to read more."
   ]
  },
  {
   "cell_type": "markdown",
   "metadata": {},
   "source": [
    "Yet, we could have let `rvest` do the job for us:"
   ]
  },
  {
   "cell_type": "code",
   "execution_count": null,
   "metadata": {},
   "outputs": [],
   "source": [
    "SLS_df %<>% # the %<>% is from magrittr, it corresponds to SLS_df <- SLS_df %>% ...\n",
    "  mutate(Link = page_title %>%\n",
    "  html_nodes(\".title\") %>%\n",
    "  html_attr(\"href\"))\n",
    "\n",
    "SLS_df"
   ]
  },
  {
   "cell_type": "markdown",
   "metadata": {},
   "source": [
    "\n",
    "Cool, we don't gain much in terms of line of code, but it will be usefull later!"
   ]
  },
  {
   "cell_type": "markdown",
   "metadata": {},
   "source": [
    "### And `purrr`!\n",
    "\n",
    "Cool, now we want to put grab all lyrics. Let's start with one at a time. What is the url we want?"
   ]
  },
  {
   "cell_type": "code",
   "execution_count": null,
   "metadata": {},
   "outputs": [],
   "source": [
    "url_song <- glue(\"https://www.musixmatch.com{SLS_df$Link[11]}\")\n",
    "\n",
    "url_song"
   ]
  },
  {
   "cell_type": "markdown",
   "metadata": {},
   "source": [
    "Hey, ps, `glue()` is basically a much better version of `paste()`. Take a look [here](https://glue.tidyverse.org) if you are curious about it."
   ]
  },
  {
   "cell_type": "markdown",
   "metadata": {},
   "source": [
    "And let's grab the lyrics for that song.  \n",
    "Open that page in you browser, control+shift+i and poit to the lyrics.  \n",
    "The content is marked by a css selector called \"p.mxm-lyrics__content\". That stands for \"p\", an object of class paragraph, plus \"mxm-lyrics__content\", the specific class for the lyrics."
   ]
  },
  {
   "cell_type": "code",
   "execution_count": null,
   "metadata": {},
   "outputs": [],
   "source": [
    "url_song %>%\n",
    "  read_html() %>%\n",
    "  html_nodes(\".mxm-lyrics__content\") %>%\n",
    "  html_text()"
   ]
  },
  {
   "cell_type": "markdown",
   "metadata": {},
   "source": [
    "Ach, notice that it comes in different blocks: one for each section of text (if you look the original page in your browser you'll see the lyrics is split by the advertisment). Well, we can just `glue_collapse()` them together with `glue`. As we are doing this, let's turn that flow into a function:"
   ]
  },
  {
   "cell_type": "code",
   "execution_count": null,
   "metadata": {},
   "outputs": [],
   "source": [
    "get_lyrics <- function(link){\n",
    "  \n",
    "  lyrics_chunks <- glue(\"https://www.musixmatch.com{link}#\") %>%\n",
    "   read_html() %>%\n",
    "   html_nodes(\".mxm-lyrics__content\")\n",
    "  \n",
    "  # we do a sanity check to see that there's something inside the lyrics!\n",
    "  stopifnot(length(lyrics_chunks) > 0)\n",
    "  \n",
    "  lyrics <- lyrics_chunks %>%\n",
    "   html_text() %>%\n",
    "   glue_collapse(sep =  \"\\n\")\n",
    "  \n",
    "  return(lyrics)\n",
    "}"
   ]
  },
  {
   "cell_type": "markdown",
   "metadata": {},
   "source": [
    "Let's test it!\n"
   ]
  },
  {
   "cell_type": "code",
   "execution_count": null,
   "metadata": {},
   "outputs": [],
   "source": [
    "SLS_df$Link[1] %>%\n",
    "  get_lyrics() %>%\n",
    "  print()"
   ]
  },
  {
   "cell_type": "markdown",
   "metadata": {},
   "source": [
    "Now we can use purrr to map that function over our dataframe! Let's do that only for the top 4 tracks in our list."
   ]
  },
  {
   "cell_type": "code",
   "execution_count": null,
   "metadata": {},
   "outputs": [],
   "source": [
    "SLS_df_top <- SLS_df %>%\n",
    "  slice(1:4) %>%\n",
    "  mutate(Lyrics = map_chr(Link, get_lyrics))\n",
    "SLS_df_top"
   ]
  },
  {
   "cell_type": "markdown",
   "metadata": {},
   "source": [
    "Ok, here we were quite lucky, as all the links were right and all the first 4 songs had some lyrics. But that's not always the case. We can see that if we try to run the previous code on the full dataframe."
   ]
  },
  {
   "cell_type": "code",
   "execution_count": null,
   "metadata": {},
   "outputs": [],
   "source": [
    "SLS_df %>%\n",
    "  mutate(Lyrics = map_chr(Link, get_lyrics))"
   ]
  },
  {
   "cell_type": "markdown",
   "metadata": {},
   "source": [
    "In general we may want to play safe. To be safe, we ca use a `possibly` \"wrapper\" (from`purrr`) so not to have to stop everything in case something bad happens."
   ]
  },
  {
   "cell_type": "code",
   "execution_count": null,
   "metadata": {},
   "outputs": [],
   "source": [
    "get_lyrics_safe <- purrr::possibly(.f = get_lyrics, # the function that we want to make safer\n",
    "                                   otherwise = NA_character_) # the value we get back if .f fails"
   ]
  },
  {
   "cell_type": "markdown",
   "metadata": {},
   "source": [
    "The following line applies the \"get_lyrics_safe\" in the context of our \"Beastwars example\". In this case, we did not have any errors, but the function will make more sense for the challenge of using other band names."
   ]
  },
  {
   "cell_type": "code",
   "execution_count": null,
   "metadata": {},
   "outputs": [],
   "source": [
    "SLS_df %<>%\n",
    "  mutate(Lyrics = map_chr(Link, get_lyrics_safe))\n",
    "\n",
    "SLS_df"
   ]
  },
  {
   "cell_type": "markdown",
   "metadata": {},
   "source": [
    "### The flow\n",
    "\n",
    "**Explore, try, test, automatize, test.**\n",
    "\n",
    "Scraping data from the web will require a lot of trial and error. In general, I like this flow: I explore the pages that I want to scrape, trying to identify patterns that I can exploit. Then I try, on a smaller subset, and I test if it worked. Then I automatize it, using `purrr` or something similar. And finally some more testing.\n",
    "\n",
    "#### Exercise: Another Artist\n",
    "\n",
    "Let's do this for some other artist, like \"Angel Haze\". Notice that in this case we **must** use the attributes (\"href\") from the web page, as the name of the authors of the lyrics is not always the same (the `glue` approach would fail).\n"
   ]
  },
  {
   "cell_type": "markdown",
   "metadata": {},
   "source": [
    "### Challenge: pack it in a function\n",
    "\n",
    "We have been scraping using a the same flow at least two artists. Our motto is that if we do something twice, we turn it into a function. So... let's turn the flow into a function. You have all the bits already there in the previous cells, and here I give you a boilerplate that you will have to fill in. When you see `----` in the code, that means it's up to you to do the job!"
   ]
  },
  {
   "cell_type": "code",
   "execution_count": null,
   "metadata": {},
   "outputs": [],
   "source": [
    "get_words <- function(band_name){\n",
    "\n",
    "  # remove white space from band name and substitute them with a dash\n",
    "  collapsed_name <- str_replace_all(band_name, \" \", \"-\") # this line uses a function from stringr\n",
    "  # define url to get the title and links\n",
    "  url <- glue(\"https://www.musixmatch.com/artist/{collapsed_name}\")\n",
    "  \n",
    "  # read title page and extract the title chunks \n",
    "  list_of_titles <- url %>%\n",
    "                    ----- #  How do we extract the list of titles from the first page?\n",
    "  \n",
    "  # and we build the dataframe\n",
    "  lyrics <- tibble(Band = band_name,\n",
    "                       # extract text title\n",
    "                       Title = list_of_titles %>% ---- # we want only the text of the title, not all the html overhead,\n",
    "                       # extract title link\n",
    "                       Link =  list_of_titles %>% ---- # and we need the link to the page\n",
    "                       # map to get lyrics\n",
    "                       Lyrics = ---- # here is where we do the main job, using get_lyrics_safe()\n",
    "                      ) \n",
    "  \n",
    "  return(lyrics)\n",
    "}"
   ]
  },
  {
   "cell_type": "markdown",
   "metadata": {},
   "source": [
    "Once you a function that you think it's working, test it on a couple of artists and check whether it's working properly."
   ]
  },
  {
   "cell_type": "code",
   "execution_count": null,
   "metadata": {},
   "outputs": [],
   "source": [
    "ATCR_words <- \"A Tribe Called Red\" %>% get_words()"
   ]
  },
  {
   "cell_type": "code",
   "execution_count": null,
   "metadata": {},
   "outputs": [],
   "source": [
    "AW_words <- \"Alien Weaponry\" %>% get_words()"
   ]
  },
  {
   "cell_type": "code",
   "execution_count": null,
   "metadata": {},
   "outputs": [],
   "source": [
    "# your tests here."
   ]
  },
  {
   "cell_type": "markdown",
   "metadata": {},
   "source": [
    "## The words, the soul\n",
    "\n",
    "Now that we have a collection of lyrics, it would be a pity not doing anything with them ;-)\n",
    "\n",
    "So, we will do some quick and dirty sentiment analysis. The idea is to attribute to each word a score, expressing wether it's more negative and positive, and then to sum up all the word values in a song: the result will give us a first approximation to the song general mood. To do this, we are going to use Julia Silge's and David Robinson's great [_Tidytext_](https://github.com/juliasilge/tidytext) library and a _vocabulary_ of words for which we have the scores (there are different options, we are using \"afinn\")."
   ]
  },
  {
   "cell_type": "code",
   "execution_count": null,
   "metadata": {},
   "outputs": [],
   "source": [
    "#install.packages(\"textdata\") # a framework to download, parse, and store text datasets on the disk and load them when needed.\n",
    "#install.packages(\"tidytext\")\n",
    "library(tidytext)\n",
    "library(textdata)"
   ]
  },
  {
   "cell_type": "markdown",
   "metadata": {},
   "source": [
    "The positivity/negativity values for the words are in a dictionary called \"afinn\". Warning: you may need to run R from the terminal and execute the following lines of code. "
   ]
  },
  {
   "cell_type": "code",
   "execution_count": null,
   "metadata": {},
   "outputs": [],
   "source": [
    "afinn <- get_sentiments(\"afinn\")\n",
    "afinn %>% sample_n(5)"
   ]
  },
  {
   "cell_type": "markdown",
   "metadata": {},
   "source": [
    "Now, a bit of data wrangling: we breaks the lyrics into words, remove the words that are considered not interesting (they are called \"stop words\"), stitch the dataframe to the scoress from afinn, and do the math for each song."
   ]
  },
  {
   "cell_type": "markdown",
   "metadata": {},
   "source": [
    "This workthrough is loosely inspired by Max Humber's [post](https://www.r-bloggers.com/fantasy-hockey-with-rvest-and-purrr/). Another reference [here](https://www.tidytextmining.com/sentiment.html). Great things in these resources, errors are mine. Read those posts, there is a lot to learn!"
   ]
  },
  {
   "cell_type": "markdown",
   "metadata": {},
   "source": [
    "The stop words are words we consider not important for the analysis because they are too common. They are in a dictionary (a dataframe indeed) called `stop_words`. Whether or not to remove them when doing any analysis, is up to the researcher best judgement."
   ]
  },
  {
   "cell_type": "code",
   "execution_count": null,
   "metadata": {},
   "outputs": [],
   "source": [
    "stop_words %>% sample_n(10)"
   ]
  },
  {
   "cell_type": "markdown",
   "metadata": {},
   "source": [
    "### Challenge, fill in the code below"
   ]
  },
  {
   "cell_type": "code",
   "execution_count": null,
   "metadata": {},
   "outputs": [],
   "source": [
    "SLS_df %>%\n",
    "  unnest_tokens(word, Lyrics) %>% #split words\n",
    "# we use a _join function to remove dull words. Which function?\n",
    "  ----(stop_words, by = ---) %>% # which column will we use to do the join?\n",
    "# we use another _join function to stitch the scores from afinn to words in our lyrics.\n",
    "# Which function?\n",
    "  ----(afinn, by = ---) %>% # which column will we use to do the join?\n",
    "#and for each song we do the math\n",
    "  group_by(---) %>% # we group by... by what?\n",
    "  ----(Length = n(), # which functions allows you to reduce the all the rows in a dataframe into a single one?\n",
    "    Score = sum(value)/Length) %>%\n",
    "  arrange(-Score)"
   ]
  },
  {
   "cell_type": "markdown",
   "metadata": {},
   "source": [
    "Once you have done it, try it on a couple of lyrics collections. Then, turn the flow into a reusable flow. Once again, I give you the boilerplate:"
   ]
  },
  {
   "cell_type": "code",
   "execution_count": null,
   "metadata": {},
   "outputs": [],
   "source": [
    "get_soul <- . %>%\n",
    "  unnest_tokens(word, Lyrics) %>% \n",
    "  ----(stop_words, by = ---) %>% \n",
    "  ----(afinn, by = ---) %>% \n",
    "  group_by(---) %>% \n",
    "  ----(Length = n(), \n",
    "    Score = sum(value)/Length) %>%\n",
    "  arrange(-Score)"
   ]
  },
  {
   "cell_type": "markdown",
   "metadata": {},
   "source": [
    "And try that on some artists:"
   ]
  },
  {
   "cell_type": "code",
   "execution_count": null,
   "metadata": {},
   "outputs": [],
   "source": [
    "\"Billie Holiday\" %>% get_words() %>% get_soul()\n",
    "\"Nina Simone\" %>% get_words() %>% get_soul()"
   ]
  },
  {
   "cell_type": "markdown",
   "metadata": {},
   "source": [
    "Try to assess your results: do they seem to make sense?"
   ]
  },
  {
   "cell_type": "markdown",
   "metadata": {},
   "source": [
    "# APIs"
   ]
  },
  {
   "cell_type": "markdown",
   "metadata": {},
   "source": [
    "In the previous lab we saw how you can use the WWW as a source of data, even when the information presented is not there for the purpose of data analysis (i.e., it is there for you as a browser to read it).\n",
    "\n",
    "Sometimes, though, you are lucky and the data source you're after will have an **API** set up so that you don't need to scrape it. An **API** is a detailed and rigorous set of rules that you must use in order to get something from a server.\n",
    "\n",
    "In particular, many APIs in the web gives you back if you write the _right_ url.\n",
    "\n",
    "Consider searching \"something\" on http://www.duckduckgo.com. If you take a look at the result page, you will see that the url is something like:  \n",
    "https://duckduckgo.com/?q=something&t=h_&ia=about\n",
    "\n",
    "The part before the `?` is the _base url_, the human readable name of the _server_ that is giving you the data. what is after the `?` defines the various argument of the duckduckgo API. `q` probably stands for \"query\", and after the `=` is where you put the terms you are looking for; `&` separates various arguments; `t` and `ia` define other aspects of the behaviour of the search engine.\n",
    "\n",
    "You can pass more arguments, and change the behaviour of the server. For example, in duckduckgo we can appen a `format=xml` to get the data in an xml format (instead of the html format with all the fancy visualization stuff). We may do it because the xml format **is** intended for programmatic data extraction and we are trying to get that data. Try to browse to:\n",
    "\n",
    "https://duckduckgo.com/?q=something&t=h_&ia=about&format=xml\n",
    "\n",
    "Try a couple of other websites, you will notice that the `?argument=values` format is very common. Websites offering API for accessing their data often have a lot of information about how to do it.\n",
    "\n",
    "For example, duckduckgo's API is explained here: https://duckduckgo.com/api\n",
    "\n",
    "A great resources to learn about what are APIs is https://zapier.com/learn/apis/."
   ]
  },
  {
   "cell_type": "markdown",
   "metadata": {},
   "source": [
    "### httr\n",
    "\n",
    "The tool of the trade for APIs interaction in R is the library `httr`. Get familiar with it reading the [introduction](http://httr.r-lib.org/articles/quickstart.html). If you are unfamiliar with how HTTP works (the common underlaying network protocol that rules the web) read also the two resources suggested at the start of the introduction. Or maybe ask your peer to explain you a bit."
   ]
  },
  {
   "cell_type": "markdown",
   "metadata": {},
   "source": [
    "### API in the zoo\n",
    "\n",
    "The website [numbersapi](http://www.numbersapi.com) offers a funny example to try and use a RESTful API. (You can use *different* APIs, take a look at [programmableweb](http://programmableweb.com) for a selection of available ones, and I actually encourage you to choose a different example if you are already familiar with the concept.)\n",
    "\n",
    "Using some tool to deal with strings (I like `glue`, but you can do this stuff with the base `paste` if you are more comfy) write some examples of interaction with numbersapi (tl;dr, write some query string and feed it to `httr`'s `GET`: e.g., `GET(\"http://www.colourlovers.com/api/color/6B4106?format=xml\")`).\n",
    "\n",
    "_kudos if you use an APIs that allows you to POST, PUT, DELETE, ... instead of just GETting._"
   ]
  },
  {
   "cell_type": "markdown",
   "metadata": {},
   "source": [
    "### API in the zoo but tamed\n",
    "\n",
    "Dealing with strings is not ideal: you need to tweak theme everytime you want to perform a different query, and that opens the door to errors. Also, our credo is that everytime we have to repeat some task, it's better to write a function for it.\n",
    "\n",
    "Thus, write wrapper functions to perform the queries you wrote in the previous exercise. Try and write both very specific, _atomic_, functions that do just one very specific thing, and some more general function that can do more than one thing combining the more atomic functions together.\n",
    "\n",
    "For example, if you are using the numbersapi, write both something like `get_integer_math()` that only allows you to query `[integer]/math` (e.g., Ramanujan's taxi plate [1729](http://numbersapi.com/1729/math)); and something like `get_number_type()` which allows for different types specifications (trivia, math, date, or year).\n",
    "\n",
    "_kudos if these functions check the inputs (e.g., for `get_integer_math`, the function checks wether the input is indeed an integer and returns an error otherwise) and handles the eventual errors risen by the APIs._\n"
   ]
  },
  {
   "cell_type": "markdown",
   "metadata": {},
   "source": [
    "### API authorized\n",
    "\n",
    "Not all APIs are free and completely open to everybody. Some of them require an autentification/authorization step: the server that is responding to your query wants to know who you are, because certain services are available only to some users.\n",
    "\n",
    "A common method of authentification is called `OAuth` or `OAuth2.0` (if you are very curious, see [here](https://en.wikipedia.org/wiki/OAuth). `httr` has functions to create and handle ouaths. See this [paragraph](http://httr.r-lib.org/articles/api-packages.html#authentication) or read more [here](https://support.rstudio.com/hc/en-us/articles/217952868-Generating-OAuth-tokens-for-a-server-using-httr).\n",
    "\n",
    "Register on https://developer.twitter.com/, obtain the _secrets_, register an app (it does not matter which website you provide) and write the code to connect to it (see [here](https://developer.twitter.com/) for more details)."
   ]
  },
  {
   "cell_type": "markdown",
   "metadata": {},
   "source": [
    "### API in the wild\n",
    "\n",
    "Sometimes you are fortunate enought that the information you are looking for is provided by a website through an API. This is a somewhat open ended exercise. The first one you encounter in this labs, but now you are grown up. We ask you to _pull_ data from an API of your choice, do some simple wrangling (and some super simple analysis if you really want) and visualize your result.\n",
    "\n",
    "The focus of the exercise is on the interaction with the API you chose, not so much the visualization. We would like to see that you did some complex query in a programmatic fashion (that is, not by hand-writing the query but using a function to do that for you).\n",
    "\n",
    "Some possible APIs you can use are (in order of what-Giulio-likes):\n",
    "\n",
    "* digitalnz [API](https://digitalnz.org/developers) get cultural, education and gov data from NZ. It contains many different API. Some of them require authentification and/or subscription (a good one is the DOC [campsites and huts](https://api.doc.govt.nz) api).\n",
    "* [Geonet](https://api.geonet.org.nz/) for geological hazard information\n",
    "* [Trademe](https://developer.trademe.co.nz/) very nice one, but not supereasy to get the autentification done (this [queries](https://developer.trademe.co.nz/api-reference/catalogue-methods/) do not require auth).\n",
    "* all of thise [references](https://www.programmableweb.com/category/reference/api) APIs are (probably, I did not check ALL of them) good examples.\n",
    "* [GDELT](https://blog.gdeltproject.org/gdelt-geo-2-0-api-debuts/) This is a rewarding, yet **tough**, API. Take a look at [leaflet](https://rstudio.github.io/leaflet/json.html) for an idea on how to use what you get back from GDELT. Also, Alex Bresler has started working on an [R wrapper](https://github.com/abresler/gdeltr2) that may get you inspired.\n",
    "* [car2go](https://github.com/car2go/openAPI) (requires [registration](https://github.com/car2go/openAPI/wiki/Access-protected-Functions-via-OAuth-1.0#registration-as-consumer))\n",
    "* [Quandl](https://www.quandl.com/docs/api)\n",
    "* [Lufthansa](https://developer.lufthansa.com/docs) most methods are open, so good one if you don't want to deal with authentification.\n",
    "\n",
    "##### Let's do the JSON dance\n",
    "\n",
    "Many website returns JSON files when you query them. Json is similar to the XML (of which HTML is an example) in that it is a **tree** (not tabular nor relational) data format. Roughly speaking, it is a list of lists of lists of ... `purrr` is very handy when you want to extract information from a JSON file. But do see also the `jsonlite` package, [intro here](https://cran.r-project.org/web/packages/jsonlite/vignettes/json-aaquickstart.html). If you are lost trying to wrangle the results you get from these APIs, consider working through Jenny Brian's [tutorial on purrr](https://jennybc.github.io/purrr-tutorial/ex26_ny-food-market-json.html). Additional material here: https://www.zevross.com/blog/2019/06/11/the-power-of-three-purrr-poseful-iteration-in-r-with-map-pmap-and-imap/"
   ]
  },
  {
   "cell_type": "code",
   "execution_count": null,
   "metadata": {},
   "outputs": [],
   "source": []
  }
 ],
 "metadata": {
  "kernelspec": {
   "display_name": "R",
   "language": "R",
   "name": "ir"
  },
  "language_info": {
   "codemirror_mode": "r",
   "file_extension": ".r",
   "mimetype": "text/x-r-source",
   "name": "R",
   "pygments_lexer": "r",
   "version": "4.2.1"
  }
 },
 "nbformat": 4,
 "nbformat_minor": 4
}
