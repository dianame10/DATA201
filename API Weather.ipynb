{
 "cells": [
  {
   "cell_type": "code",
   "execution_count": 17,
   "id": "2eec2889",
   "metadata": {},
   "outputs": [
    {
     "name": "stderr",
     "output_type": "stream",
     "text": [
      "\n",
      "Attaching package: ‘lubridate’\n",
      "\n",
      "\n",
      "The following objects are masked from ‘package:base’:\n",
      "\n",
      "    date, intersect, setdiff, union\n",
      "\n",
      "\n"
     ]
    }
   ],
   "source": [
    "# install.packages(\"rvest\")\n",
    "# remotes::install_github(\"dmi3kno/polite\")(\"politer\")\n",
    "# install.packages(\"xml2\")\n",
    "library(rvest) # rvest makes scraping easier\n",
    "library(polite) # polite is the \"polite\" version of rvest\n",
    "library(xml2) # makes it easier to work with HTML and XML from R\n",
    "\n",
    "\n",
    "library(tidyverse)\n",
    "library(magrittr)\n",
    "library(purrr) \n",
    "library(glue) \n",
    "library(stringr)\n",
    "\n",
    "library(dplyr)\n",
    "library(lubridate)\n",
    "library(writexl)"
   ]
  },
  {
   "cell_type": "code",
   "execution_count": 6,
   "id": "57d26ba9",
   "metadata": {},
   "outputs": [],
   "source": [
    "#first we load the httr library so that we can fetch the response from an api\n",
    "library(httr)\n",
    "library(jsonlite)"
   ]
  },
  {
   "cell_type": "code",
   "execution_count": 35,
   "id": "de0990ea",
   "metadata": {},
   "outputs": [
    {
     "data": {
      "text/html": [
       "'Something went wrong: possibly maximum number of request has been reached'"
      ],
      "text/latex": [
       "'Something went wrong: possibly maximum number of request has been reached'"
      ],
      "text/markdown": [
       "'Something went wrong: possibly maximum number of request has been reached'"
      ],
      "text/plain": [
       "[1] \"Something went wrong: possibly maximum number of request has been reached\""
      ]
     },
     "metadata": {},
     "output_type": "display_data"
    },
    {
     "data": {
      "text/plain": [
       "NULL"
      ]
     },
     "metadata": {},
     "output_type": "display_data"
    },
    {
     "data": {
      "text/html": [
       "'Something went wrong: possibly maximum number of request has been reached'"
      ],
      "text/latex": [
       "'Something went wrong: possibly maximum number of request has been reached'"
      ],
      "text/markdown": [
       "'Something went wrong: possibly maximum number of request has been reached'"
      ],
      "text/plain": [
       "[1] \"Something went wrong: possibly maximum number of request has been reached\""
      ]
     },
     "metadata": {},
     "output_type": "display_data"
    },
    {
     "data": {
      "text/plain": [
       "NULL"
      ]
     },
     "metadata": {},
     "output_type": "display_data"
    },
    {
     "data": {
      "text/html": [
       "'Something went wrong: possibly maximum number of request has been reached'"
      ],
      "text/latex": [
       "'Something went wrong: possibly maximum number of request has been reached'"
      ],
      "text/markdown": [
       "'Something went wrong: possibly maximum number of request has been reached'"
      ],
      "text/plain": [
       "[1] \"Something went wrong: possibly maximum number of request has been reached\""
      ]
     },
     "metadata": {},
     "output_type": "display_data"
    },
    {
     "data": {
      "text/plain": [
       "NULL"
      ]
     },
     "metadata": {},
     "output_type": "display_data"
    }
   ],
   "source": [
    "# this is helper function to get the actually desired data inside the list\n",
    "# this function takes 2 parameter, the first one is the data which is a list of all the information about the weather for each day, the second parameter is the index which is a string of the data we want to get\n",
    "get_information_list <- function(data, index) {\n",
    "    empty <- vector(mode = \"list\", length = 0) # first we prepare an empty list which will be appended with the information we want to get\n",
    "    for(i in seq_along(data)){ # next we loop through every item inside the data given\n",
    "        empty <- append(empty, data[i][[1]][[index]]) # then we append the data to the list we prepared before\n",
    "    }\n",
    "    return(empty)\n",
    "}\n",
    "\n",
    "#this is the function to get the weather history from a week ago until the current date\n",
    "#this function will return a tibble which contains the information about the weather from 7 days ago to the current date. The information includes the date, temperature, windspeed, humidity, and conditions\n",
    "#this function takes 2 parameters, first one is the city which is a string that indicates the city we want get the weather data from, next is the apiKey which is a string of the API access token from the website mentioned above\n",
    "get_weather_data <- function(city, apiKey){\n",
    "\n",
    "    currentDate <- Sys.Date() # in this code we try to\n",
    "    \n",
    "    lastWeek <- as.Date(currentDate) - 7 # then we also get the date from a week ago\n",
    "    \n",
    "    location <- c(city, city, city, city, city, city, city)\n",
    "    \n",
    "\n",
    "    response_raw <- GET(glue(\"https://weather.visualcrossing.com/VisualCrossingWebServices/rest/services/timeline/{city}/{lastWeek}/{currentDate}?unitGroup=metric&key={apiKey}&contentType=json\")) # the we use the api to get the weather data by specifying the city and dates\n",
    "    response <- content(response_raw) # here I get the body content of the response\n",
    "\n",
    "    #then in the code below, we create new tibble/data frame and use the get_information_list() function we defined above to get the data for each column\n",
    "    result_weather_data <- tibble(Location = location,\n",
    "                                  Date = get_information_list(response[[\"days\"]], \"datetime\"),\n",
    "                                    Temperature = get_information_list(response[[\"days\"]], \"temp\"),\n",
    "                                    WindSpeed = get_information_list(response[[\"days\"]], \"windspeed\"),\n",
    "                                    Humidity = get_information_list(response[[\"days\"]], \"humidity\"),\n",
    "                                    Conditions = get_information_list(response[[\"days\"]], \"conditions\"))\n",
    "\n",
    "    #here we make sure each colum has correct data types\n",
    "    result_weather_data <- result_weather_data %>% mutate(across(Date, as.Date)) %>%\n",
    "                                                    mutate(across(Temperature, as.integer)) %>%\n",
    "                                                    mutate(across(WindSpeed, as.integer)) %>%\n",
    "                                                    mutate(across(Humidity, as.interger)) %>%\n",
    "                                                    mutate(across(Conditions, as.character)) %>% \n",
    "                                                    mutate(across(Location, str_to_title))\n",
    "    return(result_weather_data)\n",
    "}\n",
    "\n",
    "  get_weather_data_safe <- purrr::possibly(.f = get_weather_data, # so here we want to make sure that the the function is showing error message if any error happens\n",
    "                                   otherwise = \"Something went wrong: possibly maximum number of request has been reached\")\n",
    "\n",
    "chch_data<-get_weather_data_safe(\"christchurch\",\"GMTLW3T9CX22FK8GH662Q9GPZ\")\n",
    "chch_data\n",
    "                                                           \n",
    "chch_data %<>% write.csv(\"chch_data.csv\")\n",
    "chch_data\n",
    "                                                           \n",
    "akl_data<-get_weather_data_safe(\"auckland\",\"GMTLW3T9CX22FK8GH662Q9GPZ\")\n",
    "akl_data\n",
    "\n",
    "akl_data %<>% write.csv(\"akl_data.csv\")\n",
    "akl_data\n",
    "                                                          \n",
    "welly_data<-get_weather_data_safe(\"wellington\",\"GMTLW3T9CX22FK8GH662Q9GPZ\")\n",
    "welly_data\n",
    "                                                           \n",
    "welly_data %<>% write.csv(\"welly_data.csv\")\n",
    "welly_data"
   ]
  }
 ],
 "metadata": {
  "kernelspec": {
   "display_name": "R",
   "language": "R",
   "name": "ir"
  },
  "language_info": {
   "codemirror_mode": "r",
   "file_extension": ".r",
   "mimetype": "text/x-r-source",
   "name": "R",
   "pygments_lexer": "r",
   "version": "4.2.1"
  }
 },
 "nbformat": 4,
 "nbformat_minor": 5
}
