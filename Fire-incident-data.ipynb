{
 "cells": [
  {
   "cell_type": "code",
   "execution_count": 1,
   "id": "ef8ee868-f8fd-4739-bbe0-7f25a3e38cf4",
   "metadata": {
    "vscode": {
     "languageId": "r"
    }
   },
   "outputs": [
    {
     "name": "stderr",
     "output_type": "stream",
     "text": [
      "── \u001b[1mAttaching packages\u001b[22m ─────────────────────────────────────── tidyverse 1.3.2 ──\n",
      "\u001b[32m✔\u001b[39m \u001b[34mggplot2\u001b[39m 3.3.6     \u001b[32m✔\u001b[39m \u001b[34mpurrr  \u001b[39m 0.3.4\n",
      "\u001b[32m✔\u001b[39m \u001b[34mtibble \u001b[39m 3.1.8     \u001b[32m✔\u001b[39m \u001b[34mdplyr  \u001b[39m 1.0.9\n",
      "\u001b[32m✔\u001b[39m \u001b[34mtidyr  \u001b[39m 1.2.0     \u001b[32m✔\u001b[39m \u001b[34mstringr\u001b[39m 1.4.1\n",
      "\u001b[32m✔\u001b[39m \u001b[34mreadr  \u001b[39m 2.1.2     \u001b[32m✔\u001b[39m \u001b[34mforcats\u001b[39m 0.5.1\n",
      "── \u001b[1mConflicts\u001b[22m ────────────────────────────────────────── tidyverse_conflicts() ──\n",
      "\u001b[31m✖\u001b[39m \u001b[34mdplyr\u001b[39m::\u001b[32mfilter()\u001b[39m masks \u001b[34mstats\u001b[39m::filter()\n",
      "\u001b[31m✖\u001b[39m \u001b[34mdplyr\u001b[39m::\u001b[32mlag()\u001b[39m    masks \u001b[34mstats\u001b[39m::lag()\n",
      "\n",
      "Attaching package: ‘magrittr’\n",
      "\n",
      "\n",
      "The following object is masked from ‘package:purrr’:\n",
      "\n",
      "    set_names\n",
      "\n",
      "\n",
      "The following object is masked from ‘package:tidyr’:\n",
      "\n",
      "    extract\n",
      "\n",
      "\n",
      "\n",
      "Attaching package: ‘rvest’\n",
      "\n",
      "\n",
      "The following object is masked from ‘package:readr’:\n",
      "\n",
      "    guess_encoding\n",
      "\n",
      "\n"
     ]
    }
   ],
   "source": [
    "library(tidyverse)\n",
    "library(magrittr)\n",
    "library(purrr) \n",
    "library(glue) \n",
    "library(stringr) \n",
    "\n",
    "library(rvest) \n",
    "library(polite)\n",
    "library(xml2) "
   ]
  },
  {
   "cell_type": "code",
   "execution_count": 2,
   "id": "a27908b8-e456-466a-b17a-45ea3c96eb08",
   "metadata": {
    "vscode": {
     "languageId": "r"
    }
   },
   "outputs": [],
   "source": [
    "all_region_fire_incident <- read_html('https://www.fireandemergency.nz/incidents-and-news/incident-reports/')"
   ]
  },
  {
   "cell_type": "code",
   "execution_count": 3,
   "id": "489186c8-9821-4103-aed5-2c85388d1de2",
   "metadata": {
    "vscode": {
     "languageId": "r"
    }
   },
   "outputs": [
    {
     "data": {
      "text/html": [
       "<style>\n",
       ".list-inline {list-style: none; margin:0; padding: 0}\n",
       ".list-inline>li {display: inline-block}\n",
       ".list-inline>li:not(:last-child)::after {content: \"\\00b7\"; padding: 0 .5ex}\n",
       "</style>\n",
       "<ol class=list-inline><li>'/incidents-and-news/incident-reports/incidents?region=1&amp;day=Wednesday'</li><li>'/incidents-and-news/incident-reports/incidents?region=1&amp;day=Tuesday'</li><li>'/incidents-and-news/incident-reports/incidents?region=1&amp;day=Monday'</li><li>'/incidents-and-news/incident-reports/incidents?region=1&amp;day=Sunday'</li><li>'/incidents-and-news/incident-reports/incidents?region=1&amp;day=Saturday'</li><li>'/incidents-and-news/incident-reports/incidents?region=1&amp;day=Friday'</li><li>'/incidents-and-news/incident-reports/incidents?region=1&amp;day=Thursday'</li></ol>\n"
      ],
      "text/latex": [
       "\\begin{enumerate*}\n",
       "\\item '/incidents-and-news/incident-reports/incidents?region=1\\&day=Wednesday'\n",
       "\\item '/incidents-and-news/incident-reports/incidents?region=1\\&day=Tuesday'\n",
       "\\item '/incidents-and-news/incident-reports/incidents?region=1\\&day=Monday'\n",
       "\\item '/incidents-and-news/incident-reports/incidents?region=1\\&day=Sunday'\n",
       "\\item '/incidents-and-news/incident-reports/incidents?region=1\\&day=Saturday'\n",
       "\\item '/incidents-and-news/incident-reports/incidents?region=1\\&day=Friday'\n",
       "\\item '/incidents-and-news/incident-reports/incidents?region=1\\&day=Thursday'\n",
       "\\end{enumerate*}\n"
      ],
      "text/markdown": [
       "1. '/incidents-and-news/incident-reports/incidents?region=1&amp;day=Wednesday'\n",
       "2. '/incidents-and-news/incident-reports/incidents?region=1&amp;day=Tuesday'\n",
       "3. '/incidents-and-news/incident-reports/incidents?region=1&amp;day=Monday'\n",
       "4. '/incidents-and-news/incident-reports/incidents?region=1&amp;day=Sunday'\n",
       "5. '/incidents-and-news/incident-reports/incidents?region=1&amp;day=Saturday'\n",
       "6. '/incidents-and-news/incident-reports/incidents?region=1&amp;day=Friday'\n",
       "7. '/incidents-and-news/incident-reports/incidents?region=1&amp;day=Thursday'\n",
       "\n",
       "\n"
      ],
      "text/plain": [
       "[1] \"/incidents-and-news/incident-reports/incidents?region=1&day=Wednesday\"\n",
       "[2] \"/incidents-and-news/incident-reports/incidents?region=1&day=Tuesday\"  \n",
       "[3] \"/incidents-and-news/incident-reports/incidents?region=1&day=Monday\"   \n",
       "[4] \"/incidents-and-news/incident-reports/incidents?region=1&day=Sunday\"   \n",
       "[5] \"/incidents-and-news/incident-reports/incidents?region=1&day=Saturday\" \n",
       "[6] \"/incidents-and-news/incident-reports/incidents?region=1&day=Friday\"   \n",
       "[7] \"/incidents-and-news/incident-reports/incidents?region=1&day=Thursday\" "
      ]
     },
     "metadata": {},
     "output_type": "display_data"
    }
   ],
   "source": [
    "north_region_href <- all_region_fire_incident %>%\n",
    "   html_nodes('div.incidentreport__region:nth-child(6) .region .region__link') %>%\n",
    "   html_attr('href') \n",
    "north_region_href"
   ]
  },
  {
   "cell_type": "code",
   "execution_count": 4,
   "id": "c6ecf87e-8ff3-400b-9493-63e5e7506465",
   "metadata": {
    "vscode": {
     "languageId": "r"
    }
   },
   "outputs": [
    {
     "data": {
      "text/html": [
       "<style>\n",
       ".list-inline {list-style: none; margin:0; padding: 0}\n",
       ".list-inline>li {display: inline-block}\n",
       ".list-inline>li:not(:last-child)::after {content: \"\\00b7\"; padding: 0 .5ex}\n",
       "</style>\n",
       "<ol class=list-inline><li>'/incidents-and-news/incident-reports/incidents?region=2&amp;day=Wednesday'</li><li>'/incidents-and-news/incident-reports/incidents?region=2&amp;day=Tuesday'</li><li>'/incidents-and-news/incident-reports/incidents?region=2&amp;day=Monday'</li><li>'/incidents-and-news/incident-reports/incidents?region=2&amp;day=Sunday'</li><li>'/incidents-and-news/incident-reports/incidents?region=2&amp;day=Saturday'</li><li>'/incidents-and-news/incident-reports/incidents?region=2&amp;day=Friday'</li><li>'/incidents-and-news/incident-reports/incidents?region=2&amp;day=Thursday'</li></ol>\n"
      ],
      "text/latex": [
       "\\begin{enumerate*}\n",
       "\\item '/incidents-and-news/incident-reports/incidents?region=2\\&day=Wednesday'\n",
       "\\item '/incidents-and-news/incident-reports/incidents?region=2\\&day=Tuesday'\n",
       "\\item '/incidents-and-news/incident-reports/incidents?region=2\\&day=Monday'\n",
       "\\item '/incidents-and-news/incident-reports/incidents?region=2\\&day=Sunday'\n",
       "\\item '/incidents-and-news/incident-reports/incidents?region=2\\&day=Saturday'\n",
       "\\item '/incidents-and-news/incident-reports/incidents?region=2\\&day=Friday'\n",
       "\\item '/incidents-and-news/incident-reports/incidents?region=2\\&day=Thursday'\n",
       "\\end{enumerate*}\n"
      ],
      "text/markdown": [
       "1. '/incidents-and-news/incident-reports/incidents?region=2&amp;day=Wednesday'\n",
       "2. '/incidents-and-news/incident-reports/incidents?region=2&amp;day=Tuesday'\n",
       "3. '/incidents-and-news/incident-reports/incidents?region=2&amp;day=Monday'\n",
       "4. '/incidents-and-news/incident-reports/incidents?region=2&amp;day=Sunday'\n",
       "5. '/incidents-and-news/incident-reports/incidents?region=2&amp;day=Saturday'\n",
       "6. '/incidents-and-news/incident-reports/incidents?region=2&amp;day=Friday'\n",
       "7. '/incidents-and-news/incident-reports/incidents?region=2&amp;day=Thursday'\n",
       "\n",
       "\n"
      ],
      "text/plain": [
       "[1] \"/incidents-and-news/incident-reports/incidents?region=2&day=Wednesday\"\n",
       "[2] \"/incidents-and-news/incident-reports/incidents?region=2&day=Tuesday\"  \n",
       "[3] \"/incidents-and-news/incident-reports/incidents?region=2&day=Monday\"   \n",
       "[4] \"/incidents-and-news/incident-reports/incidents?region=2&day=Sunday\"   \n",
       "[5] \"/incidents-and-news/incident-reports/incidents?region=2&day=Saturday\" \n",
       "[6] \"/incidents-and-news/incident-reports/incidents?region=2&day=Friday\"   \n",
       "[7] \"/incidents-and-news/incident-reports/incidents?region=2&day=Thursday\" "
      ]
     },
     "metadata": {},
     "output_type": "display_data"
    }
   ],
   "source": [
    "central_region_href <- all_region_fire_incident %>%\n",
    "   html_nodes('div.incidentreport__region:nth-child(7) .region .region__link') %>%\n",
    "   html_attr('href') \n",
    "central_region_href"
   ]
  },
  {
   "cell_type": "code",
   "execution_count": 5,
   "id": "772e1ac8-7c78-4800-87fd-f00b2f46b32d",
   "metadata": {
    "vscode": {
     "languageId": "r"
    }
   },
   "outputs": [
    {
     "data": {
      "text/html": [
       "<style>\n",
       ".list-inline {list-style: none; margin:0; padding: 0}\n",
       ".list-inline>li {display: inline-block}\n",
       ".list-inline>li:not(:last-child)::after {content: \"\\00b7\"; padding: 0 .5ex}\n",
       "</style>\n",
       "<ol class=list-inline><li>'/incidents-and-news/incident-reports/incidents?region=3&amp;day=Wednesday'</li><li>'/incidents-and-news/incident-reports/incidents?region=3&amp;day=Tuesday'</li><li>'/incidents-and-news/incident-reports/incidents?region=3&amp;day=Monday'</li><li>'/incidents-and-news/incident-reports/incidents?region=3&amp;day=Sunday'</li><li>'/incidents-and-news/incident-reports/incidents?region=3&amp;day=Saturday'</li><li>'/incidents-and-news/incident-reports/incidents?region=3&amp;day=Friday'</li><li>'/incidents-and-news/incident-reports/incidents?region=3&amp;day=Thursday'</li></ol>\n"
      ],
      "text/latex": [
       "\\begin{enumerate*}\n",
       "\\item '/incidents-and-news/incident-reports/incidents?region=3\\&day=Wednesday'\n",
       "\\item '/incidents-and-news/incident-reports/incidents?region=3\\&day=Tuesday'\n",
       "\\item '/incidents-and-news/incident-reports/incidents?region=3\\&day=Monday'\n",
       "\\item '/incidents-and-news/incident-reports/incidents?region=3\\&day=Sunday'\n",
       "\\item '/incidents-and-news/incident-reports/incidents?region=3\\&day=Saturday'\n",
       "\\item '/incidents-and-news/incident-reports/incidents?region=3\\&day=Friday'\n",
       "\\item '/incidents-and-news/incident-reports/incidents?region=3\\&day=Thursday'\n",
       "\\end{enumerate*}\n"
      ],
      "text/markdown": [
       "1. '/incidents-and-news/incident-reports/incidents?region=3&amp;day=Wednesday'\n",
       "2. '/incidents-and-news/incident-reports/incidents?region=3&amp;day=Tuesday'\n",
       "3. '/incidents-and-news/incident-reports/incidents?region=3&amp;day=Monday'\n",
       "4. '/incidents-and-news/incident-reports/incidents?region=3&amp;day=Sunday'\n",
       "5. '/incidents-and-news/incident-reports/incidents?region=3&amp;day=Saturday'\n",
       "6. '/incidents-and-news/incident-reports/incidents?region=3&amp;day=Friday'\n",
       "7. '/incidents-and-news/incident-reports/incidents?region=3&amp;day=Thursday'\n",
       "\n",
       "\n"
      ],
      "text/plain": [
       "[1] \"/incidents-and-news/incident-reports/incidents?region=3&day=Wednesday\"\n",
       "[2] \"/incidents-and-news/incident-reports/incidents?region=3&day=Tuesday\"  \n",
       "[3] \"/incidents-and-news/incident-reports/incidents?region=3&day=Monday\"   \n",
       "[4] \"/incidents-and-news/incident-reports/incidents?region=3&day=Sunday\"   \n",
       "[5] \"/incidents-and-news/incident-reports/incidents?region=3&day=Saturday\" \n",
       "[6] \"/incidents-and-news/incident-reports/incidents?region=3&day=Friday\"   \n",
       "[7] \"/incidents-and-news/incident-reports/incidents?region=3&day=Thursday\" "
      ]
     },
     "metadata": {},
     "output_type": "display_data"
    }
   ],
   "source": [
    "south_region_href <- all_region_fire_incident %>%\n",
    "   html_nodes('div.incidentreport__region:nth-child(8) .region .region__link') %>%\n",
    "   html_attr('href') \n",
    "south_region_href"
   ]
  },
  {
   "cell_type": "code",
   "execution_count": 6,
   "id": "1c2589b3-e1c2-4728-a98a-e3a720583fba",
   "metadata": {
    "vscode": {
     "languageId": "r"
    }
   },
   "outputs": [
    {
     "data": {
      "text/html": [
       "<table class=\"dataframe\">\n",
       "<caption>A tibble: 7 × 3</caption>\n",
       "<thead>\n",
       "\t<tr><th scope=col>North</th><th scope=col>Central</th><th scope=col>South</th></tr>\n",
       "\t<tr><th scope=col>&lt;chr&gt;</th><th scope=col>&lt;chr&gt;</th><th scope=col>&lt;chr&gt;</th></tr>\n",
       "</thead>\n",
       "<tbody>\n",
       "\t<tr><td>/incidents-and-news/incident-reports/incidents?region=1&amp;day=Wednesday</td><td>/incidents-and-news/incident-reports/incidents?region=2&amp;day=Wednesday</td><td>/incidents-and-news/incident-reports/incidents?region=3&amp;day=Wednesday</td></tr>\n",
       "\t<tr><td><span style=white-space:pre-wrap>/incidents-and-news/incident-reports/incidents?region=1&amp;day=Tuesday  </span></td><td><span style=white-space:pre-wrap>/incidents-and-news/incident-reports/incidents?region=2&amp;day=Tuesday  </span></td><td><span style=white-space:pre-wrap>/incidents-and-news/incident-reports/incidents?region=3&amp;day=Tuesday  </span></td></tr>\n",
       "\t<tr><td><span style=white-space:pre-wrap>/incidents-and-news/incident-reports/incidents?region=1&amp;day=Monday   </span></td><td><span style=white-space:pre-wrap>/incidents-and-news/incident-reports/incidents?region=2&amp;day=Monday   </span></td><td><span style=white-space:pre-wrap>/incidents-and-news/incident-reports/incidents?region=3&amp;day=Monday   </span></td></tr>\n",
       "\t<tr><td><span style=white-space:pre-wrap>/incidents-and-news/incident-reports/incidents?region=1&amp;day=Sunday   </span></td><td><span style=white-space:pre-wrap>/incidents-and-news/incident-reports/incidents?region=2&amp;day=Sunday   </span></td><td><span style=white-space:pre-wrap>/incidents-and-news/incident-reports/incidents?region=3&amp;day=Sunday   </span></td></tr>\n",
       "\t<tr><td>/incidents-and-news/incident-reports/incidents?region=1&amp;day=Saturday </td><td>/incidents-and-news/incident-reports/incidents?region=2&amp;day=Saturday </td><td>/incidents-and-news/incident-reports/incidents?region=3&amp;day=Saturday </td></tr>\n",
       "\t<tr><td><span style=white-space:pre-wrap>/incidents-and-news/incident-reports/incidents?region=1&amp;day=Friday   </span></td><td><span style=white-space:pre-wrap>/incidents-and-news/incident-reports/incidents?region=2&amp;day=Friday   </span></td><td><span style=white-space:pre-wrap>/incidents-and-news/incident-reports/incidents?region=3&amp;day=Friday   </span></td></tr>\n",
       "\t<tr><td>/incidents-and-news/incident-reports/incidents?region=1&amp;day=Thursday </td><td>/incidents-and-news/incident-reports/incidents?region=2&amp;day=Thursday </td><td>/incidents-and-news/incident-reports/incidents?region=3&amp;day=Thursday </td></tr>\n",
       "</tbody>\n",
       "</table>\n"
      ],
      "text/latex": [
       "A tibble: 7 × 3\n",
       "\\begin{tabular}{lll}\n",
       " North & Central & South\\\\\n",
       " <chr> & <chr> & <chr>\\\\\n",
       "\\hline\n",
       "\t /incidents-and-news/incident-reports/incidents?region=1\\&day=Wednesday & /incidents-and-news/incident-reports/incidents?region=2\\&day=Wednesday & /incidents-and-news/incident-reports/incidents?region=3\\&day=Wednesday\\\\\n",
       "\t /incidents-and-news/incident-reports/incidents?region=1\\&day=Tuesday   & /incidents-and-news/incident-reports/incidents?region=2\\&day=Tuesday   & /incidents-and-news/incident-reports/incidents?region=3\\&day=Tuesday  \\\\\n",
       "\t /incidents-and-news/incident-reports/incidents?region=1\\&day=Monday    & /incidents-and-news/incident-reports/incidents?region=2\\&day=Monday    & /incidents-and-news/incident-reports/incidents?region=3\\&day=Monday   \\\\\n",
       "\t /incidents-and-news/incident-reports/incidents?region=1\\&day=Sunday    & /incidents-and-news/incident-reports/incidents?region=2\\&day=Sunday    & /incidents-and-news/incident-reports/incidents?region=3\\&day=Sunday   \\\\\n",
       "\t /incidents-and-news/incident-reports/incidents?region=1\\&day=Saturday  & /incidents-and-news/incident-reports/incidents?region=2\\&day=Saturday  & /incidents-and-news/incident-reports/incidents?region=3\\&day=Saturday \\\\\n",
       "\t /incidents-and-news/incident-reports/incidents?region=1\\&day=Friday    & /incidents-and-news/incident-reports/incidents?region=2\\&day=Friday    & /incidents-and-news/incident-reports/incidents?region=3\\&day=Friday   \\\\\n",
       "\t /incidents-and-news/incident-reports/incidents?region=1\\&day=Thursday  & /incidents-and-news/incident-reports/incidents?region=2\\&day=Thursday  & /incidents-and-news/incident-reports/incidents?region=3\\&day=Thursday \\\\\n",
       "\\end{tabular}\n"
      ],
      "text/markdown": [
       "\n",
       "A tibble: 7 × 3\n",
       "\n",
       "| North &lt;chr&gt; | Central &lt;chr&gt; | South &lt;chr&gt; |\n",
       "|---|---|---|\n",
       "| /incidents-and-news/incident-reports/incidents?region=1&amp;day=Wednesday | /incidents-and-news/incident-reports/incidents?region=2&amp;day=Wednesday | /incidents-and-news/incident-reports/incidents?region=3&amp;day=Wednesday |\n",
       "| /incidents-and-news/incident-reports/incidents?region=1&amp;day=Tuesday   | /incidents-and-news/incident-reports/incidents?region=2&amp;day=Tuesday   | /incidents-and-news/incident-reports/incidents?region=3&amp;day=Tuesday   |\n",
       "| /incidents-and-news/incident-reports/incidents?region=1&amp;day=Monday    | /incidents-and-news/incident-reports/incidents?region=2&amp;day=Monday    | /incidents-and-news/incident-reports/incidents?region=3&amp;day=Monday    |\n",
       "| /incidents-and-news/incident-reports/incidents?region=1&amp;day=Sunday    | /incidents-and-news/incident-reports/incidents?region=2&amp;day=Sunday    | /incidents-and-news/incident-reports/incidents?region=3&amp;day=Sunday    |\n",
       "| /incidents-and-news/incident-reports/incidents?region=1&amp;day=Saturday  | /incidents-and-news/incident-reports/incidents?region=2&amp;day=Saturday  | /incidents-and-news/incident-reports/incidents?region=3&amp;day=Saturday  |\n",
       "| /incidents-and-news/incident-reports/incidents?region=1&amp;day=Friday    | /incidents-and-news/incident-reports/incidents?region=2&amp;day=Friday    | /incidents-and-news/incident-reports/incidents?region=3&amp;day=Friday    |\n",
       "| /incidents-and-news/incident-reports/incidents?region=1&amp;day=Thursday  | /incidents-and-news/incident-reports/incidents?region=2&amp;day=Thursday  | /incidents-and-news/incident-reports/incidents?region=3&amp;day=Thursday  |\n",
       "\n"
      ],
      "text/plain": [
       "  North                                                                \n",
       "1 /incidents-and-news/incident-reports/incidents?region=1&day=Wednesday\n",
       "2 /incidents-and-news/incident-reports/incidents?region=1&day=Tuesday  \n",
       "3 /incidents-and-news/incident-reports/incidents?region=1&day=Monday   \n",
       "4 /incidents-and-news/incident-reports/incidents?region=1&day=Sunday   \n",
       "5 /incidents-and-news/incident-reports/incidents?region=1&day=Saturday \n",
       "6 /incidents-and-news/incident-reports/incidents?region=1&day=Friday   \n",
       "7 /incidents-and-news/incident-reports/incidents?region=1&day=Thursday \n",
       "  Central                                                              \n",
       "1 /incidents-and-news/incident-reports/incidents?region=2&day=Wednesday\n",
       "2 /incidents-and-news/incident-reports/incidents?region=2&day=Tuesday  \n",
       "3 /incidents-and-news/incident-reports/incidents?region=2&day=Monday   \n",
       "4 /incidents-and-news/incident-reports/incidents?region=2&day=Sunday   \n",
       "5 /incidents-and-news/incident-reports/incidents?region=2&day=Saturday \n",
       "6 /incidents-and-news/incident-reports/incidents?region=2&day=Friday   \n",
       "7 /incidents-and-news/incident-reports/incidents?region=2&day=Thursday \n",
       "  South                                                                \n",
       "1 /incidents-and-news/incident-reports/incidents?region=3&day=Wednesday\n",
       "2 /incidents-and-news/incident-reports/incidents?region=3&day=Tuesday  \n",
       "3 /incidents-and-news/incident-reports/incidents?region=3&day=Monday   \n",
       "4 /incidents-and-news/incident-reports/incidents?region=3&day=Sunday   \n",
       "5 /incidents-and-news/incident-reports/incidents?region=3&day=Saturday \n",
       "6 /incidents-and-news/incident-reports/incidents?region=3&day=Friday   \n",
       "7 /incidents-and-news/incident-reports/incidents?region=3&day=Thursday "
      ]
     },
     "metadata": {},
     "output_type": "display_data"
    }
   ],
   "source": [
    "all_region_href <- tibble(North = north_region_href, Central = central_region_href, South = south_region_href)\n",
    "all_region_href"
   ]
  },
  {
   "cell_type": "code",
   "execution_count": 7,
   "id": "4fa62b4f-ab74-4bea-9f95-6a02deebcbdd",
   "metadata": {
    "vscode": {
     "languageId": "r"
    }
   },
   "outputs": [],
   "source": [
    "region_incident_data <- function(href, key_index){\n",
    "    \n",
    "    region_data <- glue('https://www.fireandemergency.nz{href}#')%>%\n",
    "                   read_html() %>%\n",
    "                   html_nodes(glue('.report__table .report__table__body .report__table__row:nth-child({key_index}) .report__table__cell+ .report__table__cell--value p:nth-child(1)')) %>%\n",
    "                   html_text2()\n",
    "    \n",
    "    return(region_data)\n",
    "    \n",
    "    }\n",
    "                  "
   ]
  },
  {
   "cell_type": "code",
   "execution_count": 8,
   "id": "42ba4582-a2ca-4cad-8f86-2adf9cc56fc3",
   "metadata": {
    "vscode": {
     "languageId": "r"
    }
   },
   "outputs": [],
   "source": [
    "region_incident_data <- function(href){\n",
    "    \n",
    "    region_href <- glue('https://www.fireandemergency.nz{href}#')%>%\n",
    "                   read_html() \n",
    "    \n",
    "    Incident <- region_href %>%\n",
    "                  html_nodes(glue('.report__table .report__table__body .report__table__row:nth-child(1) .report__table__cell+ .report__table__cell--value p:nth-child(1)')) %>%\n",
    "                  html_text2()\n",
    "    \n",
    "    Date_and_Time <- region_href %>%\n",
    "                  html_nodes(glue('.report__table .report__table__body .report__table__row:nth-child(2) .report__table__cell+ .report__table__cell--value p:nth-child(1)')) %>%\n",
    "                  html_text2()\n",
    "        \n",
    "    Location <- region_href %>%\n",
    "                  html_nodes(glue('.report__table .report__table__body .report__table__row:nth-child(3) .report__table__cell+ .report__table__cell--value p:nth-child(1)')) %>%\n",
    "                  html_text2()\n",
    "    \n",
    "    Duration <- region_href %>%\n",
    "                  html_nodes(glue('.report__table .report__table__body .report__table__row:nth-child(4) .report__table__cell+ .report__table__cell--value p:nth-child(1)')) %>%\n",
    "                  html_text2()\n",
    "    \n",
    "    Station <- region_href %>%\n",
    "                  html_nodes(glue('.report__table .report__table__body .report__table__row:nth-child(5) .report__table__cell+ .report__table__cell--value p:nth-child(1)')) %>%\n",
    "                  html_text2()\n",
    "    \n",
    "    Result <- region_href %>%\n",
    "                  html_nodes(glue('.report__table .report__table__body .report__table__row:nth-child(6) .report__table__cell+ .report__table__cell--value p:nth-child(1)')) %>%\n",
    "                  html_text2()\n",
    "    \n",
    "    region_incident_table <- tibble(Incident_no = Incident, Date_and_Time = Date_and_Time, Location = Location, Duration = Duration, Station = Station, Result = Result)\n",
    "    \n",
    "    return(region_incident_table)\n",
    "    \n",
    "    }"
   ]
  },
  {
   "cell_type": "markdown",
   "id": "b8c059fc-d0d8-4c79-97bf-07d691fb82f7",
   "metadata": {},
   "source": [
    "format:\n",
    "{region}_{day}_data"
   ]
  },
  {
   "cell_type": "markdown",
   "id": "b2d7740a-8247-4d6b-81df-8efd70a1cb56",
   "metadata": {},
   "source": [
    "### North fire incident data (Monday to Sunday)"
   ]
  },
  {
   "cell_type": "code",
   "execution_count": 9,
   "id": "5a907b47-f8cc-4be9-ae45-fe382302cbec",
   "metadata": {
    "tags": [],
    "vscode": {
     "languageId": "r"
    }
   },
   "outputs": [],
   "source": [
    "north_monday_data <- region_incident_data('/incidents-and-news/incident-reports/incidents?region=1&day=Monday')"
   ]
  },
  {
   "cell_type": "code",
   "execution_count": 10,
   "id": "a14757df-c954-4706-adf4-3d1fba98a88f",
   "metadata": {
    "tags": [],
    "vscode": {
     "languageId": "r"
    }
   },
   "outputs": [],
   "source": [
    "north_tuesday_data <- region_incident_data('/incidents-and-news/incident-reports/incidents?region=1&day=Tuesday')"
   ]
  },
  {
   "cell_type": "code",
   "execution_count": 11,
   "id": "5e3f2c26-8cf7-4a65-962e-ba2ac056acd9",
   "metadata": {
    "tags": [],
    "vscode": {
     "languageId": "r"
    }
   },
   "outputs": [],
   "source": [
    "north_wednesday_data <- region_incident_data('/incidents-and-news/incident-reports/incidents?region=1&day=Wednesday')"
   ]
  },
  {
   "cell_type": "code",
   "execution_count": 12,
   "id": "c1dd5fea-7613-414b-a837-7acaf3b13b7b",
   "metadata": {
    "vscode": {
     "languageId": "r"
    }
   },
   "outputs": [],
   "source": [
    "north_thursday_data <- region_incident_data('/incidents-and-news/incident-reports/incidents?region=1&day=Thursday')"
   ]
  },
  {
   "cell_type": "code",
   "execution_count": 13,
   "id": "0d8f6c97-15f3-4861-919c-611de883532b",
   "metadata": {
    "tags": [],
    "vscode": {
     "languageId": "r"
    }
   },
   "outputs": [],
   "source": [
    "north_friday_data <- region_incident_data('/incidents-and-news/incident-reports/incidents?region=1&day=Friday')"
   ]
  },
  {
   "cell_type": "code",
   "execution_count": 14,
   "id": "50720bdf-4742-44e2-bcda-e97151fe06e2",
   "metadata": {
    "tags": [],
    "vscode": {
     "languageId": "r"
    }
   },
   "outputs": [],
   "source": [
    "north_saturday_data <- region_incident_data('/incidents-and-news/incident-reports/incidents?region=1&day=Saturday')"
   ]
  },
  {
   "cell_type": "code",
   "execution_count": 15,
   "id": "f9de8273-dd42-45d4-aa07-02e0dff04654",
   "metadata": {
    "tags": [],
    "vscode": {
     "languageId": "r"
    }
   },
   "outputs": [
    {
     "data": {
      "text/html": [
       "<table class=\"dataframe\">\n",
       "<caption>A tibble: 129 × 6</caption>\n",
       "<thead>\n",
       "\t<tr><th scope=col>Incident_no</th><th scope=col>Date_and_Time</th><th scope=col>Location</th><th scope=col>Duration</th><th scope=col>Station</th><th scope=col>Result</th></tr>\n",
       "\t<tr><th scope=col>&lt;chr&gt;</th><th scope=col>&lt;chr&gt;</th><th scope=col>&lt;chr&gt;</th><th scope=col>&lt;chr&gt;</th><th scope=col>&lt;chr&gt;</th><th scope=col>&lt;chr&gt;</th></tr>\n",
       "</thead>\n",
       "<tbody>\n",
       "\t<tr><td>F3570958</td><td>02/10/2022 00:02:48</td><td>PAKURANGA AUCKLAND               </td><td>00:16:16</td><td>Mount Wellington</td><td>7100: FALSE ALARM (SPRNKLR)                         </td></tr>\n",
       "\t<tr><td>F3570962</td><td>02/10/2022 00:15:30</td><td>WAIUKU AUCKLAND                  </td><td>00:19:35</td><td>Waiuku          </td><td>9900: NON-FIRE EVENT: EXCL RESCUE/FALSE ALARM (MIN) </td></tr>\n",
       "\t<tr><td>F3570963</td><td>02/10/2022 00:18:59</td><td>PAPATOETOE AUCKLAND              </td><td>00:00:00</td><td>Papatoetoe      </td><td>3100: RESCUE,EMERGENCY,MEDICAL CALL (MED)           </td></tr>\n",
       "\t<tr><td>F3570967</td><td>02/10/2022 00:24:54</td><td>WAIRAU VALLEY AUCKLAND           </td><td>00:15:11</td><td>Takapuna        </td><td>7100: FALSE ALARM (SPRNKLR)                         </td></tr>\n",
       "\t<tr><td>F3570974</td><td>02/10/2022 00:45:03</td><td>TE ATATU PENINSULA AUCKLAND      </td><td>00:13:07</td><td>Te Atatu        </td><td>7100: FALSE ALARM (SPRNKLR)                         </td></tr>\n",
       "\t<tr><td>F3570975</td><td>02/10/2022 00:46:46</td><td>REGENT WHANGAREI DISTRICT        </td><td>00:00:00</td><td>Whangarei       </td><td>1500: MISCELLANEOUS FIRE (MIN)                      </td></tr>\n",
       "\t<tr><td>F3570979</td><td>02/10/2022 00:57:24</td><td>HAMILTON EAST HAMILTON CITY      </td><td>00:00:00</td><td>Hamilton        </td><td>9900: NON-FIRE EVENT: EXCL RESCUE/FALSE ALARM (MIN) </td></tr>\n",
       "\t<tr><td>F3570982</td><td>02/10/2022 01:02:12</td><td>TE ATATU PENINSULA AUCKLAND      </td><td>00:00:00</td><td>Te Atatu        </td><td>9900: NON-FIRE EVENT: EXCL RESCUE/FALSE ALARM (MIN) </td></tr>\n",
       "\t<tr><td>F3570983</td><td>02/10/2022 01:03:59</td><td>AUCKLAND CENTRAL AUCKLAND        </td><td>00:00:00</td><td>Auckland City   </td><td>3100: RESCUE,EMERGENCY,MEDICAL CALL (MED)           </td></tr>\n",
       "\t<tr><td>F3570985</td><td>02/10/2022 01:14:30</td><td>MOUNT EDEN AUCKLAND              </td><td>00:16:56</td><td>Balmoral        </td><td>7100: FALSE ALARM (MIN)                             </td></tr>\n",
       "\t<tr><td>F3570987</td><td>02/10/2022 01:38:14</td><td>GREY LYNN AUCKLAND               </td><td>00:14:50</td><td>Grey Lynn       </td><td>7100: FALSE ALARM (STRU)                            </td></tr>\n",
       "\t<tr><td>F3570989</td><td>02/10/2022 01:43:44</td><td>ONE TREE POINT WHANGAREI DISTRICT</td><td>00:26:35</td><td>Ruakaka         </td><td>7100: FALSE ALARM (STRU)                            </td></tr>\n",
       "\t<tr><td>F3570993</td><td>02/10/2022 02:14:34</td><td>PORT WAIKATO WAIKATO DISTRICT    </td><td>01:19:48</td><td>Port Waikato    </td><td>3100: RESCUE,EMERGENCY,MEDICAL CALL (MEDFR)         </td></tr>\n",
       "\t<tr><td>F3570997</td><td>02/10/2022 02:39:11</td><td>NGONGOTAHA ROTORUA DISTRICT      </td><td>00:00:00</td><td>Ngongotaha      </td><td>9900: NON-FIRE EVENT: EXCL RESCUE/FALSE ALARM (NAT2)</td></tr>\n",
       "\t<tr><td>F3570998</td><td>02/10/2022 02:44:06</td><td>PAPATOETOE AUCKLAND              </td><td>00:26:47</td><td>Otahuhu         </td><td>7100: FALSE ALARM (SPRNKLR)                         </td></tr>\n",
       "\t<tr><td>F3571000</td><td>02/10/2022 02:51:58</td><td>NGAHINAPOURI WAIPA DISTRICT      </td><td>00:00:00</td><td>Hamilton        </td><td>3100: RESCUE,EMERGENCY,MEDICAL CALL (RESC)          </td></tr>\n",
       "\t<tr><td>F3571002</td><td>02/10/2022 03:11:06</td><td>PUKETE HAMILTON CITY             </td><td>00:20:58</td><td>Hamilton        </td><td>7100: FALSE ALARM (STRU)                            </td></tr>\n",
       "\t<tr><td>F3571003</td><td>02/10/2022 03:27:23</td><td>POINT CHEVALIER AUCKLAND         </td><td>00:00:00</td><td>Grey Lynn       </td><td>3100: RESCUE,EMERGENCY,MEDICAL CALL (MED)           </td></tr>\n",
       "\t<tr><td>F3571005</td><td>02/10/2022 03:28:44</td><td>KINLEITH SOUTH WAIKATO DISTRICT  </td><td>00:00:00</td><td>Kinleith Mill   </td><td>1500: MISCELLANEOUS FIRE (MIN)                      </td></tr>\n",
       "\t<tr><td>F3571007</td><td>02/10/2022 03:40:26</td><td>PAPATOETOE AUCKLAND              </td><td>00:13:23</td><td>Papatoetoe      </td><td>1500: MISCELLANEOUS FIRE (MIN)                      </td></tr>\n",
       "\t<tr><td>F3571009</td><td>02/10/2022 04:07:56</td><td>STANMORE BAY AUCKLAND            </td><td>00:00:00</td><td>Manly           </td><td>3100: RESCUE,EMERGENCY,MEDICAL CALL (MEDFR)         </td></tr>\n",
       "\t<tr><td>F3571012</td><td>02/10/2022 04:15:05</td><td>KAIKOHE FAR NORTH DISTRICT       </td><td>00:00:00</td><td>Kaikohe         </td><td>3100: RESCUE,EMERGENCY,MEDICAL CALL (RESC)          </td></tr>\n",
       "\t<tr><td>F3571013</td><td>02/10/2022 04:18:06</td><td>TAURANGA SOUTH TAURANGA CITY     </td><td>00:00:00</td><td>Tauranga        </td><td>3100: RESCUE,EMERGENCY,MEDICAL CALL (MED)           </td></tr>\n",
       "\t<tr><td>F3571014</td><td>02/10/2022 04:19:45</td><td>TAURIKO TAURANGA CITY            </td><td>00:00:00</td><td>Tauranga        </td><td>9900: NON-FIRE EVENT: EXCL RESCUE/FALSE ALARM (STRU)</td></tr>\n",
       "\t<tr><td>F3571017</td><td>02/10/2022 04:28:29</td><td>AUCKLAND CENTRAL AUCKLAND        </td><td>00:22:04</td><td>Auckland City   </td><td>7100: FALSE ALARM (STRU)                            </td></tr>\n",
       "\t<tr><td>F3571019</td><td>02/10/2022 04:30:42</td><td>HOBSONVILLE AUCKLAND             </td><td>00:00:00</td><td>West Harbour    </td><td>9900: NON-FIRE EVENT: EXCL RESCUE/FALSE ALARM (MIN) </td></tr>\n",
       "\t<tr><td>F3571020</td><td>02/10/2022 04:36:58</td><td>HUNTLY WAIKATO DISTRICT          </td><td>00:19:05</td><td>Huntly          </td><td>1500: MISCELLANEOUS FIRE (STRU)                     </td></tr>\n",
       "\t<tr><td>F3571027</td><td>02/10/2022 05:06:34</td><td>AUCKLAND CENTRAL AUCKLAND        </td><td>00:00:00</td><td>Auckland City   </td><td>3100: RESCUE,EMERGENCY,MEDICAL CALL (MED)           </td></tr>\n",
       "\t<tr><td>F3571029</td><td>02/10/2022 05:11:27</td><td>MANUREWA EAST AUCKLAND           </td><td>00:09:26</td><td>Manurewa        </td><td>7100: FALSE ALARM (STRU)                            </td></tr>\n",
       "\t<tr><td>F3571031</td><td>02/10/2022 05:19:31</td><td>SURFDALE AUCKLAND                </td><td>00:19:57</td><td>Oneroa          </td><td>7100: FALSE ALARM (SPRNKLR)                         </td></tr>\n",
       "\t<tr><td>⋮</td><td>⋮</td><td>⋮</td><td>⋮</td><td>⋮</td><td>⋮</td></tr>\n",
       "\t<tr><td>F3571293</td><td>02/10/2022 16:30:13</td><td>NORTHCOTE AUCKLAND                    </td><td>00:00:00</td><td>Birkenhead      </td><td>1100: STRUCTURE FIRE (STRU)                         </td></tr>\n",
       "\t<tr><td>F3571305</td><td>02/10/2022 17:15:21</td><td>PARNELL AUCKLAND                      </td><td>00:00:00</td><td>Parnell         </td><td>3100: RESCUE,EMERGENCY,MEDICAL CALL (RESC)          </td></tr>\n",
       "\t<tr><td>F3571307</td><td>02/10/2022 17:16:44</td><td>ALBANY AUCKLAND                       </td><td>00:10:54</td><td>Albany          </td><td>7100: FALSE ALARM (STRU)                            </td></tr>\n",
       "\t<tr><td>F3571312</td><td>02/10/2022 17:29:47</td><td>TAUHARA TAUPO DISTRICT                </td><td>00:37:37</td><td>Taupo           </td><td>1500: MISCELLANEOUS FIRE (MIN)                      </td></tr>\n",
       "\t<tr><td>F3571313</td><td>02/10/2022 17:41:25</td><td>POMARE ROTORUA DISTRICT               </td><td>00:15:50</td><td>Rotorua         </td><td>7100: FALSE ALARM (STRU)                            </td></tr>\n",
       "\t<tr><td>F3571314</td><td>02/10/2022 17:41:48</td><td>TITIRANGI AUCKLAND                    </td><td>00:00:00</td><td>Laingholm       </td><td>1500: MISCELLANEOUS FIRE (VEG)                      </td></tr>\n",
       "\t<tr><td>F3571315</td><td>02/10/2022 17:47:11</td><td>ROTORUA ROTORUA DISTRICT              </td><td>00:31:37</td><td>Rotorua         </td><td>7100: FALSE ALARM (SPRNKLR)                         </td></tr>\n",
       "\t<tr><td>F3571323</td><td>02/10/2022 18:14:46</td><td>TE PUNA WESTERN BAY OF PLENTY DISTRICT</td><td>00:00:00</td><td>Tauranga        </td><td>1500: MISCELLANEOUS FIRE (MIN)                      </td></tr>\n",
       "\t<tr><td>F3571324</td><td>02/10/2022 18:17:42</td><td>PAEROA HAURAKI DISTRICT               </td><td>00:00:00</td><td>Paeroa          </td><td>9900: NON-FIRE EVENT: EXCL RESCUE/FALSE ALARM (MIN) </td></tr>\n",
       "\t<tr><td>F3571325</td><td>02/10/2022 18:18:35</td><td>MOUNT MAUNGANUI TAURANGA CITY         </td><td>00:00:00</td><td>Tauranga        </td><td>1500: MISCELLANEOUS FIRE (STRU)                     </td></tr>\n",
       "\t<tr><td>F3571331</td><td>02/10/2022 18:38:40</td><td>MOUNT WELLINGTON AUCKLAND             </td><td>00:15:40</td><td>Mount Wellington</td><td>7100: FALSE ALARM (STRU)                            </td></tr>\n",
       "\t<tr><td>F3571335</td><td>02/10/2022 18:56:53</td><td>WAINUI AUCKLAND                       </td><td>00:00:00</td><td>Silverdale      </td><td>9900: NON-FIRE EVENT: EXCL RESCUE/FALSE ALARM (MIN) </td></tr>\n",
       "\t<tr><td>F3571336</td><td>02/10/2022 19:00:18</td><td>MOUNT EDEN AUCKLAND                   </td><td>00:00:00</td><td>Balmoral        </td><td>3100: RESCUE,EMERGENCY,MEDICAL CALL (MED)           </td></tr>\n",
       "\t<tr><td>F3571338</td><td>02/10/2022 19:16:45</td><td>TE POI MATAMATA-PIAKO DISTRICT        </td><td>00:00:00</td><td>Tirau           </td><td>1100: STRUCTURE FIRE (MIN)                          </td></tr>\n",
       "\t<tr><td>F3571339</td><td>02/10/2022 19:21:08</td><td>GLEN INNES AUCKLAND                   </td><td>00:00:00</td><td>Saint Heliers   </td><td>9900: NON-FIRE EVENT: EXCL RESCUE/FALSE ALARM (MIN) </td></tr>\n",
       "\t<tr><td>F3571342</td><td>02/10/2022 19:58:16</td><td>HAMILTON EAST HAMILTON CITY           </td><td>00:00:00</td><td>Hamilton        </td><td>3100: RESCUE,EMERGENCY,MEDICAL CALL (MED)           </td></tr>\n",
       "\t<tr><td>F3571343</td><td>02/10/2022 19:59:51</td><td>GLENDOWIE AUCKLAND                    </td><td>00:00:00</td><td>Saint Heliers   </td><td>3100: RESCUE,EMERGENCY,MEDICAL CALL (MED)           </td></tr>\n",
       "\t<tr><td>F3571348</td><td>02/10/2022 20:31:35</td><td>NEWMARKET AUCKLAND                    </td><td>00:18:55</td><td>Remuera         </td><td>7100: FALSE ALARM (STRU)                            </td></tr>\n",
       "\t<tr><td>F3571350</td><td>02/10/2022 20:37:56</td><td>MANGERE EAST AUCKLAND                 </td><td>00:00:00</td><td>Mangere         </td><td>3100: RESCUE,EMERGENCY,MEDICAL CALL (MED)           </td></tr>\n",
       "\t<tr><td>F3571351</td><td>02/10/2022 20:46:45</td><td>MOUNT EDEN AUCKLAND                   </td><td>00:13:38</td><td>Balmoral        </td><td>7100: FALSE ALARM (STRU)                            </td></tr>\n",
       "\t<tr><td>F3571353</td><td>02/10/2022 21:34:23</td><td>TAURIKO TAURANGA CITY                 </td><td>00:00:00</td><td>Tauranga        </td><td>7100: FALSE ALARM (STRU)                            </td></tr>\n",
       "\t<tr><td>F3571360</td><td>02/10/2022 21:56:31</td><td>TITIRANGI AUCKLAND                    </td><td>00:18:37</td><td>Titirangi       </td><td>7100: FALSE ALARM (STRU)                            </td></tr>\n",
       "\t<tr><td>F3571361</td><td>02/10/2022 21:57:30</td><td>GLEN INNES AUCKLAND                   </td><td>00:00:00</td><td>Saint Heliers   </td><td>9900: NON-FIRE EVENT: EXCL RESCUE/FALSE ALARM (STRU)</td></tr>\n",
       "\t<tr><td>F3571363</td><td>02/10/2022 22:22:32</td><td>OTARA AUCKLAND                        </td><td>00:00:00</td><td>Otara (Temp)    </td><td>3100: RESCUE,EMERGENCY,MEDICAL CALL (MED)           </td></tr>\n",
       "\t<tr><td>F3571366</td><td>02/10/2022 22:38:35</td><td>MANGERE AUCKLAND                      </td><td>00:12:53</td><td>Mangere         </td><td>7100: FALSE ALARM (SPRNKLR)                         </td></tr>\n",
       "\t<tr><td>F3571369</td><td>02/10/2022 22:53:14</td><td>MANGERE EAST AUCKLAND                 </td><td>00:11:15</td><td>Mangere         </td><td>7100: FALSE ALARM (STRU)                            </td></tr>\n",
       "\t<tr><td>F3571370</td><td>02/10/2022 22:57:05</td><td>MANGATAWHIRI WAIKATO DISTRICT         </td><td>00:00:00</td><td>Mangatangi      </td><td>3100: RESCUE,EMERGENCY,MEDICAL CALL (MEDFR)         </td></tr>\n",
       "\t<tr><td>F3571371</td><td>02/10/2022 22:58:59</td><td>WAIUKU AUCKLAND                       </td><td>00:00:00</td><td>Waiuku          </td><td>1500: MISCELLANEOUS FIRE (MIN)                      </td></tr>\n",
       "\t<tr><td>F3571375</td><td>02/10/2022 23:31:43</td><td>WAIKATO HOSPITAL HAMILTON CITY        </td><td>00:16:42</td><td>Hamilton        </td><td>7100: FALSE ALARM (SPRNKLR)                         </td></tr>\n",
       "\t<tr><td>F3571376</td><td>02/10/2022 23:53:38</td><td>KINLOCH TAUPO DISTRICT                </td><td>00:00:00</td><td>Kinloch         </td><td>9900: NON-FIRE EVENT: EXCL RESCUE/FALSE ALARM (MIN) </td></tr>\n",
       "</tbody>\n",
       "</table>\n"
      ],
      "text/latex": [
       "A tibble: 129 × 6\n",
       "\\begin{tabular}{llllll}\n",
       " Incident\\_no & Date\\_and\\_Time & Location & Duration & Station & Result\\\\\n",
       " <chr> & <chr> & <chr> & <chr> & <chr> & <chr>\\\\\n",
       "\\hline\n",
       "\t F3570958 & 02/10/2022 00:02:48 & PAKURANGA AUCKLAND                & 00:16:16 & Mount Wellington & 7100: FALSE ALARM (SPRNKLR)                         \\\\\n",
       "\t F3570962 & 02/10/2022 00:15:30 & WAIUKU AUCKLAND                   & 00:19:35 & Waiuku           & 9900: NON-FIRE EVENT: EXCL RESCUE/FALSE ALARM (MIN) \\\\\n",
       "\t F3570963 & 02/10/2022 00:18:59 & PAPATOETOE AUCKLAND               & 00:00:00 & Papatoetoe       & 3100: RESCUE,EMERGENCY,MEDICAL CALL (MED)           \\\\\n",
       "\t F3570967 & 02/10/2022 00:24:54 & WAIRAU VALLEY AUCKLAND            & 00:15:11 & Takapuna         & 7100: FALSE ALARM (SPRNKLR)                         \\\\\n",
       "\t F3570974 & 02/10/2022 00:45:03 & TE ATATU PENINSULA AUCKLAND       & 00:13:07 & Te Atatu         & 7100: FALSE ALARM (SPRNKLR)                         \\\\\n",
       "\t F3570975 & 02/10/2022 00:46:46 & REGENT WHANGAREI DISTRICT         & 00:00:00 & Whangarei        & 1500: MISCELLANEOUS FIRE (MIN)                      \\\\\n",
       "\t F3570979 & 02/10/2022 00:57:24 & HAMILTON EAST HAMILTON CITY       & 00:00:00 & Hamilton         & 9900: NON-FIRE EVENT: EXCL RESCUE/FALSE ALARM (MIN) \\\\\n",
       "\t F3570982 & 02/10/2022 01:02:12 & TE ATATU PENINSULA AUCKLAND       & 00:00:00 & Te Atatu         & 9900: NON-FIRE EVENT: EXCL RESCUE/FALSE ALARM (MIN) \\\\\n",
       "\t F3570983 & 02/10/2022 01:03:59 & AUCKLAND CENTRAL AUCKLAND         & 00:00:00 & Auckland City    & 3100: RESCUE,EMERGENCY,MEDICAL CALL (MED)           \\\\\n",
       "\t F3570985 & 02/10/2022 01:14:30 & MOUNT EDEN AUCKLAND               & 00:16:56 & Balmoral         & 7100: FALSE ALARM (MIN)                             \\\\\n",
       "\t F3570987 & 02/10/2022 01:38:14 & GREY LYNN AUCKLAND                & 00:14:50 & Grey Lynn        & 7100: FALSE ALARM (STRU)                            \\\\\n",
       "\t F3570989 & 02/10/2022 01:43:44 & ONE TREE POINT WHANGAREI DISTRICT & 00:26:35 & Ruakaka          & 7100: FALSE ALARM (STRU)                            \\\\\n",
       "\t F3570993 & 02/10/2022 02:14:34 & PORT WAIKATO WAIKATO DISTRICT     & 01:19:48 & Port Waikato     & 3100: RESCUE,EMERGENCY,MEDICAL CALL (MEDFR)         \\\\\n",
       "\t F3570997 & 02/10/2022 02:39:11 & NGONGOTAHA ROTORUA DISTRICT       & 00:00:00 & Ngongotaha       & 9900: NON-FIRE EVENT: EXCL RESCUE/FALSE ALARM (NAT2)\\\\\n",
       "\t F3570998 & 02/10/2022 02:44:06 & PAPATOETOE AUCKLAND               & 00:26:47 & Otahuhu          & 7100: FALSE ALARM (SPRNKLR)                         \\\\\n",
       "\t F3571000 & 02/10/2022 02:51:58 & NGAHINAPOURI WAIPA DISTRICT       & 00:00:00 & Hamilton         & 3100: RESCUE,EMERGENCY,MEDICAL CALL (RESC)          \\\\\n",
       "\t F3571002 & 02/10/2022 03:11:06 & PUKETE HAMILTON CITY              & 00:20:58 & Hamilton         & 7100: FALSE ALARM (STRU)                            \\\\\n",
       "\t F3571003 & 02/10/2022 03:27:23 & POINT CHEVALIER AUCKLAND          & 00:00:00 & Grey Lynn        & 3100: RESCUE,EMERGENCY,MEDICAL CALL (MED)           \\\\\n",
       "\t F3571005 & 02/10/2022 03:28:44 & KINLEITH SOUTH WAIKATO DISTRICT   & 00:00:00 & Kinleith Mill    & 1500: MISCELLANEOUS FIRE (MIN)                      \\\\\n",
       "\t F3571007 & 02/10/2022 03:40:26 & PAPATOETOE AUCKLAND               & 00:13:23 & Papatoetoe       & 1500: MISCELLANEOUS FIRE (MIN)                      \\\\\n",
       "\t F3571009 & 02/10/2022 04:07:56 & STANMORE BAY AUCKLAND             & 00:00:00 & Manly            & 3100: RESCUE,EMERGENCY,MEDICAL CALL (MEDFR)         \\\\\n",
       "\t F3571012 & 02/10/2022 04:15:05 & KAIKOHE FAR NORTH DISTRICT        & 00:00:00 & Kaikohe          & 3100: RESCUE,EMERGENCY,MEDICAL CALL (RESC)          \\\\\n",
       "\t F3571013 & 02/10/2022 04:18:06 & TAURANGA SOUTH TAURANGA CITY      & 00:00:00 & Tauranga         & 3100: RESCUE,EMERGENCY,MEDICAL CALL (MED)           \\\\\n",
       "\t F3571014 & 02/10/2022 04:19:45 & TAURIKO TAURANGA CITY             & 00:00:00 & Tauranga         & 9900: NON-FIRE EVENT: EXCL RESCUE/FALSE ALARM (STRU)\\\\\n",
       "\t F3571017 & 02/10/2022 04:28:29 & AUCKLAND CENTRAL AUCKLAND         & 00:22:04 & Auckland City    & 7100: FALSE ALARM (STRU)                            \\\\\n",
       "\t F3571019 & 02/10/2022 04:30:42 & HOBSONVILLE AUCKLAND              & 00:00:00 & West Harbour     & 9900: NON-FIRE EVENT: EXCL RESCUE/FALSE ALARM (MIN) \\\\\n",
       "\t F3571020 & 02/10/2022 04:36:58 & HUNTLY WAIKATO DISTRICT           & 00:19:05 & Huntly           & 1500: MISCELLANEOUS FIRE (STRU)                     \\\\\n",
       "\t F3571027 & 02/10/2022 05:06:34 & AUCKLAND CENTRAL AUCKLAND         & 00:00:00 & Auckland City    & 3100: RESCUE,EMERGENCY,MEDICAL CALL (MED)           \\\\\n",
       "\t F3571029 & 02/10/2022 05:11:27 & MANUREWA EAST AUCKLAND            & 00:09:26 & Manurewa         & 7100: FALSE ALARM (STRU)                            \\\\\n",
       "\t F3571031 & 02/10/2022 05:19:31 & SURFDALE AUCKLAND                 & 00:19:57 & Oneroa           & 7100: FALSE ALARM (SPRNKLR)                         \\\\\n",
       "\t ⋮ & ⋮ & ⋮ & ⋮ & ⋮ & ⋮\\\\\n",
       "\t F3571293 & 02/10/2022 16:30:13 & NORTHCOTE AUCKLAND                     & 00:00:00 & Birkenhead       & 1100: STRUCTURE FIRE (STRU)                         \\\\\n",
       "\t F3571305 & 02/10/2022 17:15:21 & PARNELL AUCKLAND                       & 00:00:00 & Parnell          & 3100: RESCUE,EMERGENCY,MEDICAL CALL (RESC)          \\\\\n",
       "\t F3571307 & 02/10/2022 17:16:44 & ALBANY AUCKLAND                        & 00:10:54 & Albany           & 7100: FALSE ALARM (STRU)                            \\\\\n",
       "\t F3571312 & 02/10/2022 17:29:47 & TAUHARA TAUPO DISTRICT                 & 00:37:37 & Taupo            & 1500: MISCELLANEOUS FIRE (MIN)                      \\\\\n",
       "\t F3571313 & 02/10/2022 17:41:25 & POMARE ROTORUA DISTRICT                & 00:15:50 & Rotorua          & 7100: FALSE ALARM (STRU)                            \\\\\n",
       "\t F3571314 & 02/10/2022 17:41:48 & TITIRANGI AUCKLAND                     & 00:00:00 & Laingholm        & 1500: MISCELLANEOUS FIRE (VEG)                      \\\\\n",
       "\t F3571315 & 02/10/2022 17:47:11 & ROTORUA ROTORUA DISTRICT               & 00:31:37 & Rotorua          & 7100: FALSE ALARM (SPRNKLR)                         \\\\\n",
       "\t F3571323 & 02/10/2022 18:14:46 & TE PUNA WESTERN BAY OF PLENTY DISTRICT & 00:00:00 & Tauranga         & 1500: MISCELLANEOUS FIRE (MIN)                      \\\\\n",
       "\t F3571324 & 02/10/2022 18:17:42 & PAEROA HAURAKI DISTRICT                & 00:00:00 & Paeroa           & 9900: NON-FIRE EVENT: EXCL RESCUE/FALSE ALARM (MIN) \\\\\n",
       "\t F3571325 & 02/10/2022 18:18:35 & MOUNT MAUNGANUI TAURANGA CITY          & 00:00:00 & Tauranga         & 1500: MISCELLANEOUS FIRE (STRU)                     \\\\\n",
       "\t F3571331 & 02/10/2022 18:38:40 & MOUNT WELLINGTON AUCKLAND              & 00:15:40 & Mount Wellington & 7100: FALSE ALARM (STRU)                            \\\\\n",
       "\t F3571335 & 02/10/2022 18:56:53 & WAINUI AUCKLAND                        & 00:00:00 & Silverdale       & 9900: NON-FIRE EVENT: EXCL RESCUE/FALSE ALARM (MIN) \\\\\n",
       "\t F3571336 & 02/10/2022 19:00:18 & MOUNT EDEN AUCKLAND                    & 00:00:00 & Balmoral         & 3100: RESCUE,EMERGENCY,MEDICAL CALL (MED)           \\\\\n",
       "\t F3571338 & 02/10/2022 19:16:45 & TE POI MATAMATA-PIAKO DISTRICT         & 00:00:00 & Tirau            & 1100: STRUCTURE FIRE (MIN)                          \\\\\n",
       "\t F3571339 & 02/10/2022 19:21:08 & GLEN INNES AUCKLAND                    & 00:00:00 & Saint Heliers    & 9900: NON-FIRE EVENT: EXCL RESCUE/FALSE ALARM (MIN) \\\\\n",
       "\t F3571342 & 02/10/2022 19:58:16 & HAMILTON EAST HAMILTON CITY            & 00:00:00 & Hamilton         & 3100: RESCUE,EMERGENCY,MEDICAL CALL (MED)           \\\\\n",
       "\t F3571343 & 02/10/2022 19:59:51 & GLENDOWIE AUCKLAND                     & 00:00:00 & Saint Heliers    & 3100: RESCUE,EMERGENCY,MEDICAL CALL (MED)           \\\\\n",
       "\t F3571348 & 02/10/2022 20:31:35 & NEWMARKET AUCKLAND                     & 00:18:55 & Remuera          & 7100: FALSE ALARM (STRU)                            \\\\\n",
       "\t F3571350 & 02/10/2022 20:37:56 & MANGERE EAST AUCKLAND                  & 00:00:00 & Mangere          & 3100: RESCUE,EMERGENCY,MEDICAL CALL (MED)           \\\\\n",
       "\t F3571351 & 02/10/2022 20:46:45 & MOUNT EDEN AUCKLAND                    & 00:13:38 & Balmoral         & 7100: FALSE ALARM (STRU)                            \\\\\n",
       "\t F3571353 & 02/10/2022 21:34:23 & TAURIKO TAURANGA CITY                  & 00:00:00 & Tauranga         & 7100: FALSE ALARM (STRU)                            \\\\\n",
       "\t F3571360 & 02/10/2022 21:56:31 & TITIRANGI AUCKLAND                     & 00:18:37 & Titirangi        & 7100: FALSE ALARM (STRU)                            \\\\\n",
       "\t F3571361 & 02/10/2022 21:57:30 & GLEN INNES AUCKLAND                    & 00:00:00 & Saint Heliers    & 9900: NON-FIRE EVENT: EXCL RESCUE/FALSE ALARM (STRU)\\\\\n",
       "\t F3571363 & 02/10/2022 22:22:32 & OTARA AUCKLAND                         & 00:00:00 & Otara (Temp)     & 3100: RESCUE,EMERGENCY,MEDICAL CALL (MED)           \\\\\n",
       "\t F3571366 & 02/10/2022 22:38:35 & MANGERE AUCKLAND                       & 00:12:53 & Mangere          & 7100: FALSE ALARM (SPRNKLR)                         \\\\\n",
       "\t F3571369 & 02/10/2022 22:53:14 & MANGERE EAST AUCKLAND                  & 00:11:15 & Mangere          & 7100: FALSE ALARM (STRU)                            \\\\\n",
       "\t F3571370 & 02/10/2022 22:57:05 & MANGATAWHIRI WAIKATO DISTRICT          & 00:00:00 & Mangatangi       & 3100: RESCUE,EMERGENCY,MEDICAL CALL (MEDFR)         \\\\\n",
       "\t F3571371 & 02/10/2022 22:58:59 & WAIUKU AUCKLAND                        & 00:00:00 & Waiuku           & 1500: MISCELLANEOUS FIRE (MIN)                      \\\\\n",
       "\t F3571375 & 02/10/2022 23:31:43 & WAIKATO HOSPITAL HAMILTON CITY         & 00:16:42 & Hamilton         & 7100: FALSE ALARM (SPRNKLR)                         \\\\\n",
       "\t F3571376 & 02/10/2022 23:53:38 & KINLOCH TAUPO DISTRICT                 & 00:00:00 & Kinloch          & 9900: NON-FIRE EVENT: EXCL RESCUE/FALSE ALARM (MIN) \\\\\n",
       "\\end{tabular}\n"
      ],
      "text/markdown": [
       "\n",
       "A tibble: 129 × 6\n",
       "\n",
       "| Incident_no &lt;chr&gt; | Date_and_Time &lt;chr&gt; | Location &lt;chr&gt; | Duration &lt;chr&gt; | Station &lt;chr&gt; | Result &lt;chr&gt; |\n",
       "|---|---|---|---|---|---|\n",
       "| F3570958 | 02/10/2022 00:02:48 | PAKURANGA AUCKLAND                | 00:16:16 | Mount Wellington | 7100: FALSE ALARM (SPRNKLR)                          |\n",
       "| F3570962 | 02/10/2022 00:15:30 | WAIUKU AUCKLAND                   | 00:19:35 | Waiuku           | 9900: NON-FIRE EVENT: EXCL RESCUE/FALSE ALARM (MIN)  |\n",
       "| F3570963 | 02/10/2022 00:18:59 | PAPATOETOE AUCKLAND               | 00:00:00 | Papatoetoe       | 3100: RESCUE,EMERGENCY,MEDICAL CALL (MED)            |\n",
       "| F3570967 | 02/10/2022 00:24:54 | WAIRAU VALLEY AUCKLAND            | 00:15:11 | Takapuna         | 7100: FALSE ALARM (SPRNKLR)                          |\n",
       "| F3570974 | 02/10/2022 00:45:03 | TE ATATU PENINSULA AUCKLAND       | 00:13:07 | Te Atatu         | 7100: FALSE ALARM (SPRNKLR)                          |\n",
       "| F3570975 | 02/10/2022 00:46:46 | REGENT WHANGAREI DISTRICT         | 00:00:00 | Whangarei        | 1500: MISCELLANEOUS FIRE (MIN)                       |\n",
       "| F3570979 | 02/10/2022 00:57:24 | HAMILTON EAST HAMILTON CITY       | 00:00:00 | Hamilton         | 9900: NON-FIRE EVENT: EXCL RESCUE/FALSE ALARM (MIN)  |\n",
       "| F3570982 | 02/10/2022 01:02:12 | TE ATATU PENINSULA AUCKLAND       | 00:00:00 | Te Atatu         | 9900: NON-FIRE EVENT: EXCL RESCUE/FALSE ALARM (MIN)  |\n",
       "| F3570983 | 02/10/2022 01:03:59 | AUCKLAND CENTRAL AUCKLAND         | 00:00:00 | Auckland City    | 3100: RESCUE,EMERGENCY,MEDICAL CALL (MED)            |\n",
       "| F3570985 | 02/10/2022 01:14:30 | MOUNT EDEN AUCKLAND               | 00:16:56 | Balmoral         | 7100: FALSE ALARM (MIN)                              |\n",
       "| F3570987 | 02/10/2022 01:38:14 | GREY LYNN AUCKLAND                | 00:14:50 | Grey Lynn        | 7100: FALSE ALARM (STRU)                             |\n",
       "| F3570989 | 02/10/2022 01:43:44 | ONE TREE POINT WHANGAREI DISTRICT | 00:26:35 | Ruakaka          | 7100: FALSE ALARM (STRU)                             |\n",
       "| F3570993 | 02/10/2022 02:14:34 | PORT WAIKATO WAIKATO DISTRICT     | 01:19:48 | Port Waikato     | 3100: RESCUE,EMERGENCY,MEDICAL CALL (MEDFR)          |\n",
       "| F3570997 | 02/10/2022 02:39:11 | NGONGOTAHA ROTORUA DISTRICT       | 00:00:00 | Ngongotaha       | 9900: NON-FIRE EVENT: EXCL RESCUE/FALSE ALARM (NAT2) |\n",
       "| F3570998 | 02/10/2022 02:44:06 | PAPATOETOE AUCKLAND               | 00:26:47 | Otahuhu          | 7100: FALSE ALARM (SPRNKLR)                          |\n",
       "| F3571000 | 02/10/2022 02:51:58 | NGAHINAPOURI WAIPA DISTRICT       | 00:00:00 | Hamilton         | 3100: RESCUE,EMERGENCY,MEDICAL CALL (RESC)           |\n",
       "| F3571002 | 02/10/2022 03:11:06 | PUKETE HAMILTON CITY              | 00:20:58 | Hamilton         | 7100: FALSE ALARM (STRU)                             |\n",
       "| F3571003 | 02/10/2022 03:27:23 | POINT CHEVALIER AUCKLAND          | 00:00:00 | Grey Lynn        | 3100: RESCUE,EMERGENCY,MEDICAL CALL (MED)            |\n",
       "| F3571005 | 02/10/2022 03:28:44 | KINLEITH SOUTH WAIKATO DISTRICT   | 00:00:00 | Kinleith Mill    | 1500: MISCELLANEOUS FIRE (MIN)                       |\n",
       "| F3571007 | 02/10/2022 03:40:26 | PAPATOETOE AUCKLAND               | 00:13:23 | Papatoetoe       | 1500: MISCELLANEOUS FIRE (MIN)                       |\n",
       "| F3571009 | 02/10/2022 04:07:56 | STANMORE BAY AUCKLAND             | 00:00:00 | Manly            | 3100: RESCUE,EMERGENCY,MEDICAL CALL (MEDFR)          |\n",
       "| F3571012 | 02/10/2022 04:15:05 | KAIKOHE FAR NORTH DISTRICT        | 00:00:00 | Kaikohe          | 3100: RESCUE,EMERGENCY,MEDICAL CALL (RESC)           |\n",
       "| F3571013 | 02/10/2022 04:18:06 | TAURANGA SOUTH TAURANGA CITY      | 00:00:00 | Tauranga         | 3100: RESCUE,EMERGENCY,MEDICAL CALL (MED)            |\n",
       "| F3571014 | 02/10/2022 04:19:45 | TAURIKO TAURANGA CITY             | 00:00:00 | Tauranga         | 9900: NON-FIRE EVENT: EXCL RESCUE/FALSE ALARM (STRU) |\n",
       "| F3571017 | 02/10/2022 04:28:29 | AUCKLAND CENTRAL AUCKLAND         | 00:22:04 | Auckland City    | 7100: FALSE ALARM (STRU)                             |\n",
       "| F3571019 | 02/10/2022 04:30:42 | HOBSONVILLE AUCKLAND              | 00:00:00 | West Harbour     | 9900: NON-FIRE EVENT: EXCL RESCUE/FALSE ALARM (MIN)  |\n",
       "| F3571020 | 02/10/2022 04:36:58 | HUNTLY WAIKATO DISTRICT           | 00:19:05 | Huntly           | 1500: MISCELLANEOUS FIRE (STRU)                      |\n",
       "| F3571027 | 02/10/2022 05:06:34 | AUCKLAND CENTRAL AUCKLAND         | 00:00:00 | Auckland City    | 3100: RESCUE,EMERGENCY,MEDICAL CALL (MED)            |\n",
       "| F3571029 | 02/10/2022 05:11:27 | MANUREWA EAST AUCKLAND            | 00:09:26 | Manurewa         | 7100: FALSE ALARM (STRU)                             |\n",
       "| F3571031 | 02/10/2022 05:19:31 | SURFDALE AUCKLAND                 | 00:19:57 | Oneroa           | 7100: FALSE ALARM (SPRNKLR)                          |\n",
       "| ⋮ | ⋮ | ⋮ | ⋮ | ⋮ | ⋮ |\n",
       "| F3571293 | 02/10/2022 16:30:13 | NORTHCOTE AUCKLAND                     | 00:00:00 | Birkenhead       | 1100: STRUCTURE FIRE (STRU)                          |\n",
       "| F3571305 | 02/10/2022 17:15:21 | PARNELL AUCKLAND                       | 00:00:00 | Parnell          | 3100: RESCUE,EMERGENCY,MEDICAL CALL (RESC)           |\n",
       "| F3571307 | 02/10/2022 17:16:44 | ALBANY AUCKLAND                        | 00:10:54 | Albany           | 7100: FALSE ALARM (STRU)                             |\n",
       "| F3571312 | 02/10/2022 17:29:47 | TAUHARA TAUPO DISTRICT                 | 00:37:37 | Taupo            | 1500: MISCELLANEOUS FIRE (MIN)                       |\n",
       "| F3571313 | 02/10/2022 17:41:25 | POMARE ROTORUA DISTRICT                | 00:15:50 | Rotorua          | 7100: FALSE ALARM (STRU)                             |\n",
       "| F3571314 | 02/10/2022 17:41:48 | TITIRANGI AUCKLAND                     | 00:00:00 | Laingholm        | 1500: MISCELLANEOUS FIRE (VEG)                       |\n",
       "| F3571315 | 02/10/2022 17:47:11 | ROTORUA ROTORUA DISTRICT               | 00:31:37 | Rotorua          | 7100: FALSE ALARM (SPRNKLR)                          |\n",
       "| F3571323 | 02/10/2022 18:14:46 | TE PUNA WESTERN BAY OF PLENTY DISTRICT | 00:00:00 | Tauranga         | 1500: MISCELLANEOUS FIRE (MIN)                       |\n",
       "| F3571324 | 02/10/2022 18:17:42 | PAEROA HAURAKI DISTRICT                | 00:00:00 | Paeroa           | 9900: NON-FIRE EVENT: EXCL RESCUE/FALSE ALARM (MIN)  |\n",
       "| F3571325 | 02/10/2022 18:18:35 | MOUNT MAUNGANUI TAURANGA CITY          | 00:00:00 | Tauranga         | 1500: MISCELLANEOUS FIRE (STRU)                      |\n",
       "| F3571331 | 02/10/2022 18:38:40 | MOUNT WELLINGTON AUCKLAND              | 00:15:40 | Mount Wellington | 7100: FALSE ALARM (STRU)                             |\n",
       "| F3571335 | 02/10/2022 18:56:53 | WAINUI AUCKLAND                        | 00:00:00 | Silverdale       | 9900: NON-FIRE EVENT: EXCL RESCUE/FALSE ALARM (MIN)  |\n",
       "| F3571336 | 02/10/2022 19:00:18 | MOUNT EDEN AUCKLAND                    | 00:00:00 | Balmoral         | 3100: RESCUE,EMERGENCY,MEDICAL CALL (MED)            |\n",
       "| F3571338 | 02/10/2022 19:16:45 | TE POI MATAMATA-PIAKO DISTRICT         | 00:00:00 | Tirau            | 1100: STRUCTURE FIRE (MIN)                           |\n",
       "| F3571339 | 02/10/2022 19:21:08 | GLEN INNES AUCKLAND                    | 00:00:00 | Saint Heliers    | 9900: NON-FIRE EVENT: EXCL RESCUE/FALSE ALARM (MIN)  |\n",
       "| F3571342 | 02/10/2022 19:58:16 | HAMILTON EAST HAMILTON CITY            | 00:00:00 | Hamilton         | 3100: RESCUE,EMERGENCY,MEDICAL CALL (MED)            |\n",
       "| F3571343 | 02/10/2022 19:59:51 | GLENDOWIE AUCKLAND                     | 00:00:00 | Saint Heliers    | 3100: RESCUE,EMERGENCY,MEDICAL CALL (MED)            |\n",
       "| F3571348 | 02/10/2022 20:31:35 | NEWMARKET AUCKLAND                     | 00:18:55 | Remuera          | 7100: FALSE ALARM (STRU)                             |\n",
       "| F3571350 | 02/10/2022 20:37:56 | MANGERE EAST AUCKLAND                  | 00:00:00 | Mangere          | 3100: RESCUE,EMERGENCY,MEDICAL CALL (MED)            |\n",
       "| F3571351 | 02/10/2022 20:46:45 | MOUNT EDEN AUCKLAND                    | 00:13:38 | Balmoral         | 7100: FALSE ALARM (STRU)                             |\n",
       "| F3571353 | 02/10/2022 21:34:23 | TAURIKO TAURANGA CITY                  | 00:00:00 | Tauranga         | 7100: FALSE ALARM (STRU)                             |\n",
       "| F3571360 | 02/10/2022 21:56:31 | TITIRANGI AUCKLAND                     | 00:18:37 | Titirangi        | 7100: FALSE ALARM (STRU)                             |\n",
       "| F3571361 | 02/10/2022 21:57:30 | GLEN INNES AUCKLAND                    | 00:00:00 | Saint Heliers    | 9900: NON-FIRE EVENT: EXCL RESCUE/FALSE ALARM (STRU) |\n",
       "| F3571363 | 02/10/2022 22:22:32 | OTARA AUCKLAND                         | 00:00:00 | Otara (Temp)     | 3100: RESCUE,EMERGENCY,MEDICAL CALL (MED)            |\n",
       "| F3571366 | 02/10/2022 22:38:35 | MANGERE AUCKLAND                       | 00:12:53 | Mangere          | 7100: FALSE ALARM (SPRNKLR)                          |\n",
       "| F3571369 | 02/10/2022 22:53:14 | MANGERE EAST AUCKLAND                  | 00:11:15 | Mangere          | 7100: FALSE ALARM (STRU)                             |\n",
       "| F3571370 | 02/10/2022 22:57:05 | MANGATAWHIRI WAIKATO DISTRICT          | 00:00:00 | Mangatangi       | 3100: RESCUE,EMERGENCY,MEDICAL CALL (MEDFR)          |\n",
       "| F3571371 | 02/10/2022 22:58:59 | WAIUKU AUCKLAND                        | 00:00:00 | Waiuku           | 1500: MISCELLANEOUS FIRE (MIN)                       |\n",
       "| F3571375 | 02/10/2022 23:31:43 | WAIKATO HOSPITAL HAMILTON CITY         | 00:16:42 | Hamilton         | 7100: FALSE ALARM (SPRNKLR)                          |\n",
       "| F3571376 | 02/10/2022 23:53:38 | KINLOCH TAUPO DISTRICT                 | 00:00:00 | Kinloch          | 9900: NON-FIRE EVENT: EXCL RESCUE/FALSE ALARM (MIN)  |\n",
       "\n"
      ],
      "text/plain": [
       "    Incident_no Date_and_Time       Location                              \n",
       "1   F3570958    02/10/2022 00:02:48 PAKURANGA AUCKLAND                    \n",
       "2   F3570962    02/10/2022 00:15:30 WAIUKU AUCKLAND                       \n",
       "3   F3570963    02/10/2022 00:18:59 PAPATOETOE AUCKLAND                   \n",
       "4   F3570967    02/10/2022 00:24:54 WAIRAU VALLEY AUCKLAND                \n",
       "5   F3570974    02/10/2022 00:45:03 TE ATATU PENINSULA AUCKLAND           \n",
       "6   F3570975    02/10/2022 00:46:46 REGENT WHANGAREI DISTRICT             \n",
       "7   F3570979    02/10/2022 00:57:24 HAMILTON EAST HAMILTON CITY           \n",
       "8   F3570982    02/10/2022 01:02:12 TE ATATU PENINSULA AUCKLAND           \n",
       "9   F3570983    02/10/2022 01:03:59 AUCKLAND CENTRAL AUCKLAND             \n",
       "10  F3570985    02/10/2022 01:14:30 MOUNT EDEN AUCKLAND                   \n",
       "11  F3570987    02/10/2022 01:38:14 GREY LYNN AUCKLAND                    \n",
       "12  F3570989    02/10/2022 01:43:44 ONE TREE POINT WHANGAREI DISTRICT     \n",
       "13  F3570993    02/10/2022 02:14:34 PORT WAIKATO WAIKATO DISTRICT         \n",
       "14  F3570997    02/10/2022 02:39:11 NGONGOTAHA ROTORUA DISTRICT           \n",
       "15  F3570998    02/10/2022 02:44:06 PAPATOETOE AUCKLAND                   \n",
       "16  F3571000    02/10/2022 02:51:58 NGAHINAPOURI WAIPA DISTRICT           \n",
       "17  F3571002    02/10/2022 03:11:06 PUKETE HAMILTON CITY                  \n",
       "18  F3571003    02/10/2022 03:27:23 POINT CHEVALIER AUCKLAND              \n",
       "19  F3571005    02/10/2022 03:28:44 KINLEITH SOUTH WAIKATO DISTRICT       \n",
       "20  F3571007    02/10/2022 03:40:26 PAPATOETOE AUCKLAND                   \n",
       "21  F3571009    02/10/2022 04:07:56 STANMORE BAY AUCKLAND                 \n",
       "22  F3571012    02/10/2022 04:15:05 KAIKOHE FAR NORTH DISTRICT            \n",
       "23  F3571013    02/10/2022 04:18:06 TAURANGA SOUTH TAURANGA CITY          \n",
       "24  F3571014    02/10/2022 04:19:45 TAURIKO TAURANGA CITY                 \n",
       "25  F3571017    02/10/2022 04:28:29 AUCKLAND CENTRAL AUCKLAND             \n",
       "26  F3571019    02/10/2022 04:30:42 HOBSONVILLE AUCKLAND                  \n",
       "27  F3571020    02/10/2022 04:36:58 HUNTLY WAIKATO DISTRICT               \n",
       "28  F3571027    02/10/2022 05:06:34 AUCKLAND CENTRAL AUCKLAND             \n",
       "29  F3571029    02/10/2022 05:11:27 MANUREWA EAST AUCKLAND                \n",
       "30  F3571031    02/10/2022 05:19:31 SURFDALE AUCKLAND                     \n",
       "⋮   ⋮           ⋮                   ⋮                                     \n",
       "100 F3571293    02/10/2022 16:30:13 NORTHCOTE AUCKLAND                    \n",
       "101 F3571305    02/10/2022 17:15:21 PARNELL AUCKLAND                      \n",
       "102 F3571307    02/10/2022 17:16:44 ALBANY AUCKLAND                       \n",
       "103 F3571312    02/10/2022 17:29:47 TAUHARA TAUPO DISTRICT                \n",
       "104 F3571313    02/10/2022 17:41:25 POMARE ROTORUA DISTRICT               \n",
       "105 F3571314    02/10/2022 17:41:48 TITIRANGI AUCKLAND                    \n",
       "106 F3571315    02/10/2022 17:47:11 ROTORUA ROTORUA DISTRICT              \n",
       "107 F3571323    02/10/2022 18:14:46 TE PUNA WESTERN BAY OF PLENTY DISTRICT\n",
       "108 F3571324    02/10/2022 18:17:42 PAEROA HAURAKI DISTRICT               \n",
       "109 F3571325    02/10/2022 18:18:35 MOUNT MAUNGANUI TAURANGA CITY         \n",
       "110 F3571331    02/10/2022 18:38:40 MOUNT WELLINGTON AUCKLAND             \n",
       "111 F3571335    02/10/2022 18:56:53 WAINUI AUCKLAND                       \n",
       "112 F3571336    02/10/2022 19:00:18 MOUNT EDEN AUCKLAND                   \n",
       "113 F3571338    02/10/2022 19:16:45 TE POI MATAMATA-PIAKO DISTRICT        \n",
       "114 F3571339    02/10/2022 19:21:08 GLEN INNES AUCKLAND                   \n",
       "115 F3571342    02/10/2022 19:58:16 HAMILTON EAST HAMILTON CITY           \n",
       "116 F3571343    02/10/2022 19:59:51 GLENDOWIE AUCKLAND                    \n",
       "117 F3571348    02/10/2022 20:31:35 NEWMARKET AUCKLAND                    \n",
       "118 F3571350    02/10/2022 20:37:56 MANGERE EAST AUCKLAND                 \n",
       "119 F3571351    02/10/2022 20:46:45 MOUNT EDEN AUCKLAND                   \n",
       "120 F3571353    02/10/2022 21:34:23 TAURIKO TAURANGA CITY                 \n",
       "121 F3571360    02/10/2022 21:56:31 TITIRANGI AUCKLAND                    \n",
       "122 F3571361    02/10/2022 21:57:30 GLEN INNES AUCKLAND                   \n",
       "123 F3571363    02/10/2022 22:22:32 OTARA AUCKLAND                        \n",
       "124 F3571366    02/10/2022 22:38:35 MANGERE AUCKLAND                      \n",
       "125 F3571369    02/10/2022 22:53:14 MANGERE EAST AUCKLAND                 \n",
       "126 F3571370    02/10/2022 22:57:05 MANGATAWHIRI WAIKATO DISTRICT         \n",
       "127 F3571371    02/10/2022 22:58:59 WAIUKU AUCKLAND                       \n",
       "128 F3571375    02/10/2022 23:31:43 WAIKATO HOSPITAL HAMILTON CITY        \n",
       "129 F3571376    02/10/2022 23:53:38 KINLOCH TAUPO DISTRICT                \n",
       "    Duration Station         \n",
       "1   00:16:16 Mount Wellington\n",
       "2   00:19:35 Waiuku          \n",
       "3   00:00:00 Papatoetoe      \n",
       "4   00:15:11 Takapuna        \n",
       "5   00:13:07 Te Atatu        \n",
       "6   00:00:00 Whangarei       \n",
       "7   00:00:00 Hamilton        \n",
       "8   00:00:00 Te Atatu        \n",
       "9   00:00:00 Auckland City   \n",
       "10  00:16:56 Balmoral        \n",
       "11  00:14:50 Grey Lynn       \n",
       "12  00:26:35 Ruakaka         \n",
       "13  01:19:48 Port Waikato    \n",
       "14  00:00:00 Ngongotaha      \n",
       "15  00:26:47 Otahuhu         \n",
       "16  00:00:00 Hamilton        \n",
       "17  00:20:58 Hamilton        \n",
       "18  00:00:00 Grey Lynn       \n",
       "19  00:00:00 Kinleith Mill   \n",
       "20  00:13:23 Papatoetoe      \n",
       "21  00:00:00 Manly           \n",
       "22  00:00:00 Kaikohe         \n",
       "23  00:00:00 Tauranga        \n",
       "24  00:00:00 Tauranga        \n",
       "25  00:22:04 Auckland City   \n",
       "26  00:00:00 West Harbour    \n",
       "27  00:19:05 Huntly          \n",
       "28  00:00:00 Auckland City   \n",
       "29  00:09:26 Manurewa        \n",
       "30  00:19:57 Oneroa          \n",
       "⋮   ⋮        ⋮               \n",
       "100 00:00:00 Birkenhead      \n",
       "101 00:00:00 Parnell         \n",
       "102 00:10:54 Albany          \n",
       "103 00:37:37 Taupo           \n",
       "104 00:15:50 Rotorua         \n",
       "105 00:00:00 Laingholm       \n",
       "106 00:31:37 Rotorua         \n",
       "107 00:00:00 Tauranga        \n",
       "108 00:00:00 Paeroa          \n",
       "109 00:00:00 Tauranga        \n",
       "110 00:15:40 Mount Wellington\n",
       "111 00:00:00 Silverdale      \n",
       "112 00:00:00 Balmoral        \n",
       "113 00:00:00 Tirau           \n",
       "114 00:00:00 Saint Heliers   \n",
       "115 00:00:00 Hamilton        \n",
       "116 00:00:00 Saint Heliers   \n",
       "117 00:18:55 Remuera         \n",
       "118 00:00:00 Mangere         \n",
       "119 00:13:38 Balmoral        \n",
       "120 00:00:00 Tauranga        \n",
       "121 00:18:37 Titirangi       \n",
       "122 00:00:00 Saint Heliers   \n",
       "123 00:00:00 Otara (Temp)    \n",
       "124 00:12:53 Mangere         \n",
       "125 00:11:15 Mangere         \n",
       "126 00:00:00 Mangatangi      \n",
       "127 00:00:00 Waiuku          \n",
       "128 00:16:42 Hamilton        \n",
       "129 00:00:00 Kinloch         \n",
       "    Result                                              \n",
       "1   7100: FALSE ALARM (SPRNKLR)                         \n",
       "2   9900: NON-FIRE EVENT: EXCL RESCUE/FALSE ALARM (MIN) \n",
       "3   3100: RESCUE,EMERGENCY,MEDICAL CALL (MED)           \n",
       "4   7100: FALSE ALARM (SPRNKLR)                         \n",
       "5   7100: FALSE ALARM (SPRNKLR)                         \n",
       "6   1500: MISCELLANEOUS FIRE (MIN)                      \n",
       "7   9900: NON-FIRE EVENT: EXCL RESCUE/FALSE ALARM (MIN) \n",
       "8   9900: NON-FIRE EVENT: EXCL RESCUE/FALSE ALARM (MIN) \n",
       "9   3100: RESCUE,EMERGENCY,MEDICAL CALL (MED)           \n",
       "10  7100: FALSE ALARM (MIN)                             \n",
       "11  7100: FALSE ALARM (STRU)                            \n",
       "12  7100: FALSE ALARM (STRU)                            \n",
       "13  3100: RESCUE,EMERGENCY,MEDICAL CALL (MEDFR)         \n",
       "14  9900: NON-FIRE EVENT: EXCL RESCUE/FALSE ALARM (NAT2)\n",
       "15  7100: FALSE ALARM (SPRNKLR)                         \n",
       "16  3100: RESCUE,EMERGENCY,MEDICAL CALL (RESC)          \n",
       "17  7100: FALSE ALARM (STRU)                            \n",
       "18  3100: RESCUE,EMERGENCY,MEDICAL CALL (MED)           \n",
       "19  1500: MISCELLANEOUS FIRE (MIN)                      \n",
       "20  1500: MISCELLANEOUS FIRE (MIN)                      \n",
       "21  3100: RESCUE,EMERGENCY,MEDICAL CALL (MEDFR)         \n",
       "22  3100: RESCUE,EMERGENCY,MEDICAL CALL (RESC)          \n",
       "23  3100: RESCUE,EMERGENCY,MEDICAL CALL (MED)           \n",
       "24  9900: NON-FIRE EVENT: EXCL RESCUE/FALSE ALARM (STRU)\n",
       "25  7100: FALSE ALARM (STRU)                            \n",
       "26  9900: NON-FIRE EVENT: EXCL RESCUE/FALSE ALARM (MIN) \n",
       "27  1500: MISCELLANEOUS FIRE (STRU)                     \n",
       "28  3100: RESCUE,EMERGENCY,MEDICAL CALL (MED)           \n",
       "29  7100: FALSE ALARM (STRU)                            \n",
       "30  7100: FALSE ALARM (SPRNKLR)                         \n",
       "⋮   ⋮                                                   \n",
       "100 1100: STRUCTURE FIRE (STRU)                         \n",
       "101 3100: RESCUE,EMERGENCY,MEDICAL CALL (RESC)          \n",
       "102 7100: FALSE ALARM (STRU)                            \n",
       "103 1500: MISCELLANEOUS FIRE (MIN)                      \n",
       "104 7100: FALSE ALARM (STRU)                            \n",
       "105 1500: MISCELLANEOUS FIRE (VEG)                      \n",
       "106 7100: FALSE ALARM (SPRNKLR)                         \n",
       "107 1500: MISCELLANEOUS FIRE (MIN)                      \n",
       "108 9900: NON-FIRE EVENT: EXCL RESCUE/FALSE ALARM (MIN) \n",
       "109 1500: MISCELLANEOUS FIRE (STRU)                     \n",
       "110 7100: FALSE ALARM (STRU)                            \n",
       "111 9900: NON-FIRE EVENT: EXCL RESCUE/FALSE ALARM (MIN) \n",
       "112 3100: RESCUE,EMERGENCY,MEDICAL CALL (MED)           \n",
       "113 1100: STRUCTURE FIRE (MIN)                          \n",
       "114 9900: NON-FIRE EVENT: EXCL RESCUE/FALSE ALARM (MIN) \n",
       "115 3100: RESCUE,EMERGENCY,MEDICAL CALL (MED)           \n",
       "116 3100: RESCUE,EMERGENCY,MEDICAL CALL (MED)           \n",
       "117 7100: FALSE ALARM (STRU)                            \n",
       "118 3100: RESCUE,EMERGENCY,MEDICAL CALL (MED)           \n",
       "119 7100: FALSE ALARM (STRU)                            \n",
       "120 7100: FALSE ALARM (STRU)                            \n",
       "121 7100: FALSE ALARM (STRU)                            \n",
       "122 9900: NON-FIRE EVENT: EXCL RESCUE/FALSE ALARM (STRU)\n",
       "123 3100: RESCUE,EMERGENCY,MEDICAL CALL (MED)           \n",
       "124 7100: FALSE ALARM (SPRNKLR)                         \n",
       "125 7100: FALSE ALARM (STRU)                            \n",
       "126 3100: RESCUE,EMERGENCY,MEDICAL CALL (MEDFR)         \n",
       "127 1500: MISCELLANEOUS FIRE (MIN)                      \n",
       "128 7100: FALSE ALARM (SPRNKLR)                         \n",
       "129 9900: NON-FIRE EVENT: EXCL RESCUE/FALSE ALARM (MIN) "
      ]
     },
     "metadata": {},
     "output_type": "display_data"
    }
   ],
   "source": [
    "north_sunday_data <- region_incident_data('/incidents-and-news/incident-reports/incidents?region=1&day=Sunday')\n",
    "north_sunday_data"
   ]
  },
  {
   "cell_type": "markdown",
   "id": "51df08a4-e13c-4ea8-b791-7e8be9259a60",
   "metadata": {},
   "source": [
    "### Central fire incident data (Monday to Sunday)"
   ]
  },
  {
   "cell_type": "code",
   "execution_count": 16,
   "id": "8a59a3a0-3fdc-4b94-b9f9-1985a8480582",
   "metadata": {
    "tags": [],
    "vscode": {
     "languageId": "r"
    }
   },
   "outputs": [],
   "source": [
    "central_monday_data <- region_incident_data('/incidents-and-news/incident-reports/incidents?region=2&day=Monday')"
   ]
  },
  {
   "cell_type": "code",
   "execution_count": 17,
   "id": "781bb8ad-3f41-4491-9baf-c033a30ec289",
   "metadata": {
    "vscode": {
     "languageId": "r"
    }
   },
   "outputs": [],
   "source": [
    "central_tuesday_data <- region_incident_data('/incidents-and-news/incident-reports/incidents?region=2&day=Tuesday')"
   ]
  },
  {
   "cell_type": "code",
   "execution_count": 18,
   "id": "4fe25a7b-1eb0-46df-b46d-e42c1f0160ec",
   "metadata": {
    "vscode": {
     "languageId": "r"
    }
   },
   "outputs": [],
   "source": [
    "central_wednesday_data <- region_incident_data('/incidents-and-news/incident-reports/incidents?region=2&day=Wednesday')"
   ]
  },
  {
   "cell_type": "code",
   "execution_count": 19,
   "id": "657effd6-1eb6-406a-b8f2-a7cb73dba7ae",
   "metadata": {
    "vscode": {
     "languageId": "r"
    }
   },
   "outputs": [],
   "source": [
    "central_thursday_data <- region_incident_data('/incidents-and-news/incident-reports/incidents?region=2&day=Thursday')"
   ]
  },
  {
   "cell_type": "code",
   "execution_count": 20,
   "id": "925d3ecd-a3b2-4d8e-9450-c0f8f4851131",
   "metadata": {
    "vscode": {
     "languageId": "r"
    }
   },
   "outputs": [],
   "source": [
    "central_friday_data <- region_incident_data('/incidents-and-news/incident-reports/incidents?region=2&day=Friday')"
   ]
  },
  {
   "cell_type": "code",
   "execution_count": 21,
   "id": "01480002-0dff-41d5-87a7-add90ccbd608",
   "metadata": {
    "vscode": {
     "languageId": "r"
    }
   },
   "outputs": [],
   "source": [
    "central_saturday_data <- region_incident_data('/incidents-and-news/incident-reports/incidents?region=2&day=Saturday')"
   ]
  },
  {
   "cell_type": "code",
   "execution_count": 22,
   "id": "d9271acc-9db5-4a74-a058-53050c2325a4",
   "metadata": {
    "vscode": {
     "languageId": "r"
    }
   },
   "outputs": [],
   "source": [
    "central_sunday_data <- region_incident_data('/incidents-and-news/incident-reports/incidents?region=2&day=Sunday')"
   ]
  },
  {
   "cell_type": "markdown",
   "id": "5e23a7e2-f4c9-4463-b053-0bb295cd7a7a",
   "metadata": {},
   "source": [
    "### South fire incident data (Monday to Sunday)"
   ]
  },
  {
   "cell_type": "code",
   "execution_count": 23,
   "id": "a24bc915-3d5a-44b8-abd2-d62109f47eda",
   "metadata": {
    "vscode": {
     "languageId": "r"
    }
   },
   "outputs": [],
   "source": [
    "south_monday_data <- region_incident_data('/incidents-and-news/incident-reports/incidents?region=3&day=Monday')"
   ]
  },
  {
   "cell_type": "code",
   "execution_count": 24,
   "id": "d32d2af7-53f0-40f0-aefc-877bf3371e60",
   "metadata": {
    "vscode": {
     "languageId": "r"
    }
   },
   "outputs": [],
   "source": [
    "south_tuesday_data <- region_incident_data('/incidents-and-news/incident-reports/incidents?region=3&day=Tuesday')"
   ]
  },
  {
   "cell_type": "code",
   "execution_count": 25,
   "id": "7e8eb14c-cedb-463a-8fc3-5d30f34fb9f4",
   "metadata": {
    "vscode": {
     "languageId": "r"
    }
   },
   "outputs": [],
   "source": [
    "south_wednesday_data <- region_incident_data('/incidents-and-news/incident-reports/incidents?region=3&day=Wednesday')"
   ]
  },
  {
   "cell_type": "code",
   "execution_count": 26,
   "id": "1d4dad09-b317-4aab-97d2-41b39a3841de",
   "metadata": {
    "vscode": {
     "languageId": "r"
    }
   },
   "outputs": [],
   "source": [
    "south_thursday_data <- region_incident_data('/incidents-and-news/incident-reports/incidents?region=3&day=Thursday')"
   ]
  },
  {
   "cell_type": "code",
   "execution_count": 27,
   "id": "1984a8ce-114b-41db-bfb9-ef8772ea2447",
   "metadata": {
    "vscode": {
     "languageId": "r"
    }
   },
   "outputs": [],
   "source": [
    "south_friday_data <- region_incident_data('/incidents-and-news/incident-reports/incidents?region=3&day=Friday')"
   ]
  },
  {
   "cell_type": "code",
   "execution_count": 28,
   "id": "50e0ab57-4470-41dd-b053-2ee7c0e11856",
   "metadata": {
    "vscode": {
     "languageId": "r"
    }
   },
   "outputs": [],
   "source": [
    "south_saturday_data <- region_incident_data('/incidents-and-news/incident-reports/incidents?region=3&day=Saturday')"
   ]
  },
  {
   "cell_type": "code",
   "execution_count": 29,
   "id": "eba266bd-92fd-47db-aee5-7e0d3a96b818",
   "metadata": {
    "vscode": {
     "languageId": "r"
    }
   },
   "outputs": [],
   "source": [
    "south_sunday_data <- region_incident_data('/incidents-and-news/incident-reports/incidents?region=3&day=Sunday')"
   ]
  }
 ],
 "metadata": {
  "kernelspec": {
   "display_name": "R",
   "language": "R",
   "name": "ir"
  },
  "language_info": {
   "codemirror_mode": "r",
   "file_extension": ".r",
   "mimetype": "text/x-r-source",
   "name": "R",
   "pygments_lexer": "r",
   "version": "4.2.1"
  }
 },
 "nbformat": 4,
 "nbformat_minor": 5
}
