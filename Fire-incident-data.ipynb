{
 "cells": [
  {
   "cell_type": "code",
   "execution_count": 1,
   "id": "ef8ee868-f8fd-4739-bbe0-7f25a3e38cf4",
   "metadata": {
    "vscode": {
     "languageId": "r"
    }
   },
   "outputs": [
    {
     "name": "stderr",
     "output_type": "stream",
     "text": [
      "── \u001b[1mAttaching packages\u001b[22m ─────────────────────────────────────── tidyverse 1.3.2 ──\n",
      "\u001b[32m✔\u001b[39m \u001b[34mggplot2\u001b[39m 3.3.6     \u001b[32m✔\u001b[39m \u001b[34mpurrr  \u001b[39m 0.3.4\n",
      "\u001b[32m✔\u001b[39m \u001b[34mtibble \u001b[39m 3.1.8     \u001b[32m✔\u001b[39m \u001b[34mdplyr  \u001b[39m 1.0.9\n",
      "\u001b[32m✔\u001b[39m \u001b[34mtidyr  \u001b[39m 1.2.0     \u001b[32m✔\u001b[39m \u001b[34mstringr\u001b[39m 1.4.1\n",
      "\u001b[32m✔\u001b[39m \u001b[34mreadr  \u001b[39m 2.1.2     \u001b[32m✔\u001b[39m \u001b[34mforcats\u001b[39m 0.5.1\n",
      "── \u001b[1mConflicts\u001b[22m ────────────────────────────────────────── tidyverse_conflicts() ──\n",
      "\u001b[31m✖\u001b[39m \u001b[34mdplyr\u001b[39m::\u001b[32mfilter()\u001b[39m masks \u001b[34mstats\u001b[39m::filter()\n",
      "\u001b[31m✖\u001b[39m \u001b[34mdplyr\u001b[39m::\u001b[32mlag()\u001b[39m    masks \u001b[34mstats\u001b[39m::lag()\n",
      "\n",
      "Attaching package: ‘magrittr’\n",
      "\n",
      "\n",
      "The following object is masked from ‘package:purrr’:\n",
      "\n",
      "    set_names\n",
      "\n",
      "\n",
      "The following object is masked from ‘package:tidyr’:\n",
      "\n",
      "    extract\n",
      "\n",
      "\n",
      "\n",
      "Attaching package: ‘rvest’\n",
      "\n",
      "\n",
      "The following object is masked from ‘package:readr’:\n",
      "\n",
      "    guess_encoding\n",
      "\n",
      "\n"
     ]
    }
   ],
   "source": [
    "library(tidyverse)\n",
    "library(magrittr)\n",
    "library(purrr) \n",
    "library(glue) \n",
    "library(stringr) \n",
    "\n",
    "library(rvest) \n",
    "library(polite)\n",
    "library(xml2) "
   ]
  },
  {
   "cell_type": "code",
   "execution_count": 2,
   "id": "a27908b8-e456-466a-b17a-45ea3c96eb08",
   "metadata": {
    "vscode": {
     "languageId": "r"
    }
   },
   "outputs": [],
   "source": [
    "all_region_fire_incident <- read_html('https://www.fireandemergency.nz/incidents-and-news/incident-reports/')"
   ]
  },
  {
   "cell_type": "code",
   "execution_count": 3,
   "id": "489186c8-9821-4103-aed5-2c85388d1de2",
   "metadata": {
    "vscode": {
     "languageId": "r"
    }
   },
   "outputs": [
    {
     "data": {
      "text/html": [
       "<style>\n",
       ".list-inline {list-style: none; margin:0; padding: 0}\n",
       ".list-inline>li {display: inline-block}\n",
       ".list-inline>li:not(:last-child)::after {content: \"\\00b7\"; padding: 0 .5ex}\n",
       "</style>\n",
       "<ol class=list-inline><li>'/incidents-and-news/incident-reports/incidents?region=1&amp;day=Wednesday'</li><li>'/incidents-and-news/incident-reports/incidents?region=1&amp;day=Tuesday'</li><li>'/incidents-and-news/incident-reports/incidents?region=1&amp;day=Monday'</li><li>'/incidents-and-news/incident-reports/incidents?region=1&amp;day=Sunday'</li><li>'/incidents-and-news/incident-reports/incidents?region=1&amp;day=Saturday'</li><li>'/incidents-and-news/incident-reports/incidents?region=1&amp;day=Friday'</li><li>'/incidents-and-news/incident-reports/incidents?region=1&amp;day=Thursday'</li></ol>\n"
      ],
      "text/latex": [
       "\\begin{enumerate*}\n",
       "\\item '/incidents-and-news/incident-reports/incidents?region=1\\&day=Wednesday'\n",
       "\\item '/incidents-and-news/incident-reports/incidents?region=1\\&day=Tuesday'\n",
       "\\item '/incidents-and-news/incident-reports/incidents?region=1\\&day=Monday'\n",
       "\\item '/incidents-and-news/incident-reports/incidents?region=1\\&day=Sunday'\n",
       "\\item '/incidents-and-news/incident-reports/incidents?region=1\\&day=Saturday'\n",
       "\\item '/incidents-and-news/incident-reports/incidents?region=1\\&day=Friday'\n",
       "\\item '/incidents-and-news/incident-reports/incidents?region=1\\&day=Thursday'\n",
       "\\end{enumerate*}\n"
      ],
      "text/markdown": [
       "1. '/incidents-and-news/incident-reports/incidents?region=1&amp;day=Wednesday'\n",
       "2. '/incidents-and-news/incident-reports/incidents?region=1&amp;day=Tuesday'\n",
       "3. '/incidents-and-news/incident-reports/incidents?region=1&amp;day=Monday'\n",
       "4. '/incidents-and-news/incident-reports/incidents?region=1&amp;day=Sunday'\n",
       "5. '/incidents-and-news/incident-reports/incidents?region=1&amp;day=Saturday'\n",
       "6. '/incidents-and-news/incident-reports/incidents?region=1&amp;day=Friday'\n",
       "7. '/incidents-and-news/incident-reports/incidents?region=1&amp;day=Thursday'\n",
       "\n",
       "\n"
      ],
      "text/plain": [
       "[1] \"/incidents-and-news/incident-reports/incidents?region=1&day=Wednesday\"\n",
       "[2] \"/incidents-and-news/incident-reports/incidents?region=1&day=Tuesday\"  \n",
       "[3] \"/incidents-and-news/incident-reports/incidents?region=1&day=Monday\"   \n",
       "[4] \"/incidents-and-news/incident-reports/incidents?region=1&day=Sunday\"   \n",
       "[5] \"/incidents-and-news/incident-reports/incidents?region=1&day=Saturday\" \n",
       "[6] \"/incidents-and-news/incident-reports/incidents?region=1&day=Friday\"   \n",
       "[7] \"/incidents-and-news/incident-reports/incidents?region=1&day=Thursday\" "
      ]
     },
     "metadata": {},
     "output_type": "display_data"
    }
   ],
   "source": [
    "north_region_href <- all_region_fire_incident %>%\n",
    "   html_nodes('div.incidentreport__region:nth-child(6) .region .region__link') %>%\n",
    "   html_attr('href') \n",
    "north_region_href"
   ]
  },
  {
   "cell_type": "code",
   "execution_count": 4,
   "id": "c6ecf87e-8ff3-400b-9493-63e5e7506465",
   "metadata": {
    "vscode": {
     "languageId": "r"
    }
   },
   "outputs": [
    {
     "data": {
      "text/html": [
       "<style>\n",
       ".list-inline {list-style: none; margin:0; padding: 0}\n",
       ".list-inline>li {display: inline-block}\n",
       ".list-inline>li:not(:last-child)::after {content: \"\\00b7\"; padding: 0 .5ex}\n",
       "</style>\n",
       "<ol class=list-inline><li>'/incidents-and-news/incident-reports/incidents?region=2&amp;day=Wednesday'</li><li>'/incidents-and-news/incident-reports/incidents?region=2&amp;day=Tuesday'</li><li>'/incidents-and-news/incident-reports/incidents?region=2&amp;day=Monday'</li><li>'/incidents-and-news/incident-reports/incidents?region=2&amp;day=Sunday'</li><li>'/incidents-and-news/incident-reports/incidents?region=2&amp;day=Saturday'</li><li>'/incidents-and-news/incident-reports/incidents?region=2&amp;day=Friday'</li><li>'/incidents-and-news/incident-reports/incidents?region=2&amp;day=Thursday'</li></ol>\n"
      ],
      "text/latex": [
       "\\begin{enumerate*}\n",
       "\\item '/incidents-and-news/incident-reports/incidents?region=2\\&day=Wednesday'\n",
       "\\item '/incidents-and-news/incident-reports/incidents?region=2\\&day=Tuesday'\n",
       "\\item '/incidents-and-news/incident-reports/incidents?region=2\\&day=Monday'\n",
       "\\item '/incidents-and-news/incident-reports/incidents?region=2\\&day=Sunday'\n",
       "\\item '/incidents-and-news/incident-reports/incidents?region=2\\&day=Saturday'\n",
       "\\item '/incidents-and-news/incident-reports/incidents?region=2\\&day=Friday'\n",
       "\\item '/incidents-and-news/incident-reports/incidents?region=2\\&day=Thursday'\n",
       "\\end{enumerate*}\n"
      ],
      "text/markdown": [
       "1. '/incidents-and-news/incident-reports/incidents?region=2&amp;day=Wednesday'\n",
       "2. '/incidents-and-news/incident-reports/incidents?region=2&amp;day=Tuesday'\n",
       "3. '/incidents-and-news/incident-reports/incidents?region=2&amp;day=Monday'\n",
       "4. '/incidents-and-news/incident-reports/incidents?region=2&amp;day=Sunday'\n",
       "5. '/incidents-and-news/incident-reports/incidents?region=2&amp;day=Saturday'\n",
       "6. '/incidents-and-news/incident-reports/incidents?region=2&amp;day=Friday'\n",
       "7. '/incidents-and-news/incident-reports/incidents?region=2&amp;day=Thursday'\n",
       "\n",
       "\n"
      ],
      "text/plain": [
       "[1] \"/incidents-and-news/incident-reports/incidents?region=2&day=Wednesday\"\n",
       "[2] \"/incidents-and-news/incident-reports/incidents?region=2&day=Tuesday\"  \n",
       "[3] \"/incidents-and-news/incident-reports/incidents?region=2&day=Monday\"   \n",
       "[4] \"/incidents-and-news/incident-reports/incidents?region=2&day=Sunday\"   \n",
       "[5] \"/incidents-and-news/incident-reports/incidents?region=2&day=Saturday\" \n",
       "[6] \"/incidents-and-news/incident-reports/incidents?region=2&day=Friday\"   \n",
       "[7] \"/incidents-and-news/incident-reports/incidents?region=2&day=Thursday\" "
      ]
     },
     "metadata": {},
     "output_type": "display_data"
    }
   ],
   "source": [
    "central_region_href <- all_region_fire_incident %>%\n",
    "   html_nodes('div.incidentreport__region:nth-child(7) .region .region__link') %>%\n",
    "   html_attr('href') \n",
    "central_region_href"
   ]
  },
  {
   "cell_type": "code",
   "execution_count": 5,
   "id": "772e1ac8-7c78-4800-87fd-f00b2f46b32d",
   "metadata": {
    "vscode": {
     "languageId": "r"
    }
   },
   "outputs": [
    {
     "data": {
      "text/html": [
       "<style>\n",
       ".list-inline {list-style: none; margin:0; padding: 0}\n",
       ".list-inline>li {display: inline-block}\n",
       ".list-inline>li:not(:last-child)::after {content: \"\\00b7\"; padding: 0 .5ex}\n",
       "</style>\n",
       "<ol class=list-inline><li>'/incidents-and-news/incident-reports/incidents?region=3&amp;day=Wednesday'</li><li>'/incidents-and-news/incident-reports/incidents?region=3&amp;day=Tuesday'</li><li>'/incidents-and-news/incident-reports/incidents?region=3&amp;day=Monday'</li><li>'/incidents-and-news/incident-reports/incidents?region=3&amp;day=Sunday'</li><li>'/incidents-and-news/incident-reports/incidents?region=3&amp;day=Saturday'</li><li>'/incidents-and-news/incident-reports/incidents?region=3&amp;day=Friday'</li><li>'/incidents-and-news/incident-reports/incidents?region=3&amp;day=Thursday'</li></ol>\n"
      ],
      "text/latex": [
       "\\begin{enumerate*}\n",
       "\\item '/incidents-and-news/incident-reports/incidents?region=3\\&day=Wednesday'\n",
       "\\item '/incidents-and-news/incident-reports/incidents?region=3\\&day=Tuesday'\n",
       "\\item '/incidents-and-news/incident-reports/incidents?region=3\\&day=Monday'\n",
       "\\item '/incidents-and-news/incident-reports/incidents?region=3\\&day=Sunday'\n",
       "\\item '/incidents-and-news/incident-reports/incidents?region=3\\&day=Saturday'\n",
       "\\item '/incidents-and-news/incident-reports/incidents?region=3\\&day=Friday'\n",
       "\\item '/incidents-and-news/incident-reports/incidents?region=3\\&day=Thursday'\n",
       "\\end{enumerate*}\n"
      ],
      "text/markdown": [
       "1. '/incidents-and-news/incident-reports/incidents?region=3&amp;day=Wednesday'\n",
       "2. '/incidents-and-news/incident-reports/incidents?region=3&amp;day=Tuesday'\n",
       "3. '/incidents-and-news/incident-reports/incidents?region=3&amp;day=Monday'\n",
       "4. '/incidents-and-news/incident-reports/incidents?region=3&amp;day=Sunday'\n",
       "5. '/incidents-and-news/incident-reports/incidents?region=3&amp;day=Saturday'\n",
       "6. '/incidents-and-news/incident-reports/incidents?region=3&amp;day=Friday'\n",
       "7. '/incidents-and-news/incident-reports/incidents?region=3&amp;day=Thursday'\n",
       "\n",
       "\n"
      ],
      "text/plain": [
       "[1] \"/incidents-and-news/incident-reports/incidents?region=3&day=Wednesday\"\n",
       "[2] \"/incidents-and-news/incident-reports/incidents?region=3&day=Tuesday\"  \n",
       "[3] \"/incidents-and-news/incident-reports/incidents?region=3&day=Monday\"   \n",
       "[4] \"/incidents-and-news/incident-reports/incidents?region=3&day=Sunday\"   \n",
       "[5] \"/incidents-and-news/incident-reports/incidents?region=3&day=Saturday\" \n",
       "[6] \"/incidents-and-news/incident-reports/incidents?region=3&day=Friday\"   \n",
       "[7] \"/incidents-and-news/incident-reports/incidents?region=3&day=Thursday\" "
      ]
     },
     "metadata": {},
     "output_type": "display_data"
    }
   ],
   "source": [
    "south_region_href <- all_region_fire_incident %>%\n",
    "   html_nodes('div.incidentreport__region:nth-child(8) .region .region__link') %>%\n",
    "   html_attr('href') \n",
    "south_region_href"
   ]
  },
  {
   "cell_type": "code",
   "execution_count": 6,
   "id": "1c2589b3-e1c2-4728-a98a-e3a720583fba",
   "metadata": {
    "vscode": {
     "languageId": "r"
    }
   },
   "outputs": [
    {
     "data": {
      "text/html": [
       "<table class=\"dataframe\">\n",
       "<caption>A tibble: 7 × 3</caption>\n",
       "<thead>\n",
       "\t<tr><th scope=col>North</th><th scope=col>Central</th><th scope=col>South</th></tr>\n",
       "\t<tr><th scope=col>&lt;chr&gt;</th><th scope=col>&lt;chr&gt;</th><th scope=col>&lt;chr&gt;</th></tr>\n",
       "</thead>\n",
       "<tbody>\n",
       "\t<tr><td>/incidents-and-news/incident-reports/incidents?region=1&amp;day=Wednesday</td><td>/incidents-and-news/incident-reports/incidents?region=2&amp;day=Wednesday</td><td>/incidents-and-news/incident-reports/incidents?region=3&amp;day=Wednesday</td></tr>\n",
       "\t<tr><td><span style=white-space:pre-wrap>/incidents-and-news/incident-reports/incidents?region=1&amp;day=Tuesday  </span></td><td><span style=white-space:pre-wrap>/incidents-and-news/incident-reports/incidents?region=2&amp;day=Tuesday  </span></td><td><span style=white-space:pre-wrap>/incidents-and-news/incident-reports/incidents?region=3&amp;day=Tuesday  </span></td></tr>\n",
       "\t<tr><td><span style=white-space:pre-wrap>/incidents-and-news/incident-reports/incidents?region=1&amp;day=Monday   </span></td><td><span style=white-space:pre-wrap>/incidents-and-news/incident-reports/incidents?region=2&amp;day=Monday   </span></td><td><span style=white-space:pre-wrap>/incidents-and-news/incident-reports/incidents?region=3&amp;day=Monday   </span></td></tr>\n",
       "\t<tr><td><span style=white-space:pre-wrap>/incidents-and-news/incident-reports/incidents?region=1&amp;day=Sunday   </span></td><td><span style=white-space:pre-wrap>/incidents-and-news/incident-reports/incidents?region=2&amp;day=Sunday   </span></td><td><span style=white-space:pre-wrap>/incidents-and-news/incident-reports/incidents?region=3&amp;day=Sunday   </span></td></tr>\n",
       "\t<tr><td>/incidents-and-news/incident-reports/incidents?region=1&amp;day=Saturday </td><td>/incidents-and-news/incident-reports/incidents?region=2&amp;day=Saturday </td><td>/incidents-and-news/incident-reports/incidents?region=3&amp;day=Saturday </td></tr>\n",
       "\t<tr><td><span style=white-space:pre-wrap>/incidents-and-news/incident-reports/incidents?region=1&amp;day=Friday   </span></td><td><span style=white-space:pre-wrap>/incidents-and-news/incident-reports/incidents?region=2&amp;day=Friday   </span></td><td><span style=white-space:pre-wrap>/incidents-and-news/incident-reports/incidents?region=3&amp;day=Friday   </span></td></tr>\n",
       "\t<tr><td>/incidents-and-news/incident-reports/incidents?region=1&amp;day=Thursday </td><td>/incidents-and-news/incident-reports/incidents?region=2&amp;day=Thursday </td><td>/incidents-and-news/incident-reports/incidents?region=3&amp;day=Thursday </td></tr>\n",
       "</tbody>\n",
       "</table>\n"
      ],
      "text/latex": [
       "A tibble: 7 × 3\n",
       "\\begin{tabular}{lll}\n",
       " North & Central & South\\\\\n",
       " <chr> & <chr> & <chr>\\\\\n",
       "\\hline\n",
       "\t /incidents-and-news/incident-reports/incidents?region=1\\&day=Wednesday & /incidents-and-news/incident-reports/incidents?region=2\\&day=Wednesday & /incidents-and-news/incident-reports/incidents?region=3\\&day=Wednesday\\\\\n",
       "\t /incidents-and-news/incident-reports/incidents?region=1\\&day=Tuesday   & /incidents-and-news/incident-reports/incidents?region=2\\&day=Tuesday   & /incidents-and-news/incident-reports/incidents?region=3\\&day=Tuesday  \\\\\n",
       "\t /incidents-and-news/incident-reports/incidents?region=1\\&day=Monday    & /incidents-and-news/incident-reports/incidents?region=2\\&day=Monday    & /incidents-and-news/incident-reports/incidents?region=3\\&day=Monday   \\\\\n",
       "\t /incidents-and-news/incident-reports/incidents?region=1\\&day=Sunday    & /incidents-and-news/incident-reports/incidents?region=2\\&day=Sunday    & /incidents-and-news/incident-reports/incidents?region=3\\&day=Sunday   \\\\\n",
       "\t /incidents-and-news/incident-reports/incidents?region=1\\&day=Saturday  & /incidents-and-news/incident-reports/incidents?region=2\\&day=Saturday  & /incidents-and-news/incident-reports/incidents?region=3\\&day=Saturday \\\\\n",
       "\t /incidents-and-news/incident-reports/incidents?region=1\\&day=Friday    & /incidents-and-news/incident-reports/incidents?region=2\\&day=Friday    & /incidents-and-news/incident-reports/incidents?region=3\\&day=Friday   \\\\\n",
       "\t /incidents-and-news/incident-reports/incidents?region=1\\&day=Thursday  & /incidents-and-news/incident-reports/incidents?region=2\\&day=Thursday  & /incidents-and-news/incident-reports/incidents?region=3\\&day=Thursday \\\\\n",
       "\\end{tabular}\n"
      ],
      "text/markdown": [
       "\n",
       "A tibble: 7 × 3\n",
       "\n",
       "| North &lt;chr&gt; | Central &lt;chr&gt; | South &lt;chr&gt; |\n",
       "|---|---|---|\n",
       "| /incidents-and-news/incident-reports/incidents?region=1&amp;day=Wednesday | /incidents-and-news/incident-reports/incidents?region=2&amp;day=Wednesday | /incidents-and-news/incident-reports/incidents?region=3&amp;day=Wednesday |\n",
       "| /incidents-and-news/incident-reports/incidents?region=1&amp;day=Tuesday   | /incidents-and-news/incident-reports/incidents?region=2&amp;day=Tuesday   | /incidents-and-news/incident-reports/incidents?region=3&amp;day=Tuesday   |\n",
       "| /incidents-and-news/incident-reports/incidents?region=1&amp;day=Monday    | /incidents-and-news/incident-reports/incidents?region=2&amp;day=Monday    | /incidents-and-news/incident-reports/incidents?region=3&amp;day=Monday    |\n",
       "| /incidents-and-news/incident-reports/incidents?region=1&amp;day=Sunday    | /incidents-and-news/incident-reports/incidents?region=2&amp;day=Sunday    | /incidents-and-news/incident-reports/incidents?region=3&amp;day=Sunday    |\n",
       "| /incidents-and-news/incident-reports/incidents?region=1&amp;day=Saturday  | /incidents-and-news/incident-reports/incidents?region=2&amp;day=Saturday  | /incidents-and-news/incident-reports/incidents?region=3&amp;day=Saturday  |\n",
       "| /incidents-and-news/incident-reports/incidents?region=1&amp;day=Friday    | /incidents-and-news/incident-reports/incidents?region=2&amp;day=Friday    | /incidents-and-news/incident-reports/incidents?region=3&amp;day=Friday    |\n",
       "| /incidents-and-news/incident-reports/incidents?region=1&amp;day=Thursday  | /incidents-and-news/incident-reports/incidents?region=2&amp;day=Thursday  | /incidents-and-news/incident-reports/incidents?region=3&amp;day=Thursday  |\n",
       "\n"
      ],
      "text/plain": [
       "  North                                                                \n",
       "1 /incidents-and-news/incident-reports/incidents?region=1&day=Wednesday\n",
       "2 /incidents-and-news/incident-reports/incidents?region=1&day=Tuesday  \n",
       "3 /incidents-and-news/incident-reports/incidents?region=1&day=Monday   \n",
       "4 /incidents-and-news/incident-reports/incidents?region=1&day=Sunday   \n",
       "5 /incidents-and-news/incident-reports/incidents?region=1&day=Saturday \n",
       "6 /incidents-and-news/incident-reports/incidents?region=1&day=Friday   \n",
       "7 /incidents-and-news/incident-reports/incidents?region=1&day=Thursday \n",
       "  Central                                                              \n",
       "1 /incidents-and-news/incident-reports/incidents?region=2&day=Wednesday\n",
       "2 /incidents-and-news/incident-reports/incidents?region=2&day=Tuesday  \n",
       "3 /incidents-and-news/incident-reports/incidents?region=2&day=Monday   \n",
       "4 /incidents-and-news/incident-reports/incidents?region=2&day=Sunday   \n",
       "5 /incidents-and-news/incident-reports/incidents?region=2&day=Saturday \n",
       "6 /incidents-and-news/incident-reports/incidents?region=2&day=Friday   \n",
       "7 /incidents-and-news/incident-reports/incidents?region=2&day=Thursday \n",
       "  South                                                                \n",
       "1 /incidents-and-news/incident-reports/incidents?region=3&day=Wednesday\n",
       "2 /incidents-and-news/incident-reports/incidents?region=3&day=Tuesday  \n",
       "3 /incidents-and-news/incident-reports/incidents?region=3&day=Monday   \n",
       "4 /incidents-and-news/incident-reports/incidents?region=3&day=Sunday   \n",
       "5 /incidents-and-news/incident-reports/incidents?region=3&day=Saturday \n",
       "6 /incidents-and-news/incident-reports/incidents?region=3&day=Friday   \n",
       "7 /incidents-and-news/incident-reports/incidents?region=3&day=Thursday "
      ]
     },
     "metadata": {},
     "output_type": "display_data"
    }
   ],
   "source": [
    "all_region_href <- tibble(North = north_region_href, Central = central_region_href, South = south_region_href)\n",
    "all_region_href"
   ]
  },
  {
   "cell_type": "code",
   "execution_count": 7,
   "id": "4fa62b4f-ab74-4bea-9f95-6a02deebcbdd",
   "metadata": {
    "vscode": {
     "languageId": "r"
    }
   },
   "outputs": [],
   "source": [
    "region_incident_data <- function(href, key_index){\n",
    "    \n",
    "    region_data <- glue('https://www.fireandemergency.nz{href}#')%>%\n",
    "                   read_html() %>%\n",
    "                   html_nodes(glue('.report__table .report__table__body .report__table__row:nth-child({key_index}) .report__table__cell+ .report__table__cell--value p:nth-child(1)')) %>%\n",
    "                   html_text2()\n",
    "    \n",
    "    return(region_data)\n",
    "    \n",
    "    }\n",
    "                  "
   ]
  },
  {
   "cell_type": "code",
   "execution_count": 8,
   "id": "42ba4582-a2ca-4cad-8f86-2adf9cc56fc3",
   "metadata": {
    "vscode": {
     "languageId": "r"
    }
   },
   "outputs": [],
   "source": [
    "region_incident_data <- function(href){\n",
    "    \n",
    "    region_href <- glue('https://www.fireandemergency.nz{href}#')%>%\n",
    "                   read_html() \n",
    "    \n",
    "    Incident <- region_href %>%\n",
    "                  html_nodes(glue('.report__table .report__table__body .report__table__row:nth-child(1) .report__table__cell+ .report__table__cell--value p:nth-child(1)')) %>%\n",
    "                  html_text2()\n",
    "    \n",
    "    Date_and_Time <- region_href %>%\n",
    "                  html_nodes(glue('.report__table .report__table__body .report__table__row:nth-child(2) .report__table__cell+ .report__table__cell--value p:nth-child(1)')) %>%\n",
    "                  html_text2()\n",
    "        \n",
    "    Location <- region_href %>%\n",
    "                  html_nodes(glue('.report__table .report__table__body .report__table__row:nth-child(3) .report__table__cell+ .report__table__cell--value p:nth-child(1)')) %>%\n",
    "                  html_text2()\n",
    "    \n",
    "    Duration <- region_href %>%\n",
    "                  html_nodes(glue('.report__table .report__table__body .report__table__row:nth-child(4) .report__table__cell+ .report__table__cell--value p:nth-child(1)')) %>%\n",
    "                  html_text2()\n",
    "    \n",
    "    Station <- region_href %>%\n",
    "                  html_nodes(glue('.report__table .report__table__body .report__table__row:nth-child(5) .report__table__cell+ .report__table__cell--value p:nth-child(1)')) %>%\n",
    "                  html_text2()\n",
    "    \n",
    "    Result <- region_href %>%\n",
    "                  html_nodes(glue('.report__table .report__table__body .report__table__row:nth-child(6) .report__table__cell+ .report__table__cell--value p:nth-child(1)')) %>%\n",
    "                  html_text2()\n",
    "    \n",
    "    region_incident_table <- tibble(Incident_no = Incident, Date_and_Time = Date_and_Time, Location = Location, Duration = Duration, Station = Station, Result = Result)\n",
    "    \n",
    "    return(region_incident_table)\n",
    "    \n",
    "    }"
   ]
  },
  {
   "cell_type": "markdown",
   "id": "b8c059fc-d0d8-4c79-97bf-07d691fb82f7",
   "metadata": {},
   "source": [
    "format:\n",
    "{region}_{day}_data"
   ]
  },
  {
   "cell_type": "markdown",
   "id": "b2d7740a-8247-4d6b-81df-8efd70a1cb56",
   "metadata": {},
   "source": [
    "### North fire incident data (Monday to Sunday)"
   ]
  },
  {
   "cell_type": "code",
   "execution_count": 9,
   "id": "5a907b47-f8cc-4be9-ae45-fe382302cbec",
   "metadata": {
    "tags": [],
    "vscode": {
     "languageId": "r"
    }
   },
   "outputs": [],
   "source": [
    "north_monday_data <- region_incident_data('/incidents-and-news/incident-reports/incidents?region=1&day=Monday')"
   ]
  },
  {
   "cell_type": "code",
   "execution_count": 10,
   "id": "a14757df-c954-4706-adf4-3d1fba98a88f",
   "metadata": {
    "tags": [],
    "vscode": {
     "languageId": "r"
    }
   },
   "outputs": [],
   "source": [
    "north_tuesday_data <- region_incident_data('/incidents-and-news/incident-reports/incidents?region=1&day=Tuesday')"
   ]
  },
  {
   "cell_type": "code",
   "execution_count": 11,
   "id": "5e3f2c26-8cf7-4a65-962e-ba2ac056acd9",
   "metadata": {
    "tags": [],
    "vscode": {
     "languageId": "r"
    }
   },
   "outputs": [],
   "source": [
    "north_wednesday_data <- region_incident_data('/incidents-and-news/incident-reports/incidents?region=1&day=Wednesday')"
   ]
  },
  {
   "cell_type": "code",
   "execution_count": 12,
   "id": "c1dd5fea-7613-414b-a837-7acaf3b13b7b",
   "metadata": {
    "vscode": {
     "languageId": "r"
    }
   },
   "outputs": [],
   "source": [
    "north_thursday_data <- region_incident_data('/incidents-and-news/incident-reports/incidents?region=1&day=Thursday')"
   ]
  },
  {
   "cell_type": "code",
   "execution_count": 13,
   "id": "0d8f6c97-15f3-4861-919c-611de883532b",
   "metadata": {
    "tags": [],
    "vscode": {
     "languageId": "r"
    }
   },
   "outputs": [],
   "source": [
    "north_friday_data <- region_incident_data('/incidents-and-news/incident-reports/incidents?region=1&day=Friday')"
   ]
  },
  {
   "cell_type": "code",
   "execution_count": 14,
   "id": "50720bdf-4742-44e2-bcda-e97151fe06e2",
   "metadata": {
    "tags": [],
    "vscode": {
     "languageId": "r"
    }
   },
   "outputs": [],
   "source": [
    "north_saturday_data <- region_incident_data('/incidents-and-news/incident-reports/incidents?region=1&day=Saturday')"
   ]
  },
  {
   "cell_type": "code",
   "execution_count": 15,
   "id": "f9de8273-dd42-45d4-aa07-02e0dff04654",
   "metadata": {
    "tags": [],
    "vscode": {
     "languageId": "r"
    }
   },
   "outputs": [],
   "source": [
    "north_sunday_data <- region_incident_data('/incidents-and-news/incident-reports/incidents?region=1&day=Sunday')"
   ]
  },
  {
   "cell_type": "markdown",
   "id": "51df08a4-e13c-4ea8-b791-7e8be9259a60",
   "metadata": {},
   "source": [
    "### Central fire incident data (Monday to Sunday)"
   ]
  },
  {
   "cell_type": "code",
   "execution_count": 16,
   "id": "8a59a3a0-3fdc-4b94-b9f9-1985a8480582",
   "metadata": {
    "tags": [],
    "vscode": {
     "languageId": "r"
    }
   },
   "outputs": [],
   "source": [
    "central_monday_data <- region_incident_data('/incidents-and-news/incident-reports/incidents?region=2&day=Monday')"
   ]
  },
  {
   "cell_type": "code",
   "execution_count": 17,
   "id": "781bb8ad-3f41-4491-9baf-c033a30ec289",
   "metadata": {
    "vscode": {
     "languageId": "r"
    }
   },
   "outputs": [],
   "source": [
    "central_tuesday_data <- region_incident_data('/incidents-and-news/incident-reports/incidents?region=2&day=Tuesday')"
   ]
  },
  {
   "cell_type": "code",
   "execution_count": 18,
   "id": "4fe25a7b-1eb0-46df-b46d-e42c1f0160ec",
   "metadata": {
    "vscode": {
     "languageId": "r"
    }
   },
   "outputs": [],
   "source": [
    "central_wednesday_data <- region_incident_data('/incidents-and-news/incident-reports/incidents?region=2&day=Wednesday')"
   ]
  },
  {
   "cell_type": "code",
   "execution_count": 19,
   "id": "657effd6-1eb6-406a-b8f2-a7cb73dba7ae",
   "metadata": {
    "vscode": {
     "languageId": "r"
    }
   },
   "outputs": [],
   "source": [
    "central_thursday_data <- region_incident_data('/incidents-and-news/incident-reports/incidents?region=2&day=Thursday')"
   ]
  },
  {
   "cell_type": "code",
   "execution_count": 20,
   "id": "925d3ecd-a3b2-4d8e-9450-c0f8f4851131",
   "metadata": {
    "vscode": {
     "languageId": "r"
    }
   },
   "outputs": [],
   "source": [
    "central_friday_data <- region_incident_data('/incidents-and-news/incident-reports/incidents?region=2&day=Friday')"
   ]
  },
  {
   "cell_type": "code",
   "execution_count": 21,
   "id": "01480002-0dff-41d5-87a7-add90ccbd608",
   "metadata": {
    "vscode": {
     "languageId": "r"
    }
   },
   "outputs": [],
   "source": [
    "central_saturday_data <- region_incident_data('/incidents-and-news/incident-reports/incidents?region=2&day=Saturday')"
   ]
  },
  {
   "cell_type": "code",
   "execution_count": 22,
   "id": "d9271acc-9db5-4a74-a058-53050c2325a4",
   "metadata": {
    "vscode": {
     "languageId": "r"
    }
   },
   "outputs": [],
   "source": [
    "central_sunday_data <- region_incident_data('/incidents-and-news/incident-reports/incidents?region=2&day=Sunday')"
   ]
  },
  {
   "cell_type": "markdown",
   "id": "5e23a7e2-f4c9-4463-b053-0bb295cd7a7a",
   "metadata": {},
   "source": [
    "### South fire incident data (Monday to Sunday)"
   ]
  },
  {
   "cell_type": "code",
   "execution_count": 23,
   "id": "a24bc915-3d5a-44b8-abd2-d62109f47eda",
   "metadata": {
    "vscode": {
     "languageId": "r"
    }
   },
   "outputs": [],
   "source": [
    "south_monday_data <- region_incident_data('/incidents-and-news/incident-reports/incidents?region=3&day=Monday')"
   ]
  },
  {
   "cell_type": "code",
   "execution_count": 24,
   "id": "d32d2af7-53f0-40f0-aefc-877bf3371e60",
   "metadata": {
    "vscode": {
     "languageId": "r"
    }
   },
   "outputs": [],
   "source": [
    "south_tuesday_data <- region_incident_data('/incidents-and-news/incident-reports/incidents?region=3&day=Tuesday')"
   ]
  },
  {
   "cell_type": "code",
   "execution_count": 25,
   "id": "7e8eb14c-cedb-463a-8fc3-5d30f34fb9f4",
   "metadata": {
    "vscode": {
     "languageId": "r"
    }
   },
   "outputs": [],
   "source": [
    "south_wednesday_data <- region_incident_data('/incidents-and-news/incident-reports/incidents?region=3&day=Wednesday')"
   ]
  },
  {
   "cell_type": "code",
   "execution_count": 26,
   "id": "1d4dad09-b317-4aab-97d2-41b39a3841de",
   "metadata": {
    "vscode": {
     "languageId": "r"
    }
   },
   "outputs": [],
   "source": [
    "south_thursday_data <- region_incident_data('/incidents-and-news/incident-reports/incidents?region=3&day=Thursday')"
   ]
  },
  {
   "cell_type": "code",
   "execution_count": 27,
   "id": "1984a8ce-114b-41db-bfb9-ef8772ea2447",
   "metadata": {
    "vscode": {
     "languageId": "r"
    }
   },
   "outputs": [],
   "source": [
    "south_friday_data <- region_incident_data('/incidents-and-news/incident-reports/incidents?region=3&day=Friday')"
   ]
  },
  {
   "cell_type": "code",
   "execution_count": 28,
   "id": "50e0ab57-4470-41dd-b053-2ee7c0e11856",
   "metadata": {
    "vscode": {
     "languageId": "r"
    }
   },
   "outputs": [],
   "source": [
    "south_saturday_data <- region_incident_data('/incidents-and-news/incident-reports/incidents?region=3&day=Saturday')"
   ]
  },
  {
   "cell_type": "code",
   "execution_count": 29,
   "id": "eba266bd-92fd-47db-aee5-7e0d3a96b818",
   "metadata": {
    "vscode": {
     "languageId": "r"
    }
   },
   "outputs": [],
   "source": [
    "south_sunday_data <- region_incident_data('/incidents-and-news/incident-reports/incidents?region=3&day=Sunday')"
   ]
  }
 ],
 "metadata": {
  "kernelspec": {
   "display_name": "R",
   "language": "R",
   "name": "ir"
  },
  "language_info": {
   "codemirror_mode": "r",
   "file_extension": ".r",
   "mimetype": "text/x-r-source",
   "name": "R",
   "pygments_lexer": "r",
   "version": "4.2.1"
  }
 },
 "nbformat": 4,
 "nbformat_minor": 5
}
