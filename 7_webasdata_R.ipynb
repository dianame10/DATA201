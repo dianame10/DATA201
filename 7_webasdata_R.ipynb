{
 "cells": [
  {
   "cell_type": "markdown",
   "metadata": {},
   "source": [
    "![](https://upload.wikimedia.org/wikipedia/commons/thumb/3/33/Parental_Advisory_label.svg/500px-Parental_Advisory_label.svg.png)"
   ]
  },
  {
   "cell_type": "markdown",
   "metadata": {},
   "source": [
    "This is going to be a long lab. You will probably start now and finish at home. The **highly suggested** browser (or, at least, the one that I'll be using) is [Firefox](https://www.mozilla.org/en-US/firefox/developer/), the developer edition (for the console mode).\n",
    "\n",
    "The goal is to build a little collection of songs from our own preferred artist. Let's say, it's _Beastwars_ (they are great!).  \n",
    "First you will work together through a full example, then I will ask you to do something more!  \n",
    "\n",
    "The lab is organised like this:\n",
    "\n",
    "1.  The Scraping\n",
    "2.  The APIs\n",
    "\n",
    "Part 1. regards web as an unwilling source of data (the information is out there, but it is not explicitly designed for you to harvest it);   \n",
    "Part 2. is mostly the web as willing source of data.\n",
    "\n",
    "Part 1. is more guided, in Part 2. you'll need to navigate autonomously.\n",
    "\n",
    "#### The lab is long, so you may want to alternate between the Julia and the R part a little bit in order to get started on both during the lab time."
   ]
  },
  {
   "cell_type": "markdown",
   "metadata": {},
   "source": [
    "# Scraping"
   ]
  },
  {
   "cell_type": "markdown",
   "metadata": {},
   "source": [
    " A little kicker for the day:"
   ]
  },
  {
   "cell_type": "code",
   "execution_count": 1,
   "metadata": {},
   "outputs": [
    {
     "data": {
      "text/html": [
       "<iframe width=\"560\" height=\"315\" src=\"https://www.youtube.com/embed/M-twENDrwkk\" frameborder=\"0\" allow=\"autoplay; encrypted-media\" allowfullscreen></iframe>"
      ]
     },
     "metadata": {},
     "output_type": "display_data"
    }
   ],
   "source": [
    "IRdisplay::display_html('<iframe width=\"560\" height=\"315\" src=\"https://www.youtube.com/embed/M-twENDrwkk\" frameborder=\"0\" allow=\"autoplay; encrypted-media\" allowfullscreen></iframe>')"
   ]
  },
  {
   "cell_type": "markdown",
   "metadata": {},
   "source": [
    "We are going to work in the usual tidyverse framework."
   ]
  },
  {
   "cell_type": "code",
   "execution_count": 2,
   "metadata": {
    "tags": []
   },
   "outputs": [
    {
     "name": "stderr",
     "output_type": "stream",
     "text": [
      "── \u001b[1mAttaching packages\u001b[22m ─────────────────────────────────────── tidyverse 1.3.2 ──\n",
      "\u001b[32m✔\u001b[39m \u001b[34mggplot2\u001b[39m 3.3.6     \u001b[32m✔\u001b[39m \u001b[34mpurrr  \u001b[39m 0.3.4\n",
      "\u001b[32m✔\u001b[39m \u001b[34mtibble \u001b[39m 3.1.8     \u001b[32m✔\u001b[39m \u001b[34mdplyr  \u001b[39m 1.0.9\n",
      "\u001b[32m✔\u001b[39m \u001b[34mtidyr  \u001b[39m 1.2.0     \u001b[32m✔\u001b[39m \u001b[34mstringr\u001b[39m 1.4.0\n",
      "\u001b[32m✔\u001b[39m \u001b[34mreadr  \u001b[39m 2.1.2     \u001b[32m✔\u001b[39m \u001b[34mforcats\u001b[39m 0.5.1\n",
      "── \u001b[1mConflicts\u001b[22m ────────────────────────────────────────── tidyverse_conflicts() ──\n",
      "\u001b[31m✖\u001b[39m \u001b[34mdplyr\u001b[39m::\u001b[32mfilter()\u001b[39m masks \u001b[34mstats\u001b[39m::filter()\n",
      "\u001b[31m✖\u001b[39m \u001b[34mdplyr\u001b[39m::\u001b[32mlag()\u001b[39m    masks \u001b[34mstats\u001b[39m::lag()\n"
     ]
    }
   ],
   "source": [
    "library(tidyverse)"
   ]
  },
  {
   "cell_type": "markdown",
   "metadata": {},
   "source": [
    "We also introduce a bunch of additional packages that we will start to use more."
   ]
  },
  {
   "cell_type": "code",
   "execution_count": 3,
   "metadata": {
    "tags": []
   },
   "outputs": [
    {
     "name": "stderr",
     "output_type": "stream",
     "text": [
      "\n",
      "Attaching package: ‘magrittr’\n",
      "\n",
      "\n",
      "The following object is masked from ‘package:purrr’:\n",
      "\n",
      "    set_names\n",
      "\n",
      "\n",
      "The following object is masked from ‘package:tidyr’:\n",
      "\n",
      "    extract\n",
      "\n",
      "\n"
     ]
    }
   ],
   "source": [
    "# install.packages(\"magrittr\")\n",
    "# install.packages(\"purrr\")\n",
    "# install.packages(\"glue\")\n",
    "# install.packages(\"stringr\")\n",
    "library(magrittr) # better handling of pipes\n",
    "library(purrr) # to work with lists and map functions\n",
    "library(glue) # to paste strings\n",
    "library(stringr) # to hand strings"
   ]
  },
  {
   "cell_type": "markdown",
   "metadata": {},
   "source": [
    "As well as some web scraping specific libraries: [rvest](https://github.com/hadley/rvest#rvest) and [polite](https://github.com/dmi3kno/polite#polite-). Spend some minutes reading through the README files in their website."
   ]
  },
  {
   "cell_type": "code",
   "execution_count": 4,
   "metadata": {},
   "outputs": [
    {
     "name": "stderr",
     "output_type": "stream",
     "text": [
      "\n",
      "Attaching package: ‘rvest’\n",
      "\n",
      "\n",
      "The following object is masked from ‘package:readr’:\n",
      "\n",
      "    guess_encoding\n",
      "\n",
      "\n"
     ]
    },
    {
     "ename": "ERROR",
     "evalue": "Error in library(polite): there is no package called ‘polite’\n",
     "output_type": "error",
     "traceback": [
      "Error in library(polite): there is no package called ‘polite’\nTraceback:\n",
      "1. library(polite)"
     ]
    }
   ],
   "source": [
    "# install.packages(\"rvest\")\n",
    "# remotes::install_github(\"dmi3kno/polite\")(\"politer\")\n",
    "# install.packages(\"xml2\")\n",
    "library(rvest) # rvest makes scraping easier\n",
    "library(polite) # polite is the \"polite\" version of rvest\n",
    "library(xml2) # makes it easier to work with HTML and XML from R"
   ]
  },
  {
   "cell_type": "markdown",
   "metadata": {},
   "source": [
    "### The lyrics\n",
    "\n",
    "We are going to extract the lyrics from here: https://www.musixmatch.com/ . Chose it because it's rather consistent, and it's from Bologna, Italy (yeah!).\n",
    "\n",
    "The webiste offers the first 15 lyrics up front. That will do for the moment (and fixing that is not that easy). Let's take a look [here](https://www.musixmatch.com/artist/Beastwars#).\n",
    "\n",
    "The webpage you see is **not** the webpage the browser reads: it is the \"parsing\" of the original page. If you want to see the original page you can (in Firefox) right click and select \"View Page Source\". It's a mess. It's a lot of mess. But if you scroll enough you may find that there are information about \"track_id\", \"track_name\", ... It is stored under the label \"attributes\"."
   ]
  },
  {
   "cell_type": "markdown",
   "metadata": {},
   "source": [
    "### Titles\n",
    "\n",
    "First thing first, we would like to get a list of those track titles, so then we'll go and scrape them. Let's see how."
   ]
  },
  {
   "cell_type": "code",
   "execution_count": 12,
   "metadata": {},
   "outputs": [],
   "source": [
    "url_titles <- \"https://www.musixmatch.com/artist/Tool\" # this is the base url from where the scraping starts\n",
    "\n",
    "page_title <- read_html(url_titles)"
   ]
  },
  {
   "cell_type": "markdown",
   "metadata": {},
   "source": [
    "`read_html()` reads and parses the webpage into R. What kind of object have we there?"
   ]
  },
  {
   "cell_type": "code",
   "execution_count": 13,
   "metadata": {},
   "outputs": [
    {
     "data": {
      "text/html": [
       "'list'"
      ],
      "text/latex": [
       "'list'"
      ],
      "text/markdown": [
       "'list'"
      ],
      "text/plain": [
       "[1] \"list\""
      ]
     },
     "metadata": {},
     "output_type": "display_data"
    },
    {
     "name": "stdout",
     "output_type": "stream",
     "text": [
      "List of 2\n",
      " $ node:<externalptr> \n",
      " $ doc :<externalptr> \n",
      " - attr(*, \"class\")= chr [1:2] \"xml_document\" \"xml_node\"\n"
     ]
    }
   ],
   "source": [
    "page_title %>% typeof()\n",
    "page_title %>% glimpse()"
   ]
  },
  {
   "cell_type": "markdown",
   "metadata": {},
   "source": [
    "Mmm, a list: this is how R sees the information in the page. Now it's a good moment to read through this quick introduction to R lists and vectors written by Jenny Brian: https://jennybc.github.io/purrr-tutorial/bk00_vectors-and-lists.html"
   ]
  },
  {
   "cell_type": "code",
   "execution_count": 14,
   "metadata": {},
   "outputs": [
    {
     "data": {
      "text/plain": [
       "{html_document}\n",
       "<html xmlns:og=\"http://ogp.me/ns#\" class=\"artist-page-page\">\n",
       "[1] <head prefix=\"og: http://ogp.me/ns# fb: http://ogp.me/ns/fb# musixmatch:  ...\n",
       "[2] <body spellcheck=\"false\" class=\"\">\\n    <div id=\"fb-root\"></div>\\n    <di ..."
      ]
     },
     "metadata": {},
     "output_type": "display_data"
    }
   ],
   "source": [
    "page_title"
   ]
  },
  {
   "cell_type": "markdown",
   "metadata": {},
   "source": [
    "OK. It's a document. And in particular an XML document. That's sort of html.  \n",
    "We need to parse the xml in a better way than just diving into the text.  \n",
    "The library `xml2` is there excatly for parsing xml into something more humane.  \n",
    "Let's see a bit more of that page: careful, long output coming!"
   ]
  },
  {
   "cell_type": "code",
   "execution_count": 19,
   "metadata": {
    "tags": []
   },
   "outputs": [
    {
     "ename": "ERROR",
     "evalue": "Error in html_structure(.): could not find function \"html_structure\"\n",
     "output_type": "error",
     "traceback": [
      "Error in html_structure(.): could not find function \"html_structure\"\nTraceback:\n",
      "1. page_title %>% html_structure()"
     ]
    }
   ],
   "source": [
    "page_title %>% html_structure()\n"
   ]
  },
  {
   "cell_type": "markdown",
   "metadata": {},
   "source": [
    "What is that? How will we ever find what we need inside there?  \n",
    "![](https://media.giphy.com/media/ZkEXisGbMawMg/giphy.gif)\n",
    "\n",
    "To the browser!\n",
    "Press control+shift+i, you will fire up the \"inspector mode\" (if you are in Firefox).  Press control+shift+c if you are using Chrome.\n",
    "Now press on the button on the left of \"Inspector\" (it's this button ![this button](https://i.imgur.com/g00sN2e.png)).\n",
    "Then move your mouse over the title of a song. As you move it around you'll see that different part of the page get highlighted, and differnt part of the source code too! The highlighted source code of the web page is the code responsible for the object your pointing at.\n",
    "\n",
    "\n",
    "\n",
    "Let's look more carefully at the text source. In particolar, the titles are inside a\n",
    "```html\n",
    "<span>Schism</span>\n",
    "```\n",
    "block. And that block is inside a larger block:\n",
    "```html\n",
    "<a class=\"title\" href=\"/lyrics/Tool/Schism\">\n",
    "    <span>Schism</span></a>`\n",
    "```\n",
    "and, surely enough, even that block is within a larger block and so on untile the largest block of all: the full page.\n",
    "\n",
    "To get to the title we can use that \"class\" tag: they are called _css selectors_, and we will use them as handles to navigate into the extremely complex list that we get from a web page.\n",
    "\n",
    "Sometimes, we can be lucky. For example, the css selector for the titles are in the class \"title\". Let's see."
   ]
  },
  {
   "cell_type": "code",
   "execution_count": 20,
   "metadata": {},
   "outputs": [
    {
     "data": {
      "text/plain": [
       "{xml_nodeset (15)}\n",
       " [1] <a class=\"title\" href=\"/lyrics/Tool/Vicarious\"><span>Vicarious</span></a>\n",
       " [2] <a class=\"title\" href=\"/lyrics/Tool/Schism\"><span>Schism</span></a>\n",
       " [3] <a class=\"title\" href=\"/lyrics/Tool/Sober\"><span>Sober</span></a>\n",
       " [4] <a class=\"title\" href=\"/lyrics/Tool/Forty-Six-2\"><span>Forty Six &amp; 2 ...\n",
       " [5] <a class=\"title\" href=\"/lyrics/Tool/The-Pot\"><span>The Pot</span></a>\n",
       " [6] <a class=\"title\" href=\"/lyrics/Tool/Stinkfist\"><span>Stinkfist</span></a>\n",
       " [7] <a class=\"title\" href=\"/lyrics/Tool/Parabola\"><span>Parabola</span></a>\n",
       " [8] <a class=\"title\" href=\"/lyrics/Tool/Lateralus\"><span>Lateralus</span></a>\n",
       " [9] <a class=\"title\" href=\"/lyrics/Tool/Right-in-Two\"><span>Right in Two</sp ...\n",
       "[10] <a class=\"title\" href=\"/lyrics/Tool/%C3%86nema\"><span>Ænema</span></a>\n",
       "[11] <a class=\"title\" href=\"/lyrics/Tool/Jambi\"><span>Jambi</span></a>\n",
       "[12] <a class=\"title\" href=\"/lyrics/Tool/7empest\"><span>7empest</span></a>\n",
       "[13] <a class=\"title\" href=\"/lyrics/Tool/Pneuma\"><span>Pneuma</span></a>\n",
       "[14] <a class=\"title\" href=\"/lyrics/Tool/The-Grudge\"><span>The Grudge</span></a>\n",
       "[15] <a class=\"title\" href=\"/lyrics/Tool/Fear-Inoculum\"><span>Fear Inoculum</ ..."
      ]
     },
     "metadata": {},
     "output_type": "display_data"
    }
   ],
   "source": [
    "page_title %>%\n",
    "  html_nodes(\".title\") # write .title, with the dot, because we want all results with that tag. Try removing it and see what happens."
   ]
  },
  {
   "cell_type": "markdown",
   "metadata": {},
   "source": [
    "That's still quite a mess: we have too much stuff, such as some links (called \"href\") and more text than we need. Let's clean it up with `html_text()`"
   ]
  },
  {
   "cell_type": "code",
   "execution_count": 21,
   "metadata": {},
   "outputs": [
    {
     "data": {
      "text/html": [
       "<style>\n",
       ".list-inline {list-style: none; margin:0; padding: 0}\n",
       ".list-inline>li {display: inline-block}\n",
       ".list-inline>li:not(:last-child)::after {content: \"\\00b7\"; padding: 0 .5ex}\n",
       "</style>\n",
       "<ol class=list-inline><li>'Vicarious'</li><li>'Schism'</li><li>'Sober'</li><li>'Forty Six &amp; 2'</li><li>'The Pot'</li><li>'Stinkfist'</li><li>'Parabola'</li><li>'Lateralus'</li><li>'Right in Two'</li><li>'Ænema'</li><li>'Jambi'</li><li>'7empest'</li><li>'Pneuma'</li><li>'The Grudge'</li><li>'Fear Inoculum'</li></ol>\n"
      ],
      "text/latex": [
       "\\begin{enumerate*}\n",
       "\\item 'Vicarious'\n",
       "\\item 'Schism'\n",
       "\\item 'Sober'\n",
       "\\item 'Forty Six \\& 2'\n",
       "\\item 'The Pot'\n",
       "\\item 'Stinkfist'\n",
       "\\item 'Parabola'\n",
       "\\item 'Lateralus'\n",
       "\\item 'Right in Two'\n",
       "\\item 'Ænema'\n",
       "\\item 'Jambi'\n",
       "\\item '7empest'\n",
       "\\item 'Pneuma'\n",
       "\\item 'The Grudge'\n",
       "\\item 'Fear Inoculum'\n",
       "\\end{enumerate*}\n"
      ],
      "text/markdown": [
       "1. 'Vicarious'\n",
       "2. 'Schism'\n",
       "3. 'Sober'\n",
       "4. 'Forty Six &amp; 2'\n",
       "5. 'The Pot'\n",
       "6. 'Stinkfist'\n",
       "7. 'Parabola'\n",
       "8. 'Lateralus'\n",
       "9. 'Right in Two'\n",
       "10. 'Ænema'\n",
       "11. 'Jambi'\n",
       "12. '7empest'\n",
       "13. 'Pneuma'\n",
       "14. 'The Grudge'\n",
       "15. 'Fear Inoculum'\n",
       "\n",
       "\n"
      ],
      "text/plain": [
       " [1] \"Vicarious\"     \"Schism\"        \"Sober\"         \"Forty Six & 2\"\n",
       " [5] \"The Pot\"       \"Stinkfist\"     \"Parabola\"      \"Lateralus\"    \n",
       " [9] \"Right in Two\"  \"Ænema\"         \"Jambi\"         \"7empest\"      \n",
       "[13] \"Pneuma\"        \"The Grudge\"    \"Fear Inoculum\""
      ]
     },
     "metadata": {},
     "output_type": "display_data"
    }
   ],
   "source": [
    "page_title %>%\n",
    "  html_nodes(\".title\") %>%\n",
    "  html_text()"
   ]
  },
  {
   "cell_type": "markdown",
   "metadata": {},
   "source": [
    "It looks much better! Now we have 15 song titles. Soon we will have the lyrics!"
   ]
  },
  {
   "cell_type": "code",
   "execution_count": 23,
   "metadata": {},
   "outputs": [
    {
     "data": {
      "text/html": [
       "<table class=\"dataframe\">\n",
       "<caption>A tibble: 1 × 2</caption>\n",
       "<thead>\n",
       "\t<tr><th scope=col>Band</th><th scope=col>Title</th></tr>\n",
       "\t<tr><th scope=col>&lt;chr&gt;</th><th scope=col>&lt;chr&gt;</th></tr>\n",
       "</thead>\n",
       "<tbody>\n",
       "\t<tr><td>Tool</td><td>Sober</td></tr>\n",
       "</tbody>\n",
       "</table>\n"
      ],
      "text/latex": [
       "A tibble: 1 × 2\n",
       "\\begin{tabular}{ll}\n",
       " Band & Title\\\\\n",
       " <chr> & <chr>\\\\\n",
       "\\hline\n",
       "\t Tool & Sober\\\\\n",
       "\\end{tabular}\n"
      ],
      "text/markdown": [
       "\n",
       "A tibble: 1 × 2\n",
       "\n",
       "| Band &lt;chr&gt; | Title &lt;chr&gt; |\n",
       "|---|---|\n",
       "| Tool | Sober |\n",
       "\n"
      ],
      "text/plain": [
       "  Band Title\n",
       "1 Tool Sober"
      ]
     },
     "metadata": {},
     "output_type": "display_data"
    }
   ],
   "source": [
    "SLS_df <- tibble(Band = \"Tool\",\n",
    "                     Title = \"Sober\") # build the Title variable using the code we used above\n",
    "SLS_df"
   ]
  },
  {
   "cell_type": "markdown",
   "metadata": {},
   "source": [
    "We want to recover the links. Look again at what we get when we select the `.title` you may see that the _actual_ link is there, coded as `href`. Can we extract that? Yes we can!"
   ]
  },
  {
   "cell_type": "code",
   "execution_count": 24,
   "metadata": {},
   "outputs": [
    {
     "name": "stdout",
     "output_type": "stream",
     "text": [
      "List of 15\n",
      " $ : Named chr [1:2] \"title\" \"/lyrics/Tool/Vicarious\"\n",
      "  ..- attr(*, \"names\")= chr [1:2] \"class\" \"href\"\n",
      " $ : Named chr [1:2] \"title\" \"/lyrics/Tool/Schism\"\n",
      "  ..- attr(*, \"names\")= chr [1:2] \"class\" \"href\"\n",
      " $ : Named chr [1:2] \"title\" \"/lyrics/Tool/Sober\"\n",
      "  ..- attr(*, \"names\")= chr [1:2] \"class\" \"href\"\n",
      " $ : Named chr [1:2] \"title\" \"/lyrics/Tool/Forty-Six-2\"\n",
      "  ..- attr(*, \"names\")= chr [1:2] \"class\" \"href\"\n",
      " $ : Named chr [1:2] \"title\" \"/lyrics/Tool/The-Pot\"\n",
      "  ..- attr(*, \"names\")= chr [1:2] \"class\" \"href\"\n",
      " $ : Named chr [1:2] \"title\" \"/lyrics/Tool/Stinkfist\"\n",
      "  ..- attr(*, \"names\")= chr [1:2] \"class\" \"href\"\n",
      " $ : Named chr [1:2] \"title\" \"/lyrics/Tool/Parabola\"\n",
      "  ..- attr(*, \"names\")= chr [1:2] \"class\" \"href\"\n",
      " $ : Named chr [1:2] \"title\" \"/lyrics/Tool/Lateralus\"\n",
      "  ..- attr(*, \"names\")= chr [1:2] \"class\" \"href\"\n",
      " $ : Named chr [1:2] \"title\" \"/lyrics/Tool/Right-in-Two\"\n",
      "  ..- attr(*, \"names\")= chr [1:2] \"class\" \"href\"\n",
      " $ : Named chr [1:2] \"title\" \"/lyrics/Tool/%C3%86nema\"\n",
      "  ..- attr(*, \"names\")= chr [1:2] \"class\" \"href\"\n",
      " $ : Named chr [1:2] \"title\" \"/lyrics/Tool/Jambi\"\n",
      "  ..- attr(*, \"names\")= chr [1:2] \"class\" \"href\"\n",
      " $ : Named chr [1:2] \"title\" \"/lyrics/Tool/7empest\"\n",
      "  ..- attr(*, \"names\")= chr [1:2] \"class\" \"href\"\n",
      " $ : Named chr [1:2] \"title\" \"/lyrics/Tool/Pneuma\"\n",
      "  ..- attr(*, \"names\")= chr [1:2] \"class\" \"href\"\n",
      " $ : Named chr [1:2] \"title\" \"/lyrics/Tool/The-Grudge\"\n",
      "  ..- attr(*, \"names\")= chr [1:2] \"class\" \"href\"\n",
      " $ : Named chr [1:2] \"title\" \"/lyrics/Tool/Fear-Inoculum\"\n",
      "  ..- attr(*, \"names\")= chr [1:2] \"class\" \"href\"\n"
     ]
    }
   ],
   "source": [
    "page_title %>%\n",
    "  html_nodes(\".title\") %>%\n",
    "  html_attrs() %>%\n",
    "  glimpse()"
   ]
  },
  {
   "cell_type": "markdown",
   "metadata": {},
   "source": [
    "In particular, we want the element called `href`. Hey, we can get that with (one of) the `map()` function from `purrr`!"
   ]
  },
  {
   "cell_type": "code",
   "execution_count": 26,
   "metadata": {},
   "outputs": [
    {
     "data": {
      "text/html": [
       "<style>\n",
       ".list-inline {list-style: none; margin:0; padding: 0}\n",
       ".list-inline>li {display: inline-block}\n",
       ".list-inline>li:not(:last-child)::after {content: \"\\00b7\"; padding: 0 .5ex}\n",
       "</style>\n",
       "<ol class=list-inline><li>'/lyrics/Tool/Vicarious'</li><li>'/lyrics/Tool/Schism'</li><li>'/lyrics/Tool/Sober'</li><li>'/lyrics/Tool/Forty-Six-2'</li><li>'/lyrics/Tool/The-Pot'</li><li>'/lyrics/Tool/Stinkfist'</li><li>'/lyrics/Tool/Parabola'</li><li>'/lyrics/Tool/Lateralus'</li><li>'/lyrics/Tool/Right-in-Two'</li><li>'/lyrics/Tool/%C3%86nema'</li><li>'/lyrics/Tool/Jambi'</li><li>'/lyrics/Tool/7empest'</li><li>'/lyrics/Tool/Pneuma'</li><li>'/lyrics/Tool/The-Grudge'</li><li>'/lyrics/Tool/Fear-Inoculum'</li></ol>\n"
      ],
      "text/latex": [
       "\\begin{enumerate*}\n",
       "\\item '/lyrics/Tool/Vicarious'\n",
       "\\item '/lyrics/Tool/Schism'\n",
       "\\item '/lyrics/Tool/Sober'\n",
       "\\item '/lyrics/Tool/Forty-Six-2'\n",
       "\\item '/lyrics/Tool/The-Pot'\n",
       "\\item '/lyrics/Tool/Stinkfist'\n",
       "\\item '/lyrics/Tool/Parabola'\n",
       "\\item '/lyrics/Tool/Lateralus'\n",
       "\\item '/lyrics/Tool/Right-in-Two'\n",
       "\\item '/lyrics/Tool/\\%C3\\%86nema'\n",
       "\\item '/lyrics/Tool/Jambi'\n",
       "\\item '/lyrics/Tool/7empest'\n",
       "\\item '/lyrics/Tool/Pneuma'\n",
       "\\item '/lyrics/Tool/The-Grudge'\n",
       "\\item '/lyrics/Tool/Fear-Inoculum'\n",
       "\\end{enumerate*}\n"
      ],
      "text/markdown": [
       "1. '/lyrics/Tool/Vicarious'\n",
       "2. '/lyrics/Tool/Schism'\n",
       "3. '/lyrics/Tool/Sober'\n",
       "4. '/lyrics/Tool/Forty-Six-2'\n",
       "5. '/lyrics/Tool/The-Pot'\n",
       "6. '/lyrics/Tool/Stinkfist'\n",
       "7. '/lyrics/Tool/Parabola'\n",
       "8. '/lyrics/Tool/Lateralus'\n",
       "9. '/lyrics/Tool/Right-in-Two'\n",
       "10. '/lyrics/Tool/%C3%86nema'\n",
       "11. '/lyrics/Tool/Jambi'\n",
       "12. '/lyrics/Tool/7empest'\n",
       "13. '/lyrics/Tool/Pneuma'\n",
       "14. '/lyrics/Tool/The-Grudge'\n",
       "15. '/lyrics/Tool/Fear-Inoculum'\n",
       "\n",
       "\n"
      ],
      "text/plain": [
       " [1] \"/lyrics/Tool/Vicarious\"     \"/lyrics/Tool/Schism\"       \n",
       " [3] \"/lyrics/Tool/Sober\"         \"/lyrics/Tool/Forty-Six-2\"  \n",
       " [5] \"/lyrics/Tool/The-Pot\"       \"/lyrics/Tool/Stinkfist\"    \n",
       " [7] \"/lyrics/Tool/Parabola\"      \"/lyrics/Tool/Lateralus\"    \n",
       " [9] \"/lyrics/Tool/Right-in-Two\"  \"/lyrics/Tool/%C3%86nema\"   \n",
       "[11] \"/lyrics/Tool/Jambi\"         \"/lyrics/Tool/7empest\"      \n",
       "[13] \"/lyrics/Tool/Pneuma\"        \"/lyrics/Tool/The-Grudge\"   \n",
       "[15] \"/lyrics/Tool/Fear-Inoculum\""
      ]
     },
     "metadata": {},
     "output_type": "display_data"
    }
   ],
   "source": [
    "page_title %>%\n",
    "  html_nodes(\".title\") %>%\n",
    "  html_attrs() %>%\n",
    "  map_chr(\"href\") # when we specify map_chr we are telling R that we expect the output to be of character type\n",
    "                  # if it's not, R will complain"
   ]
  },
  {
   "cell_type": "markdown",
   "metadata": {},
   "source": [
    "`purrr` is an extremely powerful library, and we will read and use it more in the next lectures. If in your R experience you have used `apply()` or similar functions (any of the {slvmt}`apply()` or the `XYply()` from `plyr`) read [this](https://jennybc.github.io/purrr-tutorial/bk01_base-functions.html#why_not_base).  \n",
    "\n",
    "If you have no idea what I just spoke about, don't worry.\n",
    "\n",
    "The go to resource to learn about `purrr` and maps is Hadley's [iteration](http://r4ds.had.co.nz/iteration.html) chapter in his R 4 Data Science book. Read especially section 21.5 to 21.8. Another great resource is this tutorial by Rebecca Barter: http://www.rebeccabarter.com/blog/2019-08-19_purrr/\n",
    "\n",
    "We are going to talk more about `purrr` so it's a good investment to read more."
   ]
  },
  {
   "cell_type": "markdown",
   "metadata": {},
   "source": [
    "Yet, we could have let `rvest` do the job for us:"
   ]
  },
  {
   "cell_type": "code",
   "execution_count": 27,
   "metadata": {},
   "outputs": [
    {
     "ename": "ERROR",
     "evalue": "\u001b[1m\u001b[33mError\u001b[39m in \u001b[1m\u001b[1m`mutate()`:\u001b[22m\n\u001b[1m\u001b[22m\u001b[33m!\u001b[39m Problem while computing `Link = page_title %>% html_nodes(\".title\")\n  %>% html_attr(\"href\")`.\n\u001b[31m✖\u001b[39m `Link` must be size 1, not 15.\n",
     "output_type": "error",
     "traceback": [
      "\u001b[1m\u001b[33mError\u001b[39m in \u001b[1m\u001b[1m`mutate()`:\u001b[22m\n\u001b[1m\u001b[22m\u001b[33m!\u001b[39m Problem while computing `Link = page_title %>% html_nodes(\".title\")\n  %>% html_attr(\"href\")`.\n\u001b[31m✖\u001b[39m `Link` must be size 1, not 15.\nTraceback:\n",
      "1. SLS_df %<>% mutate(Link = page_title %>% html_nodes(\".title\") %>% \n .     html_attr(\"href\"))",
      "2. mutate(., Link = page_title %>% html_nodes(\".title\") %>% html_attr(\"href\"))",
      "3. mutate.data.frame(., Link = page_title %>% html_nodes(\".title\") %>% \n .     html_attr(\"href\"))",
      "4. mutate_cols(.data, dplyr_quosures(...), caller_env = caller_env())",
      "5. withCallingHandlers({\n .     for (i in seq_along(dots)) {\n .         context_poke(\"column\", old_current_column)\n .         quosures <- expand_across(dots[[i]])\n .         quosures_results <- vector(mode = \"list\", length = length(quosures))\n .         for (k in seq_along(quosures)) {\n .             quo <- quosures[[k]]\n .             quo_data <- attr(quo, \"dplyr:::data\")\n .             if (!is.null(quo_data$column)) {\n .                 context_poke(\"column\", quo_data$column)\n .             }\n .             chunks <- NULL\n .             result <- NULL\n .             if (quo_is_symbol(quo)) {\n .                 name <- as_string(quo_get_expr(quo))\n .                 if (name %in% names(new_columns)) {\n .                   result <- new_columns[[name]]\n .                   chunks <- mask$resolve(name)\n .                 }\n .                 else if (name %in% names(.data)) {\n .                   result <- .data[[name]]\n .                   chunks <- mask$resolve(name)\n .                 }\n .                 if (inherits(.data, \"rowwise_df\") && vec_is_list(result)) {\n .                   sizes <- list_sizes(result)\n .                   wrong <- which(sizes != 1)\n .                   if (length(wrong)) {\n .                     group <- wrong[1L]\n .                     mask$set_current_group(group)\n .                     abort(class = c(\"dplyr:::mutate_incompatible_size\", \n .                       \"dplyr:::internal_error\"), dplyr_error_data = list(result_size = sizes[group], \n .                       expected_size = 1))\n .                   }\n .                 }\n .             }\n .             else if (!quo_is_symbolic(quo) && !is.null(quo_get_expr(quo))) {\n .                 result <- quo_get_expr(quo)\n .                 result <- withCallingHandlers(vec_recycle(result, \n .                   vec_size(.data)), error = function(cnd) {\n .                   abort(class = c(\"dplyr:::mutate_constant_recycle_error\", \n .                     \"dplyr:::internal_error\"), constant_size = vec_size(result), \n .                     data_size = vec_size(.data))\n .                 })\n .                 chunks <- vec_chop(result, rows)\n .             }\n .             if (is.null(chunks)) {\n .                 if (is.null(quo_data$column)) {\n .                   chunks <- mask$eval_all_mutate(quo)\n .                 }\n .                 else {\n .                   chunks <- withCallingHandlers(mask$eval_all_mutate(quo), \n .                     error = function(cnd) {\n .                       msg <- glue(\"Problem while computing column `{quo_data$name_auto}`.\")\n .                       abort(msg, call = call(\"across\"), parent = cnd)\n .                     })\n .                 }\n .             }\n .             if (is.null(chunks)) {\n .                 next\n .             }\n .             if (is.null(result)) {\n .                 if (length(rows) == 1) {\n .                   result <- chunks[[1]]\n .                 }\n .                 else {\n .                   chunks <- dplyr_vec_cast_common(chunks, quo_data$name_auto)\n .                   result <- vec_unchop(chunks, rows)\n .                 }\n .             }\n .             quosures_results[[k]] <- list(result = result, chunks = chunks)\n .         }\n .         for (k in seq_along(quosures)) {\n .             quo <- quosures[[k]]\n .             quo_data <- attr(quo, \"dplyr:::data\")\n .             quo_result <- quosures_results[[k]]\n .             if (is.null(quo_result)) {\n .                 if (quo_data$is_named) {\n .                   name <- quo_data$name_given\n .                   new_columns[[name]] <- zap()\n .                   mask$remove(name)\n .                 }\n .                 next\n .             }\n .             result <- quo_result$result\n .             chunks <- quo_result$chunks\n .             if (!quo_data$is_named && is.data.frame(result)) {\n .                 types <- vec_ptype(result)\n .                 types_names <- names(types)\n .                 chunks_extracted <- .Call(dplyr_extract_chunks, \n .                   chunks, types)\n .                 for (j in seq_along(types)) {\n .                   mask$add_one(types_names[j], chunks_extracted[[j]], \n .                     result = result[[j]])\n .                 }\n .                 new_columns[types_names] <- result\n .             }\n .             else {\n .                 name <- quo_data$name_auto\n .                 mask$add_one(name = name, chunks = chunks, result = result)\n .                 new_columns[[name]] <- result\n .             }\n .         }\n .     }\n . }, error = function(e) {\n .     local_error_context(dots = dots, .index = i, mask = mask)\n .     bullets <- c(cnd_bullet_header(\"computing\"), mutate_bullets(e))\n .     abort(bullets, class = \"dplyr:::mutate_error\", parent = skip_internal_condition(e), \n .         bullets = bullets, call = error_call)\n . }, warning = function(w) {\n .     if (check_muffled_warning(w)) {\n .         maybe_restart(\"muffleWarning\")\n .     }\n .     local_error_context(dots = dots, .index = i, mask = mask)\n .     warn(c(cnd_bullet_header(\"computing\"), i = cnd_header(w), \n .         i = cnd_bullet_cur_group_label(what = \"warning\")))\n .     maybe_restart(\"muffleWarning\")\n . })",
      "6. mask$eval_all_mutate(quo)",
      "7. dplyr_internal_error(\"dplyr:::mutate_incompatible_size\", list(\n .     result_size = 15L, expected_size = 1L))",
      "8. abort(class = c(class, \"dplyr:::internal_error\"), dplyr_error_data = data)",
      "9. signal_abort(cnd, .file)",
      "10. signalCondition(cnd)",
      "11. (function (e) \n  . {\n  .     local_error_context(dots = dots, .index = i, mask = mask)\n  .     bullets <- c(cnd_bullet_header(\"computing\"), mutate_bullets(e))\n  .     abort(bullets, class = \"dplyr:::mutate_error\", parent = skip_internal_condition(e), \n  .         bullets = bullets, call = error_call)\n  . })(structure(list(message = \"\", trace = structure(list(call = list(\n  .     IRkernel::main(), kernel$run(), handle_shell(), executor$execute(msg), \n  .     tryCatch(evaluate(request$content$code, envir = .GlobalEnv, \n  .         output_handler = oh, stop_on_error = 1L), interrupt = function(cond) {\n  .         log_debug(\"Interrupt during execution\")\n  .         interrupted <<- TRUE\n  .     }, error = .self$handle_error), tryCatchList(expr, classes, \n  .         parentenv, handlers), tryCatchOne(tryCatchList(expr, \n  .         names[-nh], parentenv, handlers[-nh]), names[nh], parentenv, \n  .         handlers[[nh]]), doTryCatch(return(expr), name, parentenv, \n  .         handler), tryCatchList(expr, names[-nh], parentenv, handlers[-nh]), \n  .     tryCatchOne(expr, names, parentenv, handlers[[1L]]), doTryCatch(return(expr), \n  .         name, parentenv, handler), evaluate(request$content$code, \n  .         envir = .GlobalEnv, output_handler = oh, stop_on_error = 1L), \n  .     evaluate_call(expr, parsed$src[[i]], envir = envir, enclos = enclos, \n  .         debug = debug, last = i == length(out), use_try = stop_on_error != \n  .             2L, keep_warning = keep_warning, keep_message = keep_message, \n  .         output_handler = output_handler, include_timing = include_timing), \n  .     timing_fn(handle(ev <- withCallingHandlers(withVisible(eval_with_user_handlers(expr, \n  .         envir, enclos, user_handlers)), warning = wHandler, error = eHandler, \n  .         message = mHandler))), handle(ev <- withCallingHandlers(withVisible(eval_with_user_handlers(expr, \n  .         envir, enclos, user_handlers)), warning = wHandler, error = eHandler, \n  .         message = mHandler)), try(f, silent = TRUE), tryCatch(expr, \n  .         error = function(e) {\n  .             call <- conditionCall(e)\n  .             if (!is.null(call)) {\n  .                 if (identical(call[[1L]], quote(doTryCatch))) \n  .                   call <- sys.call(-4L)\n  .                 dcall <- deparse(call, nlines = 1L)\n  .                 prefix <- paste(\"Error in\", dcall, \": \")\n  .                 LONG <- 75L\n  .                 sm <- strsplit(conditionMessage(e), \"\\n\")[[1L]]\n  .                 w <- 14L + nchar(dcall, type = \"w\") + nchar(sm[1L], \n  .                   type = \"w\")\n  .                 if (is.na(w)) \n  .                   w <- 14L + nchar(dcall, type = \"b\") + nchar(sm[1L], \n  .                     type = \"b\")\n  .                 if (w > LONG) \n  .                   prefix <- paste0(prefix, \"\\n  \")\n  .             }\n  .             else prefix <- \"Error : \"\n  .             msg <- paste0(prefix, conditionMessage(e), \"\\n\")\n  .             .Internal(seterrmessage(msg[1L]))\n  .             if (!silent && isTRUE(getOption(\"show.error.messages\"))) {\n  .                 cat(msg, file = outFile)\n  .                 .Internal(printDeferredWarnings())\n  .             }\n  .             invisible(structure(msg, class = \"try-error\", condition = e))\n  .         }), tryCatchList(expr, classes, parentenv, handlers), \n  .     tryCatchOne(expr, names, parentenv, handlers[[1L]]), doTryCatch(return(expr), \n  .         name, parentenv, handler), withCallingHandlers(withVisible(eval_with_user_handlers(expr, \n  .         envir, enclos, user_handlers)), warning = wHandler, error = eHandler, \n  .         message = mHandler), withVisible(eval_with_user_handlers(expr, \n  .         envir, enclos, user_handlers)), eval_with_user_handlers(expr, \n  .         envir, enclos, user_handlers), eval(expr, envir, enclos), \n  .     eval(expr, envir, enclos), SLS_df %<>% mutate(Link = page_title %>% \n  .         html_nodes(\".title\") %>% html_attr(\"href\")), mutate(., \n  .         Link = page_title %>% html_nodes(\".title\") %>% html_attr(\"href\")), \n  .     mutate.data.frame(., Link = page_title %>% html_nodes(\".title\") %>% \n  .         html_attr(\"href\")), mutate_cols(.data, dplyr_quosures(...), \n  .         caller_env = caller_env()), withCallingHandlers({\n  .         for (i in seq_along(dots)) {\n  .             context_poke(\"column\", old_current_column)\n  .             quosures <- expand_across(dots[[i]])\n  .             quosures_results <- vector(mode = \"list\", length = length(quosures))\n  .             for (k in seq_along(quosures)) {\n  .                 quo <- quosures[[k]]\n  .                 quo_data <- attr(quo, \"dplyr:::data\")\n  .                 if (!is.null(quo_data$column)) {\n  .                   context_poke(\"column\", quo_data$column)\n  .                 }\n  .                 chunks <- NULL\n  .                 result <- NULL\n  .                 if (quo_is_symbol(quo)) {\n  .                   name <- as_string(quo_get_expr(quo))\n  .                   if (name %in% names(new_columns)) {\n  .                     result <- new_columns[[name]]\n  .                     chunks <- mask$resolve(name)\n  .                   }\n  .                   else if (name %in% names(.data)) {\n  .                     result <- .data[[name]]\n  .                     chunks <- mask$resolve(name)\n  .                   }\n  .                   if (inherits(.data, \"rowwise_df\") && vec_is_list(result)) {\n  .                     sizes <- list_sizes(result)\n  .                     wrong <- which(sizes != 1)\n  .                     if (length(wrong)) {\n  .                       group <- wrong[1L]\n  .                       mask$set_current_group(group)\n  .                       abort(class = c(\"dplyr:::mutate_incompatible_size\", \n  .                         \"dplyr:::internal_error\"), dplyr_error_data = list(result_size = sizes[group], \n  .                         expected_size = 1))\n  .                     }\n  .                   }\n  .                 }\n  .                 else if (!quo_is_symbolic(quo) && !is.null(quo_get_expr(quo))) {\n  .                   result <- quo_get_expr(quo)\n  .                   result <- withCallingHandlers(vec_recycle(result, \n  .                     vec_size(.data)), error = function(cnd) {\n  .                     abort(class = c(\"dplyr:::mutate_constant_recycle_error\", \n  .                       \"dplyr:::internal_error\"), constant_size = vec_size(result), \n  .                       data_size = vec_size(.data))\n  .                   })\n  .                   chunks <- vec_chop(result, rows)\n  .                 }\n  .                 if (is.null(chunks)) {\n  .                   if (is.null(quo_data$column)) {\n  .                     chunks <- mask$eval_all_mutate(quo)\n  .                   }\n  .                   else {\n  .                     chunks <- withCallingHandlers(mask$eval_all_mutate(quo), \n  .                       error = function(cnd) {\n  .                         msg <- glue(\"Problem while computing column `{quo_data$name_auto}`.\")\n  .                         abort(msg, call = call(\"across\"), parent = cnd)\n  .                       })\n  .                   }\n  .                 }\n  .                 if (is.null(chunks)) {\n  .                   next\n  .                 }\n  .                 if (is.null(result)) {\n  .                   if (length(rows) == 1) {\n  .                     result <- chunks[[1]]\n  .                   }\n  .                   else {\n  .                     chunks <- dplyr_vec_cast_common(chunks, quo_data$name_auto)\n  .                     result <- vec_unchop(chunks, rows)\n  .                   }\n  .                 }\n  .                 quosures_results[[k]] <- list(result = result, \n  .                   chunks = chunks)\n  .             }\n  .             for (k in seq_along(quosures)) {\n  .                 quo <- quosures[[k]]\n  .                 quo_data <- attr(quo, \"dplyr:::data\")\n  .                 quo_result <- quosures_results[[k]]\n  .                 if (is.null(quo_result)) {\n  .                   if (quo_data$is_named) {\n  .                     name <- quo_data$name_given\n  .                     new_columns[[name]] <- zap()\n  .                     mask$remove(name)\n  .                   }\n  .                   next\n  .                 }\n  .                 result <- quo_result$result\n  .                 chunks <- quo_result$chunks\n  .                 if (!quo_data$is_named && is.data.frame(result)) {\n  .                   types <- vec_ptype(result)\n  .                   types_names <- names(types)\n  .                   chunks_extracted <- .Call(dplyr_extract_chunks, \n  .                     chunks, types)\n  .                   for (j in seq_along(types)) {\n  .                     mask$add_one(types_names[j], chunks_extracted[[j]], \n  .                       result = result[[j]])\n  .                   }\n  .                   new_columns[types_names] <- result\n  .                 }\n  .                 else {\n  .                   name <- quo_data$name_auto\n  .                   mask$add_one(name = name, chunks = chunks, \n  .                     result = result)\n  .                   new_columns[[name]] <- result\n  .                 }\n  .             }\n  .         }\n  .     }, error = function(e) {\n  .         local_error_context(dots = dots, .index = i, mask = mask)\n  .         bullets <- c(cnd_bullet_header(\"computing\"), mutate_bullets(e))\n  .         abort(bullets, class = \"dplyr:::mutate_error\", parent = skip_internal_condition(e), \n  .             bullets = bullets, call = error_call)\n  .     }, warning = function(w) {\n  .         if (check_muffled_warning(w)) {\n  .             maybe_restart(\"muffleWarning\")\n  .         }\n  .         local_error_context(dots = dots, .index = i, mask = mask)\n  .         warn(c(cnd_bullet_header(\"computing\"), i = cnd_header(w), \n  .             i = cnd_bullet_cur_group_label(what = \"warning\")))\n  .         maybe_restart(\"muffleWarning\")\n  .     }), mask$eval_all_mutate(quo), dplyr_internal_error(\"dplyr:::mutate_incompatible_size\", \n  .         `<named list>`), abort(class = c(class, \"dplyr:::internal_error\"), \n  .         dplyr_error_data = data)), parent = c(0L, 1L, 2L, 3L, \n  . 4L, 5L, 6L, 7L, 6L, 9L, 10L, 4L, 12L, 13L, 13L, 15L, 16L, 17L, \n  . 18L, 19L, 13L, 13L, 13L, 23L, 24L, 0L, 0L, 0L, 28L, 29L, 29L, \n  . 0L, 32L), visible = c(TRUE, TRUE, TRUE, TRUE, TRUE, TRUE, TRUE, \n  . TRUE, TRUE, TRUE, TRUE, TRUE, TRUE, TRUE, TRUE, TRUE, TRUE, TRUE, \n  . TRUE, TRUE, TRUE, TRUE, TRUE, TRUE, TRUE, TRUE, TRUE, TRUE, TRUE, \n  . TRUE, TRUE, TRUE, FALSE), namespace = c(\"IRkernel\", NA, \"IRkernel\", \n  . NA, \"base\", \"base\", \"base\", \"base\", \"base\", \"base\", \"base\", \"evaluate\", \n  . \"evaluate\", \"evaluate\", \"evaluate\", \"base\", \"base\", \"base\", \"base\", \n  . \"base\", \"base\", \"base\", \"evaluate\", \"base\", \"base\", NA, \"dplyr\", \n  . \"dplyr\", \"dplyr\", \"base\", NA, \"dplyr\", \"rlang\"), scope = c(\"::\", \n  . NA, \"local\", NA, \"::\", \"local\", \"local\", \"local\", \"local\", \"local\", \n  . \"local\", \"::\", \":::\", \"local\", \"local\", \"::\", \"::\", \"local\", \n  . \"local\", \"local\", \"::\", \"::\", \":::\", \"::\", \"::\", NA, \"::\", \":::\", \n  . \":::\", \"::\", NA, \":::\", \"::\"), error_frame = c(FALSE, FALSE, \n  . FALSE, FALSE, FALSE, FALSE, FALSE, FALSE, FALSE, FALSE, FALSE, \n  . FALSE, FALSE, FALSE, FALSE, FALSE, FALSE, FALSE, FALSE, FALSE, \n  . FALSE, FALSE, FALSE, FALSE, FALSE, FALSE, FALSE, FALSE, FALSE, \n  . FALSE, FALSE, TRUE, FALSE)), row.names = c(NA, -33L), version = 2L, class = c(\"rlang_trace\", \n  . \"rlib_trace\", \"tbl\", \"data.frame\")), parent = NULL, dplyr_error_data = list(\n  .     result_size = 15L, expected_size = 1L), call = dplyr_internal_error(\"dplyr:::mutate_incompatible_size\", \n  .     list(result_size = 15L, expected_size = 1L)), use_cli_format = TRUE), class = c(\"dplyr:::mutate_incompatible_size\", \n  . \"dplyr:::internal_error\", \"rlang_error\", \"error\", \"condition\"\n  . )))",
      "12. abort(bullets, class = \"dplyr:::mutate_error\", parent = skip_internal_condition(e), \n  .     bullets = bullets, call = error_call)",
      "13. signal_abort(cnd, .file)"
     ]
    }
   ],
   "source": [
    "SLS_df %<>% # the %<>% is from magrittr, it corresponds to SLS_df <- SLS_df %>% ...\n",
    "  mutate(Link = page_title %>%\n",
    "  html_nodes(\".title\") %>%\n",
    "  html_attr(\"href\"))\n",
    "\n",
    "SLS_df"
   ]
  },
  {
   "cell_type": "markdown",
   "metadata": {},
   "source": [
    "\n",
    "Cool, we don't gain much in terms of line of code, but it will be usefull later!"
   ]
  },
  {
   "cell_type": "markdown",
   "metadata": {},
   "source": [
    "### And `purrr`!\n",
    "\n",
    "Cool, now we want to put grab all lyrics. Let's start with one at a time. What is the url we want?"
   ]
  },
  {
   "cell_type": "code",
   "execution_count": 28,
   "metadata": {},
   "outputs": [
    {
     "name": "stderr",
     "output_type": "stream",
     "text": [
      "Warning message:\n",
      "“Unknown or uninitialised column: `Link`.”\n"
     ]
    }
   ],
   "source": [
    "url_song <- glue(\"https://www.musixmatch.com{SLS_df$Link[11]}\")\n",
    "\n",
    "url_song"
   ]
  },
  {
   "cell_type": "markdown",
   "metadata": {},
   "source": [
    "Hey, ps, `glue()` is basically a much better version of `paste()`. Take a look [here](https://glue.tidyverse.org) if you are curious about it."
   ]
  },
  {
   "cell_type": "markdown",
   "metadata": {},
   "source": [
    "And let's grab the lyrics for that song.  \n",
    "Open that page in you browser, control+shift+i and poit to the lyrics.  \n",
    "The content is marked by a css selector called \"p.mxm-lyrics__content\". That stands for \"p\", an object of class paragraph, plus \"mxm-lyrics__content\", the specific class for the lyrics."
   ]
  },
  {
   "cell_type": "code",
   "execution_count": 29,
   "metadata": {},
   "outputs": [
    {
     "ename": "ERROR",
     "evalue": "Error: Document is empty\n",
     "output_type": "error",
     "traceback": [
      "Error: Document is empty\nTraceback:\n",
      "1. url_song %>% read_html() %>% html_nodes(\".mxm-lyrics__content\") %>% \n .     html_text()",
      "2. html_text(.)",
      "3. xml_text(x, trim = trim)",
      "4. html_nodes(., \".mxm-lyrics__content\")",
      "5. html_elements(...)",
      "6. read_html(.)",
      "7. read_html.default(.)",
      "8. suppressWarnings(read_xml(x, encoding = encoding, ..., as_html = TRUE, \n .     options = options))",
      "9. withCallingHandlers(expr, warning = function(w) if (inherits(w, \n .     classes)) tryInvokeRestart(\"muffleWarning\"))",
      "10. read_xml(x, encoding = encoding, ..., as_html = TRUE, options = options)",
      "11. read_xml.character(x, encoding = encoding, ..., as_html = TRUE, \n  .     options = options)",
      "12. stop(\"Document is empty\", call. = FALSE)"
     ]
    }
   ],
   "source": [
    "url_song %>%\n",
    "  read_html() %>%\n",
    "  html_nodes(\".mxm-lyrics__content\") %>%\n",
    "  html_text()"
   ]
  },
  {
   "cell_type": "markdown",
   "metadata": {},
   "source": [
    "Ach, notice that it comes in different blocks: one for each section of text (if you look the original page in your browser you'll see the lyrics is split by the advertisment). Well, we can just `glue_collapse()` them together with `glue`. As we are doing this, let's turn that flow into a function:"
   ]
  },
  {
   "cell_type": "code",
   "execution_count": 30,
   "metadata": {},
   "outputs": [],
   "source": [
    "get_lyrics <- function(link){\n",
    "  \n",
    "  lyrics_chunks <- glue(\"https://www.musixmatch.com{link}#\") %>%\n",
    "   read_html() %>%\n",
    "   html_nodes(\".mxm-lyrics__content\")\n",
    "  \n",
    "  # we do a sanity check to see that there's something inside the lyrics!\n",
    "  stopifnot(length(lyrics_chunks) > 0)\n",
    "  \n",
    "  lyrics <- lyrics_chunks %>%\n",
    "   html_text() %>%\n",
    "   glue_collapse(sep =  \"\\n\")\n",
    "  \n",
    "  return(lyrics)\n",
    "}"
   ]
  },
  {
   "cell_type": "markdown",
   "metadata": {},
   "source": [
    "Let's test it!\n"
   ]
  },
  {
   "cell_type": "code",
   "execution_count": 31,
   "metadata": {},
   "outputs": [
    {
     "name": "stderr",
     "output_type": "stream",
     "text": [
      "Warning message:\n",
      "“Unknown or uninitialised column: `Link`.”\n"
     ]
    },
    {
     "ename": "ERROR",
     "evalue": "Error: Document is empty\n",
     "output_type": "error",
     "traceback": [
      "Error: Document is empty\nTraceback:\n",
      "1. SLS_df$Link[1] %>% get_lyrics() %>% print()",
      "2. print(.)",
      "3. get_lyrics(.)",
      "4. glue(\"https://www.musixmatch.com{link}#\") %>% read_html() %>% \n .     html_nodes(\".mxm-lyrics__content\")   # at line 3-5 of file <text>",
      "5. html_nodes(., \".mxm-lyrics__content\")",
      "6. html_elements(...)",
      "7. read_html(.)",
      "8. read_html.default(.)",
      "9. suppressWarnings(read_xml(x, encoding = encoding, ..., as_html = TRUE, \n .     options = options))",
      "10. withCallingHandlers(expr, warning = function(w) if (inherits(w, \n  .     classes)) tryInvokeRestart(\"muffleWarning\"))",
      "11. read_xml(x, encoding = encoding, ..., as_html = TRUE, options = options)",
      "12. read_xml.character(x, encoding = encoding, ..., as_html = TRUE, \n  .     options = options)",
      "13. stop(\"Document is empty\", call. = FALSE)"
     ]
    }
   ],
   "source": [
    "SLS_df$Link[1] %>%\n",
    "  get_lyrics() %>%\n",
    "  print()"
   ]
  },
  {
   "cell_type": "markdown",
   "metadata": {},
   "source": [
    "Now we can use purrr to map that function over our dataframe! Let's do that only for the top 4 tracks in our list."
   ]
  },
  {
   "cell_type": "code",
   "execution_count": 32,
   "metadata": {},
   "outputs": [
    {
     "ename": "ERROR",
     "evalue": "\u001b[1m\u001b[33mError\u001b[39m in \u001b[1m\u001b[1m`mutate()`:\u001b[22m\n\u001b[1m\u001b[22m\u001b[33m!\u001b[39m Problem while computing `Lyrics = map_chr(Link, get_lyrics)`.\n\u001b[1mCaused by error in \u001b[1m\u001b[1m`map_chr()`:\u001b[22m\n\u001b[33m!\u001b[39m object 'Link' not found\n",
     "output_type": "error",
     "traceback": [
      "\u001b[1m\u001b[33mError\u001b[39m in \u001b[1m\u001b[1m`mutate()`:\u001b[22m\n\u001b[1m\u001b[22m\u001b[33m!\u001b[39m Problem while computing `Lyrics = map_chr(Link, get_lyrics)`.\n\u001b[1mCaused by error in \u001b[1m\u001b[1m`map_chr()`:\u001b[22m\n\u001b[33m!\u001b[39m object 'Link' not found\nTraceback:\n",
      "1. SLS_df %>% slice(1:4) %>% mutate(Lyrics = map_chr(Link, get_lyrics))",
      "2. mutate(., Lyrics = map_chr(Link, get_lyrics))",
      "3. mutate.data.frame(., Lyrics = map_chr(Link, get_lyrics))",
      "4. mutate_cols(.data, dplyr_quosures(...), caller_env = caller_env())",
      "5. withCallingHandlers({\n .     for (i in seq_along(dots)) {\n .         context_poke(\"column\", old_current_column)\n .         quosures <- expand_across(dots[[i]])\n .         quosures_results <- vector(mode = \"list\", length = length(quosures))\n .         for (k in seq_along(quosures)) {\n .             quo <- quosures[[k]]\n .             quo_data <- attr(quo, \"dplyr:::data\")\n .             if (!is.null(quo_data$column)) {\n .                 context_poke(\"column\", quo_data$column)\n .             }\n .             chunks <- NULL\n .             result <- NULL\n .             if (quo_is_symbol(quo)) {\n .                 name <- as_string(quo_get_expr(quo))\n .                 if (name %in% names(new_columns)) {\n .                   result <- new_columns[[name]]\n .                   chunks <- mask$resolve(name)\n .                 }\n .                 else if (name %in% names(.data)) {\n .                   result <- .data[[name]]\n .                   chunks <- mask$resolve(name)\n .                 }\n .                 if (inherits(.data, \"rowwise_df\") && vec_is_list(result)) {\n .                   sizes <- list_sizes(result)\n .                   wrong <- which(sizes != 1)\n .                   if (length(wrong)) {\n .                     group <- wrong[1L]\n .                     mask$set_current_group(group)\n .                     abort(class = c(\"dplyr:::mutate_incompatible_size\", \n .                       \"dplyr:::internal_error\"), dplyr_error_data = list(result_size = sizes[group], \n .                       expected_size = 1))\n .                   }\n .                 }\n .             }\n .             else if (!quo_is_symbolic(quo) && !is.null(quo_get_expr(quo))) {\n .                 result <- quo_get_expr(quo)\n .                 result <- withCallingHandlers(vec_recycle(result, \n .                   vec_size(.data)), error = function(cnd) {\n .                   abort(class = c(\"dplyr:::mutate_constant_recycle_error\", \n .                     \"dplyr:::internal_error\"), constant_size = vec_size(result), \n .                     data_size = vec_size(.data))\n .                 })\n .                 chunks <- vec_chop(result, rows)\n .             }\n .             if (is.null(chunks)) {\n .                 if (is.null(quo_data$column)) {\n .                   chunks <- mask$eval_all_mutate(quo)\n .                 }\n .                 else {\n .                   chunks <- withCallingHandlers(mask$eval_all_mutate(quo), \n .                     error = function(cnd) {\n .                       msg <- glue(\"Problem while computing column `{quo_data$name_auto}`.\")\n .                       abort(msg, call = call(\"across\"), parent = cnd)\n .                     })\n .                 }\n .             }\n .             if (is.null(chunks)) {\n .                 next\n .             }\n .             if (is.null(result)) {\n .                 if (length(rows) == 1) {\n .                   result <- chunks[[1]]\n .                 }\n .                 else {\n .                   chunks <- dplyr_vec_cast_common(chunks, quo_data$name_auto)\n .                   result <- vec_unchop(chunks, rows)\n .                 }\n .             }\n .             quosures_results[[k]] <- list(result = result, chunks = chunks)\n .         }\n .         for (k in seq_along(quosures)) {\n .             quo <- quosures[[k]]\n .             quo_data <- attr(quo, \"dplyr:::data\")\n .             quo_result <- quosures_results[[k]]\n .             if (is.null(quo_result)) {\n .                 if (quo_data$is_named) {\n .                   name <- quo_data$name_given\n .                   new_columns[[name]] <- zap()\n .                   mask$remove(name)\n .                 }\n .                 next\n .             }\n .             result <- quo_result$result\n .             chunks <- quo_result$chunks\n .             if (!quo_data$is_named && is.data.frame(result)) {\n .                 types <- vec_ptype(result)\n .                 types_names <- names(types)\n .                 chunks_extracted <- .Call(dplyr_extract_chunks, \n .                   chunks, types)\n .                 for (j in seq_along(types)) {\n .                   mask$add_one(types_names[j], chunks_extracted[[j]], \n .                     result = result[[j]])\n .                 }\n .                 new_columns[types_names] <- result\n .             }\n .             else {\n .                 name <- quo_data$name_auto\n .                 mask$add_one(name = name, chunks = chunks, result = result)\n .                 new_columns[[name]] <- result\n .             }\n .         }\n .     }\n . }, error = function(e) {\n .     local_error_context(dots = dots, .index = i, mask = mask)\n .     bullets <- c(cnd_bullet_header(\"computing\"), mutate_bullets(e))\n .     abort(bullets, class = \"dplyr:::mutate_error\", parent = skip_internal_condition(e), \n .         bullets = bullets, call = error_call)\n . }, warning = function(w) {\n .     if (check_muffled_warning(w)) {\n .         maybe_restart(\"muffleWarning\")\n .     }\n .     local_error_context(dots = dots, .index = i, mask = mask)\n .     warn(c(cnd_bullet_header(\"computing\"), i = cnd_header(w), \n .         i = cnd_bullet_cur_group_label(what = \"warning\")))\n .     maybe_restart(\"muffleWarning\")\n . })",
      "6. mask$eval_all_mutate(quo)",
      "7. map_chr(Link, get_lyrics)",
      "8. .handleSimpleError(function (e) \n . {\n .     local_error_context(dots = dots, .index = i, mask = mask)\n .     bullets <- c(cnd_bullet_header(\"computing\"), mutate_bullets(e))\n .     abort(bullets, class = \"dplyr:::mutate_error\", parent = skip_internal_condition(e), \n .         bullets = bullets, call = error_call)\n . }, \"object 'Link' not found\", base::quote(map_chr(Link, get_lyrics)))",
      "9. h(simpleError(msg, call))",
      "10. abort(bullets, class = \"dplyr:::mutate_error\", parent = skip_internal_condition(e), \n  .     bullets = bullets, call = error_call)",
      "11. signal_abort(cnd, .file)"
     ]
    }
   ],
   "source": [
    "SLS_df_top <- SLS_df %>%\n",
    "  slice(1:4) %>%\n",
    "  mutate(Lyrics = map_chr(Link, get_lyrics))\n",
    "SLS_df_top"
   ]
  },
  {
   "cell_type": "markdown",
   "metadata": {},
   "source": [
    "Ok, here we were quite lucky, as all the links were right and all the first 4 songs had some lyrics. But that's not always the case. We can see that if we try to run the previous code on the full dataframe."
   ]
  },
  {
   "cell_type": "code",
   "execution_count": null,
   "metadata": {},
   "outputs": [],
   "source": [
    "SLS_df %>%\n",
    "  mutate(Lyrics = map_chr(Link, get_lyrics))"
   ]
  },
  {
   "cell_type": "markdown",
   "metadata": {},
   "source": [
    "In general we may want to play safe. To be safe, we ca use a `possibly` \"wrapper\" (from`purrr`) so not to have to stop everything in case something bad happens."
   ]
  },
  {
   "cell_type": "code",
   "execution_count": null,
   "metadata": {},
   "outputs": [],
   "source": [
    "get_lyrics_safe <- purrr::possibly(.f = get_lyrics, # the function that we want to make safer\n",
    "                                   otherwise = NA_character_) # the value we get back if .f fails"
   ]
  },
  {
   "cell_type": "markdown",
   "metadata": {},
   "source": [
    "The following line applies the \"get_lyrics_safe\" in the context of our \"Beastwars example\". In this case, we did not have any errors, but the function will make more sense for the challenge of using other band names."
   ]
  },
  {
   "cell_type": "code",
   "execution_count": null,
   "metadata": {},
   "outputs": [],
   "source": [
    "SLS_df %<>%\n",
    "  mutate(Lyrics = map_chr(Link, get_lyrics_safe))\n",
    "\n",
    "SLS_df"
   ]
  },
  {
   "cell_type": "markdown",
   "metadata": {},
   "source": [
    "### The flow\n",
    "\n",
    "**Explore, try, test, automatize, test.**\n",
    "\n",
    "Scraping data from the web will require a lot of trial and error. In general, I like this flow: I explore the pages that I want to scrape, trying to identify patterns that I can exploit. Then I try, on a smaller subset, and I test if it worked. Then I automatize it, using `purrr` or something similar. And finally some more testing.\n",
    "\n",
    "#### Exercise: Another Artist\n",
    "\n",
    "Let's do this for some other artist, like \"Angel Haze\". Notice that in this case we **must** use the attributes (\"href\") from the web page, as the name of the authors of the lyrics is not always the same (the `glue` approach would fail).\n"
   ]
  },
  {
   "cell_type": "markdown",
   "metadata": {},
   "source": [
    "### Challenge: pack it in a function\n",
    "\n",
    "We have been scraping using a the same flow at least two artists. Our motto is that if we do something twice, we turn it into a function. So... let's turn the flow into a function. You have all the bits already there in the previous cells, and here I give you a boilerplate that you will have to fill in. When you see `----` in the code, that means it's up to you to do the job!"
   ]
  },
  {
   "cell_type": "code",
   "execution_count": null,
   "metadata": {},
   "outputs": [],
   "source": [
    "get_words <- function(band_name){\n",
    "\n",
    "  # remove white space from band name and substitute them with a dash\n",
    "  collapsed_name <- str_replace_all(band_name, \" \", \"-\") # this line uses a function from stringr\n",
    "  # define url to get the title and links\n",
    "  url <- glue(\"https://www.musixmatch.com/artist/{collapsed_name}\")\n",
    "  \n",
    "  # read title page and extract the title chunks \n",
    "  list_of_titles <- url %>%\n",
    "                    ----- #  How do we extract the list of titles from the first page?\n",
    "  \n",
    "  # and we build the dataframe\n",
    "  lyrics <- tibble(Band = band_name,\n",
    "                       # extract text title\n",
    "                       Title = list_of_titles %>% ---- # we want only the text of the title, not all the html overhead,\n",
    "                       # extract title link\n",
    "                       Link =  list_of_titles %>% ---- # and we need the link to the page\n",
    "                       # map to get lyrics\n",
    "                       Lyrics = ---- # here is where we do the main job, using get_lyrics_safe()\n",
    "                      ) \n",
    "  \n",
    "  return(lyrics)\n",
    "}"
   ]
  },
  {
   "cell_type": "markdown",
   "metadata": {},
   "source": [
    "Once you a function that you think it's working, test it on a couple of artists and check whether it's working properly."
   ]
  },
  {
   "cell_type": "code",
   "execution_count": null,
   "metadata": {},
   "outputs": [],
   "source": [
    "ATCR_words <- \"A Tribe Called Red\" %>% get_words()"
   ]
  },
  {
   "cell_type": "code",
   "execution_count": null,
   "metadata": {},
   "outputs": [],
   "source": [
    "AW_words <- \"Alien Weaponry\" %>% get_words()"
   ]
  },
  {
   "cell_type": "code",
   "execution_count": null,
   "metadata": {},
   "outputs": [],
   "source": [
    "# your tests here."
   ]
  },
  {
   "cell_type": "markdown",
   "metadata": {},
   "source": [
    "## The words, the soul\n",
    "\n",
    "Now that we have a collection of lyrics, it would be a pity not doing anything with them ;-)\n",
    "\n",
    "So, we will do some quick and dirty sentiment analysis. The idea is to attribute to each word a score, expressing wether it's more negative and positive, and then to sum up all the word values in a song: the result will give us a first approximation to the song general mood. To do this, we are going to use Julia Silge's and David Robinson's great [_Tidytext_](https://github.com/juliasilge/tidytext) library and a _vocabulary_ of words for which we have the scores (there are different options, we are using \"afinn\")."
   ]
  },
  {
   "cell_type": "code",
   "execution_count": null,
   "metadata": {},
   "outputs": [],
   "source": [
    "#install.packages(\"textdata\") # a framework to download, parse, and store text datasets on the disk and load them when needed.\n",
    "#install.packages(\"tidytext\")\n",
    "library(tidytext)\n",
    "library(textdata)"
   ]
  },
  {
   "cell_type": "markdown",
   "metadata": {},
   "source": [
    "The positivity/negativity values for the words are in a dictionary called \"afinn\". Warning: you may need to run R from the terminal and execute the following lines of code. "
   ]
  },
  {
   "cell_type": "code",
   "execution_count": null,
   "metadata": {},
   "outputs": [],
   "source": [
    "afinn <- get_sentiments(\"afinn\")\n",
    "afinn %>% sample_n(5)"
   ]
  },
  {
   "cell_type": "markdown",
   "metadata": {},
   "source": [
    "Now, a bit of data wrangling: we breaks the lyrics into words, remove the words that are considered not interesting (they are called \"stop words\"), stitch the dataframe to the scoress from afinn, and do the math for each song."
   ]
  },
  {
   "cell_type": "markdown",
   "metadata": {},
   "source": [
    "This workthrough is loosely inspired by Max Humber's [post](https://www.r-bloggers.com/fantasy-hockey-with-rvest-and-purrr/). Another reference [here](https://www.tidytextmining.com/sentiment.html). Great things in these resources, errors are mine. Read those posts, there is a lot to learn!"
   ]
  },
  {
   "cell_type": "markdown",
   "metadata": {},
   "source": [
    "The stop words are words we consider not important for the analysis because they are too common. They are in a dictionary (a dataframe indeed) called `stop_words`. Whether or not to remove them when doing any analysis, is up to the researcher best judgement."
   ]
  },
  {
   "cell_type": "code",
   "execution_count": null,
   "metadata": {},
   "outputs": [],
   "source": [
    "stop_words %>% sample_n(10)"
   ]
  },
  {
   "cell_type": "markdown",
   "metadata": {},
   "source": [
    "### Challenge, fill in the code below"
   ]
  },
  {
   "cell_type": "code",
   "execution_count": null,
   "metadata": {},
   "outputs": [],
   "source": [
    "SLS_df %>%\n",
    "  unnest_tokens(word, Lyrics) %>% #split words\n",
    "# we use a _join function to remove dull words. Which function?\n",
    "  ----(stop_words, by = ---) %>% # which column will we use to do the join?\n",
    "# we use another _join function to stitch the scores from afinn to words in our lyrics.\n",
    "# Which function?\n",
    "  ----(afinn, by = ---) %>% # which column will we use to do the join?\n",
    "#and for each song we do the math\n",
    "  group_by(---) %>% # we group by... by what?\n",
    "  ----(Length = n(), # which functions allows you to reduce the all the rows in a dataframe into a single one?\n",
    "    Score = sum(value)/Length) %>%\n",
    "  arrange(-Score)"
   ]
  },
  {
   "cell_type": "markdown",
   "metadata": {},
   "source": [
    "Once you have done it, try it on a couple of lyrics collections. Then, turn the flow into a reusable flow. Once again, I give you the boilerplate:"
   ]
  },
  {
   "cell_type": "code",
   "execution_count": null,
   "metadata": {},
   "outputs": [],
   "source": [
    "get_soul <- . %>%\n",
    "  unnest_tokens(word, Lyrics) %>% \n",
    "  ----(stop_words, by = ---) %>% \n",
    "  ----(afinn, by = ---) %>% \n",
    "  group_by(---) %>% \n",
    "  ----(Length = n(), \n",
    "    Score = sum(value)/Length) %>%\n",
    "  arrange(-Score)"
   ]
  },
  {
   "cell_type": "markdown",
   "metadata": {},
   "source": [
    "And try that on some artists:"
   ]
  },
  {
   "cell_type": "code",
   "execution_count": null,
   "metadata": {},
   "outputs": [],
   "source": [
    "\"Billie Holiday\" %>% get_words() %>% get_soul()\n",
    "\"Nina Simone\" %>% get_words() %>% get_soul()"
   ]
  },
  {
   "cell_type": "markdown",
   "metadata": {},
   "source": [
    "Try to assess your results: do they seem to make sense?"
   ]
  },
  {
   "cell_type": "markdown",
   "metadata": {},
   "source": [
    "# APIs"
   ]
  },
  {
   "cell_type": "markdown",
   "metadata": {},
   "source": [
    "In the previous lab we saw how you can use the WWW as a source of data, even when the information presented is not there for the purpose of data analysis (i.e., it is there for you as a browser to read it).\n",
    "\n",
    "Sometimes, though, you are lucky and the data source you're after will have an **API** set up so that you don't need to scrape it. An **API** is a detailed and rigorous set of rules that you must use in order to get something from a server.\n",
    "\n",
    "In particular, many APIs in the web gives you back if you write the _right_ url.\n",
    "\n",
    "Consider searching \"something\" on http://www.duckduckgo.com. If you take a look at the result page, you will see that the url is something like:  \n",
    "https://duckduckgo.com/?q=something&t=h_&ia=about\n",
    "\n",
    "The part before the `?` is the _base url_, the human readable name of the _server_ that is giving you the data. what is after the `?` defines the various argument of the duckduckgo API. `q` probably stands for \"query\", and after the `=` is where you put the terms you are looking for; `&` separates various arguments; `t` and `ia` define other aspects of the behaviour of the search engine.\n",
    "\n",
    "You can pass more arguments, and change the behaviour of the server. For example, in duckduckgo we can appen a `format=xml` to get the data in an xml format (instead of the html format with all the fancy visualization stuff). We may do it because the xml format **is** intended for programmatic data extraction and we are trying to get that data. Try to browse to:\n",
    "\n",
    "https://duckduckgo.com/?q=something&t=h_&ia=about&format=xml\n",
    "\n",
    "Try a couple of other websites, you will notice that the `?argument=values` format is very common. Websites offering API for accessing their data often have a lot of information about how to do it.\n",
    "\n",
    "For example, duckduckgo's API is explained here: https://duckduckgo.com/api\n",
    "\n",
    "A great resources to learn about what are APIs is https://zapier.com/learn/apis/."
   ]
  },
  {
   "cell_type": "markdown",
   "metadata": {},
   "source": [
    "### httr\n",
    "\n",
    "The tool of the trade for APIs interaction in R is the library `httr`. Get familiar with it reading the [introduction](http://httr.r-lib.org/articles/quickstart.html). If you are unfamiliar with how HTTP works (the common underlaying network protocol that rules the web) read also the two resources suggested at the start of the introduction. Or maybe ask your peer to explain you a bit."
   ]
  },
  {
   "cell_type": "markdown",
   "metadata": {},
   "source": [
    "### API in the zoo\n",
    "\n",
    "The website [numbersapi](http://www.numbersapi.com) offers a funny example to try and use a RESTful API. (You can use *different* APIs, take a look at [programmableweb](http://programmableweb.com) for a selection of available ones, and I actually encourage you to choose a different example if you are already familiar with the concept.)\n",
    "\n",
    "Using some tool to deal with strings (I like `glue`, but you can do this stuff with the base `paste` if you are more comfy) write some examples of interaction with numbersapi (tl;dr, write some query string and feed it to `httr`'s `GET`: e.g., `GET(\"http://www.colourlovers.com/api/color/6B4106?format=xml\")`).\n",
    "\n",
    "_kudos if you use an APIs that allows you to POST, PUT, DELETE, ... instead of just GETting._"
   ]
  },
  {
   "cell_type": "markdown",
   "metadata": {},
   "source": [
    "### API in the zoo but tamed\n",
    "\n",
    "Dealing with strings is not ideal: you need to tweak theme everytime you want to perform a different query, and that opens the door to errors. Also, our credo is that everytime we have to repeat some task, it's better to write a function for it.\n",
    "\n",
    "Thus, write wrapper functions to perform the queries you wrote in the previous exercise. Try and write both very specific, _atomic_, functions that do just one very specific thing, and some more general function that can do more than one thing combining the more atomic functions together.\n",
    "\n",
    "For example, if you are using the numbersapi, write both something like `get_integer_math()` that only allows you to query `[integer]/math` (e.g., Ramanujan's taxi plate [1729](http://numbersapi.com/1729/math)); and something like `get_number_type()` which allows for different types specifications (trivia, math, date, or year).\n",
    "\n",
    "_kudos if these functions check the inputs (e.g., for `get_integer_math`, the function checks wether the input is indeed an integer and returns an error otherwise) and handles the eventual errors risen by the APIs._\n"
   ]
  },
  {
   "cell_type": "markdown",
   "metadata": {},
   "source": [
    "### API authorized\n",
    "\n",
    "Not all APIs are free and completely open to everybody. Some of them require an autentification/authorization step: the server that is responding to your query wants to know who you are, because certain services are available only to some users.\n",
    "\n",
    "A common method of authentification is called `OAuth` or `OAuth2.0` (if you are very curious, see [here](https://en.wikipedia.org/wiki/OAuth). `httr` has functions to create and handle ouaths. See this [paragraph](http://httr.r-lib.org/articles/api-packages.html#authentication) or read more [here](https://support.rstudio.com/hc/en-us/articles/217952868-Generating-OAuth-tokens-for-a-server-using-httr).\n",
    "\n",
    "Register on https://developer.twitter.com/, obtain the _secrets_, register an app (it does not matter which website you provide) and write the code to connect to it (see [here](https://developer.twitter.com/) for more details)."
   ]
  },
  {
   "cell_type": "markdown",
   "metadata": {},
   "source": [
    "### API in the wild\n",
    "\n",
    "Sometimes you are fortunate enought that the information you are looking for is provided by a website through an API. This is a somewhat open ended exercise. The first one you encounter in this labs, but now you are grown up. We ask you to _pull_ data from an API of your choice, do some simple wrangling (and some super simple analysis if you really want) and visualize your result.\n",
    "\n",
    "The focus of the exercise is on the interaction with the API you chose, not so much the visualization. We would like to see that you did some complex query in a programmatic fashion (that is, not by hand-writing the query but using a function to do that for you).\n",
    "\n",
    "Some possible APIs you can use are (in order of what-Giulio-likes):\n",
    "\n",
    "* digitalnz [API](https://digitalnz.org/developers) get cultural, education and gov data from NZ. It contains many different API. Some of them require authentification and/or subscription (a good one is the DOC [campsites and huts](https://api.doc.govt.nz) api).\n",
    "* [Geonet](https://api.geonet.org.nz/) for geological hazard information\n",
    "* [Trademe](https://developer.trademe.co.nz/) very nice one, but not supereasy to get the autentification done (this [queries](https://developer.trademe.co.nz/api-reference/catalogue-methods/) do not require auth).\n",
    "* all of thise [references](https://www.programmableweb.com/category/reference/api) APIs are (probably, I did not check ALL of them) good examples.\n",
    "* [GDELT](https://blog.gdeltproject.org/gdelt-geo-2-0-api-debuts/) This is a rewarding, yet **tough**, API. Take a look at [leaflet](https://rstudio.github.io/leaflet/json.html) for an idea on how to use what you get back from GDELT. Also, Alex Bresler has started working on an [R wrapper](https://github.com/abresler/gdeltr2) that may get you inspired.\n",
    "* [car2go](https://github.com/car2go/openAPI) (requires [registration](https://github.com/car2go/openAPI/wiki/Access-protected-Functions-via-OAuth-1.0#registration-as-consumer))\n",
    "* [Quandl](https://www.quandl.com/docs/api)\n",
    "* [Lufthansa](https://developer.lufthansa.com/docs) most methods are open, so good one if you don't want to deal with authentification.\n",
    "\n",
    "##### Let's do the JSON dance\n",
    "\n",
    "Many website returns JSON files when you query them. Json is similar to the XML (of which HTML is an example) in that it is a **tree** (not tabular nor relational) data format. Roughly speaking, it is a list of lists of lists of ... `purrr` is very handy when you want to extract information from a JSON file. But do see also the `jsonlite` package, [intro here](https://cran.r-project.org/web/packages/jsonlite/vignettes/json-aaquickstart.html). If you are lost trying to wrangle the results you get from these APIs, consider working through Jenny Brian's [tutorial on purrr](https://jennybc.github.io/purrr-tutorial/ex26_ny-food-market-json.html). Additional material here: https://www.zevross.com/blog/2019/06/11/the-power-of-three-purrr-poseful-iteration-in-r-with-map-pmap-and-imap/"
   ]
  },
  {
   "cell_type": "code",
   "execution_count": null,
   "metadata": {},
   "outputs": [],
   "source": []
  }
 ],
 "metadata": {
  "kernelspec": {
   "display_name": "R",
   "language": "R",
   "name": "ir"
  },
  "language_info": {
   "codemirror_mode": "r",
   "file_extension": ".r",
   "mimetype": "text/x-r-source",
   "name": "R",
   "pygments_lexer": "r",
   "version": "4.2.1"
  }
 },
 "nbformat": 4,
 "nbformat_minor": 4
}
